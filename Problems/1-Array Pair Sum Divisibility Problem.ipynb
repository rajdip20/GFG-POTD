{
 "cells": [
  {
   "cell_type": "markdown",
   "metadata": {},
   "source": [
    "Given an array of integers nums and a number k, write a function that returns true if given array can be divided into pairs such that sum of every pair is divisible by k.\n",
    "\n",
    "**Example 1 :**\n",
    "\n",
    ">**Input :** <br>\n",
    ">nums = [9, 5, 7, 3]<br>\n",
    ">k = 6<br>\n",
    ">**Output:** <br>\n",
    ">True<br>\n",
    ">**Explanation:** <br>\n",
    ">{(9, 3), (5, 7)} is a possible solution. 9 + 3 = 12 is divisible by 6 and 7 + 5 = 12 is also divisible by 6.\n",
    "\n",
    "\n",
    "**Example 2:**\n",
    "\n",
    ">**Input :** <br>\n",
    ">nums = [4, 4, 4]<br>\n",
    ">k = 4<br>\n",
    ">**Output:** <br>\n",
    ">False<br>\n",
    ">**Explanation:**<br> \n",
    ">You can make 1 pair at max, leaving a single 4 unpaired.\n",
    "\n",
    "\n",
    "**Your Task:**\n",
    "You don't need to read or print anything. Your task is to complete the function canPair() which takes array nums and k as input parameter and returns true if array can be divided into pairs such that sum of every pair is divisible by k otherwise returns false.\n",
    "\n",
    "Expected Time Complexity: O(n)<br>\n",
    "Expected Space Complexity : O(n)\n",
    "\n",
    "**Constraints:**\n",
    "* >1 <= length( nums ) <= 10<sup>5</sup>\n",
    "* >1 <= nums<sub>i</sub> <= 10<sup>5</sup>\n",
    "* >1 <= k <= 10<sup>5</sup>"
   ]
  },
  {
   "cell_type": "code",
   "execution_count": 1,
   "metadata": {},
   "outputs": [],
   "source": [
    "class Solution:\n",
    "    def canPair(self, nums, k):\n",
    "        # Code here\n",
    "        if len(nums) % 2 != 0:\n",
    "            return False\n",
    "    \n",
    "        rem_freq = {}\n",
    "    \n",
    "        for num in nums:\n",
    "            rem = num % k\n",
    "            rem_freq[rem] = rem_freq.get(rem, 0) + 1\n",
    "        \n",
    "        for rem, freq in rem_freq.items():            \n",
    "            if rem == 0:\n",
    "                \n",
    "                if freq % 2 != 0:\n",
    "                    return False\n",
    "                    \n",
    "            elif k - rem in rem_freq:\n",
    "                \n",
    "                if rem_freq[k - rem] != freq:\n",
    "                    return False\n",
    "            else:\n",
    "                return False\n",
    "        \n",
    "        return True"
   ]
  }
 ],
 "metadata": {
  "kernelspec": {
   "display_name": "base",
   "language": "python",
   "name": "python3"
  },
  "language_info": {
   "codemirror_mode": {
    "name": "ipython",
    "version": 3
   },
   "file_extension": ".py",
   "mimetype": "text/x-python",
   "name": "python",
   "nbconvert_exporter": "python",
   "pygments_lexer": "ipython3",
   "version": "3.9.16"
  }
 },
 "nbformat": 4,
 "nbformat_minor": 2
}
