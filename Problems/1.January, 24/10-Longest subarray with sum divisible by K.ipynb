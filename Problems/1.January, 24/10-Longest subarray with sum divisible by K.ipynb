{
 "cells": [
  {
   "cell_type": "markdown",
   "metadata": {},
   "source": [
    "Given an array **arr** containing **N** integers and a positive integer **K**, find the length of the longest sub array with sum of the elements divisible by the given value **K**.\n",
    "\n",
    "<br>\n",
    "\n",
    "**Example 1:**\n",
    "\n",
    ">**Input:**<br>\n",
    ">N = 6, K = 3<br>\n",
    ">arr[] = {2, 7, 6, 1, 4, 5}<br>\n",
    ">**Output:** <br>\n",
    ">4<br>\n",
    ">**Explanation:**<br>\n",
    ">The subarray is {7, 6, 1, 4} with sum 18, which is divisible by 3.\n",
    "\n",
    "\n",
    "**Example 2:**\n",
    "\n",
    ">**Input:**<br>\n",
    ">N = 7, K = 3<br>\n",
    ">arr[] = {-2, 2, -5, 12, -11, -1, 7}<br>\n",
    ">**Output:** <br>\n",
    ">5<br>\n",
    ">**Explanation:**<br>\n",
    ">The subarray is {2,-5,12,-11,-1} with sum -3, which is divisible by 3.\n",
    "\n",
    "<br>\n",
    "\n",
    "**Your Task:**\n",
    "\n",
    "The input is already taken care of by the driver code. You only need to complete the function **longSubarrWthSumDivByK()** that takes an array **arr**, sizeOfArray **n** and a  positive integer **K**, and returns the length of the longest subarray which has sum divisible by **K**. \n",
    "\n",
    "**Expected Time Complexity:** O(N).<br>\n",
    "**Expected Auxiliary Space:** O(N).\n",
    "\n",
    "**Constraints:**\n",
    "- 1 <= N <= 10<sup>5</sup>\n",
    "- 1 <= K <= 10<sup>9</sup>\n",
    "- -10<sup>9</sup> <= A[i] <= 10<sup>9</sup> "
   ]
  },
  {
   "cell_type": "code",
   "execution_count": 1,
   "metadata": {},
   "outputs": [],
   "source": [
    "class Solution:\n",
    "    def longSubarrWthSumDivByK (self, arr, n, K):\n",
    "        pref_sum = 0\n",
    "        mx_length = 0\n",
    "        remain = {0: -1}\n",
    "\n",
    "        for i in range(n):\n",
    "            pref_sum += arr[i]\n",
    "            curr_rem = pref_sum % K\n",
    "\n",
    "            if curr_rem in remain:\n",
    "                length = i - remain[curr_rem]\n",
    "                mx_length = max(mx_length, length)\n",
    "            \n",
    "            else:\n",
    "                remain[curr_rem] = i\n",
    "        return mx_length"
   ]
  }
 ],
 "metadata": {
  "kernelspec": {
   "display_name": "base",
   "language": "python",
   "name": "python3"
  },
  "language_info": {
   "codemirror_mode": {
    "name": "ipython",
    "version": 3
   },
   "file_extension": ".py",
   "mimetype": "text/x-python",
   "name": "python",
   "nbconvert_exporter": "python",
   "pygments_lexer": "ipython3",
   "version": "3.9.16"
  }
 },
 "nbformat": 4,
 "nbformat_minor": 2
}
