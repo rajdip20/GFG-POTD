{
 "cells": [
  {
   "cell_type": "markdown",
   "metadata": {},
   "source": [
    "Given a non-negative integer **S** represented as a string, remove **K** digits from the number so that the new number is the smallest possible.\n",
    "\n",
    "**Note :** The given num does not contain any leading zero.\n",
    "\n",
    "<br>\n",
    "\n",
    "**Example 1:**\n",
    "\n",
    ">**Input:**<br>\n",
    ">S = \"149811\", K = 3<br>\n",
    ">**Output:** <br>\n",
    ">111<br>\n",
    ">**Explanation:** <br>\n",
    ">Remove the three digits <br>\n",
    ">4, 9, and 8 to form the new number 111<br>\n",
    ">which is smallest.\n",
    "\n",
    "**Example 2:**\n",
    "\n",
    ">**Input:**<br>\n",
    ">S = \"1002991\", K = 3<br>\n",
    ">**Output:** <br>\n",
    ">21<br>\n",
    ">**Explanation:** <br>\n",
    ">Remove the three digits 1(leading one), 9, and 9 to form the new number 21<br>\n",
    ">(Note that the output must not contain leading zeroes)<br>\n",
    ">which is the smallest.\n",
    "\n",
    "<br>\n",
    "\n",
    "**Your Task:**\n",
    "\n",
    "You don't need to read input or print anything. Your task is to complete the function **removeKdigits()** which takes the string S and an integer K as input and returns the new number which is the smallest possible.\n",
    "\n",
    "**Expected Time Complexity:** O(|S|).<br>\n",
    "**Expected Auxiliary Space:** O(|S|).\n",
    "\n",
    "**Constraints:**\n",
    "- >1<= K <= |S|<=10<sup>6</sup>"
   ]
  },
  {
   "cell_type": "code",
   "execution_count": 1,
   "metadata": {},
   "outputs": [],
   "source": [
    "class Solution:\n",
    "\n",
    "    def removeKdigits(self, S, K):\n",
    "        # code here\n",
    "        stack = []\n",
    "        for digit in S:\n",
    "            while K > 0 and stack and stack[-1] > digit:\n",
    "                stack.pop()\n",
    "                K -= 1\n",
    "            stack.append(digit)\n",
    "        \n",
    "        stack = stack[:-K] if K > 0 else stack\n",
    "\n",
    "        result = ''.join(stack).lstrip('0')\n",
    "\n",
    "        return result if result else '0'"
   ]
  }
 ],
 "metadata": {
  "kernelspec": {
   "display_name": "base",
   "language": "python",
   "name": "python3"
  },
  "language_info": {
   "codemirror_mode": {
    "name": "ipython",
    "version": 3
   },
   "file_extension": ".py",
   "mimetype": "text/x-python",
   "name": "python",
   "nbconvert_exporter": "python",
   "pygments_lexer": "ipython3",
   "version": "3.9.16"
  }
 },
 "nbformat": 4,
 "nbformat_minor": 2
}
