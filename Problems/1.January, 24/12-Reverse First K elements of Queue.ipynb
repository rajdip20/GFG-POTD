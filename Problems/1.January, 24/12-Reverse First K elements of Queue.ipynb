{
 "cells": [
  {
   "cell_type": "markdown",
   "metadata": {},
   "source": [
    "Given an integer **K** and a queue of integers, we need to reverse the order of the first **K** elements of the queue, leaving the other elements in the same relative order.\n",
    "\n",
    "Only following standard operations are allowed on queue.\n",
    "\n",
    "- enqueue(x) : Add an item x to rear of queue\n",
    "- dequeue() : Remove an item from front of queue\n",
    "- size() : Returns number of elements in queue.\n",
    "- front() : Finds front item.\n",
    "\n",
    "**Note:** The above operations represent the general processings. In-built functions of the respective languages can be used to solve the problem.\n",
    "\n",
    "<br>\n",
    "\n",
    "**Example 1:**\n",
    "\n",
    ">**Input:**<br>\n",
    ">5 3<br>\n",
    ">1 2 3 4 5<br>\n",
    ">**Output:** <br>\n",
    ">3 2 1 4 5<br>\n",
    ">**Explanation:** <br>\n",
    ">After reversing the given input from the 3rd position the resultant output will be 3 2 1 4 5.\n",
    "\n",
    "\n",
    "**Example 2:**\n",
    "\n",
    ">**Input:**<br>\n",
    ">4 4<br>\n",
    ">4 3 2 1<br>\n",
    ">**Output:** <br>\n",
    ">1 2 3 4<br>\n",
    ">**Explanation:** <br>\n",
    ">After reversing the given input from the 4th position the resultant output will be 1 2 3 4.\n",
    "\n",
    "<br>\n",
    "\n",
    "**Your Task:**\n",
    "\n",
    "Complete the provided function **modifyQueue()** that takes **queue** and **K** as parameters and returns a modified queue. The printing is done automatically by the driver code.\n",
    "\n",
    "**Expected Time Complexity :** O(N)<br>\n",
    "**Expected Auxiliary Space :** O(K)\n",
    "\n",
    "**Constraints:**\n",
    "- >1 <= K <= N <= 10<sup>5</sup>"
   ]
  },
  {
   "cell_type": "code",
   "execution_count": 1,
   "metadata": {},
   "outputs": [],
   "source": [
    "'''\n",
    "Function Arguments :\n",
    "\t\t@param  : q ( given queue to be used), k(Integer )\n",
    "\t\t@return : list, just reverse the first k elements of queue and return new queue\n",
    "'''\n",
    "\n",
    "#Function to reverse first k elements of a queue.\n",
    "class Solution:\n",
    "    def modifyQueue(self, q, k):\n",
    "        # code here\n",
    "        return q[:k][::-1]+q[k:]"
   ]
  }
 ],
 "metadata": {
  "kernelspec": {
   "display_name": "base",
   "language": "python",
   "name": "python3"
  },
  "language_info": {
   "codemirror_mode": {
    "name": "ipython",
    "version": 3
   },
   "file_extension": ".py",
   "mimetype": "text/x-python",
   "name": "python",
   "nbconvert_exporter": "python",
   "pygments_lexer": "ipython3",
   "version": "3.9.16"
  }
 },
 "nbformat": 4,
 "nbformat_minor": 2
}
