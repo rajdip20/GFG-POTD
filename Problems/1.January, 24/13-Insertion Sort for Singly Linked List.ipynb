{
 "cells": [
  {
   "cell_type": "markdown",
   "metadata": {},
   "source": [
    "Given a singly linked list, sort the list (in **ascending** order) using **insertion sort** algorithm.\n",
    "\n",
    "**Example 1:**\n",
    "\n",
    ">**Input:**<br>\n",
    ">N = 10<br>\n",
    ">Linked List = 30->23->28->30->11->14->19->16->21->25 <br>\n",
    ">**Output :** <br>\n",
    ">11 14 16 19 21 23 25 28 30 30 <br>\n",
    ">**Explanation :**<br>\n",
    ">The resultant linked list is sorted.\n",
    "\n",
    "**Example 2:**\n",
    "\n",
    ">**Input :** <br>\n",
    ">N = 7<br>\n",
    ">Linked List=19->20->16->24->12->29->30 <br>\n",
    ">**Output :** <br>\n",
    ">12 16 19 20 24 29 30 <br>\n",
    ">**Explanation :** <br>\n",
    ">The resultant linked list is sorted.\n",
    "\n",
    "<br>\n",
    "\n",
    "**Your task:**\n",
    "\n",
    "You don't need to read input or print anything. Your task is to complete the function **insertionSort()** which takes the head of the linked list, sorts the list using insertion sort algorithm and returns the head of the sorted linked list.\n",
    " \n",
    "**Expected Time Complexity :** O(n<sup>2</sup>)<br>\n",
    "**Expected Auxiliary Space :** O(1)\n",
    " \n",
    "**Constraints:**\n",
    "- >0 <= n <= 5*10<sup>3</sup>"
   ]
  },
  {
   "cell_type": "code",
   "execution_count": 1,
   "metadata": {},
   "outputs": [],
   "source": [
    "'''\n",
    "# Node Class\n",
    "class Node:\n",
    "    def __init__(self, data):   # data -> dataue stored in node\n",
    "        self.data = data\n",
    "        self.next = None\n",
    "'''\n",
    "\n",
    "class Solution:\n",
    "    def insertionSort(self, head):\n",
    "        #code here\n",
    "        if not head or not head.next:\n",
    "            return head\n",
    "        \n",
    "        sorted_head = head\n",
    "        head = head.next\n",
    "        sorted_head.next = None\n",
    "\n",
    "        while head:\n",
    "            current = head\n",
    "            head = head.next\n",
    "\n",
    "            if current.data < sorted_head.data:\n",
    "                current.next = sorted_head\n",
    "                sorted_head = current\n",
    "            else:\n",
    "                temp = sorted_head\n",
    "                while temp.next and temp.next.data < current.data:\n",
    "                    temp = temp.next\n",
    "                \n",
    "                current.next = temp.next\n",
    "                temp.next = current\n",
    "            \n",
    "        return sorted_head"
   ]
  }
 ],
 "metadata": {
  "kernelspec": {
   "display_name": "base",
   "language": "python",
   "name": "python3"
  },
  "language_info": {
   "codemirror_mode": {
    "name": "ipython",
    "version": 3
   },
   "file_extension": ".py",
   "mimetype": "text/x-python",
   "name": "python",
   "nbconvert_exporter": "python",
   "pygments_lexer": "ipython3",
   "version": "3.9.16"
  }
 },
 "nbformat": 4,
 "nbformat_minor": 2
}
