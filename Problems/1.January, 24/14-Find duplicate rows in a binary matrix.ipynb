{
 "cells": [
  {
   "cell_type": "markdown",
   "metadata": {},
   "source": [
    "Given a **boolean** matrix of size **RxC** where each cell contains either 0 or 1, find the row numbers (0-based) of row which already exists or are repeated.\n",
    "\n",
    "<br>\n",
    "\n",
    "**Example 1:**\n",
    "\n",
    ">**Input:**<br>\n",
    ">R = 2, C = 2<br>\n",
    ">matrix[][] = {{1, 0}, {1, 0}}<br>\n",
    ">**Output:** <br>\n",
    ">1<br>\n",
    ">**Explanation:**<br>\n",
    ">Row 1 is duplicate of Row 0.\n",
    "\n",
    "**Example 2:**\n",
    "\n",
    ">**Input:**<br>\n",
    ">R = 4, C = 3<br>\n",
    ">matrix[][] = {{ 1, 0, 0}, { 1, 0, 0}, { 0, 0, 0}, { 0, 0, 0}}<br>\n",
    ">**Output:** <br>\n",
    ">1 3 <br>\n",
    ">**Explanation:**<br>\n",
    ">Row 1 and Row 3 are duplicates of Row 0 and 2 respectively. \n",
    "\n",
    "<br>\n",
    "\n",
    "**Your Task:**\n",
    "\n",
    "You dont need to read input or print anything. Complete the function **repeatedRows()** that takes the matrix as input parameter and returns a list of row numbers which are duplicate rows.\n",
    "\n",
    "**Expected Time Complexity:** O(R * C)<br>\n",
    "**Expected Auxiliary Space:** O(R * C)\n",
    "\n",
    "**Constraints:**\n",
    "- >1 ≤ R, C ≤ 10<sup>3</sup>\n",
    "- >0 ≤ matrix[i][j] ≤ 1"
   ]
  },
  {
   "cell_type": "code",
   "execution_count": 1,
   "metadata": {},
   "outputs": [],
   "source": [
    "class Solution:\n",
    "    def repeatedRows(self, arr, m ,n):\n",
    "        #code here\n",
    "        rows = set()\n",
    "        result = []\n",
    "\n",
    "        for i in range(m):\n",
    "            curr_row = tuple(arr[i])\n",
    "            if curr_row in rows:\n",
    "                result.append(i)\n",
    "            else:\n",
    "                rows.add(curr_row)\n",
    "\n",
    "        return result"
   ]
  }
 ],
 "metadata": {
  "kernelspec": {
   "display_name": "base",
   "language": "python",
   "name": "python3"
  },
  "language_info": {
   "codemirror_mode": {
    "name": "ipython",
    "version": 3
   },
   "file_extension": ".py",
   "mimetype": "text/x-python",
   "name": "python",
   "nbconvert_exporter": "python",
   "pygments_lexer": "ipython3",
   "version": "3.9.16"
  }
 },
 "nbformat": 4,
 "nbformat_minor": 2
}
