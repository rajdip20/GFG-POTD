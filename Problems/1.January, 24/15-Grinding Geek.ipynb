{
 "cells": [
  {
   "cell_type": "markdown",
   "metadata": {},
   "source": [
    "GeeksforGeeks has introduced a special offer where you can enroll in any course, and if you manage to complete 90% of the course within 90 days, you will receive a refund of 90%.\n",
    "\n",
    "Geek was fascinated by this offer. This offer was valid for **only n days**, and **each day** a **new course** was available for purchase. Geek decided that if he bought a course on some day, he will **complete that course on the same day itself** and redeem **floor[90% of cost of the course]** amount back. Find the **maximum number of courses** that Geek can complete in those n days if he had **total** amount initially.\n",
    "\n",
    "**Note:** On any day, Geek can only buy the new course that was made available for purchase that day.\n",
    "\n",
    "<br>\n",
    "\n",
    "**Example 1:**\n",
    "\n",
    ">**Input:**<br>\n",
    ">n = 2<br>\n",
    ">total = 10<br>\n",
    ">cost = [10, 9]<br>\n",
    ">**Output:** 2<br>\n",
    ">**Explanation:**<br> \n",
    ">Geek can buy the first course for 10 amount, <br>\n",
    ">complete it on the same date and redeem 9 back. <br>\n",
    ">Next, he can buy and complete the 2nd course too.\n",
    "\n",
    "\n",
    "**Example 2:**\n",
    "\n",
    ">**Input:**<br>\n",
    ">n = 11<br>\n",
    ">total = 10<br>\n",
    ">cost = [10, 1, 1, 1, 1, 1, 1, 1, 1, 1, 1]<br>\n",
    ">**Output:** 10<br>\n",
    ">**Explanation:** <br>\n",
    ">Geek can buy and complete all the courses that cost 1.\n",
    "\n",
    "<br>\n",
    "\n",
    "**Your Task:**\n",
    "\n",
    "This is a function problem. The input is already taken care of by the driver code. You only need to complete the function **max_courses()** that takes **N** the number of days, the **total** amount, and the **cost** array as input argument and return the **maximum** amount of courses that could be purchased.\n",
    "\n",
    "**Expected Time Complexity:** O(n * total)<br>\n",
    "**Expected Auxiliary Space:** O(n * total)\n",
    "\n",
    "**Constraints:**\n",
    "- >1 <= n <= 1000\n",
    "- >0 <= total <= 1000\n",
    "- >1 <= cost[i] <= 1000"
   ]
  },
  {
   "cell_type": "code",
   "execution_count": 1,
   "metadata": {},
   "outputs": [],
   "source": [
    "class Solution:\n",
    "    def max_courses(self, n : int, total : int, cost : list[int]) -> int:\n",
    "        # code here\n",
    "        dp = [0 for _ in range(total + 1)]\n",
    "        \n",
    "        for c in reversed(cost):\n",
    "            \n",
    "            for t in range(total, c - 1, -1):\n",
    "                dp[t] = max(dp[t], dp[t - (c + 9) // 10] + 1)\n",
    "        \n",
    "        return dp[total]"
   ]
  }
 ],
 "metadata": {
  "kernelspec": {
   "display_name": "base",
   "language": "python",
   "name": "python3"
  },
  "language_info": {
   "codemirror_mode": {
    "name": "ipython",
    "version": 3
   },
   "file_extension": ".py",
   "mimetype": "text/x-python",
   "name": "python",
   "nbconvert_exporter": "python",
   "pygments_lexer": "ipython3",
   "version": "3.9.16"
  }
 },
 "nbformat": 4,
 "nbformat_minor": 2
}
