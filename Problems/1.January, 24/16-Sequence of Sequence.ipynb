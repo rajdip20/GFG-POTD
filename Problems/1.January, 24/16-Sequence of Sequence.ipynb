{
 "cells": [
  {
   "cell_type": "markdown",
   "metadata": {},
   "source": [
    "Given two integers **m** and **n**, try making a **special sequence** of numbers **seq** of length **n** such that\n",
    "\n",
    "- **seq<sub>i+1</sub>** >= 2***seq<sub>i</sub>** \n",
    "- **seq<sub>i</sub>** > 0\n",
    "- **seq<sub>i</sub>** <= m\n",
    "\n",
    "Your task is to determine total number of such **special sequences** possible.\n",
    "\n",
    "<br>\n",
    "\n",
    "**Example 1:**\n",
    "\n",
    ">**Input:** <br>\n",
    ">m = 10<br>\n",
    ">n = 4<br>\n",
    ">**Output:** <br>\n",
    ">4<br>\n",
    ">**Explaination:** <br>\n",
    ">There should be n elements and value of last element should be at-most m. <br>\n",
    ">The sequences are {1, 2, 4, 8}, {1, 2, 4, 9}, {1, 2, 4, 10}, {1, 2, 5, 10}.\n",
    "\n",
    "\n",
    "**Example 2:**\n",
    "\n",
    ">**Input:** <br>\n",
    ">m = 5<br>\n",
    ">n = 2<br>\n",
    ">**Output:** <br>\n",
    ">6<br>\n",
    ">**Explaination:** <br>\n",
    ">The sequences are {1, 2}, {1, 3}, {1, 4}, {1, 5}, {2, 4}, {2, 5}.\n",
    "\n",
    "<br>\n",
    "\n",
    "**Your Task:**\n",
    "\n",
    "You do not need to read input or print anything. Your task is to complete the function **numberSequence()** which takes the number **m** and **n** as input parameters and returns the **number of possible special sequences**.\n",
    "\n",
    "**Expected Time Complexity:** O(m*n)<br>\n",
    "**Expected Auxiliary Space:** O(1)\n",
    "\n",
    "**Constraints:**\n",
    "- >1 ≤ m, n ≤ 100"
   ]
  },
  {
   "cell_type": "code",
   "execution_count": 1,
   "metadata": {},
   "outputs": [],
   "source": [
    "class Solution:\n",
    "    def numberSequence(self, m, n):\n",
    "        # code here\n",
    "        MOD = 10 ** 9 + 7\n",
    "\n",
    "        dp = [[0] * (m + 1) for _ in range(n + 1)]\n",
    "\n",
    "        for i in range(1, m + 1):\n",
    "            dp[1][i] = 1\n",
    "\n",
    "        for i in range(2, n + 1):\n",
    "            for j in  range(1, m + 1):\n",
    "                for k in range(j // 2 + 1):\n",
    "                    dp[i][j] = (dp[i][j] + dp[i - 1][k]) % MOD\n",
    "\n",
    "        result = sum(dp[n]) % MOD\n",
    "\n",
    "        return result"
   ]
  }
 ],
 "metadata": {
  "kernelspec": {
   "display_name": "base",
   "language": "python",
   "name": "python3"
  },
  "language_info": {
   "codemirror_mode": {
    "name": "ipython",
    "version": 3
   },
   "file_extension": ".py",
   "mimetype": "text/x-python",
   "name": "python",
   "nbconvert_exporter": "python",
   "pygments_lexer": "ipython3",
   "version": "3.9.16"
  }
 },
 "nbformat": 4,
 "nbformat_minor": 2
}
