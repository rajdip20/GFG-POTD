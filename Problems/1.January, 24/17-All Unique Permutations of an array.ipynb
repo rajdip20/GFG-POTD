{
 "cells": [
  {
   "cell_type": "markdown",
   "metadata": {},
   "source": [
    "Given an array **arr[]** of length **n**. Find all possible **unique permutations** of the array in **sorted order**. A sequence **A** is greater than sequence **B** if there is an index **i** for which **A<sub>j</sub> = B<sub>j</sub>** for all **j < i** and **A<sub>i</sub> > B<sub>i</sub>**.\n",
    "\n",
    "<br>\n",
    "\n",
    "**Example 1:**\n",
    "\n",
    ">**Input:** <br>\n",
    ">n = 3<br>\n",
    ">arr[] = {1, 2, 1}<br>\n",
    ">**Output:** <br>\n",
    ">1 1 2<br>\n",
    ">1 2 1<br>\n",
    ">2 1 1<br>\n",
    ">**Explanation:**<br>\n",
    ">These are the only possible unique permutations for the given array.\n",
    "\n",
    "\n",
    "**Example 2:**\n",
    "\n",
    ">**Input:** <br>\n",
    ">n = 2<br>\n",
    ">arr[] = {4, 5}<br>\n",
    ">**Output:** <br>\n",
    ">Only possible 2 unique permutations are<br>\n",
    ">4 5<br>\n",
    ">5 4\n",
    "\n",
    "<br>\n",
    "\n",
    "**Your Task:**\n",
    "\n",
    "You don't need to read input or print anything. You only need to complete the function **uniquePerms()** that takes an integer **n**, and an array **arr** of size **n** as input and returns **a sorted list of lists** containing all **unique permutations** of the array.\n",
    "\n",
    "**Expected Time Complexity:**  O(n* n!)<br>\n",
    "**Expected Auxilliary Space:** O(n* n!)\n",
    "\n",
    "**Constraints:**\n",
    "- >1 ≤ n ≤ 9\n",
    "- >1 ≤ arr<sub>i</sub> ≤ 10"
   ]
  },
  {
   "cell_type": "code",
   "execution_count": 1,
   "metadata": {},
   "outputs": [],
   "source": [
    "class Solution:\n",
    "    def uniquePermsUtil(self, arr, n, used, current, result):\n",
    "        if len(current) == n:\n",
    "            result.append(current[:])\n",
    "            return\n",
    "\n",
    "        for i in range(n):\n",
    "            if not used[i]:\n",
    "                if i > 0 and arr[i] == arr[i - 1] and not used[i - 1]:\n",
    "                    continue\n",
    "\n",
    "                used[i] = True\n",
    "                current.append(arr[i])\n",
    "                self.uniquePermsUtil(arr, n, used, current, result)\n",
    "                current.pop()\n",
    "                used[i] = False\n",
    "\n",
    "\n",
    "    def uniquePerms(self, arr, n):\n",
    "        # code here\n",
    "        arr.sort()\n",
    "        used = [False] * n\n",
    "        result = []\n",
    "        self.uniquePermsUtil(arr, n, used, [], result)\n",
    "\n",
    "        return result"
   ]
  }
 ],
 "metadata": {
  "kernelspec": {
   "display_name": "base",
   "language": "python",
   "name": "python3"
  },
  "language_info": {
   "codemirror_mode": {
    "name": "ipython",
    "version": 3
   },
   "file_extension": ".py",
   "mimetype": "text/x-python",
   "name": "python",
   "nbconvert_exporter": "python",
   "pygments_lexer": "ipython3",
   "version": "3.9.16"
  }
 },
 "nbformat": 4,
 "nbformat_minor": 2
}
