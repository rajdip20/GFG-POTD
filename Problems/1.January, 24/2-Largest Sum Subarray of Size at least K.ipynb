{
 "cells": [
  {
   "cell_type": "markdown",
   "metadata": {},
   "source": [
    "Given an array a of length n and a number k, find the largest sum of the subarray containing at least k numbers. It is guaranteed that the size of array is at-least k.\n",
    "\n",
    "**Example 1:**\n",
    "\n",
    ">**Input :** <br>\n",
    ">n = 4<br>\n",
    ">a[] = {1, -2, 2, -3}<br>\n",
    ">k = 2<br>\n",
    ">**Output :** <br>\n",
    ">1<br>\n",
    ">**Explanation :**<br>\n",
    ">The sub-array of length at-least 2<br>\n",
    ">that produces greatest sum is {1, -2, 2}<br>\n",
    "\n",
    "\n",
    "**Example 2:**\n",
    "\n",
    ">**Input :**<br>\n",
    ">n = 6 <br>\n",
    ">a[] = {1, 1, 1, 1, 1, 1}<br>\n",
    ">k = 2<br>\n",
    ">**Output :**<br>\n",
    ">6<br>\n",
    ">**Explanation :**<br>\n",
    ">The sub-array of length at-least 2<br>\n",
    ">that produces greatest sum is {1, 1, 1, 1, 1, 1}<br>\n",
    "\n",
    "\n",
    "**Your Task:**<br>\n",
    "You don't need to read input or print anything. Your task is to complete the function **maxSumWithK()** which takes the array a[], its size n and an integer k as inputs and returns the value of the largest sum of the subarray containing at least k numbers.\n",
    "\n",
    "Expected Time Complexity: O(n)<br>\n",
    "Expected Auxiliary Space: O(n)\n",
    "\n",
    "**Constraints:**\n",
    "- >1 <= n <= 10<sup>5</sup>\n",
    "- >-10<sup>5</sup> <= a[i] <= 10<sup>5</sup>\n",
    "- >1 <= k <= n"
   ]
  },
  {
   "cell_type": "code",
   "execution_count": 1,
   "metadata": {},
   "outputs": [],
   "source": [
    "class Solution():\n",
    "    def maxSumWithK(self, a, n, k):\n",
    "        # Code here\n",
    "        max_sum = float('-inf')\n",
    "        window_sum = 0\n",
    "        min_prefix_sum = 0\n",
    "        \n",
    "        prefix_sum = [0] * (n + 1)\n",
    "\n",
    "        for i in range(n):\n",
    "            prefix_sum[i + 1] = prefix_sum[i] + a[i]\n",
    "\n",
    "        for i in range(k, n + 1):\n",
    "            window_sum = prefix_sum[i] - min_prefix_sum\n",
    "            max_sum = max(max_sum, window_sum)\n",
    "            min_prefix_sum = min(min_prefix_sum, prefix_sum[i - k + 1])\n",
    "            \n",
    "        return max_sum"
   ]
  }
 ],
 "metadata": {
  "kernelspec": {
   "display_name": "base",
   "language": "python",
   "name": "python3"
  },
  "language_info": {
   "codemirror_mode": {
    "name": "ipython",
    "version": 3
   },
   "file_extension": ".py",
   "mimetype": "text/x-python",
   "name": "python",
   "nbconvert_exporter": "python",
   "pygments_lexer": "ipython3",
   "version": "3.9.16"
  }
 },
 "nbformat": 4,
 "nbformat_minor": 2
}
