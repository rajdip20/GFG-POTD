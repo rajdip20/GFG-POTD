{
 "cells": [
  {
   "cell_type": "markdown",
   "metadata": {},
   "source": [
    "Given a binary tree with **N** nodes, in which each node value represents number of candies present at that node. In one move, one may choose two adjacent nodes and move **only one candy** from one node to another (the move may be from parent to child, or from child to parent.) \n",
    "The task is to find the number of moves required such that every node has **exactly one** candy.\n",
    "\n",
    "**Note that** the testcases are framed such that it is always possible to achieve a configuration in which every node has exactly one candy, after some moves.\n",
    "\n",
    "<br>\n",
    "\n",
    "**Example 1:**\n",
    "\n",
    ">**Input :**    <br>  \n",
    ">&emsp;3 <br>\n",
    ">&ensp;/&ensp;\\ <br>\n",
    ">&nbsp;0&ensp;0 <br>\n",
    ">**Output :** 2<br>\n",
    ">**Explanation:** <br>\n",
    ">From the root of the tree, we move one <br>\n",
    ">candy to its left child, and one candy to<br>\n",
    ">its right child.\n",
    "\n",
    "\n",
    "**Example 2:**\n",
    "\n",
    ">**Input :**<br>\n",
    ">&emsp;0<br>\n",
    ">&ensp;/&ensp;\\ <br>\n",
    ">&nbsp;3&ensp;0  <br>\n",
    ">**Output :** 3<br>\n",
    ">**Explanation :** <br>\n",
    ">From the left child of the root, we move <br>\n",
    ">two candies to the root [taking two moves]. <br>\n",
    ">Then, we move one candy from the root of the <br>\n",
    ">tree to the right child.\n",
    "\n",
    "<br>\n",
    "\n",
    "**Your task :**\n",
    "\n",
    "You don't have to read input or print anything. Your task is to complete the function **distributeCandy()** which takes the **root of the tree as input** and **returns the number** of moves required such that every node has exactly one candy.\n",
    " \n",
    "**Expected Time Complexity:** O(N)<br>\n",
    "**Expected Auxiliary Space:** O(height of the tree)\n",
    " \n",
    "**Constraints:**\n",
    ">1 <= N <= 10<sup>4</sup>\n",
    ">0 <= Value of each node <= 10<sup>4</sup>"
   ]
  },
  {
   "cell_type": "code",
   "execution_count": 1,
   "metadata": {},
   "outputs": [],
   "source": [
    "'''\n",
    "class Node:\n",
    "    def __init__(self, val):\n",
    "        self.right = None\n",
    "        self.data = val\n",
    "        self.left = None\n",
    "'''\n",
    "\n",
    "class Solution:\n",
    "    def distributeCandy(self, root):\n",
    "        #code here\n",
    "        def dfs(root):\n",
    "            if not root:\n",
    "                return 0, 0, 0\n",
    "            \n",
    "            left_moves = dfs(root.left)\n",
    "            right_moves = dfs(root.right)\n",
    "            res = abs(left_moves[0] - left_moves[1] + right_moves[0] - right_moves[1] + root.data - 1)\n",
    "            \n",
    "            return left_moves[0] + right_moves[0] + root.data, left_moves[1] + right_moves[1] + 1, res + left_moves[2] + right_moves[2]\n",
    "        \n",
    "        return dfs(root.left)[2] + dfs(root.right)[2]"
   ]
  }
 ],
 "metadata": {
  "kernelspec": {
   "display_name": "base",
   "language": "python",
   "name": "python3"
  },
  "language_info": {
   "codemirror_mode": {
    "name": "ipython",
    "version": 3
   },
   "file_extension": ".py",
   "mimetype": "text/x-python",
   "name": "python",
   "nbconvert_exporter": "python",
   "pygments_lexer": "ipython3",
   "version": "3.9.16"
  }
 },
 "nbformat": 4,
 "nbformat_minor": 2
}
