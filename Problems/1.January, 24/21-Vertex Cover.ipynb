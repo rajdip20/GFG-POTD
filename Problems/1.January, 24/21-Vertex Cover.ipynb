{
 "cells": [
  {
   "cell_type": "markdown",
   "metadata": {},
   "source": [
    "**Vertex cover** of an undirected graph is a list of vertices such that every vertex not in the vertex cover shares their every edge with the vertices in the **vertex cover**. In other words, for every edge in the graph, atleast one of the endpoints of the graph should belong to the **vertex cover**. You will be given an undirected graph **G**, and your task is to determine the **smallest possible size** of a **vertex cover**.\n",
    "\n",
    "<br>\n",
    "\n",
    "**Example 1:**\n",
    "\n",
    ">**Input:**<br>\n",
    ">N=5<br>\n",
    ">M=6<br>\n",
    ">edges[][]={{1,2}<br>\n",
    ">&emsp;&emsp;&emsp;&emsp;{4, 1},<br>\n",
    ">&emsp;&emsp;&emsp;&emsp;{2, 4},<br>\n",
    ">&emsp;&emsp;&emsp;&emsp;{3, 4},<br>\n",
    ">&emsp;&emsp;&emsp;&emsp;{5, 2},<br>\n",
    ">&emsp;&emsp;&emsp;&emsp;{1, 3}}<br>\n",
    ">**Output:**<br>\n",
    ">3<br>\n",
    ">**Explanation:**<br>\n",
    ">{2, 3, 4} forms a vertex cover with the smallest size.\n",
    "\n",
    "\n",
    "**Example 2:**\n",
    "\n",
    ">**Input:**<br>\n",
    ">N=2<br>\n",
    ">M=1<br>\n",
    ">edges[][]={{1,2}} <br>\n",
    ">**Output:** <br>\n",
    ">1 <br>\n",
    ">**Explanation:** <br>\n",
    ">Include either node 1 or node 2 in the vertex cover.\n",
    "\n",
    "<br>\n",
    "\n",
    "**Your Task:**\n",
    "\n",
    "You don't need to read input or print anything. Your task is to complete the function **vertexCover()** which takes the **edge list** and an integer **n** for the number of nodes of the graph as input parameters and returns the **size of the smallest possible vertex cover**.\n",
    "\n",
    "**Expected Time Complexity:** O(M*2<sup>N</sup>)<br>\n",
    "**Expected Auxiliary Space:** O(N<sup>2</sup>)\n",
    "\n",
    "**Constraints:**\n",
    "- >1 <= N <= 16\n",
    "- >1 <= M <= N*(N-1)/2\n",
    "- >1 <= edges[i][0], edges[i][1] <= N"
   ]
  },
  {
   "cell_type": "code",
   "execution_count": 1,
   "metadata": {},
   "outputs": [],
   "source": [
    "class Solution:\n",
    "    def vertexCover(self, n : int, edges : list[list[int]]) -> int:\n",
    "        # code here\n",
    "        def solve(edges):\n",
    "            if len(edges) == 0:\n",
    "                return 0\n",
    "\n",
    "            edge0 = []\n",
    "            edge1 = []\n",
    "\n",
    "            for i in edges:\n",
    "                if not(i[0] == edges[0][0] or i[1] == edges[0][0]):\n",
    "                    edge0.append(i)\n",
    "\n",
    "                if not(i[0] == edges[0][1] or i[1] == edges[0][1]):\n",
    "                    edge1.append(i)\n",
    "\n",
    "            ans0 = 1 + solve(edge0)\n",
    "            ans1 = 1 + solve(edge1)\n",
    "\n",
    "            return min(ans0, ans1)\n",
    "            \n",
    "        return solve(edges)"
   ]
  }
 ],
 "metadata": {
  "kernelspec": {
   "display_name": "base",
   "language": "python",
   "name": "python3"
  },
  "language_info": {
   "codemirror_mode": {
    "name": "ipython",
    "version": 3
   },
   "file_extension": ".py",
   "mimetype": "text/x-python",
   "name": "python",
   "nbconvert_exporter": "python",
   "pygments_lexer": "ipython3",
   "version": "3.9.16"
  }
 },
 "nbformat": 4,
 "nbformat_minor": 2
}
