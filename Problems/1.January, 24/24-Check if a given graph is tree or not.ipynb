{
 "cells": [
  {
   "cell_type": "markdown",
   "metadata": {},
   "source": [
    "You are given an undirected graph of **N** nodes (numbered from 0 to N-1) and **M** edges. Return 1 if the graph is a tree, else return 0.\n",
    "\n",
    "**Note:** The input graph can have self-loops and multiple edges.\n",
    "\n",
    "<br>\n",
    "\n",
    "**Example 1:**\n",
    "\n",
    ">**Input:**<br>\n",
    ">N = 4, M = 3<br>\n",
    ">G = [[0, 1], [1, 2], [1, 3]]<br>\n",
    ">**Output:** <br>\n",
    ">1<br>\n",
    ">**Explanation:** <br>\n",
    ">Every node is reachable and the graph has no loops, so it is a tree\n",
    "\n",
    "\n",
    "**Example 2:**\n",
    "\n",
    ">**Input:**<br>\n",
    ">N = 4, M = 3<br>\n",
    ">G = [[0, 1], [1, 2], [2, 0]]<br>\n",
    ">**Output:** <br>\n",
    ">0<br>\n",
    ">**Explanation:** <br>\n",
    ">3 is not connected to any node and there is a loop 0->1->2->0, so it is not a tree.\n",
    "\n",
    "<br>\n",
    "\n",
    "**Your Task:**\n",
    "\n",
    "You don't need to read input or print anything. Your task is to complete the function **isTree()** which takes the integer N (the number nodes in the input graph) and the edges representing the graph as input parameters and returns 1 if the input graph is a tree, else 0.\n",
    "\n",
    "**Expected Time Complexity:** O(N+M)<br>\n",
    "**Expected Auxiliary Space:** O(N)\n",
    "\n",
    "**Constraints:**\n",
    "- >1 <= N <= 2*10<sup>5</sup>\n",
    "- >0 <= M <= 2*10<sup>5</sup>"
   ]
  },
  {
   "cell_type": "code",
   "execution_count": 1,
   "metadata": {},
   "outputs": [],
   "source": [
    "class Solution:\n",
    "    def isTree(self, n, m, edges):\n",
    "        # Code here\n",
    "        adj_list = {i: [] for i in range(n)}\n",
    "        \n",
    "        for edge in edges:\n",
    "            u, v = edge\n",
    "            adj_list[u].append(v)\n",
    "            adj_list[v].append(u)\n",
    "\n",
    "        visited = set()\n",
    "\n",
    "        def dfs(node, parent):\n",
    "            if node in visited:\n",
    "                return False\n",
    "            \n",
    "            visited.add(node)\n",
    "\n",
    "            for neighbor in adj_list[node]:\n",
    "                if neighbor != parent:\n",
    "                    if not dfs(neighbor, node):\n",
    "                        return False\n",
    "            return True\n",
    "        \n",
    "        if not dfs(0, -1) or len(visited) != n:\n",
    "            return 0\n",
    "        return 1"
   ]
  }
 ],
 "metadata": {
  "kernelspec": {
   "display_name": "base",
   "language": "python",
   "name": "python3"
  },
  "language_info": {
   "codemirror_mode": {
    "name": "ipython",
    "version": 3
   },
   "file_extension": ".py",
   "mimetype": "text/x-python",
   "name": "python",
   "nbconvert_exporter": "python",
   "pygments_lexer": "ipython3",
   "version": "3.9.16"
  }
 },
 "nbformat": 4,
 "nbformat_minor": 2
}
