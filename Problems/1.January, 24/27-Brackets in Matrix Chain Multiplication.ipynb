{
 "cells": [
  {
   "cell_type": "markdown",
   "metadata": {},
   "source": [
    "Given an array **p[]** of length **n** used to denote the dimensions of a series of **matrices** such that the dimension of **i'th** matrix is **p[i] * p[i+1]**. There are a total of **n-1** matrices. Find the most efficient way to multiply these matrices together.\n",
    "\n",
    "As in [**MCM**](https://www.geeksforgeeks.org/matrix-chain-multiplication-dp-8/), you were returning the most effective count but this time return the **string** which is formed of **A - Z** (only Uppercase) denoting matrices & **Brackets**( **\"(\" \")\"** ) denoting multiplication symbols. For example, if n =11, the matrixes can be denoted as A - K as n<=26 & brackets as multiplication symbols.\n",
    "\n",
    "**NOTE:**\n",
    "1. Each multiplication is denoted by putting **open & closed** brackets to the matrices multiplied & also Please note that the order of matrix multiplication matters, as matrix multiplication is non-commutative **A * B != B * A**\n",
    "2. As there can be **multiple** possible answers, the console would print \"**True**\" for the **correct** string and \"**False**\" for the **incorrect** string. You need to only return a **string** that performs a minimum number of multiplications.\n",
    "\n",
    "<br>\n",
    "\n",
    "**Example 1:**\n",
    ">**Input:** <br>\n",
    ">n = 5<br>\n",
    ">p[] = {40, 20, 30, 10, 30}<br>\n",
    ">**Output:** <br>\n",
    ">True<br>\n",
    ">**Explaination:** <br>\n",
    ">Let's divide this into matrix(only 4 are possible) <br>\n",
    ">[ [40, 20] -> A<br>\n",
    ">, [20, 30] -> B<br>\n",
    ">, [30, 10] ->C<br>\n",
    ">, [10, 30] -> D ]<br>\n",
    ">First we perform multiplication of B & C -> (BC)<br>\n",
    ">then we multiply A to (BC) -> (A(BC))<br>\n",
    ">then we multiply D to (A(BC)) -> ((A(BC))D)<br>\n",
    ">so the solution returned the string ((A(BC))D), which performs minimum multiplications. The total number of multiplications are 20*30*10 + 40*20*10 + 40*10*30 = 26,000.\n",
    "\n",
    "\n",
    "**Example 2:**\n",
    ">**Input:** <br>\n",
    ">n = 3<br>\n",
    ">p = {3, 3, 3}<br>\n",
    ">**Output:** <br>\n",
    ">True<br>\n",
    ">**Explaination:** <br>\n",
    ">The solution returned the string (AB), which performs minimum multiplications. The total number of multiplications are (3*3*3) = 27.\n",
    "\n",
    "<br>\n",
    "\n",
    "**Your Task:**\n",
    "\n",
    "You do not need to read input or print anything. Your task is to complete the function **matrixChainOrder()** which takes n and p[] as input parameters and returns the **string** of parenthesis for n-1 matrices. Use uppercase alphabets to denote each matrix.\n",
    "\n",
    "**Expected Time Complexity:** O(n<sup>3</sup>)<br>\n",
    "**Expected Auxiliary Space:** O(n<sup>2</sup>)\n",
    "\n",
    "**Constraints:**\n",
    "- >2 ≤ n ≤ 26 \n",
    "- >1 ≤ p[i] ≤ 500"
   ]
  },
  {
   "cell_type": "code",
   "execution_count": 1,
   "metadata": {},
   "outputs": [],
   "source": [
    "class Solution:\n",
    "    def matrixChainOrder(self, p, n):\n",
    "        # code here\n",
    "        infinite = float('inf')\n",
    "        cost = [[infinite for _ in range(n)] for _ in range(n)]\n",
    "        bracket = [['' for _ in range(n)] for _ in range(n)]\n",
    "\n",
    "        for i in range(n - 1):\n",
    "            cost[i][i + 1] = 0\n",
    "            bracket[i][i + 1] = chr(ord('A') + i)\n",
    "\n",
    "        for i in range(2, n):\n",
    "            for j in range(n - i):\n",
    "                x = i + j\n",
    "                for k in range(j + 1, n):\n",
    "                    if cost[j][x] > cost[j][k] + cost[k][x] + p[j] * p[x] * p[k]:\n",
    "                        cost[j][x] = cost[j][k] + cost[k][x] + p[j] * p[x] * p[k]\n",
    "                        bracket[j][x] = '(' + bracket[j][k] + bracket[k][x] + ')'\n",
    "\n",
    "        return bracket[0][n - 1]"
   ]
  }
 ],
 "metadata": {
  "kernelspec": {
   "display_name": "base",
   "language": "python",
   "name": "python3"
  },
  "language_info": {
   "codemirror_mode": {
    "name": "ipython",
    "version": 3
   },
   "file_extension": ".py",
   "mimetype": "text/x-python",
   "name": "python",
   "nbconvert_exporter": "python",
   "pygments_lexer": "ipython3",
   "version": "3.9.16"
  }
 },
 "nbformat": 4,
 "nbformat_minor": 2
}
