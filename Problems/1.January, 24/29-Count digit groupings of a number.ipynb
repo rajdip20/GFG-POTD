{
 "cells": [
  {
   "cell_type": "markdown",
   "metadata": {},
   "source": [
    "Given a string **str** consisting of digits, you can divide it into **sub-groups** by separating the string into substrings. For example, \"112\" can be divided as {\"1\", \"1\", \"2\"}, {\"11\", \"2\"}, {\"1\", \"12\"}, and {\"112\"}.\n",
    "\n",
    "A **valid grouping** can be done if you are able to divide **sub-groups** where the sum of digits in a sub-group is **less than or equal to** the **sum of the digits** of the **sub-group** immediately right to it. Your task is to determine the **total number** of **valid groupings** that could be done for a given string.\n",
    "\n",
    "<br>\n",
    "\n",
    "**Example 1:** \n",
    ">**Input:** <br>\n",
    ">str = \"1119\"<br>\n",
    ">**Output:** <br>\n",
    ">7<br>\n",
    ">**Explanation:** <br>\n",
    ">One valid grouping is {\"1\", \"11\", \"9\"}.<br>\n",
    ">Sum of digits of first sub-group (\"1\") is 1,<br>\n",
    ">for the second sub-group (\"11\"), it is 2,<br>\n",
    ">and for the third one (\"9\"), it is 9.<br>\n",
    ">As the sum of digits of the sub-groups is <br>\n",
    ">in increasing order, it forms a valid grouping.<br>\n",
    ">Other valid grouping are {\"1\", \"119\"}, {\"1\",\"1\",\"19\"}, <br>\n",
    ">{\"1\",\"1\",\"1\",\"9\"}, {\"11\",\"19\"}, {\"111\",\"9\"} and {\"1119\"}<br>\n",
    ">are six other valid groupings.\n",
    "\n",
    "\n",
    "**Example 2:**\n",
    ">**Input:** <br>\n",
    ">str = \"12\"<br>\n",
    ">**Output:** <br>\n",
    ">2<br>\n",
    ">**Explanation:** <br>\n",
    ">{\"1\",\"2\"} and {\"12\"} are two valid groupings.\n",
    "\n",
    "\n",
    "**Your Task:**\n",
    "\n",
    "You don't need to read or print anything. Your task is to complete the function **TotalCount()** which takes the string **str** as input parameter and returns total possible groupings.\n",
    "\n",
    "**Expected Time Complexity:** O(N<sup>3</sup>) where N is the length of the string.<br>\n",
    "**Expected Space Complexity:** O(N<sup>2</sup>)\n",
    "\n",
    "**Constraints:**\n",
    "- >1 <= N <= 100\n",
    "- >str<sub>i</sub> ∈ {0, 1, 2, 3, 4, 5, 6, 7, 8, 9}"
   ]
  },
  {
   "cell_type": "code",
   "execution_count": 1,
   "metadata": {},
   "outputs": [],
   "source": [
    "class Solution:\n",
    "    def TotalCount(self, s):\n",
    "\t\t# Code here\n",
    "        def func(index, value):\n",
    "            if index >= n:\n",
    "                return 1\n",
    "\n",
    "            if (index,value) in dp:\n",
    "                return dp[(index,value)]\n",
    "\n",
    "            count, current = 0, 0\n",
    "            \n",
    "            for i in range(index, n):  \n",
    "                current += int(s[i])\n",
    "                v = int(current)\n",
    "                if v >= value:\n",
    "                    count += func(i + 1, v)\n",
    "            \n",
    "            dp[(index, value)] = count\n",
    "            \n",
    "            return count\n",
    "\n",
    "        n = len(s)\n",
    "        dp = {}\n",
    "        \n",
    "        return func(0, 0)"
   ]
  }
 ],
 "metadata": {
  "kernelspec": {
   "display_name": "base",
   "language": "python",
   "name": "python3"
  },
  "language_info": {
   "codemirror_mode": {
    "name": "ipython",
    "version": 3
   },
   "file_extension": ".py",
   "mimetype": "text/x-python",
   "name": "python",
   "nbconvert_exporter": "python",
   "pygments_lexer": "ipython3",
   "version": "3.9.16"
  }
 },
 "nbformat": 4,
 "nbformat_minor": 2
}
