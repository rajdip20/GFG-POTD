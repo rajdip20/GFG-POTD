{
 "cells": [
  {
   "cell_type": "markdown",
   "metadata": {},
   "source": [
    "Given 3 strings **A**, **B** and **C**, the task is to find the **length** of the **longest sub-sequence** that is **common** in all the three given strings.\n",
    "\n",
    "<br>\n",
    "\n",
    "**Example 1:**\n",
    ">**Input:**<br>\n",
    ">A = \"geeks\"<br>\n",
    ">B = \"geeksfor\", <br>\n",
    ">C = \"geeksforgeeks\"<br>\n",
    ">**Output:** 5<br>\n",
    ">**Explanation:** <br>\n",
    ">\"geeks\"is the longest common subsequence with length 5.<br>\n",
    "\n",
    "\n",
    "**Example 2:**\n",
    ">**Input:** <br>\n",
    ">A = \"abcd\"<br>\n",
    ">B = \"efgh\"<br>\n",
    ">C = \"ijkl\"<br>\n",
    ">**Output:** 0<br>\n",
    ">**Explanation:** <br>\n",
    ">There's no subsequence common in all the three strings.\n",
    "\n",
    "<br>\n",
    "\n",
    "**Your Task:**\n",
    "\n",
    "You don't need to read input or print anything. Your task is to complete the function **LCSof3()** which takes the strings **A**, **B**, **C** and their lengths **n1**, **n2**, **n3** as input and returns the **length** of the **longest common subsequence** in all the 3 strings.\n",
    "\n",
    "**Expected Time Complexity:** O(n1 * n2 * n3).<br>\n",
    "**Expected Auxiliary Space:** O(n1 * n2 * n3).\n",
    "\n",
    "**Constraints:**\n",
    "- >1 <= n1, n2, n3 <= 20\n",
    "- >Elements of the strings consitutes only of the lower case english alphabets."
   ]
  },
  {
   "cell_type": "code",
   "execution_count": 1,
   "metadata": {},
   "outputs": [],
   "source": [
    "class Solution:\n",
    "\n",
    "    def LCSof3(self, A, B, C, n1, n2, n3):\n",
    "        # code here\n",
    "        dp = [[[0 for _ in range(n3 + 1)] for _ in range(n2 + 1)] for _ in range(n1 + 1)]\n",
    "\n",
    "        for i in range(n1 + 1):\n",
    "            for j in range(n2 + 1):\n",
    "                for k in range(n3 + 1):\n",
    "                    if i == 0 or j == 0 or k == 0:\n",
    "                        dp[i][j][k] = 0\n",
    "                    elif A[i - 1] == B[j - 1] == C[k - 1]:\n",
    "                        dp[i][j][k] = 1 + dp[i - 1][j - 1][k - 1]\n",
    "                    else:\n",
    "                        dp[i][j][k] = max(dp[i - 1][j][k], dp[i][j - 1][k], dp[i][j][k - 1])\n",
    "        \n",
    "        return dp[n1][n2][n3]"
   ]
  }
 ],
 "metadata": {
  "kernelspec": {
   "display_name": "base",
   "language": "python",
   "name": "python3"
  },
  "language_info": {
   "codemirror_mode": {
    "name": "ipython",
    "version": 3
   },
   "file_extension": ".py",
   "mimetype": "text/x-python",
   "name": "python",
   "nbconvert_exporter": "python",
   "pygments_lexer": "ipython3",
   "version": "3.9.16"
  }
 },
 "nbformat": 4,
 "nbformat_minor": 2
}
