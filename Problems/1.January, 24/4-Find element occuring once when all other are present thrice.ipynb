{
 "cells": [
  {
   "cell_type": "markdown",
   "metadata": {},
   "source": [
    "Given an array of integers **arr[]** of length **N**, every element **appears thrice** except for one which **occurs once**.<br>\n",
    "Find that element which **occurs once**.\n",
    "\n",
    "**Example 1:**\n",
    "\n",
    ">**Input:**<br>\n",
    ">N = 4<br>\n",
    ">arr[] = {1, 10, 1, 1}<br>\n",
    ">**Output:**<br>\n",
    ">10<br>\n",
    ">**Explanation:**<br>\n",
    ">10 occurs once in the array while the other<br>\n",
    ">element 1 occurs thrice.\n",
    "\n",
    "\n",
    "**Example 2:**\n",
    "\n",
    ">**Input:**<br>\n",
    ">N = 10<br>\n",
    ">arr[] = {3, 2, 1, 34, 34, 1, 2, 34, 2, 1}<br>\n",
    ">**Output:**<br>\n",
    ">3<br>\n",
    ">**Explanation:**<br>\n",
    ">All elements except 3 occurs thrice in the array.\n",
    "\n",
    "\n",
    "**Your Task:**<br>\n",
    "You do not need to take any input or print anything. You task is to complete the function **singleElement()** which takes an array of integers **arr** and an integer **N** which finds and returns the element **occuring once** in the array.\n",
    "\n",
    "**Constraints:**\n",
    "- 1 ≤ N ≤ 10<sup>5</sup>\n",
    "- -10<sup>9</sup> ≤ A[i] ≤ 10<sup>9</sup>\n",
    "\n",
    "**Expected Time Complexity:** O(N).<br>\n",
    "**Expected Auxiliary Space:** O(1)."
   ]
  },
  {
   "cell_type": "code",
   "execution_count": 1,
   "metadata": {},
   "outputs": [],
   "source": [
    "class Solution:\n",
    "    def singleElement(self, arr, N):\n",
    "        # code here\n",
    "        d = dict()\n",
    "\n",
    "        for i in arr:\n",
    "            try:\n",
    "                d[i] +=1\n",
    "            \n",
    "            except:\n",
    "                d[i] =1\n",
    "        \n",
    "        c = [key for key, value in d.items() if value == 1]\n",
    "        \n",
    "        return c[0] if c else None"
   ]
  }
 ],
 "metadata": {
  "kernelspec": {
   "display_name": "base",
   "language": "python",
   "name": "python3"
  },
  "language_info": {
   "codemirror_mode": {
    "name": "ipython",
    "version": 3
   },
   "file_extension": ".py",
   "mimetype": "text/x-python",
   "name": "python",
   "nbconvert_exporter": "python",
   "pygments_lexer": "ipython3",
   "version": "3.9.16"
  }
 },
 "nbformat": 4,
 "nbformat_minor": 2
}
