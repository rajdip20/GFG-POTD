{
 "cells": [
  {
   "cell_type": "markdown",
   "metadata": {},
   "source": [
    "There is a road passing through a city with **N** plots on both sides of the road. Plots are arranged in a straight line on either side of the road. Determine the **total number** of ways to construct buildings in these plots, ensuring that no two buildings are adjacent to each other. Specifically, buildings on opposite sides of the road cannot be adjacent.\n",
    "\n",
    "Using **\\*** to represent a plot and || for the road, the arrangement for **N = 3** can be visualized as follows: * * * || * * *.\n",
    "\n",
    "**Note:** As the answer can be very large, print it **mod 10<sup>9</sup>+7**.\n",
    "\n",
    "<br>\n",
    "\n",
    "**Example 1:**\n",
    "\n",
    ">**Input:** N = 1<br>\n",
    ">**Output:** 4<br>\n",
    ">**Explanation:**<br>\n",
    ">Possible ways for the arrangement are B||*, \\*||B, B||B, \\*||\\*<br>\n",
    ">where B represents a building.\n",
    "\n",
    "**Example 2:**\n",
    "\n",
    ">**Input:** N = 3<br>\n",
    ">**Output:** 25<br>\n",
    ">**Explanation:**<br>\n",
    ">Possible ways for one side are BSS, BSB, SSS, SBS, SSB where B represents a building and S represents an empty space.<br>\n",
    ">Pairing up with possibilities on the other side of the road, total possible ways are 25.\n",
    "\n",
    "<br>\n",
    "\n",
    "**Your Task:**\n",
    "\n",
    "You don't need to read or print anything. Your task is to complete the function **TotalWays()** which takes **N** as input parameter and returns the total possible ways modulo **10<sup>9</sup> + 7**.\n",
    " \n",
    "<br>\n",
    "\n",
    "**Expected Time Complexity:** O(N)<br>\n",
    "**Expected Space Complexity:** O(N)\n",
    "\n",
    "<br>\n",
    "\n",
    "**Constraints:**\n",
    "- >1 <= N <= 100000"
   ]
  },
  {
   "cell_type": "code",
   "execution_count": 1,
   "metadata": {},
   "outputs": [],
   "source": [
    "class Solution:\n",
    "\tdef TotalWays(self, N):\n",
    "\t\t# Code here\n",
    "\t\tS , B = 1, 1\n",
    "\t\tMOD = 10 ** 9 + 7\n",
    "\n",
    "\t\tfor _ in range(1, N + 1):\n",
    "\t\t\tS, B = B % MOD, (S % MOD + B % MOD) % MOD\n",
    "\t\t\n",
    "\t\treturn (B ** 2) % MOD"
   ]
  }
 ],
 "metadata": {
  "kernelspec": {
   "display_name": "base",
   "language": "python",
   "name": "python3"
  },
  "language_info": {
   "codemirror_mode": {
    "name": "ipython",
    "version": 3
   },
   "file_extension": ".py",
   "mimetype": "text/x-python",
   "name": "python",
   "nbconvert_exporter": "python",
   "pygments_lexer": "ipython3",
   "version": "3.9.16"
  }
 },
 "nbformat": 4,
 "nbformat_minor": 2
}
