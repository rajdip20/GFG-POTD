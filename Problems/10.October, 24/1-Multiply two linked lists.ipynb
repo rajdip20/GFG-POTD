{
 "cells": [
  {
   "cell_type": "markdown",
   "metadata": {},
   "source": [
    "Given elements as nodes of the two singly linked lists. The task is to multiply these two linked lists, say L1 and L2.\n",
    "\n",
    "***Note:*** The output could be large take modulo 10<sup>9</sup>+7.\n",
    "\n",
    "<br>\n",
    "\n",
    "**Examples:**\n",
    ">**Input:** LinkedList L1 : 3->2 , LinkedList L2 : 2<br>\n",
    ">**Output:** 64<br>\n",
    ">**Explanation:** <br>\n",
    ">![image1](../../images/blobid0_1721108424.png)<br>\n",
    ">Multiplication of 32 and 2 gives 64.\n",
    "\n",
    ">**Input:** LinkedList L1: 1->0->0 , LinkedList L2 : 1->0<br>\n",
    ">**Output:** 1000<br>\n",
    ">**Explanation:** <br>\n",
    ">![image2](../../images/blobid1_1721108436.png)<br>\n",
    ">Multiplication of 100 and 10 gives 1000.\n",
    "\n",
    "<br>\n",
    "\n",
    "**Expected Time Complexity:** O(max(n,m))<br>\n",
    "**Expected Auxilliary Space:** O(1)<br>\n",
    "where n is the size of L1 and m is the size of L2\n",
    "\n",
    "**Constraints:**\n",
    "- >1 <= number of nodes <= 9\n",
    "- >0 <= node->data <= 9"
   ]
  },
  {
   "cell_type": "code",
   "execution_count": 1,
   "metadata": {},
   "outputs": [],
   "source": [
    "'''\n",
    "class node:\n",
    "    def __init__(self):\n",
    "        self.data = None\n",
    "        self.next = None\n",
    "'''\n",
    "\n",
    "class Solution:\n",
    "    def multiply_two_lists(self, first, second):\n",
    "        # Code here\n",
    "        MOD = 10**9 + 7\n",
    "\n",
    "        def linked_list_to_number(head):\n",
    "            num = 0\n",
    "            while head:\n",
    "                num = num * 10 + head.data\n",
    "                head = head.next\n",
    "            return num\n",
    "        \n",
    "\n",
    "        num1 = linked_list_to_number(first)\n",
    "        num2 = linked_list_to_number(second)\n",
    "        \n",
    "        result = (num1 * num2) % MOD\n",
    "        \n",
    "        return result"
   ]
  }
 ],
 "metadata": {
  "kernelspec": {
   "display_name": "base",
   "language": "python",
   "name": "python3"
  },
  "language_info": {
   "codemirror_mode": {
    "name": "ipython",
    "version": 3
   },
   "file_extension": ".py",
   "mimetype": "text/x-python",
   "name": "python",
   "nbconvert_exporter": "python",
   "pygments_lexer": "ipython3",
   "version": "3.9.16"
  }
 },
 "nbformat": 4,
 "nbformat_minor": 2
}
