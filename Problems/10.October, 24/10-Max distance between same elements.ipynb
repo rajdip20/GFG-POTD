{
 "cells": [
  {
   "cell_type": "markdown",
   "metadata": {},
   "source": [
    "Given an array **arr[]** with repeated elements, the task is to find the maximum distance between two occurrences of an element.\n",
    "\n",
    "Note: You may assume that every input array has repetitions.\n",
    "\n",
    "<br>\n",
    "\n",
    "**Examples:**\n",
    ">**Input:** arr = [1, 1, 2, 2, 2, 1]<br>\n",
    ">**Output:** 5<br>\n",
    ">**Explanation:** distance for 1 is: 5-0 = 5, distance for 2 is : 4-2 = 2, So max distance is 5.\n",
    "\n",
    ">**Input:** arr = [3, 2, 1, 2, 1, 4, 5, 8, 6, 7, 4, 2]<br>\n",
    ">**Output:** 10<br>\n",
    ">**Explanation:** maximum distance for 2 is 11-1 = 10, maximum distance for 1 is 4-2 = 2 ,maximum distance for 4 is 10-5 = 5, So max distance is 10.\n",
    "\n",
    "<br>\n",
    "\n",
    "**Expected Time Complexity:**  O(n)<br>\n",
    "**Expected Auxilliary Space:** O(n)\n",
    "\n",
    "**Constraints:**\n",
    "- >1 <= arr.size() <= 10<sup>6</sup>\n",
    "- >1 <= arr[i] <= 10<sup>9</sup>"
   ]
  },
  {
   "cell_type": "code",
   "execution_count": 1,
   "metadata": {},
   "outputs": [],
   "source": [
    "class Solution:\n",
    "    # Your task is to Complete this function\n",
    "    # functtion should return an integer\n",
    "    def maxDistance(self, arr):\n",
    "        # Code here\n",
    "        occurrence_map = {}\n",
    "\n",
    "        for i in range(len(arr)):\n",
    "            if arr[i] not in occurrence_map:\n",
    "                occurrence_map[arr[i]] = [i, i]\n",
    "            else:\n",
    "                occurrence_map[arr[i]][1] = i\n",
    "        \n",
    "        max_dist = 0\n",
    "        for first, last in occurrence_map.values():\n",
    "            max_dist = max(max_dist, last - first)\n",
    "        \n",
    "        return max_dist"
   ]
  }
 ],
 "metadata": {
  "kernelspec": {
   "display_name": "base",
   "language": "python",
   "name": "python3"
  },
  "language_info": {
   "codemirror_mode": {
    "name": "ipython",
    "version": 3
   },
   "file_extension": ".py",
   "mimetype": "text/x-python",
   "name": "python",
   "nbconvert_exporter": "python",
   "pygments_lexer": "ipython3",
   "version": "3.9.16"
  }
 },
 "nbformat": 4,
 "nbformat_minor": 2
}
