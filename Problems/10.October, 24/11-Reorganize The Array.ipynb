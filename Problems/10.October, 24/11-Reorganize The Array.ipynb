{
 "cells": [
  {
   "cell_type": "markdown",
   "metadata": {},
   "source": [
    "Given an array of elements **arr[]** with indices ranging from **0** to **arr.size() - 1**, your task is to write a program that rearranges the elements of the array such that **arr[i] = i**. If an element i is not present in the array, **-1** should be placed at the corresponding index.\n",
    "\n",
    "<br>\n",
    "\n",
    "**Examples:**\n",
    ">**Input:** arr[] = [-1, -1, 6, 1, 9, 3, 2, -1, 4, -1]<br>\n",
    ">**Output:** [-1, 1, 2, 3, 4, -1, 6, -1, -1, 9]<br>\n",
    ">**Explanation:** Here We can see there are 10 elements. So, the sorted array will look like [0, 1, 2, 3, 4, 5, 6, 7, 8, 9] but in our array we are not having 0, 5, 7 and 8. So, at there places we will be printing -1 and otherplaces will be having elements.\n",
    "\n",
    ">**Input:** arr[] = [2, 0, 1]<br>\n",
    ">**Output:** [0, 1, 2]<br>\n",
    ">**Explanation:** Here We can see all the elements are present so no -1 is returned in array.\n",
    "\n",
    "<br>\n",
    "\n",
    "**Expected Time Complexity:** O(n).<br>\n",
    "**Expected Auxiliary Space:** O(1).\n",
    "\n",
    "**Constraints:**\n",
    "- >0 ≤ arr.size() ≤ 10<sup>5</sup>\n",
    "- >-1 ≤ arr[i] ≤ arr.size()-1"
   ]
  },
  {
   "cell_type": "code",
   "execution_count": 1,
   "metadata": {},
   "outputs": [],
   "source": [
    "class Solution:\n",
    "    def rearrange(self, arr):\n",
    "        # Code here\n",
    "        n = len(arr)\n",
    "    \n",
    "        for i in range(n):\n",
    "            while arr[i] != -1 and arr[i] != i:\n",
    "                if arr[i] == arr[arr[i]]:\n",
    "                    break\n",
    "                \n",
    "                arr[arr[i]], arr[i] = arr[i], arr[arr[i]]\n",
    "        \n",
    "        for i in range(n):\n",
    "            if arr[i] != i:\n",
    "                arr[i] = -1\n",
    "        \n",
    "        return arr"
   ]
  }
 ],
 "metadata": {
  "kernelspec": {
   "display_name": "base",
   "language": "python",
   "name": "python3"
  },
  "language_info": {
   "codemirror_mode": {
    "name": "ipython",
    "version": 3
   },
   "file_extension": ".py",
   "mimetype": "text/x-python",
   "name": "python",
   "nbconvert_exporter": "python",
   "pygments_lexer": "ipython3",
   "version": "3.9.16"
  }
 },
 "nbformat": 4,
 "nbformat_minor": 2
}
