{
 "cells": [
  {
   "cell_type": "markdown",
   "metadata": {},
   "source": [
    "Given an array of integers **arr**, the task is to find and return the maximum sum of the **smallest** and **second smallest** element among all possible subarrays of size greater than one. If it is not possible, then return **-1**.\n",
    "\n",
    "<br>\n",
    "\n",
    "**Examples:**\n",
    ">**Input:** arr = [4, 3, 1, 5, 6]<br>\n",
    ">**Output:** 11<br>\n",
    ">**Explanation:** Subarrays with smallest and second smallest are,<br>\n",
    ">Subarray: [4, 3], smallest = 3, second smallest = 4, sum = 7<br>\n",
    ">Subarray: [4, 3, 1], smallest = 1, second smallest = 3, sum = 4<br>\n",
    ">Subarray: [4, 3, 1, 5], smallest = 1, second smallest = 3, sum = 4<br>\n",
    ">Subarray: [4, 3, 1, 5, 6], smallest = 1, second smallest = 3, sum = 4<br>\n",
    ">Subarray: [3, 1], smallest = 1, second smallest = 3, sum = 4<br>\n",
    ">Subarray: [3, 1, 5], smallest = 1, second smallest = 3, sum = 4<br>\n",
    ">Subarray: [3, 1, 5, 6], smallest = 1, second smallest = 3, sum = 4<br>\n",
    ">Subarray: [1, 5], smallest = 1, second smallest = 5, sum = 6<br>\n",
    ">Subarray: [1, 5, 6] ,smallest = 1, second smallest = 5, sum = 6<br>\n",
    ">Subarray: [5, 6], smallest = 5, second smallest = 6, sum = 11<br>\n",
    ">Maximum sum among all above choices is, 5 + 6 = 11, hence the answer is 11.\n",
    "\n",
    ">**Input:** arr = [1]<br>\n",
    ">**Output:** -1<br>\n",
    ">**Explanation:** Here the size of array is 1, but we need minimum 2 elements. Hence, the answer is -1.\n",
    "\n",
    "<br>\n",
    "\n",
    "**Expected Time Complexity:** O(n)<br>\n",
    "**Expected Space Complexity:** O(1)\n",
    "\n",
    "**Constraints:**\n",
    "- >1<=arr.size()<=10<sup>5</sup> \n",
    "- >1<=arr[i]<=10<sup>5</sup>"
   ]
  },
  {
   "cell_type": "code",
   "execution_count": 1,
   "metadata": {},
   "outputs": [],
   "source": [
    "class Solution:\n",
    "    def pairWithMaxSum(self, arr):\n",
    "        # code here\n",
    "        if len(arr) < 2:\n",
    "            return -1\n",
    "        \n",
    "        max_sum = -1\n",
    "        \n",
    "        for i in range(len(arr) - 1):\n",
    "            sum_of_two = arr[i] + arr[i + 1]\n",
    "            \n",
    "            max_sum = max(max_sum, sum_of_two)\n",
    "        \n",
    "        return max_sum"
   ]
  }
 ],
 "metadata": {
  "kernelspec": {
   "display_name": "base",
   "language": "python",
   "name": "python3"
  },
  "language_info": {
   "codemirror_mode": {
    "name": "ipython",
    "version": 3
   },
   "file_extension": ".py",
   "mimetype": "text/x-python",
   "name": "python",
   "nbconvert_exporter": "python",
   "pygments_lexer": "ipython3",
   "version": "3.9.16"
  }
 },
 "nbformat": 4,
 "nbformat_minor": 2
}
