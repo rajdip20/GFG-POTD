{
 "cells": [
  {
   "cell_type": "markdown",
   "metadata": {},
   "source": [
    "Given a Singly Linked List, Delete all **alternate** nodes of the list ie delete all the nodes present in even positions.\n",
    "\n",
    "<br>\n",
    "\n",
    "**Examples:**\n",
    ">**Input:** LinkedList: 1->2->3->4->5->6<br>\n",
    ">![image1](../../images/blobid0_1720609786.png)<br>\n",
    ">**Output:** 1->3->5<br>\n",
    ">![image2](../../images/blobid1_1720609803.png)<br>\n",
    ">**Explanation:** Deleting alternate nodes ie 2, 4, 6 results in the linked list with elements 1->3->5.\n",
    "\n",
    ">**Input:** LinkedList: 99->59->42->20<br>\n",
    ">![image3](../../images/blobid2_1720609822.png)<br>\n",
    ">**Output:** 99->42<br>\n",
    ">![image4](../../images/blobid3_1720609839.png)\n",
    "\n",
    "<br>\n",
    "\n",
    "**Expected Time Complexity:** O(n)<br>\n",
    "**Expected Auxiliary Space:** O(1)\n",
    "\n",
    "**Constraints:**\n",
    "- >1 <= number of nodes <= 10<sup>5</sup>\n",
    "- >1 <= node->data <= 10<sup>3</sup>"
   ]
  },
  {
   "cell_type": "code",
   "execution_count": 1,
   "metadata": {},
   "outputs": [],
   "source": [
    "'''class Node: \n",
    "   \n",
    "    # Function to initialize the node object \n",
    "    def __init__(self, data): \n",
    "        self.data = data  \n",
    "        self.next = None'''\n",
    "\n",
    "class Solution:\n",
    "    def deleteAlt(self, head):\n",
    "        # code here\n",
    "        if head is None:\n",
    "            return None\n",
    "\n",
    "        current = head\n",
    "        while current and current.next:\n",
    "            current.next = current.next.next\n",
    "            current = current.next\n",
    "        \n",
    "        return head"
   ]
  }
 ],
 "metadata": {
  "kernelspec": {
   "display_name": "base",
   "language": "python",
   "name": "python3"
  },
  "language_info": {
   "codemirror_mode": {
    "name": "ipython",
    "version": 3
   },
   "file_extension": ".py",
   "mimetype": "text/x-python",
   "name": "python",
   "nbconvert_exporter": "python",
   "pygments_lexer": "ipython3",
   "version": "3.9.16"
  }
 },
 "nbformat": 4,
 "nbformat_minor": 2
}
