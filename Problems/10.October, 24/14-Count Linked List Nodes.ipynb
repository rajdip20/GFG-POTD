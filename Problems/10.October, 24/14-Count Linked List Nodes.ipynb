{
 "cells": [
  {
   "cell_type": "markdown",
   "metadata": {},
   "source": [
    "Given a singly linked list. The task is to find the length of the linked list, where length is defined as the number of nodes in the linked list.\n",
    "\n",
    "<br>\n",
    "\n",
    "**Examples:**\n",
    ">**Input:** LinkedList : 1->2->3->4->5<br>\n",
    ">![image1](../../images/blobid0_1720505073.png)<br>\n",
    ">**Output:** 5<br>\n",
    ">**Explanation:** Count of nodes in the linked list is 5, which is its length.\n",
    "\n",
    ">**Input:** LinkedList : 2->4->6->7->5->1->0<br>\n",
    ">![image2](../../images/blobid1_1720505089.png)<br>\n",
    ">**Output:** 7<br>\n",
    ">**Explanation:** Count of nodes in the linked list is 7. Hence, the output is 7.\n",
    "\n",
    "<br>\n",
    "\n",
    "**Expected Time Complexity:** O(n)<br>\n",
    "**Expected Auxilliary Space:** O(1)\n",
    "\n",
    "**Constraints:**\n",
    "- >1 <= number of nodes <= 10<sup>5</sup>\n",
    "- >1 <= node->data <= 10<sup>3</sup>"
   ]
  },
  {
   "cell_type": "code",
   "execution_count": 1,
   "metadata": {},
   "outputs": [],
   "source": [
    "'''\n",
    "#Linked list class\n",
    "class LinkedList:\n",
    "    def __init__(self):\n",
    "        self.head=None\n",
    "        self.tail=None\n",
    "        '''\n",
    "class Solution:\n",
    "    # Function to count nodes of a linked list.\n",
    "    def getCount(self, head):\n",
    "        # code here\n",
    "        count = 0\n",
    "        current = head\n",
    "        \n",
    "        while current is not None:\n",
    "            count += 1\n",
    "            current = current.next\n",
    "        \n",
    "        return count"
   ]
  }
 ],
 "metadata": {
  "kernelspec": {
   "display_name": "base",
   "language": "python",
   "name": "python3"
  },
  "language_info": {
   "codemirror_mode": {
    "name": "ipython",
    "version": 3
   },
   "file_extension": ".py",
   "mimetype": "text/x-python",
   "name": "python",
   "nbconvert_exporter": "python",
   "pygments_lexer": "ipython3",
   "version": "3.9.16"
  }
 },
 "nbformat": 4,
 "nbformat_minor": 2
}
