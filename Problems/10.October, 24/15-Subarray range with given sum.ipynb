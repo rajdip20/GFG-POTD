{
 "cells": [
  {
   "cell_type": "markdown",
   "metadata": {},
   "source": [
    "Given an unsorted array of integers **arr[]**, and a target **tar**, determine the number of subarrays whose elements sum up to the target value.\n",
    "\n",
    "<br>\n",
    "\n",
    "**Examples:**\n",
    ">**Input:** arr[] = [10, 2, -2, -20, 10] , tar = -10<br>\n",
    ">**Output:** 3<br>\n",
    ">**Explanation:** Subarrays with sum -10 are: [10, 2, -2, -20], [2, -2, -20, 10] and [-20, 10].\n",
    "\n",
    ">**Input:** arr[] = [1, 4, 20, 3, 10, 5] , tar = 33<br>\n",
    ">**Output:** 1<br>\n",
    ">**Explanation:** Subarray with sum 33 is: [20,3,10].\n",
    "\n",
    "<br>\n",
    "\n",
    "**Expected Time Complexity:** O(n)<br>\n",
    "**Expected Auxilary Space:** O(n)\n",
    "\n",
    "**Constraints:**\n",
    "- >1 <= arr.size() <= 10<sup>6</sup>\n",
    "- >-10<sup>5</sup> <= arr[i] <= 10<sup>5</sup>\n",
    "- >-10<sup>5</sup> <= tar <= 10<sup>5</sup>"
   ]
  },
  {
   "cell_type": "code",
   "execution_count": 1,
   "metadata": {},
   "outputs": [],
   "source": [
    "class Solution:\n",
    "    # Complete this fuction\n",
    "    # Function to count the number of subarrays which adds to the given sum.\n",
    "    def subArraySum(self, arr, tar):\n",
    "        # Your code here\n",
    "        prefix_sum = 0\n",
    "        prefix_count = {0: 1}\n",
    "        count = 0\n",
    "\n",
    "        for num in arr:\n",
    "            prefix_sum += num\n",
    "            \n",
    "            if prefix_sum - tar in prefix_count:\n",
    "                count += prefix_count[prefix_sum - tar]\n",
    "            \n",
    "            if prefix_sum in prefix_count:\n",
    "                prefix_count[prefix_sum] += 1\n",
    "            else:\n",
    "                prefix_count[prefix_sum] = 1\n",
    "\n",
    "        return count"
   ]
  }
 ],
 "metadata": {
  "kernelspec": {
   "display_name": "base",
   "language": "python",
   "name": "python3"
  },
  "language_info": {
   "codemirror_mode": {
    "name": "ipython",
    "version": 3
   },
   "file_extension": ".py",
   "mimetype": "text/x-python",
   "name": "python",
   "nbconvert_exporter": "python",
   "pygments_lexer": "ipython3",
   "version": "3.9.16"
  }
 },
 "nbformat": 4,
 "nbformat_minor": 2
}
