{
 "cells": [
  {
   "cell_type": "markdown",
   "metadata": {},
   "source": [
    "Given a permutation of some of the first natural numbers in an array **arr[]**, determine if the array can be sorted in exactly two swaps. A swap can involve the same pair of indices twice.\n",
    "\n",
    "Return **true** if it is possible to sort the array with exactly two swaps, otherwise return **false**.\n",
    "\n",
    "<br>\n",
    "\n",
    "**Examples:**\n",
    ">**Input:** arr = [4, 3, 2, 1]<br>\n",
    ">**Output:** true<br>\n",
    ">**Explanation:** First, swap arr[0] and arr[3]. The array becomes [1, 3, 2, 4]. Then, swap arr[1] and arr[2]. The array becomes [1, 2, 3, 4], which is sorted.\n",
    "\n",
    ">**Input:** arr = [4, 3, 1, 2]<br>\n",
    ">**Output:** false<br>\n",
    ">**Explanation:** It is not possible to sort the array with exactly two swaps.\n",
    "\n",
    "<br>\n",
    "\n",
    "**Constraints:**\n",
    "- >1 ≤ arr.size() ≤ 10<sup>6</sup>\n",
    "- >1 ≤ arr[i] ≤ arr.size()"
   ]
  },
  {
   "cell_type": "code",
   "execution_count": 1,
   "metadata": {},
   "outputs": [],
   "source": [
    "class Solution:\n",
    "    def checkSorted(self, arr):\n",
    "        # code here\n",
    "        hash1 = {}\n",
    "\n",
    "        for i in range(1, len(arr)+1):\n",
    "            hash1[arr[i-1]] = i\n",
    "        \n",
    "        swap = 0\n",
    "        for i in range(1, len(arr)+1):\n",
    "            if swap == 2 and i == len(arr):\n",
    "                return True\n",
    "            \n",
    "            if swap > 2:\n",
    "                return False\n",
    "            \n",
    "            if arr[i-1] != i:\n",
    "                arr[i-1], arr[hash1[i]-1] = arr[hash1[i]-1], arr[i-1]\n",
    "                swap += 1\n",
    "        \n",
    "        return not swap"
   ]
  }
 ],
 "metadata": {
  "kernelspec": {
   "display_name": "base",
   "language": "python",
   "name": "python3"
  },
  "language_info": {
   "codemirror_mode": {
    "name": "ipython",
    "version": 3
   },
   "file_extension": ".py",
   "mimetype": "text/x-python",
   "name": "python",
   "nbconvert_exporter": "python",
   "pygments_lexer": "ipython3",
   "version": "3.9.16"
  }
 },
 "nbformat": 4,
 "nbformat_minor": 2
}
