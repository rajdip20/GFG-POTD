{
 "cells": [
  {
   "cell_type": "markdown",
   "metadata": {},
   "source": [
    "Given a singly linked list's **head**. Your task is to complete the function **alternatingSplitList()** that splits the given linked list into two smaller lists. The sublists should be made from alternating elements from the original list.\n",
    "\n",
    "**Note:**\n",
    "- The sublist should be in the order with respect to the original list.\n",
    "- Your have to **return** an array containing the both **sub-linked lists**.\n",
    "\n",
    "<br>\n",
    "\n",
    "**Examples:**\n",
    ">**Input:** LinkedList = 0->1->0->1->0->1<br>\n",
    ">**Output:** 0->0->0 , 1->1->1<br>\n",
    ">**Explanation:** After forming two sublists of the given list as required, we have two lists as: 0->0->0 and 1->1->1.<br>\n",
    ">![image1](../../images/blobid0_1720674305.png)\n",
    "\n",
    ">**Input:** LinkedList = 2->5->8->9->6<br>\n",
    ">**Output:** 2->8->6 , 5->9<br>\n",
    ">**Explanation:** After forming two sublists of the given list as required, we have two lists as: 2->8->6 and 5->9.\n",
    "\n",
    ">**Input:** LinkedList: 7 <br>\n",
    ">**Output:** 7 , <|empty linked list|>\n",
    "\n",
    "<br>\n",
    "\n",
    "**Constraints:**\n",
    "- >1 <= number of nodes <= 100\n",
    "- >1 <= node -> data <= 10<sup>4</sup>"
   ]
  },
  {
   "cell_type": "code",
   "execution_count": 1,
   "metadata": {},
   "outputs": [],
   "source": [
    "'''\n",
    "class Node:\n",
    "    def _init_(self, data):\n",
    "        self.data = data\n",
    "        self.next = None\n",
    "'''\n",
    "\n",
    "class Solution:\n",
    "    def alternatingSplitList(self, head):\n",
    "        # Your code here\n",
    "        if not head:\n",
    "            return [None, None]\n",
    "\n",
    "        even_head = even_tail = None\n",
    "        odd_head = odd_tail = None\n",
    "        \n",
    "        is_even = True\n",
    "        current = head\n",
    "\n",
    "        while current:\n",
    "            if is_even:\n",
    "                if even_head is None:\n",
    "                    even_head = even_tail = current\n",
    "                else:\n",
    "                    even_tail.next = current\n",
    "                    even_tail = even_tail.next\n",
    "            else:\n",
    "                if odd_head is None:\n",
    "                    odd_head = odd_tail = current\n",
    "                else:\n",
    "                    odd_tail.next = current\n",
    "                    odd_tail = odd_tail.next\n",
    "\n",
    "            is_even = not is_even\n",
    "            current = current.next\n",
    "        \n",
    "        if even_tail:\n",
    "            even_tail.next = None\n",
    "        if odd_tail:\n",
    "            odd_tail.next = None\n",
    "        \n",
    "        return [even_head, odd_head]"
   ]
  }
 ],
 "metadata": {
  "kernelspec": {
   "display_name": "base",
   "language": "python",
   "name": "python3"
  },
  "language_info": {
   "codemirror_mode": {
    "name": "ipython",
    "version": 3
   },
   "file_extension": ".py",
   "mimetype": "text/x-python",
   "name": "python",
   "nbconvert_exporter": "python",
   "pygments_lexer": "ipython3",
   "version": "3.9.16"
  }
 },
 "nbformat": 4,
 "nbformat_minor": 2
}
