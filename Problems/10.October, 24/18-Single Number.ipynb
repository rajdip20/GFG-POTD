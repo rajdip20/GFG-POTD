{
 "cells": [
  {
   "cell_type": "markdown",
   "metadata": {},
   "source": [
    "Given an array **arr[]** of positive integers where every element appears even times except for one. Find that number occurring an odd number of times.\n",
    "\n",
    "<br>\n",
    "\n",
    "**Examples:**\n",
    ">**Input:** arr[] = [1, 1, 2, 2, 2]<br>\n",
    ">**Output:** 2<br>\n",
    ">**Explanation:** In the given array all element appear two times except 2 which appears thrice.\n",
    "\n",
    ">**Input:** arr[] = [8, 8, 7, 7, 6, 6, 1]<br>\n",
    ">**Output:** 1<br>\n",
    ">**Explanation:** In the given array all element appear two times except 1 which appears once.\n",
    "\n",
    "<br>\n",
    "\n",
    "**Expected Time Complexity:** O(n)<br>\n",
    "**Expected Auxiliary Space:** O(1)\n",
    "\n",
    "**Constraints:**\n",
    "- >1 ≤ arr.size() ≤ 10<sup>6</sup>\n",
    "- >0 ≤ arr<sub>i</sub> ≤ 10<sup>5</sup>"
   ]
  },
  {
   "cell_type": "code",
   "execution_count": 1,
   "metadata": {},
   "outputs": [],
   "source": [
    "class Solution:\n",
    "    \n",
    "    def getSingle(self, arr):\n",
    "        # code here\n",
    "        result = 0\n",
    "        \n",
    "        for num in arr:\n",
    "            result ^= num\n",
    "        \n",
    "        return result"
   ]
  }
 ],
 "metadata": {
  "kernelspec": {
   "display_name": "base",
   "language": "python",
   "name": "python3"
  },
  "language_info": {
   "codemirror_mode": {
    "name": "ipython",
    "version": 3
   },
   "file_extension": ".py",
   "mimetype": "text/x-python",
   "name": "python",
   "nbconvert_exporter": "python",
   "pygments_lexer": "ipython3",
   "version": "3.9.16"
  }
 },
 "nbformat": 4,
 "nbformat_minor": 2
}
