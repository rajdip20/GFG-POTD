{
 "cells": [
  {
   "cell_type": "markdown",
   "metadata": {},
   "source": [
    "A string **str** is given to represent a positive number. The task is to round str to the nearest multiple of 10.  If you have two multiples equally apart from str, choose the smallest element among them.\n",
    "\n",
    "<br>\n",
    "\n",
    "**Examples:**\n",
    ">**Input:** str = 29<br>\n",
    ">**Output:** 30<br>\n",
    ">**Explanation:** Close multiples are 20 and 30, and 30 is the nearest to 29. \n",
    "\n",
    ">**Input:** str = 15<br>\n",
    ">**Output:** 10<br>\n",
    ">**Explanation:** 10 and 20 are equally distant multiples from 20. The smallest of the two is 10.\n",
    "\n",
    "<br>\n",
    "\n",
    "**Expected Time Complexity:** O(n).<br>\n",
    "**Expected Auxiliary Space:** O(1).\n",
    "\n",
    "**Constraints:**\n",
    "- >1 <= str.size() <= 10<sup>5</sup>"
   ]
  },
  {
   "cell_type": "code",
   "execution_count": 1,
   "metadata": {},
   "outputs": [],
   "source": [
    "class Solution:\n",
    "    def roundToNearest (self, s):\n",
    "        # Complete the function\n",
    "        import sys\n",
    "        sys.set_int_max_str_digits(100000)\n",
    "        \n",
    "        n = len(s)\n",
    "        s = int(s)\n",
    "        left = (s // 10) * 10\n",
    "        right = (s // 10 + 1) * 10\n",
    "        \n",
    "        if s - left > right - s :\n",
    "            res = str(right)\n",
    "        else:\n",
    "            res = str(left)\n",
    "        \n",
    "        return res.zfill(n)"
   ]
  }
 ],
 "metadata": {
  "kernelspec": {
   "display_name": "base",
   "language": "python",
   "name": "python3"
  },
  "language_info": {
   "codemirror_mode": {
    "name": "ipython",
    "version": 3
   },
   "file_extension": ".py",
   "mimetype": "text/x-python",
   "name": "python",
   "nbconvert_exporter": "python",
   "pygments_lexer": "ipython3",
   "version": "3.9.16"
  }
 },
 "nbformat": 4,
 "nbformat_minor": 2
}
