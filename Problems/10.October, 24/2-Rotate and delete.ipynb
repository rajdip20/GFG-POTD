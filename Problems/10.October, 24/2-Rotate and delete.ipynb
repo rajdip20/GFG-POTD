{
 "cells": [
  {
   "cell_type": "markdown",
   "metadata": {},
   "source": [
    "Given an array **arr** integers. Do the following operation until a single element is left. For every **k<sup>th</sup>** operation:\n",
    "- Right, rotate the vector clockwise by **1**.\n",
    "- Delete the **(n – k + 1)<sup>th</sup>** element from the last.\n",
    "\n",
    "Now, Return the element that is left in the end.\n",
    "\n",
    "<br>\n",
    "\n",
    "**Examples:**\n",
    ">**Input:** arr = [1, 2, 3, 4, 5, 6]<br>\n",
    ">**Output:** 3<br>\n",
    ">**Explanation:** Rotate the array clockwise i.e. after rotation the array A = {6, 1, 2, 3, 4, 5} and delete the last element that is {5} that will be A = {6, 1, 2, 3, 4}. Again rotate the array for the second time and deletes the second last element that is {2} that will be A = {4, 6, 1, 3}, doing similar operation when we perform 4th operation, 4th last element does not exist. Then we deletes 1st element ie {1} that will be A = {3, 6}. So, continuing this procedure the last element in A is {3}. So, the output will be 3.\n",
    "\n",
    ">**Input:** arr = [1, 2, 3, 4]<br>\n",
    ">**Output:** 2<br>\n",
    ">**Explanation:** Rotate the vector clockwise i.e. after rotation the vector arr = [4, 1, 2, 3] and delete the last element that is 3 that will be arr = [4, 1, 2]. After doing all the operations, the output will be 2.\n",
    "\n",
    "<br>\n",
    "\n",
    "**Expected Time Complexity:** O(n<sup>2</sup>)<br>\n",
    "**Expected Auxiliary Space:** O(1)\n",
    "\n",
    "**Constraints:**\n",
    "- >1 <= arr.size() <= 10<sup>5</sup>\n",
    "- >1 <= arr[i] <= 10<sup>6</sup>"
   ]
  },
  {
   "cell_type": "code",
   "execution_count": 1,
   "metadata": {},
   "outputs": [],
   "source": [
    "class Solution:\n",
    "    def rotateDelete(self, arr):\n",
    "        # code here\n",
    "        n = len(arr)\n",
    "        \n",
    "        for k in range(1, n // 2 + 1):\n",
    "            arr.insert(0, arr.pop())\n",
    "            arr.pop(-k)\n",
    "        \n",
    "        return arr[0]"
   ]
  }
 ],
 "metadata": {
  "kernelspec": {
   "display_name": "base",
   "language": "python",
   "name": "python3"
  },
  "language_info": {
   "codemirror_mode": {
    "name": "ipython",
    "version": 3
   },
   "file_extension": ".py",
   "mimetype": "text/x-python",
   "name": "python",
   "nbconvert_exporter": "python",
   "pygments_lexer": "ipython3",
   "version": "3.9.16"
  }
 },
 "nbformat": 4,
 "nbformat_minor": 2
}
