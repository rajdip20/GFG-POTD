{
 "cells": [
  {
   "cell_type": "markdown",
   "metadata": {},
   "source": [
    "Given a doubly linked list, each node is at most k-indices away from its target position. The problem is to sort the given doubly linked list. The distance can be assumed in either of the directions (left and right).\n",
    "\n",
    "<br>\n",
    "\n",
    "**Examples:**<br>\n",
    ">**Input:** Doubly Linked List : 3 <-> 2 <-> 1 <-> 5 <-> 6 <-> 4 , k = 2<br>\n",
    ">**Output:** 1 <-> 2 <-> 3 <-> 4 <-> 5 <-> 6<br>\n",
    ">![image1](../../images/blobid0_1721194663.png)<br>\n",
    ">**Explanation:** After sorting the given 2-sorted list is 1 <-> 2 <-> 3 <-> 4 <-> 5 <-> 6.\n",
    "\n",
    ">**Input:** Doubly Linked List : 5 <-> 6 <-> 7 <-> 3 <-> 4 <-> 4 , k = 3<br>\n",
    ">**Output:** 3 <-> 4 <-> 4 <-> 5 <-> 6 <-> 7<br>\n",
    ">![image2](../../images/blobid1_1721194681.png)<br>\n",
    ">**Explanation:** After sorting the given 3-sorted list is 3 <-> 4 <-> 4 <-> 5 <-> 6 <-> 7.\n",
    "\n",
    "<br>\n",
    "\n",
    "**Expected Time Complexity:** O(n * logk)<br>\n",
    "**Expected Auxiliary Space:** O(k)\n",
    "\n",
    "**Constraints:**\n",
    "- >1 <= number of nodes <= 10<sup>5</sup>\n",
    "- >1 <= k < number of nodes\n",
    "- >1 <= node->data <= 10<sup>9</sup>"
   ]
  },
  {
   "cell_type": "code",
   "execution_count": 1,
   "metadata": {},
   "outputs": [],
   "source": [
    "'''\n",
    "class DLLNode:\n",
    "    def __init__(self,val) -> None:\n",
    "        self.data = val\n",
    "        self.prev = None\n",
    "        self.next = None\n",
    "'''\n",
    "class Solution:\n",
    "    def sortAKSortedDLL(self, head, k):\n",
    "        # Code Here\n",
    "        from heapq import heappush, heappop\n",
    "        \n",
    "        p = q = head\n",
    "        mean_heap = []\n",
    "        \n",
    "        while q:\n",
    "            heappush(mean_heap, q.data)\n",
    "            if len(mean_heap) >= k+1:\n",
    "                p.data = heappop(mean_heap)\n",
    "                p = p.next\n",
    "            q = q.next\n",
    "        \n",
    "        while mean_heap:\n",
    "            p.data = heappop(mean_heap)\n",
    "            p = p.next\n",
    "        \n",
    "        return head"
   ]
  }
 ],
 "metadata": {
  "kernelspec": {
   "display_name": "base",
   "language": "python",
   "name": "python3"
  },
  "language_info": {
   "codemirror_mode": {
    "name": "ipython",
    "version": 3
   },
   "file_extension": ".py",
   "mimetype": "text/x-python",
   "name": "python",
   "nbconvert_exporter": "python",
   "pygments_lexer": "ipython3",
   "version": "3.9.16"
  }
 },
 "nbformat": 4,
 "nbformat_minor": 2
}
