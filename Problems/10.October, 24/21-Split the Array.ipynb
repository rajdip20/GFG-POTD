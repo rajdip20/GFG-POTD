{
 "cells": [
  {
   "cell_type": "markdown",
   "metadata": {},
   "source": [
    "Given an array **arr[]** of integers, the task is to count the number of ways to split given array elements into two disjoint groups such that the XOR of elements of each group is equal.\n",
    "\n",
    "**Note:** The answer could be very large so print it by doing modulo with 10<sup>9</sup> + 7. \n",
    "\n",
    "<br>\n",
    "\n",
    "**Examples:**\n",
    ">**Input:** arr[] = [1, 2, 3]<br>\n",
    ">**Output:** 3<br>\n",
    ">**Explanation:** {(1),(2, 3)}, {(2),(1, 3)}, {(3),(1, 2)} are three ways with equal XOR value of two groups.\n",
    "\n",
    ">**Input:** arr[] = [5, 2, 3, 2]<br>\n",
    ">**Output:** 0<br>\n",
    ">**Explanation:** No way to split into  two groups whose XOR is equal.\n",
    "\n",
    "<br>\n",
    "\n",
    "**Expected Time Complexity:** O(n).<br>\n",
    "**Expected Auxiliary Space:** O(1).\n",
    "\n",
    "**Constraints:**\n",
    "- >1<=arr.size()<=10<sup>6</sup>\n",
    "- >1<=arr[i]<=10<sup>6</sup>"
   ]
  },
  {
   "cell_type": "code",
   "execution_count": 1,
   "metadata": {},
   "outputs": [],
   "source": [
    "class Solution:\n",
    "    def countgroup(self, arr):\n",
    "\t\t# Complete the function\n",
    "        from functools import reduce\n",
    "        from operator import xor\n",
    "\n",
    "        e = reduce(xor, arr, 0)\n",
    "        \n",
    "        return (2 ** len(arr) - 1) // 2 if e == 0 else 0"
   ]
  }
 ],
 "metadata": {
  "kernelspec": {
   "display_name": "base",
   "language": "python",
   "name": "python3"
  },
  "language_info": {
   "codemirror_mode": {
    "name": "ipython",
    "version": 3
   },
   "file_extension": ".py",
   "mimetype": "text/x-python",
   "name": "python",
   "nbconvert_exporter": "python",
   "pygments_lexer": "ipython3",
   "version": "3.9.16"
  }
 },
 "nbformat": 4,
 "nbformat_minor": 2
}
