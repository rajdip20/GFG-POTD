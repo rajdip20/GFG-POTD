{
 "cells": [
  {
   "cell_type": "markdown",
   "metadata": {},
   "source": [
    "Given an array **arr[]** and two integers say, **x** and **y**, find the number of sub-arrays in which the number of occurrences of **x** is equal to the number of occurrences of **y**.\n",
    "\n",
    "<br>\n",
    "\n",
    "**Examples:**\n",
    ">**Input:** arr[] = [1, 2, 1] , x= 1 , y = 2<br>\n",
    ">**Output:** 2<br>\n",
    ">**Explanation:** The possible sub-arrays have same equal number of occurrences of x and y are:<br>\n",
    ">1) [1, 2], x and y have same occurrence(1).<br>\n",
    ">2) [2, 1], x and y have same occurrence(1).\n",
    "\n",
    ">**Input:** arr[] = [1, 2, 1] , x = 4 , y = 6<br>\n",
    ">**Output:** 6<br>\n",
    ">**Explanation:** The possible sub-arrays have same equal number of occurrences of x and y are:<br>\n",
    ">1) [1], x and y have same occurrence(0).<br>\n",
    ">2) [2], x and y have same occurrence(0).<br>\n",
    ">3) [1], x and y have same occurrence(0).<br>\n",
    ">4) [1, 2], x and y have same occurrence(0).<br>\n",
    ">5) [2, 1], x and y have same occurrence(0).<br>\n",
    ">6) [1, 2, 1], x and y have same occurrence(0).\n",
    "\n",
    ">**Input:** arr[] = [1, 2, 1] , x= 1 , y = 4<br>\n",
    ">**Output:** 1<br>\n",
    ">**Explanation:** The possible sub-array have same equal number of occurrences of x and y is: [2], x and y have same occurrence(1)\n",
    "\n",
    "<br>\n",
    "\n",
    "**Constraints:** \n",
    "- >1 <= arr.size() <= 10<sup>6</sup>\n",
    "- >1 <= arr[i], x, y<=10<sup>6</sup>"
   ]
  },
  {
   "cell_type": "code",
   "execution_count": 1,
   "metadata": {},
   "outputs": [],
   "source": [
    "class Solution:\n",
    "    def sameOccurrence(self, arr, x, y):\n",
    "        # code here\n",
    "        diff = 0\n",
    "        result = 0\n",
    "        hashmap = {0: 1}\n",
    "        \n",
    "        for num in arr:\n",
    "            if num == x:\n",
    "                diff += 1\n",
    "            elif num == y:\n",
    "                diff -= 1\n",
    "            \n",
    "            if diff in hashmap:\n",
    "                result += hashmap[diff]\n",
    "            \n",
    "            hashmap[diff] = hashmap.get(diff, 0) + 1\n",
    "        \n",
    "        return result"
   ]
  }
 ],
 "metadata": {
  "kernelspec": {
   "display_name": "base",
   "language": "python",
   "name": "python3"
  },
  "language_info": {
   "codemirror_mode": {
    "name": "ipython",
    "version": 3
   },
   "file_extension": ".py",
   "mimetype": "text/x-python",
   "name": "python",
   "nbconvert_exporter": "python",
   "pygments_lexer": "ipython3",
   "version": "3.9.16"
  }
 },
 "nbformat": 4,
 "nbformat_minor": 2
}
