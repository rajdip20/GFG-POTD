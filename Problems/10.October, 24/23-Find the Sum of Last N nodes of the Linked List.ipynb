{
 "cells": [
  {
   "cell_type": "markdown",
   "metadata": {},
   "source": [
    "Given a single linked list, calculate the **sum** of the last **n** nodes.\n",
    "\n",
    "Note: It is guaranteed that n <= number of nodes.\n",
    "\n",
    "<br>\n",
    "\n",
    "**Examples:**\n",
    ">**Input:** Linked List: 5->9->6->3->4->10, n = 3<br>\n",
    ">![image1](../../images/blobid0_1720631715.png)<br>\n",
    ">**Output:** 17<br>\n",
    ">**Explanation:** The sum of the last three nodes in the linked list is 3 + 4 + 10 = 17.\n",
    "\n",
    ">**Input:** Linked List: 1->2, n = 2<br>\n",
    ">![image2](../../images/blobid1_1720631747.png)<br>\n",
    ">**Output:** 3<br>\n",
    ">**Explanation:** The sum of the last two nodes in the linked list is 2 + 1 = 3.\n",
    "\n",
    "<br>\n",
    "\n",
    "**Constraints:**\n",
    "- >1 <= number of nodes, n <= 10<sup>5</sup>\n",
    "- >1 <= node->data <= 10<sup>3</sup>"
   ]
  },
  {
   "cell_type": "code",
   "execution_count": 1,
   "metadata": {},
   "outputs": [],
   "source": [
    "'''\n",
    "# Node Class\n",
    "class Node:\n",
    "    def __init__(self, data):   # data -> value stored in node\n",
    "        self.data = data\n",
    "        self.next = None\n",
    "'''\n",
    "class Solution:\n",
    "    def sumOfLastN_Nodes(self, head, n):\n",
    "        # function should return sum of last n nodes\n",
    "        first = head\n",
    "        second = head\n",
    "        \n",
    "        for _ in range(n):\n",
    "            first = first.next\n",
    "        \n",
    "        while first:\n",
    "            first = first.next\n",
    "            second = second.next\n",
    "        \n",
    "        total_sum = 0\n",
    "        while second:\n",
    "            total_sum += second.data\n",
    "            second = second.next\n",
    "        \n",
    "        return total_sum"
   ]
  }
 ],
 "metadata": {
  "kernelspec": {
   "display_name": "base",
   "language": "python",
   "name": "python3"
  },
  "language_info": {
   "codemirror_mode": {
    "name": "ipython",
    "version": 3
   },
   "file_extension": ".py",
   "mimetype": "text/x-python",
   "name": "python",
   "nbconvert_exporter": "python",
   "pygments_lexer": "ipython3",
   "version": "3.9.16"
  }
 },
 "nbformat": 4,
 "nbformat_minor": 2
}
