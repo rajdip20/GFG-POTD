{
 "cells": [
  {
   "cell_type": "markdown",
   "metadata": {},
   "source": [
    "Given an array **arr**. Return the modified array in such a way that if the current and next numbers are **valid** numbers and are equal then **double** the current number value and **replace** the next number with **0**. After the modification, rearrange the array such that all 0's are shifted to the end.\n",
    "\n",
    "**Note:**\n",
    "1. Assume **‘0’** as the invalid number and all others as a valid number.\n",
    "2. The **sequence** of the valid numbers is present in the same order.\n",
    "\n",
    "<br>\n",
    "\n",
    "**Example:**\n",
    ">**Input:** arr[] = [2, 2, 0, 4, 0, 8]<br>\n",
    ">**Output:** [4, 4, 8, 0, 0, 0]<br>\n",
    ">**Explanation:** At index 0 and 1 both the elements are the same. So, we will change the element at index 0 to 4 and the element at index 1 is 0 then we will shift all the zeros to the end of the array. So, the array will become [4, 4, 8, 0, 0, 0].\n",
    "\n",
    ">**Input:** arr[] = [0, 2, 2, 2, 0, 6, 6, 0, 0, 8]<br>\n",
    ">**Output:** [4, 2, 12, 8, 0, 0, 0, 0, 0, 0]<br>\n",
    ">**Explanation:** At index 5 and 6 both the elements are the same. So, we will change the element at index 5 to 12 and the element at index 6 is 0. We will change the element at index 1 to 4 and the element at index 2 is 0. Then we shift all the zeros to the end of the array. So, array will become [4, 2, 12, 8, 0, 0, 0, 0, 0, 0].\n",
    "\n",
    "<br>\n",
    "\n",
    "**Expected Time Complexity:** O(n)<br>\n",
    "**Expected Auxiliary Space:** O(n)\n",
    "\n",
    "**Constraints:**\n",
    "- >1 ≤ arr.size() ≤ 10<sup>5</sup>\n",
    "- >1 ≤ arr[i] ≤ 10<sup>6</sup>"
   ]
  },
  {
   "cell_type": "code",
   "execution_count": 1,
   "metadata": {},
   "outputs": [],
   "source": [
    "class Solution:\n",
    "    def modifyAndRearrangeArr (self, arr) : \n",
    "        # Complete the function\n",
    "        n = len(arr)\n",
    "    \n",
    "        for i in range(n - 1):\n",
    "            if arr[i] != 0 and arr[i] == arr[i + 1]:\n",
    "                arr[i] = arr[i] * 2\n",
    "                arr[i + 1] = 0\n",
    "\n",
    "        result = []\n",
    "        \n",
    "        for i in range(n):\n",
    "            if arr[i] != 0:\n",
    "                result.append(arr[i])\n",
    "\n",
    "        while len(result) < n:\n",
    "            result.append(0)\n",
    "\n",
    "        return result"
   ]
  }
 ],
 "metadata": {
  "kernelspec": {
   "display_name": "base",
   "language": "python",
   "name": "python3"
  },
  "language_info": {
   "codemirror_mode": {
    "name": "ipython",
    "version": 3
   },
   "file_extension": ".py",
   "mimetype": "text/x-python",
   "name": "python",
   "nbconvert_exporter": "python",
   "pygments_lexer": "ipython3",
   "version": "3.9.16"
  }
 },
 "nbformat": 4,
 "nbformat_minor": 2
}
