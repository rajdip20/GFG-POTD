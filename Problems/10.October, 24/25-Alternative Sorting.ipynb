{
 "cells": [
  {
   "cell_type": "markdown",
   "metadata": {},
   "source": [
    "Given an array **arr** of **distinct** integers. Rearrange the array in such a way that the first element is the largest and the second element is the smallest, the third element is the second largest and the fourth element is the second smallest, and so on.\n",
    "\n",
    "<br>\n",
    "\n",
    "**Examples:**\n",
    ">**Input:** arr[] = [7, 1, 2, 3, 4, 5, 6]<br>\n",
    ">**Output:** [7, 1, 6, 2, 5, 3, 4]<br>\n",
    ">**Explanation:** The first element is first maximum and second element is first minimum and so on.\n",
    "\n",
    ">**Input:** arr[] = [1, 6, 9, 4, 3, 7, 8, 2]<br>\n",
    ">**Output:** [9, 1, 8, 2, 7, 3, 6, 4]<br>\n",
    ">**Explanation:** The first element is first maximum and second element is first minimum and so on.\n",
    "\n",
    "<br>\n",
    "\n",
    "**Expected Time Complexity:** O(nlogn).<br>\n",
    "**Expected Auxiliary Space:** O(n).\n",
    "\n",
    "**Constraints:**\n",
    "- >1 ≤ arr.size() ≤ 10<sup>5</sup>\n",
    "- >1 ≤ arr[i] ≤ 10<sup>5</sup>"
   ]
  },
  {
   "cell_type": "code",
   "execution_count": 1,
   "metadata": {},
   "outputs": [],
   "source": [
    "class Solution:\n",
    "    def alternateSort(self, arr):\n",
    "        # Your code goes here\n",
    "        arr.sort()\n",
    "        i, j = 0, len(arr) - 1\n",
    "        result = []\n",
    "        \n",
    "        while i <= j:\n",
    "            result.append(arr[j])\n",
    "            j -= 1\n",
    "            \n",
    "            if i <= j:\n",
    "                result.append(arr[i])\n",
    "                i += 1\n",
    "        \n",
    "        return result"
   ]
  }
 ],
 "metadata": {
  "kernelspec": {
   "display_name": "base",
   "language": "python",
   "name": "python3"
  },
  "language_info": {
   "codemirror_mode": {
    "name": "ipython",
    "version": 3
   },
   "file_extension": ".py",
   "mimetype": "text/x-python",
   "name": "python",
   "nbconvert_exporter": "python",
   "pygments_lexer": "ipython3",
   "version": "3.9.16"
  }
 },
 "nbformat": 4,
 "nbformat_minor": 2
}
