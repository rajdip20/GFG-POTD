{
 "cells": [
  {
   "cell_type": "markdown",
   "metadata": {},
   "source": [
    "Given a singly **linked list** and a **key**, count the number of occurrences of the given **key** in the linked list.\n",
    "\n",
    "<br>\n",
    "\n",
    "**Examples:**\n",
    ">**Input:** Linked List: 1->2->1->2->1->3->1, key = 1<br>\n",
    ">![image1](../../images/blobid2_1721116358.png)<br>\n",
    ">**Output:** 4<br>\n",
    ">**Explanation:** 1 appears 4 times. \n",
    "\n",
    ">**Input:** Linked List: 1->2->1->2->1, key = 3<br>\n",
    ">![image2](../../images/blobid1_1721116168.png)<br>\n",
    ">**Output:** 0<br>\n",
    ">**Explanation:** 3 appears 0 times.\n",
    "\n",
    "<br>\n",
    "\n",
    "**Expected Time Complexity:** O(n)<br>\n",
    "**Expected Auxiliary Space:** O(1)\n",
    "\n",
    "**Constraints:**\n",
    "- >1 ≤ number of nodes, key ≤ 10<sup>5</sup>\n",
    "- >1 ≤ data of node ≤ 10<sup>5</sup>"
   ]
  },
  {
   "cell_type": "code",
   "execution_count": 1,
   "metadata": {},
   "outputs": [],
   "source": [
    "\"\"\"  \n",
    "class Node:\n",
    "    def __init__(self, data):\n",
    "\t\tself.data = data\n",
    "\t\tself.next = None\n",
    "  This is method only submission.\n",
    "  You only need to complete the method.\n",
    "\"\"\"\n",
    "class Solution:\n",
    "    def count(self, head, key):\n",
    "        # Code here\n",
    "        count = 0\n",
    "        current = head\n",
    "\n",
    "        while current:\n",
    "            if current.data == key:\n",
    "                count += 1\n",
    "            current = current.next\n",
    "        \n",
    "        return count"
   ]
  }
 ],
 "metadata": {
  "kernelspec": {
   "display_name": "base",
   "language": "python",
   "name": "python3"
  },
  "language_info": {
   "codemirror_mode": {
    "name": "ipython",
    "version": 3
   },
   "file_extension": ".py",
   "mimetype": "text/x-python",
   "name": "python",
   "nbconvert_exporter": "python",
   "pygments_lexer": "ipython3",
   "version": "3.9.16"
  }
 },
 "nbformat": 4,
 "nbformat_minor": 2
}
