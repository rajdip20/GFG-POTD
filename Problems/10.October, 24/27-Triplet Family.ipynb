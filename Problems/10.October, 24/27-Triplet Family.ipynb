{
 "cells": [
  {
   "cell_type": "markdown",
   "metadata": {},
   "source": [
    "Given an array **arr** of integers. Find whether three numbers are such that the sum of two elements equals the third element.\n",
    "\n",
    "<br>\n",
    "\n",
    "**Example:**\n",
    ">**Input:** arr[] = [1, 2, 3, 4, 5]<br>\n",
    ">**Output:** true<br>\n",
    ">**Explanation:** The pair (1, 2) sums to 3.\n",
    "\n",
    ">**Input:** arr[] = [5, 3, 4]<br>\n",
    ">**Output:** false<br>\n",
    ">**Explanation:** No triplets satisfy the condition.\n",
    "\n",
    "<br>\n",
    "\n",
    "**Expected Time Complexity:** O(n<sup>2</sup>)<br>\n",
    "**Expected Auxilary Space:** O(1)\n",
    "\n",
    "**Constraints:**\n",
    "- >1 <= arr.size() <= 10<sup>3</sup>\n",
    "- >0 <= arr[i] <= 10<sup>5</sup>"
   ]
  },
  {
   "cell_type": "code",
   "execution_count": 1,
   "metadata": {},
   "outputs": [],
   "source": [
    "class Solution:\n",
    "    def findTriplet(self, arr):\n",
    "        arr.sort()\n",
    "        n = len(arr)\n",
    "        \n",
    "        for i in range(n):\n",
    "            target = arr[i]\n",
    "            \n",
    "            left, right = 0, i - 1\n",
    "            while left < right:\n",
    "                current_sum = arr[left] + arr[right]\n",
    "                if current_sum == target:\n",
    "                    return True\n",
    "                elif current_sum < target:\n",
    "                    left += 1\n",
    "                else:\n",
    "                    right -= 1\n",
    "        \n",
    "        return False"
   ]
  }
 ],
 "metadata": {
  "kernelspec": {
   "display_name": "base",
   "language": "python",
   "name": "python3"
  },
  "language_info": {
   "codemirror_mode": {
    "name": "ipython",
    "version": 3
   },
   "file_extension": ".py",
   "mimetype": "text/x-python",
   "name": "python",
   "nbconvert_exporter": "python",
   "pygments_lexer": "ipython3",
   "version": "3.9.16"
  }
 },
 "nbformat": 4,
 "nbformat_minor": 2
}
