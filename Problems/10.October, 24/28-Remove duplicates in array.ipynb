{
 "cells": [
  {
   "cell_type": "markdown",
   "metadata": {},
   "source": [
    "Given an array **arr** consisting of positive integer numbers, remove all duplicate numbers.\n",
    "\n",
    "<br>\n",
    "\n",
    "**Example:**\n",
    ">**Input:** arr[] = [2, 2, 3, 3, 7, 5] <br>\n",
    ">**Output:** [2, 3, 7, 5]<br>\n",
    ">**Explanation:** After removing the duplicates 2 and 3 we get 2 3 7 5.\n",
    "\n",
    ">**Input:** arr[] = [2, 2, 5, 5, 7, 7] <br>\n",
    ">**Output:** [2, 5, 7]\n",
    "\n",
    ">**Input:** arr[] = [8, 7] <br>\n",
    ">**Output:** [8, 7]\n",
    "\n",
    "<br>\n",
    "\n",
    "**Constraints:**\n",
    "- >1<= arr.size() <=10<sup>6</sup>\n",
    "- >2<= arr[i] <=100"
   ]
  },
  {
   "cell_type": "code",
   "execution_count": 1,
   "metadata": {},
   "outputs": [],
   "source": [
    "class Solution:\n",
    "    def removeDuplicates(self, arr):\n",
    "        #code here\n",
    "        seen = set()\n",
    "        unique_arr = []\n",
    "        \n",
    "        for num in arr:\n",
    "            if num not in seen:\n",
    "                unique_arr.append(num)\n",
    "                seen.add(num)\n",
    "                \n",
    "        return unique_arr"
   ]
  }
 ],
 "metadata": {
  "kernelspec": {
   "display_name": "base",
   "language": "python",
   "name": "python3"
  },
  "language_info": {
   "codemirror_mode": {
    "name": "ipython",
    "version": 3
   },
   "file_extension": ".py",
   "mimetype": "text/x-python",
   "name": "python",
   "nbconvert_exporter": "python",
   "pygments_lexer": "ipython3",
   "version": "3.9.16"
  }
 },
 "nbformat": 4,
 "nbformat_minor": 2
}
