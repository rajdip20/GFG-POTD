{
 "cells": [
  {
   "cell_type": "markdown",
   "metadata": {},
   "source": [
    "You are given a Linked List. Sort the given Linked List using **quicksort**. \n",
    "\n",
    "<br>\n",
    "\n",
    "**Examples:**\n",
    ">**Input:** Linked list: 1->6->2<br>\n",
    ">**Output:** 1->2->6<br>\n",
    ">![image1](../../images/blobid0_1722180998.png)<br>\n",
    ">**Explanation:**<br>\n",
    ">After sorting the nodes, we have 1, 2 and 6.\n",
    "\n",
    ">**Input:** Linked list: 1->9->3->8<br>\n",
    ">**Output:** 1->3->8->9<br>\n",
    ">![image2](../../images/blobid1_1722181152.png)<br>\n",
    ">**Explanation:**<br>\n",
    ">After sorting the nodes, we have 1, 3, 8 and 9. \n",
    "\n",
    "<br>\n",
    "\n",
    "**Constraints:**\n",
    "- >1<= size of linked list <= 10<sup>5</sup>"
   ]
  },
  {
   "cell_type": "code",
   "execution_count": 1,
   "metadata": {},
   "outputs": [],
   "source": [
    "def quickSort(head):\n",
    "    # return head after sorting\n",
    "    def sort(h, t):\n",
    "        if not h or h == t or h.next == t:\n",
    "            return h\n",
    "            \n",
    "        v = h.data\n",
    "        dummy = Node(0)\n",
    "        dummy.next = h\n",
    "        \n",
    "        prev, w = dummy, h\n",
    "        \n",
    "        while w != t:\n",
    "            nw = w.next\n",
    "            if w.data < v:\n",
    "                prev.next = w.next\n",
    "                w.next = dummy.next\n",
    "                dummy.next = w\n",
    "            else:\n",
    "                prev = prev.next\n",
    "                \n",
    "            w = nw\n",
    "        \n",
    "        h.next = sort(h.next, t)\n",
    "        return sort(dummy.next, h)\n",
    "    return sort(head, None)"
   ]
  }
 ],
 "metadata": {
  "kernelspec": {
   "display_name": "base",
   "language": "python",
   "name": "python3"
  },
  "language_info": {
   "codemirror_mode": {
    "name": "ipython",
    "version": 3
   },
   "file_extension": ".py",
   "mimetype": "text/x-python",
   "name": "python",
   "nbconvert_exporter": "python",
   "pygments_lexer": "ipython3",
   "version": "3.9.16"
  }
 },
 "nbformat": 4,
 "nbformat_minor": 2
}
