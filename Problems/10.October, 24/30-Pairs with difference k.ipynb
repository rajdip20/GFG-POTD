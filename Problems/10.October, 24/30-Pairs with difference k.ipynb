{
 "cells": [
  {
   "cell_type": "markdown",
   "metadata": {},
   "source": [
    "Given an array **arr[]** of positive integers. Find the number of pairs of integers whose difference equals a given number k.\n",
    "\n",
    "**Note:** (a, b) and (b, a) are considered the same. Also, the same numbers at different indices are considered different.\n",
    "\n",
    "<br>\n",
    "\n",
    "**Examples:**\n",
    ">**Input:** arr[] = [1, 5, 3, 4, 2], k = 3<br>\n",
    ">**Output:** 2<br>\n",
    ">**Explanation:** There are 2 pairs with difference 3,the pairs are {1, 4} and {5, 2} \n",
    "\n",
    ">**Input:** arr[] = [8, 12, 16, 4, 0, 20], k = 4<br>\n",
    ">**Output:** 5<br>\n",
    ">**Explanation:** There are 5 pairs with difference 4, the pairs are {0, 4}, {4, 8}, {8, 12}, {12, 16} and {16, 20}.\n",
    "\n",
    "<br>\n",
    "\n",
    "**Constraints:**\n",
    "- >1 <= arr.size() <= 10<sup>6</sup>\n",
    "- >1 <= k <= 10<sup>6</sup>\n",
    "- >1 <= arri <= 10<sup>6</sup>"
   ]
  },
  {
   "cell_type": "code",
   "execution_count": 1,
   "metadata": {},
   "outputs": [],
   "source": [
    "class Solution:\n",
    "\tdef countPairsWithDiffK(self, arr, k):\n",
    "\t\t# code here\n",
    "\t\tcount = 0\n",
    "\t\thashMap = {}\n",
    "\t\tfor i in arr:\n",
    "\t\t\thashMap[i] = hashMap.get(i, 0) + 1\n",
    "\t\tfor number in arr:\n",
    "\t\t\tc = number + k\n",
    "\t\t\tif c in hashMap:\n",
    "\t\t\t\tcount += hashMap[c]\n",
    "\t\treturn count"
   ]
  }
 ],
 "metadata": {
  "kernelspec": {
   "display_name": "base",
   "language": "python",
   "name": "python3"
  },
  "language_info": {
   "codemirror_mode": {
    "name": "ipython",
    "version": 3
   },
   "file_extension": ".py",
   "mimetype": "text/x-python",
   "name": "python",
   "nbconvert_exporter": "python",
   "pygments_lexer": "ipython3",
   "version": "3.9.16"
  }
 },
 "nbformat": 4,
 "nbformat_minor": 2
}
