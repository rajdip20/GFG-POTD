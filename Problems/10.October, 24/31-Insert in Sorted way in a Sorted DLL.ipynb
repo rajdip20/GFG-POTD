{
 "cells": [
  {
   "cell_type": "markdown",
   "metadata": {},
   "source": [
    "Given a sorted doubly linked list and an element **x**, you need to insert the element **x** into the correct position in the sorted Doubly linked list(DLL).\n",
    "\n",
    "Note: The DLL is sorted in ascending order\n",
    "\n",
    "<br>\n",
    "\n",
    "**Example:**\n",
    ">**Input:** LinkedList: 3->5->8->10->12 , x = 9<br>\n",
    ">![image1](../../images/blobid0_1721115793.png)<br>\n",
    ">**Output:** 3->5->8->9->10->12<br>\n",
    ">![image2](../../images/blobid1_1721115806.png)<br>\n",
    ">**Explanation:** Here node 9 is inserted in the Doubly Linked-List.\n",
    "\n",
    ">**Input:** LinkedList: 1->4->10->11 , x = 15<br>\n",
    ">![image3](../../images/blobid2_1721115876.png)<br>\n",
    ">**Output:** 1->4->10->11->15<br>\n",
    ">![image4](../../images/blobid3_1721115891.png)\n",
    "\n",
    "<br>\n",
    "\n",
    "**Constraints:**\n",
    "- >1 <= number of nodes <= 10<sup>3</sup>\n",
    "- >1 <= node -> data , x <= 10<sup>4</sup>"
   ]
  },
  {
   "cell_type": "code",
   "execution_count": 1,
   "metadata": {},
   "outputs": [],
   "source": [
    "'''\n",
    "class Node:\n",
    "    def __init__(self, data):\n",
    "        self.data = data\n",
    "        self.prev = None\n",
    "        self.next = None\n",
    "'''\n",
    "class Solution:\n",
    "    # Function to insert a node in a sorted doubly linked list.\n",
    "    def sortedInsert(self, head, x):\n",
    "        # code here\n",
    "        new_node = Node(x)\n",
    "\n",
    "        if not head:\n",
    "            return new_node\n",
    "\n",
    "        if x < head.data:\n",
    "            new_node.next = head\n",
    "            head.prev = new_node\n",
    "            return new_node\n",
    "\n",
    "        current = head\n",
    "        while current.next and current.next.data < x:\n",
    "            current = current.next\n",
    "\n",
    "        new_node.next = current.next\n",
    "        if current.next:\n",
    "            current.next.prev = new_node\n",
    "        current.next = new_node\n",
    "        new_node.prev = current\n",
    "\n",
    "        return head"
   ]
  }
 ],
 "metadata": {
  "kernelspec": {
   "display_name": "base",
   "language": "python",
   "name": "python3"
  },
  "language_info": {
   "codemirror_mode": {
    "name": "ipython",
    "version": 3
   },
   "file_extension": ".py",
   "mimetype": "text/x-python",
   "name": "python",
   "nbconvert_exporter": "python",
   "pygments_lexer": "ipython3",
   "version": "3.9.16"
  }
 },
 "nbformat": 4,
 "nbformat_minor": 2
}
