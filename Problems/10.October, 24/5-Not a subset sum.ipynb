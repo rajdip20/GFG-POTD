{
 "cells": [
  {
   "cell_type": "markdown",
   "metadata": {},
   "source": [
    "Given a sorted array **arr[]** of positive integers, find the smallest positive integer such that it cannot be represented as the sum of elements of any subset of the given array set.\n",
    "\n",
    "<br>\n",
    "\n",
    "**Examples:**\n",
    ">**Input:** arr[] = [1, 2, 3]<br>\n",
    ">**Output:** 7<br>\n",
    ">**Explanation:** 7 is the smallest positive number for which no subset is there with sum 7.\n",
    "\n",
    ">**Input:** arr[] = [3, 6, 9, 10, 20, 28]<br>\n",
    ">**Output:** 1<br>\n",
    ">**Explanation:** 1 is the smallest positive number for which no subset is there with sum 1.\n",
    "\n",
    "<br>\n",
    "\n",
    "**Expected Time Complexity:** O(n)<br>\n",
    "**Expected Auxiliary Space:** O(1)\n",
    "\n",
    "**Constraints:**\n",
    "- >1 <= arr.size() <= 10<sup>6</sup>\n",
    "- >0 <= arr[i] <= 10<sup>8</sup>"
   ]
  },
  {
   "cell_type": "code",
   "execution_count": 1,
   "metadata": {},
   "outputs": [],
   "source": [
    "class Solution:\n",
    "    def findSmallest(self, arr):\n",
    "        # code here\n",
    "        smallest_unformable = 1\n",
    "    \n",
    "        for num in arr:\n",
    "            if num > smallest_unformable:\n",
    "                break\n",
    "            \n",
    "            smallest_unformable += num\n",
    "        \n",
    "        return smallest_unformable"
   ]
  }
 ],
 "metadata": {
  "kernelspec": {
   "display_name": "base",
   "language": "python",
   "name": "python3"
  },
  "language_info": {
   "codemirror_mode": {
    "name": "ipython",
    "version": 3
   },
   "file_extension": ".py",
   "mimetype": "text/x-python",
   "name": "python",
   "nbconvert_exporter": "python",
   "pygments_lexer": "ipython3",
   "version": "3.9.16"
  }
 },
 "nbformat": 4,
 "nbformat_minor": 2
}
