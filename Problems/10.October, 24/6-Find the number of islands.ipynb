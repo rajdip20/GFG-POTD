{
 "cells": [
  {
   "cell_type": "markdown",
   "metadata": {},
   "source": [
    "Given a grid of size n * m (n is the number of rows and m is the number of columns in the grid) consisting of '0's (Water) and '1's(Land). Find the number of islands.\n",
    "\n",
    "**Note:** An island is either surrounded by water or the boundary of a grid and is formed by connecting adjacent lands horizontally or vertically or diagonally i.e., in all 8 directions.\n",
    "\n",
    "<br>\n",
    "\n",
    "**Examples:**\n",
    ">**Input:** grid = [[0,1],[1,0],[1,1],[1,0]]<br>\n",
    ">**Output:** 1<br>\n",
    ">**Explanation:**<br>\n",
    ">The grid is-<br>\n",
    ">![image1](../../images/blobid0_1728204704.png)<br>\n",
    ">All lands are connected.\n",
    "\n",
    ">**Input:** grid = [[0,1,1,1,0,0,0],[0,0,1,1,0,1,0]]<br>\n",
    ">**Output:** 2<br>\n",
    ">**Expanation:**<br>\n",
    ">The grid is-<br>\n",
    ">![image2](../../images/blobid1_1728204704.png)<br>\n",
    ">There are two islands :- one is colored in \"blue\" and other in \"red\".\n",
    "\n",
    "<br>\n",
    "\n",
    "**Expected Time Complexity:** O(n * m)<br>\n",
    "**Expected Space Complexity:** O(n * m)\n",
    "\n",
    "**Constraints:**\n",
    "- >1 ≤ n, m ≤ 500\n",
    "- >grid[i][j] = {'0', '1'}"
   ]
  },
  {
   "cell_type": "code",
   "execution_count": 1,
   "metadata": {},
   "outputs": [],
   "source": [
    "class Solution:\n",
    "    def numIslands(self, grid):\n",
    "        # code here\n",
    "        if not grid:\n",
    "            return 0\n",
    "    \n",
    "        num_rows = len(grid)\n",
    "        num_cols = len(grid[0])\n",
    "        num_islands = 0\n",
    "    \n",
    "        def dfs(row, col):\n",
    "            if row < 0 or col < 0 or row >= num_rows or col >= num_cols or grid[row][col] == 0:\n",
    "                return\n",
    "            grid[row][col] = 0\n",
    "            dfs(row + 1, col)\n",
    "            dfs(row - 1, col)\n",
    "            dfs(row, col + 1)\n",
    "            dfs(row, col - 1)\n",
    "            dfs(row + 1, col + 1)\n",
    "            dfs(row + 1, col - 1)\n",
    "            dfs(row - 1, col + 1)\n",
    "            dfs(row - 1, col - 1)\n",
    "    \n",
    "        for i in range(num_rows):\n",
    "            for j in range(num_cols):\n",
    "                if grid[i][j] == 1:\n",
    "                    num_islands += 1\n",
    "                    dfs(i, j)\n",
    "    \n",
    "        return num_islands"
   ]
  }
 ],
 "metadata": {
  "kernelspec": {
   "display_name": "base",
   "language": "python",
   "name": "python3"
  },
  "language_info": {
   "codemirror_mode": {
    "name": "ipython",
    "version": 3
   },
   "file_extension": ".py",
   "mimetype": "text/x-python",
   "name": "python",
   "nbconvert_exporter": "python",
   "pygments_lexer": "ipython3",
   "version": "3.9.16"
  }
 },
 "nbformat": 4,
 "nbformat_minor": 2
}
