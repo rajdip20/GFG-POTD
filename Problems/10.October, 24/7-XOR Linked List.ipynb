{
 "cells": [
  {
   "cell_type": "markdown",
   "metadata": {},
   "source": [
    "An ordinary Doubly Linked List requires space for two address fields to store the addresses of previous and next nodes. A memory-efficient version of the Doubly Linked List can be created using only one space for the address field with every node. This memory-efficient Doubly Linked List is called XOR Linked List or Memory Efficient as the list uses bit-wise XOR operation to save space for one address.\n",
    "\n",
    "Given a stream of data of size **N** for the linked list, your task is to complete the function **insert()** and **getList()**. The **insert()** function pushes (or inserts at the beginning) the given data in the linked list and the **getList()**  function returns the linked list as a list.\n",
    "\n",
    "**Note:**\n",
    "1. A utility function XOR() takes two Node pointers to get the bit-wise XOR of the two Node pointers. Use this function to get the XOR of the two pointers.\n",
    "2. The driver code prints the returned list twice, once forward and once backwards.\n",
    "\n",
    "<br>\n",
    "\n",
    "**Examples:**\n",
    ">**Input:**<br>\n",
    ">LinkedList: 9<->5<->4<->7<->3<->10<br>\n",
    ">![image1](../../images/blobid0_1720967479.png)<br>\n",
    ">**Output:**<br>\n",
    ">10 3 7 4 5 9<br>\n",
    ">9 5 4 7 3 10\n",
    "\n",
    ">**Input:**<br>\n",
    ">LinkedList: 58<->96<->31<br>\n",
    ">![image2](../../images/blobid0_1721214940.png)<br>\n",
    ">**Output:**<br>\n",
    ">31 96 58<br>\n",
    ">58 96 31\n",
    "\n",
    "<br>\n",
    "\n",
    "**Expected Time Complexity:** O(n)<br>\n",
    "**Expected Auxiliary Space:** O(1)\n",
    "\n",
    "**Constraints:**\n",
    "- >1 <= number of nodes, data of nodes <= 10<sup>5</sup>"
   ]
  },
  {
   "cell_type": "code",
   "execution_count": 1,
   "metadata": {},
   "outputs": [],
   "source": [
    "def insert(head, data):\n",
    "    node = Node(data)\n",
    "    \n",
    "    if head == None:\n",
    "        head = node\n",
    "    else:\n",
    "        node.npx = head\n",
    "        head = node\n",
    "\n",
    "    return head\n",
    "\n",
    "def getList(head):\n",
    "    result = []\n",
    "    \n",
    "    while head:\n",
    "        result.append(head.data)\n",
    "        head = head.npx\n",
    "    \n",
    "    return result"
   ]
  }
 ],
 "metadata": {
  "kernelspec": {
   "display_name": "base",
   "language": "python",
   "name": "python3"
  },
  "language_info": {
   "codemirror_mode": {
    "name": "ipython",
    "version": 3
   },
   "file_extension": ".py",
   "mimetype": "text/x-python",
   "name": "python",
   "nbconvert_exporter": "python",
   "pygments_lexer": "ipython3",
   "version": "3.9.16"
  }
 },
 "nbformat": 4,
 "nbformat_minor": 2
}
