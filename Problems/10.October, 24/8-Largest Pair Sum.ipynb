{
 "cells": [
  {
   "cell_type": "markdown",
   "metadata": {},
   "source": [
    "Find the largest pair sum in an array of **distinct** integers.\n",
    "\n",
    "<br>\n",
    "\n",
    "**Examples:**\n",
    ">**Input:** arr[] = [12, 34, 10, 6, 40]<br>\n",
    ">**Output:** 74<br>\n",
    ">**Explanation:** Sum of 34 and 40 is the largest, i.e, 34 + 40 = 74.\n",
    "\n",
    ">**Input:** arr[] = [10, 20, 30]<br>\n",
    ">**Output:** 50<br>\n",
    ">**Explanation:** 20 + 30 = 50.\n",
    "\n",
    "<br>\n",
    "\n",
    "**Expected Time Complexity:** O(n)<br>\n",
    "**Expected Auxiliary Space:** O(1)\n",
    "\n",
    "**Constraints:**\n",
    "- >2 ≤ arr.size() ≤ 10<sup>6</sup>\n",
    "- >0 ≤ arr[i] ≤ 10<sup>6</sup>"
   ]
  },
  {
   "cell_type": "code",
   "execution_count": 1,
   "metadata": {},
   "outputs": [],
   "source": [
    "class Solution:\n",
    "    def pairsum(self, arr : list[int]) -> int:\n",
    "        # code here\n",
    "        first_max = second_max = float('-inf')\n",
    "    \n",
    "        for x in arr:\n",
    "            if x > first_max:\n",
    "                second_max = first_max\n",
    "                first_max = x\n",
    "            elif x > second_max:\n",
    "                second_max = x\n",
    "        \n",
    "        return first_max + second_max"
   ]
  }
 ],
 "metadata": {
  "kernelspec": {
   "display_name": "base",
   "language": "python",
   "name": "python3"
  },
  "language_info": {
   "codemirror_mode": {
    "name": "ipython",
    "version": 3
   },
   "file_extension": ".py",
   "mimetype": "text/x-python",
   "name": "python",
   "nbconvert_exporter": "python",
   "pygments_lexer": "ipython3",
   "version": "3.9.16"
  }
 },
 "nbformat": 4,
 "nbformat_minor": 2
}
