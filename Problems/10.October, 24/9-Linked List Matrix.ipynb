{
 "cells": [
  {
   "cell_type": "markdown",
   "metadata": {},
   "source": [
    "Given a Matrix **mat** of **n * n** size. Your task is constructing a 2D linked list representation of the given matrix.\n",
    "\n",
    "<br>\n",
    "\n",
    ">**Input:** mat = [[1, 2, 3], [4, 5, 6], [7, 8, 9]]<br>\n",
    ">**Output:** <br>\n",
    ">![image1](../../images/blobid0_1727092864.png)\n",
    "\n",
    ">**Input:** mat = [[23, 28], [23, 28]]<br>\n",
    ">**Output:**<br>\n",
    ">![image2](../../images/blobid1_1726147286.png)\n",
    "\n",
    "<br>\n",
    "\n",
    "**Expected Time Complexity:** O(n<sup>2</sup>)<br>\n",
    "**Expected Space Complexity:** O(n<sup>2</sup>)\n",
    "\n",
    "**Constraints:**\n",
    "- >1 <= mat.size() <=15\n",
    "- >1 <= mat[i][j] <=10<sup>4</sup>"
   ]
  },
  {
   "cell_type": "code",
   "execution_count": 1,
   "metadata": {},
   "outputs": [],
   "source": [
    "'''\n",
    "class Node():\n",
    "    def __init__(self,x):\n",
    "        self.data = x\n",
    "        self.right = None\n",
    "        self.down=None\n",
    "'''\n",
    "\n",
    "class Solution:\n",
    "    def constructLinkedMatrix(self, mat):\n",
    "        # your code goes here\n",
    "        flag = 0\n",
    "        n = len(mat)\n",
    "        \n",
    "        for i in range(n):\n",
    "            f1 = 0\n",
    "            for j in range(n):\n",
    "                if not flag:\n",
    "                    head = Node(mat[i][j])\n",
    "                    flag = 1\n",
    "                    cur = head\n",
    "                \n",
    "                if i + 1 < n:\n",
    "                    cur.down = Node(mat[i+1][j])\n",
    "\n",
    "                if j + 1 < n:\n",
    "                    cur.right = Node(mat[i][j+1])\n",
    " \n",
    "                if not f1:\n",
    "                    temp = cur\n",
    "                    f1 = 1\n",
    "                cur = cur.right\n",
    "            cur = temp.down\n",
    "        \n",
    "        return head"
   ]
  }
 ],
 "metadata": {
  "kernelspec": {
   "display_name": "base",
   "language": "python",
   "name": "python3"
  },
  "language_info": {
   "codemirror_mode": {
    "name": "ipython",
    "version": 3
   },
   "file_extension": ".py",
   "mimetype": "text/x-python",
   "name": "python",
   "nbconvert_exporter": "python",
   "pygments_lexer": "ipython3",
   "version": "3.9.16"
  }
 },
 "nbformat": 4,
 "nbformat_minor": 2
}
