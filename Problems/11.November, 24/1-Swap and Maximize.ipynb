{
 "cells": [
  {
   "cell_type": "markdown",
   "metadata": {},
   "source": [
    "Given an array **arr[]** of positive elements. Consider the array as a circular array, meaning the element after the last element is the first element of the array. The task is to find the maximum sum of the absolute differences between consecutive elements with shuffling of array elements allowed i.e. shuffle the array elements and make **[a<sub>1</sub>..a<sub>n</sub>]** such order that  **|a<sub>1</sub> – a<sub>2</sub>| + |a<sub>2</sub> – a<sub>3</sub>| + …… + |a<sub>n-1</sub> – a<sub>n</sub>| + |a<sub>n</sub> – a<sub>1</sub>|** is maximized.\n",
    "\n",
    "<br>\n",
    "\n",
    "**Examples:**\n",
    ">**Input:** arr[] = [4, 2, 1, 8]<br>\n",
    ">**Output:** 18<br>\n",
    ">**Explanation:** After Shuffling, we get [1, 8, 2, 4]. Sum of absolute difference between consecutive elements after rearrangement = |1 - 8| + |8 - 2| + |2 - 4| + |4 - 1| = 7 + 6 + 2 + 3 = 18.\n",
    "\n",
    ">**Input:** arr[] = [10, 12]<br>\n",
    ">**Output:** 4<br>\n",
    ">**Explanation:** No need of rearrangement. Sum of absolute difference between consecutive elements = |10 - 12| + |12 - 10| = 2 + 2 = 4.\n",
    "\n",
    "<br>\n",
    "\n",
    "**Constraints:**\n",
    "- >2 ≤ arr.size()≤ 10<sup>5</sup>\n",
    "- >1 <= arr[i] <= 10<sup>5</sup>"
   ]
  },
  {
   "cell_type": "code",
   "execution_count": 1,
   "metadata": {},
   "outputs": [],
   "source": [
    "class Solution:\n",
    "    def maxSum(self, arr):\n",
    "        # code here\n",
    "        arr.sort()\n",
    "        n = len(arr)\n",
    "        \n",
    "        rearranged = []\n",
    "        for i in range(n // 2):\n",
    "            rearranged.append(arr[i])\n",
    "            rearranged.append(arr[n - i - 1])\n",
    "        \n",
    "        if n % 2 != 0:\n",
    "            rearranged.append(arr[n // 2])\n",
    "        \n",
    "        max_sum = 0\n",
    "        for i in range(n):\n",
    "            max_sum += abs(rearranged[i] - rearranged[(i + 1) % n])\n",
    "        \n",
    "        return max_sum"
   ]
  }
 ],
 "metadata": {
  "kernelspec": {
   "display_name": "base",
   "language": "python",
   "name": "python3"
  },
  "language_info": {
   "codemirror_mode": {
    "name": "ipython",
    "version": 3
   },
   "file_extension": ".py",
   "mimetype": "text/x-python",
   "name": "python",
   "nbconvert_exporter": "python",
   "pygments_lexer": "ipython3",
   "version": "3.9.16"
  }
 },
 "nbformat": 4,
 "nbformat_minor": 2
}
