{
 "cells": [
  {
   "cell_type": "markdown",
   "metadata": {},
   "source": [
    "Given two **sorted** arrays **a[]** and **b[]**, where each array contains **distinct** elements , the task is to return the elements in the **union** of the two arrays in **sorted** order.\n",
    "\n",
    "&emsp;&emsp; Union of two arrays can be defined as the set containing distinct common elements that are present in either of the arrays.\n",
    "\n",
    "<br>\n",
    "\n",
    "**Examples:**\n",
    ">**Input:** a[] = [1, 2, 3, 4, 5], b[] = [1, 2, 3, 6, 7]<br>\n",
    ">**Output:** 1 2 3 4 5 6 7<br>\n",
    ">**Explanation:** Distinct elements including both the arrays are: 1 2 3 4 5 6 7.\n",
    "\n",
    ">**Input:** a[] = [2, 3, 4, 5], b[] = [1, 2, 3, 4]<br>\n",
    ">**Output:** 1 2 3 4 5<br>\n",
    ">**Explanation:** Distinct elements including both the arrays are: 1 2 3 4 5.\n",
    "\n",
    ">**Input:** a[] = [1], b[] = [2]<br>\n",
    ">**Output:** 1 2<br>\n",
    ">**Explanation:** Distinct elements including both the arrays are: 1 2.\n",
    "\n",
    "<br>\n",
    "\n",
    "**Constraints:**\n",
    "- >1  <=  a.size(), b.size()  <=  10<sup>5</sup>\n",
    "- >-10<sup>9</sup>  <=  a[i] , b[i]  <=  10<sup>9</sup>"
   ]
  },
  {
   "cell_type": "code",
   "execution_count": 1,
   "metadata": {},
   "outputs": [],
   "source": [
    "class Solution:\n",
    "    # Function to return a list containing the union of the two arrays.\n",
    "    def findUnion(self, a, b):\n",
    "        # code here\n",
    "        return sorted(list(set(a+b)))"
   ]
  }
 ],
 "metadata": {
  "kernelspec": {
   "display_name": "base",
   "language": "python",
   "name": "python3"
  },
  "language_info": {
   "codemirror_mode": {
    "name": "ipython",
    "version": 3
   },
   "file_extension": ".py",
   "mimetype": "text/x-python",
   "name": "python",
   "nbconvert_exporter": "python",
   "pygments_lexer": "ipython3",
   "version": "3.9.16"
  }
 },
 "nbformat": 4,
 "nbformat_minor": 2
}
