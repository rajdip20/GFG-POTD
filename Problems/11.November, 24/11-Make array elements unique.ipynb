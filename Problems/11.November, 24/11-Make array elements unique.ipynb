{
 "cells": [
  {
   "cell_type": "markdown",
   "metadata": {},
   "source": [
    "Given an array **arr[]**, your task is to find the **minimum** number of **increment** operations required to make all the elements of the array **unique**. i.e.- no value in the array should occur more than once. In one operation, a value can be incremented by 1 only.\n",
    "\n",
    "<br>\n",
    "\n",
    "**Examples:**\n",
    ">**Input:** arr[] = [1, 2, 2]<br>\n",
    ">**Output:** 1<br>\n",
    ">**Explanation:** If we increase arr[2] by 1 then the resulting array becomes {1, 2, 3} and has all unique values.Hence, the answer is 1 in this case.\n",
    "\n",
    ">**Input:** arr[] = [1, 1, 2, 3]<br>\n",
    ">**Output:** 3<br>\n",
    ">**Explanation:** If we increase arr[0] by 3, then all array elements will be unique. Hence, the answer is 3 in this case.\n",
    "\n",
    ">**Input:** arr[] = [5, 4, 3, 2, 1]<br>\n",
    ">**Output:** 0<br>\n",
    ">**Explanation:** All elements are unique.\n",
    "\n",
    "<br>\n",
    "\n",
    "**Constraints:**\n",
    "- >1 ≤ arr.size() ≤ 10<sup>6</sup>\n",
    "- >0 ≤ arr[i] ≤ 10<sup>6</sup>"
   ]
  },
  {
   "cell_type": "code",
   "execution_count": 1,
   "metadata": {},
   "outputs": [],
   "source": [
    "class Solution:\n",
    "    def minIncrements(self, arr): \n",
    "        # Code here\n",
    "        arr.sort()\n",
    "        increments = 0\n",
    "\n",
    "        for i in range(1, len(arr)):\n",
    "            if arr[i] <= arr[i - 1]:\n",
    "                increments += (arr[i - 1] + 1 - arr[i])\n",
    "                arr[i] = arr[i - 1] + 1\n",
    "\n",
    "        return increments"
   ]
  }
 ],
 "metadata": {
  "kernelspec": {
   "display_name": "base",
   "language": "python",
   "name": "python3"
  },
  "language_info": {
   "codemirror_mode": {
    "name": "ipython",
    "version": 3
   },
   "file_extension": ".py",
   "mimetype": "text/x-python",
   "name": "python",
   "nbconvert_exporter": "python",
   "pygments_lexer": "ipython3",
   "version": "3.9.16"
  }
 },
 "nbformat": 4,
 "nbformat_minor": 2
}
