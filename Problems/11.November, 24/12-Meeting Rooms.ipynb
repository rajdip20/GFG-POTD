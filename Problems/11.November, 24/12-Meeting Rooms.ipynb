{
 "cells": [
  {
   "cell_type": "markdown",
   "metadata": {},
   "source": [
    "Given an array **arr[][]** such that **arr[i][0]** is the **starting time** of i<sup>th</sup> meeting and **arr[i][1]** is the **ending time** of i<sup>th</sup> meeting, the task is to check if it is possible for a person to attend all the meetings such that he can attend only one meeting at a particular time.\n",
    "\n",
    "**Note:** A person can attend a meeting if its starting time is greater than or equal to the previous meeting's ending time time.\n",
    "\n",
    "<br>\n",
    "\n",
    "**Examples:**\n",
    ">**Input:** arr[][] = [[1, 4], [10, 15], [7, 10]]<br>\n",
    ">**Output:** true<br>\n",
    ">**Explanation:** Since all the meetings are held at different times, it is possible to attend all the meetings.\n",
    "\n",
    ">**Input:** arr[][] = [[2, 4], [9, 12], [6, 10]]<br>\n",
    ">**Output:** false<br>\n",
    ">**Explanation:** It is not possible to attend the second and third meetings simultaneously.\n",
    "\n",
    "<br>\n",
    "\n",
    "**Constraints:**\n",
    "- >1 ≤ start.size() ≤ 10<sup>5</sup>\n",
    "- >0 ≤ start[i] < end[i] ≤ 2*10<sup>6</sup>"
   ]
  },
  {
   "cell_type": "code",
   "execution_count": 1,
   "metadata": {},
   "outputs": [],
   "source": [
    "class Solution:\n",
    "    def canAttend(self, arr):\n",
    "        # Your Code Here\n",
    "        arr.sort(key=lambda x: x[0])\n",
    "\n",
    "        for i in range(1, len(arr)):\n",
    "            if arr[i][0] < arr[i - 1][1]:\n",
    "                return False\n",
    "\n",
    "        return True"
   ]
  }
 ],
 "metadata": {
  "kernelspec": {
   "display_name": "base",
   "language": "python",
   "name": "python3"
  },
  "language_info": {
   "codemirror_mode": {
    "name": "ipython",
    "version": 3
   },
   "file_extension": ".py",
   "mimetype": "text/x-python",
   "name": "python",
   "nbconvert_exporter": "python",
   "pygments_lexer": "ipython3",
   "version": "3.9.16"
  }
 },
 "nbformat": 4,
 "nbformat_minor": 2
}
