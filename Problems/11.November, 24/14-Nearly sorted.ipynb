{
 "cells": [
  {
   "cell_type": "markdown",
   "metadata": {},
   "source": [
    "Given an array **arr[]**, where each element is at most **k** away from its target position, you need to sort the array optimally.\n",
    "\n",
    "Note: DO NOT use direct library sort() function for this question.\n",
    "\n",
    "<br>\n",
    "\n",
    "**Examples:**\n",
    ">**Input:** arr[] = [6, 5, 3, 2, 8, 10, 9], k = 3<br>\n",
    ">**Output:** [2, 3, 5, 6, 8, 9, 10]<br>\n",
    ">**Explanation:** The sorted array will be 2 3 5 6 8 9 10\n",
    "\n",
    ">**Input:** arr[]= [1, 4, 5, 2, 3, 6, 7, 8, 9, 10], k = 2<br>\n",
    ">**Output:** [1, 2, 3, 4, 5, 6, 7, 8, 9, 10]<br>\n",
    ">**Explanation:** The sorted array will be 1 2 3 4 5 6 7 8 9 10\n",
    "\n",
    "<br>\n",
    "\n",
    "**Constraints:**\n",
    "- >1 ≤ arr.size() ≤ 10<sup>6</sup>\n",
    "- >1 ≤ k < arr.size()\n",
    "- >1 ≤ arri ≤ 10<sup>6</sup>"
   ]
  },
  {
   "cell_type": "code",
   "execution_count": 1,
   "metadata": {},
   "outputs": [],
   "source": [
    "class Solution:\n",
    "    def nearlySorted(self, arr, k):\n",
    "        # code\n",
    "        import heapq\n",
    "\n",
    "        def elements(a, k):\n",
    "            h = a[:k]\n",
    "            heapq.heapify(h)\n",
    "        \n",
    "            for e in a[k:]:\n",
    "                yield heapq.heappushpop(h, e)\n",
    "                \n",
    "            while h:\n",
    "                yield heapq.heappop(h)\n",
    "        \n",
    "        for i, e in enumerate(elements(arr, k)):\n",
    "            arr[i] = e\n",
    "        return arr"
   ]
  }
 ],
 "metadata": {
  "kernelspec": {
   "display_name": "base",
   "language": "python",
   "name": "python3"
  },
  "language_info": {
   "codemirror_mode": {
    "name": "ipython",
    "version": 3
   },
   "file_extension": ".py",
   "mimetype": "text/x-python",
   "name": "python",
   "nbconvert_exporter": "python",
   "pygments_lexer": "ipython3",
   "version": "3.9.16"
  }
 },
 "nbformat": 4,
 "nbformat_minor": 2
}
