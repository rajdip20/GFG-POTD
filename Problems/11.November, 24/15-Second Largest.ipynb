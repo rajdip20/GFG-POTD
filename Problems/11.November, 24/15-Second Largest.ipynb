{
 "cells": [
  {
   "cell_type": "markdown",
   "metadata": {},
   "source": [
    "Given an array of **positive** integers **arr[]**, return the **second largest** element from the array. If the second largest element doesn't exist then return **-1**.\n",
    "\n",
    "Note: The second largest element should not be equal to the largest element.\n",
    "\n",
    "<br>\n",
    "\n",
    "**Examples:**\n",
    ">**Input:** arr[] = [12, 35, 1, 10, 34, 1]<br>\n",
    ">**Output:** 34<br>\n",
    ">**Explanation:** The largest element of the array is 35 and the second largest element is 34.\n",
    "\n",
    ">**Input:** arr[] = [10, 5, 10]<br>\n",
    ">**Output:** 5<br>\n",
    ">**Explanation:** The largest element of the array is 10 and the second largest element is 5.\n",
    "\n",
    ">**Input:** arr[] = [10, 10, 10]<br>\n",
    ">**Output:** -1<br>\n",
    ">**Explanation:** The largest element of the array is 10 and the second largest element does not exist.\n",
    "\n",
    "<br>\n",
    "\n",
    "**Constraints:**\n",
    "- >2 ≤ arr.size() ≤ 10<sup>5</sup>\n",
    "- >1 ≤ arr[i] ≤ 10<sup>5</sup>"
   ]
  },
  {
   "cell_type": "code",
   "execution_count": 1,
   "metadata": {},
   "outputs": [],
   "source": [
    "class Solution:\n",
    "    def getSecondLargest(self, arr):\n",
    "        # Code Here\n",
    "        largest = second_largest = -1\n",
    "\n",
    "        for num in arr:\n",
    "            if num > largest:\n",
    "                second_largest = largest\n",
    "                largest = num\n",
    "            elif num < largest and num > second_largest:\n",
    "                second_largest = num\n",
    "\n",
    "        return second_largest"
   ]
  }
 ],
 "metadata": {
  "kernelspec": {
   "display_name": "base",
   "language": "python",
   "name": "python3"
  },
  "language_info": {
   "codemirror_mode": {
    "name": "ipython",
    "version": 3
   },
   "file_extension": ".py",
   "mimetype": "text/x-python",
   "name": "python",
   "nbconvert_exporter": "python",
   "pygments_lexer": "ipython3",
   "version": "3.9.16"
  }
 },
 "nbformat": 4,
 "nbformat_minor": 2
}
