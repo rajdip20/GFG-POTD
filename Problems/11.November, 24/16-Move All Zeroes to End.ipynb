{
 "cells": [
  {
   "cell_type": "markdown",
   "metadata": {},
   "source": [
    "Given an array **arr[]**. Push all the zeros of the given array to the right end of the array while maintaining the order of non-zero elements. Do the mentioned change in the **array in place**.\n",
    "\n",
    "<br>\n",
    "\n",
    "**Examples:**\n",
    ">**Input:** arr[] = [1, 2, 0, 4, 3, 0, 5, 0]<br>\n",
    ">**Output:** [1, 2, 4, 3, 5, 0, 0, 0]<br>\n",
    ">**Explanation:** There are three 0s that are moved to the end.\n",
    "\n",
    ">**Input:** arr[] = [10, 20, 30]<br>\n",
    ">**Output:** [10, 20, 30]<br>\n",
    ">**Explanation:** No change in array as there are no 0s.\n",
    "\n",
    ">**Input:** arr[] = [0, 0]<br>\n",
    ">**Output:** [0, 0]<br>\n",
    ">**Explanation:** No change in array as there are all 0s.\n",
    "\n",
    "<br>\n",
    "\n",
    "**Constraints:**\n",
    "- >1 ≤ arr.size() ≤ 10<sup>5</sup>\n",
    "- >0 ≤ arr[i] ≤ 10<sup>5</sup>"
   ]
  },
  {
   "cell_type": "code",
   "execution_count": 1,
   "metadata": {},
   "outputs": [],
   "source": [
    "class Solution:\n",
    "    def pushZerosToEnd(self, arr):\n",
    "        # code here\n",
    "        n = len(arr)\n",
    "        j = 0\n",
    "        \n",
    "        for i in range(n):\n",
    "            if arr[i] != 0:\n",
    "                arr[j] = arr[i]\n",
    "                j += 1\n",
    "        \n",
    "        while j < n:\n",
    "            arr[j] = 0\n",
    "            j += 1"
   ]
  }
 ],
 "metadata": {
  "kernelspec": {
   "display_name": "base",
   "language": "python",
   "name": "python3"
  },
  "language_info": {
   "codemirror_mode": {
    "name": "ipython",
    "version": 3
   },
   "file_extension": ".py",
   "mimetype": "text/x-python",
   "name": "python",
   "nbconvert_exporter": "python",
   "pygments_lexer": "ipython3",
   "version": "3.9.16"
  }
 },
 "nbformat": 4,
 "nbformat_minor": 2
}
