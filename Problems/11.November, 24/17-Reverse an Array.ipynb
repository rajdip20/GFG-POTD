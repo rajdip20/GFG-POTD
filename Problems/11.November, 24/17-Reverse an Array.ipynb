{
 "cells": [
  {
   "cell_type": "markdown",
   "metadata": {},
   "source": [
    "You are given an array of integers **arr[]**. Your task is to **reverse** the given array.\n",
    "\n",
    "<br>\n",
    "\n",
    "**Examples:**\n",
    ">**Input:** arr = [1, 4, 3, 2, 6, 5]<br>\n",
    ">**Output:** [5, 6, 2, 3, 4, 1]<br>\n",
    ">**Explanation:** The elements of the array are 1 4 3 2 6 5. After reversing the array, the first element goes to the last position, the second element goes to the second last position and so on. Hence, the answer is 5 6 2 3 4 1.\n",
    "\n",
    ">**Input:** arr = [4, 5, 2]<br>\n",
    ">**Output:** [2, 5, 4]<br>\n",
    ">**Explanation:** The elements of the array are 4 5 2. The reversed array will be 2 5 4.\n",
    "\n",
    ">**Input:** arr = [1]<br>\n",
    ">**Output:** [1]<br>\n",
    ">**Explanation:** The array has only single element, hence the reversed array is same as the original.\n",
    "\n",
    "<br>\n",
    "\n",
    "**Constraints:**\n",
    "- >1<=arr.size()<=10<sup>5</sup>\n",
    "- >0<=arr[i]<=10<sup>5</sup>"
   ]
  },
  {
   "cell_type": "code",
   "execution_count": 1,
   "metadata": {},
   "outputs": [],
   "source": [
    "class Solution:\n",
    "    def reverseArray(self, arr):\n",
    "        # code here\n",
    "        left, right = 0, len(arr) - 1\n",
    "       \n",
    "        while left < right:\n",
    "            arr[left], arr[right] = arr[right], arr[left]\n",
    "            left += 1\n",
    "            right -= 1\n",
    "        \n",
    "        return arr"
   ]
  }
 ],
 "metadata": {
  "kernelspec": {
   "display_name": "base",
   "language": "python",
   "name": "python3"
  },
  "language_info": {
   "codemirror_mode": {
    "name": "ipython",
    "version": 3
   },
   "file_extension": ".py",
   "mimetype": "text/x-python",
   "name": "python",
   "nbconvert_exporter": "python",
   "pygments_lexer": "ipython3",
   "version": "3.9.16"
  }
 },
 "nbformat": 4,
 "nbformat_minor": 2
}
