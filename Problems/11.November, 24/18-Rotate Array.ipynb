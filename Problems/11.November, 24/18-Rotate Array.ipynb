{
 "cells": [
  {
   "cell_type": "markdown",
   "metadata": {},
   "source": [
    "Given an unsorted array *arr[]*. Rotate the array to the left (counter-clockwise direction) by *d* steps, where *d* is a positive integer. Do the mentioned change in the **array in place**.\n",
    "\n",
    "Note: Consider the array as circular.\n",
    "\n",
    "<br>\n",
    "\n",
    "**Examples:**\n",
    ">**Input:** arr[] = [1, 2, 3, 4, 5], d = 2<br>\n",
    ">**Output:** [3, 4, 5, 1, 2]<br>\n",
    ">**Explanation:** when rotated by 2 elements, it becomes 3 4 5 1 2.\n",
    "\n",
    ">**Input:** arr[] = [2, 4, 6, 8, 10, 12, 14, 16, 18, 20], d = 3<br>\n",
    ">**Output:** [8, 10, 12, 14, 16, 18, 20, 2, 4, 6]<br>\n",
    ">**Explanation:** when rotated by 3 elements, it becomes 8 10 12 14 16 18 20 2 4 6.\n",
    "\n",
    ">**Input:** arr[] = [7, 3, 9, 1], d = 9<br>\n",
    ">**Output:** [3, 9, 1, 7]<br>\n",
    ">**Explanation:** when we rotate 9 times, we'll get 3 9 1 7 as resultant array.\n",
    "\n",
    "<br>\n",
    "\n",
    "**Constraints:**\n",
    "- >1 <= arr.size(), d <= 10<sup>5</sup>\n",
    "- >0 <= arr[i] <= 10<sup>5</sup>"
   ]
  },
  {
   "cell_type": "code",
   "execution_count": 1,
   "metadata": {},
   "outputs": [],
   "source": [
    "class Solution:\n",
    "    # Function to rotate an array by d elements in counter-clockwise direction. \n",
    "    def rotateArr(self, arr, d):\n",
    "        # Your code here\n",
    "        n = len(arr)\n",
    "        if n == 0 or d % n == 0:\n",
    "            return\n",
    "\n",
    "        d %= n\n",
    "\n",
    "        def reverse(start, end):\n",
    "            while start < end:\n",
    "                arr[start], arr[end] = arr[end], arr[start]\n",
    "                start += 1\n",
    "                end -= 1\n",
    "\n",
    "        reverse(0, d - 1)\n",
    "\n",
    "        reverse(d, n - 1)\n",
    "\n",
    "        reverse(0, n - 1)"
   ]
  }
 ],
 "metadata": {
  "kernelspec": {
   "display_name": "base",
   "language": "python",
   "name": "python3"
  },
  "language_info": {
   "codemirror_mode": {
    "name": "ipython",
    "version": 3
   },
   "file_extension": ".py",
   "mimetype": "text/x-python",
   "name": "python",
   "nbconvert_exporter": "python",
   "pygments_lexer": "ipython3",
   "version": "3.9.16"
  }
 },
 "nbformat": 4,
 "nbformat_minor": 2
}
