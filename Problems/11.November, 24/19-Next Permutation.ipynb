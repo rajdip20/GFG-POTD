{
 "cells": [
  {
   "cell_type": "markdown",
   "metadata": {},
   "source": [
    "Given an array of integers **arr[]** representing a permutation, implement the **next permutation** that rearranges the numbers into the lexicographically next greater permutation. If no such permutation exists, rearrange the numbers into the lowest possible order (i.e., sorted in ascending order). \n",
    "\n",
    "Note:- A permutation of **n** numbers is any possible arrangement of all the integers in range [1-n] where each integer occurs exactly once. \n",
    "\n",
    "<br>\n",
    "\n",
    "**Examples:**\n",
    ">**Input:** arr = [2, 4, 1, 7, 5, 0]<br>\n",
    ">**Output:** [2, 4, 5, 0, 1, 7]<br>\n",
    ">**Explanation:** The next permutation of the given array is {2, 4, 5, 0, 1, 7}.\n",
    "\n",
    ">**Input:** arr = [3, 2, 1]<br>\n",
    ">**Output:** [1, 2, 3]<br>\n",
    ">**Explanation:** As arr[] is the last permutation, the next permutation is the lowest one.\n",
    "\n",
    ">**Input:** arr = [3, 4, 2, 5, 1]<br>\n",
    ">**Output:** [3, 4, 5, 1, 2]<br>\n",
    ">**Explanation:** The next permutation of the given array is {3, 4, 5, 1, 2}.\n",
    "\n",
    "<br>\n",
    "\n",
    "**Constraints:**\n",
    "- >1 ≤ arr.size() ≤ 10<sup>5</sup>\n",
    "- >1 ≤ arr[i] ≤ 10<sup>5</sup>"
   ]
  },
  {
   "cell_type": "code",
   "execution_count": 1,
   "metadata": {},
   "outputs": [],
   "source": [
    "class Solution:\n",
    "    def nextPermutation(self, arr):\n",
    "        # code here\n",
    "        n = len(arr)\n",
    "        i = n - 2\n",
    "\n",
    "        while i >= 0 and arr[i] >= arr[i + 1]:\n",
    "            i -= 1\n",
    "\n",
    "        if i >= 0:\n",
    "            j = n - 1\n",
    "            while arr[j] <= arr[i]:\n",
    "                j -= 1\n",
    "            \n",
    "            arr[i], arr[j] = arr[j], arr[i]\n",
    "\n",
    "        arr[i + 1:] = reversed(arr[i + 1:])\n",
    "        \n",
    "        return arr"
   ]
  }
 ],
 "metadata": {
  "kernelspec": {
   "display_name": "base",
   "language": "python",
   "name": "python3"
  },
  "language_info": {
   "codemirror_mode": {
    "name": "ipython",
    "version": 3
   },
   "file_extension": ".py",
   "mimetype": "text/x-python",
   "name": "python",
   "nbconvert_exporter": "python",
   "pygments_lexer": "ipython3",
   "version": "3.9.16"
  }
 },
 "nbformat": 4,
 "nbformat_minor": 2
}
