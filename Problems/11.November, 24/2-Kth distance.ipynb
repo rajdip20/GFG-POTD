{
 "cells": [
  {
   "cell_type": "markdown",
   "metadata": {},
   "source": [
    "Given an unsorted array **arr** and a number **k** which is smaller than size of the array. Find if the array contains duplicates within **k** distance.\n",
    "\n",
    "<br>\n",
    "\n",
    "**Examples:**\n",
    ">**Input:** arr[] = [1, 2, 3, 4, 1, 2, 3, 4] and k = 3<br>\n",
    ">**Output:** false<br>\n",
    ">**Explanation:** All duplicates are more than k distance away.\n",
    "\n",
    ">**Input:** arr[] = [1, 2, 3, 1, 4, 5] and k = 3<br>\n",
    ">**Output:** true<br>\n",
    ">**Explanation:** 1 is repeated at distance 3.\n",
    "\n",
    "<br>\n",
    "\n",
    "**Constraints:**\n",
    "- >1 ≤ arr.size() ≤ 10<sup>6</sup>\n",
    "- >1 ≤ k < arr.size()\n",
    "- >1 ≤ arr[i] ≤ 10<sup>5</sup>"
   ]
  },
  {
   "cell_type": "code",
   "execution_count": 1,
   "metadata": {},
   "outputs": [],
   "source": [
    "class Solution:\n",
    "    def checkDuplicatesWithinK(self, arr, k):\n",
    "        # your code\n",
    "        seen = set()\n",
    "    \n",
    "        for i in range(len(arr)):\n",
    "            if arr[i] in seen:\n",
    "                return True\n",
    "            \n",
    "            seen.add(arr[i])\n",
    "            \n",
    "            if len(seen) > k:\n",
    "                seen.remove(arr[i - k])\n",
    "        \n",
    "        return False"
   ]
  }
 ],
 "metadata": {
  "kernelspec": {
   "display_name": "base",
   "language": "python",
   "name": "python3"
  },
  "language_info": {
   "codemirror_mode": {
    "name": "ipython",
    "version": 3
   },
   "file_extension": ".py",
   "mimetype": "text/x-python",
   "name": "python",
   "nbconvert_exporter": "python",
   "pygments_lexer": "ipython3",
   "version": "3.9.16"
  }
 },
 "nbformat": 4,
 "nbformat_minor": 2
}
