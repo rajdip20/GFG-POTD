{
 "cells": [
  {
   "cell_type": "markdown",
   "metadata": {},
   "source": [
    "You are given an array of integer **arr[]** where each number represents a vote to a candidate. Return the candidates that have votes greater than one-third of the total votes, If there's not a majority vote, return an empty array. \n",
    "\n",
    "**Note:** The answer should be returned in an increasing format.\n",
    "\n",
    "<br>\n",
    "\n",
    "**Examples:**\n",
    ">**Input:** arr[] = [2, 1, 5, 5, 5, 5, 6, 6, 6, 6, 6]<br>\n",
    ">**Output:** [5, 6]<br>\n",
    ">**Explanation:** 5 and 6 occur more n/3 times.\n",
    "\n",
    ">**Input:** arr[] = [1, 2, 3, 4, 5]<br>\n",
    ">**Output:** []<br>\n",
    ">**Explanation:** no candidate occur more than n/3 times.\n",
    "\n",
    "<br>\n",
    "\n",
    "**Constraint:**\n",
    "- >1 <= arr.size() <= 10<sup>6</sup>\n",
    "- >0 <= arr[i] <= 10<sup>9</sup>"
   ]
  },
  {
   "cell_type": "code",
   "execution_count": 1,
   "metadata": {},
   "outputs": [],
   "source": [
    "class Solution:\n",
    "    # Function to find the majority elements in the array\n",
    "    def findMajority(self, arr):\n",
    "        # Your Code goes here.\n",
    "        n = len(arr)\n",
    "        if n == 0:\n",
    "            return []\n",
    "\n",
    "        candidate1, candidate2 = None, None\n",
    "        count1, count2 = 0, 0\n",
    "\n",
    "        for num in arr:\n",
    "            if num == candidate1:\n",
    "                count1 += 1\n",
    "            elif num == candidate2:\n",
    "                count2 += 1\n",
    "            elif count1 == 0:\n",
    "                candidate1, count1 = num, 1\n",
    "            elif count2 == 0:\n",
    "                candidate2, count2 = num, 1\n",
    "            else:\n",
    "                count1 -= 1\n",
    "                count2 -= 1\n",
    "\n",
    "        count1, count2 = 0, 0\n",
    "        for num in arr:\n",
    "            if num == candidate1:\n",
    "                count1 += 1\n",
    "            elif num == candidate2:\n",
    "                count2 += 1\n",
    "\n",
    "        result = []\n",
    "        if count1 > n // 3:\n",
    "            result.append(candidate1)\n",
    "        if count2 > n // 3:\n",
    "            result.append(candidate2)\n",
    "\n",
    "        return sorted(result)"
   ]
  }
 ],
 "metadata": {
  "kernelspec": {
   "display_name": "base",
   "language": "python",
   "name": "python3"
  },
  "language_info": {
   "codemirror_mode": {
    "name": "ipython",
    "version": 3
   },
   "file_extension": ".py",
   "mimetype": "text/x-python",
   "name": "python",
   "nbconvert_exporter": "python",
   "pygments_lexer": "ipython3",
   "version": "3.9.16"
  }
 },
 "nbformat": 4,
 "nbformat_minor": 2
}
