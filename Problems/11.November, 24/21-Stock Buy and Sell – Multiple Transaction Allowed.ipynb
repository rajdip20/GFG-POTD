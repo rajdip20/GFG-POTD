{
 "cells": [
  {
   "cell_type": "markdown",
   "metadata": {},
   "source": [
    "The cost of stock on each day is given in an array **price[]**. Each day you may decide to either buy or sell the stock at **price[i]**, you can even buy and sell the stock on the same day. Find the **maximum profit** that you can get.\n",
    "\n",
    "Note: A stock can only be sold if it has been bought previously and multiple stocks cannot be held on any given day.\n",
    "\n",
    "<br>\n",
    "\n",
    "**Examples:**\n",
    ">**Input:** prices[] = [100, 180, 260, 310, 40, 535, 695]<br>\n",
    ">**Output:** 865<br>\n",
    ">**Explanation:** Buy the stock on day 0 and sell it on day 3 => 310 – 100 = 210. Buy the stock on day 4 and sell it on day 6 => 695 – 40 = 655. Maximum Profit = 210 + 655 = 865.<br>\n",
    ">![image1](../../images/blobid2_1731054745.png)<br>\n",
    "><br>\n",
    ">**Input:** prices[] = [4, 2, 2, 2, 4]<br>\n",
    ">**Output:** 2<br>\n",
    ">**Explanation:** Buy the stock on day 3 and sell it on day 4 => 4 – 2 = 2. Maximum Profit = 2.\n",
    "\n",
    "<br>\n",
    "\n",
    "**Constraints:**\n",
    "- >1 <= prices.size() <= 10<sup>5</sup>\n",
    "- >0 <= prices[i] <= 10<sup>4</sup>"
   ]
  },
  {
   "cell_type": "code",
   "execution_count": 1,
   "metadata": {},
   "outputs": [],
   "source": [
    "class Solution:\n",
    "    def maximumProfit(self, prices) -> int:\n",
    "        # code here\n",
    "        profit = 0\n",
    "        n = len(prices)\n",
    "        \n",
    "        for i in range(1, n):\n",
    "            if prices[i] > prices[i - 1]:\n",
    "                profit += prices[i] - prices[i - 1]\n",
    "        \n",
    "        return profit"
   ]
  }
 ],
 "metadata": {
  "kernelspec": {
   "display_name": "base",
   "language": "python",
   "name": "python3"
  },
  "language_info": {
   "codemirror_mode": {
    "name": "ipython",
    "version": 3
   },
   "file_extension": ".py",
   "mimetype": "text/x-python",
   "name": "python",
   "nbconvert_exporter": "python",
   "pygments_lexer": "ipython3",
   "version": "3.9.16"
  }
 },
 "nbformat": 4,
 "nbformat_minor": 2
}
