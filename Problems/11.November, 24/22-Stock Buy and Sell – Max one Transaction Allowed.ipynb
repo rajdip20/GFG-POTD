{
 "cells": [
  {
   "cell_type": "markdown",
   "metadata": {},
   "source": [
    "Given an array **prices[]** of length n, representing the prices of the stocks on different days. The task is to find the maximum profit possible by buying and selling the stocks on different days when at most one transaction is allowed. Here one transaction means 1 buy + 1 Sell. If it is not possible to make a profit then **return 0**.\n",
    "\n",
    "Note: Stock must be bought before being sold.\n",
    "\n",
    "<br>\n",
    "\n",
    "**Examples:**\n",
    ">**Input:** prices[] = [7, 10, 1, 3, 6, 9, 2]<br>\n",
    ">**Output:** 8<br>\n",
    ">**Explanation:** You can buy the stock on day 2 at price = 1 and sell it on day 5 at price = 9. Hence, the profit is 8.\n",
    "\n",
    ">**Input:** prices[] = [7, 6, 4, 3, 1]<br>\n",
    ">**Output:** 0 <br>\n",
    ">**Explanation:** Here the prices are in decreasing order, hence if we buy any day then we cannot sell it at a greater price. Hence, the answer is 0.\n",
    "\n",
    ">**Input:** prices[] = [1, 3, 6, 9, 11]<br>\n",
    ">**Output:** 10 <br>\n",
    ">**Explanation:** Since the array is sorted in increasing order, we can make maximum profit by buying at price[0] and selling at price[n-1].\n",
    "\n",
    "<br>\n",
    "\n",
    "**Constraint:**\n",
    "- >1 <= prices.size()<= 10<sup>5</sup>\n",
    "- >0 <= prices[i] <=10<sup>4</sup>"
   ]
  },
  {
   "cell_type": "code",
   "execution_count": 1,
   "metadata": {},
   "outputs": [],
   "source": [
    "class Solution:\n",
    "    def maximumProfit(self, prices):\n",
    "        # code here\n",
    "        if not prices:\n",
    "            return 0\n",
    "        \n",
    "        min_price = float('inf')\n",
    "        max_profit = 0\n",
    "        \n",
    "        for price in prices:\n",
    "            min_price = min(min_price, price)\n",
    "            max_profit = max(max_profit, price - min_price)\n",
    "        \n",
    "        return max_profit"
   ]
  }
 ],
 "metadata": {
  "kernelspec": {
   "display_name": "base",
   "language": "python",
   "name": "python3"
  },
  "language_info": {
   "codemirror_mode": {
    "name": "ipython",
    "version": 3
   },
   "file_extension": ".py",
   "mimetype": "text/x-python",
   "name": "python",
   "nbconvert_exporter": "python",
   "pygments_lexer": "ipython3",
   "version": "3.9.16"
  }
 },
 "nbformat": 4,
 "nbformat_minor": 2
}
