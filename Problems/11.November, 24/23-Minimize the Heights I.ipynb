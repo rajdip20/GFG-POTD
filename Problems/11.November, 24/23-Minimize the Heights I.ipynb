{
 "cells": [
  {
   "cell_type": "markdown",
   "metadata": {},
   "source": [
    "Given a positive integer **k** and an array **arr[]** denoting heights of towers, you have to modify the height of each tower either by increasing or decreasing them by **k** only **once**.<br>\n",
    "Find out what could be the possible **minimum difference** of the height of **shortest** and **longest** towers after you have modified each tower.\n",
    "\n",
    "Note: A slight modification of the problem can be found [here](https://practice.geeksforgeeks.org/problems/minimize-the-heights3351/1). \n",
    "\n",
    "<br>\n",
    "\n",
    "**Examples:**\n",
    ">**Input:** k = 2, arr[] = [1, 5, 8, 10]<br>\n",
    ">**Output:** 5<br>\n",
    ">**Explanation:** The array can be modified as [3, 3, 6, 8]. The difference between the largest and the smallest is 8 - 3 = 5.\n",
    "\n",
    ">**Input:** k = 3, arr[] = [3, 9, 12, 16, 20]<br>\n",
    ">**Output:** 11<br>\n",
    ">**Explanation:** The array can be modified as [6, 12, 9, 13, 17]. The difference between the largest and the smallest is 17 - 6 = 11. \n",
    "\n",
    "<br>\n",
    "\n",
    "**Constraints:**\n",
    "- >1 ≤ k ≤ 10<sup>4</sup>\n",
    "- >1 ≤ number of towers ≤ 10<sup>5</sup>\n",
    "- >0 ≤ arr[i] ≤ 10<sup>5</sup>"
   ]
  },
  {
   "cell_type": "code",
   "execution_count": 1,
   "metadata": {},
   "outputs": [],
   "source": [
    "class Solution:\n",
    "    def getMinDiff(self, k, arr):\n",
    "        # code here\n",
    "        arr.sort()\n",
    "        n = len(arr)\n",
    "        min_diff = arr[-1] - arr[0]\n",
    "        \n",
    "        for i in range(n - 1):\n",
    "            max_height = max(arr[-1] - k, arr[i] + k)\n",
    "            min_height = min(arr[0] + k, arr[i + 1] - k)\n",
    "            min_diff = min(min_diff, max_height - min_height)\n",
    "        \n",
    "        return min_diff"
   ]
  }
 ],
 "metadata": {
  "kernelspec": {
   "display_name": "base",
   "language": "python",
   "name": "python3"
  },
  "language_info": {
   "codemirror_mode": {
    "name": "ipython",
    "version": 3
   },
   "file_extension": ".py",
   "mimetype": "text/x-python",
   "name": "python",
   "nbconvert_exporter": "python",
   "pygments_lexer": "ipython3",
   "version": "3.9.16"
  }
 },
 "nbformat": 4,
 "nbformat_minor": 2
}
