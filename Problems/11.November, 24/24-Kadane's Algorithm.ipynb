{
 "cells": [
  {
   "cell_type": "markdown",
   "metadata": {},
   "source": [
    "Given an integer array **arr[]**. You need to find the **maximum** sum of a subarray.\n",
    "\n",
    "<br>\n",
    "\n",
    "**Examples:**\n",
    ">**Input:** arr[] = [2, 3, -8, 7, -1, 2, 3]<br>\n",
    ">**Output:** 11<br>\n",
    ">**Explanation:** The subarray {7, -1, 2, 3} has the largest sum 11.\n",
    "\n",
    ">**Input:** arr[] = [-2, -4]<br>\n",
    ">**Output:** -2<br>\n",
    ">**Explanation:** The subarray {-2} has the largest sum -2.\n",
    "\n",
    ">**Input:** arr[] = [5, 4, 1, 7, 8]<br>\n",
    ">**Output:** 25<br>\n",
    ">**Explanation:** The subarray {5, 4, 1, 7, 8} has the largest sum 25.\n",
    "\n",
    "<br>\n",
    "\n",
    "**Constraints:**\n",
    "- >1 ≤ arr.size() ≤ 10<sup>5</sup>\n",
    "- >-10<sup>9</sup> ≤ arr[i] ≤ 10<sup>4</sup>"
   ]
  },
  {
   "cell_type": "code",
   "execution_count": 1,
   "metadata": {},
   "outputs": [],
   "source": [
    "class Solution:\n",
    "    ## Complete this function\n",
    "    # Function to find the sum of contiguous subarray with maximum sum.\n",
    "    def maxSubArraySum(self, arr):\n",
    "        ## Your code here\n",
    "        max_so_far = float('-inf')\n",
    "        max_ending_here = 0\n",
    "\n",
    "        for num in arr:\n",
    "            max_ending_here += num\n",
    "            max_so_far = max(max_so_far, max_ending_here)\n",
    "            max_ending_here = max(max_ending_here, 0)\n",
    "\n",
    "        return max_so_far"
   ]
  }
 ],
 "metadata": {
  "kernelspec": {
   "display_name": "base",
   "language": "python",
   "name": "python3"
  },
  "language_info": {
   "codemirror_mode": {
    "name": "ipython",
    "version": 3
   },
   "file_extension": ".py",
   "mimetype": "text/x-python",
   "name": "python",
   "nbconvert_exporter": "python",
   "pygments_lexer": "ipython3",
   "version": "3.9.16"
  }
 },
 "nbformat": 4,
 "nbformat_minor": 2
}
