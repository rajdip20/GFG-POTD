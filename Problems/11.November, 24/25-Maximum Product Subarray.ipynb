{
 "cells": [
  {
   "cell_type": "markdown",
   "metadata": {},
   "source": [
    "Given an array **arr[]** that contains positive and negative integers (may contain 0 as well). Find the **maximum** product that we can get in a subarray of **arr**.\n",
    "\n",
    "Note: It is guaranteed that the output fits in a 32-bit integer.\n",
    "\n",
    "<br>\n",
    "\n",
    "**Examples:**\n",
    ">**Input:** arr[] = [-2, 6, -3, -10, 0, 2]<br>\n",
    ">**Output:** 180<br>\n",
    ">**Explanation:** The subarray with maximum product is {6, -3, -10} with product = 6 * (-3) * (-10) = 180.\n",
    "\n",
    ">**Input:** arr[] = [-1, -3, -10, 0, 60]<br>\n",
    ">**Output:** 60<br>\n",
    ">**Explanation:** The subarray with maximum product is {60}.\n",
    "\n",
    ">**Input:** arr[] = [2, 3, 4] <br>\n",
    ">**Output:** 24 <br>\n",
    ">**Explanation:** For an array with all positive elements, the result is product of all elements. \n",
    "\n",
    "<br>\n",
    "\n",
    "**Constraints:**\n",
    "- >1 ≤ arr.size() ≤ 10<sup>6</sup>\n",
    "- >-10  ≤  arr[i]  ≤  10"
   ]
  },
  {
   "cell_type": "code",
   "execution_count": 1,
   "metadata": {},
   "outputs": [],
   "source": [
    "class Solution:\n",
    "\t# Function to find maximum\n",
    "\t# product subarray\n",
    "    def maxProduct(self, arr):\n",
    "\t\t# code here\n",
    "        n = len(arr)\n",
    "    \n",
    "        current_max = arr[0]\n",
    "        current_min = arr[0]\n",
    "        global_max = arr[0]\n",
    "        \n",
    "        for i in range(1, n):\n",
    "            num = arr[i]\n",
    "            \n",
    "            if num < 0:\n",
    "                current_max, current_min = current_min, current_max\n",
    "            \n",
    "            current_max = max(num, current_max * num)\n",
    "            current_min = min(num, current_min * num)\n",
    "            \n",
    "            global_max = max(global_max, current_max)\n",
    "        \n",
    "        return global_max"
   ]
  }
 ],
 "metadata": {
  "kernelspec": {
   "display_name": "base",
   "language": "python",
   "name": "python3"
  },
  "language_info": {
   "codemirror_mode": {
    "name": "ipython",
    "version": 3
   },
   "file_extension": ".py",
   "mimetype": "text/x-python",
   "name": "python",
   "nbconvert_exporter": "python",
   "pygments_lexer": "ipython3",
   "version": "3.9.16"
  }
 },
 "nbformat": 4,
 "nbformat_minor": 2
}
