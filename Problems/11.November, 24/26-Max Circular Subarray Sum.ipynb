{
 "cells": [
  {
   "cell_type": "markdown",
   "metadata": {},
   "source": [
    "Given an array of integers **arr[]** in a **circular** fashion. Find the **maximum** subarray sum that we can get if we assume the array to be circular.\n",
    "\n",
    "<br>\n",
    "\n",
    "**Examples:**\n",
    ">**Input:** arr[] = [8, -8, 9, -9, 10, -11, 12]<br>\n",
    ">**Output:** 22<br>\n",
    ">**Explanation:** Starting from the last element of the array, i.e, 12, and moving in a circular fashion, we have max subarray as 12, 8, -8, 9, -9, 10, which gives maximum sum as 22.\n",
    "\n",
    ">**Input:** arr[] = [10, -3, -4, 7, 6, 5, -4, -1]<br>\n",
    ">**Output:** 23<br>\n",
    ">**Explanation:** Maximum sum of the circular subarray is 23. The subarray is [7, 6, 5, -4, -1, 10].\n",
    "\n",
    ">**Input:** arr[] = [-1, 40, -14, 7, 6, 5, -4, -1] <br>\n",
    ">**Output:** 52<br>\n",
    ">**Explanation:** Circular Subarray [7, 6, 5, -4, -1, -1, 40] has the maximum sum, which is 52.\n",
    "\n",
    "<br>\n",
    "\n",
    "**Constraints:**\n",
    "- >1 <= arr.size() <= 10<sup>5</sup>\n",
    "- >-10<sup>4</sup> <= arr[i] <= 10<sup>4</sup>"
   ]
  },
  {
   "cell_type": "code",
   "execution_count": 1,
   "metadata": {},
   "outputs": [],
   "source": [
    "# Complete this function\n",
    "# Function to find maximum circular subarray sum.\n",
    "def circularSubarraySum(arr):\n",
    "    ## Your code here\n",
    "    n = len(arr)\n",
    "    \n",
    "    def kadane(nums):\n",
    "        max_sum = current_sum = nums[0]\n",
    "        for num in nums[1:]:\n",
    "            current_sum = max(num, current_sum + num)\n",
    "            max_sum = max(max_sum, current_sum)\n",
    "        return max_sum\n",
    "    \n",
    "    max_kadane = kadane(arr)\n",
    "    \n",
    "    total_sum = sum(arr)\n",
    "    min_kadane = kadane([-x for x in arr])\n",
    "    min_kadane = -min_kadane\n",
    "    \n",
    "    if max_kadane < 0:\n",
    "        return max_kadane\n",
    "    \n",
    "    return max(max_kadane, total_sum - min_kadane)"
   ]
  }
 ],
 "metadata": {
  "kernelspec": {
   "display_name": "base",
   "language": "python",
   "name": "python3"
  },
  "language_info": {
   "codemirror_mode": {
    "name": "ipython",
    "version": 3
   },
   "file_extension": ".py",
   "mimetype": "text/x-python",
   "name": "python",
   "nbconvert_exporter": "python",
   "pygments_lexer": "ipython3",
   "version": "3.9.16"
  }
 },
 "nbformat": 4,
 "nbformat_minor": 2
}
