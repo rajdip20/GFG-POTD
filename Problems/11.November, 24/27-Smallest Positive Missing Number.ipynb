{
 "cells": [
  {
   "cell_type": "markdown",
   "metadata": {},
   "source": [
    "You are given an integer array **arr[]**. Your task is to find the **smallest positive number** missing from the array.\n",
    "\n",
    "Note: Positive number starts from 1. The array can have negative integers too.\n",
    "\n",
    "<br>\n",
    "\n",
    "**Examples:**\n",
    ">**Input:** arr[] = [2, -3, 4, 1, 1, 7]<br>\n",
    ">**Output:** 3<br>\n",
    ">**Explanation:** Smallest positive missing number is 3.\n",
    "\n",
    ">**Input:** arr[] = [5, 3, 2, 5, 1]<br>\n",
    ">**Output:** 4<br>\n",
    ">**Explanation:** Smallest positive missing number is 4.\n",
    "\n",
    ">**Input:** arr[] = [-8, 0, -1, -4, -3]<br>\n",
    ">**Output:** 1<br>\n",
    ">**Explanation:** Smallest positive missing number is 1.\n",
    "\n",
    "<br>\n",
    "\n",
    "**Constraints:**  \n",
    "- >1 <= arr.size() <= 10<sup>5</sup>\n",
    "- >-10<sup>6</sup> <= arr[i] <= 10<sup>6</sup>"
   ]
  },
  {
   "cell_type": "code",
   "execution_count": 1,
   "metadata": {},
   "outputs": [],
   "source": [
    "class Solution:\n",
    "    # Function to find the smallest positive number missing from the array.\n",
    "    def missingNumber(self, arr):\n",
    "        # Your code here\n",
    "        n = len(arr)\n",
    "\n",
    "        for i in range(n):\n",
    "            while 1 <= arr[i] <= n and arr[arr[i] - 1] != arr[i]:\n",
    "                arr[arr[i] - 1], arr[i] = arr[i], arr[arr[i] - 1]\n",
    "\n",
    "        for i in range(n):\n",
    "            if arr[i] != i + 1:\n",
    "                return i + 1\n",
    "\n",
    "        return n + 1"
   ]
  }
 ],
 "metadata": {
  "kernelspec": {
   "display_name": "base",
   "language": "python",
   "name": "python3"
  },
  "language_info": {
   "codemirror_mode": {
    "name": "ipython",
    "version": 3
   },
   "file_extension": ".py",
   "mimetype": "text/x-python",
   "name": "python",
   "nbconvert_exporter": "python",
   "pygments_lexer": "ipython3",
   "version": "3.9.16"
  }
 },
 "nbformat": 4,
 "nbformat_minor": 2
}
