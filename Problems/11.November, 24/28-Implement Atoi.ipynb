{
 "cells": [
  {
   "cell_type": "markdown",
   "metadata": {},
   "source": [
    "Given a string s, the objective is to convert it into integer format without utilizing any built-in functions. Refer the below steps to know about atoi() function.\n",
    "\n",
    "**Cases for atoi() conversion:**\n",
    "1. Skip any leading whitespaces.\n",
    "2. Check for a sign (‘+’ or ‘-‘), default to positive if no sign is present.\n",
    "3. Read the integer by ignoring leading zeros until a non-digit character is encountered or end of the string is reached. If no digits are present, return 0.\n",
    "4. If the integer is greater than 2<sup>31</sup> – 1, then return 2<sup>31</sup> – 1 and if the integer is smaller than -2<sup>31</sup>, then return -2<sup>31</sup>.\n",
    "\n",
    "<br>\n",
    "\n",
    "**Examples:**\n",
    ">**Input:** s = \"-123\"<br>\n",
    ">**Output:** -123<br>\n",
    ">**Explanation:** It is possible to convert -123 into an integer so we returned in the form of an integer\n",
    "\n",
    ">**Input:** s = \"  -\"<br>\n",
    ">**Output:** 0<br>\n",
    ">**Explanation:** No digits are present, therefore the returned answer is 0.\n",
    "\n",
    ">**Input:** s = \" 1231231231311133\"<br>\n",
    ">**Output:** 2147483647<br>\n",
    ">**Explanation:** The converted number will be greater than 2<sup>31</sup> – 1, therefore print 2<sup>31</sup> – 1 = 2147483647.\n",
    "\n",
    ">**Input:** s = \"-999999999999\"<br>\n",
    ">**Output:** -2147483648<br>\n",
    ">**Explanation:** The converted number is smaller than -2<sup>31</sup>, therefore print -2<sup>31</sup> = -2147483648.\n",
    "\n",
    ">**Input:** s = \"  -0012gfg4\"<br>\n",
    ">**Output:** -12<br>\n",
    ">**Explanation:** Nothing is read after -12 as a non-digit character ‘g’ was encountered.\n",
    "\n",
    "<br>\n",
    "\n",
    "**Constraints:**\n",
    "- >1 ≤ |s| ≤ 15"
   ]
  },
  {
   "cell_type": "code",
   "execution_count": 1,
   "metadata": {},
   "outputs": [],
   "source": [
    "class Solution:\n",
    "    def myAtoi(self, s):\n",
    "        # Code here\n",
    "        INT_MAX = 2**31 - 1\n",
    "        INT_MIN = -2**31\n",
    "\n",
    "        i = 0\n",
    "        while i < len(s) and s[i] == ' ':\n",
    "            i += 1\n",
    "\n",
    "        sign = 1\n",
    "        if i < len(s) and (s[i] == '+' or s[i] == '-'):\n",
    "            sign = -1 if s[i] == '-' else 1\n",
    "            i += 1\n",
    "\n",
    "        num = 0\n",
    "        while i < len(s) and s[i].isdigit():\n",
    "            num = num * 10 + int(s[i])\n",
    "            i += 1\n",
    "\n",
    "            if sign * num >= INT_MAX:\n",
    "                return INT_MAX\n",
    "            if sign * num <= INT_MIN:\n",
    "                return INT_MIN\n",
    "\n",
    "        return sign * num"
   ]
  }
 ],
 "metadata": {
  "kernelspec": {
   "display_name": "base",
   "language": "python",
   "name": "python3"
  },
  "language_info": {
   "codemirror_mode": {
    "name": "ipython",
    "version": 3
   },
   "file_extension": ".py",
   "mimetype": "text/x-python",
   "name": "python",
   "nbconvert_exporter": "python",
   "pygments_lexer": "ipython3",
   "version": "3.9.16"
  }
 },
 "nbformat": 4,
 "nbformat_minor": 2
}
