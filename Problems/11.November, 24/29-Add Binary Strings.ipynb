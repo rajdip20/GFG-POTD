{
 "cells": [
  {
   "cell_type": "markdown",
   "metadata": {},
   "source": [
    "Given two binary strings **s1** and **s2** consisting of only 0s and 1s. Find the resultant string after adding the two Binary Strings.<br>\n",
    "**Note:** The input strings may contain leading zeros but the output string should not have any leading zeros.\n",
    "\n",
    "<br>\n",
    "\n",
    ">**Input:** s1 = \"1101\", s2 = \"111\"<br>\n",
    ">**Output:** 10100<br>\n",
    ">**Explanation:**<br>\n",
    ">&nbsp; 1101<br>\n",
    ">\\+ 111<br>\n",
    ">10100\n",
    "\n",
    ">**Input:** s1 = \"00100\", s2 = \"010\"<br>\n",
    ">**Output:** 110<br>\n",
    ">**Explanation:** <br>\n",
    ">&nbsp; 100<br>\n",
    ">\\+  10<br>\n",
    ">&nbsp; 110\n",
    "\n",
    "<br>\n",
    "\n",
    "**Constraints:**\n",
    "- >1 ≤s1.size(), s2.size()≤ 10<sup>6</sup>"
   ]
  },
  {
   "cell_type": "code",
   "execution_count": 1,
   "metadata": {},
   "outputs": [],
   "source": [
    "class Solution:\n",
    "    def addBinary(self, s1, s2):\n",
    "\t\t# code here\n",
    "        s1, s2 = s1.lstrip('0'), s2.lstrip('0')\n",
    "        \n",
    "        if not s1:\n",
    "            return s2 if s2 else \"0\"\n",
    "        if not s2:\n",
    "            return s1 if s1 else \"0\"\n",
    "        \n",
    "        i, j = len(s1) - 1, len(s2) - 1\n",
    "        carry = 0\n",
    "        result = []\n",
    "        \n",
    "        while i >= 0 or j >= 0 or carry:\n",
    "            digit1 = int(s1[i]) if i >= 0 else 0\n",
    "            digit2 = int(s2[j]) if j >= 0 else 0\n",
    "            \n",
    "            total = digit1 + digit2 + carry\n",
    "            carry = total // 2\n",
    "            result.append(str(total % 2))\n",
    "            \n",
    "            i -= 1\n",
    "            j -= 1\n",
    "        \n",
    "        return ''.join(result[::-1])"
   ]
  }
 ],
 "metadata": {
  "kernelspec": {
   "display_name": "base",
   "language": "python",
   "name": "python3"
  },
  "language_info": {
   "codemirror_mode": {
    "name": "ipython",
    "version": 3
   },
   "file_extension": ".py",
   "mimetype": "text/x-python",
   "name": "python",
   "nbconvert_exporter": "python",
   "pygments_lexer": "ipython3",
   "version": "3.9.16"
  }
 },
 "nbformat": 4,
 "nbformat_minor": 2
}
