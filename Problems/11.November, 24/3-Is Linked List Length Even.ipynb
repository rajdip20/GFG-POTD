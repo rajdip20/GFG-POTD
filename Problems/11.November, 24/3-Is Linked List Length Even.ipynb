{
 "cells": [
  {
   "cell_type": "markdown",
   "metadata": {},
   "source": [
    "Given a linked list, your task is to complete the function **isLengthEven()** which contains the **head** of the linked list, and check whether the length of the linked list is even or not. Return true if it is even, otherwise false.\n",
    "\n",
    "<br>\n",
    "\n",
    "**Examples:**\n",
    ">**Input:** Linked list: 12->52->10->47->95->0<br>\n",
    ">![image1](../../images/blobid1_1720646145.png)<br>\n",
    ">**Output:** true<br>\n",
    ">**Explanation:** The length of the linked list is 6 which is even, hence returned true.\n",
    "\n",
    ">**Input:** Linked list: 9->4->3<br>\n",
    ">![image2](../../images/blobid0_1720646126.png)<br>\n",
    ">**Output:** false<br>\n",
    ">**Explanation:** The length of the linked list is 3 which is odd, hence returned false.\n",
    "\n",
    "<br>\n",
    "\n",
    "**Expected Time Complexity:** O(n)<br>\n",
    "**Expected Auxillary Space:** O(1)\n",
    "\n",
    "**Constraints:**\n",
    "- >1 <= number of nodes <= 10<sup>5</sup>\n",
    "- >1 <= elements of the linked list <= 10<sup>5</sup>"
   ]
  },
  {
   "cell_type": "code",
   "execution_count": 1,
   "metadata": {},
   "outputs": [],
   "source": [
    "class Solution:\n",
    "    # your task is to complete this function\n",
    "    # function should return false if length is even\n",
    "    # else return true\n",
    "    def isLengthEven(self, head):\n",
    "        # Code here\n",
    "        is_even = True\n",
    "        \n",
    "        current = head\n",
    "        while current:\n",
    "            is_even = not is_even\n",
    "            current = current.next\n",
    "        \n",
    "        return is_even"
   ]
  }
 ],
 "metadata": {
  "kernelspec": {
   "display_name": "base",
   "language": "python",
   "name": "python3"
  },
  "language_info": {
   "codemirror_mode": {
    "name": "ipython",
    "version": 3
   },
   "file_extension": ".py",
   "mimetype": "text/x-python",
   "name": "python",
   "nbconvert_exporter": "python",
   "pygments_lexer": "ipython3",
   "version": "3.9.16"
  }
 },
 "nbformat": 4,
 "nbformat_minor": 2
}
