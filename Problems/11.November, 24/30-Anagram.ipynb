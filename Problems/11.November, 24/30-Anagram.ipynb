{
 "cells": [
  {
   "cell_type": "markdown",
   "metadata": {},
   "source": [
    "Given two strings **s1** and **s2** consisting of lowercase characters. The task is to check whether two given strings are an anagram of each other or not. An anagram of a string is another string that contains the same characters, only the order of characters can be different. For example, act and tac are an anagram of each other. Strings **s1** and **s2** can only contain lowercase alphabets.\n",
    "<br><br>\n",
    "Note: You can assume both the strings s1 & s2 are **non-empty**.\n",
    "\n",
    "<br>\n",
    "\n",
    "**Examples:**\n",
    ">**Input:** s1 = \"geeks\", s2 = \"kseeg\"<br>\n",
    ">**Output:** true<br>\n",
    ">**Explanation:** Both the string have same characters with same frequency. So, they are anagrams.\n",
    "\n",
    ">**Input:** s1 = \"allergy\", s2 = \"allergic\"<br>\n",
    ">**Output:** false<br>\n",
    ">**Explanation:** Characters in both the strings are not same, so they are not anagrams.\n",
    "\n",
    ">**Input:** s1 = \"g\", s2 = \"g\"<br>\n",
    ">**Output:** true<br>\n",
    ">**Explanation:** Character in both the strings are same, so they are anagrams.\n",
    "\n",
    "<br>\n",
    "\n",
    "**Constraints:**\n",
    "- >1 ≤ s1.size(), s2.size() ≤ 10<sup>5</sup>"
   ]
  },
  {
   "cell_type": "code",
   "execution_count": 1,
   "metadata": {},
   "outputs": [],
   "source": [
    "class Solution:\n",
    "    # Function is to check whether two strings are anagram of each other or not.\n",
    "    def areAnagrams(self, s1, s2):\n",
    "        # code here\n",
    "        if len(s1) != len(s2):\n",
    "            return False\n",
    "\n",
    "        freq = [0] * 26\n",
    "        \n",
    "        for c1, c2 in zip(s1, s2):\n",
    "            freq[ord(c1) - ord('a')] += 1\n",
    "            freq[ord(c2) - ord('a')] -= 1\n",
    "\n",
    "        return all(count == 0 for count in freq)"
   ]
  }
 ],
 "metadata": {
  "kernelspec": {
   "display_name": "base",
   "language": "python",
   "name": "python3"
  },
  "language_info": {
   "codemirror_mode": {
    "name": "ipython",
    "version": 3
   },
   "file_extension": ".py",
   "mimetype": "text/x-python",
   "name": "python",
   "nbconvert_exporter": "python",
   "pygments_lexer": "ipython3",
   "version": "3.9.16"
  }
 },
 "nbformat": 4,
 "nbformat_minor": 2
}
