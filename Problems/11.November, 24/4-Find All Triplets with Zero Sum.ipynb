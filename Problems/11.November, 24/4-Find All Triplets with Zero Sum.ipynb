{
 "cells": [
  {
   "cell_type": "markdown",
   "metadata": {},
   "source": [
    "Given an array **arr[]**, find all possible indices **[i, j, k]** of triplets **[arr[i], arr[j], arr[k]]** in the array whose sum is equal to **zero**. Return **indices** of triplets in any order and all the returned triplets indices should also be **internally sorted**, i.e., for any triplet indices [i, j, k], the condition i < j < k should hold.\n",
    "\n",
    "<br>\n",
    "\n",
    "**Examples:**\n",
    ">**Input:** arr[] = [0, -1, 2, -3, 1]<br>\n",
    ">**Output:** [[0, 1, 4], [2, 3, 4]]<br>\n",
    ">**Explanation:** Triplets with sum 0 are:<br>\n",
    ">arr[0] + arr[1] + arr[4] = 0 + (-1) + 1 = 0<br>\n",
    ">arr[2] + arr[3] + arr[4] = 2 + (-3) + 1 = 0\n",
    "\n",
    ">**Input:** arr[] = [1, -2, 1, 0, 5]<br>\n",
    ">**Output:** [[0, 1, 2]]<br>\n",
    ">**Explanation:** Only triplet which satisfies the condition is arr[0] + arr[1] + arr[2] = 1 + (-2) + 1 = 0\n",
    "\n",
    ">**Input:** arr[] = [2, 3, 1, 0, 5]<br>\n",
    ">**Output:** [[]]<br>\n",
    ">**Explanation:** There is no triplet with sum 0.\n",
    "\n",
    "<br>\n",
    "\n",
    "**Constraints:**\n",
    "- >3 <= arr.size() <= 10<sup>3</sup>\n",
    "- >-10<sup>4</sup> <= arr[i] <= 10<sup>4</sup>"
   ]
  },
  {
   "cell_type": "code",
   "execution_count": 1,
   "metadata": {},
   "outputs": [],
   "source": [
    "class Solution:\n",
    "    def findTriplets(self, arr):\n",
    "        # Your code here\n",
    "        from collections import defaultdict\n",
    "        \n",
    "        n = len(arr)\n",
    "        \n",
    "        def collect(i):\n",
    "            target, m = -arr[i], defaultdict(list)\n",
    "        \n",
    "            for j in range(i+1, n):\n",
    "                if target - arr[j] in m:\n",
    "                    for idx in m[target - arr[j]]:\n",
    "                        yield i, idx, j\n",
    "        \n",
    "                m[arr[j]].append(j)\n",
    "        \n",
    "        for i in range(n):\n",
    "            yield from collect(i)"
   ]
  }
 ],
 "metadata": {
  "kernelspec": {
   "display_name": "base",
   "language": "python",
   "name": "python3"
  },
  "language_info": {
   "codemirror_mode": {
    "name": "ipython",
    "version": 3
   },
   "file_extension": ".py",
   "mimetype": "text/x-python",
   "name": "python",
   "nbconvert_exporter": "python",
   "pygments_lexer": "ipython3",
   "version": "3.9.16"
  }
 },
 "nbformat": 4,
 "nbformat_minor": 2
}
