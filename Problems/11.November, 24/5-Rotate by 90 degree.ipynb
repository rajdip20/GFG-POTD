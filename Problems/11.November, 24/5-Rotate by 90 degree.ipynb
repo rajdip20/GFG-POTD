{
 "cells": [
  {
   "cell_type": "markdown",
   "metadata": {},
   "source": [
    "Given a square **matrix[][]**. The task is to rotate it by **90 degrees in clockwise** direction without using any extra space.\n",
    "\n",
    "<br>\n",
    "\n",
    "**Examples:**\n",
    ">**Input:** mat[][] = [[1 2 3], [4 5 6], [7 8 9]]<br>\n",
    ">**Output:**<br>\n",
    ">7 4 1 <br>\n",
    ">8 5 2<br>\n",
    ">9 6 3\n",
    "\n",
    ">**Input:** mat[][] = [1 2], [3 4]<br>\n",
    ">**Output:**<br>\n",
    ">3 1 <br>\n",
    ">4 2\n",
    "\n",
    ">**Input:** mat[][] = [[1]]<br>\n",
    ">**Output:**<br>\n",
    ">1\n",
    "\n",
    "<br>\n",
    "\n",
    "**Constraints:**\n",
    "- >1 ≤ mat.size() ≤ 1000\n",
    "- >1 <= mat[][] <= 100"
   ]
  },
  {
   "cell_type": "code",
   "execution_count": 1,
   "metadata": {},
   "outputs": [],
   "source": [
    "def rotate(matrix): \n",
    "    # code here\n",
    "    n = len(matrix)\n",
    "    \n",
    "    for i in range(n):\n",
    "        for j in range(i + 1, n):\n",
    "            matrix[i][j], matrix[j][i] = matrix[j][i], matrix[i][j]\n",
    "    \n",
    "    for i in range(n):\n",
    "        matrix[i].reverse()\n",
    "    \n",
    "    return matrix"
   ]
  }
 ],
 "metadata": {
  "kernelspec": {
   "display_name": "base",
   "language": "python",
   "name": "python3"
  },
  "language_info": {
   "codemirror_mode": {
    "name": "ipython",
    "version": 3
   },
   "file_extension": ".py",
   "mimetype": "text/x-python",
   "name": "python",
   "nbconvert_exporter": "python",
   "pygments_lexer": "ipython3",
   "version": "3.9.16"
  }
 },
 "nbformat": 4,
 "nbformat_minor": 2
}
