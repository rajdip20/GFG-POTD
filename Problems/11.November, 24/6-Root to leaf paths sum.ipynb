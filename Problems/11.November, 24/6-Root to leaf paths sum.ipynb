{
 "cells": [
  {
   "cell_type": "markdown",
   "metadata": {},
   "source": [
    "Given a binary tree, where every node value is a number. Find the sum of all the numbers that are formed from root to leaf paths. The formation of the numbers would be like 10 * parent + current (see the examples for more clarification).\n",
    "\n",
    "<br>\n",
    "\n",
    "**Examples:**\n",
    ">**Input:**<br>\n",
    ">![image1](../../images/blobid0_1730705508.png)<br>\n",
    ">**Output:** 13997<br>\n",
    ">**Explanation:** There are 4 leaves, resulting in leaf path of 632, 6357, 6354, 654 sums to 13997.\n",
    "\n",
    ">**Input:**<br>\n",
    ">![image2](../../images/blobid1_1730705776.png)<br>\n",
    ">**Output:** 2630<br>\n",
    ">**Explanation:** There are 3 leaves, resulting in leaf path of 1240, 1260, 130 sums to 2630.\n",
    "\n",
    ">**Input:**<br>\n",
    ">&emsp;&emsp;1 <br>\n",
    ">&emsp;&ensp;/ <br>\n",
    ">&emsp;2 <br>\n",
    ">**Output:** 12<br>\n",
    ">**Explanation:** There is 1 leaf, resulting in leaf path of 12.\n",
    "\n",
    "<br>\n",
    "\n",
    "**Constraints:**\n",
    "- >1 ≤ number of nodes ≤ 31\n",
    "- >1 ≤ node->data ≤ 100"
   ]
  },
  {
   "cell_type": "code",
   "execution_count": 1,
   "metadata": {},
   "outputs": [],
   "source": [
    "class Solution:\n",
    "    def treePathSum(self, root):\n",
    "        # Code here\n",
    "        def dfs(node, current_sum):\n",
    "            if not node:\n",
    "                return 0\n",
    "            \n",
    "            current_sum = 10 * current_sum + node.data\n",
    "            \n",
    "            if not node.left and not node.right:\n",
    "                return current_sum\n",
    "            \n",
    "            left_sum = dfs(node.left, current_sum)\n",
    "            right_sum = dfs(node.right, current_sum)\n",
    "            \n",
    "            return left_sum + right_sum\n",
    "        \n",
    "        return dfs(root, 0)"
   ]
  }
 ],
 "metadata": {
  "kernelspec": {
   "display_name": "base",
   "language": "python",
   "name": "python3"
  },
  "language_info": {
   "codemirror_mode": {
    "name": "ipython",
    "version": 3
   },
   "file_extension": ".py",
   "mimetype": "text/x-python",
   "name": "python",
   "nbconvert_exporter": "python",
   "pygments_lexer": "ipython3",
   "version": "3.9.16"
  }
 },
 "nbformat": 4,
 "nbformat_minor": 2
}
