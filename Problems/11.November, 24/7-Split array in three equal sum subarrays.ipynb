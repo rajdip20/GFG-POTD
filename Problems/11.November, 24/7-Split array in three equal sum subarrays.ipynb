{
 "cells": [
  {
   "cell_type": "markdown",
   "metadata": {},
   "source": [
    "Given an array, **arr[]**, determine if **arr** can be split into three consecutive parts such that the sum of each part is equal. If possible, return any **index** pair(i, j) in an array such that sum(arr[0..i]) = sum(arr[i+1..j]) = sum(arr[j+1..n-1]), otherwise return an array **{-1,-1}**.\n",
    "\n",
    "Note: Driver code will print true if **arr** can be split into three equal sum subarrays, otherwise, it is false.\n",
    "\n",
    "<br>\n",
    "\n",
    "**Examples:**\n",
    ">**Input:**  arr[] = [1, 3, 4, 0, 4]<br>\n",
    ">**Output:** true<br>\n",
    ">**Explanation:** [1, 2] is valid pair as sum of subarray arr[0..1] is equal to sum of subarray arr[2..3] and also to sum of subarray arr[4..4]. The sum is 4. \n",
    "\n",
    ">**Input:** arr[] = [2, 3, 4]<br>\n",
    ">**Output:** false<br>\n",
    ">**Explanation:** No three subarrays exist which have equal sum.\n",
    "\n",
    ">**Input:** arr[] = [0, 1, 1]<br>\n",
    ">**Output:** false\n",
    "\n",
    "<br>\n",
    "\n",
    "**Constraints:**\n",
    "- >3 ≤ arr.size() ≤ 10<sup>6</sup>\n",
    "- >0 ≤ arr[i] ≤ 10<sup>6</sup>"
   ]
  },
  {
   "cell_type": "code",
   "execution_count": 1,
   "metadata": {},
   "outputs": [],
   "source": [
    "class Solution:\n",
    "    # Function to determine if array arr can be split into three equal sum sets.\n",
    "    def findSplit(self, arr):\n",
    "        # code here\n",
    "        total_sum = sum(arr)\n",
    "    \n",
    "        if total_sum % 3 != 0:\n",
    "            return [-1, -1]\n",
    "        \n",
    "        part_sum = total_sum // 3\n",
    "        current_sum = 0\n",
    "        found_first = found_second = False\n",
    "        index_i = index_j = -1\n",
    "        \n",
    "        for k in range(len(arr)):\n",
    "            current_sum += arr[k]\n",
    "            \n",
    "            if current_sum == part_sum and not found_first:\n",
    "                index_i = k\n",
    "                found_first = True\n",
    "                current_sum = 0\n",
    "                \n",
    "            elif current_sum == part_sum and found_first and not found_second:\n",
    "                index_j = k\n",
    "                found_second = True\n",
    "                break\n",
    "\n",
    "        if found_first and found_second:\n",
    "            return [index_i, index_j]\n",
    "        else:\n",
    "            return [-1, -1]"
   ]
  }
 ],
 "metadata": {
  "kernelspec": {
   "display_name": "base",
   "language": "python",
   "name": "python3"
  },
  "language_info": {
   "codemirror_mode": {
    "name": "ipython",
    "version": 3
   },
   "file_extension": ".py",
   "mimetype": "text/x-python",
   "name": "python",
   "nbconvert_exporter": "python",
   "pygments_lexer": "ipython3",
   "version": "3.9.16"
  }
 },
 "nbformat": 4,
 "nbformat_minor": 2
}
