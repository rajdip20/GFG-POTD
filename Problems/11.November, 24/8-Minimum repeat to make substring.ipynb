{
 "cells": [
  {
   "cell_type": "markdown",
   "metadata": {},
   "source": [
    "Given two strings **s1** and **s2**. Return a minimum number of times s1 has to be repeated such that s2 is a substring of it. If **s2** can never be a substring then return **-1**.\n",
    "\n",
    "Note: Both the strings contain only lowercase letters.\n",
    "\n",
    "<br>\n",
    "\n",
    "**Examples:**\n",
    ">**Input:** s1 = \"ww\", s2 = \"www\"<br>\n",
    ">**Output:** 2<br>\n",
    ">**Explanation:** Repeating s1 two times (wwww), s2 is a substring of it.\n",
    "\n",
    ">**Input:** s1 = \"abcd\", s2 = \"cdabcdab\" <br>\n",
    ">**Output:** 3 <br>\n",
    ">**Explanation:** Repeating s1 three times (abcdabcdabcd), s2 is a substring of it. s2 is not a substring of s2 when it is repeated less than 3 times.\n",
    "\n",
    ">**Input:** s1 = \"ab\", s2 = \"cab\"<br>\n",
    ">**Output:** -1<br>\n",
    ">**Explanation:** No matter how many times we repeat s1, we can't get a string such that s2 is a substring of it.\n",
    "\n",
    "<br>\n",
    "\n",
    "**Constraints:**\n",
    "- >1 ≤ |s1|, |s2| ≤ 10<sup>5</sup>"
   ]
  },
  {
   "cell_type": "code",
   "execution_count": 1,
   "metadata": {},
   "outputs": [],
   "source": [
    "class Solution:\n",
    "    def minRepeats(self, s1, s2):\n",
    "        # code here\n",
    "        ss1 = set(s1)\n",
    "        ss2 = set(s2)\n",
    "        \n",
    "        for k in ss2:\n",
    "            if k not in ss1:\n",
    "                return -1\n",
    "                \n",
    "        count = 1\n",
    "        c = len(s2)\n",
    "        new_s1 = s1\n",
    "        \n",
    "        while len(new_s1) <= 2*c:\n",
    "            if new_s1.find(s2) != -1:\n",
    "                return count\n",
    "            count += 1\n",
    "            new_s1 += s1\n",
    "            \n",
    "        if new_s1.find(s2) != -1:\n",
    "                return count\n",
    "            \n",
    "        return -1"
   ]
  }
 ],
 "metadata": {
  "kernelspec": {
   "display_name": "base",
   "language": "python",
   "name": "python3"
  },
  "language_info": {
   "codemirror_mode": {
    "name": "ipython",
    "version": 3
   },
   "file_extension": ".py",
   "mimetype": "text/x-python",
   "name": "python",
   "nbconvert_exporter": "python",
   "pygments_lexer": "ipython3",
   "version": "3.9.16"
  }
 },
 "nbformat": 4,
 "nbformat_minor": 2
}
