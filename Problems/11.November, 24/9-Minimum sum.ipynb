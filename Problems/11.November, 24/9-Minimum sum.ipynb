{
 "cells": [
  {
   "cell_type": "markdown",
   "metadata": {},
   "source": [
    "Given an array **arr[]** such that each element is in the range [0 - 9], find the minimum possible sum of two numbers formed using the elements of the array. All digits in the given array must be used to form the two numbers. Return a string without leading zeroes.\n",
    "\n",
    "<br>\n",
    "\n",
    "**Examples:**\n",
    ">**Input:** arr[] = [6, 8, 4, 5, 2, 3]<br>\n",
    ">**Output:** 604<br>\n",
    ">**Explanation:** The minimum sum is formed by numbers 358 and 246.\n",
    "\n",
    ">**Input:** arr[] = [5, 3, 0, 7, 4]<br>\n",
    ">**Output:** 82<br>\n",
    ">**Explanation:** The minimum sum is formed by numbers 35 and 047.\n",
    "\n",
    ">**Input:** arr[] = [9, 4]<br>\n",
    ">**Output:** 13<br>\n",
    ">**Explanation:** The minimum sum is formed by numbers 9 and 4.\n",
    "\n",
    "<br>\n",
    "\n",
    "**Constraints:**\n",
    "- >1 ≤ arr.size() ≤ 10<sup>6</sup>\n",
    "- >0 ≤ arr[i] ≤ 9"
   ]
  },
  {
   "cell_type": "code",
   "execution_count": 1,
   "metadata": {},
   "outputs": [],
   "source": [
    "class Solution:\n",
    "    def minSum(self, arr):\n",
    "        # code here\n",
    "        n = len(arr)\n",
    "        arr.sort()\n",
    "        temp = []\n",
    "        temp1 = []\n",
    "        \n",
    "        for i in range(n):\n",
    "            if i%2 == 0:\n",
    "                temp.append(str(arr[i]))\n",
    "            else:\n",
    "                temp1.append(str(arr[i]))\n",
    "        temp = ''.join(temp).lstrip('0')\n",
    "        temp1 = ''.join(temp1).lstrip('0')\n",
    "        \n",
    "        i = len(temp) - 1\n",
    "        j = len(temp1) - 1\n",
    "        carry = 0\n",
    "        result = []\n",
    "        \n",
    "        while i >= 0 or j >= 0 or carry > 0:\n",
    "            sum1 = carry\n",
    "            if i >= 0:\n",
    "                sum1 += int(temp[i])\n",
    "                i -= 1\n",
    "            if j >= 0:\n",
    "                sum1 += int(temp1[j])\n",
    "                j -= 1\n",
    "            result.append(str(sum1 % 10))\n",
    "            carry = sum1 // 10\n",
    "        \n",
    "        return ''.join(result[::-1])"
   ]
  }
 ],
 "metadata": {
  "kernelspec": {
   "display_name": "base",
   "language": "python",
   "name": "python3"
  },
  "language_info": {
   "codemirror_mode": {
    "name": "ipython",
    "version": 3
   },
   "file_extension": ".py",
   "mimetype": "text/x-python",
   "name": "python",
   "nbconvert_exporter": "python",
   "pygments_lexer": "ipython3",
   "version": "3.9.16"
  }
 },
 "nbformat": 4,
 "nbformat_minor": 2
}
