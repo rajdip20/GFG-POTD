{
 "cells": [
  {
   "cell_type": "markdown",
   "metadata": {},
   "source": [
    "Given a string **s** consisting of **lowercase** Latin Letters. Return the first non-repeating character in **s**. If there is no non-repeating character, return **'$'**.<br>\n",
    "Note: When you return '$' driver code will output -1.\n",
    "\n",
    "<br>\n",
    "\n",
    "**Examples:**\n",
    ">**Input:** s = \"geeksforgeeks\"<br>\n",
    ">**Output:** 'f'<br>\n",
    ">**Explanation:** In the given string, 'f' is the first character in the string which does not repeat.\n",
    "\n",
    ">**Input:** s = \"racecar\"<br>\n",
    ">**Output:** 'e'<br>\n",
    ">**Explanation:** In the given string, 'e' is the only character in the string which does not repeat.\n",
    "\n",
    ">**Input:** s = \"aabbccc\"<br>\n",
    ">**Output:** -1<br>\n",
    ">**Explanation:** All the characters in the given string are repeating.\n",
    "\n",
    "<br>\n",
    "\n",
    "**Constraints:**\n",
    "- >1 <= s.size() <= 10<sup>5</sup>"
   ]
  },
  {
   "cell_type": "code",
   "execution_count": 1,
   "metadata": {},
   "outputs": [],
   "source": [
    "class Solution:\n",
    "    # Function to find the first non-repeating character in a string.\n",
    "    def nonRepeatingChar(self, s):\n",
    "        # code here\n",
    "        char_count = {}\n",
    "        for char in s:\n",
    "            char_count[char] = char_count.get(char, 0) + 1\n",
    "        \n",
    "        for char in s:\n",
    "            if char_count[char] == 1:\n",
    "                return char\n",
    "        \n",
    "        return '$'"
   ]
  }
 ],
 "metadata": {
  "kernelspec": {
   "display_name": "base",
   "language": "python",
   "name": "python3"
  },
  "language_info": {
   "codemirror_mode": {
    "name": "ipython",
    "version": 3
   },
   "file_extension": ".py",
   "mimetype": "text/x-python",
   "name": "python",
   "nbconvert_exporter": "python",
   "pygments_lexer": "ipython3",
   "version": "3.9.16"
  }
 },
 "nbformat": 4,
 "nbformat_minor": 2
}
