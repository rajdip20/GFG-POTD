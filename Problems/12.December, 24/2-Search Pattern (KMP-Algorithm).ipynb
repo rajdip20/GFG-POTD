{
 "cells": [
  {
   "cell_type": "markdown",
   "metadata": {},
   "source": [
    "Given two strings, one is a text string **txt** and the other is a pattern string **pat**. The task is to print the indexes of **all the occurrences** of the pattern string in the text string. Use **0-based** indexing while returning the indices. <br><br>\n",
    "Note: Return an empty list in case of no occurrences of pattern.\n",
    "\n",
    "<br>\n",
    "\n",
    "**Examples:**\n",
    ">**Input:** txt = \"abcab\", pat = \"ab\"<br>\n",
    ">**Output:** [0, 3]<br>\n",
    ">**Explanation:** The string \"ab\" occurs twice in txt, one starts at index 0 and the other at index 3. \n",
    "\n",
    ">**Input:** txt = \"abesdu\", pat = \"edu\"<br>\n",
    ">**Output:** []<br>\n",
    ">**Explanation:** There's no substring \"edu\" present in txt.\n",
    "\n",
    ">**Input:** txt = \"aabaacaadaabaaba\", pat = \"aaba\"<br>\n",
    ">**Output:** [0, 9, 12]<br>\n",
    ">**Explanation:**<br>\n",
    ">![image1](../../images/blobid0_1731391225.png)\n",
    "\n",
    "<br>\n",
    "\n",
    "**Constraints:**\n",
    "- >1 ≤ txt.size() ≤ 10<sup>6</sup>\n",
    "- >1 ≤ pat.size() < txt.size()\n",
    "- >Both the strings consist of lowercase English alphabets."
   ]
  },
  {
   "cell_type": "code",
   "execution_count": 1,
   "metadata": {},
   "outputs": [],
   "source": [
    "class Solution:\n",
    "    def search(self, pat, txt):\n",
    "        # code here\n",
    "        def computeLPSArray(pat):\n",
    "            lps = [0] * len(pat)\n",
    "            length = 0\n",
    "            i = 1\n",
    "            \n",
    "            while i < len(pat):\n",
    "                if pat[i] == pat[length]:\n",
    "                    length += 1\n",
    "                    lps[i] = length\n",
    "                    i += 1\n",
    "                else:\n",
    "                    if length != 0:\n",
    "                        length = lps[length - 1]\n",
    "                    else:\n",
    "                        lps[i] = 0\n",
    "                        i += 1\n",
    "            return lps\n",
    "\n",
    "        n = len(txt)\n",
    "        m = len(pat)\n",
    "        lps = computeLPSArray(pat)\n",
    "        indices = []\n",
    "        i = j = 0\n",
    "        \n",
    "        while i < n:\n",
    "            if txt[i] == pat[j]:\n",
    "                i += 1\n",
    "                j += 1\n",
    "            \n",
    "            if j == m:\n",
    "                indices.append(i - j)\n",
    "                j = lps[j - 1]\n",
    "            elif i < n and txt[i] != pat[j]:\n",
    "                if j != 0:\n",
    "                    j = lps[j - 1]\n",
    "                else:\n",
    "                    i += 1\n",
    "        \n",
    "        return indices"
   ]
  }
 ],
 "metadata": {
  "kernelspec": {
   "display_name": "base",
   "language": "python",
   "name": "python3"
  },
  "language_info": {
   "codemirror_mode": {
    "name": "ipython",
    "version": 3
   },
   "file_extension": ".py",
   "mimetype": "text/x-python",
   "name": "python",
   "nbconvert_exporter": "python",
   "pygments_lexer": "ipython3",
   "version": "3.9.16"
  }
 },
 "nbformat": 4,
 "nbformat_minor": 2
}
