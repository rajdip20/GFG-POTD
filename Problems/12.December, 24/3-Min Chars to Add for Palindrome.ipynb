{
 "cells": [
  {
   "cell_type": "markdown",
   "metadata": {},
   "source": [
    "Given a string **s**, the task is to find the minimum characters to be added at the front to make the string palindrome.\n",
    "\n",
    "Note: A palindrome string is a sequence of characters that reads the same forward and backward.\n",
    "\n",
    "<br>\n",
    "\n",
    "**Examples:**\n",
    ">**Input:** s = \"abc\"<br>\n",
    ">**Output:** 2<br>\n",
    ">**Explanation:** Add 'b' and 'c' at front of above string to make it palindrome : \"cbabc\"\n",
    "\n",
    ">**Input:** s = \"aacecaaaa\"<br>\n",
    ">**Output:** 2<br>\n",
    ">**Explanation:** Add 2 a's at front of above string to make it palindrome : \"aaaacecaaaa\"\n",
    "\n",
    "<br>\n",
    "\n",
    "**Constraints:**\n",
    "- >1 <= s.size() <= 10<sup>6</sup>"
   ]
  },
  {
   "cell_type": "code",
   "execution_count": 1,
   "metadata": {},
   "outputs": [],
   "source": [
    "class Solution:\n",
    "    def minChar(self, s):\n",
    "        # Write your code here\n",
    "        rev_s = s[::-1]\n",
    "        combined = s + '#' + rev_s\n",
    "        \n",
    "        lps = [0] * len(combined)\n",
    "        for i in range(1, len(combined)):\n",
    "            j = lps[i - 1]\n",
    "            while j > 0 and combined[i] != combined[j]:\n",
    "                j = lps[j - 1]\n",
    "            if combined[i] == combined[j]:\n",
    "                j += 1\n",
    "            lps[i] = j\n",
    "        \n",
    "        return len(s) - lps[-1]"
   ]
  }
 ],
 "metadata": {
  "kernelspec": {
   "display_name": "base",
   "language": "python",
   "name": "python3"
  },
  "language_info": {
   "codemirror_mode": {
    "name": "ipython",
    "version": 3
   },
   "file_extension": ".py",
   "mimetype": "text/x-python",
   "name": "python",
   "nbconvert_exporter": "python",
   "pygments_lexer": "ipython3",
   "version": "3.9.16"
  }
 },
 "nbformat": 4,
 "nbformat_minor": 2
}
