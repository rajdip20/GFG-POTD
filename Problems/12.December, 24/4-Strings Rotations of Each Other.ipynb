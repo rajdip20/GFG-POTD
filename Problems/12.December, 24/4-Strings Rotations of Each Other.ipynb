{
 "cells": [
  {
   "cell_type": "markdown",
   "metadata": {},
   "source": [
    "You are given two strings of equal lengths, **s1** and **s2**. The task is to check if **s2** is a rotated version of the string **s1**.\n",
    "\n",
    "Note: The characters in the strings are in lowercase.\n",
    "\n",
    "<br>\n",
    "\n",
    "**Examples:**\n",
    ">**Input:** s1 = \"abcd\", s2 = \"cdab\"<br>\n",
    ">**Output:** true<br>\n",
    ">**Explanation:** After 2 right rotations, s1 will become equal to s2.\n",
    "\n",
    ">**Input:** s1 = \"aab\", s2 = \"aba\"<br>\n",
    ">**Output:** true<br>\n",
    ">**Explanation:** After 1 left rotation, s1 will become equal to s2.\n",
    "\n",
    ">**Input:** s1 = \"abcd\", s2 = \"acbd\"<br>\n",
    ">**Output:** false<br>\n",
    ">**Explanation:** Strings are not rotations of each other.\n",
    "\n",
    "<br>\n",
    "\n",
    "**Constraints:**\n",
    "- >1 <= s1.size(), s2.size() <= 10<sup>5</sup>"
   ]
  },
  {
   "cell_type": "code",
   "execution_count": 1,
   "metadata": {},
   "outputs": [],
   "source": [
    "class Solution:\n",
    "    # Function to check if two strings are rotations of each other or not.\n",
    "    def areRotations(self, s1, s2):\n",
    "        # code here\n",
    "        if len(s1) != len(s2):\n",
    "            return False\n",
    "        \n",
    "        return s2 in (s1 + s1)"
   ]
  }
 ],
 "metadata": {
  "kernelspec": {
   "display_name": "base",
   "language": "python",
   "name": "python3"
  },
  "language_info": {
   "codemirror_mode": {
    "name": "ipython",
    "version": 3
   },
   "file_extension": ".py",
   "mimetype": "text/x-python",
   "name": "python",
   "nbconvert_exporter": "python",
   "pygments_lexer": "ipython3",
   "version": "3.9.16"
  }
 },
 "nbformat": 4,
 "nbformat_minor": 2
}
