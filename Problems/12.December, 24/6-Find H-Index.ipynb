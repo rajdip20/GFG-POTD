{
 "cells": [
  {
   "cell_type": "markdown",
   "metadata": {},
   "source": [
    "Given an integer array **citations[]**, where **citations[i]** is the number of citations a researcher received for the **i<sup>th</sup>** paper. The task is to find the **H-index**.\n",
    "\n",
    "&emsp;&emsp;**H-Index** is the **largest** value such that the researcher has **at least H papers** that have been cited **at least H times**.\n",
    "\n",
    "<br>\n",
    "\n",
    "**Examples:**\n",
    ">**Input:** citations[] = [3, 0, 5, 3, 0]<br>\n",
    ">**Output:** 3<br>\n",
    ">**Explanation:** There are at least 3 papers (3, 5, 3) with at least 3 citations.\n",
    "\n",
    ">**Input:** citations[] = [5, 1, 2, 4, 1]<br>\n",
    ">**Output:** 2<br>\n",
    ">**Explanation:** There are atleast 2 papers (5, 2, 4) with atleast 2 citations.\n",
    "\n",
    ">**Input:** citations[] = [0, 0]<br>\n",
    ">**Output:** 0\n",
    "\n",
    "<br>\n",
    "\n",
    "**Constraints:**\n",
    "- >1 ≤ citations.size() ≤ 10<sup>6</sup>\n",
    "- >0 ≤ citations[i] ≤ 10<sup>6</sup>"
   ]
  },
  {
   "cell_type": "code",
   "execution_count": 1,
   "metadata": {},
   "outputs": [],
   "source": [
    "class Solution:\n",
    "    # Function to find hIndex\n",
    "    def hIndex(self, citations):\n",
    "        # code here\n",
    "        n = len(citations)\n",
    "        count = [0] * (n + 1)\n",
    "        \n",
    "        for citation in citations:\n",
    "            count[min(citation, n)] += 1\n",
    "        \n",
    "        total = 0\n",
    "        for h in range(n, -1, -1):\n",
    "            total += count[h]\n",
    "            if total >= h:\n",
    "                return h\n",
    "        return 0"
   ]
  }
 ],
 "metadata": {
  "kernelspec": {
   "display_name": "base",
   "language": "python",
   "name": "python3"
  },
  "language_info": {
   "codemirror_mode": {
    "name": "ipython",
    "version": 3
   },
   "file_extension": ".py",
   "mimetype": "text/x-python",
   "name": "python",
   "nbconvert_exporter": "python",
   "pygments_lexer": "ipython3",
   "version": "3.9.16"
  }
 },
 "nbformat": 4,
 "nbformat_minor": 2
}
