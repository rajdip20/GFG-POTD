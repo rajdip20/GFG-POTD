{
 "cells": [
  {
   "cell_type": "markdown",
   "metadata": {},
   "source": [
    "Given a string s check if it is **\"Panagram\"** or not.\n",
    "\n",
    "&emsp;&emsp;A **\"Panagram\"** is a sentence containing every letter in the English Alphabet.\n",
    "\n",
    "<br>\n",
    "\n",
    "**Example 1:**\n",
    ">**Input:**<br>\n",
    ">s = \"Bawds jog, flick quartz, vex nymph\"<br>\n",
    "**Output:** <br>\n",
    ">1<br>\n",
    ">**Explanation:** <br>\n",
    ">In the given input, there are all the letters of the English alphabet. Hence, the output is 1.\n",
    "\n",
    "\n",
    "**Example 2:**\n",
    ">**Input:**<br>\n",
    ">s = \"sdfs\"<br>\n",
    ">**Output:** <br>\n",
    ">0<br>\n",
    ">**Explanation:** <br>\n",
    ">In the given input, there aren't all the letters present in the English alphabet. Hence, the output is 0.\n",
    "\n",
    "<br>\n",
    "\n",
    "**Your Task:**\n",
    "You do not have to take any input or print anything. You need to complete the function **checkPangram()** that takes a **string** as a parameter and returns **true** if the string is a **Panagram**, or else it returns **false**.\n",
    "\n",
    "**Expected Time Complexity:** O( |s| )<br>\n",
    "**Expected Auxiliary Space:** O(1)<br>\n",
    "|s| denotes the length of the input string.\n",
    "\n",
    "\n",
    "**Constraints:**\n",
    "- >1 ≤ |s| ≤ 104\n",
    "- >Both **Uppercase** & **Lowercase** are considerable"
   ]
  },
  {
   "cell_type": "code",
   "execution_count": 1,
   "metadata": {},
   "outputs": [],
   "source": [
    "class Solution:\n",
    "    \n",
    "    #Function to check if a string is Pangram or not.\n",
    "    def checkPangram(self, s):\n",
    "        #code here\n",
    "        s = s.lower()\n",
    "\n",
    "        letters = set()\n",
    "\n",
    "        for char in s:\n",
    "            if 'a' <= char <= 'z':\n",
    "                letters.add(char)\n",
    "\n",
    "        return len(letters) == 26"
   ]
  }
 ],
 "metadata": {
  "kernelspec": {
   "display_name": "base",
   "language": "python",
   "name": "python3"
  },
  "language_info": {
   "codemirror_mode": {
    "name": "ipython",
    "version": 3
   },
   "file_extension": ".py",
   "mimetype": "text/x-python",
   "name": "python",
   "nbconvert_exporter": "python",
   "pygments_lexer": "ipython3",
   "version": "3.9.16"
  }
 },
 "nbformat": 4,
 "nbformat_minor": 2
}
