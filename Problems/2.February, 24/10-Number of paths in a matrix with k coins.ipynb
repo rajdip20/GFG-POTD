{
 "cells": [
  {
   "cell_type": "markdown",
   "metadata": {},
   "source": [
    "Given a **n x n** matrix such that each of its cells contains some coins. Count the number of ways to collect **exactly k coins** while moving from top left corner of the matrix to the bottom right. From a cell (i, j), you can only move to (i+1, j) or (i, j+1).\n",
    "\n",
    "<br>\n",
    "\n",
    "**Example 1:**\n",
    ">**Input:**<br>\n",
    ">k = 12, n = 3<br>\n",
    ">arr[] = [[1, 2, 3], [4, 6, 5], [3, 2, 1]]<br>\n",
    ">**Output:** <br>\n",
    ">2<br>\n",
    ">**Explanation:** <br>\n",
    ">There are 2 possible paths with exactly 12 coins, (1 + 2 + 6 + 2 + 1) and (1 + 2 + 3 + 5 + 1).\n",
    "\n",
    "\n",
    "**Example 2:**\n",
    ">**Input:**<br>\n",
    ">k = 16, n = 3<br>\n",
    ">arr[] = [[1, 2, 3], [4, 6, 5], [9, 8, 7]]<br>\n",
    ">**Output:** <br>\n",
    ">0 <br>\n",
    ">**Explanation:** <br>\n",
    ">There are no possible paths that lead to sum=16\n",
    "\n",
    "<br>\n",
    "\n",
    "**Your Task:**  \n",
    "You don't need to read input or print anything. Your task is to complete the function **numberOfPath()** which takes n, k and 2D matrix arr[][] as input parameters and returns the number of possible paths.\n",
    "\n",
    "**Expected Time Complexity:** O(n* n* k)<br>\n",
    "**Expected Auxiliary Space:** O(n* n* k)\n",
    "\n",
    "**Constraints:**\n",
    "- >1 <= k < 100\n",
    "- >1 <= n < 100\n",
    "- >0 <= arr<sub>ij</sub> <= 200"
   ]
  },
  {
   "cell_type": "code",
   "execution_count": 1,
   "metadata": {},
   "outputs": [],
   "source": [
    "class Solution:\n",
    "    def numberOfPath (self, n, k, arr):\n",
    "        # code here\n",
    "        dp = {}\n",
    "        def dfs(r, c, k):\n",
    "            if max(r, c) >= n or arr[r][c] > k:\n",
    "                return 0\n",
    "            \n",
    "            if (r, c, k) in dp:\n",
    "                return dp[(r,c,k)]\n",
    "            \n",
    "            if r == c == n - 1:\n",
    "               return 1 if arr[r][c] == k else 0\n",
    "            \n",
    "            right = dfs(r, c + 1, k - arr[r][c])\n",
    "            down = dfs(r + 1, c, k - arr[r][c])\n",
    "            res = dp[(r, c, k)] = right + down\n",
    "            \n",
    "            return res\n",
    "        \n",
    "        return dfs(0, 0, k)"
   ]
  }
 ],
 "metadata": {
  "kernelspec": {
   "display_name": "base",
   "language": "python",
   "name": "python3"
  },
  "language_info": {
   "codemirror_mode": {
    "name": "ipython",
    "version": 3
   },
   "file_extension": ".py",
   "mimetype": "text/x-python",
   "name": "python",
   "nbconvert_exporter": "python",
   "pygments_lexer": "ipython3",
   "version": "3.9.16"
  }
 },
 "nbformat": 4,
 "nbformat_minor": 2
}
