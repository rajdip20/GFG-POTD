{
 "cells": [
  {
   "cell_type": "markdown",
   "metadata": {},
   "source": [
    "Given an integer **n**, return the first n elements of [Recaman’s sequence](http://mathworld.wolfram.com/RecamansSequence.html).<br>\n",
    "It is a function with domain and co-domain as whole numbers. It is recursively defined as below:<br>\n",
    "Specifically, let a(n) denote the (n+1)<sup>th</sup> term. (0 being the 1<sup>st</sup> term).<br>\n",
    "The rule says:<br>\n",
    "a(0) = 0<br>\n",
    "a(n) = a(n-1) - n, if a(n-1) - n > 0 and is not included in the sequence previously =  a(n-1) + n otherwise.\n",
    "\n",
    "<br>\n",
    "\n",
    "**Example 1:**\n",
    ">**Input:** <br>\n",
    ">n = 5<br>\n",
    ">**Output:** <br>\n",
    ">0 1 3 6 2<br>\n",
    ">**Explaination:** <br>\n",
    ">a(0) = 0,<br>\n",
    ">a(1) = a(0)-1 = 0-1 = -1 and -1<0, therefore a(1) = a(0)+1 = 1,<br>\n",
    ">a(2) = a(1)-2 = 1-2 = -1 and -1<0, therefore a(2) = a(1)+2 = 3,<br>\n",
    ">a(3) = a(2)-3 = 3-3 = 0 but since 0 is already present in the sequence, a(3) = a(2)+3 = 3+3 = 6,<br>\n",
    ">a(4) = a(3)-4 = 6-4 = 2.<br>\n",
    ">Therefore the first 5 elements of Recaman's sequence will be 0 1 3 6 2.\n",
    "\n",
    "\n",
    "**Example 2:**\n",
    ">**Input:** <br>\n",
    ">n = 3<br>\n",
    ">**Output:** <br>\n",
    ">0 1 3<br>\n",
    ">**Explaination:** <br>\n",
    ">As seen in example 1, the first three elements will be 0 1 3.\n",
    "\n",
    "<br>\n",
    "\n",
    "**Your Task:**\n",
    "\n",
    "You do not need to read input or print anything. Your task is to complete the function **recamanSequence()** which takes **n** as the input parameter and returns the sequence.\n",
    "\n",
    "**Expected Time Complexity:** O(n)<br>\n",
    "**Expected Auxiliary Space:** O(n)\n",
    "\n",
    "**Constraints:**\n",
    "- >1 ≤ n ≤ 10<sup>5</sup>"
   ]
  },
  {
   "cell_type": "code",
   "execution_count": 1,
   "metadata": {},
   "outputs": [],
   "source": [
    "class Solution:\n",
    "    def recamanSequence(self, n):\n",
    "        # code here\n",
    "        sequence = [0] * n\n",
    "        seen = set()\n",
    "        seen.add(0)\n",
    "\n",
    "        for i in range(1, n):\n",
    "            if sequence[i - 1] - i > 0 and sequence[i - 1] - i not in seen:\n",
    "                sequence[i] = sequence[i - 1] - i\n",
    "                seen.add(sequence[i])\n",
    "\n",
    "            else:\n",
    "                sequence[i] = sequence[i - 1] + i\n",
    "                seen.add(sequence[i])\n",
    "        \n",
    "        return sequence"
   ]
  }
 ],
 "metadata": {
  "kernelspec": {
   "display_name": "base",
   "language": "python",
   "name": "python3"
  },
  "language_info": {
   "codemirror_mode": {
    "name": "ipython",
    "version": 3
   },
   "file_extension": ".py",
   "mimetype": "text/x-python",
   "name": "python",
   "nbconvert_exporter": "python",
   "pygments_lexer": "ipython3",
   "version": "3.9.16"
  }
 },
 "nbformat": 4,
 "nbformat_minor": 2
}
