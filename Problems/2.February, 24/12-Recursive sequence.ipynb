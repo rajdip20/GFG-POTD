{
 "cells": [
  {
   "cell_type": "markdown",
   "metadata": {},
   "source": [
    "A function **F** is defined as follows **F(n)= (1) +(2 * 3) + (4 * 5 * 6) ... upto n terms** (look at the examples for better clarity). Given an integer **n**, determine the **F(n)**.\n",
    "\n",
    "**Note:** As the answer can be very large, return the answer modulo **10<sup>9</sup>+7**.\n",
    "\n",
    "<br>\n",
    "\n",
    "**Example 1:**\n",
    ">**Input:** n = 5<br>\n",
    ">**Output:** 365527<br>\n",
    ">**Explanation:** <br>\n",
    ">F(5) = 1 + 2\\*3 + 4\\*5\\*6 + 7\\*8\\*9\\*10 + 11\\*12\\*13\\*14\\*15 = 365527.\n",
    "\n",
    "\n",
    "**Example 2:**\n",
    ">**Input:** n = 7<br>\n",
    ">**Output:** 6006997207<br>\n",
    ">**Explanation:** <br>\n",
    ">F(5) = 1 + 2\\*3 + 4\\*5\\*6 + 7\\*8\\*9\\*10 + 11\\*12\\*13\\*14\\*15 + 16\\*17\\*18\\*19\\*20\\*21 + 22\\*23\\*24\\*25\\*26\\*27\\*28 = 6006997207.<br>\n",
    ">6006997207 % 10<sup>9</sup>+7 = 6997165\n",
    "\n",
    "<br>\n",
    "\n",
    "**Your Task:**<br>\n",
    "You do not need to read input or print anything. Your task is to complete the function **sequence()** which takes an integer **n** as an input parameter and returns the value of **F(n)**.\n",
    "\n",
    "**Expected Time Complexity:** O(n<sup>2</sup>)<br>\n",
    "**Expected Space Complexity:** O(1)\n",
    "\n",
    "**Constraints:**\n",
    "- >1 ≤ n ≤ 10<sup>3</sup>"
   ]
  },
  {
   "cell_type": "code",
   "execution_count": 1,
   "metadata": {},
   "outputs": [],
   "source": [
    "class Solution:\n",
    "    def sequence(self, n):\n",
    "        # code here\n",
    "        MOD = 10 ** 9 + 7\n",
    "        result = 0\n",
    "        term = 1\n",
    "        \n",
    "        for i in range(1, n + 1):\n",
    "            ans = 1\n",
    "            for j in range(i):\n",
    "                ans *= term\n",
    "                ans %= MOD\n",
    "                term += 1\n",
    "            \n",
    "            result += ans % MOD\n",
    "            result %= MOD\n",
    "        \n",
    "        return result"
   ]
  }
 ],
 "metadata": {
  "kernelspec": {
   "display_name": "base",
   "language": "python",
   "name": "python3"
  },
  "language_info": {
   "codemirror_mode": {
    "name": "ipython",
    "version": 3
   },
   "file_extension": ".py",
   "mimetype": "text/x-python",
   "name": "python",
   "nbconvert_exporter": "python",
   "pygments_lexer": "ipython3",
   "version": "3.9.16"
  }
 },
 "nbformat": 4,
 "nbformat_minor": 2
}
