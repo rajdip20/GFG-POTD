{
 "cells": [
  {
   "cell_type": "markdown",
   "metadata": {},
   "source": [
    "You are presented with an **undirected connected graph** consisting of n vertices and connections between them represented by an **adjacency matrix**. Your objective is to determine whether it is possible to start traversing from a node, **x**, and return to it after traversing all the vertices **at least once**, using each edge **exactly once**.\n",
    "\n",
    "<br>\n",
    "\n",
    "**Example 1:**\n",
    ">**Input:** <br>\n",
    ">paths = 0 1 1 1 1<br>\n",
    ">&emsp;&emsp;&emsp;&nbsp; 1 0 0 1 0<br>\n",
    ">&emsp;&emsp;&emsp;&nbsp; 1 0 0 1 0<br>\n",
    ">&emsp;&emsp;&emsp;&nbsp; 1 1 1 0 1<br>\n",
    ">&emsp;&emsp;&emsp;&nbsp; 1 0 0 1 0<br>\n",
    ">**Output:** 1<br>\n",
    ">**Explanation:** <br>\n",
    ">One can visit the vertices in the following way:<br>\n",
    ">1->3->4->5->1->4->2->1 (assuming 1-based indexing)<br>\n",
    ">Here all the vertices has been visited and all<br>\n",
    ">paths are used exactly once.\n",
    "\n",
    "\n",
    "**Example 2:**\n",
    ">**Input:** <br>\n",
    ">paths = 0 1 1 0<br>\n",
    ">&emsp;&emsp;&emsp;&nbsp; 1 0 1 1<br>\n",
    ">&emsp;&emsp;&emsp;&nbsp; 1 1 0 0<br>\n",
    ">&emsp;&emsp;&emsp;&nbsp; 0 1 0 0<br>\n",
    ">**Output:** 0<br>\n",
    ">**Explanation:** <br>\n",
    ">There exists no such vertex from which all the <br>\n",
    ">vertices could be visited and all edges are used <br>\n",
    ">exactly once.\n",
    "\n",
    "<br>\n",
    "\n",
    "**Your Task:**<br>\n",
    "You don't need to read or print anything. Your task is to complete the function **isPossible()** which takes adjacency matrix **paths** as an input parameter and returns **1** if it is possible to start traversing from a node, **x**, and come back to it after traversing all the vertices **at least once**, using each edge **exactly once**.\n",
    "\n",
    "**Expected Time Complexity:** O(n<sup>2</sup>)<br>\n",
    "**Expected Space Compelxity:** O(1)\n",
    "\n",
    "**Constraints:**\n",
    "- >1 <= n <= 100\n",
    "- >0 <= paths[i][j] <= 1\n",
    "\n",
    "\n",
    "**Note:** paths[i][j] = 0 where i == j or there exists no edge between i and j. paths[i][j] = 1 means there is a path between i to j."
   ]
  },
  {
   "cell_type": "code",
   "execution_count": 1,
   "metadata": {},
   "outputs": [],
   "source": [
    "class Solution:\n",
    "\tdef isPossible(self, paths):\n",
    "\t\t# code here\n",
    "\t\tdef dfs(node, paths, visited):\n",
    "\t\t\tvisited[node] = True\n",
    "\t\t\t\n",
    "\t\t\tfor neighbor, connected in enumerate(paths[node]):\n",
    "\t\t\t\tif connected and not visited[neighbor]:\n",
    "\t\t\t\t\tdfs(neighbor, paths, visited)\n",
    "\t\t\n",
    "\t\tn = len(paths)\n",
    "\t\tvisited = [False] * n\n",
    "\t\tdfs(0, paths, visited)\n",
    "\t\t\n",
    "\t\tif False in visited:\n",
    "\t\t\treturn 0\n",
    "\n",
    "\t\tdegrees = [sum(row) for row in paths]\n",
    "\t\tfor degree in degrees:\n",
    "\t\t\tif degree % 2 != 0:\n",
    "\t\t\t\treturn 0\n",
    "\t\t\n",
    "\t\treturn 1"
   ]
  }
 ],
 "metadata": {
  "kernelspec": {
   "display_name": "base",
   "language": "python",
   "name": "python3"
  },
  "language_info": {
   "codemirror_mode": {
    "name": "ipython",
    "version": 3
   },
   "file_extension": ".py",
   "mimetype": "text/x-python",
   "name": "python",
   "nbconvert_exporter": "python",
   "pygments_lexer": "ipython3",
   "version": "3.9.16"
  }
 },
 "nbformat": 4,
 "nbformat_minor": 2
}
