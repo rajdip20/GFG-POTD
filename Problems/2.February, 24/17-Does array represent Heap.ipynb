{
 "cells": [
  {
   "cell_type": "markdown",
   "metadata": {},
   "source": [
    "Given an array **arr** of size **n**, the task is to check if the given array can be a level order representation of a Max Heap.\n",
    "\n",
    "<br>\n",
    "\n",
    "**Example 1:**\n",
    ">**Input:**<br>\n",
    ">n = 6<br>\n",
    ">arr[] = {90, 15, 10, 7, 12, 2}<br>\n",
    ">**Output:** <br>\n",
    ">1<br>\n",
    ">**Explanation:** <br>\n",
    ">The given array represents below tree<br>\n",
    ">&emsp;&emsp;&emsp; 90 <br>\n",
    ">&emsp;&emsp;&ensp; / &ensp; \\ <br>\n",
    ">&emsp;&ensp; 15 &emsp; 10 <br>\n",
    ">&emsp;  / &ensp; \\ &ensp; / <br>\n",
    ">&ensp; 7 &ensp; 12  2 <br>\n",
    ">The tree follows max-heap property as every node is greater than all of its descendants.\n",
    "\n",
    "\n",
    "**Example 2:**\n",
    ">**Input:**  <br>\n",
    ">n = 6<br>\n",
    ">arr[] = {9, 15, 10, 7, 12, 11}<br>\n",
    ">**Output:**<br>\n",
    ">0<br>\n",
    ">**Explanation:**<br>\n",
    ">The given array represents below tree<br>\n",
    ">&emsp;&emsp;&emsp; 9 <br>\n",
    ">&emsp;&emsp;&ensp; / &ensp; \\ <br>\n",
    ">&emsp;&ensp; 15 &emsp; 10 <br>\n",
    ">&emsp; / &ensp; \\ &ensp; / <br>\n",
    ">&ensp; 7 &ensp; 12  11 <br>\n",
    ">The tree doesn't follows max-heap property 9 is smaller than 15 and 10, and 10 is smaller than 11. \n",
    "\n",
    "<br>\n",
    "\n",
    "**Your Task:**<br>  \n",
    "You don't need to read input or print anything. Your task is to complete the function **isMaxHeap()** which takes the array **arr[]** and its size **n** as inputs and returns **True** if the given array could represent a valid level order representation of a **Max Heap**, or else, it will return **False**.\n",
    "\n",
    "**Expected Time Complexity:** O(n)<br>\n",
    "**Expected Auxiliary Space:** O(1)\n",
    "\n",
    "**Constraints:**\n",
    "- >1 ≤ n ≤ 10<sup>5</sup>\n",
    "- >1 ≤ arr<sub>i</sub> ≤ 10<sup>5</sup>"
   ]
  },
  {
   "cell_type": "code",
   "execution_count": 1,
   "metadata": {},
   "outputs": [],
   "source": [
    "class Solution:\n",
    "    def isMaxHeap(self, arr, n):\n",
    "        # Your code goes here\n",
    "        for i in range((n // 2) - 1, -1, -1):\n",
    "            left_child = 2 * i + 1\n",
    "            right_child = 2 * i + 2\n",
    "\n",
    "            if left_child < n and arr[i] < arr[left_child]:\n",
    "                return False\n",
    "            \n",
    "            if right_child < n and arr[i] < arr[right_child]:\n",
    "                return False\n",
    "            \n",
    "        return True"
   ]
  }
 ],
 "metadata": {
  "kernelspec": {
   "display_name": "base",
   "language": "python",
   "name": "python3"
  },
  "language_info": {
   "codemirror_mode": {
    "name": "ipython",
    "version": 3
   },
   "file_extension": ".py",
   "mimetype": "text/x-python",
   "name": "python",
   "nbconvert_exporter": "python",
   "pygments_lexer": "ipython3",
   "version": "3.9.16"
  }
 },
 "nbformat": 4,
 "nbformat_minor": 2
}
