{
 "cells": [
  {
   "cell_type": "markdown",
   "metadata": {},
   "source": [
    "Given a string s of lowercase alphabets and a number **k**, the task is to print the minimum value of the string after removal of **k** characters. The value of a string is defined as the sum of squares of the count of each distinct character present in the string. \n",
    "\n",
    "<br>\n",
    "\n",
    "**Example 1:**\n",
    ">**Input:** <br>\n",
    ">s = abccc, k = 1<br>\n",
    ">**Output:** <br>\n",
    ">6<br>\n",
    ">**Explaination:**<br>\n",
    ">We remove c to get the value as 1<sup>2</sup> + 1<sup>2</sup> + 2<sup>2</sup>\n",
    "\n",
    "\n",
    "**Example 2:**\n",
    ">**Input:** <br>\n",
    ">s = aabcbcbcabcc, k = 3<br>\n",
    ">**Output:** <br>\n",
    ">27<br>\n",
    ">**Explaination:** <br>\n",
    ">We remove two 'c' and one 'b'. Now we get the value as 3<sup>2</sup> + 3<sup>2</sup> + 3<sup>2</sup>.\n",
    "\n",
    "<br>\n",
    "\n",
    "**Your Task:**<br>\n",
    "You do not need to read input or print anything. Your task is to complete the function **minValue()** which takes **s** and **k** as input parameters and returns the minimum possible required value.\n",
    "\n",
    "**Expected Time Complexity:** O(n+klog(p))  where n is the length of string and p is number of distinct alphabets and k number of alphabets to be removed. <br>\n",
    "**Expected Auxiliary Space:** O(n)\n",
    "\n",
    "**Constraints:**\n",
    "- >0 ≤ k ≤ |string length| ≤ 10<sup>5</sup>"
   ]
  },
  {
   "cell_type": "code",
   "execution_count": 1,
   "metadata": {},
   "outputs": [],
   "source": [
    "class Solution:\n",
    "    def minValue(self, s, k):\n",
    "        # code here\n",
    "        freq = {}\n",
    "        \n",
    "        for char in s:\n",
    "            freq[char] = freq.get(char, 0) + 1\n",
    "            \n",
    "        dict_list = []\n",
    "        for val in freq.values():\n",
    "            dict_list.append(val)\n",
    "            \n",
    "        dict_list.sort(reverse = True)\n",
    "        \n",
    "        while k != 0:\n",
    "            dict_list[0] -= 1\n",
    "            dict_list.sort(reverse = True)\n",
    "            \n",
    "            k -= 1\n",
    "        \n",
    "        answer = 0\n",
    "        for val in dict_list:\n",
    "            answer += (val ** 2)\n",
    "            \n",
    "        return answer"
   ]
  }
 ],
 "metadata": {
  "kernelspec": {
   "display_name": "base",
   "language": "python",
   "name": "python3"
  },
  "language_info": {
   "codemirror_mode": {
    "name": "ipython",
    "version": 3
   },
   "file_extension": ".py",
   "mimetype": "text/x-python",
   "name": "python",
   "nbconvert_exporter": "python",
   "pygments_lexer": "ipython3",
   "version": "3.9.16"
  }
 },
 "nbformat": 4,
 "nbformat_minor": 2
}
