{
 "cells": [
  {
   "cell_type": "markdown",
   "metadata": {},
   "source": [
    "Given a string, **s**, the objective is to convert it into **integer format** without utilizing any built-in functions. If the conversion is **not feasible**, the function should **return -1**.\n",
    "\n",
    "**Note:** Conversion is **feasible only if** all characters in the string are **numeric** or if its **first character** is '-' and rest are **numeric**.\n",
    "\n",
    "<br>\n",
    "\n",
    "**Example 1:**\n",
    ">**Input:**<br>\n",
    ">s = \"-123\"<br>\n",
    ">**Output:** <br>\n",
    ">-123<br>\n",
    ">**Explanation:**<br>\n",
    ">It is possible to convert -123 into an integer and is so returned in the form of an integer\n",
    "\n",
    "\n",
    "**Example 2:**\n",
    ">**Input:**<br>\n",
    ">s = \"21a\"<br>\n",
    ">**Output:** <br>\n",
    ">-1<br>\n",
    ">**Explanation:** <br>\n",
    ">The output is -1 as, due to the inclusion of 'a', the given string cannot be converted to an integer.\n",
    "\n",
    "\n",
    "**Your Task:**\n",
    "\n",
    "You do not have to take any input or print anything. Complete the function **atoi()** which takes a string s as an input parameter and returns an integer value representing the given string. If the conversion is **not feasible**, the function should **return -1**.\n",
    "\n",
    "**|s| = length of string str.**<br>\n",
    "**Expected Time Complexity:** O( |s| ), <br>\n",
    "**Expected Auxiliary Space:** O(1)\n",
    "\n",
    "**Constraints:**\n",
    "+ >1 ≤ |s| ≤ 10"
   ]
  },
  {
   "cell_type": "code",
   "execution_count": 1,
   "metadata": {},
   "outputs": [],
   "source": [
    "class Solution:\n",
    "    # your task is to complete this function\n",
    "    # function should return an integer\n",
    "    def atoi(self, s):\n",
    "        # Code here\n",
    "        if not s:\n",
    "            return -1\n",
    "        \n",
    "        result = 0\n",
    "        sign = 1\n",
    "        i = 0\n",
    "\n",
    "        if s[i] == '-':\n",
    "            sign = -1\n",
    "            i += 1\n",
    "\n",
    "        while i < len(s) and s[i].isdigit():\n",
    "            result = result * 10 + int(s[i])\n",
    "            i += 1\n",
    "\n",
    "        if i < len(s):\n",
    "            return -1\n",
    "        \n",
    "        return sign * result"
   ]
  }
 ],
 "metadata": {
  "kernelspec": {
   "display_name": "base",
   "language": "python",
   "name": "python3"
  },
  "language_info": {
   "codemirror_mode": {
    "name": "ipython",
    "version": 3
   },
   "file_extension": ".py",
   "mimetype": "text/x-python",
   "name": "python",
   "nbconvert_exporter": "python",
   "pygments_lexer": "ipython3",
   "version": "3.9.16"
  }
 },
 "nbformat": 4,
 "nbformat_minor": 2
}
