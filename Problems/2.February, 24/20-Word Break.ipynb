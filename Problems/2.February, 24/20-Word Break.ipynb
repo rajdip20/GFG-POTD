{
 "cells": [
  {
   "cell_type": "markdown",
   "metadata": {},
   "source": [
    "Given a string **s** and a dictionary of **n** words **dictionary**, find out if a **s** can be segmented into a space-separated sequence of dictionary words. Return 1 if it is possible to break the **s** into a sequence of dictionary words, else return 0. \n",
    "\n",
    "**Note:** From the dictionary **dictionary** each word can be taken any number of times and in any order.\n",
    "\n",
    "<br>\n",
    "\n",
    "**Example 1:**\n",
    ">**Input:**<br>\n",
    ">n = 6<br>\n",
    ">s = \"ilike\"<br>\n",
    ">dictionary = { \"i\", \"like\", \"sam\", \"sung\", \"samsung\", \"mobile\"}<br>\n",
    ">**Output:**<br>\n",
    ">1<br>\n",
    ">**Explanation:**<br>\n",
    ">The string can be segmented as \"i like\".\n",
    "\n",
    "\n",
    "**Example 2:**\n",
    ">**Input:**<br>\n",
    ">n = 6<br>\n",
    ">s = \"ilikesamsung\"<br>\n",
    ">dictionary = { \"i\", \"like\", \"sam\", \"sung\", \"samsung\", \"mobile\"}<br>\n",
    ">**Output:**<br>\n",
    ">1<br>\n",
    ">**Explanation:**<br>\n",
    ">The string can be segmented as <br>\n",
    ">\"i like samsung\" or \"i like sam sung\".\n",
    "\n",
    "<br>\n",
    "\n",
    "**Your Task:**<br>\n",
    "Complete **wordBreak()** function which takes a string and list of strings as a parameter and returns 1 if it is possible to break words, else return 0. You don't need to read any input or print any output, it is done by driver code.\n",
    "\n",
    "**Expected Time Complexity:** O(len(s)<sup>2</sup>)<br>\n",
    "**Expected Space Complexity:** O(len(s))\n",
    "\n",
    "**Constraints:**\n",
    "- >1 ≤ n ≤ 12\n",
    "- >1 ≤ len(s) ≤ 1100"
   ]
  },
  {
   "cell_type": "code",
   "execution_count": 1,
   "metadata": {},
   "outputs": [],
   "source": [
    "class Solution:\n",
    "    def wordBreak(self, n, s, dictionary):\n",
    "        # Complete this function\n",
    "        def solve(s):\n",
    "            if not s:\n",
    "               return True\n",
    "            \n",
    "            for i in dictionary:\n",
    "                if s.startswith(i) and solve(s[len(i):]):\n",
    "                    return True\n",
    "            \n",
    "            return False\n",
    "        \n",
    "        return solve(s)"
   ]
  }
 ],
 "metadata": {
  "kernelspec": {
   "display_name": "base",
   "language": "python",
   "name": "python3"
  },
  "language_info": {
   "codemirror_mode": {
    "name": "ipython",
    "version": 3
   },
   "file_extension": ".py",
   "mimetype": "text/x-python",
   "name": "python",
   "nbconvert_exporter": "python",
   "pygments_lexer": "ipython3",
   "version": "3.9.16"
  }
 },
 "nbformat": 4,
 "nbformat_minor": 2
}
