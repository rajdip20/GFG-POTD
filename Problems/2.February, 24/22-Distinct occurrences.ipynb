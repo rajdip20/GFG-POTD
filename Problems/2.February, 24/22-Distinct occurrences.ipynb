{
 "cells": [
  {
   "cell_type": "markdown",
   "metadata": {},
   "source": [
    "Given two strings **s** and **t** of length **n** and **m** respectively. Find the count of distinct occurrences of t in s as a sub-sequence **modulo 10<sup>9</sup> + 7**.\n",
    "\n",
    "<br>\n",
    "\n",
    "**Example 1:**\n",
    ">**Input:**<br>\n",
    ">s = \"banana\" , t = \"ban\"<br>\n",
    ">**Output:** <br>\n",
    ">3<br>\n",
    ">**Explanation:** <br>\n",
    ">There are 3 sub-sequences:[ban], [ba n], [b an].\n",
    "\n",
    "**Example 2:**\n",
    ">**Input:**<br>\n",
    ">s = \"geeksforgeeks\" , t = \"ge\"<br>\n",
    ">**Output:** <br>\n",
    ">6<br>\n",
    ">**Explanation:** <br>\n",
    ">There are 6 sub-sequences:[ge], [ge], [g e], [g e] [g e] and [g e].\n",
    "\n",
    "<br>\n",
    "\n",
    "**Your Task:**\n",
    "You don't need to read input or print anything.Your task is to complete the function **subsequenceCount()** which takes two strings as argument s and t and returns the count of the sub-sequences modulo 10<sup>9</sup> + 7.\n",
    "\n",
    "**Expected Time Complexity:** O(n * m).<br>\n",
    "**Expected Auxiliary Space:** O(n * m).\n",
    "\n",
    "**Constraints:**\n",
    "- >1 ≤ n,m ≤ 1000"
   ]
  },
  {
   "cell_type": "code",
   "execution_count": 1,
   "metadata": {},
   "outputs": [],
   "source": [
    "class Solution:\n",
    "    def sequenceCount(self, s, t):\n",
    "        # Code here\n",
    "        from functools import lru_cache\n",
    "\n",
    "        MOD = 10 ** 9 + 7\n",
    "        m, n = len(s), len(t)\n",
    "\n",
    "        if m > n:\n",
    "            m, n = n, m\n",
    "            s, t = t, s\n",
    "\n",
    "        @lru_cache(None)\n",
    "        def dp(i = 0, j = 0):\n",
    "            nonlocal s, t, m, n\n",
    "            if i >= m:\n",
    "                return 1\n",
    "            \n",
    "            nxtj = t.find(s[i], j)\n",
    "            if nxtj >= 0:\n",
    "                return (dp(i, nxtj + 1) + dp(i + 1, nxtj + 1)) % MOD\n",
    "            \n",
    "            return 0\n",
    "        \n",
    "        return dp()"
   ]
  }
 ],
 "metadata": {
  "kernelspec": {
   "display_name": "base",
   "language": "python",
   "name": "python3"
  },
  "language_info": {
   "codemirror_mode": {
    "name": "ipython",
    "version": 3
   },
   "file_extension": ".py",
   "mimetype": "text/x-python",
   "name": "python",
   "nbconvert_exporter": "python",
   "pygments_lexer": "ipython3",
   "version": "3.9.16"
  }
 },
 "nbformat": 4,
 "nbformat_minor": 2
}
