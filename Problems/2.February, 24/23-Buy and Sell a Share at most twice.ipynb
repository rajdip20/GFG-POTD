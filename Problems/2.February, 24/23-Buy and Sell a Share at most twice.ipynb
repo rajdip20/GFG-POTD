{
 "cells": [
  {
   "cell_type": "markdown",
   "metadata": {},
   "source": [
    "In daily share trading, a buyer buys shares in the morning and sells them on the same day. If the trader is allowed to make at most 2 transactions in a day, the second transaction can only start after the first one is complete (buy->sell->buy->sell). The stock prices throughout the day are represented in the form of an array of **prices**. \n",
    "\n",
    "Given an array **price** of size **n**, find out the **maximum** profit that a share trader could have made.\n",
    "\n",
    "<br>\n",
    "\n",
    "**Example 1:**\n",
    ">**Input:**<br>\n",
    ">n = 6<br>\n",
    ">prices[] = {10,22,5,75,65,80}<br>\n",
    ">**Output:**<br>\n",
    ">87<br>\n",
    ">**Explanation:**<br>\n",
    ">Trader earns 87 as sum of 12, 75 Buy at 10, sell at 22, Buy at 5 and sell at 80.\n",
    "\n",
    "\n",
    "**Example 2:**\n",
    ">**Input:**<br>\n",
    ">n = 7<br>\n",
    ">prices[] = {2,30,15,10,8,25,80}<br>\n",
    ">**Output:**<br>\n",
    ">100<br>\n",
    ">**Explanation:**<br>\n",
    ">Trader earns 100 as sum of 28 and 72 Buy at price 2, sell at 30, Buy at 8 and sell at 80.\n",
    "\n",
    "<br>\n",
    "\n",
    "**Your Task:**<br>\n",
    "Complete the function **maxProfit()** which takes an integer array **price** as the only argument and returns an integer, representing the maximum profit, if only two transactions are allowed.\n",
    "\n",
    "**Expected Time Complexity:** O(n)<br>\n",
    "**Expected Space Complexity:** O(n)\n",
    "\n",
    "**Constraints:**\n",
    "- >1 <= n <= 10<sup>5</sup>\n",
    "- >1 <= price[i] <= 10<sup>5</sup>"
   ]
  },
  {
   "cell_type": "code",
   "execution_count": 1,
   "metadata": {},
   "outputs": [],
   "source": [
    "class Solution:\n",
    "    def maxProfit(self, n : int, price : list[int]) -> int:\n",
    "        # code here\n",
    "        if n <= 1:\n",
    "            return 0\n",
    "\n",
    "        left_profit = [0] * n\n",
    "        right_profit = [0] * n\n",
    "\n",
    "        min_price = price[0]\n",
    "        for i in range(1, n):\n",
    "            min_price = min(min_price, price[i])\n",
    "            left_profit[i] = max(left_profit[i - 1], price[i] - min_price)\n",
    "\n",
    "        max_price = price[n - 1]\n",
    "        for i in range(n - 2, -1, -1):\n",
    "            max_price = max(max_price, price[i])\n",
    "            right_profit[i] = max(right_profit[i + 1], max_price - price[i])\n",
    "\n",
    "        max_profit = 0\n",
    "        for i in range(n):\n",
    "            max_profit = max(max_profit, left_profit[i] + right_profit[i])\n",
    "\n",
    "        return max_profit"
   ]
  }
 ],
 "metadata": {
  "kernelspec": {
   "display_name": "base",
   "language": "python",
   "name": "python3"
  },
  "language_info": {
   "codemirror_mode": {
    "name": "ipython",
    "version": 3
   },
   "file_extension": ".py",
   "mimetype": "text/x-python",
   "name": "python",
   "nbconvert_exporter": "python",
   "pygments_lexer": "ipython3",
   "version": "3.9.16"
  }
 },
 "nbformat": 4,
 "nbformat_minor": 2
}
