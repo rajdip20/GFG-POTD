{
 "cells": [
  {
   "cell_type": "markdown",
   "metadata": {},
   "source": [
    "A number **n** can be broken into three parts **n/2**, **n/3**, and **n/4** (consider only the **integer** part). Each number obtained in this process can be divided further recursively. Find the **maximum sum** that can be obtained by summing up the divided parts together.<br>\n",
    "**Note:** It is possible that we don't divide the number at all.\n",
    "\n",
    "<br>\n",
    "\n",
    "**Example 1:**\n",
    ">**Input:**<br>\n",
    ">n = 12<br>\n",
    ">**Output:** <br>\n",
    ">13<br>\n",
    ">**Explanation:** <br>\n",
    ">Break n = 12 in three parts {12/2, 12/3, 12/4} = {6, 4, 3}, now current sum is = (6 + 4 + 3) = 13. Further breaking 6, 4 and 3 into parts will produce sum less than or equal to 6, 4 and 3 respectively.\n",
    "\n",
    "\n",
    "**Example 2:**\n",
    ">**Input:**<br>\n",
    ">n = 24<br>\n",
    ">**Output:** <br>\n",
    ">27<br>\n",
    ">**Explanation:** <br>\n",
    ">Break n = 24 in three parts {24/2, 24/3, 24/4} = {12, 8, 6}, now current sum is = (12 + 8 + 6) = 26 . But recursively breaking 12 would produce value 13. So our maximum sum is 13 + 8 + 6 = 27.\n",
    "\n",
    "<br>\n",
    "\n",
    "**Your Task:**<br>\n",
    "You don't need to read input or print anything. Your task is to complete the function **maxSum()** which accepts an integer n and returns the maximum sum.\n",
    "\n",
    "**Expected Time Complexity:** O(n)<br>\n",
    "**Expected Auxiliary Space:** O(n)\n",
    "\n",
    "**Constraints:**\n",
    "- >0 <= n <= 10<sup>6</sup>"
   ]
  },
  {
   "cell_type": "code",
   "execution_count": 1,
   "metadata": {},
   "outputs": [],
   "source": [
    "class Solution:\n",
    "    def maxSum(self, n): \n",
    "        # code here\n",
    "        def Split(n):\n",
    "            if n >= (n // 2 + n // 3 + n // 4):\n",
    "                return n\n",
    "            \n",
    "            return Split(n // 2) + Split(n // 3) + Split(n // 4)\n",
    "        \n",
    "        return Split(n)"
   ]
  }
 ],
 "metadata": {
  "kernelspec": {
   "display_name": "base",
   "language": "python",
   "name": "python3"
  },
  "language_info": {
   "codemirror_mode": {
    "name": "ipython",
    "version": 3
   },
   "file_extension": ".py",
   "mimetype": "text/x-python",
   "name": "python",
   "nbconvert_exporter": "python",
   "pygments_lexer": "ipython3",
   "version": "3.9.16"
  }
 },
 "nbformat": 4,
 "nbformat_minor": 2
}
