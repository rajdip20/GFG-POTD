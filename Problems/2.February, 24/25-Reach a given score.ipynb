{
 "cells": [
  {
   "cell_type": "markdown",
   "metadata": {},
   "source": [
    "Consider a game where a player can score **3** or **5** or **10** points in a move. Given a total score **n**, find number of distinct combinations to reach the given score.\n",
    "\n",
    "<br>\n",
    "\n",
    "**Example 1:**\n",
    ">**Input**<br>\n",
    ">n = 10<br>\n",
    ">**Output**<br>\n",
    ">2<br>\n",
    ">**Explanation**<br>\n",
    ">There are two ways {5,5} and {10}.\n",
    "\n",
    "**Example 2:**\n",
    ">**Input**<br>\n",
    ">n = 20<br>\n",
    ">**Output**<br>\n",
    ">4<br>\n",
    ">**Explanation**<br>\n",
    ">There are four possible ways. {5,5,5,5}, {3,3,3,3,3,5}, {10,10}, {5,5,10}.\n",
    "\n",
    "<br>\n",
    "\n",
    "**Your Task:**  \n",
    "You don't need to read input or print anything. Your task is to complete the function **count()** which takes **n** as input parameter and returns the answer to the problem.\n",
    "\n",
    "**Expected Time Complexity:** O(n)<br>\n",
    "**Expected Auxiliary Space:** O(n)\n",
    "\n",
    "\n",
    "**Constraints:**\n",
    "- >1 ≤ **n** ≤ 10<sup>6</sup>"
   ]
  },
  {
   "cell_type": "code",
   "execution_count": 1,
   "metadata": {},
   "outputs": [],
   "source": [
    "class Solution:\n",
    "    def count(self, n: int) -> int:\n",
    "        # your code here\n",
    "        dp = [0] * (n + 1)\n",
    "        dp[0] = 1\n",
    "        moves = [3, 5, 10]\n",
    "        \n",
    "        for move in moves:\n",
    "            for i in range(move, n + 1):\n",
    "                dp[i] += dp[i - move]\n",
    "        \n",
    "        return dp[n]"
   ]
  }
 ],
 "metadata": {
  "kernelspec": {
   "display_name": "base",
   "language": "python",
   "name": "python3"
  },
  "language_info": {
   "codemirror_mode": {
    "name": "ipython",
    "version": 3
   },
   "file_extension": ".py",
   "mimetype": "text/x-python",
   "name": "python",
   "nbconvert_exporter": "python",
   "pygments_lexer": "ipython3",
   "version": "3.9.16"
  }
 },
 "nbformat": 4,
 "nbformat_minor": 2
}
