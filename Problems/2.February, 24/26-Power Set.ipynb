{
 "cells": [
  {
   "cell_type": "markdown",
   "metadata": {},
   "source": [
    "Given a string **s** of length **n**, find all the **possible subsequences** of the string **s** in **lexicographically-sorted** order.\n",
    "\n",
    "<br>\n",
    "\n",
    "**Example 1:**\n",
    ">**Input:**<br>\n",
    ">s = \"abc\"<br>\n",
    ">**Output:** <br>\n",
    ">a&nbsp;ab&nbsp;abc&nbsp;ac&nbsp;b&nbsp;bc&nbsp;c<br>\n",
    ">**Explanation:** <br>\n",
    ">There are a total 7 number of subsequences possible for the given string, and they are mentioned above in lexicographically sorted order.\n",
    "\n",
    "\n",
    "**Example 2:**\n",
    ">**Input:** <br>\n",
    ">s = \"aa\"<br>\n",
    ">**Output:** <br>\n",
    ">a&nbsp;a&nbsp;aa<br>\n",
    ">**Explanation:** <br>\n",
    ">There are a total 3 number of subsequences possible for the given string, and they are mentioned above in lexicographically sorted order.\n",
    "\n",
    "<br>\n",
    "\n",
    "**Your Task:**\n",
    "You don't need to read input or print anything. Your task is to complete the function **AllPossibleStrings()** which takes a string **s** as the input parameter and **returns a list of all** possible **subsequences (non-empty)** that can be formed from **s** in **lexicographically-sorted** order.\n",
    "\n",
    "**Expected Time Complexity:** O(n * 2<sup>n</sup>)<br>\n",
    "**Expected Space Complexity:** O(n * 2<sup>n</sup>)\n",
    "\n",
    "**Constraints:** \n",
    "- >1 <= n <= 16\n",
    "- >s will constitute of lower case english alphabets"
   ]
  },
  {
   "cell_type": "code",
   "execution_count": 1,
   "metadata": {},
   "outputs": [],
   "source": [
    "class Solution:\n",
    "    def AllPossibleStrings(self, s):\n",
    "        # Code here\n",
    "        result = []\n",
    "\t\t\n",
    "        def solve(st, idx):\n",
    "            if idx == len(s):\n",
    "                return\n",
    "            \n",
    "            result.append(st + s[idx])\n",
    "            \n",
    "            solve(st + s[idx], idx + 1)\n",
    "            solve(st, idx + 1)\n",
    "\t    \n",
    "        solve(\"\", 0)\n",
    "        \n",
    "        return sorted(result)"
   ]
  }
 ],
 "metadata": {
  "kernelspec": {
   "display_name": "base",
   "language": "python",
   "name": "python3"
  },
  "language_info": {
   "codemirror_mode": {
    "name": "ipython",
    "version": 3
   },
   "file_extension": ".py",
   "mimetype": "text/x-python",
   "name": "python",
   "nbconvert_exporter": "python",
   "pygments_lexer": "ipython3",
   "version": "3.9.16"
  }
 },
 "nbformat": 4,
 "nbformat_minor": 2
}
