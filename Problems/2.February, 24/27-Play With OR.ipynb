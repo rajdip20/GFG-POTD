{
 "cells": [
  {
   "cell_type": "markdown",
   "metadata": {},
   "source": [
    "You are given an array **arr[]** of length **n**, you have to **re-construct the same** array **arr[] in-place**. The **arr[i]** after reconstruction will become **arr[i] OR arr[i+1]**, where **OR** is **bitwise or**. If for some **i**, **i+1** does not exists, then do not change **arr[i]**.\n",
    "\n",
    "<br>\n",
    "\n",
    "**Example 1:**\n",
    ">**Input:**<br>\n",
    ">n = 5<br>\n",
    ">arr[] = {10, 11, 1, 2, 3}<br>\n",
    ">**Output:**<br>\n",
    ">11 11 3 3 3<br>\n",
    ">**Explanation:**<br>\n",
    ">At index 0, arr[0] or arr[1] = 11<br>\n",
    ">At index 1, arr[1] or arr[2] = 11<br>\n",
    ">At index 2, arr[2] or arr[3] = 3<br>\n",
    ">...<br>\n",
    ">At index 4, No element is left So, it will remain as it is.<br>\n",
    ">New Array will be {11, 11, 3, 3, 3}.\n",
    "\n",
    "\n",
    "**Example 2:**\n",
    ">**Input:**<br>\n",
    ">n= 4<br>\n",
    ">arr[] = {5, 9, 2, 6} <br>\n",
    ">**Output:**<br>\n",
    ">13 11 6 6<br>\n",
    ">**Explanation:**<br>\n",
    ">At index 0, arr[0] or arr[1] = 13.<br>\n",
    ">At index 1, arr[1] or arr[2] = 11.<br>\n",
    ">At index 2, arr[2] or arr[3] = 6.<br>\n",
    ">At index 3, No element is left So, it will remain as it is.<br>\n",
    ">New Array will be {13, 11, 6, 6}.\n",
    "\n",
    "<br>\n",
    "\n",
    "**Your Task:**<br>\n",
    "You are required to implement the function **game_with_number()**, which takes an array arr, representing values at each index, and the size of the array **n**. The function should modify the elements of the **same array arr[] in-place** by replacing them with the values obtained by performing the **bitwise OR** operation on consecutive elements.\n",
    "\n",
    "**Expected Time Complexity:** O(n).<br>\n",
    "**Expected Auxiliary Space:** O(1).\n",
    "\n",
    "**Constraints:**\n",
    "- >1 ≤ n ≤ 10<sup>5</sup>\n",
    "- >1 ≤ arr[i] ≤ 10<sup>7</sup>"
   ]
  },
  {
   "cell_type": "code",
   "execution_count": 1,
   "metadata": {},
   "outputs": [],
   "source": [
    "class Solution:\n",
    "    def game_with_number (self, arr,  n) : \n",
    "        # Complete the function\n",
    "        for i in range(n - 1):\n",
    "            arr[i] = arr[i] | arr[i + 1]\n",
    "\n",
    "        return arr"
   ]
  }
 ],
 "metadata": {
  "kernelspec": {
   "display_name": "base",
   "language": "python",
   "name": "python3"
  },
  "language_info": {
   "codemirror_mode": {
    "name": "ipython",
    "version": 3
   },
   "file_extension": ".py",
   "mimetype": "text/x-python",
   "name": "python",
   "nbconvert_exporter": "python",
   "pygments_lexer": "ipython3",
   "version": "3.9.16"
  }
 },
 "nbformat": 4,
 "nbformat_minor": 2
}
