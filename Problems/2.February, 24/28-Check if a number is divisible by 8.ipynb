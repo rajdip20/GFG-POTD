{
 "cells": [
  {
   "cell_type": "markdown",
   "metadata": {},
   "source": [
    "Given a string representation of a decimal number **s**, check whether it is divisible by 8.\n",
    "\n",
    "<br>\n",
    "\n",
    "**Example 1:**\n",
    ">**Input:**<br>\n",
    ">s = \"16\"<br>\n",
    ">**Output:**<br>\n",
    ">1<br>\n",
    ">**Explanation:**<br>\n",
    ">The given number is divisible by 8,<br>\n",
    ">so the driver code prints 1 as the output.\n",
    "\n",
    "\n",
    "**Example 2:**\n",
    ">**Input:**<br>\n",
    ">s = \"54141111648421214584416464555\"<br>\n",
    ">**Output:**<br>\n",
    ">-1<br>\n",
    ">**Explanation:**<br>\n",
    ">Given Number is not divisible by 8, <br>\n",
    ">so the driver code prints -1 as the output.\n",
    "\n",
    "<br>\n",
    "\n",
    "**Your Task:**<br>\n",
    "You don't need to read input or print anything.Your task is to complete the function **DivisibleByEight()** which takes a string **s** as the input and returns **1** if the number is **divisible by 8**, else it returns **-1**.\n",
    "\n",
    "**Expected Time Complexity:** O(1).<br>\n",
    "**Expected Auxillary Space:** O(1).\n",
    "\n",
    "**Constraints:**\n",
    "- >1 <= |s| <= 10<sup>6</sup>"
   ]
  },
  {
   "cell_type": "code",
   "execution_count": 1,
   "metadata": {},
   "outputs": [],
   "source": [
    "class Solution:\n",
    "    def DivisibleByEight(self, s):\n",
    "        #code here\n",
    "        n = len(s)\n",
    "\n",
    "        if n < 3:\n",
    "            num = int(s)\n",
    "        else:\n",
    "            num = int(s[-3:])\n",
    "\n",
    "        if num % 8 == 0:\n",
    "            return 1\n",
    "        else:\n",
    "            return -1"
   ]
  }
 ],
 "metadata": {
  "kernelspec": {
   "display_name": "base",
   "language": "python",
   "name": "python3"
  },
  "language_info": {
   "codemirror_mode": {
    "name": "ipython",
    "version": 3
   },
   "file_extension": ".py",
   "mimetype": "text/x-python",
   "name": "python",
   "nbconvert_exporter": "python",
   "pygments_lexer": "ipython3",
   "version": "3.9.16"
  }
 },
 "nbformat": 4,
 "nbformat_minor": 2
}
