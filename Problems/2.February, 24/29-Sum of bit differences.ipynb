{
 "cells": [
  {
   "cell_type": "markdown",
   "metadata": {},
   "source": [
    "Given an array integers **arr[]**, containing **n** elements, find the sum of **bit differences** between all pairs of element in the array. **Bit difference** of a pair **(x, y)** is the count of different bits at the **same positions** in binary representations of **x** and **y**.<br>\n",
    "**For example**, bit difference for **2** and **7** is **2**. Binary representation of 2 is 010 and 7 is 111 respectively and the first and last bits differ between the two numbers.\n",
    "\n",
    "**Note:** (x, y) and (y, x) are considered two separate pairs.\n",
    "\n",
    "<br>\n",
    "\n",
    "**Example 1:**\n",
    ">**Input:** <br>\n",
    ">n = 2<br>\n",
    ">arr[] = {1, 2}<br>\n",
    ">**Output:** 4<br>\n",
    ">**Explanation:** All possible pairs of an array are (1, 1), (1, 2), (2, 1), (2, 2).<br>\n",
    ">Sum of bit differences = 0 + 2 + 2 + 0 = 4\n",
    "\n",
    "**Example 2:**\n",
    ">**Input:**<br>\n",
    ">n = 3 <br>\n",
    ">arr[] = {1, 3, 5}<br>\n",
    ">**Output:** 8<br>\n",
    ">**Explanation:** <br>\n",
    ">All possible pairs of an array are (1, 1), (1, 3), (1, 5), (3, 1), (3, 3) (3, 5),(5, 1), (5, 3), (5, 5).<br>\n",
    ">Sum of bit differences = 0 + 1 + 1 + 1 + 0 + 2 + 1 + 2 + 0 = 8\n",
    "\n",
    "<br>\n",
    "\n",
    "**Your Task:**<br>  \n",
    "You don't need to read input or print anything. Your task is to complete the function **sumBitDifferences()** which takes the array **arr[]** and **n** as inputs and return an integer that represents the sum of the bit differences between all possible pairs of elements in the array.\n",
    "\n",
    "**Expected Time Complexity:** O(n).<br>\n",
    "**Expected Auxiliary Space:** O(1).\n",
    "\n",
    "**Constraints:**\n",
    "- >1 <= n <= 10<sup>5</sup>\n",
    "- >1 <= arr[i] <= 10<sup>5</sup>"
   ]
  },
  {
   "cell_type": "code",
   "execution_count": 1,
   "metadata": {},
   "outputs": [],
   "source": [
    "class Solution:\n",
    "\tdef sumBitDifferences(self, arr, n):\n",
    "    \t# code here\n",
    "\t\tdp = [0] * (33)\n",
    "\t\tmax_bit = len(bin(max(arr))[2:])\n",
    "\t\t\n",
    "\t\tfor i in range (n):\n",
    "\t\t\tbinary = bin(arr[i])[2:]\n",
    "\t\t\tbinary = (max_bit - len(binary)) * \"0\" + binary\n",
    "\t\t\t\n",
    "\t\t\tfor j in range(max_bit):\n",
    "\t\t\t\tif(binary[j] == \"1\"):\n",
    "\t\t\t\t\tdp[j] += 1\n",
    "\t\t\n",
    "\t\tans = 0\n",
    "\t\t\n",
    "\t\tfor i in dp:\n",
    "\t\t\tans += i * (n - i)\n",
    "\t\t\n",
    "\t\treturn(ans * 2)"
   ]
  }
 ],
 "metadata": {
  "kernelspec": {
   "display_name": "base",
   "language": "python",
   "name": "python3"
  },
  "language_info": {
   "codemirror_mode": {
    "name": "ipython",
    "version": 3
   },
   "file_extension": ".py",
   "mimetype": "text/x-python",
   "name": "python",
   "nbconvert_exporter": "python",
   "pygments_lexer": "ipython3",
   "version": "3.9.16"
  }
 },
 "nbformat": 4,
 "nbformat_minor": 2
}
