{
 "cells": [
  {
   "cell_type": "markdown",
   "metadata": {},
   "source": [
    "Given a singly linked list of length n. The link list represents a **binary number**, ie- it contains only 0s and 1s. Find its decimal equivalent.\n",
    "\n",
    "The significance of the bits **decreases** with the increasing index in the linked list.\n",
    "\n",
    "An empty linked list is considered to represent the decimal value **0**. \n",
    "\n",
    "Since the answer can be very large, **answer modulo 10<sup>9</sup>+7** should be printed.\n",
    "\n",
    "<br>\n",
    "\n",
    "**Example 1:**\n",
    ">**Input:**<br>\n",
    ">n = 3<br>\n",
    ">Linked List = {0, 1, 1}<br>\n",
    ">**Output:**<br>\n",
    ">3<br>\n",
    ">**Explanation:**<br>\n",
    ">0* 2<sup>2</sup> + 1* 2<sup>1</sup> + 1* 2<sup>0</sup> =  1 + 2 + 0 = 3\n",
    "\n",
    "\n",
    "**Example 2:**\n",
    ">**Input:**<br>\n",
    ">n = 4<br>\n",
    ">Linked List = {1, 1, 1, 0}<br>\n",
    ">**Output:**<br>\n",
    ">14<br>\n",
    ">**Explanation:**<br>\n",
    ">1* 2<sup>3</sup> + 1* 2<sup>2</sup> + 1* 2<sup>1</sup> + 0* 2<sup>0</sup> =  8 + 4 + 2 + 0 = 14\n",
    "\n",
    "<br>\n",
    "\n",
    "**Your Task:**\n",
    "You do not have to take any input or print anything. Complete the function **decimalValue()** which takes a **head node** of a linked list as an input parameter and returns decimal representation of it.\n",
    "\n",
    "**Expected Time Complexity:** O(n)<br>\n",
    "**Expected Auxiliary Space:** O(1)\n",
    "\n",
    "**Constraints:**\n",
    "- >0 <= n <= 100\n",
    "- >Data of each node is either 0 or 1"
   ]
  },
  {
   "cell_type": "code",
   "execution_count": 1,
   "metadata": {},
   "outputs": [],
   "source": [
    "'''\n",
    "class node:\n",
    "    def __init__(self):\n",
    "        self.data = None\n",
    "        self.next = None\n",
    "'''\n",
    "\n",
    "class Solution:\n",
    "    def decimalValue(self, head):\n",
    "        MOD = 10 ** 9 + 7\n",
    "        # Code here\n",
    "        result = 0\n",
    "\n",
    "        while head:\n",
    "            result = (result * 2 + head.data) % MOD\n",
    "            head = head.next\n",
    "        \n",
    "        return result"
   ]
  }
 ],
 "metadata": {
  "kernelspec": {
   "display_name": "base",
   "language": "python",
   "name": "python3"
  },
  "language_info": {
   "codemirror_mode": {
    "name": "ipython",
    "version": 3
   },
   "file_extension": ".py",
   "mimetype": "text/x-python",
   "name": "python",
   "nbconvert_exporter": "python",
   "pygments_lexer": "ipython3",
   "version": "3.9.16"
  }
 },
 "nbformat": 4,
 "nbformat_minor": 2
}
