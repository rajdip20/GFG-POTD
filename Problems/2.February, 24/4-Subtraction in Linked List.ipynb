{
 "cells": [
  {
   "cell_type": "markdown",
   "metadata": {},
   "source": [
    "You are given two **linked lists** that represent two **large positive numbers**. From the two numbers represented by the linked lists, **subtract** the smaller number from the larger one. Look at the examples to get a better understanding of the task.\n",
    "\n",
    "<br>\n",
    "\n",
    "**Example 1:**\n",
    ">**Input:**\n",
    ">L1 = 1->0->0<br>\n",
    ">L2 = 1->2<br>\n",
    ">**Output:** 88<br>\n",
    ">**Explanation:**  <br>\n",
    ">First linked list represents 100 and the<br>\n",
    ">second one represents 12. 12 subtracted from 100<br>\n",
    ">gives us 88 as the result. It is represented<br>\n",
    ">as 8->8 in the linked list.\n",
    "\n",
    "\n",
    "**Example 2:**\n",
    ">**Input:**<br>\n",
    ">L1 = 0->0->6->3<br>\n",
    ">L2 = 7->1->0<br>\n",
    ">**Output:** 647<br>\n",
    ">**Explanation:** <br>\n",
    ">First linked list represents 0063 => 63 and <br>\n",
    ">the second one represents 710. 63 subtracted <br>\n",
    ">from 710 gives us 647 as the result. It is<br>\n",
    ">represented as 6->4->7 in the linked list.\n",
    "\n",
    "<br>\n",
    "\n",
    "**Your Task:**\n",
    "\n",
    "You do not have to take any input or print anything. The task is to complete the function subLinkedList() that takes heads of two linked lists as **input parameters** and which should subtract the smaller number from the larger one represented by the given linked lists and **return the head** of the **linked list** representing the result.\n",
    "\n",
    "**n and m** are the length of the two linked lists respectively.<br>\n",
    "**Expected Time Complexity:**  O(n+m)<br>\n",
    "**Expected Auxiliary Space:** O(n+m)\n",
    "\n",
    "\n",
    "**Constraints:**\n",
    "- >1 <= n <= 10000\n",
    "- >0 <= values represented by the linked lists < 10<sup>n</sup>\n",
    "- >0 <= values represented by the linked lists < 10<sup>m</sup>"
   ]
  },
  {
   "cell_type": "code",
   "execution_count": 1,
   "metadata": {},
   "outputs": [],
   "source": [
    "class Solution:\n",
    "    def subLinkedList(self, l1, l2): \n",
    "        # Code here\n",
    "        # return head of difference list\n",
    "        def linkedlisttodecimal(head):\n",
    "            value = 0\n",
    "            while head:\n",
    "                value, head = (value  * 10) + head.data, head.next\n",
    "            return value\n",
    "        \n",
    "        return Node(abs(linkedlisttodecimal(l1) - linkedlisttodecimal(l2)))"
   ]
  }
 ],
 "metadata": {
  "kernelspec": {
   "display_name": "base",
   "language": "python",
   "name": "python3"
  },
  "language_info": {
   "codemirror_mode": {
    "name": "ipython",
    "version": 3
   },
   "file_extension": ".py",
   "mimetype": "text/x-python",
   "name": "python",
   "nbconvert_exporter": "python",
   "pygments_lexer": "ipython3",
   "version": "3.9.16"
  }
 },
 "nbformat": 4,
 "nbformat_minor": 2
}
