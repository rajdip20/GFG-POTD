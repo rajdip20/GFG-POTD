{
 "cells": [
  {
   "cell_type": "markdown",
   "metadata": {},
   "source": [
    "Given a binary tree with n nodes, check if all leaves are at same level or not. Return true/false depending on whether all the leaf nodes are at the same level or not.\n",
    "\n",
    "<br>\n",
    "\n",
    "**Example 1:**\n",
    ">**Input:** <br>\n",
    ">&emsp;&emsp; 1 <br>\n",
    ">&emsp;&ensp; / &ensp; \\ <br>\n",
    ">&emsp; 2 &emsp; 3 <br>\n",
    ">**Output:** <br>\n",
    ">true<br>\n",
    ">**Explanation:** <br>\n",
    ">Leaves 2 and 3 are at same level.\n",
    "\n",
    "\n",
    "**Example 2:**\n",
    ">**Input:**<br>\n",
    ">&emsp;&emsp;&emsp; 10 <br>\n",
    ">&emsp;&emsp;&ensp; / &ensp; \\ <br>\n",
    ">&emsp;&ensp; 20 &emsp; 30 <br>\n",
    ">&emsp; / &emsp; \\ <br>\n",
    ">&ensp; 10 &emsp; 15 <br>\n",
    ">**Output:** <br>\n",
    ">false<br>\n",
    ">**Explanation:**<br>\n",
    ">Leaves 10, 15 and 30 are not at same level.\n",
    "\n",
    "<br>\n",
    "\n",
    "**Your Task:**\n",
    "\n",
    "You dont need to read input or print anything. Complete the function **check()** which takes root node as input parameter and returns true/false depending on whether all the leaf nodes are at the same level or not.\n",
    "\n",
    "**Expected Time Complexity:** O(n)<br>\n",
    "**Expected Auxiliary Space:** O(height of tree)\n",
    "\n",
    "**Constraints:**\n",
    "- >1 ≤ n ≤ 10<sup>5</sup>"
   ]
  },
  {
   "cell_type": "code",
   "execution_count": 1,
   "metadata": {},
   "outputs": [],
   "source": [
    "class Solution:\n",
    "    #Your task is to complete this function\n",
    "    #function should return True/False or 1/0\n",
    "    def check(self, root):\n",
    "        #Code here\n",
    "        if root is None:\n",
    "            return True\n",
    "        \n",
    "        queue = [(root, 0)]\n",
    "        leaf_level = None\n",
    "\n",
    "        while queue:\n",
    "            node, level = queue.pop(0)\n",
    "\n",
    "            if node.left is None and node.right is None:\n",
    "                if leaf_level is None:\n",
    "                    leaf_level = level\n",
    "                \n",
    "                elif leaf_level != level:\n",
    "                    return False\n",
    "                \n",
    "            else:\n",
    "                if node.left:\n",
    "                    queue.append((node.left, level + 1))\n",
    "                if node.right:\n",
    "                    queue.append((node.right, level + 1))\n",
    "\n",
    "        return True"
   ]
  }
 ],
 "metadata": {
  "kernelspec": {
   "display_name": "base",
   "language": "python",
   "name": "python3"
  },
  "language_info": {
   "codemirror_mode": {
    "name": "ipython",
    "version": 3
   },
   "file_extension": ".py",
   "mimetype": "text/x-python",
   "name": "python",
   "nbconvert_exporter": "python",
   "pygments_lexer": "ipython3",
   "version": "3.9.16"
  }
 },
 "nbformat": 4,
 "nbformat_minor": 2
}
