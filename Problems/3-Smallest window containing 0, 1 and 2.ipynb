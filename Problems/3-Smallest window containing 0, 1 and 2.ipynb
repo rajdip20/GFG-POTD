{
 "cells": [
  {
   "cell_type": "markdown",
   "metadata": {},
   "source": [
    "Given a string **S** consisting of the characters **0**, **1** and **2**. Your task is to find the length of the **smallest substring** of string **S** that contains all the three characters **0**, **1** and **2**. If no such substring exists, then return **-1**.\n",
    "\n",
    "**Example 1:**\n",
    "\n",
    ">**Input:**<br>\n",
    ">S = 10212<br>\n",
    ">**Output:**<br>\n",
    ">3<br>\n",
    ">**Explanation:**<br>\n",
    ">The substring 102 is the smallest substring<br>\n",
    ">that contains the characters 0, 1 and 2.<br>\n",
    "\n",
    "\n",
    "**Example 2:**\n",
    "\n",
    ">**Input:** <br>\n",
    ">S = 12121<br>\n",
    ">**Output:**<br>\n",
    ">-1<br>\n",
    ">**Explanation:**<br> \n",
    ">As the character 0 is not present in the<br>\n",
    ">string S, therefor no substring containing<br>\n",
    ">all the three characters 0, 1 and 2<br>\n",
    ">exists. Hence, the answer is -1 in this case.<br>\n",
    "\n",
    "\n",
    "**Your Task:**\n",
    "\n",
    "Complete the function **smallestSubstring()** which takes the string **S** as input, and returns the length of the **smallest substring** of string S that contains all the three characters **0**, **1** and **2**.\n",
    "\n",
    "Expected Time Complexity: O(length( S ))<br>\n",
    "Expected Auxiliary Space: O(1)\n",
    "\n",
    "**Constraints:**\n",
    "- >1 ≤ length( S ) ≤ 10<sup>5</sup>\n",
    "- >All the characters of String S lies in the set {'0', '1', '2'}"
   ]
  },
  {
   "cell_type": "code",
   "execution_count": 1,
   "metadata": {},
   "outputs": [],
   "source": [
    "class Solution:\n",
    "    def smallestSubstring(self, S):\n",
    "        # Code here\n",
    "        one = None\n",
    "        two = None\n",
    "        zero = None\n",
    "        out = None\n",
    "        result = float('inf')\n",
    "        \n",
    "        if ('0' not in S) or ('1' not in S) or ('2' not in S):\n",
    "            return -1\n",
    "        \n",
    "        for i in range(len(S)):\n",
    "            if '0' in S[i]:\n",
    "                zero = i\n",
    "            elif '1' in S[i]:\n",
    "                one = i\n",
    "            elif '2' in S[i]:\n",
    "                two=i\n",
    "            \n",
    "            if None not in [one, two, zero]:\n",
    "                out = max(one,two,zero) - min(one,two,zero) + 1\n",
    "                \n",
    "                if result>out:\n",
    "                    result =out\n",
    "            \n",
    "            if result and result ==3:\n",
    "                return result\n",
    "        \n",
    "        return result"
   ]
  }
 ],
 "metadata": {
  "kernelspec": {
   "display_name": "base",
   "language": "python",
   "name": "python3"
  },
  "language_info": {
   "codemirror_mode": {
    "name": "ipython",
    "version": 3
   },
   "file_extension": ".py",
   "mimetype": "text/x-python",
   "name": "python",
   "nbconvert_exporter": "python",
   "pygments_lexer": "ipython3",
   "version": "3.9.16"
  }
 },
 "nbformat": 4,
 "nbformat_minor": 2
}
