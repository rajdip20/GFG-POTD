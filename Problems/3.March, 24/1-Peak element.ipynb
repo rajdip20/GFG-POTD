{
 "cells": [
  {
   "cell_type": "markdown",
   "metadata": {},
   "source": [
    "Given an **0-indexed** array of integers **arr[]** of size **n**, find its peak element. An element is considered to be peak if it's **value is greater than or equal to the values of its adjacent elements** (if they exist). The array is guaranteed to be in ascending order before the peak element and in descending order after it.\n",
    "\n",
    "**Note:** The output will be **1** if the index returned by your function is correct; otherwise, it will be **0**.\n",
    "\n",
    "<br>\n",
    "\n",
    "**Example 1:**\n",
    ">**Input:** <br>\n",
    ">n = 3<br>\n",
    ">arr[] = {1, 2, 3}<br>\n",
    ">Peak Element's Index: 2<br>\n",
    ">**Output:** 1<br>\n",
    ">**Explanation:** <br>\n",
    ">If the index returned is 2, then the output printed will be 1. <br>\n",
    ">Since arr[2] = 3 is greater than its adjacent elements, and there is no element after it, we can consider it as a peak element. No other index satisfies the same property.\n",
    "\n",
    "**Example 2:**\n",
    ">**Input:**<br>\n",
    ">n = 3<br>\n",
    ">arr[] = {3, 4, 2}<br>\n",
    ">Peak Element's Index: 1<br>\n",
    ">**Output:** 1<br>\n",
    ">**Explanation:** <br>\n",
    ">If the index returned is 1, then the output printed will be 1.<br>\n",
    ">Since arr[1] = 4 is greater than its adjacent elements, and there is no element after it, we can consider it as a peak element. No other index satisfies the same property.\n",
    "\n",
    "<br>\n",
    "\n",
    "**Your Task:**<br>\n",
    "You don't have to read input or print anything. Complete the function **peakElement()** which takes the array **arr[]** and its size **n** as input parameters and return the index of the peak element.\n",
    "\n",
    "**Expected Time Complexity:** O(log(n)).<br>\n",
    "**Expected Auxiliary Space:** O(1)\n",
    "\n",
    "**Constraints:**\n",
    "- >1 ≤ n ≤ 10<sup>5</sup>\n",
    "- >1 ≤ arr[i] ≤ 10<sup>6</sup>"
   ]
  },
  {
   "cell_type": "code",
   "execution_count": 1,
   "metadata": {},
   "outputs": [],
   "source": [
    "class Solution:   \n",
    "    def peakElement(self, arr, n):\n",
    "        # Code here\n",
    "        left, right = 0, n - 1\n",
    "\n",
    "        while left < right:\n",
    "            mid = left + (right - left) // 2\n",
    "\n",
    "            if arr[mid] > arr[mid + 1]:\n",
    "                right = mid\n",
    "            else:\n",
    "                left = mid + 1\n",
    "        \n",
    "        return left"
   ]
  }
 ],
 "metadata": {
  "kernelspec": {
   "display_name": "base",
   "language": "python",
   "name": "python3"
  },
  "language_info": {
   "codemirror_mode": {
    "name": "ipython",
    "version": 3
   },
   "file_extension": ".py",
   "mimetype": "text/x-python",
   "name": "python",
   "nbconvert_exporter": "python",
   "pygments_lexer": "ipython3",
   "version": "3.9.16"
  }
 },
 "nbformat": 4,
 "nbformat_minor": 2
}
