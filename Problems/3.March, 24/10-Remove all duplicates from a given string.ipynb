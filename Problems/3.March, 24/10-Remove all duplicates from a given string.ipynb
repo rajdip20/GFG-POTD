{
 "cells": [
  {
   "cell_type": "markdown",
   "metadata": {},
   "source": [
    "Given a string **str** which may contains lowercase and uppercase chracters. The task is to remove all duplicate characters from the string and find the resultant string. The order of remaining characters in the output should be same as in the original string.\n",
    "\n",
    "<br>\n",
    "\n",
    "**Example 1:**\n",
    ">**Input:**<br>\n",
    ">str = \"geEksforGEeks\"<br>\n",
    ">**Output:** <br>\n",
    ">\"geEksforG\"<br>\n",
    ">**Explanation:** <br>\n",
    ">After removing duplicate characters such as E, e, k, s, we have string as \"geEksforG\".\n",
    "\n",
    "**Example 2:**\n",
    ">**Input:**<br>\n",
    ">str = \"HaPpyNewYear\"<br>\n",
    ">**Output:** <br>\n",
    ">\"HaPpyNewYr\"<br>\n",
    ">**Explanation:** <br>\n",
    ">After removing duplicate characters such as e, a, we have string as \"HaPpyNewYr\".\n",
    "\n",
    "<br>\n",
    "\n",
    "**Your Task:**<br>\n",
    "Complete the function **removeDuplicates()** which takes a string **str**, as input parameters and returns a string denoting the answer. You don't have to print answer or take inputs.\n",
    "\n",
    "**Expected Time Complexity:** O(N)<br>\n",
    "**Expected Auxiliary Space:** O(N)\n",
    "\n",
    "**Constraints:**\n",
    "- >1 ≤ N ≤ 10<sup>5</sup>\n",
    "- >String contains uppercase and lowercase english letters."
   ]
  },
  {
   "cell_type": "code",
   "execution_count": 1,
   "metadata": {},
   "outputs": [],
   "source": [
    "class Solution:\n",
    "    def removeDuplicates(self, str):\n",
    "\t    # code here\n",
    "        lst = list(str)\n",
    "        lst2 = []\n",
    "        \n",
    "        for ele in lst:\n",
    "            if ele in lst2:\n",
    "                continue\n",
    "            else:\n",
    "                lst2.append(ele)\n",
    "        \n",
    "        return ''.join(lst2)"
   ]
  }
 ],
 "metadata": {
  "kernelspec": {
   "display_name": "base",
   "language": "python",
   "name": "python3"
  },
  "language_info": {
   "codemirror_mode": {
    "name": "ipython",
    "version": 3
   },
   "file_extension": ".py",
   "mimetype": "text/x-python",
   "name": "python",
   "nbconvert_exporter": "python",
   "pygments_lexer": "ipython3",
   "version": "3.9.16"
  }
 },
 "nbformat": 4,
 "nbformat_minor": 2
}
