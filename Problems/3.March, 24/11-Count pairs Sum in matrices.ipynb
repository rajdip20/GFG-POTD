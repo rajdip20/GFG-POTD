{
 "cells": [
  {
   "cell_type": "markdown",
   "metadata": {},
   "source": [
    "Given two **sorted** matrices **mat1** and **mat2** of size **n x n** of elements. Each matrix contains numbers arranged in **strictly ascending order**, with each row sorted from **left to right**, and the last element of a row being smaller than the first element of the next row. You're given a target value, **x**, your task is to find and **count all pairs {a, b}** such that **a** is from **mat1** and **b** is from **mat2** where sum of **a** and **b** is equal to **x**.\n",
    "\n",
    "<br>\n",
    "\n",
    "**Example 1:**\n",
    ">**Input:** <br>\n",
    ">n = 3, x = 21<br>\n",
    ">mat1 = {{1, 5, 6},<br>\n",
    ">&emsp;&emsp;&emsp; {8, 10, 11},<br>\n",
    ">&emsp;&emsp;&emsp; {15, 16, 18}}<br>\n",
    ">mat2 = {{2, 4, 7},<br>\n",
    ">&emsp;&emsp;&emsp; {9, 10, 12},<br>\n",
    ">&emsp;&emsp;&emsp; {13, 16, 20}}<br>\n",
    ">**OUTPUT:** 4<br>\n",
    ">**Explanation:** The pairs whose sum is found to be 21 are (1, 20), (5, 16), (8, 13), (11, 10).\n",
    "\n",
    "**Example 2:**\n",
    ">**Input:**<br>\n",
    ">n = 2, x = 10<br>\n",
    ">mat1 = {{1, 2},<br>\n",
    ">&emsp;&emsp;&emsp; {3, 4}}<br>\n",
    ">mat2 = {{4, 5},<br>\n",
    ">&emsp;&emsp;&emsp; {6, 7}}<br>\n",
    ">**Output:** 2<br>\n",
    ">**Explanation:** The pairs whose sum found to be 10 are (4, 6), (3, 7).\n",
    "\n",
    "<br>\n",
    "\n",
    "**User Task:**<br>\n",
    "Your task is to complete the function **countPairs()** which takes 4 arguments **mat1, mat2, n, x**, and returns the count of pairs whose sum equals to **x**. You don't need to take any input or print anything.\n",
    "\n",
    "**Expected Time Complexity:** O(n<sup>2</sup>).<br>\n",
    "**Expected Auxiliary Space:** O(1).\n",
    "\n",
    "**Constraints:**\n",
    "- >1 ≤ mat1[i][j] , mat2[i][j] ≤ 10<sup>5</sup>\n",
    "- >1 ≤ n ≤ 100\n",
    "- >1 ≤ x ≤ 10<sup>5</sup>"
   ]
  },
  {
   "cell_type": "code",
   "execution_count": 1,
   "metadata": {},
   "outputs": [],
   "source": [
    "class Solution:\n",
    "\tdef countPairs(self, mat1, mat2, n, x):\n",
    "\t\t# code here\n",
    "\t\ts = set()\n",
    "\t\tpair = 0\n",
    "\t\t\n",
    "\t\tfor i in mat1:\n",
    "\t\t\tfor j in i:\n",
    "\t\t\t\ts.add(j)\n",
    "\t\t\n",
    "\t\tfor i in mat2:\n",
    "\t\t\tfor j in i:\n",
    "\t\t\t\tif x - j in s:\n",
    "\t\t\t\t\tpair += 1\n",
    "\t\t\n",
    "\t\treturn pair"
   ]
  }
 ],
 "metadata": {
  "kernelspec": {
   "display_name": "base",
   "language": "python",
   "name": "python3"
  },
  "language_info": {
   "codemirror_mode": {
    "name": "ipython",
    "version": 3
   },
   "file_extension": ".py",
   "mimetype": "text/x-python",
   "name": "python",
   "nbconvert_exporter": "python",
   "pygments_lexer": "ipython3",
   "version": "3.9.16"
  }
 },
 "nbformat": 4,
 "nbformat_minor": 2
}
