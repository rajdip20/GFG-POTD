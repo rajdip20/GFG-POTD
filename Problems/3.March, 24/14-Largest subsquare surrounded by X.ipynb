{
 "cells": [
  {
   "cell_type": "markdown",
   "metadata": {},
   "source": [
    "Given a square matrix **a** of size **n x n**, where each cell can be either **'X'** or **'O'**, you need to find the size of the **largest square subgrid** that is completely surrounded by **'X'**. More formally you need to find the largest square within the grid where all its **border cells are 'X'**.\n",
    "\n",
    "<br>\n",
    "\n",
    "**Example 1:**\n",
    ">**Input:**<br>\n",
    ">n = 2<br>\n",
    ">a = [[X,X],<br>\n",
    ">&emsp;&emsp; [X,X]]<br>\n",
    ">**Output:**<br>\n",
    ">2<br>\n",
    ">**Explanation:**<br>\n",
    ">The largest square submatrix surrounded by X is the whole input matrix.\n",
    "\n",
    "\n",
    "**Example 2:**\n",
    ">**Input:**<br>\n",
    ">n = 4<br>\n",
    ">a = [[X,X,X,O],<br>\n",
    ">&emsp;&emsp; [X,O,X,X],<br>\n",
    ">&emsp;&emsp; [X,X,X,O],<br>\n",
    ">&emsp;&emsp; [X,O,X,X]]<br>\n",
    ">**Output:**<br>\n",
    ">3<br>\n",
    ">**Explanation:**<br>\n",
    ">Here,the input represents following matrix of size 4 x 4<br>\n",
    ">X X X O<br>\n",
    ">X O X X<br>\n",
    ">X X X O<br>\n",
    ">X O X X<br>\n",
    ">The square submatrix starting at (0,0) and ending at (2,2) is the largest submatrix surrounded by X. Therefore, size of that matrix would be 3.\n",
    "\n",
    "<br>\n",
    "\n",
    "**Your Task:**<br>\n",
    "You don't need to read input or print anything. Your task is to complete the function **largestSubsquare()** which takes the integer **n** and the matrix **a** as input parameters and returns the size of the **largest subsquare** surrounded by 'X'.\n",
    "\n",
    "**Expected Time Complexity:** O(n<sup>2</sup>)<br>\n",
    "**Expected Auxillary Space:** O(n<sup>2</sup>)\n",
    "\n",
    "**Constraints:**\n",
    "- >1 <= n <= 1000\n",
    "- >a[i][j] belongs to {'X','O'}"
   ]
  },
  {
   "cell_type": "code",
   "execution_count": 1,
   "metadata": {},
   "outputs": [],
   "source": [
    "class Solution:\n",
    "    def largestSubsquare(self, n, a):\n",
    "        # code here\n",
    "        n = len(a)\n",
    "        dp = [[(0, 0)]*(n + 1) for _ in range(n + 1)]\n",
    "        \n",
    "        for r in range(n):\n",
    "            for c in range(n):\n",
    "                if a[r][c] == 'X':\n",
    "                    dp[r + 1][c + 1] = (dp[r][c + 1][0] + 1, dp[r + 1][c][1] + 1)\n",
    "        \n",
    "        ans = 0\n",
    "        \n",
    "        for r in range(1, n + 1):\n",
    "            for c in range(1, n + 1):\n",
    "                d = min(dp[r][c])\n",
    "                while d > ans:\n",
    "                    left = c - d + 1\n",
    "                    top = r - d + 1\n",
    "                    if dp[r][left][0] >= d and dp[top][c][1] >= d:\n",
    "                        ans = d\n",
    "                        break\n",
    "                    d -= 1\n",
    "        return ans"
   ]
  }
 ],
 "metadata": {
  "kernelspec": {
   "display_name": "base",
   "language": "python",
   "name": "python3"
  },
  "language_info": {
   "codemirror_mode": {
    "name": "ipython",
    "version": 3
   },
   "file_extension": ".py",
   "mimetype": "text/x-python",
   "name": "python",
   "nbconvert_exporter": "python",
   "pygments_lexer": "ipython3",
   "version": "3.9.16"
  }
 },
 "nbformat": 4,
 "nbformat_minor": 2
}
