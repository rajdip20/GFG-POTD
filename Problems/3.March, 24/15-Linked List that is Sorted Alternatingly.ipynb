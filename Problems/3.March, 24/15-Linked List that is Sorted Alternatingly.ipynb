{
 "cells": [
  {
   "cell_type": "markdown",
   "metadata": {},
   "source": [
    "You are given a **Linked list** of size **n**. The list is in **alternating ascending** and **descending orders**. Sort the given linked list in **non-decreasing order**.\n",
    "\n",
    "<br>\n",
    "\n",
    "**Example 1:**\n",
    ">**Input:**<br>\n",
    ">n = 6<br>\n",
    ">LinkedList = 1->9->2->8->3->7<br>\n",
    ">**Output:** 1 2 3 7 8 9<br>\n",
    ">**Explanation:** <br>\n",
    ">After sorting the given list will be 1->2->3->7->8->9.\n",
    "\n",
    "**Example 2:**\n",
    ">**Input:**<br>\n",
    ">n = 5<br>\n",
    ">LinkedList = 13->99->21->80->50<br>\n",
    ">**Output:** 13 21 50 80 99<br>\n",
    ">**Explanation:**<br>\n",
    ">After sorting the given list will be 13->21->50->80->99.\n",
    "\n",
    "<br>\n",
    "\n",
    "**Your Task:**<br>\n",
    "You do not need to read input or print anything. The task is to complete the function **sort()** which should sort the **linked list** of size **n** in **non-decreasing order**. \n",
    "\n",
    "**Expected Time Complexity:** O(n)<br>\n",
    "**Expected Auxiliary Space:** O(1)\n",
    "\n",
    "**Constraints:**\n",
    "- >1 <= Number of nodes <= 100\n",
    "- >0 <= Values of the elements in linked list <= 10<sup>3</sup>"
   ]
  },
  {
   "cell_type": "code",
   "execution_count": 1,
   "metadata": {},
   "outputs": [],
   "source": [
    "class Node:\n",
    "    def __init__(self,data):\n",
    "        self.data=data\n",
    "        self.next=None\n",
    "\n",
    "\n",
    "class Solution:\n",
    "    def sort(self, h1):\n",
    "        # return head\n",
    "        arr = []\n",
    "        \n",
    "        while h1:\n",
    "            arr.append(h1.data)\n",
    "            h1 = h1.next\n",
    "        \n",
    "        sorte = sorted(arr)\n",
    "        \n",
    "        for i in range(len(sorte)):\n",
    "            print(sorte[i], end=' ')"
   ]
  }
 ],
 "metadata": {
  "kernelspec": {
   "display_name": "base",
   "language": "python",
   "name": "python3"
  },
  "language_info": {
   "codemirror_mode": {
    "name": "ipython",
    "version": 3
   },
   "file_extension": ".py",
   "mimetype": "text/x-python",
   "name": "python",
   "nbconvert_exporter": "python",
   "pygments_lexer": "ipython3",
   "version": "3.9.16"
  }
 },
 "nbformat": 4,
 "nbformat_minor": 2
}
