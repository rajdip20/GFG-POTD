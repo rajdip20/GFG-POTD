{
 "cells": [
  {
   "cell_type": "markdown",
   "metadata": {},
   "source": [
    "You are given a node **del_node** of a Singly Linked List where you have to **delete** a **value** of the given node from the linked list but you are not given the **head** of the list.\n",
    "\n",
    "By deleting the node value, we do not mean removing it from memory. We mean:\n",
    "- The value of the given node should not exist in the linked list.\n",
    "- The number of nodes in the linked list should decrease by one.\n",
    "- All the values before & after the del_node node should be in the same order.\n",
    "\n",
    "\n",
    "**Note:**\n",
    "1. Multiple nodes can have the same values as the del_node, but you must only remove the node whose pointer del_node is given to you.\n",
    "2. It is guaranteed that there exists a node with a value equal to the del_node value and it will not be the last node of the linked list.\n",
    "\n",
    "<br>\n",
    "\n",
    "**Example 1:**\n",
    ">**Input:**<br>\n",
    ">Linked List = 1 -> 2<br>\n",
    ">del_node = 1<br>\n",
    ">**Output:** <br>\n",
    ">2<br>\n",
    ">**Explanation:** <br>\n",
    ">After deleting 1 from the linked list, <br>\n",
    ">we have remaining nodes as 2.\n",
    "\n",
    "**Example 2:**\n",
    ">**Input:**<br>\n",
    ">Linked List = 10 -> 20 -> 4 -> 30<br>\n",
    ">del_node = 20<br>\n",
    ">**Output:** <br>\n",
    ">10 4 30<br>\n",
    ">**Explanation:** <br>\n",
    ">After deleting 20 from the linked list, <br>\n",
    ">we have remaining nodes as 10, 4, 30.\n",
    "\n",
    "<br>\n",
    "\n",
    "**Your Task:**<br>\n",
    "You don't need to read or print anything. You only need to complete the function **deleteNode()** which takes a **reference** of the deleting node value & your task is to **delete** the given node value.\n",
    "\n",
    "**Expected Time Complexity:** O(1).<br>\n",
    "**Expected Auxilliary Space:** O(1).\n",
    "\n",
    "**Constraints:**\n",
    "- >2 <= n <= 10<sup>3</sup>  \n",
    "- >1 <= elements of the linked list <= 10<sup>9</sup>"
   ]
  },
  {
   "cell_type": "code",
   "execution_count": 1,
   "metadata": {},
   "outputs": [],
   "source": [
    "'''\n",
    "    Your task is to delete the given node from\n",
    "\tthe linked list, without using head pointer.\n",
    "\t\n",
    "\tFunction Arguments: node (given node to be deleted) \n",
    "\tReturn Type: None, just delete the given node from the linked list.\n",
    "\n",
    "\t{\n",
    "\t\t# Node Class\n",
    "\t\tclass Node:\n",
    "\t\t    def __init__(self, data):   # data -> value stored in node\n",
    "\t\t        self.data = data\n",
    "\t\t        self.next = None\n",
    "\t}\n",
    "'''\n",
    "class Solution:\n",
    "    # Function to delete a node without any reference to head pointer.\n",
    "    def deleteNode(self, del_node):\n",
    "        # code here\n",
    "        del_node.data = del_node.next.data\n",
    "\n",
    "        del_node.next = del_node.next.next"
   ]
  }
 ],
 "metadata": {
  "kernelspec": {
   "display_name": "base",
   "language": "python",
   "name": "python3"
  },
  "language_info": {
   "codemirror_mode": {
    "name": "ipython",
    "version": 3
   },
   "file_extension": ".py",
   "mimetype": "text/x-python",
   "name": "python",
   "nbconvert_exporter": "python",
   "pygments_lexer": "ipython3",
   "version": "3.9.16"
  }
 },
 "nbformat": 4,
 "nbformat_minor": 2
}
