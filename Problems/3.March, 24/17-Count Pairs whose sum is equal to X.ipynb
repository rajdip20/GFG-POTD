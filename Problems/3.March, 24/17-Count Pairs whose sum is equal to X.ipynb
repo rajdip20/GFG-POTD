{
 "cells": [
  {
   "cell_type": "markdown",
   "metadata": {},
   "source": [
    "Given two linked list **head1** and **head2** with **distinct** elements, determine the **count of all distinct pairs** from both lists whose sum is equal to the given value **x**.\n",
    "\n",
    "**Note:** A valid pair would be in the form **(x, y)** where **x** is from first linked list and **y** is from second linked list.\n",
    "\n",
    "<br>\n",
    "\n",
    "**Example 1:**\n",
    ">**Input:**<br>\n",
    ">head1 = 1->2->3->4->5->6<br>\n",
    ">head2 = 11->12->13<br>\n",
    ">x = 15<br>\n",
    ">**Output:** 3<br>\n",
    ">**Explanation:** There are total 3 pairs whose sum is 15 : (4,11) , (3,12) and (2,13)\n",
    "\n",
    "**Example 2:**\n",
    ">**Input:**<br>\n",
    ">head1 = 7->5->1->3<br>\n",
    ">head2 = 3->5->2->8<br>\n",
    ">x = 10<br>\n",
    ">**Output:** 2<br>\n",
    ">**Explanation:** There are total 2 pairs whose sum is 10 : (7,3) and (5,5)\n",
    "\n",
    "<br>\n",
    "\n",
    "**Your Task:**<br>\n",
    "You only need to implement the given function **countPairs()** that take two linked list **head1** and **head2** and return the **count of distinct pairs** whose sum is equal to **x**.\n",
    "\n",
    "**Expected Time Complexity:** O(length(head1)+lenght(head2)).<br>\n",
    "**Expected Auxiliary Space:** O(length(head1)) or O(length(head2)).\n",
    "\n",
    "**Constraints:**\n",
    "- >1<=length(head1), lenght(head2)<=10<sup>5</sup>\n",
    "- >1 <= Value of elements of  linked lists <= 10<sup>9</sup>\n",
    "- >1<= x <= 10<sup>9</sup>\n",
    "- >Note : All elements in each linked list are unique."
   ]
  },
  {
   "cell_type": "code",
   "execution_count": 1,
   "metadata": {},
   "outputs": [],
   "source": [
    "'''\n",
    "class Node:\n",
    "    def __init__(self, data):   # data -> value stored in node\n",
    "        self.data = data\n",
    "        self.next = None\n",
    "'''\n",
    "class Solution:\n",
    "    def countPair(self, head1, head2, n1, n2, x):\n",
    "        '''\n",
    "        head1:  head of linkedList 1\n",
    "        head2:  head of linkedList 2\n",
    "        n1:  len of  linkedList 1\n",
    "        n2:  len of linkedList 1\n",
    "        x:   given sum\n",
    "        '''\n",
    "        set1 = set()\n",
    "        current = head1\n",
    "       \n",
    "        while current:\n",
    "            set1.add(current.data)\n",
    "            current = current.next\n",
    "        \n",
    "        count = 0\n",
    "        current = head2\n",
    "        \n",
    "        while current:\n",
    "            if (x - current.data) in set1:\n",
    "                count += 1\n",
    "            current = current.next\n",
    "        \n",
    "        return count"
   ]
  }
 ],
 "metadata": {
  "kernelspec": {
   "display_name": "base",
   "language": "python",
   "name": "python3"
  },
  "language_info": {
   "codemirror_mode": {
    "name": "ipython",
    "version": 3
   },
   "file_extension": ".py",
   "mimetype": "text/x-python",
   "name": "python",
   "nbconvert_exporter": "python",
   "pygments_lexer": "ipython3",
   "version": "3.9.16"
  }
 },
 "nbformat": 4,
 "nbformat_minor": 2
}
