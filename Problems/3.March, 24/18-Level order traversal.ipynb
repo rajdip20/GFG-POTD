{
 "cells": [
  {
   "cell_type": "markdown",
   "metadata": {},
   "source": [
    "Given a **root** of a binary tree with **n** nodes, find its level order traversal.<br>\n",
    "Level order traversal of a tree is [breadth-first traversal](http://www.geeksforgeeks.org/breadth-first-traversal-for-a-graph/) for the tree.\n",
    "\n",
    "<br>\n",
    "\n",
    "**Example 1:**\n",
    ">**Input:** <br>\n",
    ">&emsp;&emsp;&emsp; 1 <br>\n",
    ">&emsp;&emsp;&ensp; / &ensp; \\ <br>\n",
    ">&emsp;&emsp; 3 &emsp; 2 <br>\n",
    ">**Output:** <br>\n",
    ">1 3 2\n",
    "\n",
    "**Example 2:**\n",
    ">**Input:** <br>\n",
    ">&emsp;&emsp;&emsp;&emsp; 10 <br>\n",
    ">&emsp;&emsp;&emsp;&ensp; / &ensp; \\ <br>\n",
    ">&emsp;&emsp;&ensp; 20 &emsp; 30 <br>\n",
    ">&emsp;&emsp; / &ensp; \\ <br>\n",
    ">&emsp; 40 &emsp; 60 <br>\n",
    ">**Output:** <br>\n",
    ">10 20 30 40 60\n",
    "\n",
    "<br>\n",
    "\n",
    "**Your Task:**<br>\n",
    "You don't have to take any input. Complete the function **levelOrder()** that takes the root node as input parameter and returns a list of integers containing the level order traversal of the given Binary Tree.\n",
    "\n",
    "**Expected Time Complexity:** O(n)<br>\n",
    "**Expected Auxiliary Space:** O(n)\n",
    "\n",
    "**Constraints:**\n",
    "- >1 ≤ n ≤ 10<sup>5</sup>\n",
    "- >0 ≤ Data of a node ≤ 10<sup>9</sup>"
   ]
  },
  {
   "cell_type": "code",
   "execution_count": 1,
   "metadata": {},
   "outputs": [],
   "source": [
    "class Solution:\n",
    "    # Function to return the level order traversal of a tree.\n",
    "    def levelOrder(self, root):\n",
    "        # Code here\n",
    "        if not root:\n",
    "            return []\n",
    "        \n",
    "        result = []\n",
    "        queue = [root]\n",
    "        \n",
    "        while queue:\n",
    "            level_size = len(queue)\n",
    "            level_values = []\n",
    "            \n",
    "            for _ in range(level_size):\n",
    "                node = queue.pop(0)\n",
    "                level_values.append(node.data)\n",
    "                \n",
    "                if node.left:\n",
    "                    queue.append(node.left)\n",
    "                if node.right:\n",
    "                    queue.append(node.right)\n",
    "            \n",
    "            result.extend(level_values)\n",
    "        \n",
    "        return result"
   ]
  }
 ],
 "metadata": {
  "kernelspec": {
   "display_name": "base",
   "language": "python",
   "name": "python3"
  },
  "language_info": {
   "codemirror_mode": {
    "name": "ipython",
    "version": 3
   },
   "file_extension": ".py",
   "mimetype": "text/x-python",
   "name": "python",
   "nbconvert_exporter": "python",
   "pygments_lexer": "ipython3",
   "version": "3.9.16"
  }
 },
 "nbformat": 4,
 "nbformat_minor": 2
}
