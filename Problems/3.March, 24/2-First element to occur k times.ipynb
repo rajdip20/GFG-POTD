{
 "cells": [
  {
   "cell_type": "markdown",
   "metadata": {},
   "source": [
    "Given an array of **n** integers. Find the first element that occurs **atleast k** number of times.\n",
    "\n",
    "<br>\n",
    "\n",
    "**Example 1:**\n",
    ">**Input:**<br>\n",
    ">n = 7, k = 2<br>\n",
    ">a[] = {1, 7, 4, 3, 4, 8, 7}<br>\n",
    ">**Output:**<br>\n",
    ">4<br>\n",
    ">**Explanation:**<br>\n",
    ">Both 7 and 4 occur 2 times. But 4 is first that occurs twice.<br>\n",
    ">As at index = 4, 4 has occurred twice whereas 7 appeared twice at index 6.\n",
    "\n",
    "\n",
    "**Example 2:**\n",
    ">**Input:**<br>\n",
    ">n = 10, k = 3<br>\n",
    ">a[] = {3, 1, 3, 4, 5, 1, 3, 3, 5, 4}<br>\n",
    ">**Output:**<br>\n",
    ">3<br>\n",
    ">**Explanation:**<br>\n",
    ">Here, 3 is the only number that appeared 3 times in the array.\n",
    "\n",
    "<br>\n",
    "\n",
    "**Your Task:**<br>  \n",
    "You don't need to read input or print anything. Your task is to complete the function **firstElementKTime()** which takes the array **a[]**, its size **n**, and an integer **k** as input arguments and **returns** the required answer. If the answer is not present in the array, return **-1**.\n",
    "\n",
    "**Expected Time Complexity:** O(n).<br>\n",
    "**Expected Auxiliary Space:** O(n).\n",
    "\n",
    "**Constraints:**\n",
    "- >1 <= n <= 10<sup>4</sup>\n",
    "- >1 <= k <= 100\n",
    "- >1<= a[i] <= 200"
   ]
  },
  {
   "cell_type": "code",
   "execution_count": 1,
   "metadata": {},
   "outputs": [],
   "source": [
    "class Solution:\n",
    "    def firstElementKTime(self, n, k, a):\n",
    "        # code here\n",
    "        freq = {}\n",
    "        \n",
    "        for i in a:\n",
    "            if i in freq:\n",
    "                freq[i] += 1\n",
    "            else:\n",
    "                freq[i] = 1\n",
    "            \n",
    "            if freq[i] >= k:\n",
    "                return i\n",
    "        \n",
    "        return -1"
   ]
  }
 ],
 "metadata": {
  "kernelspec": {
   "display_name": "base",
   "language": "python",
   "name": "python3"
  },
  "language_info": {
   "codemirror_mode": {
    "name": "ipython",
    "version": 3
   },
   "file_extension": ".py",
   "mimetype": "text/x-python",
   "name": "python",
   "nbconvert_exporter": "python",
   "pygments_lexer": "ipython3",
   "version": "3.9.16"
  }
 },
 "nbformat": 4,
 "nbformat_minor": 2
}
