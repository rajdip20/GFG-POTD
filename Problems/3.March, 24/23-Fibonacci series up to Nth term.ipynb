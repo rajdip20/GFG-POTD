{
 "cells": [
  {
   "cell_type": "markdown",
   "metadata": {},
   "source": [
    "You are given an integer **n**, return the fibonacci series till the **nth**(0-based indexing) term. Since the terms can become very large return the terms **modulo 10<sup>9</sup>+7**.\n",
    "\n",
    "<br>\n",
    "\n",
    "**Example 1:**\n",
    ">**Input:**<br>\n",
    ">n = 5<br>\n",
    ">**Output:**<br>\n",
    ">0 1 1 2 3 5<br>\n",
    ">**Explanation:**<br>\n",
    ">0 1 1 2 3 5 is the Fibonacci series up to the 5th term.\n",
    "\n",
    "**Example 2:**\n",
    ">**Input:**<br>\n",
    ">n = 10<br>\n",
    ">**Output:**<br>\n",
    ">0 1 1 2 3 5 8 13 21 34 55<br>\n",
    ">**Explanation:**<br>\n",
    ">0 1 1 2 3 5 8 13 21 34 55 is the Fibonacci series up to the 10th term.\n",
    "\n",
    "<br>\n",
    "\n",
    "**Your Task:**<br>\n",
    "You don't need to read input or print anything. Your task is to complete the function **Series()** which takes an Integer **n** as input and returns a Fibonacci series up to the **nth** term.\n",
    "\n",
    "**Expected Time Complexity:** O(n)<br>\n",
    "**Expected Space Complexity:** O(n)\n",
    "\n",
    "**Constraint:**\n",
    "- >1 <= n <= 10<sup>5</sup>"
   ]
  },
  {
   "cell_type": "code",
   "execution_count": 1,
   "metadata": {},
   "outputs": [],
   "source": [
    "class Solution:\n",
    "    def series(self, n):\n",
    "        # Code here\n",
    "        MOD = 10 ** 9 + 7\n",
    "    \n",
    "        if n == 0:\n",
    "            return [0]\n",
    "        elif n == 1:\n",
    "            return [0, 1]\n",
    "        \n",
    "        fib = [0] * (n + 1)\n",
    "        fib[1] = 1\n",
    "        \n",
    "        for i in range(2, n + 1):\n",
    "            fib[i] = (fib[i - 1] + fib[i - 2]) % MOD\n",
    "        \n",
    "        return fib"
   ]
  }
 ],
 "metadata": {
  "kernelspec": {
   "display_name": "base",
   "language": "python",
   "name": "python3"
  },
  "language_info": {
   "codemirror_mode": {
    "name": "ipython",
    "version": 3
   },
   "file_extension": ".py",
   "mimetype": "text/x-python",
   "name": "python",
   "nbconvert_exporter": "python",
   "pygments_lexer": "ipython3",
   "version": "3.9.16"
  }
 },
 "nbformat": 4,
 "nbformat_minor": 2
}
