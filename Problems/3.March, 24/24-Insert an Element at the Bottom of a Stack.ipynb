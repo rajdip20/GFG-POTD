{
 "cells": [
  {
   "cell_type": "markdown",
   "metadata": {},
   "source": [
    "You are given a stack **st** of **n** integers and an element **x**. You have to insert **x** at the bottom of the given stack. \n",
    "\n",
    "**Note:** Everywhere in this problem, the bottommost element of the stack is shown first while priniting the stack.\n",
    "\n",
    "<br>\n",
    "\n",
    "**Example 1:**\n",
    ">**Input:**<br>\n",
    ">n = 5<br>\n",
    ">x = 2<br>\n",
    ">st = {4,3,2,1,8}<br>\n",
    ">**Output:**<br>\n",
    ">{2,4,3,2,1,8}<br>\n",
    ">**Explanation:**<br>\n",
    ">After insertion of 2, the final stack will be {2,4,3,2,1,8}.\n",
    "\n",
    "**Example 2:**\n",
    ">**Input:**<br>\n",
    ">n = 3<br>\n",
    ">x = 4<br>\n",
    ">st = {5,3,1}<br>\n",
    ">**Output:**<br>\n",
    ">{4,5,3,1}<br>\n",
    ">**Explanation:**<br>\n",
    ">After insertion of 4, the final stack will be {4,5,3,1}.\n",
    "\n",
    "<br>\n",
    "\n",
    "**Your Task:**<br>\n",
    "You don't need to read input or print anything. Your task is to complete the function **insertAtBottom()** which takes a stack **st** and an integer **x** as inputs and returns the modified stack after insertion.\n",
    "\n",
    "**Expected Time Complexity:** O(n)<br>\n",
    "**Expected Auxiliary Space:** O(n)\n",
    "\n",
    "**Constraints:**\n",
    "- >1 <= n <= 10<sup>5</sup>\n",
    "- >0 <= x, elements of stack <= 10<sup>9</sup>"
   ]
  },
  {
   "cell_type": "code",
   "execution_count": 1,
   "metadata": {},
   "outputs": [],
   "source": [
    "class Solution:\n",
    "    def insertAtBottom(self, st, x):\n",
    "        # code here\n",
    "        st.insert(0, x)\n",
    "        return st"
   ]
  }
 ],
 "metadata": {
  "kernelspec": {
   "display_name": "base",
   "language": "python",
   "name": "python3"
  },
  "language_info": {
   "codemirror_mode": {
    "name": "ipython",
    "version": 3
   },
   "file_extension": ".py",
   "mimetype": "text/x-python",
   "name": "python",
   "nbconvert_exporter": "python",
   "pygments_lexer": "ipython3",
   "version": "3.9.16"
  }
 },
 "nbformat": 4,
 "nbformat_minor": 2
}
