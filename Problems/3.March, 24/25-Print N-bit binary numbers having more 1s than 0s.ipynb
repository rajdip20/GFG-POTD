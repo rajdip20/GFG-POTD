{
 "cells": [
  {
   "cell_type": "markdown",
   "metadata": {},
   "source": [
    "Given a positive integer **n**. Your task is to generate a string list of all **n-bit binary numbers** where, for any prefix of the number, there are **more or an equal** number of 1's than 0's. The numbers should be sorted in **decreasing order of magnitude**.\n",
    "\n",
    "<br>\n",
    "\n",
    "**Example 1:**\n",
    ">**Input:**  <br>\n",
    ">n = 2<br>\n",
    ">**Output:** <br>\n",
    ">\"11, 10\"<br>\n",
    ">**Explanation:** Valid numbers are those where each prefix has more 1s than 0s:<br>\n",
    ">11: all its prefixes (1 and 11) have more 1s than 0s.<br>\n",
    ">10: all its prefixes (1 and 10) have more 1s than 0s.<br>\n",
    ">So, the output is \"11, 10\".\n",
    "\n",
    "**Example 2:**\n",
    ">**Input:**  <br>\n",
    ">n = 3<br>\n",
    ">**Output:** <br>\n",
    ">\"111, 110, 101\"<br>\n",
    ">**Explanation:** Valid numbers are those where each prefix has more 1s than 0s.<br>\n",
    ">111: all its prefixes (1, 11, and 111) have more 1s than 0s.<br>\n",
    ">110: all its prefixes (1, 11, and 110) have more 1s than 0s.<br>\n",
    ">101: all its prefixes (1, 10, and 101) have more 1s than 0s.<br>\n",
    ">So, the output is \"111, 110, 101\".\n",
    "\n",
    "<br>\n",
    "\n",
    "**User Task:**<br>\n",
    "Your task is to complete the function **NBitBinary()** which takes a single number as input **n** and returns the **list of strings in decreasing order**. You need not take any input or print anything.\n",
    "\n",
    "**Expected Time Complexity:** O(|2<sup>n</sup>|)<br>\n",
    "**Expected Auxiliary Space:** O(2<sup>n</sup>)\n",
    "\n",
    "**Constraints:**\n",
    "- >1 <= n <= 15"
   ]
  },
  {
   "cell_type": "code",
   "execution_count": 1,
   "metadata": {},
   "outputs": [],
   "source": [
    "class Solution:\n",
    "    def NBitBinary(self, n):\n",
    "\t\t# code here\n",
    "        def generateBinaryNumbers(prefix, zeros, ones, n, result):\n",
    "            if len(prefix) == n:\n",
    "                result.append(prefix)\n",
    "                return\n",
    "            \n",
    "            if zeros < ones:\n",
    "                generateBinaryNumbers(prefix + '0', zeros + 1, ones, n, result)\n",
    "            \n",
    "            generateBinaryNumbers(prefix + '1', zeros, ones + 1, n, result)\n",
    "        \n",
    "        result = []\n",
    "        generateBinaryNumbers('', 0, 0, n, result)\n",
    "        \n",
    "        return sorted(result, reverse=True)"
   ]
  }
 ],
 "metadata": {
  "kernelspec": {
   "display_name": "base",
   "language": "python",
   "name": "python3"
  },
  "language_info": {
   "codemirror_mode": {
    "name": "ipython",
    "version": 3
   },
   "file_extension": ".py",
   "mimetype": "text/x-python",
   "name": "python",
   "nbconvert_exporter": "python",
   "pygments_lexer": "ipython3",
   "version": "3.9.16"
  }
 },
 "nbformat": 4,
 "nbformat_minor": 2
}
