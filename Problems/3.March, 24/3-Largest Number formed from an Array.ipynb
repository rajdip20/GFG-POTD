{
 "cells": [
  {
   "cell_type": "markdown",
   "metadata": {},
   "source": [
    "Given an array of strings **arr[]** of length **n** representing non-negative integers, arrange them in a manner, such that, after concatanating them in order, it results in the **largest possible number**. Since the result may be very large, return it as a string.\n",
    "\n",
    "<br>\n",
    "\n",
    "**Example 1:**\n",
    ">**Input:** <br>\n",
    ">n = 5<br>\n",
    ">arr[] =  {\"3\", \"30\", \"34\", \"5\", \"9\"}<br>\n",
    ">**Output:** \"9534330\"<br>\n",
    ">**Explanation:** <br>\n",
    ">Given numbers are  {\"3\", \"30\", \"34\", \"5\", \"9\"}, <br>\n",
    ">the arrangement \"9534330\" gives the largest value.\n",
    "\n",
    "\n",
    "**Example 2:**\n",
    ">**Input:** <br>\n",
    ">n = 4<br>\n",
    ">arr[] =  {\"54\", \"546\", \"548\", \"60\"}<br>\n",
    ">**Output:** \"6054854654\"<br>\n",
    ">**Explanation:** <br>\n",
    ">Given numbers are {\"54\", \"546\", \"548\", \"60\"}, the <br>\n",
    ">arrangement \"6054854654\" gives the largest value.\n",
    "\n",
    "<br>\n",
    "\n",
    "**Your Task:**<br>  \n",
    "You don't need to read input or print anything. Your task is to complete the function **printLargest()** which takes the array of strings **arr[]** as a parameter and **returns a string** denoting the answer.\n",
    "\n",
    "**Expected Time Complexity:** O(n * log(n)).<br>\n",
    "**Expected Auxiliary Space:** O(n).\n",
    "\n",
    "**Constraints:**\n",
    "- >1 ≤ n ≤ 10<sup>5</sup>\n",
    "- >0 ≤ arr[i] ≤ 10<sup>18</sup>\n",
    "- >Sum of all the elements of the array is greater than 0."
   ]
  },
  {
   "cell_type": "code",
   "execution_count": 1,
   "metadata": {},
   "outputs": [],
   "source": [
    "class Solution:\n",
    "\tdef printLargest(self, n, arr):\n",
    "\t    # code here\n",
    "\t\tfrom functools import cmp_to_key\n",
    "\n",
    "\t\treturn str(int(\"\".join(sorted(arr, key=cmp_to_key(lambda a, b: -1 if (a + b) > (b + a) else 1)))))"
   ]
  }
 ],
 "metadata": {
  "kernelspec": {
   "display_name": "base",
   "language": "python",
   "name": "python3"
  },
  "language_info": {
   "codemirror_mode": {
    "name": "ipython",
    "version": 3
   },
   "file_extension": ".py",
   "mimetype": "text/x-python",
   "name": "python",
   "nbconvert_exporter": "python",
   "pygments_lexer": "ipython3",
   "version": "3.9.16"
  }
 },
 "nbformat": 4,
 "nbformat_minor": 2
}
