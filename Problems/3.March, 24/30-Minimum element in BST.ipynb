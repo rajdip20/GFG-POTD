{
 "cells": [
  {
   "cell_type": "markdown",
   "metadata": {},
   "source": [
    "Given the root of a **Binary Search Tree**. The task is to find the minimum valued element in this given BST.\n",
    "\n",
    "<br>\n",
    "\n",
    "**Example 1:**\n",
    ">**Input:** <br>\n",
    ">&emsp;&emsp;&emsp;&emsp;&emsp;&emsp; 5 <br>\n",
    ">&emsp;&emsp;&emsp;&emsp;&emsp;&ensp; / &ensp; \\ <br>\n",
    ">&emsp;&emsp;&emsp;&emsp;&emsp;4 &emsp;&ensp; 6 <br>\n",
    ">&emsp;&emsp;&emsp;&emsp; / &emsp;&emsp;&emsp; \\ <br>\n",
    ">&emsp;&emsp;&emsp;&ensp; 3 &emsp;&emsp;&emsp;&ensp; 7 <br>\n",
    ">&emsp;&emsp;&emsp;/ <br>\n",
    ">&emsp;&emsp;&ensp;1 <br>\n",
    ">**Output:** 1\n",
    "\n",
    "**Example 2:**\n",
    ">**Input:** <br>\n",
    ">&emsp;&emsp;&emsp; 9 <br>\n",
    ">&emsp;&emsp;&emsp;&ensp; \\ <br>\n",
    ">&emsp;&emsp;&emsp;&emsp; 10 <br>\n",
    ">&emsp;&emsp;&emsp;&emsp;&ensp; \\ <br>\n",
    ">&emsp;&emsp;&emsp;&emsp;&emsp; 11 <br>\n",
    ">**Output:** 9\n",
    "\n",
    "<br>\n",
    "\n",
    "**Your Task:**<br>\n",
    "The task is to complete the function **minValue()** which takes root as the argument and returns the minimum element of BST. If the tree is empty, there is no minimum element, so return **-1** in that case.\n",
    "\n",
    "**Expected Time Complexity:** O(Height of the BST)<br>\n",
    "**Expected Auxiliary Space:** O(1).\n",
    "\n",
    "**Constraints:**\n",
    "- >0 <= n <= 10<sup>4</sup>"
   ]
  },
  {
   "cell_type": "code",
   "execution_count": 1,
   "metadata": {},
   "outputs": [],
   "source": [
    "\"\"\"\n",
    "class Node:\n",
    "    def __init__(self, val):\n",
    "        self.right = None\n",
    "        self.data = val\n",
    "        self.left = None\n",
    "\"\"\"\n",
    "\n",
    "class Solution:\n",
    "    # Function to find the minimum element in the given BST.\n",
    "    def minValue(self, root):\n",
    "        ## Your code here\n",
    "        if not root:\n",
    "            return -1\n",
    "        \n",
    "        while root.left:\n",
    "            root = root.left\n",
    "        \n",
    "        return root.data"
   ]
  }
 ],
 "metadata": {
  "kernelspec": {
   "display_name": "base",
   "language": "python",
   "name": "python3"
  },
  "language_info": {
   "codemirror_mode": {
    "name": "ipython",
    "version": 3
   },
   "file_extension": ".py",
   "mimetype": "text/x-python",
   "name": "python",
   "nbconvert_exporter": "python",
   "pygments_lexer": "ipython3",
   "version": "3.9.16"
  }
 },
 "nbformat": 4,
 "nbformat_minor": 2
}
