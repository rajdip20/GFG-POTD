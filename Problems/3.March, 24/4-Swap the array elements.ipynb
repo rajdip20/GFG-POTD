{
 "cells": [
  {
   "cell_type": "markdown",
   "metadata": {},
   "source": [
    "Given an array **arr** of **n** positive integers. The task is to swap every **i<sup>th</sup>** element of the array with **(i+2)<sup>th</sup>** element.\n",
    "\n",
    "<br>\n",
    "\n",
    "**Example 1:**\n",
    ">**Input:**<br>\n",
    ">n = 3<br>\n",
    ">arr[] = 1 2 3<br>\n",
    ">**Output:**<br>\n",
    ">3 2 1<br>\n",
    ">**Explanation:**<br>\n",
    ">Swapping 1 and 3, makes the array 3 2 1. There is only one swap possible in this array.\n",
    "\n",
    "**Example 2:**\n",
    ">**Input:**<br>\n",
    ">n = 5<br>\n",
    ">arr[] = 1 2 3 4 5<br>\n",
    ">**Output:**<br>\n",
    ">3 4 5 2 1<br>\n",
    ">**Explanation:**<br>\n",
    ">Swapping 1 and 3, makes the array 3 2 1 4 5.<br>\n",
    ">Now, swapping 2 and 4, makes the array 3 4 1 2 5. <br>\n",
    ">Again,swapping 1 and 5, makes the array 3 4 5 2 1.\n",
    "\n",
    "<br>\n",
    "\n",
    "**Your Task:**<br>\n",
    "Your task is to complete the function **swapElements()**, which should swap each **i<sup>th</sup>** element with **(i+2)<sup>th</sup>** element.\n",
    "\n",
    "**Expected Time Complexity:** O(n)<br>\n",
    "**Expected Auxilary Space:** O(1)\n",
    "\n",
    "**Constraints:**\n",
    "- >1 <= n <= 10<sup>6</sup>\n",
    "- >0 <= arr<sub>i</sub> <= 10<sup>9</sup>"
   ]
  },
  {
   "cell_type": "code",
   "execution_count": 1,
   "metadata": {},
   "outputs": [],
   "source": [
    "class Solution:\n",
    "\tdef swapElements(self, arr, n):\n",
    "\t    # Code here\n",
    "\t\tfor i in range(0, n - 2):\n",
    "\t\t\tarr[i], arr[i + 2] = arr[i + 2], arr[i]\n",
    "\t\t\n",
    "\t\treturn arr"
   ]
  }
 ],
 "metadata": {
  "kernelspec": {
   "display_name": "base",
   "language": "python",
   "name": "python3"
  },
  "language_info": {
   "codemirror_mode": {
    "name": "ipython",
    "version": 3
   },
   "file_extension": ".py",
   "mimetype": "text/x-python",
   "name": "python",
   "nbconvert_exporter": "python",
   "pygments_lexer": "ipython3",
   "version": "3.9.16"
  }
 },
 "nbformat": 4,
 "nbformat_minor": 2
}
