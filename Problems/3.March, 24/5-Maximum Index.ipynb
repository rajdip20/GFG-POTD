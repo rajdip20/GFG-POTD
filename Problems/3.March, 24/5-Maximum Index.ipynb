{
 "cells": [
  {
   "cell_type": "markdown",
   "metadata": {},
   "source": [
    "Given an array **a** of **n** positive integers. The task is to find the maximum of **j - i** subjected to the constraint of **a[i] ≤ a[j]** and **i ≤ j**.\n",
    "\n",
    "<br>\n",
    "\n",
    "**Example 1:**\n",
    ">**Input:**<br>\n",
    ">n = 2<br>\n",
    ">a[] = {1, 10}<br>\n",
    ">**Output:**<br>\n",
    ">1<br>\n",
    ">**Explanation:**<br>\n",
    ">a[0] < a[1] so (j-i) is 1-0 = 1.\n",
    "\n",
    "**Example 2:**\n",
    ">**Input:**<br>\n",
    ">n = 9<br>\n",
    ">a[] = {34, 8, 10, 3, 2, 80, 30, 33, 1}<br>\n",
    ">**Output:**<br>\n",
    ">6<br>\n",
    ">**Explanation:**<br>\n",
    ">In the given array a[1] < a[7] satisfying the required condition(a[i] < a[j]) thus giving the maximum difference of j - i which is 6(7-1).\n",
    "\n",
    "<br>\n",
    "\n",
    "**Your Task:**<br>\n",
    "The task is to complete the function **maxIndexDiff()** which finds and returns maximum index difference. Printing the output will be handled by driver code. \n",
    "\n",
    "**Expected Time Complexity:** O(N)<br>\n",
    "**Expected Auxiliary Space:** O(N)\n",
    "\n",
    "**Constraints:**\n",
    "- >1 ≤ n ≤ 10<sup>6</sup>\n",
    "- >0 ≤ a[i] ≤ 10<sup>9</sup>"
   ]
  },
  {
   "cell_type": "code",
   "execution_count": 1,
   "metadata": {},
   "outputs": [],
   "source": [
    "class Solution:\n",
    "    #Complete this function\n",
    "    # Function to find the maximum index difference.\n",
    "    def maxIndexDiff(self, a, n): \n",
    "        ## Your code here\n",
    "        left = [0] * (n)\n",
    "        right = [0] * (n)\n",
    "        \n",
    "        left[0] = a[0]\n",
    "        right[n - 1] = a[n - 1]\n",
    "\n",
    "        for i in range(1, n):\n",
    "            left[i] = min(a[i], left[i-1])\n",
    "        \n",
    "        for j in range(n - 2, -1, -1):\n",
    "            right[j] = max(a[j], right[j + 1])\n",
    "        \n",
    "        i = 0\n",
    "        j = 0\n",
    "        maxx = -1\n",
    "\n",
    "        while (i < n and j < n):\n",
    "            if right[j] >= left[i]:\n",
    "                maxx = max(maxx, j - i)\n",
    "                j += 1\n",
    "            else:\n",
    "                i += 1\n",
    "                \n",
    "        return maxx"
   ]
  }
 ],
 "metadata": {
  "kernelspec": {
   "display_name": "base",
   "language": "python",
   "name": "python3"
  },
  "language_info": {
   "codemirror_mode": {
    "name": "ipython",
    "version": 3
   },
   "file_extension": ".py",
   "mimetype": "text/x-python",
   "name": "python",
   "nbconvert_exporter": "python",
   "pygments_lexer": "ipython3",
   "version": "3.9.16"
  }
 },
 "nbformat": 4,
 "nbformat_minor": 2
}
