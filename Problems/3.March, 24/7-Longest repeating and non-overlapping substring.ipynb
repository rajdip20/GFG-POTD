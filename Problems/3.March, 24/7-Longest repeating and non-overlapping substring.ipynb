{
 "cells": [
  {
   "cell_type": "markdown",
   "metadata": {},
   "source": [
    "Given a string s of length **n**, find the longest repeating non-overlapping substring in it. In other words find 2 identical substrings of maximum length which **do not overlap**. Return the longest non-overlapping substring. Return **\"-1\"** if no such string exists.\n",
    "\n",
    "**Note:** Multiple Answers are possible but you have to return the substring whose **first occurrence is earlier**.\n",
    "\n",
    "**For Example:** \"abhihiab\", here both **\"ab\"** and **\"hi\"** are possible answers. But you will have to return **\"ab\"** because it's first occurrence appears before the first occurrence of \"hi\".\n",
    "\n",
    "<br>\n",
    "\n",
    "**Example 1:**\n",
    ">**Input:**<br>\n",
    ">n = 9<br>\n",
    ">s = \"acdcdacdc\"<br>\n",
    ">**Output:**<br>\n",
    ">\"acdc\"<br>\n",
    ">**Explanation:**<br>\n",
    ">The string \"acdc\" is the longest Substring of s which is repeating but not overlapping.\n",
    "\n",
    "**Example 2:**\n",
    ">**Input:**<br>\n",
    ">n = 7<br>\n",
    ">s = \"heheheh\"<br>\n",
    ">**Output:**<br>\n",
    ">\"heh\"<br>\n",
    ">**Explanation:**<br>\n",
    ">The string \"heh\" is the longest Substring of s which is repeating but not overlapping.\n",
    "\n",
    "<br>\n",
    "\n",
    "**Your Task:**\n",
    "You don't need to read input or print anything. Your task is to complete the function **longestSubstring()** which takes an Integer **n** and a string **s** as input and returns the answer.\n",
    "\n",
    "**Expected Time Complexity:** O(n<sup>2</sup>)<br>\n",
    "**Expected Auxiliary Space:** O(n<sup>2</sup>)\n",
    "\n",
    "**Constraints:**\n",
    "- >1 <= n <= 10<sup>3</sup>"
   ]
  },
  {
   "cell_type": "code",
   "execution_count": 1,
   "metadata": {},
   "outputs": [],
   "source": [
    "class Solution:\n",
    "    def longestSubstring(self, s , n):\n",
    "        # code here\n",
    "        max_length = 0\n",
    "        ans = \"-1\"\n",
    "        i = 0\n",
    "        j = 0\n",
    "        \n",
    "        while i < n and j < n:\n",
    "            sub_string = s[i:j+1]\n",
    "            \n",
    "            if s.find(sub_string, j+1) != -1:\n",
    "                length = len(sub_string)\n",
    "                \n",
    "                if length > max_length:\n",
    "                    ans = sub_string\n",
    "                    max_length = length\n",
    "            else:\n",
    "                i += 1\n",
    "            j += 1\n",
    "        \n",
    "        return ans"
   ]
  }
 ],
 "metadata": {
  "kernelspec": {
   "display_name": "base",
   "language": "python",
   "name": "python3"
  },
  "language_info": {
   "codemirror_mode": {
    "name": "ipython",
    "version": 3
   },
   "file_extension": ".py",
   "mimetype": "text/x-python",
   "name": "python",
   "nbconvert_exporter": "python",
   "pygments_lexer": "ipython3",
   "version": "3.9.16"
  }
 },
 "nbformat": 4,
 "nbformat_minor": 2
}
