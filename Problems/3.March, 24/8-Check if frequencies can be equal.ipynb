{
 "cells": [
  {
   "cell_type": "markdown",
   "metadata": {},
   "source": [
    "Given a string s which contains only lower alphabetic characters, check if it is possible to remove **at most one** character from this string in such a way that frequency of each distinct character becomes same in the string. Return **true** if it is possible to do else return **false**.\n",
    "\n",
    "**Note:** The driver code print 1 if the value returned is true, otherwise 0.\n",
    "\n",
    "<br>\n",
    "\n",
    "**Example 1:**\n",
    ">**Input:**<br>\n",
    ">s = \"xyyz\"<br>\n",
    ">**Output:** <br>\n",
    ">1 <br>\n",
    ">**Explanation:** <br>\n",
    ">Removing one 'y' will make frequency of each character to be 1.\n",
    "\n",
    "\n",
    "**Example 2:**\n",
    ">**Input:**<br>\n",
    ">s = \"xxxxyyzz\"<br>\n",
    ">**Output:** <br>\n",
    ">0<br>\n",
    ">**Explanation:** <br>\n",
    ">Frequency can not be made same by removing at most one character.\n",
    "\n",
    "<br>\n",
    "\n",
    "**Your Task:**<br>\n",
    "You dont need to read input or print anything. Complete the function **sameFreq()** which takes a string as input parameter and returns a boolean value denoting if same frequency is possible or not.\n",
    "\n",
    "**Expected Time Complexity:** O(|s|) <br>\n",
    "**Expected Auxiliary Space:** O(1)\n",
    "\n",
    "**Constraints:**\n",
    "- >1 <= |s| <= 10<sup>5</sup>"
   ]
  },
  {
   "cell_type": "code",
   "execution_count": 1,
   "metadata": {},
   "outputs": [],
   "source": [
    "class Solution:\n",
    "    def sameFreq(self, s):\n",
    "        # code here\n",
    "        freq = {}\n",
    "        for char in s:\n",
    "            freq[char] = freq.get(char, 0) + 1\n",
    "\n",
    "        distinct_freq = len(set(freq.values()))\n",
    "\n",
    "        if distinct_freq == 1:\n",
    "            return True\n",
    "\n",
    "        if distinct_freq > 2:\n",
    "            return False\n",
    "\n",
    "        max_freq = max(freq.values())\n",
    "        min_freq = min(freq.values())\n",
    "        max_freq_chars = sum(1 for f in freq.values() if f == max_freq)\n",
    "        min_freq_chars = sum(1 for f in freq.values() if f == min_freq)\n",
    "\n",
    "        if max_freq_chars == 1 and max_freq - min_freq == 1:\n",
    "            return True\n",
    "        \n",
    "        if min_freq_chars == 1 and min_freq == 1:\n",
    "            return True\n",
    "\n",
    "        return False"
   ]
  }
 ],
 "metadata": {
  "kernelspec": {
   "display_name": "base",
   "language": "python",
   "name": "python3"
  },
  "language_info": {
   "codemirror_mode": {
    "name": "ipython",
    "version": 3
   },
   "file_extension": ".py",
   "mimetype": "text/x-python",
   "name": "python",
   "nbconvert_exporter": "python",
   "pygments_lexer": "ipython3",
   "version": "3.9.16"
  }
 },
 "nbformat": 4,
 "nbformat_minor": 2
}
