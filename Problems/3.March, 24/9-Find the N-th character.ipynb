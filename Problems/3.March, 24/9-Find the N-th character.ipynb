{
 "cells": [
  {
   "cell_type": "markdown",
   "metadata": {},
   "source": [
    "Given a binary string **s**. Perform **r** iterations on string s, where in each iteration **0** becomes **01** and **1** becomes **10**. Find the **nth** character (considering **0 based** indexing) of the string after performing these r iterations (see examples for better understanding).\n",
    "\n",
    "<br>\n",
    "\n",
    "**Example 1:**\n",
    ">**Input:**<br>\n",
    ">s = \"1100\"<br>\n",
    ">r = 2<br>\n",
    ">n = 3<br>\n",
    ">**Output:**<br>\n",
    ">1<br>\n",
    ">**Explanation:** <br>\n",
    ">After 1st iteration s becomes \"10100101\".<br>\n",
    ">After 2nd iteration s becomes \"1001100101100110\".<br>\n",
    ">Now, we can clearly see that the character at 3rd index is 1, and so the output.\n",
    "\n",
    "\n",
    "**Example 2:**\n",
    ">**Input:**<br>\n",
    ">s = \"1010\"<br>\n",
    ">r = 1<br>\n",
    ">n = 2<br>\n",
    ">**Output:**<br>\n",
    ">0<br>\n",
    ">**Explanation:**<br>\n",
    ">After 1st iteration s becomes \"10011001\".<br>\n",
    ">Now, we can clearly see that the character at 2nd index is 0, and so the output.\n",
    "\n",
    "<br>\n",
    "\n",
    "**Your task:**<br>\n",
    "You don't need to read input or print anything. Your task is to complete the function **nthCharacter()** which takes the string **s** and integers **r** and **n** as input parameters and returns the n-th character of the string after performing r operations on s.\n",
    " \n",
    "**Expected Time Complexity:** O(r*|s|)<br>\n",
    "**Expected Auxilary Space:** O(|s|)\n",
    " \n",
    "**Constraints:**\n",
    "- >1 ≤ |s| ≤ 10<sup>3</sup>\n",
    "- >1 ≤ r ≤ 20\n",
    "- >0 ≤ n < |s|"
   ]
  },
  {
   "cell_type": "code",
   "execution_count": 1,
   "metadata": {},
   "outputs": [],
   "source": [
    "class Solution:\n",
    "    def nthCharacter(self, s, r, n):\n",
    "        # code here  \n",
    "        def findChar(level, index):\n",
    "            if level == 0:\n",
    "                return s[index]\n",
    "            \n",
    "            char = findChar(level - 1, index // 2)\n",
    "            seq = \"01\" if char == \"0\" else \"10\"\n",
    "            \n",
    "            return seq[0] if index % 2 == 0 else seq[1]\n",
    "        \n",
    "        \n",
    "        return findChar(r, n)"
   ]
  }
 ],
 "metadata": {
  "kernelspec": {
   "display_name": "base",
   "language": "python",
   "name": "python3"
  },
  "language_info": {
   "codemirror_mode": {
    "name": "ipython",
    "version": 3
   },
   "file_extension": ".py",
   "mimetype": "text/x-python",
   "name": "python",
   "nbconvert_exporter": "python",
   "pygments_lexer": "ipython3",
   "version": "3.9.16"
  }
 },
 "nbformat": 4,
 "nbformat_minor": 2
}
