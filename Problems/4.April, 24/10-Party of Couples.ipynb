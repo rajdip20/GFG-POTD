{
 "cells": [
  {
   "cell_type": "markdown",
   "metadata": {},
   "source": [
    "You are given an integer array **arr[]** of size **n**, representing n number of people in a party, each person is denoted by an integer. Couples are represented by the **same number** ie: **two** people have the **same integer value**, it means they are a **couple**. Find out the **only single person** in the party of couples.\n",
    "\n",
    "**NOTE:** It is guarantee that there exist only one single person in the party.\n",
    "\n",
    "<br>\n",
    "\n",
    "**Example 1:**\n",
    ">**Input:** <br>\n",
    ">n = 5<br>\n",
    ">arr = {1, 2, 3, 2, 1}<br>\n",
    ">**Output:** <br>\n",
    ">3<br>\n",
    ">**Explaination:** Only the number 3 is single.\n",
    "\n",
    "**Example 2:**\n",
    ">**Input:** <br>\n",
    ">n = 11 <br>\n",
    ">arr = {1, 2, 3, 5, 3, 2, 1, 4, 5, 6, 6} <br>\n",
    ">**Output:** <br>\n",
    ">4 <br>\n",
    ">**Explaination:** 4 is the only single.\n",
    "\n",
    "<br>\n",
    "\n",
    "**Your Task:**<br>\n",
    "You do not need to read input or print anything. Your task is to complete the function **findSingle()** which takes the size of the array **n** and the array **arr[]** as input parameters and returns the only single person.\n",
    "\n",
    "**Expected Time Complexity:** O(n)<br>\n",
    "**Expected Auxiliary Space:** O(1)\n",
    "\n",
    "**Constraints:**\n",
    "- >1 ≤ n ≤ 10<sup>4</sup>\n",
    "- >1 ≤ arr[i] ≤ 10<sup>6</sup>"
   ]
  },
  {
   "cell_type": "code",
   "execution_count": 1,
   "metadata": {},
   "outputs": [],
   "source": [
    "class Solution:\n",
    "    def findSingle(self, n, arr):\n",
    "        # code here\n",
    "        result = 0\n",
    "        \n",
    "        for i in range(n):\n",
    "            result = result ^ arr[i]\n",
    "\n",
    "        return result"
   ]
  }
 ],
 "metadata": {
  "kernelspec": {
   "display_name": "base",
   "language": "python",
   "name": "python3"
  },
  "language_info": {
   "codemirror_mode": {
    "name": "ipython",
    "version": 3
   },
   "file_extension": ".py",
   "mimetype": "text/x-python",
   "name": "python",
   "nbconvert_exporter": "python",
   "pygments_lexer": "ipython3",
   "version": "3.9.16"
  }
 },
 "nbformat": 4,
 "nbformat_minor": 2
}
