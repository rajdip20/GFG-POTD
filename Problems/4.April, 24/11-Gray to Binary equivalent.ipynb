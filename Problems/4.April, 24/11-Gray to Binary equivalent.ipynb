{
 "cells": [
  {
   "cell_type": "markdown",
   "metadata": {},
   "source": [
    "Given an integer number **n**, which is a decimal representation of [**Gray Code**](https://www.geeksforgeeks.org/what-is-gray-code/). Find the **binary equivalent** of the Gray Code & return the **decimal representation** of the **binary equivalent**.\n",
    "\n",
    "![binary to gray](../../images/ScreenShot2021-08-27at10-1630039200.png)\n",
    "<br>\n",
    "\n",
    "**Note:** Please visit [**here**](https://docs.google.com/document/d/1JvuMcN8XXUP_bOiZmVvbNskWu4K2ieA0aoCJWAEexEM/edit?usp=sharing) to learn How Gray Code is generated.\n",
    "\n",
    "<br>\n",
    "\n",
    "**Example 1:**\n",
    ">**Input:** <br>\n",
    ">n = 4<br>\n",
    ">**Output:** <br>\n",
    ">7<br>\n",
    ">**Explanation:**<br>\n",
    ">Given 4, its gray code =  110.<br>\n",
    ">Binary equivalent of the gray code 110 is 100.<br>\n",
    ">Return 7 representing gray code 100.\n",
    "\n",
    "**Example 2:**\n",
    ">**Input:** <br>\n",
    ">n = 15<br>\n",
    ">**Output:** <br>\n",
    ">10<br>\n",
    ">**Explanation:**<br>\n",
    ">Given 15 representing gray code 1000.<br>\n",
    ">Binary equivalent of gray code 1000 is 1111.<br>\n",
    ">Return 10 representing gray code 1111 ie binary 1010.\n",
    "\n",
    "<br>\n",
    "\n",
    "**Your Task:**<br>\n",
    "You don't need to read input or print anything. Your task is to complete the function grayToBinary() which accepts an integer n as an input parameter and returns decimal representation of the binary equivalent of the given gray code.\n",
    "\n",
    "**Expected Time Complexity:** O(log (n)).<br>\n",
    "**Expected Auxiliary Space:** O(1).\n",
    "\n",
    "**Constraints:**\n",
    "- >0 <= n <= 10<sup>8</sup>"
   ]
  },
  {
   "cell_type": "code",
   "execution_count": 1,
   "metadata": {},
   "outputs": [],
   "source": [
    "class Solution:    \n",
    "    ## Complete this function\n",
    "    # function to convert a given Gray equivalent n to Binary equivalent.\n",
    "    def grayToBinary(self, n):\n",
    "        ## Your code here\n",
    "        result = n\n",
    "    \n",
    "        while n > 0:\n",
    "            n = n >> 1\n",
    "            result = result ^ n\n",
    "        \n",
    "        return result"
   ]
  }
 ],
 "metadata": {
  "kernelspec": {
   "display_name": "base",
   "language": "python",
   "name": "python3"
  },
  "language_info": {
   "codemirror_mode": {
    "name": "ipython",
    "version": 3
   },
   "file_extension": ".py",
   "mimetype": "text/x-python",
   "name": "python",
   "nbconvert_exporter": "python",
   "pygments_lexer": "ipython3",
   "version": "3.9.16"
  }
 },
 "nbformat": 4,
 "nbformat_minor": 2
}
