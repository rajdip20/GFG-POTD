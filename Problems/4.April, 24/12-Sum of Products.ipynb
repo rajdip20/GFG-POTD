{
 "cells": [
  {
   "cell_type": "markdown",
   "metadata": {},
   "source": [
    "Given an array **arr[]** of size **n**. Calculate the **sum of Bitwise ANDs** ie: calculate sum of ***arr[i] & arr[j]*** for **all the pairs** in the given array **arr[]** where **i < j**.\n",
    "\n",
    "<br>\n",
    "\n",
    "**Example 1:**\n",
    ">**Input:**<br>\n",
    ">n = 3<br>\n",
    ">arr = {5, 10, 15}<br>\n",
    ">**Output:**<br>\n",
    ">15<br>\n",
    ">**Explanation:**<br>\n",
    ">The bitwise Ands of all pairs where i<j are (5&10) = 0, (5&15) = 5 and (10&15) = 10.<br>\n",
    ">Therefore, the total sum = (0+5+10) = 15.\n",
    "\n",
    "**Example 2:**\n",
    ">**Input:**<br>\n",
    ">n = 4<br>\n",
    ">arr = {10, 20, 30, 40}<br>\n",
    ">**Output:**<br>\n",
    ">46<br>\n",
    ">**Explanation:**<br>\n",
    ">The sum of bitwise Ands of all pairs = (0+10+8+20+0+8) = 46.\n",
    "\n",
    "<br>\n",
    "\n",
    "**Your Task:**<br>\n",
    "You don't need to read input or print anything.Your Task is to complete the function **pairAndSum()** which takes an Integer **n** and an array **arr[]** of size **n** as input parameters and **returns** the **sum** of **bitwise Ands** of **all pairs**.\n",
    "\n",
    "**Expected Time Complexity:** O(n)<br>\n",
    "**Expected Auxillary Space:** O(1)\n",
    "\n",
    "**Constraints:**\n",
    "- >1 <= n <= 10<sup>5</sup>\n",
    "- >1 <= arr[i] <= 10<sup>8</sup>"
   ]
  },
  {
   "cell_type": "code",
   "execution_count": 1,
   "metadata": {},
   "outputs": [],
   "source": [
    "class Solution:\n",
    "    def pairAndSum(self, n, arr):\n",
    "        # code here\n",
    "        sum = 0\n",
    "        \n",
    "        for i in range(32):\n",
    "            count = 0\n",
    "\n",
    "            for j in arr:\n",
    "                if j & (1 << i):\n",
    "                    count += 1\n",
    "            sum += count * (count - 1) // 2 * (1 << i)\n",
    "        \n",
    "        return sum"
   ]
  }
 ],
 "metadata": {
  "kernelspec": {
   "display_name": "base",
   "language": "python",
   "name": "python3"
  },
  "language_info": {
   "codemirror_mode": {
    "name": "ipython",
    "version": 3
   },
   "file_extension": ".py",
   "mimetype": "text/x-python",
   "name": "python",
   "nbconvert_exporter": "python",
   "pygments_lexer": "ipython3",
   "version": "3.9.16"
  }
 },
 "nbformat": 4,
 "nbformat_minor": 2
}
