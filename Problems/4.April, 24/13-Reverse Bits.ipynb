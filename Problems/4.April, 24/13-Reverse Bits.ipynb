{
 "cells": [
  {
   "cell_type": "markdown",
   "metadata": {},
   "source": [
    "Given a **number x, reverse** its binary form and return the answer in **decimal**.\n",
    "\n",
    "<br>\n",
    "\n",
    "**Example 1:**\n",
    ">**Input:**<br>\n",
    ">x = 1<br>\n",
    ">**Output:**<br>\n",
    ">2147483648 <br>\n",
    ">**Explanation:**<br>\n",
    ">Binary of 1 in 32 bits representation-<br>\n",
    ">00000000000000000000000000000001<br>\n",
    ">Reversing the binary form we get, <br>\n",
    ">10000000000000000000000000000000,<br>\n",
    ">whose decimal value is 2147483648.\n",
    "\n",
    "**Example 2:**\n",
    ">**Input:**<br>\n",
    ">x = 5<br>\n",
    ">**Output:**<br>\n",
    ">2684354560 <br>\n",
    ">**Explanation:**<br>\n",
    ">Binary of 5 in 32 bits representation-<br>\n",
    ">00000000000000000000000000000101<br>\n",
    ">Reversing the binary form we get, <br>\n",
    ">10100000000000000000000000000000,<br>\n",
    ">whose decimal value is 2684354560.\n",
    "\n",
    "<br>\n",
    "\n",
    "**Your Task:**<br>\n",
    "You don't need to read input or print anything. Your task is to complete the function **reversedBits()** which takes an Integer **x** as input and returns the reverse binary form of **x** in decimal form.\n",
    "\n",
    "**Expected Time Complexity:** O(log (x))<br>\n",
    "**Expected Auxiliary Space:** O(1)\n",
    "\n",
    "**Constraints:**\n",
    "- >0 <= x < 2<sup>32</sup>"
   ]
  },
  {
   "cell_type": "code",
   "execution_count": 1,
   "metadata": {},
   "outputs": [],
   "source": [
    "class Solution:\n",
    "    def reversedBits(self, x):\n",
    "        # code here\n",
    "        binary_x = bin(x)[2:]\n",
    "        padded_binary_x = binary_x.zfill(32)\n",
    "        reversed_binary_x = padded_binary_x[::-1]\n",
    "        decimal_result = int(reversed_binary_x, 2)\n",
    "\n",
    "        return decimal_result"
   ]
  }
 ],
 "metadata": {
  "kernelspec": {
   "display_name": "base",
   "language": "python",
   "name": "python3"
  },
  "language_info": {
   "codemirror_mode": {
    "name": "ipython",
    "version": 3
   },
   "file_extension": ".py",
   "mimetype": "text/x-python",
   "name": "python",
   "nbconvert_exporter": "python",
   "pygments_lexer": "ipython3",
   "version": "3.9.16"
  }
 },
 "nbformat": 4,
 "nbformat_minor": 2
}
