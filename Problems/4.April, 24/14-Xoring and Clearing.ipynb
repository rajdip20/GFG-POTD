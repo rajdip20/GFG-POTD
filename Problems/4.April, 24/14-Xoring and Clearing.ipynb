{
 "cells": [
  {
   "cell_type": "markdown",
   "metadata": {},
   "source": [
    "You are given an array **arr[]** of **size n**. You need to do the following:\n",
    "1. You need to calculate the **bitwise XOR** of each element in the array with its **corresponding index** (indices start from 0).\n",
    "2. After step1, **print the array**.\n",
    "3. Now, **set all the elements of arr[] to zero**.\n",
    "4. Now, **print arr[]**.\n",
    "\n",
    "<br>\n",
    "\n",
    "**Example 1:**\n",
    ">**Input:**<br>\n",
    ">n = 10<br>\n",
    ">arr[] = {1, 2, 3, 4, 5, 6, 7, 8, 9, 10}<br>\n",
    ">**Output:**<br>\n",
    ">1 3 1 7 1 3 1 15 1 3<br>\n",
    ">0 0 0 0 0 0 0 0 0 0<br>\n",
    ">**Explanation:**<br>\n",
    ">First we take xor of every element with their indices, like (1xor0), (2xor1), (3xor2), (4xor3) and so on.<br>\n",
    ">Now print the resultant array<br>\n",
    ">Now set all the elements of array to zero<br>\n",
    ">Now print the resultant array\n",
    "\n",
    "**Example 2:**\n",
    ">**Input:**<br>\n",
    ">n = 4<br>\n",
    ">arr[] = {10, 20, 30, 40}<br>\n",
    ">**Output:**<br>\n",
    ">10 21 28 43<br>\n",
    ">0 0 0 0<br>\n",
    ">**Explanation:**<br>\n",
    ">First we take xor of every element with their indices, like (1xor0), (2xor1), (3xor2).<br>\n",
    ">Now print the resultant array<br>\n",
    ">Now set all the elements of array to zero<br>\n",
    ">Now print the resultant array\n",
    "\n",
    "<br>\n",
    "\n",
    "**Your Task:**<br>\n",
    "Since this is a function problem, you don't need to take any input. Just complete the provided functions. In a new line, print the **output**.\n",
    "\n",
    "**Expected Time Complexity:** O(n)<br>\n",
    "**Expected Auxiliary Space:** O(1)\n",
    "\n",
    "**Constraints:**\n",
    "- >1 <= n <= 1000\n",
    "- >1 <= arr[i] <= 1000"
   ]
  },
  {
   "cell_type": "code",
   "execution_count": 1,
   "metadata": {},
   "outputs": [],
   "source": [
    "class Solution:\n",
    "    def printArr(self, n, arr):\n",
    "        # printing array elements with spaces\n",
    "        for i in range(n):\n",
    "            print(arr[i],end=\" \")\n",
    "        \n",
    "        print()\n",
    "        \n",
    "\n",
    "    def setToZero(self, n, arr):\n",
    "        # setting all elements to zero\n",
    "        for i in range(n):\n",
    "            arr[i]=0\n",
    "\n",
    "\n",
    "    def xor1ToN(self, n, arr):\n",
    "        # doing xor with indices\n",
    "        for i in range(n):\n",
    "            arr[i] ^= i"
   ]
  }
 ],
 "metadata": {
  "kernelspec": {
   "display_name": "base",
   "language": "python",
   "name": "python3"
  },
  "language_info": {
   "codemirror_mode": {
    "name": "ipython",
    "version": 3
   },
   "file_extension": ".py",
   "mimetype": "text/x-python",
   "name": "python",
   "nbconvert_exporter": "python",
   "pygments_lexer": "ipython3",
   "version": "3.9.16"
  }
 },
 "nbformat": 4,
 "nbformat_minor": 2
}
