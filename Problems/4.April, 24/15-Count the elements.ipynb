{
 "cells": [
  {
   "cell_type": "markdown",
   "metadata": {},
   "source": [
    "Given two arrays **a** and **b** both of size **n**. Given **q** queries in an array **query** each having a positive integer **x** denoting an index of the array **a**. For each query, your task is to find all the elements **less than or equal** to **a[x]** in the array **b**.\n",
    "\n",
    "<br>\n",
    "\n",
    "**Example 1:**\n",
    ">**Input:**<br>\n",
    ">n = 3<br>\n",
    ">a[] = {4,1,2}<br>\n",
    ">b[] = {1,7,3}<br>\n",
    ">q = 2<br>\n",
    ">query[] = {0,1}<br>\n",
    ">**Output :** <br>\n",
    ">2<br>\n",
    ">1<br>\n",
    ">**Explanation:** <br>\n",
    ">For 1<sup>st</sup> query, the given index is 0, a[0] = 4. There are 2 elements(1 and 3) which are less than or equal to 4.<br>\n",
    ">For 2<sup>nd</sup> query, the given index is 1, a[1] = 1. There exists only 1 element(1) which is less than or equal to 1.\n",
    "\n",
    "**Example 2:**\n",
    ">**Input:**<br>\n",
    ">n = 4<br>\n",
    ">a[] = {1,1,5,5}<br>\n",
    ">b[] = {0,1,2,3}<br>\n",
    ">q = 4<br>\n",
    ">query[] = {0,1,2,3}<br>\n",
    ">**Output :** <br>\n",
    ">2<br>\n",
    ">2<br>\n",
    ">4<br>\n",
    ">4<br>\n",
    "Explanation: <br>\n",
    "For 1<sup>st</sup> query and 2<sup>nd</sup> query, the given index is 0 and 1 respectively, a[0] = a[1] = 1. There are 2 elements(0 and 1) which are less than or equal to 1. <br>\n",
    "For 3<sup>rd</sup> query and 4<sup>th</sup> query, the given index is 2 and 3 respectively, a[2] = a[3] = 5. All the 4 elements are less than or equal to 5.   \n",
    "\n",
    "<br>\n",
    "\n",
    "**Your Task:**<br>\n",
    "You don't need to take any input, as it is already accomplished by the driver code. You just need to complete the function **countElements()** that takes array **a** and **b** of size **n**, and array **query** of size **q** as parameters and returns an array that contains the answer to the corresponding queries. \n",
    "\n",
    "**Expected Time Complexity:** O(n+q+maximum of a and b).<br>\n",
    "**Expected Auxiliary Space:** O(maximum of a and b).\n",
    "\n",
    "**Constraints:**\n",
    "- >1 ≤ q ≤ n ≤ 10<sup>5</sup>\n",
    "- >1 ≤ a[i], b[i] ≤ 10<sup>5</sup>\n",
    "- >0 ≤ query[i] < n"
   ]
  },
  {
   "cell_type": "code",
   "execution_count": 1,
   "metadata": {},
   "outputs": [],
   "source": [
    "class Solution:\n",
    "    def countElements(self, a, b, n, query, q):\n",
    "        # code here\n",
    "        cumulative_count = [0] * (max(max(a), max(b)) + 1)\n",
    "    \n",
    "        for num in b:\n",
    "            cumulative_count[num] += 1\n",
    "        \n",
    "        for i in range(1, len(cumulative_count)):\n",
    "            cumulative_count[i] += cumulative_count[i - 1]\n",
    "        \n",
    "        result = []\n",
    "        \n",
    "        for idx in query:\n",
    "            value_a = a[idx]\n",
    "            count = cumulative_count[value_a]\n",
    "            result.append(count)\n",
    "        \n",
    "        return result"
   ]
  }
 ],
 "metadata": {
  "kernelspec": {
   "display_name": "base",
   "language": "python",
   "name": "python3"
  },
  "language_info": {
   "codemirror_mode": {
    "name": "ipython",
    "version": 3
   },
   "file_extension": ".py",
   "mimetype": "text/x-python",
   "name": "python",
   "nbconvert_exporter": "python",
   "pygments_lexer": "ipython3",
   "version": "3.9.16"
  }
 },
 "nbformat": 4,
 "nbformat_minor": 2
}
