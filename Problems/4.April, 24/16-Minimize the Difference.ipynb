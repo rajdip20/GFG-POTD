{
 "cells": [
  {
   "cell_type": "markdown",
   "metadata": {},
   "source": [
    "You are given an array **arr** of size **n**. You have to remove a **subarray** of size **k** , such that the difference between the maximum and minimum values of the **remaining array** is **minimized**.<br>\n",
    "Find the **minimum** value obtained after performing the operation of the removal of the subarray and return it.\n",
    "\n",
    "<br>\n",
    "\n",
    "**Example 1:**\n",
    ">**Input:**<br>\n",
    ">n = 5<br>\n",
    ">k = 3<br>\n",
    ">arr = {1, 2, 3, 4, 5}<br>\n",
    ">**Output:** <br>\n",
    ">1<br>\n",
    ">**Explanation:** <br>\n",
    ">We can remove first subarray of length 3(i.e. {1, 2, 3}) then remaining array will be {4,5} and the difference of maximum and minimum element will be 1 i.e 5 - 4 = 1\n",
    "\n",
    "**Example 2:**\n",
    ">**Input:**<br>\n",
    ">n = 6<br>\n",
    ">k = 3<br>\n",
    ">arr = {2, 3, 1, 4, 6, 7}<br>\n",
    ">**Output:** <br>\n",
    ">2<br>\n",
    ">**Explanation:**<br>\n",
    ">If we remove the subarray {2,3,1} then remaining array will be {4,6,7} and the difference  = 7-4 = 3<br>\n",
    ">If we remove the subarray {3,1,4} then remaining array will be {2,6,7} and the difference  = 7-2 = 5<br>\n",
    ">If we remove the subarray {1,4,6} then remaining array will be {2,3,7} and the difference  = 7-2 = 5<br>\n",
    ">If we remove the subarray {4,6,7} then remaining array will be {2,3,1} and the difference  = 3-1 = 2<br>\n",
    ">So the answer will be min(3,5,5,2) = 2\n",
    "\n",
    "<br>\n",
    "\n",
    "**Your Task:** <br>\n",
    "You have to complete the function **minimizeDifference()**, which takes two integers **n** and **k** and an integer array **arr** of size n. You have to return the **minimum difference** of maximum and minimum elements of the remaining array after removing one k length subarray of it.\n",
    "\n",
    "**Expected Time Complexity:** O(n)<br>\n",
    "**Expected Auxiliary Space:** O(n)\n",
    "\n",
    "**Constraints:**\n",
    "- >2 <= n <= 10<sup>5</sup>\n",
    "- >1 <= k <= n-1\n",
    "- >0 <= arr[i] <= 10<sup>9</sup>"
   ]
  },
  {
   "cell_type": "code",
   "execution_count": 1,
   "metadata": {},
   "outputs": [],
   "source": [
    "class Solution:\n",
    "    def minimizeDifference(self, n : int, k : int, arr : list[int]) -> int:\n",
    "        # code here\n",
    "        ans = float('inf')\n",
    "        maxi_l, mini_l, maxi_r, mini_r = [0] * n, [0] * n, [0] * n, [0] * n\n",
    "        maxi_l[0] = mini_l[0] = arr[0]\n",
    "        maxi_r[n - 1] = mini_r[n - 1] = arr[n - 1]\n",
    "        \n",
    "        for i in range(1, n - 1):\n",
    "            j = n - i - 1\n",
    "            maxi_l[i] = max(arr[i], maxi_l[i - 1])\n",
    "            mini_l[i] = min(arr[i], mini_l[i - 1])\n",
    "            maxi_r[j] = max(arr[j], maxi_r[j + 1])\n",
    "            mini_r[j] = min(arr[j], mini_r[j + 1])\n",
    "        \n",
    "        for i in range(k - 1, n):\n",
    "            j = i - k + 1\n",
    "            a = maxi_l[j - 1] if j > 0 else float('-inf')\n",
    "            b = maxi_r[i + 1] if i < n - 1 else float('-inf')\n",
    "            c = mini_l[j - 1] if j > 0 else float('inf')\n",
    "            d = mini_r[i + 1] if i < n - 1 else float('inf')\n",
    "            ans = min(ans, max(a, b) - min(c, d))\n",
    "        \n",
    "        return ans"
   ]
  }
 ],
 "metadata": {
  "kernelspec": {
   "display_name": "base",
   "language": "python",
   "name": "python3"
  },
  "language_info": {
   "codemirror_mode": {
    "name": "ipython",
    "version": 3
   },
   "file_extension": ".py",
   "mimetype": "text/x-python",
   "name": "python",
   "nbconvert_exporter": "python",
   "pygments_lexer": "ipython3",
   "version": "3.9.16"
  }
 },
 "nbformat": 4,
 "nbformat_minor": 2
}
