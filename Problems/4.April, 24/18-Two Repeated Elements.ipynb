{
 "cells": [
  {
   "cell_type": "markdown",
   "metadata": {},
   "source": [
    "You are given an integer **n** and an integer array **arr** of size **n+2**. All elements of the array are in the range from **1** to **n**. Also, all elements occur once except two numbers which occur twice. Find the two repeating numbers.<br>\n",
    "**Note:** Return the numbers in their order of appearing twice. So, if **X** and **Y** are the repeating numbers, and **X**'s second appearance comes before second appearance of **Y**, then the order should be **(X, Y)**.\n",
    "\n",
    "<br>\n",
    "\n",
    "**Example 1:**\n",
    ">**Input:**<br>\n",
    ">n = 4<br>\n",
    ">arr[] = {1,2,1,3,4,3}<br>\n",
    ">**Output:** <br>\n",
    ">1 3<br>\n",
    ">**Explanation:** <br>\n",
    "In the given array, 1 and 3 are repeated two times and as 1's second appearance occurs before 2's second appearance, so the output should be 1 3.\n",
    "\n",
    "**Example 2:**\n",
    ">**Input:**<br>\n",
    ">n = 2<br>\n",
    ">arr[] = {1,2,2,1}<br>\n",
    ">**Output:** <br>\n",
    ">2 1<br>\n",
    ">**Explanation:** <br>\n",
    "In the given array, 1 and 2 are repeated two times and second occurence of 2 comes before 1. So the output is 2 1.\n",
    "\n",
    "<br>\n",
    "\n",
    "**Your Task:**<br>\n",
    "The task is to complete the function **repeatedElements()** which takes an integer array **arr[]** and an integer **n** as inputs (the size of the array is **n + 2** and elements are in the range **[1, n]**) and finds the two repeated elements in the array and return them in an array.\n",
    "\n",
    "**Expected Time Complexity:** O(n).<br>\n",
    "**Expected Auxiliary Space:** O(1). \n",
    "\n",
    "**Constraints:**\n",
    "- >2 ≤ n ≤ 10<sup>5</sup>\n",
    "- >1 ≤ arr[i] ≤ n"
   ]
  },
  {
   "cell_type": "code",
   "execution_count": 1,
   "metadata": {},
   "outputs": [],
   "source": [
    "class Solution:\n",
    "    # Function to find two repeated elements.\n",
    "    def twoRepeated(self, arr, n):\n",
    "        # Your code here\n",
    "        seen = {}\n",
    "        result = []\n",
    "\n",
    "        for num in arr:\n",
    "            if num in seen:\n",
    "                if seen[num] == 1:\n",
    "                    result.append(num)\n",
    "                seen[num] += 1\n",
    "            else:\n",
    "                seen[num] = 1\n",
    "        \n",
    "        return result"
   ]
  }
 ],
 "metadata": {
  "kernelspec": {
   "display_name": "base",
   "language": "python",
   "name": "python3"
  },
  "language_info": {
   "codemirror_mode": {
    "name": "ipython",
    "version": 3
   },
   "file_extension": ".py",
   "mimetype": "text/x-python",
   "name": "python",
   "nbconvert_exporter": "python",
   "pygments_lexer": "ipython3",
   "version": "3.9.16"
  }
 },
 "nbformat": 4,
 "nbformat_minor": 2
}
