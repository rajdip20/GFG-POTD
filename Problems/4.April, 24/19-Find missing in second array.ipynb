{
 "cells": [
  {
   "cell_type": "markdown",
   "metadata": {},
   "source": [
    "Given two integer arrays **a** of size **n** and **b** of size **m**, the task is to find the numbers which are present in the first array **a**, but not present in the second array **b**.\n",
    "\n",
    "<br>\n",
    "\n",
    "**Example 1:**\n",
    ">**Input:** <br>\n",
    ">n = 6, m = 5<br>\n",
    ">a[] = {1, 2, 3, 4, 5, 10}<br>\n",
    ">b[] = {2, 3, 1, 0, 5}<br>\n",
    ">**Output:** <br>\n",
    ">4 10<br>\n",
    ">**Explanation:** <br>\n",
    ">4 and 10 are present in first array, but not in second array.\n",
    "\n",
    "**Example 2:**\n",
    ">**Input:** <br>\n",
    ">n = 5, m = 5<br>\n",
    ">a[] = {4, 3, 5, 9, 11}<br>\n",
    ">b[] = {4, 9, 3, 11, 10}<br>\n",
    ">**Output:** <br>\n",
    ">5  <br>\n",
    ">**Explanation:** <br>\n",
    ">Second array does not contain element 5.\n",
    "\n",
    "<br>\n",
    "\n",
    "**Your Task:**<br>\n",
    "You don't need to take any input, as it is already accomplished by the driver code. You just need to complete the function **findMissing()** that takes an integer array **a**, an integer array **b**, an integer **n**, and an integer **m** as input parameters and returns an array that contains the missing elements and the order of the elements should be the same as they are in array **a**.\n",
    "\n",
    "**Expected Time Complexity:** O(n+m).<br>\n",
    "**Expected Auxiliary Space:** O(m).\n",
    "\n",
    "**Constraints:**\n",
    "- >1 ≤ n, m ≤ 10<sup>5</sup>\n",
    "- >-10<sup>9</sup> ≤ A[i], B[i] ≤ 10<sup>9</sup>"
   ]
  },
  {
   "cell_type": "code",
   "execution_count": 1,
   "metadata": {},
   "outputs": [],
   "source": [
    "class Solution:\n",
    "    def findMissing(self, a, b, n, m):\n",
    "        # code here\n",
    "        b_set = set(b)\n",
    "        \n",
    "        missing_elements = []\n",
    "        \n",
    "        for num in a:\n",
    "            if num not in b_set:\n",
    "                missing_elements.append(num)\n",
    "        \n",
    "        return missing_elements"
   ]
  }
 ],
 "metadata": {
  "kernelspec": {
   "display_name": "base",
   "language": "python",
   "name": "python3"
  },
  "language_info": {
   "codemirror_mode": {
    "name": "ipython",
    "version": 3
   },
   "file_extension": ".py",
   "mimetype": "text/x-python",
   "name": "python",
   "nbconvert_exporter": "python",
   "pygments_lexer": "ipython3",
   "version": "3.9.16"
  }
 },
 "nbformat": 4,
 "nbformat_minor": 2
}
