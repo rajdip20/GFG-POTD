{
 "cells": [
  {
   "cell_type": "markdown",
   "metadata": {},
   "source": [
    "Given two sorted arrays of size **n** and **m** respectively, find their union. The Union of two arrays can be defined as the **common** and **distinct** elements in the two arrays. \n",
    "\n",
    "<br>\n",
    "\n",
    "**Example 1:**\n",
    ">**Input:** <br>\n",
    ">n = 5, arr1[] = {1, 2, 3, 4, 5}  <br>\n",
    ">m = 5, arr2 [] = {1, 2, 3, 6, 7}<br>\n",
    ">**Output:** <br>\n",
    ">1 2 3 4 5 6 7<br>\n",
    ">**Explanation:** <br>\n",
    ">Distinct elements including both the arrays are: 1 2 3 4 5 6 7.\n",
    "\n",
    "**Example 2:**\n",
    ">**Input:** <br>\n",
    ">n = 5, arr1[] = {2, 2, 3, 4, 5}  <br>\n",
    ">m = 5, arr2[] = {1, 1, 2, 3, 4}<br>\n",
    ">**Output:** <br>\n",
    ">1 2 3 4 5<br>\n",
    ">**Explanation:** <br>\n",
    ">Distinct elements including both the arrays are: 1 2 3 4 5.\n",
    "\n",
    "**Example 3:**\n",
    ">**Input:**<br>\n",
    ">n = 5, arr1[] = {1, 1, 1, 1, 1}<br>\n",
    ">m = 5, arr2[] = {2, 2, 2, 2, 2}<br>\n",
    ">**Output:** <br>\n",
    ">1 2<br>\n",
    ">**Explanation:** <br>\n",
    ">Distinct elements including both the arrays are: 1 2.\n",
    "\n",
    "<br>\n",
    "\n",
    "**Your Task:** <br>\n",
    "You do not need to read input or print anything. Complete the function **findUnion()** that takes two arrays **arr1[]**, **arr2[]**, and their size **n** and **m** as input parameters and returns a list containing the **union of the two arrays**.\n",
    "\n",
    "**Expected Time Complexity:** O(n+m).<br>\n",
    "**Expected Auxiliary Space:** O(n+m).\n",
    "\n",
    "**Constraints:**\n",
    "- >1 <= n, m <= 10<sup>5</sup>\n",
    "- >-10<sup>9</sup> <= arr1[i], arr2[i] <= 10<sup>9</sup>"
   ]
  },
  {
   "cell_type": "code",
   "execution_count": 1,
   "metadata": {},
   "outputs": [],
   "source": [
    "class Solution:\n",
    "    # Function to return a list containing the union of the two arrays.\n",
    "    def findUnion(self, arr1, arr2, n, m):\n",
    "        '''\n",
    "        :param a: given sorted array a\n",
    "        :param n: size of sorted array a\n",
    "        :param b: given sorted array b\n",
    "        :param m: size of sorted array b\n",
    "        :return:  The union of both arrays as a list\n",
    "        '''\n",
    "        # code here\n",
    "        r = set(arr1)\n",
    "        x = set(arr2)\n",
    "        return sorted(r.union(x))"
   ]
  }
 ],
 "metadata": {
  "kernelspec": {
   "display_name": "base",
   "language": "python",
   "name": "python3"
  },
  "language_info": {
   "codemirror_mode": {
    "name": "ipython",
    "version": 3
   },
   "file_extension": ".py",
   "mimetype": "text/x-python",
   "name": "python",
   "nbconvert_exporter": "python",
   "pygments_lexer": "ipython3",
   "version": "3.9.16"
  }
 },
 "nbformat": 4,
 "nbformat_minor": 2
}
