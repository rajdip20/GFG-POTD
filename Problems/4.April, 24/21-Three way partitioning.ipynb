{
 "cells": [
  {
   "cell_type": "markdown",
   "metadata": {},
   "source": [
    "Given an **array** of size **n** and a range **[a, b]**. The task is to partition the array around the range such that the array is divided into three parts.\n",
    "1) All elements smaller than **a** come first.\n",
    "2) All elements in range **a** to **b** come next.\n",
    "3) All elements greater than **b** appear in the end.\n",
    "\n",
    "The individual elements of three sets can appear in any order. You are required to return the modified array.\n",
    "\n",
    "**Note:** The generated output is 1 if you modify the given array successfully.\n",
    "\n",
    "**Geeky Challenge:** Solve this problem in O(n) time complexity.\n",
    "\n",
    "<br>\n",
    "\n",
    "**Example 1:**\n",
    ">**Input:** <br>\n",
    ">n = 5<br>\n",
    ">array[] = {1, 2, 3, 3, 4}<br>\n",
    ">[a, b] = [1, 2]<br>\n",
    ">**Output:** <br>\n",
    ">1<br>\n",
    ">**Explanation:** <br>\n",
    ">One possible arrangement is: {1, 2, 3, 3, 4}. If you return a valid arrangement, output will be 1.\n",
    "\n",
    "**Example 2:**\n",
    ">**Input:** <br>\n",
    ">n = 6 <br>\n",
    ">array[] = {1, 4, 3, 6, 2, 1}<br>\n",
    ">[a, b] = [1, 3]<br>\n",
    ">**Output:** <br>\n",
    ">1<br>\n",
    ">**Explanation:** <br>\n",
    ">One possible arrangement is: {1, 3, 2, 1, 4, 6}. If you return a valid arrangement, output will be 1.\n",
    "\n",
    "<br>\n",
    "\n",
    "**Your Task:**<br>\n",
    "You don't need to read input or print anything. The task is to complete the function **threeWayPartition()** which takes the array **array**, **a**, and **b** as input parameters and modifies the array in place according to the given conditions.\n",
    "\n",
    "**Expected Time Complexity:** O(n)<br>\n",
    "**Expected Auxiliary Space:** O(1)\n",
    "\n",
    "**Constraints:**\n",
    "- >1 <= n <= 10<sup>6</sup>\n",
    "- >1 <= array[i], a, b <= 10<sup>9</sup>"
   ]
  },
  {
   "cell_type": "code",
   "execution_count": 1,
   "metadata": {},
   "outputs": [],
   "source": [
    "class Solution:\n",
    "\t# Function to partition the array around the range such \n",
    "    # that array is divided into three parts.\n",
    "    def threeWayPartition(self, array, a, b):\n",
    "        # code here\n",
    "        n = len(array)\n",
    "        low, mid, high = 0, 0, n - 1\n",
    "\n",
    "        while mid <= high:\n",
    "            if array[mid] < a:\n",
    "                array[low], array[mid] = array[mid], array[low]\n",
    "                low += 1\n",
    "                mid += 1\n",
    "            elif array[mid] >= a and array[mid] <= b:\n",
    "                mid += 1\n",
    "            else:\n",
    "                array[mid], array[high] = array[high], array[mid]\n",
    "                high -= 1"
   ]
  }
 ],
 "metadata": {
  "kernelspec": {
   "display_name": "base",
   "language": "python",
   "name": "python3"
  },
  "language_info": {
   "codemirror_mode": {
    "name": "ipython",
    "version": 3
   },
   "file_extension": ".py",
   "mimetype": "text/x-python",
   "name": "python",
   "nbconvert_exporter": "python",
   "pygments_lexer": "ipython3",
   "version": "3.9.16"
  }
 },
 "nbformat": 4,
 "nbformat_minor": 2
}
