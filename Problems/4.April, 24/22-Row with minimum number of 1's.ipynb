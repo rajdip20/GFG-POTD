{
 "cells": [
  {
   "cell_type": "markdown",
   "metadata": {},
   "source": [
    "Given a 2D **binary matrix**(1-based indexed) **a** of dimensions **nxm** , determine the **row** that contains the **minimum number** of **1's**.\n",
    "**Note:** The matrix contains only **1's** and **0's**. Also, if two or more rows contain the **minimum number** of **1's**, the answer is the **lowest** of those **indices**.\n",
    "\n",
    "<br>\n",
    "\n",
    "**Example 1:**\n",
    ">**Input:**<br>\n",
    ">n = 4,m = 4<br>\n",
    ">a = [[1, 1, 1, 1],<br>\n",
    ">&emsp;&emsp; [1, 1, 0, 0], <br>\n",
    ">&emsp;&emsp; [0, 0, 1, 1],<br>\n",
    ">&emsp;&emsp; [1, 1, 1, 1]]<br>\n",
    ">**Output:**<br>\n",
    ">2<br>\n",
    ">**Explanation:**<br>\n",
    ">Rows 2 and 3 contain the minimum number of 1's(2 each).Since,row 2 is less than row 3.<br>\n",
    ">Thus, the answer is 2.\n",
    "\n",
    "**Example 2:**\n",
    ">**Input:**<br>\n",
    ">n = 3,m = 3<br>\n",
    ">a = [[0, 0, 0],<br>\n",
    ">&emsp;&emsp; [0, 0, 0],<br>\n",
    ">&emsp;&emsp; [0, 0, 0]]<br>\n",
    ">**Output:**<br>\n",
    ">1<br>\n",
    ">**Explanation:**<br>\n",
    ">All the rows contain the same number of 1's(0 each).Among them, index 1 is the smallest, so the answer is 1.\n",
    "\n",
    "<br>\n",
    "\n",
    "**Your Task:**<br>\n",
    "You don't need to read input or print anything. Your task is to complete the function **minRow()** which takes the two integers **n, m** as well as the **2D binary matrix a** as input parameters and returns the **minimum index** of the **row** which contains the **least number of 1's**.\n",
    "\n",
    "**Expected Time Complexity:** O(n*m)<br>\n",
    "**Expected Auxillary Space:** O(1)\n",
    "\n",
    "**Constraints:**\n",
    "- >1 <= n,m <= 1000\n",
    "- >0 <= a[i][j] <= 1"
   ]
  },
  {
   "cell_type": "code",
   "execution_count": 1,
   "metadata": {},
   "outputs": [],
   "source": [
    "class Solution:\n",
    "    def minRow(self, n, m, a):\n",
    "        # code here\n",
    "        min_count = float('inf')\n",
    "        min_row_index = -1\n",
    "        \n",
    "        for i in range(n):\n",
    "            count = sum(a[i])\n",
    "            \n",
    "            if count < min_count:\n",
    "                min_count = count\n",
    "                min_row_index = i + 1\n",
    "        \n",
    "        return min_row_index"
   ]
  }
 ],
 "metadata": {
  "kernelspec": {
   "display_name": "base",
   "language": "python",
   "name": "python3"
  },
  "language_info": {
   "codemirror_mode": {
    "name": "ipython",
    "version": 3
   },
   "file_extension": ".py",
   "mimetype": "text/x-python",
   "name": "python",
   "nbconvert_exporter": "python",
   "pygments_lexer": "ipython3",
   "version": "3.9.16"
  }
 },
 "nbformat": 4,
 "nbformat_minor": 2
}
