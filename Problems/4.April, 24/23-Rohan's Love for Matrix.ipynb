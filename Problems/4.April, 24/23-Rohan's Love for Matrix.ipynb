{
 "cells": [
  {
   "cell_type": "markdown",
   "metadata": {},
   "source": [
    "Rohan has a special love for the matrices especially for the first element of the matrix. Being good at Mathematics, he also loves to solve the different problem on the matrices. So one day he started to **multiply** the matrix with the **original matrix**. The elements of **the original matrix a** are given by **[a<sub>00</sub>=1 , a<sub>01</sub>=1, a<sub>10</sub>=1, a<sub>11</sub>=0]**.<br>\n",
    "Given the power of the matrix, **n** calculate the **a<sup>n</sup>** and return the **a<sub>10</sub>** element **mod [1000000007](http://www.mobilenumbertracker.com/MobileNumberLocation?number=1000000007&utm_source=https://www.geeksforgeeks.org/problems/rohans-love-for-matrix4723/1&utm_medium=referral&utm_campaign=chrome-plugin)**.\n",
    "\n",
    "<br>\n",
    "\n",
    "**Example 1:**\n",
    ">**Input:** <br>\n",
    ">n = 3<br>\n",
    ">**Output:** <br>\n",
    ">2 <br>\n",
    ">**Explanation:** Take the cube of the original matrix i.e **a<sup>3</sup>** and the (**a<sub>10</sub>**)<sup>th</sup> element is 2.\n",
    "\n",
    "**Example 2:**\n",
    ">**Input:** <br>\n",
    ">n = 4<br>\n",
    ">**Output:** <br>\n",
    ">3<br>\n",
    ">**Explanation:** Take the cube of the original matrix i.e **a<sup>4</sup>** and the (**a<sub>10</sub>**)<sup>th</sup> element is 3.\n",
    "\n",
    "<br>\n",
    "\n",
    "**Your Task:**<br>\n",
    "You dont need to read input or print anything. Complete the function **firstElement()** which takes **n** as input parameter and returns the **a<sub>10</sub>** element **mod 1000000007** of **a<sup>n</sup>**.\n",
    "\n",
    "**Expected Time Complexity:** O(n)<br>\n",
    "**Expected Auxiliary Space:** O(1)\n",
    "\n",
    "**Constraints:**\n",
    "- >1<= n <=10<sup>6</sup>"
   ]
  },
  {
   "cell_type": "code",
   "execution_count": 1,
   "metadata": {},
   "outputs": [],
   "source": [
    "class Solution:\n",
    "    def firstElement (self, n):\n",
    "        # code here\n",
    "        MOD = 1000000007\n",
    "        base = [[1, 1], [1, 0]]\n",
    "        result = [[1, 0], [0, 1]]\n",
    "\n",
    "        def multiply_matrix(m1, m2):\n",
    "            a, b, c, d = m1[0][0], m1[0][1], m1[1][0], m1[1][1]\n",
    "            e, f, g, h = m2[0][0], m2[0][1], m2[1][0], m2[1][1]\n",
    "            return [[(a * e + b * g) % MOD, (a * f + b * h) % MOD],\n",
    "                    [(c * e + d * g) % MOD, (c * f + d * h) % MOD]]\n",
    "\n",
    "        while n > 0:\n",
    "            if n % 2 == 1:\n",
    "                result = multiply_matrix(result, base)\n",
    "            base = multiply_matrix(base, base)\n",
    "            n //= 2\n",
    "\n",
    "        return result[1][0]"
   ]
  }
 ],
 "metadata": {
  "kernelspec": {
   "display_name": "base",
   "language": "python",
   "name": "python3"
  },
  "language_info": {
   "codemirror_mode": {
    "name": "ipython",
    "version": 3
   },
   "file_extension": ".py",
   "mimetype": "text/x-python",
   "name": "python",
   "nbconvert_exporter": "python",
   "pygments_lexer": "ipython3",
   "version": "3.9.16"
  }
 },
 "nbformat": 4,
 "nbformat_minor": 2
}
