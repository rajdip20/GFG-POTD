{
 "cells": [
  {
   "cell_type": "markdown",
   "metadata": {},
   "source": [
    "You are standing on a point **(x, y)** and you want to go to the origin **(0, 0)** by taking steps either **left** or **down** i.e. from each point you are allowed to move either in **(x-1, y) or (x, y-1)**. Find the number of **paths** from **point** to **origin**.\n",
    "\n",
    "<br>\n",
    "\n",
    "**Example 1:**\n",
    ">**Input:**<br>\n",
    ">x = 3, y = 0 <br>\n",
    ">**Output:** <br>\n",
    ">1<br>\n",
    ">**Explanation:**<br>\n",
    ">Path used was -  **(3,0)  --> ( 2,0) --> (1,0) --> (0,0)**.We can see that there is no other path than this, so we return 1.\n",
    "\n",
    "**Example 2:**\n",
    ">**Input:**<br>\n",
    ">x = 3, y = 6<br>\n",
    ">**Output:** <br>\n",
    ">84 <br>\n",
    ">**Explanation:**<br>\n",
    ">There are total 84 possible paths.\n",
    "\n",
    "<br>\n",
    "\n",
    "**Your Task:**<br>\n",
    "Since this is a function problem. You don't need to take any input, as it is already accomplished by the driver code. You just need to complete the function **ways()** that takes integer **x** and **y** as parameters and returns the total number of **paths** from **point(x,y)** to the **origin(0,0) % 1000000007**.\n",
    "\n",
    "**Expected Time Complexity:** O(x * y).<br>\n",
    "**Expected Auxiliary Space:** O(x * y).\n",
    "\n",
    "**Constraints:**\n",
    "- >0 ≤ x, y ≤ 500"
   ]
  },
  {
   "cell_type": "code",
   "execution_count": 1,
   "metadata": {},
   "outputs": [],
   "source": [
    "class Solution:\n",
    "    def ways(self, n, m):\n",
    "        # write you code here\n",
    "        dp = [[0 for _ in range(m + 1)] for _ in range(n + 1)]\n",
    "        dp[0][0] = 1\n",
    "        \n",
    "        for i in range(n + 1):\n",
    "            for j in range(m + 1):\n",
    "                if not (i == 0 and j == 0):\n",
    "                    dp[i][j] = (dp[i - 1][j] if i > 0 else 0) + (dp[i][j - 1] if j > 0 else 0)\n",
    "        \n",
    "        return dp[n][m] % 1000000007"
   ]
  }
 ],
 "metadata": {
  "kernelspec": {
   "display_name": "base",
   "language": "python",
   "name": "python3"
  },
  "language_info": {
   "codemirror_mode": {
    "name": "ipython",
    "version": 3
   },
   "file_extension": ".py",
   "mimetype": "text/x-python",
   "name": "python",
   "nbconvert_exporter": "python",
   "pygments_lexer": "ipython3",
   "version": "3.9.16"
  }
 },
 "nbformat": 4,
 "nbformat_minor": 2
}
