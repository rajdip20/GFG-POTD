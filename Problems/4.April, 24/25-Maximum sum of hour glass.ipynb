{
 "cells": [
  {
   "cell_type": "markdown",
   "metadata": {},
   "source": [
    "Given two integers **n, m** and a 2D matrix **mat** of dimensions **nxm**, the task is to find the **maximum sum** of an **hourglass**.<br>\n",
    "An **hourglass** is defined as a part of the matrix with the following form:\n",
    "\n",
    "![image](../../images/blobid1_1710860182.png)\n",
    "\n",
    "Return **-1** if any hourglass is **not found**.\n",
    "\n",
    "<br>\n",
    "\n",
    "**Example 1:**\n",
    ">**Input:**<br>\n",
    ">n = 3, m = 3<br>\n",
    ">mat = [[1, 2, 3],<br>\n",
    ">&emsp;&emsp;&emsp; [4, 5, 6],<br>\n",
    ">&emsp;&emsp;&emsp; [7, 8, 9]]<br>\n",
    ">**Output:**<br>\n",
    ">35<br>\n",
    ">**Explanation:**<br>\n",
    ">There is only one hour glass which is<br>\n",
    ">1 2 3<br>\n",
    ">&ensp; 5<br>\n",
    ">7 8 9   and its sum is 35.\n",
    "\n",
    "**Example 2:**\n",
    ">**Input:**<br>\n",
    ">n = 2, m = 3<br>\n",
    ">mat = [[1, 2, 3],<br>\n",
    ">&emsp;&emsp;&emsp; [4, 5, 6]]<br>\n",
    ">**Output:**<br>\n",
    ">-1<br>\n",
    ">**Explanation:**<br>\n",
    ">There are no hour glasses in this matrix.\n",
    "\n",
    "<br>\n",
    "\n",
    "**Your Task:**<br>\n",
    "You don't need to read input or print anything. Your task is to complete the function **findMaxSum()** which takes the two integers **n, m**, and the 2D matrix **mat** as input parameters and returns the maximum sum of an hourglass in the matrix. If there are no hourglasses, it returns -1.\n",
    "\n",
    "**Expected Time Complexity:** O(n * m)<br>\n",
    "**Expected Auxillary Space:** O(1)\n",
    "\n",
    "**Constraints:**\n",
    "- >1 <= n <= 150\n",
    "- >3 <= m <= 150\n",
    "- >0 <= mat[i][j] <= 10<sup>6</sup>"
   ]
  },
  {
   "cell_type": "code",
   "execution_count": 1,
   "metadata": {},
   "outputs": [],
   "source": [
    "class Solution:\n",
    "    def findMaxSum(self, n, m, mat):\n",
    "        # code here\n",
    "        if n < 3 or m < 3:\n",
    "            return -1\n",
    "        \n",
    "        max_sum = -1\n",
    "        for i in range(1, n-1):\n",
    "            for j in range(1, m-1):\n",
    "                hourglass_sum = (mat[i-1][j-1] + mat[i-1][j] + mat[i-1][j+1] +\n",
    "                                mat[i][j] + mat[i+1][j-1] + mat[i+1][j] + mat[i+1][j+1])\n",
    "                max_sum = max(max_sum, hourglass_sum)\n",
    "        \n",
    "        return max_sum"
   ]
  }
 ],
 "metadata": {
  "kernelspec": {
   "display_name": "base",
   "language": "python",
   "name": "python3"
  },
  "language_info": {
   "codemirror_mode": {
    "name": "ipython",
    "version": 3
   },
   "file_extension": ".py",
   "mimetype": "text/x-python",
   "name": "python",
   "nbconvert_exporter": "python",
   "pygments_lexer": "ipython3",
   "version": "3.9.16"
  }
 },
 "nbformat": 4,
 "nbformat_minor": 2
}
