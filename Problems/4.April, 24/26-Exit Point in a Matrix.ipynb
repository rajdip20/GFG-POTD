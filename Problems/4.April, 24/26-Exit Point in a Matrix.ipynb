{
 "cells": [
  {
   "cell_type": "markdown",
   "metadata": {},
   "source": [
    "Given a **matrix** of size **n x m** with **0’s** and **1’s**, you enter the matrix at cell **(0,0)** in **left to right** direction. Whenever you encounter a **0** you retain it in the **same direction**, else if you encounter a **1** you have to **change** the direction to the **right** of the current direction and **change that 1** value to **0**, you have to find out from which index you will **leave** the matrix at the end.\n",
    "\n",
    "<br>\n",
    "\n",
    "**Example 1:**\n",
    ">**Input:** <br>\n",
    ">n = 3, m = 3<br>\n",
    ">matrix = {{0, 1, 0},<br>\n",
    ">&emsp;&emsp;&emsp;&emsp; {0, 1, 1}, <br>\n",
    ">&emsp;&emsp;&emsp;&emsp; {0, 0, 0}}<br>\n",
    ">**Output:** <br>\n",
    ">{1, 0}<br>\n",
    ">**Explanation:** <br>\n",
    ">Enter the matrix at (0, 0)<br>\n",
    ">-> then move towards (0, 1) ->  1 is encountered<br>\n",
    ">-> turn right towards (1, 1) -> again 1 is encountered<br>\n",
    ">-> turn right again towards (1, 0)<br>\n",
    ">-> now, the boundary of matrix will be crossed -> hence, exit point reached at 1, 0..\n",
    "\n",
    "**Example 2:**\n",
    ">**Input:** <br>\n",
    ">n = 1, m = 2<br>\n",
    ">matrix = {{0, 0}}<br>\n",
    ">**Output:** <br>\n",
    ">{0, 1}<br>\n",
    ">**Explanation:** <br>\n",
    ">Enter the matrix at cell (0, 0).<br>\n",
    ">Since the cell contains a 0, we continue moving in the same direction.<br>\n",
    ">We reach cell (0, 1), which also contains a 0. So, we continue moving in the same direction, we exit the matrix from cell (0, 1).\n",
    "\n",
    "<br>\n",
    "\n",
    "**Your Task:**<br>\n",
    "You don't need to read or print anything. Your task is to complete the function **FindExitPoint()** which takes the **matrix** as an input parameter and returns a **list** containing the **exit point**.\n",
    "\n",
    "**Expected Time Complexity:** O(n * m) where n = number of rows and m = number of columns.<br>\n",
    "**Expected Space Complexity:** O(1)\n",
    "\n",
    "**Constraints:**\n",
    "- >1 <= n, m <= 100"
   ]
  },
  {
   "cell_type": "code",
   "execution_count": 1,
   "metadata": {},
   "outputs": [],
   "source": [
    "class Solution:\n",
    "    def FindExitPoint(self, n, m, matrix):\n",
    "\t\t# Code here\n",
    "        directions = [(0, 1), (1, 0), (0, -1), (-1, 0)]\n",
    "        direction = 0\n",
    "        n, m = len(matrix), len(matrix[0])\n",
    "        x, y = 0, 0\n",
    "\n",
    "        while True:\n",
    "            if not (0 <= x < n) or not (0 <= y < m):\n",
    "                break\n",
    "            if matrix[x][y] == 1:\n",
    "                direction = (direction + 1) % 4\n",
    "                matrix[x][y] = 0\n",
    "            dx, dy = directions[direction]\n",
    "            x, y = x + dx, y + dy\n",
    "\n",
    "        exit_x, exit_y = x - dx, y - dy\n",
    "        \n",
    "        return [exit_x, exit_y]"
   ]
  }
 ],
 "metadata": {
  "kernelspec": {
   "display_name": "base",
   "language": "python",
   "name": "python3"
  },
  "language_info": {
   "codemirror_mode": {
    "name": "ipython",
    "version": 3
   },
   "file_extension": ".py",
   "mimetype": "text/x-python",
   "name": "python",
   "nbconvert_exporter": "python",
   "pygments_lexer": "ipython3",
   "version": "3.9.16"
  }
 },
 "nbformat": 4,
 "nbformat_minor": 2
}
