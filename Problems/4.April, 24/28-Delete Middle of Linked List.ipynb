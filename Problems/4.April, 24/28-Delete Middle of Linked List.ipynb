{
 "cells": [
  {
   "cell_type": "markdown",
   "metadata": {},
   "source": [
    "Given a singly linked list, delete **middle** of the linked list. For example, if given linked list is 1->2->3->4->5 then linked list should be modified to 1->2->4->5.<br>\n",
    "If there are **even** nodes, then there would be **two middle** nodes, we need to delete the **second middle element**. For example, if given linked list is 1->2->3->4->5->6 then it should be modified to 1->2->3->5->6.<br>\n",
    "If the input linked list has **single** node, then it should return **NULL**.\n",
    "\n",
    "<br>\n",
    "\n",
    "**Example 1:**\n",
    ">**Input:**<br>\n",
    ">LinkedList: 1->2->3->4->5<br>\n",
    ">**Output:** <br>\n",
    ">1 2 4 5\n",
    "\n",
    "**Example 2:**\n",
    ">**Input:**<br>\n",
    ">LinkedList: 2->4->6->7->5->1<br>\n",
    ">**Output:** <br>\n",
    ">2 4 6 5 1\n",
    "\n",
    "<br>\n",
    "\n",
    "**Your Task:**<br>\n",
    "The task is to complete the function **deleteMid()** which takes head of the linkedlist  and return head of the linkedlist with **middle element deleted** from the linked list. If the linked list is **empty** or contains **single** element then it should return **NULL**.\n",
    "\n",
    "**Expected Time Complexity:** O(n).<br>\n",
    "**Expected Auxiliary Space:** O(1).\n",
    "\n",
    "**Constraints:**\n",
    "- >1 <= n <= 10<sup>5</sup>\n",
    "- >1 <= value[i] <= 10<sup>9</sup>"
   ]
  },
  {
   "cell_type": "code",
   "execution_count": 1,
   "metadata": {},
   "outputs": [],
   "source": [
    "'''\n",
    "class Node:\n",
    "    def __init__(self, data):\n",
    "        self.data = data\n",
    "        self.next = None\n",
    "'''\n",
    "class Solution:\n",
    "    def deleteMid(self, head):\n",
    "        '''\n",
    "        head:  head of given linkedList\n",
    "        return: head of resultant llist\n",
    "        '''\n",
    "        # code here\n",
    "        if not head or not head.next:\n",
    "            return None\n",
    "        \n",
    "        slow = head\n",
    "        fast = head\n",
    "        prev = None\n",
    "        \n",
    "        while fast and fast.next:\n",
    "            prev = slow\n",
    "            slow = slow.next\n",
    "            fast = fast.next.next\n",
    "        \n",
    "        prev.next = slow.next\n",
    "        \n",
    "        return head"
   ]
  }
 ],
 "metadata": {
  "kernelspec": {
   "display_name": "base",
   "language": "python",
   "name": "python3"
  },
  "language_info": {
   "codemirror_mode": {
    "name": "ipython",
    "version": 3
   },
   "file_extension": ".py",
   "mimetype": "text/x-python",
   "name": "python",
   "nbconvert_exporter": "python",
   "pygments_lexer": "ipython3",
   "version": "3.9.16"
  }
 },
 "nbformat": 4,
 "nbformat_minor": 2
}
