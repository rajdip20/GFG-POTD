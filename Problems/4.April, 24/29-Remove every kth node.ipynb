{
 "cells": [
  {
   "cell_type": "markdown",
   "metadata": {},
   "source": [
    "Given a singly linked list having **n** nodes, your task is to remove every **k<sup>th</sup>** node from the linked list. \n",
    "\n",
    "<br>\n",
    "\n",
    "**Example 1:**\n",
    ">**Input:**<br>\n",
    ">n = 8<br>\n",
    ">linked list: 1 -> 2 -> 3 -> 4 -> 5 -> 6 -> 7 -> 8 <br>\n",
    ">k = 2<br>\n",
    ">**Output:** <br>\n",
    ">1 -> 3 -> 5 -> 7<br>\n",
    ">**Explanation:** <br>\n",
    ">After removing every 2nd node of the linked list, the resultant linked list will be: 1 -> 3 -> 5 -> 7.\n",
    "\n",
    "**Example 2:**\n",
    ">**Input:**<br>\n",
    ">n = 10<br>\n",
    ">linked list: 1 -> 2 -> 3 -> 4 -> 5 -> 6 -> 7 -> 8 -> 9 -> 10 <br>\n",
    ">k = 3<br>\n",
    ">**Output:** <br>\n",
    ">1 -> 2 -> 4 -> 5 -> 7 -> 8 -> 10<br>\n",
    ">**Explanation:** <br>\n",
    ">After removing every 3rd node of the linked list, the resultant linked list will be: 1 -> 2 -> 4 -> 5 -> 7 -> 8 -> 10.\n",
    "\n",
    "<br>\n",
    "\n",
    "**Your Task:**<br>\n",
    "The task is to complete the function **deleteK()** which takes **head** of linked list and integer **k** as input parameters and delete every **k<sup>th</sup>** node from the linked list and return its head.\n",
    "\n",
    "**Expected Time Complexity :**  O(n)<br>\n",
    "**Expected Auxiliary Space :**  O(1)\n",
    "\n",
    "**Constraints:**\n",
    "- >1 <= n <= 10<sup>5</sup>\n",
    "- >-10<sup>9</sup> <= elements of linked list <= 10<sup>9</sup>\n",
    "- >1 <= k <= n"
   ]
  },
  {
   "cell_type": "code",
   "execution_count": 1,
   "metadata": {},
   "outputs": [],
   "source": [
    "'''\n",
    "class node:\n",
    "    def __init__(self,x):\n",
    "        self.data = x\n",
    "        self.next = None\n",
    "'''\n",
    "\n",
    "class Solution:\n",
    "    def deleteK(self, head, k):\n",
    "        # code here\n",
    "        if not head or k == 0:\n",
    "            return head\n",
    "        \n",
    "        dummy = node(0)\n",
    "        dummy.next = head\n",
    "        prev = dummy\n",
    "        count = 0\n",
    "        \n",
    "        while head:\n",
    "            count += 1\n",
    "            if count % k == 0:\n",
    "                prev.next = head.next\n",
    "            else:\n",
    "                prev = head\n",
    "            head = head.next\n",
    "        \n",
    "        return dummy.next"
   ]
  }
 ],
 "metadata": {
  "kernelspec": {
   "display_name": "base",
   "language": "python",
   "name": "python3"
  },
  "language_info": {
   "codemirror_mode": {
    "name": "ipython",
    "version": 3
   },
   "file_extension": ".py",
   "mimetype": "text/x-python",
   "name": "python",
   "nbconvert_exporter": "python",
   "pygments_lexer": "ipython3",
   "version": "3.9.16"
  }
 },
 "nbformat": 4,
 "nbformat_minor": 2
}
