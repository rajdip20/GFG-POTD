{
 "cells": [
  {
   "cell_type": "markdown",
   "metadata": {},
   "source": [
    "Given an integer **s** represented as a string, the task is to get the sum of all possible sub-strings of this string.<br>\n",
    "As the answer will be large, return answer **modulo 10<sup>9</sup>+7**. \n",
    "\n",
    "**Note:** The number may have leading zeros.\n",
    "\n",
    "<br>\n",
    "\n",
    "**Example 1:**\n",
    ">**Input:**<br>\n",
    ">s = \"1234\"<br>\n",
    ">**Output:** <br>\n",
    ">1670<br>\n",
    ">**Explanation:** <br>\n",
    ">Sum = 1 + 2 + 3 + 4 + 12 + 23 + 34 + 123 + 234 + 1234 = 1670\n",
    "\n",
    "**Example 2:**\n",
    ">**Input:**<br>\n",
    ">s = \"421\"<br>\n",
    ">**Output:** <br>\n",
    ">491<br>\n",
    ">**Explanation:** <br>\n",
    ">Sum = 4 + 2 + 1 + 42 + 21 + 421 = 491\n",
    "\n",
    "<br>\n",
    "\n",
    "**Your Task:**<br>\n",
    "You only need to complete the function **sumSubstrings** that takes **s** as an argument and returns the answer **modulo 10<sup>9</sup>+7**.\n",
    "\n",
    "**Expected Time Complexity:** O(|s|).<br>\n",
    "**Expected Auxiliary Space:** O(|s|).\n",
    "\n",
    "**Constraints:**\n",
    "- >1 <= |s| <= 10<sup>5</sup>"
   ]
  },
  {
   "cell_type": "code",
   "execution_count": 1,
   "metadata": {},
   "outputs": [],
   "source": [
    "class Solution:\n",
    "    # Function to find sum of all possible substrings of the given string.\n",
    "    def sumSubstrings(self, s):  \n",
    "        # code here\n",
    "        n = len(s)\n",
    "        MOD = 10**9 + 7\n",
    "        currentSum = 0\n",
    "        totalSum = 0\n",
    "        \n",
    "        for i in range(n):\n",
    "            currentSum = (currentSum * 10 + int(s[i]) * (i + 1)) % MOD\n",
    "            totalSum = (totalSum + currentSum) % MOD\n",
    "            \n",
    "        return totalSum"
   ]
  }
 ],
 "metadata": {
  "kernelspec": {
   "display_name": "base",
   "language": "python",
   "name": "python3"
  },
  "language_info": {
   "codemirror_mode": {
    "name": "ipython",
    "version": 3
   },
   "file_extension": ".py",
   "mimetype": "text/x-python",
   "name": "python",
   "nbconvert_exporter": "python",
   "pygments_lexer": "ipython3",
   "version": "3.9.16"
  }
 },
 "nbformat": 4,
 "nbformat_minor": 2
}
