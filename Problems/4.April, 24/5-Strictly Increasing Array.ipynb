{
 "cells": [
  {
   "cell_type": "markdown",
   "metadata": {},
   "source": [
    "Given an array **nums** of **n** positive integers. Find the minimum number of operations required to modify the array such that array elements are in **strictly increasing** order (nums[i] < nums[i+1]).\n",
    "Changing a number to **greater** or **lesser** than original number is counted as one operation.\n",
    "\n",
    "**Note:** Array elements can become negative after applying operation.\n",
    "\n",
    "<br>\n",
    "\n",
    "**Example 1:**\n",
    ">**Input:**<br>\n",
    ">n = 6<br>\n",
    ">nums = [1, 2, 3, 6, 5, 4]<br>\n",
    ">**Output:** <br>\n",
    ">2<br>\n",
    ">**Explanation:** <br>\n",
    ">By decreasing 6 by 2 and increasing 4 by 2, nums will be like [1, 2, 3, 4, 5, 6] which is stricly increasing.\n",
    "\n",
    "**Example 2:**\n",
    ">**Input:** <br>\n",
    ">n = 4<br>\n",
    ">nums = [1, 1, 1, 1]<br>\n",
    ">**Output:** <br>\n",
    ">3<br>\n",
    ">**Explanation:** <br>\n",
    ">One such array after operation can be [-2, -1, 0, 1]. We require atleast 3 operations for this example.\n",
    "\n",
    "<br>\n",
    "\n",
    "**Your Task:**<br>\n",
    "You don't need to read or print anything. Your task is to complete the function **min_opeartions()** which takes the array **nums** as input parameter and returns the minimum number of opeartion needed to make the array strictly increasing.\n",
    "\n",
    "**Expected Time Complexity:** O(n<sup>2</sup>)<br>\n",
    "**Expected Space Complexity:** O(n)\n",
    "\n",
    "**Constraints:**\n",
    "- >1 <= n <= 10<sup>3</sup>\n",
    "- >1 <= nums[i] <= 10<sup>9</sup>"
   ]
  },
  {
   "cell_type": "code",
   "execution_count": 1,
   "metadata": {},
   "outputs": [],
   "source": [
    "class Solution:\n",
    "    def min_operations(self, nums):\n",
    "\t\t# Code here\n",
    "        n = len(nums)\n",
    "        dp = [1] * n\n",
    "\n",
    "        for i in range(n):\n",
    "            for j in range(i):\n",
    "                if nums[i] - nums[j] >= i - j:\n",
    "                    dp[i] = max(dp[i], dp[j] + 1)\n",
    "\n",
    "        x = max(dp)\n",
    "        return n - x"
   ]
  }
 ],
 "metadata": {
  "kernelspec": {
   "display_name": "Python 3",
   "language": "python",
   "name": "python3"
  },
  "language_info": {
   "codemirror_mode": {
    "name": "ipython",
    "version": 3
   },
   "file_extension": ".py",
   "mimetype": "text/x-python",
   "name": "python",
   "nbconvert_exporter": "python",
   "pygments_lexer": "ipython3",
   "version": "3.9.16"
  }
 },
 "nbformat": 4,
 "nbformat_minor": 2
}
