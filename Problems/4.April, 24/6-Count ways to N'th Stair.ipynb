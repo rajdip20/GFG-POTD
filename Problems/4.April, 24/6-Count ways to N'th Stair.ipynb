{
 "cells": [
  {
   "cell_type": "markdown",
   "metadata": {},
   "source": [
    "There are **n** stairs, and a person standing at the bottom wants to reach the top. The person can climb either **1 stair** or **2 stairs** at a time. Count the number of ways, the person can reach the top (**order does not matter**).\n",
    "\n",
    "<br>\n",
    "\n",
    "**Example 1:**\n",
    ">**Input:**<br>\n",
    ">n = 4<br>\n",
    ">**Output:** <br>\n",
    ">3<br>\n",
    ">**Explanation:** <br>\n",
    ">You can reach 4th stair in 3 ways. 3 possible ways are:<br>\n",
    ">1, 1, 1, 1<br>\n",
    ">1, 1, 2<br>\n",
    ">2, 2<br>\n",
    ">Here, note that {1, 1, 2}, {1, 2, 1} and {2, 1, 1} are considered same as their order does not matter. \n",
    "\n",
    "**Example 2:**\n",
    ">**Input:**<br>\n",
    ">n = 5<br>\n",
    ">**Output:** <br>\n",
    ">3<br>\n",
    ">**Explanation:**<br>\n",
    ">You may reach the 5th stair in 3 ways. The 3 possible ways are:<br>\n",
    ">1, 1, 1, 1, 1<br>\n",
    ">1, 1, 1, 2<br>\n",
    ">1, 2, 2\n",
    "\n",
    "<br>\n",
    "\n",
    "**Your Task:**<br>\n",
    "Your task is to complete the function **countWays()** which takes a single argument **n** and returns the answer.\n",
    "\n",
    "**Expected Time Complexity:** O(n)<br>\n",
    "**Expected Auxiliary Space:** O(n)\n",
    "\n",
    "**Constraints:**\n",
    "- >1 <= N <= 10<sup>6</sup>"
   ]
  },
  {
   "cell_type": "code",
   "execution_count": 1,
   "metadata": {},
   "outputs": [],
   "source": [
    "class Solution:\n",
    "\n",
    "    # Function to count number of ways to reach the nth stair\n",
    "    # when order does not matter.\n",
    "    def countWays(self, n):\n",
    "        mod = 1000000007\n",
    "        # code here\n",
    "        return n // 2 + 1"
   ]
  }
 ],
 "metadata": {
  "kernelspec": {
   "display_name": "base",
   "language": "python",
   "name": "python3"
  },
  "language_info": {
   "codemirror_mode": {
    "name": "ipython",
    "version": 3
   },
   "file_extension": ".py",
   "mimetype": "text/x-python",
   "name": "python",
   "nbconvert_exporter": "python",
   "pygments_lexer": "ipython3",
   "version": "3.9.16"
  }
 },
 "nbformat": 4,
 "nbformat_minor": 2
}
