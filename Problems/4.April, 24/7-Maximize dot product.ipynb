{
 "cells": [
  {
   "cell_type": "markdown",
   "metadata": {},
   "source": [
    "Given two arrays **a** and **b** of positive integers of size **n** and **m** where **n >= m**, the task is to maximize the dot product by inserting zeros in the second array but you cannot disturb the order of elements.\n",
    "\n",
    "Dot product of array a and b of size n is **a[0] * b[0] + a[1] * b[1] + ... + a[n-1] * b[n-1]**.\n",
    "\n",
    "<br>\n",
    "\n",
    "**Example 1:**\n",
    ">**Input:** <br>\n",
    ">n = 5, a[] = {2, 3, 1, 7, 8} <br>\n",
    ">m = 3, b[] = {3, 6, 7}<br>\n",
    ">**Output:** <br>\n",
    ">107<br>\n",
    ">**Explanation:** <br>\n",
    ">We get maximum dot product after inserting 0 at first and third positions in second array.<br>\n",
    ">Therefore b becomes {0, 3, 0, 6, 7}. Maximum dot product = 2*0 + 3*3 + 1*0 + 7*6 + 8*7 = 107.\n",
    "\n",
    "**Example 2:**\n",
    ">**Input:** <br>\n",
    ">n = 3, a[] = {1, 2, 3}<br>\n",
    ">m = 1, b[] = {4} <br>\n",
    ">**Output:** <br>\n",
    ">12 <br>\n",
    ">**Explanation:** <br>\n",
    ">We get maximum dot product after inserting 0 at first and second positions in second array.<br>\n",
    ">Therefore b becomes {0, 0, 4}. Maximum Dot Product = 1*0 + 2*0 + 3*4 = 12.\n",
    "\n",
    "<br>\n",
    "\n",
    "**Your Task:** <br>\n",
    "You don't need to read input or print anything. Complete the function **maxDotProduct()** which takes **n, m**, array **a** and **b** as input parameters and returns the maximum value.\n",
    "\n",
    "**Expected Time Complexity:** O(n*m)<br>\n",
    "**Expected Auxiliary Space:** O(n*m)\n",
    "\n",
    "**Constraints:**\n",
    "- >1 ≤ m ≤n ≤ 10<sup>3</sup>\n",
    "- >1 ≤ a[i], b[i] ≤ 10<sup>3</sup>"
   ]
  },
  {
   "cell_type": "code",
   "execution_count": 1,
   "metadata": {},
   "outputs": [],
   "source": [
    "class Solution:\n",
    "    def maxDotProduct(self, n, m, a, b):\n",
    "\t\t# code here\n",
    "        dp = [[0] * (m + 1) for _ in range(n+1)]\n",
    "        \n",
    "        for i in range(n):\n",
    "            for j in range(min(m, i + 1)):\n",
    "                dp[i + 1][j + 1] = max(dp[i][j] + a[i] * b[j], dp[i][j + 1])\n",
    "        \n",
    "        return dp[n][m]"
   ]
  }
 ],
 "metadata": {
  "kernelspec": {
   "display_name": "base",
   "language": "python",
   "name": "python3"
  },
  "language_info": {
   "codemirror_mode": {
    "name": "ipython",
    "version": 3
   },
   "file_extension": ".py",
   "mimetype": "text/x-python",
   "name": "python",
   "nbconvert_exporter": "python",
   "pygments_lexer": "ipython3",
   "version": "3.9.16"
  }
 },
 "nbformat": 4,
 "nbformat_minor": 2
}
