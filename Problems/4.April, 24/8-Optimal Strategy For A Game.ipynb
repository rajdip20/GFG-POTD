{
 "cells": [
  {
   "cell_type": "markdown",
   "metadata": {},
   "source": [
    "You are given an array **arr** of size **n**. The elements of the array represent **n coin** of **values v1, v2, ....vn**. You play against an opponent in an **alternating** way. In each **turn**, a player selects either the **first or last coin** from the **row**, removes it from the row permanently, and **receives the value** of the coin.<br>\n",
    "You need to determine the **maximum possible amount of money** you can win if you **go first**.<br>\n",
    "**Note:** Both the players are playing optimally.\n",
    "\n",
    "<br>\n",
    "\n",
    "**Example 1:**\n",
    ">**Input:**<br>\n",
    ">n = 4<br>\n",
    ">arr[] = {5, 3, 7, 10}<br>\n",
    ">**Output:** <br>\n",
    ">15<br>\n",
    ">Explanation: The user collects maximum value as 15(10 + 5).<br>\n",
    ">It is guarantee that we cannot get more than 15 by any possible moves.\n",
    "\n",
    "**Example 2:**\n",
    ">**Input:**<br>\n",
    ">n = 4<br>\n",
    ">arr[] = {8, 15, 3, 7}<br>\n",
    ">**Output:** <br>\n",
    ">22<br>\n",
    ">Explanation: The user collects maximum value as 22(7 + 15).<br>\n",
    ">It is guarantee that we cannot get more than 22 by any possible moves.\n",
    "\n",
    "<br>\n",
    "\n",
    "Your Task:<br>\n",
    "Complete the function **maximumAmount()** which takes an array **arr[]** (represent values of **n** coins) and **n** as a number of coins as a parameter and returns the **maximum possible amount of money** you can win if you **go first**.\n",
    "\n",
    "**Expected Time Complexity:** O(n * n)<br>\n",
    "**Expected Auxiliary Space:** O(n * n)\n",
    "\n",
    "**Constraints:**\n",
    "- >2 <= n <= 10<sup>3</sup>\n",
    "- >1 <= arr[i] <= 10<sup>6</sup>"
   ]
  },
  {
   "cell_type": "code",
   "execution_count": 1,
   "metadata": {},
   "outputs": [],
   "source": [
    "# Function to find the maximum possible amount of money we can win.\n",
    "class Solution:\n",
    "    def optimalStrategyOfGame(self, n, arr):\n",
    "        # code here\n",
    "        dp = [[0] * n for _ in range(n)]\n",
    "\n",
    "        for gap in range(n):\n",
    "            i = 0\n",
    "            for j in range(gap, n):\n",
    "                x = 0\n",
    "                if i + 2 <= j:\n",
    "                    x = dp[i + 2][j]\n",
    "                y = 0\n",
    "                if i + 1 <= j - 1:\n",
    "                    y = dp[i + 1][j - 1]\n",
    "                z = 0\n",
    "                if i <= j - 2:\n",
    "                    z = dp[i][j - 2]\n",
    "                dp[i][j] = max(arr[i] + min(x, y), arr[j] + min(y, z))\n",
    "                i += 1\n",
    "\n",
    "        return dp[0][n - 1]"
   ]
  }
 ],
 "metadata": {
  "kernelspec": {
   "display_name": "base",
   "language": "python",
   "name": "python3"
  },
  "language_info": {
   "codemirror_mode": {
    "name": "ipython",
    "version": 3
   },
   "file_extension": ".py",
   "mimetype": "text/x-python",
   "name": "python",
   "nbconvert_exporter": "python",
   "pygments_lexer": "ipython3",
   "version": "3.9.16"
  }
 },
 "nbformat": 4,
 "nbformat_minor": 2
}
