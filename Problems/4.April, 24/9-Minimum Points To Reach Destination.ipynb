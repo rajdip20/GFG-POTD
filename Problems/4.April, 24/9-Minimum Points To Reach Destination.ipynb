{
 "cells": [
  {
   "cell_type": "markdown",
   "metadata": {},
   "source": [
    "Given a **m * n** grid with each cell consisting of **positive**, **negative**, or **zero** point. We can move across a cell only if we have positive points. Whenever we pass through a cell, points in that cell are added to our overall points, the task is to find **minimum initial points** to reach cell **(m-1, n-1)** from **(0, 0)** by following these certain set of rules :\n",
    "1. From a cell (i, j) we can move to (i + 1, j) or (i, j + 1).\n",
    "2. We cannot move from (i, j) if your overall points at (i, j) are <= 0.\n",
    "3. We have to reach at (n-1, m-1) with minimum positive points i.e., > 0.\n",
    "\n",
    "<br>\n",
    "\n",
    "**Example 1:**\n",
    ">**Input:** <br>\n",
    ">m = 3, n = 3 <br>\n",
    ">points = {{-2,-3,3}, <br>\n",
    ">&emsp;&emsp;&emsp;&emsp; {-5,-10,1},<br>\n",
    ">&emsp;&emsp;&emsp;&emsp; {10,30,-5}} <br>\n",
    ">**Output:** <br>\n",
    ">7 <br>\n",
    ">**Explanation:** 7 is the minimum value to reach the destination with positive throughout the path. Below is the path. (0,0) -> (0,1) -> (0,2) -> (1, 2) -> (2, 2) We start from (0, 0) with 7, we reach (0, 1) with 5, (0, 2) with 2, (1, 2) with 5, (2, 2) with and finally we have 1 point (we needed greater than 0 points at the end).\n",
    "\n",
    "**Example 2:**\n",
    ">**Input:**<br>\n",
    ">m = 3, n = 2<br>\n",
    ">points = {{2,3},  <br>\n",
    ">&emsp;&emsp;&emsp;&emsp; {5,10},  <br>\n",
    ">&emsp;&emsp;&emsp;&emsp; {10,30}} <br>\n",
    ">**Output:** <br>\n",
    ">1 <br>\n",
    ">**Explanation:** Take any path, all of them are positive. So, required one point at the start\n",
    "\n",
    "<br>\n",
    "\n",
    "**Your Task:**  <br>\n",
    "You don't need to read input or print anything. Complete the function **minPoints()** which takes **m,n** and 2-d vector **points** as input parameters and returns the **minimum initial points** to reach cell **(m-1, n-1)** from **(0, 0)**.\n",
    "\n",
    "**Expected Time Complexity:** O(n * m)<br>\n",
    "**Expected Auxiliary Space:** O(n * m)\n",
    "\n",
    "**Constraints:**\n",
    "- >1 ≤ m ≤ 10<sup>3</sup>  \n",
    "- >1 ≤ n ≤ 10<sup>3</sup>\n",
    "- >-10<sup>3</sup> ≤ points[i][j] ≤ 10<sup>3</sup>"
   ]
  },
  {
   "cell_type": "code",
   "execution_count": 1,
   "metadata": {},
   "outputs": [],
   "source": [
    "class Solution:\n",
    "    def minPoints(self, m, n, points):\n",
    "\t\t# code here\n",
    "        dp = [[0] * n for _ in range(m)]\n",
    "        dp[m - 1][n - 1] = max(1, 1 - points[m - 1][n - 1])\n",
    "\n",
    "        for i in range(m - 2, -1, -1):\n",
    "            dp[i][n - 1] = max(1, dp[i + 1][n - 1] - points[i][n - 1])\n",
    "\n",
    "        for j in range(n - 2, -1, -1):\n",
    "            dp[m - 1][j] = max(1, dp[m - 1][j + 1] - points[m - 1][j])\n",
    "\n",
    "        for i in range(m - 2, -1, -1):\n",
    "            for j in range(n - 2, -1, -1):\n",
    "                min_points_on_exit = min(dp[i + 1][j], dp[i][j + 1])\n",
    "                dp[i][j] = max(1, min_points_on_exit - points[i][j])\n",
    "\n",
    "        return dp[0][0]"
   ]
  }
 ],
 "metadata": {
  "kernelspec": {
   "display_name": "base",
   "language": "python",
   "name": "python3"
  },
  "language_info": {
   "codemirror_mode": {
    "name": "ipython",
    "version": 3
   },
   "file_extension": ".py",
   "mimetype": "text/x-python",
   "name": "python",
   "nbconvert_exporter": "python",
   "pygments_lexer": "ipython3",
   "version": "3.9.16"
  }
 },
 "nbformat": 4,
 "nbformat_minor": 2
}
