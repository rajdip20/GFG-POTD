{
 "cells": [
  {
   "cell_type": "markdown",
   "metadata": {},
   "source": [
    "Given a singly linked list having **n** nodes containing english alphabets **('a'-'z')**. Rearrange the linked list in such a way that all the vowels come before the consonants while maintaining the **order of their arrival**. \n",
    "\n",
    "<br>\n",
    "\n",
    "**Example 1:**\n",
    ">**Input:**<br>\n",
    ">n = 9<br>\n",
    ">linked list: a -> b -> c -> d -> e -> f -> g -> h -> i <br>\n",
    ">**Output:** <br>\n",
    ">a -> e -> i -> b -> c -> d -> f -> g -> h<br>\n",
    ">**Explanation:** <br>\n",
    ">After rearranging the input linked list according to the condition the resultant linked list will be as shown in output.\n",
    "\n",
    "**Example 2:**\n",
    ">**Input:**<br>\n",
    ">n = 8<br>\n",
    ">linked list: a -> b -> a -> b -> d -> e -> e -> d <br>\n",
    ">**Output:** <br>\n",
    ">a -> a -> e -> e -> b -> b -> d -> d<br>\n",
    ">**Explanation:** <br>\n",
    ">After rearranging the input linked list according to the condition the resultant linked list will be as shown in output.\n",
    "\n",
    "<br>\n",
    "\n",
    "**Your Task:**<br>\n",
    "Your task is to complete the function **arrangeCV()**, which takes **head** of linked list and arranges the list in such a way that all the vowels come before the consonants while maintaining the **order of their arrival** and returns the head of the updated linked list.\n",
    "\n",
    "**Expected Time Complexity:** O(n)<br>\n",
    "**Expected Auxiliary Space:** O(1)\n",
    "\n",
    "**Constraints:**\n",
    "- >1 <= n <= 10<sup>4</sup>\n",
    "- >'a' <= elements of linked list <= 'z'"
   ]
  },
  {
   "cell_type": "code",
   "execution_count": 1,
   "metadata": {},
   "outputs": [],
   "source": [
    "\"\"\"\n",
    "# Node Class\n",
    "\n",
    "class Node:\n",
    "    def __init__(self, val):\n",
    "        self.data = val\n",
    "        self.next = None\n",
    "\n",
    "\"\"\"\n",
    "\n",
    "class Solution:\n",
    "    # Function to reverse a linked list.\n",
    "    def arrangeCV(self, head):\n",
    "        # Code here\n",
    "        if not head or not head.next:\n",
    "            return head\n",
    "        \n",
    "        vowel_dummy = Node(head)\n",
    "        consonant_dummy = Node(head)\n",
    "        vowel_tail = vowel_dummy\n",
    "        consonant_tail = consonant_dummy\n",
    "        \n",
    "        current = head\n",
    "        while current:\n",
    "            if current.data in 'aeiou':\n",
    "                vowel_tail.next = current\n",
    "                vowel_tail = current\n",
    "            else:\n",
    "                consonant_tail.next = current\n",
    "                consonant_tail = current\n",
    "            current = current.next\n",
    "        \n",
    "        vowel_tail.next = consonant_dummy.next\n",
    "        consonant_tail.next = None\n",
    "        \n",
    "        return vowel_dummy.next"
   ]
  }
 ],
 "metadata": {
  "kernelspec": {
   "display_name": "base",
   "language": "python",
   "name": "python3"
  },
  "language_info": {
   "codemirror_mode": {
    "name": "ipython",
    "version": 3
   },
   "file_extension": ".py",
   "mimetype": "text/x-python",
   "name": "python",
   "nbconvert_exporter": "python",
   "pygments_lexer": "ipython3",
   "version": "3.9.16"
  }
 },
 "nbformat": 4,
 "nbformat_minor": 2
}
