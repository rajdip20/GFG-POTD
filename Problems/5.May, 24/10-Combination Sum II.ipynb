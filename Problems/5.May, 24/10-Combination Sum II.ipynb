{
 "cells": [
  {
   "cell_type": "markdown",
   "metadata": {},
   "source": [
    "Given an array of integers **arr**, the length of the array **n**, and an integer **k**, find all the unique combinations in arr where the sum of the combination is equal to **k**. Each number can only be used once in a combination.<br>\n",
    "Return the combinations in the lexicographically sorted order, where each combination is in non-decreasing order.\n",
    "\n",
    "<br>\n",
    "\n",
    "**Example 1:**\n",
    ">**Input:** <br>\n",
    ">n = 5, k = 7<br>\n",
    ">arr[] = { 1, 2, 3, 3, 5 }<br>\n",
    ">**Output:**<br>\n",
    ">{ { 1, 3, 3 }, { 2, 5 } }<br>\n",
    ">**Explanation:**<br>\n",
    ">1 + 3 + 3 = 7<br>\n",
    ">2 + 5 = 7\n",
    "\n",
    "**Example 2:**\n",
    ">**Input:**<br>\n",
    ">n = 6, k = 30<br>\n",
    ">arr[] = { 5, 10, 15, 20, 25, 30 }<br>\n",
    ">**Output:**<br>\n",
    ">{ { 5, 10, 15 }, { 5, 25 }, { 10, 20 }, { 30 } }<br>\n",
    ">**Explanation:**<br>\n",
    ">5 + 10 + 15 = 30<br>\n",
    ">5 + 25 = 30<br>\n",
    ">10 + 20 = 30\n",
    "\n",
    "<br>\n",
    "\n",
    "**Your Task:**<br>\n",
    "You don't need to read input or print anything. Your task is to complete the function **CombinationSum2()** which takes arr[], n, and k as input parameters and returns all the unique combinations.\n",
    " \n",
    "\n",
    "**Constraints:**\n",
    "- >1 <= n <= 100\n",
    "- >1 <= arr[i] <= 50\n",
    "- >1 <= k <= 30\n",
    "\n",
    "let p = number of elements, at maximum, can sum up to the given value k.\n",
    "\n",
    "**Expected Time Complexity:** O(2<sup>min(n,p)</sup>)<br>\n",
    "**Expected Auxiliary Space:** O(n)"
   ]
  },
  {
   "cell_type": "code",
   "execution_count": 1,
   "metadata": {},
   "outputs": [],
   "source": [
    "class Solution:\n",
    "    \n",
    "    def CombinationSum2(self, arr, n, k):\n",
    "        # code here\n",
    "        def backtrack(start, end, target, path):\n",
    "            if target == 0:\n",
    "                result.add(tuple(path))\n",
    "                return\n",
    "            if target < 0:\n",
    "                return\n",
    "            for i in range(start, end):\n",
    "                if i > start and arr[i] == arr[i-1]:\n",
    "                    continue\n",
    "                backtrack(i+1, end, target-arr[i], path+[arr[i]])\n",
    "\n",
    "        arr.sort()\n",
    "        result = set()\n",
    "        backtrack(0, n, k, [])\n",
    "        return sorted(result)"
   ]
  }
 ],
 "metadata": {
  "kernelspec": {
   "display_name": "base",
   "language": "python",
   "name": "python3"
  },
  "language_info": {
   "codemirror_mode": {
    "name": "ipython",
    "version": 3
   },
   "file_extension": ".py",
   "mimetype": "text/x-python",
   "name": "python",
   "nbconvert_exporter": "python",
   "pygments_lexer": "ipython3",
   "version": "3.9.16"
  }
 },
 "nbformat": 4,
 "nbformat_minor": 2
}
