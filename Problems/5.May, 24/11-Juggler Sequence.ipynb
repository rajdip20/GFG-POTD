{
 "cells": [
  {
   "cell_type": "markdown",
   "metadata": {},
   "source": [
    "Juggler Sequence is a series of integers in which the first term starts with a positive integer number a and the remaining terms are generated from the immediate previous term using the below recurrence relation:\n",
    "\n",
    "![Juggler Formula](../../images/2220ffd2-353d-4b30-b2aa-68fe4047f959_1685087657.png)\n",
    "\n",
    "Given a number n, find the Juggler Sequence for this number as the first term of the sequence until it becomes 1.\n",
    "\n",
    "<br>\n",
    "\n",
    "**Example 1:**\n",
    ">**Input:** n = 9<br>\n",
    ">**Output:** 9 27 140 11 36 6 2 1<br>\n",
    ">**Explaination:** We start with 9 and use above formula to get next terms.\n",
    "\n",
    "**Example 2:**\n",
    ">**Input:** n = 6<br>\n",
    ">**Output:** 6 2 1<br>\n",
    ">**Explaination:** <br>\n",
    ">[6<sup>1/2</sup>] = 2. <br>\n",
    ">[2<sup>1/2</sup>] = 1.\n",
    "\n",
    "<br>\n",
    "\n",
    "**Your Task:**<br>\n",
    "You do not need to read input or print anything. Your Task is to complete the function **jugglerSequence()** which takes n as the input parameter and returns a list of integers denoting the generated sequence. \n",
    "\n",
    "**Expected Time Complexity:** O(n)<br>\n",
    "**Expected Auxiliary Space:** O(n)\n",
    "\n",
    "**Constraints:**\n",
    "- >1 ≤ n ≤ 100"
   ]
  },
  {
   "cell_type": "code",
   "execution_count": 1,
   "metadata": {},
   "outputs": [],
   "source": [
    "class Solution:\n",
    "    def jugglerSequence(self, n):\n",
    "        # code here\n",
    "        from math import floor, pow, sqrt\n",
    "\n",
    "        sequence = [n]\n",
    "        while n != 1:\n",
    "            if n % 2 == 0:\n",
    "                n = floor(sqrt(n))\n",
    "            else:\n",
    "                n = floor(pow(n, 1.5))\n",
    "            sequence.append(n)\n",
    "\n",
    "        return sequence"
   ]
  }
 ],
 "metadata": {
  "kernelspec": {
   "display_name": "base",
   "language": "python",
   "name": "python3"
  },
  "language_info": {
   "codemirror_mode": {
    "name": "ipython",
    "version": 3
   },
   "file_extension": ".py",
   "mimetype": "text/x-python",
   "name": "python",
   "nbconvert_exporter": "python",
   "pygments_lexer": "ipython3",
   "version": "3.9.16"
  }
 },
 "nbformat": 4,
 "nbformat_minor": 2
}
