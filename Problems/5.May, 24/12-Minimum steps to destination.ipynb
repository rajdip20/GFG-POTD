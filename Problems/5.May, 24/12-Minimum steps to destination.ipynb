{
 "cells": [
  {
   "cell_type": "markdown",
   "metadata": {},
   "source": [
    "Given an infinite number line. You start at 0 and can go either to the left or to the right. The condition is that in the **ith** move, you must take i steps. Given a destination **d**, find the **minimum** number of steps required to reach that destination.\n",
    "\n",
    "<br>\n",
    "\n",
    "**Example 1:**\n",
    ">**Input:** d = 2<br>\n",
    ">**Output:** 3<br>\n",
    ">**Explaination:** The steps takn are +1, -2 and +3.\n",
    "\n",
    "**Example 2:**\n",
    ">**Input:** d = 10<br>\n",
    ">**Output:** 4<br>\n",
    ">**Explaination:** The steps are +1, +2, +3 and +4.\n",
    "\n",
    "<br>\n",
    "\n",
    "**Your Task:**<br>\n",
    "You do not need to read input or print anything. Your task is to complete the function **minSteps()** which takes the value d as input parameter and returns the minimum number of steps required to reach the destination d from 0.\n",
    "\n",
    "**Expected Time Complexity:** O(d)<br>\n",
    "**Expected Auxiliary Space:** O(1)\n",
    "\n",
    "**Constraints:**\n",
    "1 ≤ d ≤ 10000"
   ]
  },
  {
   "cell_type": "code",
   "execution_count": 1,
   "metadata": {},
   "outputs": [],
   "source": [
    "class Solution:\n",
    "    def minSteps(self, d):\n",
    "        # code here\n",
    "        steps = 0\n",
    "        position = 0\n",
    "        while position < d or (position - d) % 2 != 0:\n",
    "            steps += 1\n",
    "            position += steps\n",
    "        return steps"
   ]
  }
 ],
 "metadata": {
  "kernelspec": {
   "display_name": "base",
   "language": "python",
   "name": "python3"
  },
  "language_info": {
   "codemirror_mode": {
    "name": "ipython",
    "version": 3
   },
   "file_extension": ".py",
   "mimetype": "text/x-python",
   "name": "python",
   "nbconvert_exporter": "python",
   "pygments_lexer": "ipython3",
   "version": "3.9.16"
  }
 },
 "nbformat": 4,
 "nbformat_minor": 2
}
