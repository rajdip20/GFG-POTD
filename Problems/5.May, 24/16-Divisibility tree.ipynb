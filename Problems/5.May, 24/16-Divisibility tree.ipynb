{
 "cells": [
  {
   "cell_type": "markdown",
   "metadata": {},
   "source": [
    "Given a tree with n nodes where **n** is **even**. The tree is numbered from 1 to n, has n - 1 edges and is rooted at node 1. Your task is to eliminate the **maximum** number of edges resulting in a set of disjoint trees where the number of nodes in each tree is divisible by **2**.\n",
    "\n",
    "<br>\n",
    "\n",
    "**Example 1:**\n",
    ">**Input:** <br>\n",
    ">n = 10<br>\n",
    ">edges = {{2,1},{3,1},{4,3},{5,2},{6,1},{7,2},{8,6},{9,8},{10,8}}<br>\n",
    ">**Output:**<br>\n",
    ">2<br>\n",
    ">**Explanation:**<br>\n",
    ">Original tree:<br><br>\n",
    ">![original tree](../../images/1466090203-2e0cf4f1be-even.png)<br>\n",
    ">   <br>\n",
    ">After removing edge 1-3 and 1-6, each remaining component consists of even number of nodes. <br><br>\n",
    ">![image1](../../images/image1-1.png)\n",
    "\n",
    "**Example 2:**\n",
    ">**Input:** <br>\n",
    ">n = 4<br>\n",
    ">edges = {{2,1},{4,2},{1,3}}<br>\n",
    ">**Output:**<br>\n",
    ">1<br>\n",
    ">**Explanation:**<br>\n",
    ">After removing 2-1, each remaining component consists of even number of nodes. \n",
    "\n",
    "<br>\n",
    "\n",
    "**Your Task:**<br>\n",
    "You don't need to read or print anyhting. Your task is to complete the function **minimumEdgeRemove()** which takes n and edges as input parameters and returns the maximum number of edges that need to be removed from the given tree.\n",
    "\n",
    "**Expected Time Complexity:** O(n)<br>\n",
    "**Expected Space Complexity:** O(n)\n",
    "\n",
    "**Constraints:**\n",
    "- >1 <= n <= 10<sup>5</sup>\n",
    "- >edges.length == n - 1\n",
    "- >1 <= edges[i][0], edges[i][1] <= n"
   ]
  },
  {
   "cell_type": "code",
   "execution_count": 1,
   "metadata": {},
   "outputs": [],
   "source": [
    "class Solution:\n",
    "    def minimumEdgeRemove(self, n : int, edges : list[list[int]]) -> int:\n",
    "        # code here\n",
    "        counts = [0] * (n + 1)\n",
    "        graph = [[] for _ in range(n + 1)]\n",
    "\n",
    "        for u, v in edges:\n",
    "            graph[u].append(v)\n",
    "            graph[v].append(u)\n",
    "        \n",
    "        def dfs(node, prev, counts, graph):\n",
    "            size = 1\n",
    "            for neigh in graph[node]:\n",
    "                if neigh == prev:\n",
    "                    continue\n",
    "                size += dfs(neigh, node, counts, graph)\n",
    "            \n",
    "            counts[node] = size\n",
    "            return size\n",
    "        \n",
    "        dfs(1, -1, counts, graph)\n",
    "        ans = 0\n",
    "\n",
    "        for i in range(2, n+1):\n",
    "            if counts[i] % 2 == 0:\n",
    "                ans += 1\n",
    "                \n",
    "        return ans"
   ]
  }
 ],
 "metadata": {
  "kernelspec": {
   "display_name": "base",
   "language": "python",
   "name": "python3"
  },
  "language_info": {
   "codemirror_mode": {
    "name": "ipython",
    "version": 3
   },
   "file_extension": ".py",
   "mimetype": "text/x-python",
   "name": "python",
   "nbconvert_exporter": "python",
   "pygments_lexer": "ipython3",
   "version": "3.9.16"
  }
 },
 "nbformat": 4,
 "nbformat_minor": 2
}
