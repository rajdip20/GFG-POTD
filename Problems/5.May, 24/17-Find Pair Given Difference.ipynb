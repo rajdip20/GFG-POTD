{
 "cells": [
  {
   "cell_type": "markdown",
   "metadata": {},
   "source": [
    "Given an array **arr[]** of size **n** and an integer **x**, return 1 if there exists a pair of elements in the array whose absolute difference is **x**, otherwise, return -1.\n",
    "\n",
    "<br>\n",
    "\n",
    "**Example 1:**\n",
    ">**Input:**<br>\n",
    ">n = 6<br>\n",
    ">x = 78<br>\n",
    ">arr[] = {5, 20, 3, 2, 5, 80}<br>\n",
    ">**Output:**<br>\n",
    ">1<br>\n",
    ">**Explanation:**<br>\n",
    ">Pair (2, 80) have absolute difference of 78.\n",
    "\n",
    "**Example 2:**\n",
    ">**Input:**<br>\n",
    ">n = 5<br>\n",
    ">x = 45<br>\n",
    ">arr[] = {90, 70, 20, 80, 50}<br>\n",
    ">**Output:**<br>\n",
    ">-1<br>\n",
    "**Explanation:**<br>\n",
    ">There is no pair with absolute difference of 45.\n",
    "\n",
    "<br>\n",
    "\n",
    "**Your Task:**<br>\n",
    "You need not take input or print anything. Your task is to complete the function **findPair()** which takes integers **n**, **x**, and an array **arr[]** as input parameters and returns 1 if the required pair exists, return -1 otherwise.\n",
    "\n",
    "**Expected Time Complexity:** O(n * Log(n)).<br>\n",
    "**Expected Auxiliary Space:** O(1).\n",
    "\n",
    "**Constraints:**\n",
    "- >1<=n<=10<sup>6</sup> \n",
    "- >1<=arr[i]<=10<sup>6</sup> \n",
    "- >0<=x<=10<sup>5</sup>"
   ]
  },
  {
   "cell_type": "code",
   "execution_count": 1,
   "metadata": {},
   "outputs": [],
   "source": [
    "class Solution:\n",
    "    def findPair(self, n : int, x : int, arr : list[int]) -> int:\n",
    "        # code here\n",
    "        arr.sort()\n",
    "\n",
    "        left = 0\n",
    "        right = 1\n",
    "\n",
    "        while right < n:\n",
    "            if arr[right] - arr[left] == x:\n",
    "                return 1\n",
    "            elif arr[right] - arr[left] > x:\n",
    "                left += 1\n",
    "            else:\n",
    "                right += 1\n",
    "\n",
    "            if left == right:\n",
    "                right += 1\n",
    "\n",
    "        return -1"
   ]
  }
 ],
 "metadata": {
  "kernelspec": {
   "display_name": "base",
   "language": "python",
   "name": "python3"
  },
  "language_info": {
   "codemirror_mode": {
    "name": "ipython",
    "version": 3
   },
   "file_extension": ".py",
   "mimetype": "text/x-python",
   "name": "python",
   "nbconvert_exporter": "python",
   "pygments_lexer": "ipython3",
   "version": "3.9.16"
  }
 },
 "nbformat": 4,
 "nbformat_minor": 2
}
