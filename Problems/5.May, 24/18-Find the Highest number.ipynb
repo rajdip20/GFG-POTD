{
 "cells": [
  {
   "cell_type": "markdown",
   "metadata": {},
   "source": [
    "Given an integer array **a[]** of size **n**, find the highest element of the array. The array will either be strictly increasing or strictly increasing and then strictly decreasing.\n",
    "\n",
    "**Note:** a[i] != a[i+1] \n",
    "\n",
    "<br>\n",
    "\n",
    "**Example 1:**\n",
    ">**Input:**<br>\n",
    ">11<br>\n",
    ">1 2 3 4 5 6 5 4 3 2 1<br>\n",
    ">**Output:** <br>\n",
    ">6<br>\n",
    ">**Explanation:** <br>\n",
    ">Highest element of array a[] is 6.\n",
    "\n",
    "**Example 2:**\n",
    ">**Input:**<br>\n",
    ">5<br>\n",
    ">1 2 3 4 5<br>\n",
    ">**Output:**<br>\n",
    ">5<br>\n",
    ">**Explanation:** <br>\n",
    ">Highest element of array a[] is 5.\n",
    "\n",
    "<br>\n",
    "\n",
    "**Your Task:**<br>\n",
    "You don't need to read or print anything. Your task is to complete the function **findPeakElement()** which takes integer n, and the array a[] as the input parameters and returns the highest element of the array.\n",
    "\n",
    "**Expected Time Complexity:** O(log(n))<br>\n",
    "**Expected Space Complexity:** O(1)\n",
    "\n",
    "**Constraints:**\n",
    "- >2 <= n <= 10<sup>6</sup>\n",
    "- >1 <= a[i] <= 10<sup>6</sup>"
   ]
  },
  {
   "cell_type": "code",
   "execution_count": 1,
   "metadata": {},
   "outputs": [],
   "source": [
    "class Solution:\n",
    "    def findPeakElement(self, a):\n",
    "\t\t# Code here\n",
    "        n = len(a)\n",
    "        left, right = 0, n - 1\n",
    "        while left < right:\n",
    "            mid = (left + right) // 2\n",
    "            if a[mid] < a[mid + 1]:\n",
    "                left = mid + 1\n",
    "            else:\n",
    "                right = mid\n",
    "        return a[left]"
   ]
  }
 ],
 "metadata": {
  "kernelspec": {
   "display_name": "base",
   "language": "python",
   "name": "python3"
  },
  "language_info": {
   "codemirror_mode": {
    "name": "ipython",
    "version": 3
   },
   "file_extension": ".py",
   "mimetype": "text/x-python",
   "name": "python",
   "nbconvert_exporter": "python",
   "pygments_lexer": "ipython3",
   "version": "3.9.16"
  }
 },
 "nbformat": 4,
 "nbformat_minor": 2
}
