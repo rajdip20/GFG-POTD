{
 "cells": [
  {
   "cell_type": "markdown",
   "metadata": {},
   "source": [
    "Given a **sorted** array **arr[]** of positive integers. The task is to find the closest value in the array to the given number **k**. The array may contain duplicate values.\n",
    "\n",
    "**Note:** If the difference with k is the same for two values in the array return the greater value.\n",
    "\n",
    "<br>\n",
    "\n",
    "**Example 1:**\n",
    ">**Input:** <br>\n",
    ">n = 4<br>\n",
    ">k = 4<br>\n",
    ">arr[] = {1, 3, 6, 7}<br>\n",
    ">**Output:** <br>\n",
    ">3<br>\n",
    ">**Explanation:**<br>\n",
    ">We have array arr={1, 3, 6, 7} and target is 4. If we look at the absolute difference of target with every element of the array we will get { |1-4|, |3-4|, |6-4|, |7-4| }  = {3, 1, 2, 3}. So, the closest number is 3.\n",
    "\n",
    "**Example 2:**\n",
    ">**Input:**<br>\n",
    ">n = 7<br>\n",
    ">k = 4<br>\n",
    ">arr[] = {1, 2, 3, 5, 6, 8, 9}<br>\n",
    ">**Output:**<br>\n",
    ">5<br>\n",
    ">**Explanation:**<br>\n",
    ">The absolute difference of 4 is 1 from both 3 and 5. According to the question, we have to return greater value, which is 5.\n",
    "\n",
    "<br>\n",
    "\n",
    "**Your Task:**<br>\n",
    "This is a function problem. The input is already taken care of by the driver code. You only need to complete the function **findClosest()** that takes integers **n** and **k** and sorted array **arr[]** of size n as input parameters and return the closest number in the array to k. \n",
    "\n",
    "**Expected Time Complexity:** O(log(n)).<br>\n",
    "**Expected Auxiliary Space:** O(1).\n",
    "\n",
    "**Constraints:**\n",
    "- >1 ≤ n ≤ 10<sup>6</sup>\n",
    "- >1 ≤ k ≤ 10<sup>9</sup>\n",
    "- >1 ≤ arr[i] ≤ 10<sup>9</sup>"
   ]
  },
  {
   "cell_type": "code",
   "execution_count": 1,
   "metadata": {},
   "outputs": [],
   "source": [
    "class Solution:\n",
    "    def findClosest(self, n : int, k : int, arr : list[int]) -> int:\n",
    "        # code here\n",
    "        left, right = 0, n - 1\n",
    "        closest_num = arr[0]\n",
    "        \n",
    "        while left <= right:\n",
    "            mid = left + (right - left) // 2\n",
    "            \n",
    "            if abs(arr[mid] - k) < abs(closest_num - k) or (abs(arr[mid] - k) == abs(closest_num - k) and arr[mid] > closest_num):\n",
    "                closest_num = arr[mid]\n",
    "            \n",
    "            if k < arr[mid]:\n",
    "                right = mid - 1\n",
    "            elif k > arr[mid]:\n",
    "                left = mid + 1\n",
    "            else:\n",
    "                return arr[mid]\n",
    "        \n",
    "        return closest_num"
   ]
  }
 ],
 "metadata": {
  "kernelspec": {
   "display_name": "base",
   "language": "python",
   "name": "python3"
  },
  "language_info": {
   "codemirror_mode": {
    "name": "ipython",
    "version": 3
   },
   "file_extension": ".py",
   "mimetype": "text/x-python",
   "name": "python",
   "nbconvert_exporter": "python",
   "pygments_lexer": "ipython3",
   "version": "3.9.16"
  }
 },
 "nbformat": 4,
 "nbformat_minor": 2
}
