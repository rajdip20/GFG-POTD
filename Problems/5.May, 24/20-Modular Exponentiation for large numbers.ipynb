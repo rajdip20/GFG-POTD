{
 "cells": [
  {
   "cell_type": "markdown",
   "metadata": {},
   "source": [
    "Implement pow(x, n) % M.<br>\n",
    "In other words, for a given value of x, n, and M, find (x<sup>n</sup>) % M.\n",
    "\n",
    "<br>\n",
    "\n",
    "**Example 1:**\n",
    ">**Input:**<br>\n",
    ">x = 3, n = 2, m = 4<br>\n",
    ">**Output:**<br>\n",
    ">1<br>\n",
    ">**Explanation:**<br>\n",
    ">32 = 9. 9 % 4 = 1.\n",
    "\n",
    "**Example 2:**\n",
    ">**Input:**<br>\n",
    ">x = 2, n = 6, m = 10<br>\n",
    ">**Output:**<br>\n",
    ">4<br>\n",
    ">**Explanation:**<br>\n",
    ">26 = 64. 64 % 10 = 4.\n",
    "\n",
    "<br>\n",
    "\n",
    "**Your Task:**<br>\n",
    "You don't need to read or print anything. Your task is to complete the function **PowMod()** which takes integers x, n, and M as input parameters and returns x<sup>n</sup> % M. \n",
    "\n",
    "**Expected Time Complexity:** O(log(n))<br>\n",
    "**Expected Space Complexity:** O(1)\n",
    "\n",
    "**Constraints:**\n",
    "- >1 ≤ x, n, M ≤ 10<sup>9</sup>"
   ]
  },
  {
   "cell_type": "code",
   "execution_count": 1,
   "metadata": {},
   "outputs": [],
   "source": [
    "class Solution:\n",
    "    def PowMod(self, x, n, m):\n",
    "\t\t# Code here\n",
    "        result = 1\n",
    "        x = x % m\n",
    "\n",
    "        while n > 0:\n",
    "            if n % 2 == 1:\n",
    "                result = (result * x) % m\n",
    "            \n",
    "            n = n // 2\n",
    "            x = (x * x) % m\n",
    "        \n",
    "        return result"
   ]
  }
 ],
 "metadata": {
  "kernelspec": {
   "display_name": "base",
   "language": "python",
   "name": "python3"
  },
  "language_info": {
   "codemirror_mode": {
    "name": "ipython",
    "version": 3
   },
   "file_extension": ".py",
   "mimetype": "text/x-python",
   "name": "python",
   "nbconvert_exporter": "python",
   "pygments_lexer": "ipython3",
   "version": "3.9.16"
  }
 },
 "nbformat": 4,
 "nbformat_minor": 2
}
