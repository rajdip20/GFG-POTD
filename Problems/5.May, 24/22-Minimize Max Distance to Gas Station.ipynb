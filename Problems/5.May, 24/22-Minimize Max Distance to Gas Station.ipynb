{
 "cells": [
  {
   "cell_type": "markdown",
   "metadata": {},
   "source": [
    "We have a horizontal number line. On that number line, we have gas **stations** at positions stations[0], stations[1], ..., stations[N-1], where **n** = size of the stations array. Now, we add **k** more gas stations so that **d**, the maximum distance between adjacent gas stations, is minimized. We have to find the smallest possible value of d. Find the answer **exactly** to 2 decimal places.\n",
    "\n",
    "<br>\n",
    "\n",
    "**Example 1:**\n",
    ">**Input:**<br>\n",
    ">n = 10<br>\n",
    ">stations = [1, 2, 3, 4, 5, 6, 7, 8, 9, 10]<br>\n",
    ">k = 9<br>\n",
    ">**Output:** 0.50<br>\n",
    ">**Explanation:** Each of the 9 stations can be added mid way between all the existing adjacent stations.\n",
    "\n",
    "**Example 2:**\n",
    ">**Input:**<br>\n",
    ">n = 10<br>\n",
    ">stations = [3,6,12,19,33,44,67,72,89,95] <br>\n",
    ">k = 2 <br>\n",
    ">**Output:** 14.00 <br>\n",
    ">**Explanation:** Construction of gas stations at 8th(between 72 and 89) and 6th(between 44 and 67) locations.\n",
    "\n",
    "<br>\n",
    "\n",
    "**Your Task:**<br>\n",
    "You don't need to read input or print anything. Your task is to complete the function **findSmallestMaxDist()** which takes a list of stations and integer k as inputs and returns the smallest possible value of d. Find the answer **exactly** to 2 decimal places.\n",
    "\n",
    "**Expected Time Complexity:** O(n * log k)<br>\n",
    "**Expected Auxiliary Space:** O(1)\n",
    "\n",
    "**Constraint:**\n",
    "- >10 <= n <= 5000 \n",
    "- >0 <= stations[i] <= 10<sup>9</sup> \n",
    "- >0 <= k <= 10<sup>5</sup>\n",
    "\n",
    "<br>\n",
    "\n",
    "**stations** is sorted in a **strictly increasing** order."
   ]
  },
  {
   "cell_type": "code",
   "execution_count": 1,
   "metadata": {},
   "outputs": [],
   "source": [
    "class Solution:\n",
    "    def findSmallestMaxDist(self, stations, K):\n",
    "        # Code here\n",
    "        import math\n",
    "\n",
    "        def is_possible(distance):\n",
    "            count = 0\n",
    "            for i in range(len(stations) - 1):\n",
    "                count += math.floor((stations[i+1] - stations[i]) / distance)\n",
    "            return count <= K\n",
    "\n",
    "        left, right = 0, stations[-1] - stations[0]\n",
    "        while right - left > 1e-6:\n",
    "            mid = left + (right - left) / 2.0\n",
    "            if is_possible(mid):\n",
    "                right = mid\n",
    "            else:\n",
    "                left = mid\n",
    "        return right"
   ]
  }
 ],
 "metadata": {
  "kernelspec": {
   "display_name": "base",
   "language": "python",
   "name": "python3"
  },
  "language_info": {
   "codemirror_mode": {
    "name": "ipython",
    "version": 3
   },
   "file_extension": ".py",
   "mimetype": "text/x-python",
   "name": "python",
   "nbconvert_exporter": "python",
   "pygments_lexer": "ipython3",
   "version": "3.9.16"
  }
 },
 "nbformat": 4,
 "nbformat_minor": 2
}
