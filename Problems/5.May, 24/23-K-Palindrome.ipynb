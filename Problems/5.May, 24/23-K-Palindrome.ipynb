{
 "cells": [
  {
   "cell_type": "markdown",
   "metadata": {},
   "source": [
    "Given a string **str** of length **n**, find if the string is K-Palindrome or not. A k-palindrome string transforms into a palindrome on removing at most **k** characters from it.\n",
    "\n",
    "<br>\n",
    "\n",
    "**Example 1:**\n",
    ">**Input:** str = \"abcdecba\"<br>\n",
    ">n = 8, k = 1<br>\n",
    ">**Output:** 1<br>\n",
    ">**Explaination:** By removing 'd' or 'e' <br>\n",
    ">we can make it a palindrome.\n",
    "\n",
    "**Example 2:**\n",
    ">**Input:** str = \"abcdefcba\"<br>\n",
    ">n = 9, k = 1<br>\n",
    ">**Output:** 0<br>\n",
    ">**Explaination:** By removing a single <br>\n",
    ">character we cannot make it a palindrome.\n",
    "\n",
    "<br>\n",
    "\n",
    "**Your Task:**<br>\n",
    "You do not need to read input or print anything. Your task is to complete the function **kPalindrome()** which takes string str, n, and k as input parameters and returns **1** if str is a K-palindrome else returns **0**.\n",
    "\n",
    "**Expected Time Complexity:** O(n * n)<br>\n",
    "**Expected Auxiliary Space:** O(n * n)\n",
    "\n",
    "**Constraints:**\n",
    "- >1 ≤ n, k ≤ 10<sup>3</sup>"
   ]
  },
  {
   "cell_type": "code",
   "execution_count": 1,
   "metadata": {},
   "outputs": [],
   "source": [
    "class Solution:\n",
    "    def kPalindrome(self, str, n, k):\n",
    "        # code here\n",
    "        dp = [[0] * n for _ in range(n)]\n",
    "    \n",
    "        for length in range(2, n + 1):\n",
    "            for i in range(n - length + 1):\n",
    "                j = i + length - 1\n",
    "                if str[i] == str[j]:\n",
    "                    dp[i][j] = dp[i + 1][j - 1]\n",
    "                else:\n",
    "                    dp[i][j] = 1 + min(dp[i + 1][j], dp[i][j - 1])\n",
    "        \n",
    "        if dp[0][n - 1] <= k:\n",
    "            return 1\n",
    "        else:\n",
    "            return 0"
   ]
  }
 ],
 "metadata": {
  "kernelspec": {
   "display_name": "base",
   "language": "python",
   "name": "python3"
  },
  "language_info": {
   "codemirror_mode": {
    "name": "ipython",
    "version": 3
   },
   "file_extension": ".py",
   "mimetype": "text/x-python",
   "name": "python",
   "nbconvert_exporter": "python",
   "pygments_lexer": "ipython3",
   "version": "3.9.16"
  }
 },
 "nbformat": 4,
 "nbformat_minor": 2
}
