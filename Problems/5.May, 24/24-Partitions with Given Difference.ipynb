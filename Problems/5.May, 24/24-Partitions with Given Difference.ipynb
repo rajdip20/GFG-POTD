{
 "cells": [
  {
   "cell_type": "markdown",
   "metadata": {},
   "source": [
    "Given an array **arr**, partition it into two subsets(possibly empty) such that each element must belong to only one subset. Let the sum of the elements of these two subsets be **S1** and **S2**. <br>\n",
    "Given a difference **d**, count the number of partitions in which **S1** is greater than or equal to **S2** and the difference between **S1** and **S2** is equal to **d**. Since the answer may be large return it **modulo 10<sup>9</sup> + 7**.\n",
    "\n",
    "<br>\n",
    "\n",
    "**Example 1:**\n",
    ">**Input:**<br>\n",
    ">n = 4<br>\n",
    ">d = 3<br>\n",
    ">arr[] =  { 5, 2, 6, 4}<br>\n",
    ">**Output:** 1<br>\n",
    ">**Explanation:**<br>\n",
    ">There is only one possible partition of this array. Partition : {6, 4}, {5, 2}. The subset difference between subset sum is: (6 + 4) - (5 + 2) = 3.\n",
    "\n",
    "**Example 2:**\n",
    ">**Input:**<br>\n",
    ">n = 4<br>\n",
    ">d = 0 <br>\n",
    ">arr[] = {1, 1, 1, 1} <br>\n",
    ">**Output:** 6 <br>\n",
    ">**Explanation:**<br>\n",
    ">we can choose two 1's from indices {0,1}, {0,2}, {0,3}, {1,2}, {1,3}, {2,3} and put them in S1 and remaning two 1's in S2.<br>\n",
    ">Thus there are total 6 ways for partition the array arr. \n",
    "\n",
    "<br>\n",
    "\n",
    "**Your Task:**<br>\n",
    "You don't have to read input or print anything. Your task is to complete the function **countPartitions()** which takes the integer **n** and **d** and array **arr** and returns the count of partitions.\n",
    "\n",
    "**Expected Time Complexity:** O( n * sum(arr))<br>\n",
    "**Expected Space Complexity:** O( sum(arr))\n",
    "\n",
    "**Constraint:**\n",
    "- >1 <= n <= 500\n",
    "- >0 <= d <= 25000\n",
    "- >0 <= arr[i] <= 50"
   ]
  },
  {
   "cell_type": "code",
   "execution_count": 1,
   "metadata": {},
   "outputs": [],
   "source": [
    "class Solution:\n",
    "    def countPartitions(self, n : int, d : int, arr : list[int]) -> int:\n",
    "        # code here\n",
    "        MOD = 10**9 + 7\n",
    "        total_sum = sum(arr)\n",
    "    \n",
    "        if (total_sum + d) % 2 != 0:\n",
    "            return 0\n",
    "        \n",
    "        target = (total_sum + d) // 2\n",
    "        \n",
    "        dp = [0] * (target + 1)\n",
    "        dp[0] = 1\n",
    "        \n",
    "        for num in arr:\n",
    "            for j in range(target, num - 1, -1):\n",
    "                dp[j] = (dp[j] + dp[j - num]) % MOD\n",
    "        \n",
    "        return dp[target]"
   ]
  }
 ],
 "metadata": {
  "kernelspec": {
   "display_name": "base",
   "language": "python",
   "name": "python3"
  },
  "language_info": {
   "codemirror_mode": {
    "name": "ipython",
    "version": 3
   },
   "file_extension": ".py",
   "mimetype": "text/x-python",
   "name": "python",
   "nbconvert_exporter": "python",
   "pygments_lexer": "ipython3",
   "version": "3.9.16"
  }
 },
 "nbformat": 4,
 "nbformat_minor": 2
}
