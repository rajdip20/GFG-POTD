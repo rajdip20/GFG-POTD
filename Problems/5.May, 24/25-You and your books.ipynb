{
 "cells": [
  {
   "cell_type": "markdown",
   "metadata": {},
   "source": [
    "You have **n** stacks of books. Each stack of books has some nonzero height **arr[i]** equal to the number of books on that stack ( considering all the books are identical and each book has a height of 1 unit ). In one move, you can select any number of consecutive stacks of books such that the height of each selected stack of books arr[i] <= **k**. Once such a sequence of stacks is chosen, You can collect any number of books from the chosen sequence of stacks.<br>\n",
    "What is the maximum number of books that you can collect this way?\n",
    "\n",
    "<br>\n",
    "\n",
    "**Example 1**\n",
    ">**Input:**<br>\n",
    ">8 1<br>\n",
    ">3 2 2 3 1 1 1 3<br>\n",
    ">**Output:**<br>\n",
    ">3<br>\n",
    ">**Explanation:** <br>\n",
    ">We can collect maximum books from consecutive stacks numbered 5, 6, and 7 having height less than equal to K.\n",
    "\n",
    "**Example 2**\n",
    ">**Input:**<br>\n",
    ">8 2<br>\n",
    ">3 2 2 3 1 1 1 3<br>\n",
    ">**Output:**<br>\n",
    ">4<br>\n",
    ">**Explanation:**<br>\n",
    ">We can collect maximum books from consecutive stacks numbered 2 and 3 having height less than equal to K.\n",
    "\n",
    "<br>\n",
    "\n",
    "**Your Task:**<br>\n",
    "You don't have to read input or print anything. Your task is to complete the function **max_Books()** which takes the integer arr, n, and k returns the maximum number of books you can collect.\n",
    "\n",
    "**Expected Time Complexity:** O(n)<br>\n",
    "**Expected Space Complexity:** O(1)\n",
    "\n",
    "**Constraints:**\n",
    "- >1 <= n <= 10<sup>5</sup>\n",
    "- >1 <= k <= 10<sup>9</sup>\n",
    "- >1 <= arr[i] <= 10<sup>9</sup>"
   ]
  },
  {
   "cell_type": "code",
   "execution_count": 1,
   "metadata": {},
   "outputs": [],
   "source": [
    "class Solution:\n",
    "    #Your task is to complete this function\n",
    "    #Function should return an integer\n",
    "    #a - list/array containing height of stack's respectively\n",
    "    def max_Books(self, n, k, arr):\n",
    "        # code here\n",
    "        max_books = 0\n",
    "        current_books = 0\n",
    "\n",
    "        for end in range(n):\n",
    "            if arr[end] <= k:\n",
    "                current_books += arr[end]\n",
    "                max_books = max(max_books, current_books)\n",
    "            else:\n",
    "                current_books = 0\n",
    "\n",
    "        return max_books"
   ]
  }
 ],
 "metadata": {
  "kernelspec": {
   "display_name": "base",
   "language": "python",
   "name": "python3"
  },
  "language_info": {
   "codemirror_mode": {
    "name": "ipython",
    "version": 3
   },
   "file_extension": ".py",
   "mimetype": "text/x-python",
   "name": "python",
   "nbconvert_exporter": "python",
   "pygments_lexer": "ipython3",
   "version": "3.9.16"
  }
 },
 "nbformat": 4,
 "nbformat_minor": 2
}
