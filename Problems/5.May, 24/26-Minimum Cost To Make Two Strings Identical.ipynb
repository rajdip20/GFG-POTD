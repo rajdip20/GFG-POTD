{
 "cells": [
  {
   "cell_type": "markdown",
   "metadata": {},
   "source": [
    "Given two strings **x** and **y**, and two values **costX** and **costY**, the task is to find the minimum cost required to make the given two strings identical. You can delete characters from both the strings. The cost of deleting a character from string X is costX and from Y is costY. The cost of removing all characters from a string is the same.\n",
    "\n",
    "<br>\n",
    "\n",
    "**Example 1:**\n",
    ">**Input:** x = \"abcd\", y = \"acdb\", costX = 10 , costY = 20.<br>\n",
    ">**Output:** 30<br>\n",
    ">**Explanation:** For Making both strings identical we have to delete character 'b' from both the string, hence cost will be = 10 + 20 = 30.\n",
    "\n",
    "**Example 2:**\n",
    ">**Input:** x = \"ef\", y = \"gh\", costX = 10, costY = 20.<br>\n",
    ">**Output:** 60<br>\n",
    ">**Explanation:** For making both strings identical, we have to delete 2-2 characters from both the strings, hence cost will be = 10 + 10 + 20 + 20 = 60.\n",
    "\n",
    "<br>\n",
    "\n",
    "**Your Task:**<br>\n",
    "You don't need to read or print anything. Your task is to complete the function **findMinCost()** which takes both strings and the costs as input parameters and returns the minimum cost.\n",
    "\n",
    "**Expected Time Complexity:** O(|x| * |y|)<br>\n",
    "**Expected Space Complexity:** O(|x| * |y|)\n",
    "\n",
    "**Constraints:**\n",
    "- >1 ≤ |x|, |y| ≤ 1000\n",
    "- >1<= costX, costY <= 10<sup>5</sup>"
   ]
  },
  {
   "cell_type": "code",
   "execution_count": 1,
   "metadata": {},
   "outputs": [],
   "source": [
    "class Solution:\n",
    "    def findMinCost(self, x, y, costX, costY):\n",
    "\t\t# code here\n",
    "        m, n = len(x), len(y)\n",
    "        dp = [[0] * (n + 1) for _ in range(m + 1)]\n",
    "        \n",
    "        for i in range(1, m + 1):\n",
    "            dp[i][0] = i * costX\n",
    "        for j in range(1, n + 1):\n",
    "            dp[0][j] = j * costY\n",
    "        \n",
    "        for i in range(1, m + 1):\n",
    "            for j in range(1, n + 1):\n",
    "                if x[i-1] == y[j-1]:\n",
    "                    dp[i][j] = dp[i-1][j-1]\n",
    "                else:\n",
    "                    dp[i][j] = min(dp[i-1][j] + costX, dp[i][j-1] + costY)\n",
    "        \n",
    "        return dp[m][n]"
   ]
  }
 ],
 "metadata": {
  "kernelspec": {
   "display_name": "base",
   "language": "python",
   "name": "python3"
  },
  "language_info": {
   "codemirror_mode": {
    "name": "ipython",
    "version": 3
   },
   "file_extension": ".py",
   "mimetype": "text/x-python",
   "name": "python",
   "nbconvert_exporter": "python",
   "pygments_lexer": "ipython3",
   "version": "3.9.16"
  }
 },
 "nbformat": 4,
 "nbformat_minor": 2
}
