{
 "cells": [
  {
   "cell_type": "markdown",
   "metadata": {},
   "source": [
    "Given an integer array **a[]** of size **n**, find the length of the longest subsequence such that the absolute difference between adjacent elements is **1**.\n",
    "\n",
    "<br>\n",
    "\n",
    "**Example 1:**\n",
    ">**Input:**<br>\n",
    ">n = 7<br>\n",
    ">a[] = {10, 9, 4, 5, 4, 8, 6}<br>\n",
    ">**Output:** <br>\n",
    ">3<br>\n",
    ">**Explaination:** <br>\n",
    ">The three possible subsequences of length 3 are {10, 9, 8}, {4, 5, 4}, and {4, 5, 6}, where adjacent elements have a absolute difference of 1. No valid subsequence of greater length could be formed.\n",
    "\n",
    "**Example 2:**\n",
    ">**Input:** <br>\n",
    ">n = 5<br>\n",
    ">a[] = {1, 2, 3, 4, 5}<br>\n",
    ">**Output:** <br>\n",
    ">5<br>\n",
    ">**Explaination:** <br>\n",
    ">All the elements can be included in the valid subsequence.\n",
    "\n",
    "<br>\n",
    "\n",
    "**Your Task:**<br>\n",
    "You do not need to read input. Your task is to complete the function **longestSubseq()** which takes integer **n** and array **a[]** as input parameters and returns the length of the longest subsequence where the absolute difference of adjacent elements is **1**.\n",
    "\n",
    "**Expected Time Complexity:** O(n)<br>\n",
    "**Expected Auxiliary Space:** O(n)\n",
    "\n",
    "**Constraints:**\n",
    "- >1 ≤ n ≤ 10<sup>3</sup>\n",
    "- >1 ≤ a[i] ≤ 10<sup>3</sup>"
   ]
  },
  {
   "cell_type": "code",
   "execution_count": 1,
   "metadata": {},
   "outputs": [],
   "source": [
    "class Solution:\n",
    "    def longestSubseq(self, n : int, a : list[int]) -> int:\n",
    "        # code here\n",
    "        dp = [1] * n\n",
    "    \n",
    "        for i in range(1, n):\n",
    "            for j in range(i):\n",
    "                if abs(a[i] - a[j]) == 1:\n",
    "                    dp[i] = max(dp[i], dp[j] + 1)\n",
    "        \n",
    "        return max(dp)"
   ]
  }
 ],
 "metadata": {
  "kernelspec": {
   "display_name": "base",
   "language": "python",
   "name": "python3"
  },
  "language_info": {
   "codemirror_mode": {
    "name": "ipython",
    "version": 3
   },
   "file_extension": ".py",
   "mimetype": "text/x-python",
   "name": "python",
   "nbconvert_exporter": "python",
   "pygments_lexer": "ipython3",
   "version": "3.9.16"
  }
 },
 "nbformat": 4,
 "nbformat_minor": 2
}
