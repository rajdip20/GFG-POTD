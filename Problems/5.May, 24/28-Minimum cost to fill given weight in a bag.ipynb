{
 "cells": [
  {
   "cell_type": "markdown",
   "metadata": {},
   "source": [
    "Given an array **cost[]** of positive integers of size **n** and an integer **w**, where cost[i] represents the cost of an i kg packet of oranges, the task is to find the minimum cost to buy exactly w kg of oranges. The cost array has a 1-based indexing. If buying exactly w kg of oranges is impossible, then return -1.<br>\n",
    "**Note:**<br>\n",
    "1. **cost[i] = -1** means that **i** kg packet of orange is unavailable.\n",
    "2. It may be assumed that there is an infinite supply of all available packet types.\n",
    "\n",
    "<br>\n",
    "\n",
    "**Example 1:**\n",
    ">**Input:** <br>\n",
    ">n = 5<br>\n",
    ">cost[] = {20, 10, 4, 50, 100} <br>\n",
    ">w = 5<br>\n",
    ">**Output:** <br>\n",
    ">14<br>\n",
    ">**Explanation:** <br>\n",
    ">Purchase the 2kg packet for 10 coins and the 3kg packet for 4 coins to buy 5kg of oranges for 14 coins.\n",
    "\n",
    "**Example 2:**\n",
    ">**Input:**<br>\n",
    ">n = 5<br>\n",
    ">cost[] = {-1, -1, 4, 3, -1}<br>\n",
    ">w = 5<br>\n",
    ">**Output:**<br>\n",
    ">-1<br>\n",
    ">**Explanation:** <br>\n",
    ">It is not possible to buy 5 kgs of oranges.\n",
    "\n",
    "<br>\n",
    "\n",
    "**Your Task:**<br>\n",
    "You don't need to read input or print anything. Complete the function **minimumCost()** which takes integers **n** and **w**, and integer array **cost[]** as input parameters and returns the minimum cost to buy exactly w kg of oranges, If buying exactly w kg of oranges is impossible, then return -1.\n",
    "\n",
    "**Expected Time Complexity:** O(**n * w**)<br>\n",
    "**Expected Auxiliary Space:** O(**n * w**)\n",
    "\n",
    "**Constraints:**\n",
    "- >1 ≤ n, w ≤ 2*10<sup>2</sup>\n",
    "- >1 ≤ cost[i] ≤ 10<sup>5</sup>\n",
    "- >cost[i] ≠ 0"
   ]
  },
  {
   "cell_type": "code",
   "execution_count": 1,
   "metadata": {},
   "outputs": [],
   "source": [
    "class Solution:\n",
    "    def minimumCost(self, n : int, w : int, cost : list[int]) -> int:\n",
    "        # code here\n",
    "        dp = [float('inf')] * (w + 1)\n",
    "        dp[0] = 0\n",
    "        \n",
    "        for i in range(n):\n",
    "            if cost[i] != -1:\n",
    "                for j in range(i + 1, w + 1):\n",
    "                    if dp[j - (i + 1)] != float('inf'):\n",
    "                        dp[j] = min(dp[j], dp[j - (i + 1)] + cost[i])\n",
    "        \n",
    "        return dp[w] if dp[w] != float('inf') else -1"
   ]
  }
 ],
 "metadata": {
  "kernelspec": {
   "display_name": "base",
   "language": "python",
   "name": "python3"
  },
  "language_info": {
   "codemirror_mode": {
    "name": "ipython",
    "version": 3
   },
   "file_extension": ".py",
   "mimetype": "text/x-python",
   "name": "python",
   "nbconvert_exporter": "python",
   "pygments_lexer": "ipython3",
   "version": "3.9.16"
  }
 },
 "nbformat": 4,
 "nbformat_minor": 2
}
