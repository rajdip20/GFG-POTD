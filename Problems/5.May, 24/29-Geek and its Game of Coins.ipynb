{
 "cells": [
  {
   "cell_type": "markdown",
   "metadata": {},
   "source": [
    "Given three numbers **n**, **x**, and **y**, Geek and his friend are playing a coin game. In the beginning, there are **n** coins. In each move, a player can pick **x**, **y**, or **1** coin. Geek always starts the game. The player who picks the last coin wins the game. The task is to determine whether Geek will win the game or not if both players play optimally.\n",
    "\n",
    "<br>\n",
    "\n",
    "**Example 1:**\n",
    ">**Input:** <br>\n",
    ">n = 5<br>\n",
    ">x = 3<br>\n",
    ">y = 4<br>\n",
    ">**Output:** <br>\n",
    ">1<br>\n",
    ">**Explanation:**<br>\n",
    ">There are 5 coins, every player can pick 1 or 3 or 4 coins on his/her turn. Geek can win by picking 3 coins in first chance. Now 2 coins will be left so his friend will pick one coin and now Geek can win by picking the last coin.\n",
    "\n",
    "**Example 2:**\n",
    ">**Input:**<br>\n",
    ">n = 2<br>\n",
    ">x = 3<br>\n",
    ">y = 4<br>\n",
    ">**Output:**<br>\n",
    ">0<br>\n",
    ">**Explanation:** <br>\n",
    ">Geek picks 1 coin and then his friend picks 1 coin.\n",
    "\n",
    "<br>\n",
    "\n",
    "**Your Task:** <br>\n",
    "You don't need to read input or print anything. Complete the function **findWinner()** which takes **n**, **x**, and **y** as input parameters and returns 1 if Geek can win otherwise 0.\n",
    "\n",
    "**Expected Time Complexity:** O(n)<br>\n",
    "**Expected Auxiliary Space:** O(n)\n",
    " \n",
    "**Constraints:**\n",
    "- >1 ≤ **n, x, y** ≤ 10<sup>5</sup>"
   ]
  },
  {
   "cell_type": "code",
   "execution_count": 1,
   "metadata": {},
   "outputs": [],
   "source": [
    "class Solution:\n",
    "    def findWinner(self, n : int, x : int, y : int) -> int:\n",
    "        # code here\n",
    "        dp = [False] * (n + 1)\n",
    "        dp[0] = False\n",
    "        \n",
    "        for i in range(1, n + 1):\n",
    "            if i - 1 >= 0 and not dp[i - 1]:\n",
    "                dp[i] = True\n",
    "            elif i - x >= 0 and not dp[i - x]:\n",
    "                dp[i] = True\n",
    "            elif i - y >= 0 and not dp[i - y]:\n",
    "                dp[i] = True\n",
    "        \n",
    "        return 1 if dp[n] else 0"
   ]
  }
 ],
 "metadata": {
  "kernelspec": {
   "display_name": "base",
   "language": "python",
   "name": "python3"
  },
  "language_info": {
   "codemirror_mode": {
    "name": "ipython",
    "version": 3
   },
   "file_extension": ".py",
   "mimetype": "text/x-python",
   "name": "python",
   "nbconvert_exporter": "python",
   "pygments_lexer": "ipython3",
   "version": "3.9.16"
  }
 },
 "nbformat": 4,
 "nbformat_minor": 2
}
