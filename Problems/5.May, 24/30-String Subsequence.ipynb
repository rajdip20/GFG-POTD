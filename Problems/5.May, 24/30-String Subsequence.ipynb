{
 "cells": [
  {
   "cell_type": "markdown",
   "metadata": {},
   "source": [
    "Given two strings, **s1** and **s2**, count the number of subsequences of string **s1** equal to string **s2**.\n",
    "\n",
    "Return the total count modulo **1e9+7**.\n",
    "\n",
    "<br>\n",
    "\n",
    "**Example 1:**\n",
    ">**Input:** s1 = geeksforgeeks, s2 = gks<br>\n",
    ">**Output:** 4<br>\n",
    ">**Explaination:** We can pick characters from s1 as a subsequence from indices {0,3,4}, {0,3,12}, {0,11,12} and {8,11,12}.So total 4 subsequences of s1 that are equal to s2.\n",
    "\n",
    "**Example 2:**\n",
    ">**Input:** s1 = problemoftheday, s2 = geek<br>\n",
    ">**Output:** 0<br>\n",
    ">**Explaination:** No subsequence of string s1 is equal to string s2.\n",
    "\n",
    "<br>\n",
    "\n",
    "**Your Task:**<br>\n",
    "You don't need to read input or print anything. Your task is to complete the function **countWays()** which takes the string s1 and s2 as input parameters and returns the number of subsequences of s1 equal to s2.\n",
    "\n",
    "**Expected Time Complexity:** O(n * m)  [n and m are lengths of the strings s1 and s2]<br>\n",
    "**Expected Auxiliary Space:** O(n * m)     [n and m are lengths of the strings s1 and s2]\n",
    "\n",
    "**Constraints:**\n",
    "- >1 ≤ n, m ≤ 500  [n and m are lengths of the strings s1 and s2]"
   ]
  },
  {
   "cell_type": "code",
   "execution_count": 1,
   "metadata": {},
   "outputs": [],
   "source": [
    "class Solution:\n",
    "    def countWays(self, s1 : str, s2 : str) -> int:\n",
    "        # code here\n",
    "        MOD = int(1e9 + 7)\n",
    "        n = len(s1)\n",
    "        m = len(s2)\n",
    "        \n",
    "        dp = [[0] * (m + 1) for _ in range(n + 1)]\n",
    "        \n",
    "        for i in range(n + 1):\n",
    "            dp[i][0] = 1\n",
    "        \n",
    "        for i in range(1, n + 1):\n",
    "            for j in range(1, m + 1):\n",
    "                if s1[i - 1] == s2[j - 1]:\n",
    "                    dp[i][j] = (dp[i - 1][j - 1] + dp[i - 1][j]) % MOD\n",
    "                else:\n",
    "                    dp[i][j] = dp[i - 1][j]\n",
    "        \n",
    "        return dp[n][m]"
   ]
  }
 ],
 "metadata": {
  "kernelspec": {
   "display_name": "base",
   "language": "python",
   "name": "python3"
  },
  "language_info": {
   "codemirror_mode": {
    "name": "ipython",
    "version": 3
   },
   "file_extension": ".py",
   "mimetype": "text/x-python",
   "name": "python",
   "nbconvert_exporter": "python",
   "pygments_lexer": "ipython3",
   "version": "3.9.16"
  }
 },
 "nbformat": 4,
 "nbformat_minor": 2
}
