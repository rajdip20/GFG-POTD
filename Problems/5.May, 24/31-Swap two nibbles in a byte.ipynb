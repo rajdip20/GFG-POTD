{
 "cells": [
  {
   "cell_type": "markdown",
   "metadata": {},
   "source": [
    "Given a number **n**, Your task is to swap the two **nibbles** and find the resulting number. <br>\n",
    "&emsp;&emsp;A [nibble](http://en.wikipedia.org/wiki/Nibble) is a four-bit aggregation, or half an octet. There are two nibbles in a byte. For example, the decimal number 150 is represented as 10010110 in an 8-bit byte. This byte can be divided into two nibbles: 1001 and 0110.\n",
    "\n",
    "<br>\n",
    "\n",
    "**Example 1:**\n",
    ">**Input:** n = 100<br>\n",
    ">**Output:** 70<br>\n",
    ">**Explanation:** 100 in binary is 01100100, two nibbles are (0110) and (0100). If we swap the two nibbles, we get 01000110 which is 70 in decimal.\n",
    "\n",
    "**Example 2:**\n",
    ">**Input:** n = 129<br>\n",
    ">**Output:** 24<br>\n",
    ">**Explanation:** 129 in binary is 10000001, two nibbles are (1000) and (0001). If we swap the two nibbles, we get 00011000 which is 24 in decimal.\n",
    "\n",
    "<br>\n",
    "\n",
    "**Your Task:**\n",
    "You don't need to read input or print anything. Your task is to complete the function **swapNibbles()** which takes an integer **n** as input parameter and returns an integer after swapping nibbles in the binary representation of n.\n",
    "\n",
    "**Expected Time Complexity:** O(1)<br>\n",
    "**Expected Space Complexity:** O(1)\n",
    "\n",
    "**Constraints:**\n",
    "- >0 ≤ n ≤ 255"
   ]
  },
  {
   "cell_type": "code",
   "execution_count": 1,
   "metadata": {},
   "outputs": [],
   "source": [
    "class Solution:\n",
    "    def swapNibbles (self, n):\n",
    "        # code here\n",
    "        return ((n & 0x0F) << 4) | (n >> 4)"
   ]
  }
 ],
 "metadata": {
  "kernelspec": {
   "display_name": "base",
   "language": "python",
   "name": "python3"
  },
  "language_info": {
   "codemirror_mode": {
    "name": "ipython",
    "version": 3
   },
   "file_extension": ".py",
   "mimetype": "text/x-python",
   "name": "python",
   "nbconvert_exporter": "python",
   "pygments_lexer": "ipython3",
   "version": "3.9.16"
  }
 },
 "nbformat": 4,
 "nbformat_minor": 2
}
