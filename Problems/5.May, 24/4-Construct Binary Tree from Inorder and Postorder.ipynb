{
 "cells": [
  {
   "cell_type": "markdown",
   "metadata": {},
   "source": [
    "Given **inorder** and **postorder** traversals of a binary tree(having **n** nodes) in the arrays **in[]** and **post[]** respectively. The task is to construct a binary tree from these traversals.\n",
    "\n",
    "Driver code will print the preorder traversal of the constructed tree.\n",
    "\n",
    "<br>\n",
    "\n",
    "**Example 1:**\n",
    ">**Input:**<br>\n",
    ">n = 8<br>\n",
    ">in[] = {4, 8, 2, 5, 1, 6, 3, 7}<br>\n",
    ">post[] = {8, 4, 5, 2, 6, 7, 3, 1}<br>\n",
    ">**Output:** <br>\n",
    ">1 2 4 8 5 3 6 7<br>\n",
    ">**Explanation:** <br>\n",
    ">For the given postorder and inorder traversal of tree the resultant binary tree will be<br>\n",
    ">&emsp;&emsp;&emsp;&emsp; 1 <br>\n",
    ">&emsp;&emsp;&emsp;&nbsp; / &emsp; \\ <br>\n",
    ">&emsp;&emsp;&ensp; 2 &emsp;&emsp; 3 <br>\n",
    ">&emsp;&emsp; / &nbsp; \\ &emsp; / &ensp; \\ <br>\n",
    ">&emsp;&ensp; 4 &ensp;&nbsp; 5 &nbsp; 6 &emsp; 7 <br>\n",
    ">&emsp;&emsp; \\ <br>\n",
    ">&emsp;&emsp;&nbsp; 8 <br>\n",
    "\n",
    "**Example 2:**\n",
    ">**Input:**<br>\n",
    ">n = 5<br>\n",
    ">in[] = {9, 5, 2, 3, 4}<br>\n",
    ">post[] = {5, 9, 3, 4, 2}<br>\n",
    ">**Output:** <br>\n",
    "2 9 5 4 3<br>\n",
    ">**Explanation:**  <br>\n",
    ">The resultant binary tree will be<br>\n",
    ">&emsp;&emsp;&emsp; 2 <br>\n",
    ">&emsp;&emsp;&nbsp; / &ensp;&nbsp; \\ <br>\n",
    ">&emsp;&ensp; 9 &emsp;&ensp;&nbsp; 4 <br>\n",
    ">&emsp;&emsp; \\ &emsp; / <br>\n",
    ">&emsp;&emsp;&nbsp; 5 &nbsp; 3 <br>\n",
    "\n",
    "<br>\n",
    "\n",
    "**Your Task:**<br>\n",
    "You do not need to read input or print anything. Complete the function **buildTree()** which takes the inorder, postorder traversals and the number of nodes in the tree as input parameters and returns the root node of the newly constructed Binary Tree.\n",
    "\n",
    "**Expected Time Complexity:** O(n<sup>2</sup>)<br>\n",
    "**Expected Auxiliary Space:** O(n)\n",
    "\n",
    "**Constraints:**\n",
    "- >1 <= n <= 10<sup>3</sup>\n",
    "- >1 <= in[i], post[i] <= 10<sup>6</sup>"
   ]
  },
  {
   "cell_type": "code",
   "execution_count": 1,
   "metadata": {},
   "outputs": [],
   "source": [
    "'''\n",
    "class Node:\n",
    "            def __init__(self, data):\n",
    "                self.data = data\n",
    "                self.left = self.right = None\n",
    "'''\n",
    "\n",
    "# Function to return a tree created from postorder and inoreder traversals.\n",
    "class Solution:\n",
    "    def buildTree(self, In, post, n):\n",
    "        # your code here\n",
    "        if not In or not post:\n",
    "            return None\n",
    "\n",
    "        root = Node(post.pop())\n",
    "        inorderIndex = In.index(root.data)\n",
    "\n",
    "        root.right = self.buildTree(In[inorderIndex+1:], post, n)\n",
    "        root.left = self.buildTree(In[:inorderIndex], post, n)\n",
    "\n",
    "        return root"
   ]
  }
 ],
 "metadata": {
  "kernelspec": {
   "display_name": "base",
   "language": "python",
   "name": "python3"
  },
  "language_info": {
   "codemirror_mode": {
    "name": "ipython",
    "version": 3
   },
   "file_extension": ".py",
   "mimetype": "text/x-python",
   "name": "python",
   "nbconvert_exporter": "python",
   "pygments_lexer": "ipython3",
   "version": "3.9.16"
  }
 },
 "nbformat": 4,
 "nbformat_minor": 2
}
