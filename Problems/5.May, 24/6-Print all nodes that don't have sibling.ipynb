{
 "cells": [
  {
   "cell_type": "markdown",
   "metadata": {},
   "source": [
    "Given a Binary Tree of n nodes, **find all the nodes that don't have any siblings**. You need to return a list of integers containing all the nodes that don't have a sibling in **sorted order** (Increasing).\n",
    "\n",
    "Two nodes are said to be **siblings** if they are present at the same level, and their parents are the same.\n",
    "\n",
    "**Note:** The root node can not have a sibling so it cannot be included in our answer.\n",
    "\n",
    "<br>\n",
    "\n",
    "**Example 1:**\n",
    ">**Input:**<br>\n",
    ">&emsp;&emsp;&emsp; 37 <br>\n",
    ">&emsp;&emsp;&ensp; / <br>\n",
    ">&emsp;&ensp; 20 <br>\n",
    ">&emsp; / <br>\n",
    ">113 <br>\n",
    "><br>\n",
    ">**Output:** <br>\n",
    ">20 113<br>\n",
    ">**Explanation:** <br>\n",
    ">Nodes 20 and 113 dont have any siblings.\n",
    "\n",
    "**Example 2:**\n",
    ">**Input:**<br>\n",
    ">&emsp;&emsp;1 <br>\n",
    ">&emsp;&ensp;/ &ensp; \\ <br>\n",
    ">&emsp;2 &emsp; 3 <br>\n",
    "><br>\n",
    ">**Output:** <br>\n",
    ">-1<br>\n",
    ">**Explanation:** <br>\n",
    ">Every node has a sibling.\n",
    "\n",
    "<br>\n",
    "\n",
    "**Your Task:**<br>\n",
    "You don't need to read input or print anything. Complete the function **noSibling()** which takes the root of the tree as input parameter and returns a list of integers containing all the nodes that don't have a sibling in sorted order. If all nodes have a sibling, then the returning list should contain only one element -1.\n",
    "\n",
    "**Expected Time Complexity:** O(nlogn)<br>\n",
    "**Expected Auxiliary Space:** O(Height of the tree)\n",
    "\n",
    "**Constraints:**\n",
    "- >1 ≤ n ≤ 10<sup>4</sup>"
   ]
  },
  {
   "cell_type": "code",
   "execution_count": 1,
   "metadata": {},
   "outputs": [],
   "source": [
    "'''\n",
    "class Node:\n",
    "    def __init__(self, val):\n",
    "        self.right = None\n",
    "        self.data = val\n",
    "        self.left = None\n",
    "'''\n",
    "def noSibling(root):\n",
    "    # code here\n",
    "    no_siblings = []\n",
    "    \n",
    "    def traverse(node):\n",
    "        if node is None:\n",
    "            return\n",
    "        if node.left and not node.right:\n",
    "            no_siblings.append(node.left.data)\n",
    "        if node.right and not node.left:\n",
    "            no_siblings.append(node.right.data)\n",
    "        traverse(node.left)\n",
    "        traverse(node.right)\n",
    "    \n",
    "    traverse(root)\n",
    "    \n",
    "    if not no_siblings:\n",
    "        return [-1]\n",
    "    \n",
    "    return sorted(no_siblings)"
   ]
  }
 ],
 "metadata": {
  "kernelspec": {
   "display_name": "base",
   "language": "python",
   "name": "python3"
  },
  "language_info": {
   "codemirror_mode": {
    "name": "ipython",
    "version": 3
   },
   "file_extension": ".py",
   "mimetype": "text/x-python",
   "name": "python",
   "nbconvert_exporter": "python",
   "pygments_lexer": "ipython3",
   "version": "3.9.16"
  }
 },
 "nbformat": 4,
 "nbformat_minor": 2
}
