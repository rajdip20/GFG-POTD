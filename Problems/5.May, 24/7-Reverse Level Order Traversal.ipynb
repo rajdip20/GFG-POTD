{
 "cells": [
  {
   "cell_type": "markdown",
   "metadata": {},
   "source": [
    "Given a binary tree of size n, find its reverse level order traversal. ie- the traversal must begin from the last level.\n",
    "\n",
    "<br>\n",
    "\n",
    "**Example 1:**\n",
    ">**Input:**<br>\n",
    ">&emsp;&emsp; 1 <br>\n",
    ">&emsp;&ensp; / &ensp; \\ <br>\n",
    ">&emsp; 3 &emsp; 2 <br>\n",
    "><br>\n",
    ">**Output:** <br>\n",
    ">3 2 1<br>\n",
    ">**Explanation:**<br>\n",
    ">Traversing level 1 : 3 2<br>\n",
    ">Traversing level 0 : 1\n",
    "\n",
    "**Example 2:**\n",
    ">**Input:**<br>\n",
    ">&emsp;&emsp;&emsp;&emsp; 10 <br>\n",
    ">&emsp;&emsp;&emsp;&ensp; / &ensp;&nbsp; \\ <br>\n",
    ">&emsp;&emsp;&ensp; 20 &emsp; 30 <br>\n",
    ">&emsp;&emsp; / &ensp; \\  <br>\n",
    ">&emsp; 40 &ensp; 60 <br>\n",
    "><br>\n",
    ">**Output:** <br>\n",
    ">40 60 20 30 10<br>\n",
    ">**Explanation:**<br>\n",
    ">Traversing level 2 : 40 60<br>\n",
    ">Traversing level 1 : 20 30<br>\n",
    ">Traversing level 0 : 10\n",
    "\n",
    "<br>\n",
    "\n",
    "**Your Task:**<br>\n",
    "You don't need to read input or print anything. Complete the function **reverseLevelOrder()** which takes the root of the tree as input parameter and returns a list containing the reverse level order traversal of the given tree.\n",
    "\n",
    "**Expected Time Complexity:** O(n)<br>\n",
    "**Expected Auxiliary Space:** O(n)\n",
    "\n",
    "**Constraints:**\n",
    "- >1 ≤ n ≤ 10<sup>4</sup>"
   ]
  },
  {
   "cell_type": "code",
   "execution_count": 1,
   "metadata": {},
   "outputs": [],
   "source": [
    "'''\n",
    "class Node:\n",
    "    def __init__(self,val):\n",
    "        self.data = val\n",
    "        self.left = None\n",
    "        self.right = None\n",
    "'''\n",
    "def reverseLevelOrder(root):\n",
    "    # code here\n",
    "    from collections import deque\n",
    "\n",
    "\n",
    "    if not root:\n",
    "        return []\n",
    "    \n",
    "    queue = deque([root])\n",
    "    stack = []\n",
    "    while queue:\n",
    "        node = queue.popleft()\n",
    "        stack.append(node.data)\n",
    "        if node.right:\n",
    "            queue.append(node.right)\n",
    "        if node.left:\n",
    "            queue.append(node.left)\n",
    "    \n",
    "    return stack[::-1]"
   ]
  }
 ],
 "metadata": {
  "kernelspec": {
   "display_name": "base",
   "language": "python",
   "name": "python3"
  },
  "language_info": {
   "codemirror_mode": {
    "name": "ipython",
    "version": 3
   },
   "file_extension": ".py",
   "mimetype": "text/x-python",
   "name": "python",
   "nbconvert_exporter": "python",
   "pygments_lexer": "ipython3",
   "version": "3.9.16"
  }
 },
 "nbformat": 4,
 "nbformat_minor": 2
}
