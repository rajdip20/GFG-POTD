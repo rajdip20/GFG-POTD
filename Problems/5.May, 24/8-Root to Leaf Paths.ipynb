{
 "cells": [
  {
   "cell_type": "markdown",
   "metadata": {},
   "source": [
    "Given a **Binary Tree** of nodes, you need to find **all the possible paths from** the **root node** to all the **leaf nodes** of the binary tree.\n",
    "\n",
    "<br>\n",
    "\n",
    "**Example 1:**\n",
    ">**Input:**<br>\n",
    ">&emsp;&emsp; 1 <br>\n",
    ">&emsp;&ensp; / &ensp; \\ <br>\n",
    ">&emsp; 2 &emsp; 3 <br>\n",
    ">**Output:** <br>\n",
    ">1 2 <br>\n",
    ">1 3 <br>\n",
    ">**Explanation:** <br>\n",
    ">All possible paths:<br>\n",
    ">1->2<br>\n",
    ">1->3\n",
    "\n",
    "**Example 2:**\n",
    ">**Input:**<br>\n",
    ">&emsp;&emsp;&emsp; 10 <br>\n",
    ">&emsp;&emsp;&ensp; / &emsp; \\ <br>\n",
    ">&emsp;&ensp; 20 &emsp;&nbsp; 30 <br>\n",
    ">&emsp; / &ensp; \\ <br>\n",
    ">&nbsp; 40 &ensp; 60 <br>\n",
    ">**Output:** <br>\n",
    ">10 20 40 <br>\n",
    ">10 20 60 <br>\n",
    ">10 30 \n",
    "\n",
    "<br>\n",
    "\n",
    "**Your Task:**<br>\n",
    "Your task is to complete the function **Paths()** which takes the root node as an argument and returns all the possible paths. (All the paths are printed in new lines by the driver's code.)\n",
    "\n",
    "**Expected Time Complexity:** O(n)<br>\n",
    "**Expected Auxiliary Space:** O(height of the tree)\n",
    "\n",
    "**Constraints:**\n",
    "- >1 <= n <= 10<sup>4</sup>"
   ]
  },
  {
   "cell_type": "code",
   "execution_count": 1,
   "metadata": {},
   "outputs": [],
   "source": [
    "from collections import deque\n",
    "\n",
    "\"\"\"\n",
    "\n",
    "definition of binary tree node.\n",
    "class Node:\n",
    "    def _init_(self,val):\n",
    "        self.data = val\n",
    "        self.left = None\n",
    "        self.right = None\n",
    "\"\"\"\n",
    "\n",
    "class Solution:\n",
    "    def Paths(self, root) -> list[list[int]]:\n",
    "        # code here\n",
    "        def dfs(root,ans,rStack):\n",
    "            rStack.append(root.data)\n",
    "            if root.left:\n",
    "                dfs(root.left,ans,rStack)\n",
    "            if root.right:\n",
    "                dfs(root.right,ans,rStack)\n",
    "            if not (root.left or root.right):\n",
    "                ans.append(rStack[:])\n",
    "            rStack.pop()\n",
    "\n",
    "        ans=[]\n",
    "        rStack=[]\n",
    "        dfs(root,ans,rStack)\n",
    "        return ans"
   ]
  }
 ],
 "metadata": {
  "kernelspec": {
   "display_name": "base",
   "language": "python",
   "name": "python3"
  },
  "language_info": {
   "codemirror_mode": {
    "name": "ipython",
    "version": 3
   },
   "file_extension": ".py",
   "mimetype": "text/x-python",
   "name": "python",
   "nbconvert_exporter": "python",
   "pygments_lexer": "ipython3",
   "version": "3.9.16"
  }
 },
 "nbformat": 4,
 "nbformat_minor": 2
}
