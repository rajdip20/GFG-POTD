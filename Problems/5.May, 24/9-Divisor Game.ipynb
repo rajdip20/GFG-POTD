{
 "cells": [
  {
   "cell_type": "markdown",
   "metadata": {},
   "source": [
    "Alice and Bob take turns playing a game, with Alice starting first.\n",
    "Initially, there is a number **n** on the chalkboard. On each player's turn, that player makes a move consisting of:\n",
    "- Choosing any **x** with **0 < x < n**  and **n % x == 0**.\n",
    "- Replacing the number **n** on the chalkboard with **n - x**.\n",
    "\n",
    "Also, if a player cannot make a move, they lose the game.\n",
    "Return **true** if and only if Alice wins the game, assuming both players play **optimally**.\n",
    "\n",
    "<br>\n",
    "\n",
    "**Example 1:**\n",
    ">**Input:**<br>\n",
    ">n = 2<br>\n",
    ">**Output:** True<br>\n",
    ">**Explanation:** Alice chooses 1, and Bob has no more moves.\n",
    "\n",
    "**Example 2:**\n",
    ">**Input:**<br>\n",
    ">n = 3<br>\n",
    ">**Output:** False<br>\n",
    ">**Explanation:** Alice chooses 1, Bob chooses 1, and Alice has no more moves.\n",
    "\n",
    "<br>\n",
    "\n",
    "**Your Task:**<br>\n",
    "You don't need to read input or print anything. Your task is to complete the function **divisorGame()** which takes an integer **n** as a parameter and returns true if Alice wins the game.\n",
    "\n",
    "**Expected Time Complexity:** O(1)<br>\n",
    "**Expected Auxiliary Space:** O(1)\n",
    "\n",
    "**Constraints:**\n",
    "- >1 ≤ n ≤ 10<sup>3</sup>"
   ]
  },
  {
   "cell_type": "code",
   "execution_count": 1,
   "metadata": {},
   "outputs": [],
   "source": [
    "class Solution:\n",
    "    def divisorGame(self, n):\n",
    "        # Code here\n",
    "        return n % 2 == 0"
   ]
  }
 ],
 "metadata": {
  "kernelspec": {
   "display_name": "base",
   "language": "python",
   "name": "python3"
  },
  "language_info": {
   "codemirror_mode": {
    "name": "ipython",
    "version": 3
   },
   "file_extension": ".py",
   "mimetype": "text/x-python",
   "name": "python",
   "nbconvert_exporter": "python",
   "pygments_lexer": "ipython3",
   "version": "3.9.16"
  }
 },
 "nbformat": 4,
 "nbformat_minor": 2
}
