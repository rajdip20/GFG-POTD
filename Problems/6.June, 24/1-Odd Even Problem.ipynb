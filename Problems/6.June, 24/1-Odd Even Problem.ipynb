{
 "cells": [
  {
   "cell_type": "markdown",
   "metadata": {},
   "source": [
    "Given a string s of **lowercase English** characters, determine whether the summation of **x** and **y** is ***EVEN*** or ***ODD***.\n",
    "where:\n",
    "1. **x** is the count of distinct characters that occupy **even** positions in the English alphabet and have **even** frequency. \n",
    "2. **y** is the count of distinct characters that occupy **odd** positions in the English alphabet and have **odd** frequency.\n",
    "\n",
    "**Ex:** string = \"ab\" here 'a' has an odd(1) position in the English alphabet & has an odd(1) frequency in the string so a is odd but b has an even(2) position in the English alphabet & has odd(1) frequency so it doesn't count(since string doesn't have 2 b's) so the final answer x + y = 1+0 = 1(odd) would be \"ODD\".\n",
    "\n",
    "**Note:** Return **\"EVEN\"** if the sum of x & y is even otherwise return **\"ODD\"**.\n",
    "\n",
    "<br>\n",
    "\n",
    "**Example 1:**\n",
    ">**Input:** <br>\n",
    ">s = \"abbbcc\"<br>\n",
    ">**Output:** <br>\n",
    ">ODD<br>\n",
    ">**Explanation:** <br>\n",
    ">x = 0 and y = 1 so (x + y) is ODD. 'a' occupies 1st place(odd) in english alphabets and its frequency is odd(1), 'b' occupies 2nd place(even) but its frequency is odd(3) so it doesn't get counted and 'c' occupies 3rd place(odd) but its frequency is even(2) so it also doesn't get counted.\n",
    "\n",
    "**Example 2:**\n",
    ">**Input:** <br>\n",
    ">s = \"nobitaa\"<br>\n",
    ">**Output:** <br>\n",
    ">EVEN<br>\n",
    ">**Explanation:** <br>\n",
    ">Here n, b, t & a would not count since doesn't match with the even condition but o & i will be counted as it satisfies the odd conditions so x = 0 and y = 2 so (x + y) is EVEN.\n",
    "\n",
    "<br>\n",
    "\n",
    "**Your Task:**<br>\n",
    "You don't need to read input or print anything. Complete the function evenOdd() which takes s as input parameter and returns \"EVEN\"  if x + y is even, and returns \"ODD\" otherwise.\n",
    "\n",
    "**Expected Time Complexity:** O(|s|)<br>\n",
    "**Expected Auxiliary Space:** O(1) \n",
    "\n",
    "**Constraints:**\n",
    "- >1 ≤ |s| ≤ 10<sup>5</sup>"
   ]
  },
  {
   "cell_type": "code",
   "execution_count": 1,
   "metadata": {},
   "outputs": [],
   "source": [
    "class Solution:\n",
    "    def oddEven(self, s : str) -> str:\n",
    "        # code here\n",
    "        from collections import Counter\n",
    "    \n",
    "        freq = Counter(s)    \n",
    "        x = 0\n",
    "        y = 0\n",
    "        \n",
    "        for char, count in freq.items():\n",
    "            position = ord(char) - ord('a') + 1\n",
    "            \n",
    "            if position % 2 == 0:\n",
    "                if count % 2 == 0:\n",
    "                    x += 1\n",
    "            else:\n",
    "                if count % 2 == 1:\n",
    "                    y += 1\n",
    "        \n",
    "        total = x + y\n",
    "        \n",
    "        if total % 2 == 0:\n",
    "            return \"EVEN\"\n",
    "        else:\n",
    "            return \"ODD\""
   ]
  }
 ],
 "metadata": {
  "kernelspec": {
   "display_name": "base",
   "language": "python",
   "name": "python3"
  },
  "language_info": {
   "codemirror_mode": {
    "name": "ipython",
    "version": 3
   },
   "file_extension": ".py",
   "mimetype": "text/x-python",
   "name": "python",
   "nbconvert_exporter": "python",
   "pygments_lexer": "ipython3",
   "version": "3.9.16"
  }
 },
 "nbformat": 4,
 "nbformat_minor": 2
}
