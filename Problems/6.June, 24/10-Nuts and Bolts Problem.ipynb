{
 "cells": [
  {
   "cell_type": "markdown",
   "metadata": {},
   "source": [
    "Given a set of **n nuts & bolts**. There is a one-on-one mapping between nuts and bolts. You have to **Match** nuts and bolts efficiently. Comparison of a nut to another nut or a bolt to another bolt is not allowed. It means the nut can only be compared with the bolt and the bolt can only be compared with the nut to see which one is bigger/smaller.<br>\n",
    "The elements should follow the following **order: { !,#,$,%,&,*,?,@,^ }**\n",
    "\n",
    "**Note:** Make all the required changes **directly** in the given arrays, output will be handled by the driver code.\n",
    "\n",
    "<br>\n",
    "\n",
    "**Examples**\n",
    ">**Input:** n = 5, nuts[] = { \\@, \\%, \\$, \\#, \\^ \\}, bolts[] = \\{ \\%, \\@, \\#, \\$, \\^}<br>\n",
    ">**Output:** <br>\n",
    ">\\# \\$ \\% \\@ ^ <br>\n",
    ">\\# \\$ \\% \\@ ^ <br>\n",
    ">**Explanation:** As per the order # should come first after that $ then % then @ and ^. \n",
    "\n",
    ">**Input:** n = 9, nuts[] = {\\^, \\&, \\%, \\@, \\#, \\*, \\$, \\?, \\!\\}, bolts[] = \\{\\?, \\#, \\@, \\%, \\&, \\*, \\$ ,\\^, \\!}<br>\n",
    ">**Output:** <br>\n",
    ">! \\# \\$ \\% \\& \\* \\? \\@ \\^ <br>\n",
    ">! \\# \\$ % & \\* ? @ \\^ <br>\n",
    ">**Explanation:** We'll have to match first ! then  # , $,  %,  &,  *,  @,  ^,  ? as per the required ordering.\n",
    "\n",
    "<br>\n",
    "\n",
    "**Expected Time Complexity:** O(n(logn))<br>\n",
    "**Expected Auxiliary Space:** O(log(n))\n",
    "\n",
    "**Constraints:**\n",
    "- >1 <= n <= 9\n",
    "- >The arrays 'nuts' and 'bolts' can only consist of the following elements: {'@', '#', '$', '%', '^', '&', '?', '*', '!'}.\n",
    "- >All the elements of arrays 'nuts' and 'bolts' should be unique."
   ]
  },
  {
   "cell_type": "code",
   "execution_count": 1,
   "metadata": {},
   "outputs": [],
   "source": [
    "class Solution:\n",
    "    def matchPairs(self, n, nuts, bolts):\n",
    "\t\t# code here\n",
    "        a=['!','#','$','%','&','*','?','@','^']\n",
    "        b=[]\n",
    "\t\t\n",
    "        for i in range(len(a)):\n",
    "            if a[i] in nuts:\n",
    "                b.append(a[i])\n",
    "        \n",
    "        for i in range(len(nuts)):\n",
    "            nuts[i]=b[i]\n",
    "            bolts[i]=b[i]"
   ]
  }
 ],
 "metadata": {
  "kernelspec": {
   "display_name": "base",
   "language": "python",
   "name": "python3"
  },
  "language_info": {
   "codemirror_mode": {
    "name": "ipython",
    "version": 3
   },
   "file_extension": ".py",
   "mimetype": "text/x-python",
   "name": "python",
   "nbconvert_exporter": "python",
   "pygments_lexer": "ipython3",
   "version": "3.9.16"
  }
 },
 "nbformat": 4,
 "nbformat_minor": 2
}
