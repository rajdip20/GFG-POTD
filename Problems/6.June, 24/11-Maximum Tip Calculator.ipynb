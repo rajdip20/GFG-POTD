{
 "cells": [
  {
   "cell_type": "markdown",
   "metadata": {},
   "source": [
    "In a restaurant, two waiters, **A** and **B**, receive n orders per day, earning tips as per arrays **arr[i]** and **brr[i]** respectively. If A takes the ith order, the tip is **arr[i]** rupees; if B takes it, the tip is **brr[i]** rupees.\n",
    "\n",
    "To **maximize** total tips, they must distribute the orders such that:\n",
    "- A can handle at most **x** orders\n",
    "- B can handle at most **y** orders\n",
    "\n",
    "Given that **x + y ≥ n**, all orders can be managed by either A or B. **Return** the **maximum** possible total tip after processing all the orders.\n",
    "\n",
    "<br>\n",
    "\n",
    "**Examples**\n",
    ">**Input:** n = 5, x = 3, y = 3, arr = {1, 2, 3, 4, 5}, brr = {5, 4, 3, 2, 1}<br>\n",
    ">**Output:** 21<br>\n",
    ">**Explanation:** Person A will serve the 3rd, 4th and 5th order while person B will serve the rest so the total tip from A = 3+4+5 & B = 5 + 4 i.e. 21.  \n",
    "\n",
    ">**Input:** n = 8, x = 4, y = 4, arr = {1, 4, 3, 2, 7, 5, 9, 6}, brr = {1, 2, 3, 6, 5, 4, 9, 8}<br>\n",
    ">**Output:** 43<br>\n",
    ">**Explanation:** Person A will serve 1st, 2nd, 5th and 6th order while Person B will serve the rest & the total tip will be 43.\n",
    "\n",
    ">**Input:** n = 7, x = 3, y = 4, arr[] = {8, 7, 15, 19, 16, 16, 18}, brr[] = {1, 7, 15, 11, 12, 31, 9}<br>\n",
    ">**Output:** 110<br>\n",
    ">**Explanation:** Person A will serve orders 8,19,18 while person B will serve 7,15, 12 & 31.\n",
    "\n",
    "<br>\n",
    "\n",
    "**Expected Time Complexity:** O(n * logn)<br>\n",
    "**Expected Auxiliary Space:** O(n)\n",
    "\n",
    "**Constraints:**\n",
    "- >1 ≤ n ≤ 10<sup>5</sup>\n",
    "- >1 ≤ x, y ≤ n\n",
    "- >1 ≤ arr[i], brr[i] ≤ 10<sup>9</sup>"
   ]
  },
  {
   "cell_type": "code",
   "execution_count": 1,
   "metadata": {},
   "outputs": [],
   "source": [
    "class Solution:\n",
    "    def maxTip(self, n : int, x : int, y : int, arr : list[int], brr : list[int]) -> int:\n",
    "        # code here\n",
    "        tips = [(arr[i], brr[i], i) for i in range(n)]\n",
    "        tips.sort(key=lambda x: abs(x[0] - x[1]), reverse=True)\n",
    "        \n",
    "        total_tips = 0\n",
    "        count_A = 0\n",
    "        count_B = 0\n",
    "        \n",
    "        for tip_A, tip_B, _ in tips:\n",
    "            if (tip_A >= tip_B and count_A < x) or count_B >= y:\n",
    "                total_tips += tip_A\n",
    "                count_A += 1\n",
    "            else:\n",
    "                total_tips += tip_B\n",
    "                count_B += 1\n",
    "        \n",
    "        return total_tips"
   ]
  }
 ],
 "metadata": {
  "kernelspec": {
   "display_name": "base",
   "language": "python",
   "name": "python3"
  },
  "language_info": {
   "codemirror_mode": {
    "name": "ipython",
    "version": 3
   },
   "file_extension": ".py",
   "mimetype": "text/x-python",
   "name": "python",
   "nbconvert_exporter": "python",
   "pygments_lexer": "ipython3",
   "version": "3.9.16"
  }
 },
 "nbformat": 4,
 "nbformat_minor": 2
}
