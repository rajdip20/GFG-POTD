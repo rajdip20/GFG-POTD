{
 "cells": [
  {
   "cell_type": "markdown",
   "metadata": {},
   "source": [
    "You are given a number **n**, Return the count of total numbers from **1** to **n** containing **4** as a digit.\n",
    "\n",
    "<br>\n",
    "\n",
    "**Examples:**\n",
    ">**Input:** n = 9<br>\n",
    ">**Output:** 1<br>\n",
    ">**Explanation:** 4 is the only number between 1 to 9 which contains 4 as a digit.\n",
    "\n",
    ">**Input:** n = 44<br>\n",
    ">**Output:** 9<br>\n",
    ">**Explanation:** 4, 14, 24, 34, 40, 41, 42, 43 & 44, there are total 9 numbers containing 4 as a digit.\n",
    "\n",
    "<br>\n",
    "\n",
    "**Expected Time Complexity:** O(nlogn)<br>\n",
    "**Expected Auxiliary Space:** O(1)\n",
    "\n",
    "**Constraints:**\n",
    "- >1 <= n <= 10<sup>5</sup>"
   ]
  },
  {
   "cell_type": "code",
   "execution_count": 1,
   "metadata": {},
   "outputs": [],
   "source": [
    "class Solution:\n",
    "    def countNumberswith4(self, n : int) -> int:\n",
    "        # code here\n",
    "        count = 0\n",
    "        for i in range(1, n + 1):\n",
    "            if '4' in str(i):\n",
    "                count += 1\n",
    "        return count"
   ]
  }
 ],
 "metadata": {
  "kernelspec": {
   "display_name": "base",
   "language": "python",
   "name": "python3"
  },
  "language_info": {
   "codemirror_mode": {
    "name": "ipython",
    "version": 3
   },
   "file_extension": ".py",
   "mimetype": "text/x-python",
   "name": "python",
   "nbconvert_exporter": "python",
   "pygments_lexer": "ipython3",
   "version": "3.9.16"
  }
 },
 "nbformat": 4,
 "nbformat_minor": 2
}
