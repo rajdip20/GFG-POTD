{
 "cells": [
  {
   "cell_type": "markdown",
   "metadata": {},
   "source": [
    "Given a number **n**, find the **nth** number in the Padovan Sequence.\n",
    "\n",
    "&emsp;&emsp;A Padovan Sequence is a sequence which is represented by the following recurrence relation<br>\n",
    "&emsp;&emsp;P(n) = P(n-2) + P(n-3)<br>\n",
    "&emsp;&emsp;P(0) = P(1) = P(2) = 1\n",
    "\n",
    "*Note:* Since the output may be too large, compute the answer modulo **10^9+7**.\n",
    "\n",
    "<br>\n",
    "\n",
    "**Examples:**\n",
    ">**Input:** n = 3<br>\n",
    ">**Output:** 2<br>\n",
    ">**Explanation:** We already know, P1 + P0 = P3 and P1 = 1 and P0 = 1\n",
    "\n",
    ">**Input:** n = 4<br>\n",
    ">**Output:** 2<br>\n",
    ">**Explanation:** We already know, P4  = P2 + P1 and P2 = 1 and P1 = 1\n",
    "\n",
    "<br>\n",
    "\n",
    "**Expected Time Complexity:** O(n)<br>\n",
    "**Expected Auxiliary Space:** O(1)\n",
    "\n",
    "**Constraints:**\n",
    "- >1 <= n <= 10<sup>6</sup>"
   ]
  },
  {
   "cell_type": "code",
   "execution_count": 1,
   "metadata": {},
   "outputs": [],
   "source": [
    "class Solution:\n",
    "    def padovanSequence(self, n):\n",
    "        # code here \n",
    "        MOD = 10**9 + 7\n",
    "\n",
    "        if n == 0 or n == 1 or n == 2:\n",
    "            return 1\n",
    "\n",
    "        p0, p1, p2 = 1, 1, 1\n",
    "\n",
    "        for _ in range(3, n + 1):\n",
    "            pn = (p0 + p1) % MOD\n",
    "            p0, p1, p2 = p1, p2, pn\n",
    "\n",
    "        return p2"
   ]
  }
 ],
 "metadata": {
  "kernelspec": {
   "display_name": "base",
   "language": "python",
   "name": "python3"
  },
  "language_info": {
   "codemirror_mode": {
    "name": "ipython",
    "version": 3
   },
   "file_extension": ".py",
   "mimetype": "text/x-python",
   "name": "python",
   "nbconvert_exporter": "python",
   "pygments_lexer": "ipython3",
   "version": "3.9.16"
  }
 },
 "nbformat": 4,
 "nbformat_minor": 2
}
