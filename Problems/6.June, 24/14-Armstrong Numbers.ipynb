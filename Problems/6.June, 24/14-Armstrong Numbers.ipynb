{
 "cells": [
  {
   "cell_type": "markdown",
   "metadata": {},
   "source": [
    "You are given a **3-digit** number **n**, Find whether it is an *Armstrong* number or not.\n",
    "\n",
    "&emsp;&emsp;An *Armstrong number* of three digits is a number such that the sum of the cubes of its digits is equal to the *number* itself. 371 is an Armstrong number since 3<sup>3</sup> + 7<sup>3</sup> + 1<sup>3</sup> = 371. \n",
    "\n",
    "**Note:** Return **\"true\"** if it is an Armstrong number else return **\"false\"**.\n",
    "\n",
    "<br>\n",
    "\n",
    "**Examples:**\n",
    ">**Input:** n = 153<br>\n",
    ">**Output:** true<br>\n",
    ">**Explanation:** 153 is an Armstrong number since 1<sup>3</sup> + 5<sup>3</sup> + 3<sup>3</sup> = 153. Hence answer is \"true\".\n",
    "\n",
    ">**Input:** n = 372<br>\n",
    ">**Output:** false<br>\n",
    ">**Explanation:** 372 is not an Armstrong number since 3<sup>3</sup> + 7<sup>3</sup> + 2<sup>3</sup> = 378. Hence answer is \"false\".\n",
    "\n",
    "<br>\n",
    "\n",
    "**Expected Time Complexity:** O(1)<br>\n",
    "**Expected Auxiliary Space:** O(1) \n",
    "\n",
    "**Constraints:**\n",
    "- >100 ≤ n <1000"
   ]
  },
  {
   "cell_type": "code",
   "execution_count": 1,
   "metadata": {},
   "outputs": [],
   "source": [
    "class Solution:\n",
    "    def armstrongNumber (self, n):\n",
    "        # code here \n",
    "        hundreds = n // 100\n",
    "        tens = (n % 100) // 10\n",
    "        units = n % 10\n",
    "        \n",
    "        sum_of_cubes = hundreds**3 + tens**3 + units**3\n",
    "        \n",
    "        if sum_of_cubes == n:\n",
    "            return \"true\"\n",
    "        else:\n",
    "            return \"false\""
   ]
  }
 ],
 "metadata": {
  "kernelspec": {
   "display_name": "base",
   "language": "python",
   "name": "python3"
  },
  "language_info": {
   "codemirror_mode": {
    "name": "ipython",
    "version": 3
   },
   "file_extension": ".py",
   "mimetype": "text/x-python",
   "name": "python",
   "nbconvert_exporter": "python",
   "pygments_lexer": "ipython3",
   "version": "3.9.16"
  }
 },
 "nbformat": 4,
 "nbformat_minor": 2
}
