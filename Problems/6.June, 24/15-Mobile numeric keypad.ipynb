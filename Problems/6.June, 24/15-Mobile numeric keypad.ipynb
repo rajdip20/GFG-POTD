{
 "cells": [
  {
   "cell_type": "markdown",
   "metadata": {},
   "source": [
    "There is a standard numeric keypad on a mobile phone. You can only press the current button or buttons that are directly up, left, right, or down from it (for ex if you press 5, then pressing 2, 4, 6 & 8 are allowed). Diagonal movements and pressing the bottom row corner buttons (* and #) are prohibited.\n",
    "\n",
    "![keypad](../../images/blobid0_1718345574.png)\n",
    "\n",
    "Given a number **n**, find the number of possible unique sequences of length n that you can create by pressing buttons. You can start from any digit.\n",
    "\n",
    "<br>\n",
    "\n",
    "**Examples:**\n",
    ">**Input:** n = 1<br>\n",
    ">**Output:** 10<br>\n",
    ">**Explanation:** Number of possible numbers are 10 (0, 1, 2, 3, 4, 5, 6, 7, 8, 9)  \n",
    "\n",
    ">**Input:** n = 2<br>\n",
    ">**Output:** 36<br>\n",
    ">**Explanation:** Possible numbers: 00, 08, 11, 12, 14, 22, 21, 23, 25 and so on. If we start with 0, valid numbers will be 00, 08 (count: 2). If we start with 1, valid numbers will be 11, 12, 14 (count: 3). If we start with 2, valid numbers  will be 22, 21, 23,25 (count: 4). If we start with 3, valid numbers will be 33, 32, 36 (count: 3). If we start with 4, valid numbers will be 44,41,45,47 (count: 4). If we start with 5, valid numbers will be 55,54,52,56,58 (count: 5) and so on.\n",
    "\n",
    "<br>\n",
    "\n",
    "**Expected Time Complexity:** O(n)<br>\n",
    "**Expected Auxiliary Space:** O(n)\n",
    "\n",
    "**Constraints:**\n",
    "- >1 ≤ n ≤ 25"
   ]
  },
  {
   "cell_type": "code",
   "execution_count": 1,
   "metadata": {},
   "outputs": [],
   "source": [
    "class Solution:\n",
    "    def getCount(self, n):\n",
    "\t\t# code here\n",
    "        keypad = [\n",
    "            ['1', '2', '3'],\n",
    "            ['4', '5', '6'],\n",
    "            ['7', '8', '9'],\n",
    "            ['-1', '0', '-1']\n",
    "        ]\n",
    "        \n",
    "        def dfs(i, j, steps):\n",
    "            if steps == 1:\n",
    "                return 1\n",
    "            \n",
    "            if dp[int(keypad[i][j])][steps] != -1:\n",
    "                return dp[int(keypad[i][j])][steps]\n",
    "            \n",
    "            count = dfs(i, j, steps - 1)\n",
    "            \n",
    "            if i - 1 >= 0 and keypad[i - 1][j] != '-1':\n",
    "                count += dfs(i - 1, j, steps - 1)\n",
    "            if i + 1 <= 3 and keypad[i + 1][j] != '-1':\n",
    "                count += dfs(i + 1, j, steps - 1)\n",
    "            if j - 1 >= 0 and keypad[i][j - 1] != '-1':\n",
    "                count += dfs(i, j - 1, steps - 1)\n",
    "            if j + 1 <= 2 and keypad[i][j + 1] != '-1':\n",
    "                count += dfs(i, j + 1, steps - 1)\n",
    "            \n",
    "            dp[int(keypad[i][j])][steps] = count\n",
    "            return count\n",
    "        \n",
    "        dp = [[-1] * (n + 1) for _ in range(10)]\n",
    "        result = 0\n",
    "        \n",
    "        for i in range(4):\n",
    "            for j in range(3):\n",
    "                if keypad[i][j] != '-1':\n",
    "                    result += dfs(i, j, n)\n",
    "        \n",
    "        return result"
   ]
  }
 ],
 "metadata": {
  "kernelspec": {
   "display_name": "base",
   "language": "python",
   "name": "python3"
  },
  "language_info": {
   "codemirror_mode": {
    "name": "ipython",
    "version": 3
   },
   "file_extension": ".py",
   "mimetype": "text/x-python",
   "name": "python",
   "nbconvert_exporter": "python",
   "pygments_lexer": "ipython3",
   "version": "3.9.16"
  }
 },
 "nbformat": 4,
 "nbformat_minor": 2
}
