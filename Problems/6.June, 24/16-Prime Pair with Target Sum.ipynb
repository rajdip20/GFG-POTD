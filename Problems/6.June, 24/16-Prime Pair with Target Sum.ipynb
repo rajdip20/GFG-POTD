{
 "cells": [
  {
   "cell_type": "markdown",
   "metadata": {},
   "source": [
    "Given a number n, find out if n can be expressed as a+b, where both a and b are prime numbers. If such a pair exists, return the values of a and b, otherwise return [-1,-1] as an array of size 2.<br>\n",
    "**Note:** If [a, b] is one solution with a <= b, and [c, d] is another solution with c <= d, and a < c then  [a, b] is considered as our answer.\n",
    "\n",
    "<br>\n",
    "\n",
    "**Examples:**\n",
    ">**Input:** n = 10<br>\n",
    ">**Output:** 3 7<br>\n",
    ">**Explanation:** There are two possiblities 3, 7 & 5, 5 are both prime & their sum is 10, but we'll pick 3, 7 as 3 < 5.\n",
    "\n",
    ">**Input:** n = 3<br>\n",
    ">**Output:** -1 -1<br>\n",
    ">**Explanation:** There are no solutions to the number 3.\n",
    "\n",
    "<br>\n",
    "\n",
    "**Expected Time Complexity:** O(n * loglog(n))<br>\n",
    "**Expected Auxiliary Space:** O(n)\n",
    "\n",
    "**Constraints:**\n",
    "- >2 <= n <= 10<sup>6</sup>"
   ]
  },
  {
   "cell_type": "code",
   "execution_count": 1,
   "metadata": {},
   "outputs": [],
   "source": [
    "class Solution:\n",
    "    def getPrimes(self, n : int) -> list[int]:\n",
    "        # code here\n",
    "        def sieve(n):\n",
    "            is_prime = [True] * (n + 1)\n",
    "            p = 2\n",
    "            while p * p <= n:\n",
    "                if is_prime[p]:\n",
    "                    for i in range(p * p, n + 1, p):\n",
    "                        is_prime[i] = False\n",
    "                p += 1\n",
    "            primes = [p for p in range(2, n + 1) if is_prime[p]]\n",
    "            return primes, is_prime\n",
    "        \n",
    "        if n < 4:\n",
    "            return [-1, -1]\n",
    "        \n",
    "        primes, is_prime = sieve(n)\n",
    "        \n",
    "        for a in primes:\n",
    "            b = n - a\n",
    "            if b >= a and is_prime[b]:\n",
    "                return [a, b]\n",
    "        \n",
    "        return [-1, -1]"
   ]
  }
 ],
 "metadata": {
  "kernelspec": {
   "display_name": "base",
   "language": "python",
   "name": "python3"
  },
  "language_info": {
   "codemirror_mode": {
    "name": "ipython",
    "version": 3
   },
   "file_extension": ".py",
   "mimetype": "text/x-python",
   "name": "python",
   "nbconvert_exporter": "python",
   "pygments_lexer": "ipython3",
   "version": "3.9.16"
  }
 },
 "nbformat": 4,
 "nbformat_minor": 2
}
