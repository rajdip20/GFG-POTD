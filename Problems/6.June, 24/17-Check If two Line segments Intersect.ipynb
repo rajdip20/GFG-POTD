{
 "cells": [
  {
   "cell_type": "markdown",
   "metadata": {},
   "source": [
    "Given the coordinates of the endpoints(p1,q1, and p2,q2) of the two line segments. Check if they intersect or not. If the Line segments intersect return **true** otherwise return **false**.\n",
    "\n",
    "*Note*: Please check the intersection lies within the **line segments**.\n",
    "\n",
    "<br>\n",
    "\n",
    "**Examples:**\n",
    ">**Input:** p1=(1,1), q1=(10,1), p2=(1,2), q2=(10,2)<br>\n",
    ">**Output:** **false**<br>\n",
    ">**Explanation:** The two line segments formed by p1-q1 and p2-q2 do not intersect.\n",
    "\n",
    ">**Input:** p1=(10,0), q1=(0,10), p2=(0,0), q2=(10,10)<br>\n",
    ">**Output:** **true**<br>\n",
    ">**Explanation:** The two line segments formed by p1-q1 and p2-q2 intersect.\n",
    "\n",
    ">**Input:** p1=(5,-2), q1=(13,2), p2=(2,-3), q2=(3,0)<br>\n",
    ">**Output:** **false**<br>\n",
    ">**Explanation:** The two line segments formed by p1-q1 and p2-q2 are intersecting beyond endpoints, so it is not considerable.\n",
    "\n",
    "<br>\n",
    "\n",
    "**Expected Time Complexity:** O(1)<br>\n",
    "**Expected Auxillary Space:** O(1)\n",
    "\n",
    "**Constraints:**\n",
    "- >-10<sup>6</sup><=X,Y(for all points)<=10<sup>6</sup>"
   ]
  },
  {
   "cell_type": "code",
   "execution_count": 1,
   "metadata": {},
   "outputs": [],
   "source": [
    "class Solution:\n",
    "    def doIntersect(self, p1, q1, p2, q2):\n",
    "        # code here\n",
    "        def on_segment(p, q, r):\n",
    "            return min(p[0], r[0]) <= q[0] <= max(p[0], r[0]) and min(p[1], r[1]) <= q[1] <= max(p[1], r[1])\n",
    "\n",
    "        def orientation(p, q, r):\n",
    "            val = (q[1] - p[1]) * (r[0] - q[0]) - (q[0] - p[0]) * (r[1] - q[1])\n",
    "            \n",
    "            if val == 0:\n",
    "                return 0\n",
    "            \n",
    "            return 1 if val > 0 else 2\n",
    "\n",
    "\n",
    "        o1 = orientation(p1, q1, p2)\n",
    "        o2 = orientation(p1, q1, q2)\n",
    "        o3 = orientation(p2, q2, p1)\n",
    "        o4 = orientation(p2, q2, q1)\n",
    "\n",
    "        if o1 != o2 and o3 != o4:\n",
    "            return \"true\"\n",
    "\n",
    "        if o1 == 0 and on_segment(p1, p2, q1):\n",
    "            return \"true\"\n",
    "\n",
    "        if o2 == 0 and on_segment(p1, q2, q1):\n",
    "            return \"true\"\n",
    "\n",
    "        if o3 == 0 and on_segment(p2, p1, q2):\n",
    "            return \"true\"\n",
    "\n",
    "        if o4 == 0 and on_segment(p2, q1, q2):\n",
    "            return \"true\"\n",
    "\n",
    "        return \"false\""
   ]
  }
 ],
 "metadata": {
  "kernelspec": {
   "display_name": "base",
   "language": "python",
   "name": "python3"
  },
  "language_info": {
   "codemirror_mode": {
    "name": "ipython",
    "version": 3
   },
   "file_extension": ".py",
   "mimetype": "text/x-python",
   "name": "python",
   "nbconvert_exporter": "python",
   "pygments_lexer": "ipython3",
   "version": "3.9.16"
  }
 },
 "nbformat": 4,
 "nbformat_minor": 2
}
