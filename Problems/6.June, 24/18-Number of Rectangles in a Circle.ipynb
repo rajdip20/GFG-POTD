{
 "cells": [
  {
   "cell_type": "markdown",
   "metadata": {},
   "source": [
    "Given a circular sheet of radius, **r**. Find the total number of rectangles with integral length and width that can be cut from the sheet that can fit on the circle, one at a time.\n",
    "\n",
    "<br>\n",
    "\n",
    "**Examples:**\n",
    ">**Input:** r = 1<br>\n",
    ">**Output:** 1<br>\n",
    ">**Explanation:** Only 1 rectangle of dimensions 1x1.\n",
    "\n",
    ">**Input:** r = 2<br>\n",
    ">**Output:** 8<br>\n",
    ">**Explanation:** The 8 possible rectangles are <br>\n",
    ">(1x1)(1x2)(1x3)(2x1)(2x2)(2x3)(3x1)(3x2).\n",
    "\n",
    "<br>\n",
    "\n",
    "**Expected Time Complexity:** O(r<sup>2</sup>)<br>\n",
    "**Expected Auxillary Space:** O(1)\n",
    "\n",
    "\n",
    "**Constraints:**\n",
    "- >1<=r<=1000 "
   ]
  },
  {
   "cell_type": "code",
   "execution_count": 1,
   "metadata": {},
   "outputs": [],
   "source": [
    "class Solution:\n",
    "    def rectanglesInCircle(self, r):\n",
    "        # code here\n",
    "        count = 0\n",
    "        \n",
    "        for w in range(1, 2 * r + 1):\n",
    "            for h in range(1, 2 * r + 1):\n",
    "                if w * w + h * h <= 4 * r * r:\n",
    "                    count += 1\n",
    "        \n",
    "        return count"
   ]
  }
 ],
 "metadata": {
  "kernelspec": {
   "display_name": "base",
   "language": "python",
   "name": "python3"
  },
  "language_info": {
   "codemirror_mode": {
    "name": "ipython",
    "version": 3
   },
   "file_extension": ".py",
   "mimetype": "text/x-python",
   "name": "python",
   "nbconvert_exporter": "python",
   "pygments_lexer": "ipython3",
   "version": "3.9.16"
  }
 },
 "nbformat": 4,
 "nbformat_minor": 2
}
