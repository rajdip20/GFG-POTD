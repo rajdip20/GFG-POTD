{
 "cells": [
  {
   "cell_type": "markdown",
   "metadata": {},
   "source": [
    "You are given a **perimeter** & the **area**. Your task is to return the maximum **volume** that can be made in the form of a **cuboid** from the given perimeter and surface area.<br>\n",
    "**Note:** Round off to 2 decimal places and for the given parameters, it is guaranteed that an answer always exists.\n",
    "\n",
    "<br>\n",
    "\n",
    "**Examples:**\n",
    ">**Input:** perimeter = 22, area = 15<br>\n",
    ">**Output:** 3.02<br>\n",
    ">**Explanation:** The maximum attainable volume of the cuboid is 3.02\n",
    "\n",
    ">**Input:** perimeter = 20, area = 5<br>\n",
    ">**Output:** 0.33<br>\n",
    ">**Explanation:** The maximum attainable volume of the cuboid is 0.33\n",
    "\n",
    "<br>\n",
    "\n",
    "**Expected Time Complexity:** O(1)<br>\n",
    "**Expected Auxiliary Space:** O(1)\n",
    "\n",
    "\n",
    "\n",
    "**Constraints:**\n",
    "- >1 ≤ perimeter ≤ 10<sup>9</sup>\n",
    "- >1 ≤ area ≤ 10<sup>9</sup>"
   ]
  },
  {
   "cell_type": "code",
   "execution_count": 1,
   "metadata": {},
   "outputs": [],
   "source": [
    "class Solution:\n",
    "    def maxVolume(self, perimeter, area):\n",
    "        # code here\n",
    "        l = (perimeter - (perimeter**2 - 24 * area) ** .5) / 12\n",
    "        \n",
    "        V = (perimeter * l**2 - 8 * l**3) / 4\n",
    "        \n",
    "        return round(V, 2)"
   ]
  }
 ],
 "metadata": {
  "kernelspec": {
   "display_name": "base",
   "language": "python",
   "name": "python3"
  },
  "language_info": {
   "codemirror_mode": {
    "name": "ipython",
    "version": 3
   },
   "file_extension": ".py",
   "mimetype": "text/x-python",
   "name": "python",
   "nbconvert_exporter": "python",
   "pygments_lexer": "ipython3",
   "version": "3.9.16"
  }
 },
 "nbformat": 4,
 "nbformat_minor": 2
}
