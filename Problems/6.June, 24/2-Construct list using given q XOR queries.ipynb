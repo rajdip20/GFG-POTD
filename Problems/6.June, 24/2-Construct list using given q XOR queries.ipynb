{
 "cells": [
  {
   "cell_type": "markdown",
   "metadata": {},
   "source": [
    "Given a list **s** that initially contains only a single value **0**. There will be **q** queries of the following types:\n",
    "- **0 x:** Insert x in the list\n",
    "- **1 x:** For every element a in s, replace it with a ^ x. ('^' denotes the bitwise XOR operator)\n",
    "\n",
    "Return the sorted list after performing the given **q** queries.\n",
    "\n",
    "<br>\n",
    "\n",
    "**Example 1:**\n",
    ">**Input:**<br>\n",
    ">q = 5<br>\n",
    ">queries[] = {{0, 6}, {0, 3}, {0, 2}, {1, 4}, {1, 5}}<br>\n",
    ">**Output:**<br>\n",
    ">1 2 3 7<br>\n",
    ">**Explanation:**<br>\n",
    ">[0] (initial value)<br>\n",
    ">[0 6] (add 6 to list)<br>\n",
    ">[0 6 3] (add 3 to list)<br>\n",
    ">[0 6 3 2] (add 2 to list)<br>\n",
    ">[4 2 7 6] (XOR each element by 4)<br>\n",
    ">[1 7 2 3] (XOR each element by 5)<br>\n",
    ">The sorted list after performing all the queries is [1 2 3 7].\n",
    "\n",
    "**Example 2:**\n",
    ">**Input:**<br>\n",
    ">q = 3<br>\n",
    ">queries[] = {{0, 2}, {1, 3}, {0, 5}} <br>\n",
    ">**Output:**<br>\n",
    ">1 3 5<br>\n",
    ">**Explanation:**<br>\n",
    ">[0] (initial value)<br>\n",
    ">[0 2] (add 2 to list)<br>\n",
    ">[3 1] (XOR each element by 3)<br>\n",
    ">[3 1 5] (add 5 to list)<br>\n",
    ">The sorted list after performing all the queries is [1 3 5].\n",
    "\n",
    "<br>\n",
    "\n",
    "**Your Task:**<br>\n",
    "You don't need to read input or print anything. Your task is to complete the function **constructList()** which takes an integer **q** the number of queries and **queries[]** a list of lists of length 2 denoting the queries as input parameters and returns the final constructed list.\n",
    "\n",
    "\n",
    "**Expected Time Complexity:** O(q * log(q))<br>\n",
    "**Expected Auxiliary Space:** O(l), where l is only used for output-specific requirements.\n",
    "\n",
    "\n",
    "**Constraints:**\n",
    "- >1 ≤ q ≤ 10<sup>5</sup>"
   ]
  },
  {
   "cell_type": "code",
   "execution_count": 1,
   "metadata": {},
   "outputs": [],
   "source": [
    "class Solution:\n",
    "    def constructList(self, q : int, queries : list[list[int]]) -> list[int]:\n",
    "        # code here\n",
    "        ans = []\n",
    "        run_xor = 0\n",
    "\n",
    "        for q in reversed(queries):\n",
    "            if q[0] == 0:\n",
    "                q[1] ^= run_xor\n",
    "                ans.append(q[1])\n",
    "            else:\n",
    "                run_xor ^= q[1]\n",
    "        \n",
    "        ans.append(run_xor)\n",
    "        \n",
    "        return sorted(ans)"
   ]
  }
 ],
 "metadata": {
  "kernelspec": {
   "display_name": "base",
   "language": "python",
   "name": "python3"
  },
  "language_info": {
   "codemirror_mode": {
    "name": "ipython",
    "version": 3
   },
   "file_extension": ".py",
   "mimetype": "text/x-python",
   "name": "python",
   "nbconvert_exporter": "python",
   "pygments_lexer": "ipython3",
   "version": "3.9.16"
  }
 },
 "nbformat": 4,
 "nbformat_minor": 2
}
