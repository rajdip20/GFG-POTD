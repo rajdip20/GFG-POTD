{
 "cells": [
  {
   "cell_type": "markdown",
   "metadata": {},
   "source": [
    "You are given a string str containing two fractions a/b and c/d, compare them and return the **greater**. If they are equal, then return **\"equal\"**.\n",
    "\n",
    "**Note:** The string str contains **\"a/b, c/d\"** (fractions are separated by comma(,) & space( )). \n",
    "\n",
    "<br>\n",
    "\n",
    "**Examples**\n",
    ">**Input:** str = \"5/6, 11/45\"<br>\n",
    ">**Output:** 5/6<br>\n",
    ">**Explanation:** 5/6=0.8333 and 11/45=0.2444, So 5/6 is greater fraction.\n",
    "\n",
    ">**Input:** str = \"8/1, 8/1\"<br>\n",
    ">**Output:** equal<br>\n",
    ">**Explanation:** We can see that both the fractions are same, so we'll return a string \"equal\".\n",
    "\n",
    ">**Input:** str = \"10/17, 9/10\"<br>\n",
    ">**Output:** 9/10<br>\n",
    ">**Explanation:** 10/17 = 0.588 & 9/10 = 0.9, so the greater fraction is \"9/10\".\n",
    "\n",
    "<br>\n",
    "\n",
    "**Expected Time Complexity:** O(len|str|)<br>\n",
    "**Expected Auxiliary Space:** O(1)\n",
    "\n",
    "**Constraints:**\n",
    "- >0<=a,c<=10<sup>3</sup>\n",
    "- >1<=b,d<=10<sup>3</sup>"
   ]
  },
  {
   "cell_type": "code",
   "execution_count": 1,
   "metadata": {},
   "outputs": [],
   "source": [
    "class Solution:\n",
    "    def compareFrac (self, str):\n",
    "        # code here\n",
    "        fraction1, fraction2 = str.split(', ')\n",
    "    \n",
    "        a, b = map(int, fraction1.split('/'))\n",
    "        c, d = map(int, fraction2.split('/'))\n",
    "        \n",
    "        left = a * d\n",
    "        right = c * b\n",
    "        \n",
    "        if left > right:\n",
    "            return fraction1\n",
    "        elif left < right:\n",
    "            return fraction2\n",
    "        else:\n",
    "            return \"equal\""
   ]
  }
 ],
 "metadata": {
  "kernelspec": {
   "display_name": "base",
   "language": "python",
   "name": "python3"
  },
  "language_info": {
   "codemirror_mode": {
    "name": "ipython",
    "version": 3
   },
   "file_extension": ".py",
   "mimetype": "text/x-python",
   "name": "python",
   "nbconvert_exporter": "python",
   "pygments_lexer": "ipython3",
   "version": "3.9.16"
  }
 },
 "nbformat": 4,
 "nbformat_minor": 2
}
