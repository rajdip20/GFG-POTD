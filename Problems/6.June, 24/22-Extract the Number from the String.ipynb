{
 "cells": [
  {
   "cell_type": "markdown",
   "metadata": {},
   "source": [
    "Given a sentence containing several words and numbers. Find the largest number among them which does not contain 9. If no such number exists, return -1.\n",
    "\n",
    "**Note:** Numbers and words are separated by spaces only.\n",
    "\n",
    "<br>\n",
    "\n",
    "**Examples:**\n",
    ">**Input:** sentence=\"This is alpha 5057 and 97\"<br>\n",
    ">**Output:** 5057<br>\n",
    ">**Explanation:** 5057 is the only number that does not have a 9.\n",
    "\n",
    ">**Input:** sentence=\"Another input 9007\"<br>\n",
    ">**Output:** -1<br>\n",
    ">**Explanation:** Since there is no number that does not contain a 9,output is -1.\n",
    "\n",
    "<br>\n",
    "\n",
    "**Expected Time Complexity:** O(n)<br>\n",
    "**Expected Auxillary Space:** O(n)\n",
    "\n",
    "**Constraints:**\n",
    "- >1<=n<=10<sup>6</sup>\n",
    "- >1<=answer<=10<sup>18</sup>\n",
    "\n",
    "<br>\n",
    "\n",
    "**n is the length of a given sentence.**"
   ]
  },
  {
   "cell_type": "code",
   "execution_count": 1,
   "metadata": {},
   "outputs": [],
   "source": [
    "class Solution:\n",
    "    def ExtractNumber(self, sentence):\n",
    "        # code here\n",
    "        tokens = sentence.split()\n",
    "        valid_numbers = []\n",
    "        \n",
    "        for token in tokens:\n",
    "            if token.isdigit() and '9' not in token:\n",
    "                valid_numbers.append(int(token))\n",
    "\n",
    "        if valid_numbers:\n",
    "            return max(valid_numbers)\n",
    "        else:\n",
    "            return -1"
   ]
  }
 ],
 "metadata": {
  "kernelspec": {
   "display_name": "base",
   "language": "python",
   "name": "python3"
  },
  "language_info": {
   "codemirror_mode": {
    "name": "ipython",
    "version": 3
   },
   "file_extension": ".py",
   "mimetype": "text/x-python",
   "name": "python",
   "nbconvert_exporter": "python",
   "pygments_lexer": "ipython3",
   "version": "3.9.16"
  }
 },
 "nbformat": 4,
 "nbformat_minor": 2
}
