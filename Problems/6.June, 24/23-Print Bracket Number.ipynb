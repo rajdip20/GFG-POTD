{
 "cells": [
  {
   "cell_type": "markdown",
   "metadata": {},
   "source": [
    "Given a string **str**, the task is to find the bracket numbers, i.e., for each bracket in str, return i if the bracket is the **i<sup>th</sup>** opening or closing bracket to appear in the string. \n",
    "\n",
    "<br>\n",
    "\n",
    "**Examples:**\n",
    ">**Input:**  str = \"(aa(bdc))p(dee)\"<br>\n",
    ">**Output:** 1 2 2 1 3 3<br>\n",
    ">**Explanation:** The highlighted brackets in<br>\n",
    ">the given string (aa(bdc))p(dee) are<br>\n",
    ">assigned the numbers as: 1 2 2 1 3 3.\n",
    "\n",
    ">**Input:**  str = \"(((()(\"<br>\n",
    ">**Output:** 1 2 3 4 4 5<br>\n",
    ">**Explanation:** The highlighted brackets in<br>\n",
    ">the given string (((()( are assigned<br>\n",
    ">the numbers as: 1 2 3 4 4 5\n",
    "\n",
    "<br>\n",
    "\n",
    "**Expected Time Complexity:** O(|str|)<br>\n",
    "**Expected Auxiliary Space:** O(|str|)\n",
    "\n",
    "**Constraints:**\n",
    "- >1 <= |str| <= 10<sup>5</sup>\n",
    "- >str contains lowercase English alphabets, and '(', ')' characters\n",
    "- >At any index, the number of opening brackets is greater than or equal to closing brackets"
   ]
  },
  {
   "cell_type": "code",
   "execution_count": 1,
   "metadata": {},
   "outputs": [],
   "source": [
    "class Solution:\n",
    "    def bracketNumbers(self, str):\n",
    "\t\t# code here\n",
    "        stack = []\n",
    "        counter = 0\n",
    "        result = []\n",
    "\n",
    "        for char in str:\n",
    "            if char == '(':\n",
    "                counter += 1\n",
    "                stack.append(counter)\n",
    "                result.append(counter)\n",
    "            elif char == ')':\n",
    "                if stack:\n",
    "                    result.append(stack.pop())\n",
    "            else:\n",
    "                result.append(0)\n",
    "\n",
    "        return [num for num in result if num != 0]"
   ]
  }
 ],
 "metadata": {
  "kernelspec": {
   "display_name": "base",
   "language": "python",
   "name": "python3"
  },
  "language_info": {
   "codemirror_mode": {
    "name": "ipython",
    "version": 3
   },
   "file_extension": ".py",
   "mimetype": "text/x-python",
   "name": "python",
   "nbconvert_exporter": "python",
   "pygments_lexer": "ipython3",
   "version": "3.9.16"
  }
 },
 "nbformat": 4,
 "nbformat_minor": 2
}
