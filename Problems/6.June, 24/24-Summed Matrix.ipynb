{
 "cells": [
  {
   "cell_type": "markdown",
   "metadata": {},
   "source": [
    "A matrix is constructed of size **n * n** and given an integer **‘q’**. The value at every cell of the matrix is given as, **M(i,j) = i+j**, where **‘M(i,j)'** is the value of a cell, **‘i’** is the row number, and **‘j’** is the column number. Return the number of cells having value **‘q’**.\n",
    "\n",
    "**Note:** Assume, the array is in 1-based indexing.\n",
    "\n",
    "<br>\n",
    "\n",
    "**Examples:**\n",
    ">**Input:** n = 4, q = 7<br>\n",
    ">**Output:** 2<br>\n",
    ">**Explanation:** Matrix becomes<br>\n",
    ">2 3 4 5 <br>\n",
    ">3 4 5 6 <br>\n",
    ">4 5 6 7<br>\n",
    ">5 6 7 8<br>\n",
    ">The count of 7 is 2.\n",
    "\n",
    ">**Input:** n = 5, q = 4<br>\n",
    ">**Output:** 3<br>\n",
    ">**Explanation:** Matrix becomes<br>\n",
    ">2 3 4 5 6 <br>\n",
    ">3 4 5 6 7 <br>\n",
    ">4 5 6 7 8 <br>\n",
    ">5 6 7 8 9 <br>\n",
    ">6 7 8 9 10 <br>\n",
    ">The count of 4 is 3.\n",
    "\n",
    "<br>\n",
    "\n",
    "**Expected Time Complexity:** O(1)<br>\n",
    "**Expected Auxiliary Space:** O(1)\n",
    "\n",
    "**Constraints:**\n",
    "- >1 ≤ n,q ≤ 10<sup>18</sup>"
   ]
  },
  {
   "cell_type": "code",
   "execution_count": 1,
   "metadata": {},
   "outputs": [],
   "source": [
    "class Solution:\n",
    "    def sumMatrix(self, n, q):\n",
    "        # code here \n",
    "        start = max(1, q - n)\n",
    "        end = min(n, q - 1)\n",
    "        \n",
    "        if start > end:\n",
    "            return 0\n",
    "        \n",
    "        return end - start + 1"
   ]
  }
 ],
 "metadata": {
  "kernelspec": {
   "display_name": "base",
   "language": "python",
   "name": "python3"
  },
  "language_info": {
   "codemirror_mode": {
    "name": "ipython",
    "version": 3
   },
   "file_extension": ".py",
   "mimetype": "text/x-python",
   "name": "python",
   "nbconvert_exporter": "python",
   "pygments_lexer": "ipython3",
   "version": "3.9.16"
  }
 },
 "nbformat": 4,
 "nbformat_minor": 2
}
