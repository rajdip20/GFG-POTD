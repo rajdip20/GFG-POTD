{
 "cells": [
  {
   "cell_type": "markdown",
   "metadata": {},
   "source": [
    "You are given an integer **k** and matrix **mat**. Rotate the elements of the given matrix to the left **k** times and return the resulting matrix.\n",
    "\n",
    "<br>\n",
    "\n",
    "**Examples:**\n",
    ">**Input:** k=1, mat=[[1,2,3],[4,5,6],[7,8,9]]<br>\n",
    ">**Output:**<br>\n",
    ">2 3 1<br>\n",
    ">5 6 4<br>\n",
    ">8 9 7<br>\n",
    ">**Explanation:** Rotate the matrix by one<br>\n",
    ">1 2 3   &emsp;&emsp;&emsp;&emsp;    2 3 1<br>\n",
    ">4 5 6 &emsp;  => &emsp; 5 6 4<br>\n",
    ">7 8 9   &emsp;&emsp;&emsp;&emsp;    8 9 7\n",
    "\n",
    ">**Input:** k=2, mat=[[1,2,3],[4,5,6],[7,8,9]]<br>\n",
    ">**Output:**<br>\n",
    ">3 1 2<br>\n",
    ">6 4 5<br>\n",
    ">9 7 8<br>\n",
    ">**Explanation:** After rotating the matrix looks like<br>\n",
    ">1 2 3    &emsp;&emsp;&emsp;&emsp;   2 3 1    &emsp;&emsp;&emsp;&emsp;   3 1 2<br>\n",
    ">4 5 6 &emsp; => &emsp;  5 6 4 &emsp; => &emsp;  6 4 5<br>\n",
    ">7 8 9    &emsp;&emsp;&emsp;&emsp;   8 9 7    &emsp;&emsp;&emsp;&emsp;   9 7 8\n",
    "\n",
    "<br>\n",
    "\n",
    "**Expected Time Complexity:** O(n * m)<br>\n",
    "**Expected Auxillary Space:** O(n * m)\n",
    "\n",
    "**Constraints:**\n",
    "- >1<= mat.size, mat[0].size, mat[i][j] <=1000\n",
    "- >1<=k<=10000"
   ]
  },
  {
   "cell_type": "code",
   "execution_count": 1,
   "metadata": {},
   "outputs": [],
   "source": [
    "class Solution:\n",
    "    def rotateMatrix(self, k, mat):\n",
    "        # code here\n",
    "        if not mat:\n",
    "            return []\n",
    "        \n",
    "        cols = len(mat[0])\n",
    "        \n",
    "        k = k % cols\n",
    "        \n",
    "        rotated_mat = []\n",
    "        \n",
    "        for row in mat:\n",
    "            rotated_row = row[k:] + row[:k]\n",
    "            rotated_mat.append(rotated_row)\n",
    "        \n",
    "        return rotated_mat"
   ]
  }
 ],
 "metadata": {
  "kernelspec": {
   "display_name": "base",
   "language": "python",
   "name": "python3"
  },
  "language_info": {
   "codemirror_mode": {
    "name": "ipython",
    "version": 3
   },
   "file_extension": ".py",
   "mimetype": "text/x-python",
   "name": "python",
   "nbconvert_exporter": "python",
   "pygments_lexer": "ipython3",
   "version": "3.9.16"
  }
 },
 "nbformat": 4,
 "nbformat_minor": 2
}
