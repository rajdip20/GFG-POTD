{
 "cells": [
  {
   "cell_type": "markdown",
   "metadata": {},
   "source": [
    "Given a binary **matrix** contains **0s** and **1s** only, we need to find the sum of **coverage** of all zeros of the matrix where coverage for a particular 0 is defined as a total number of ones around a zero in left, right, up and bottom directions.\n",
    "\n",
    "<br>\n",
    "\n",
    "**Examples:**\n",
    ">**Input:**<br>\n",
    ">matrix = [[0, 1, 0],<br>\n",
    ">&emsp;&emsp;&emsp;&emsp; [0, 1, 1],<br>\n",
    ">&emsp;&emsp;&emsp;&emsp; [0, 0, 0]]<br>\n",
    ">**Output:** 6<br>\n",
    ">**Explanation:** There are a total of 6 coverage are there\n",
    "\n",
    ">**Input:** \n",
    ">matrix = [[0, 1]]<br>\n",
    ">**Output:** 1<br>\n",
    ">**Explanation:** There are only 1 coverage.\n",
    "\n",
    "<br>\n",
    "\n",
    "**Expected Time Complexity:** O(n * m)<br>\n",
    "**Expected Space Complexity:** O(1)\n",
    "\n",
    "**Constraints:**\n",
    "- >1 <= matrix.size, matrix[0].size <= 100"
   ]
  },
  {
   "cell_type": "code",
   "execution_count": 1,
   "metadata": {},
   "outputs": [],
   "source": [
    "class Solution:\n",
    "    def findCoverage(self, matrix):\n",
    "\t\t# Code here\n",
    "        n = len(matrix)\n",
    "        m = len(matrix[0])\n",
    "        total_coverage = 0\n",
    "\n",
    "        directions = [(-1, 0), (1, 0), (0, -1), (0, 1)]\n",
    "\n",
    "        for i in range(n):\n",
    "            for j in range(m):\n",
    "                if matrix[i][j] == 0:\n",
    "                    coverage = 0\n",
    "                    for direction in directions:\n",
    "                        ni, nj = i + direction[0], j + direction[1]\n",
    "                        if 0 <= ni < n and 0 <= nj < m and matrix[ni][nj] == 1:\n",
    "                            coverage += 1\n",
    "                    total_coverage += coverage\n",
    "\n",
    "        return total_coverage"
   ]
  }
 ],
 "metadata": {
  "kernelspec": {
   "display_name": "base",
   "language": "python",
   "name": "python3"
  },
  "language_info": {
   "codemirror_mode": {
    "name": "ipython",
    "version": 3
   },
   "file_extension": ".py",
   "mimetype": "text/x-python",
   "name": "python",
   "nbconvert_exporter": "python",
   "pygments_lexer": "ipython3",
   "version": "3.9.16"
  }
 },
 "nbformat": 4,
 "nbformat_minor": 2
}
