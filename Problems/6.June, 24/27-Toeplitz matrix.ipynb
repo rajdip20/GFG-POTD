{
 "cells": [
  {
   "cell_type": "markdown",
   "metadata": {},
   "source": [
    "A Toeplitz (or diagonal-constant) matrix is a matrix in which each descending diagonal from left to right is constant, i.e., all elements in a diagonal are the same. Given a rectangular matrix **mat**, your task is to complete the function **isToeplitz** which returns **true** if the matrix is Toeplitz otherwise, it returns **false**.\n",
    "\n",
    "<br>\n",
    "\n",
    "**Examples:**\n",
    ">**Input:**<br>\n",
    ">mat = [[6, 7, 8],<br>\n",
    ">&emsp;&emsp;&emsp;[4, 6, 7],<br>\n",
    ">&emsp;&emsp;&emsp;[1, 4, 6]]<br>\n",
    ">**Output:** true<br>\n",
    ">**Explanation:** The test case represents a 3x3 matrix<br>\n",
    "> 6 7 8 <br>\n",
    "> 4 6 7 <br>\n",
    "> 1 4 6<br>\n",
    ">Output will be true, as values in all downward diagonals from left to right contain the same elements.\n",
    "\n",
    ">**Input:**<br>\n",
    ">mat = [[1,2,3],<br>\n",
    ">&emsp;&emsp;&emsp;[4,5,6]]<br>\n",
    ">**Output:** false<br>\n",
    ">**Explanation:** Matrix of order 2x3 will be 1 2 3 4 5 6 Output: false as values in all diagonals are not the same.\n",
    "\n",
    "<br>\n",
    "\n",
    "**Constraints:**\n",
    "- >1<=mat.size,mat[0].size<=40\n",
    "- >0<=mat[i][j]<=100\n",
    "\n",
    "**Expected time complexity:** O(n * m)<br>\n",
    "**Expected space complexity:** O(1)"
   ]
  },
  {
   "cell_type": "code",
   "execution_count": 1,
   "metadata": {},
   "outputs": [],
   "source": [
    "def isToeplitz(mat):\n",
    "    # code here\n",
    "    rows = len(mat)\n",
    "    cols = len(mat[0])\n",
    "    \n",
    "    for i in range(rows - 1):\n",
    "        for j in range(cols - 1):\n",
    "            if mat[i][j] != mat[i + 1][j + 1]:\n",
    "                return False\n",
    "    \n",
    "    return True"
   ]
  }
 ],
 "metadata": {
  "kernelspec": {
   "display_name": "base",
   "language": "python",
   "name": "python3"
  },
  "language_info": {
   "codemirror_mode": {
    "name": "ipython",
    "version": 3
   },
   "file_extension": ".py",
   "mimetype": "text/x-python",
   "name": "python",
   "nbconvert_exporter": "python",
   "pygments_lexer": "ipython3",
   "version": "3.9.16"
  }
 },
 "nbformat": 4,
 "nbformat_minor": 2
}
