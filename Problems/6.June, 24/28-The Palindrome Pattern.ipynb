{
 "cells": [
  {
   "cell_type": "markdown",
   "metadata": {},
   "source": [
    "Given a two-dimensional integer array **arr** of dimensions **n x n**, consisting solely of zeros and ones, identify the row or column (using 0-based indexing) where all elements form a palindrome. If multiple palindromes are identified, prioritize the palindromes found in rows over those in columns. Within rows or columns, the palindrome with the smaller index takes precedence. The result should be represented by the index followed by either **'R'** or **'C'**, indicating whether the palindrome was located in a row or column. The output should be space-separated. If no palindrome is found, return the string **-1**.\n",
    "\n",
    "<br>\n",
    "\n",
    "**Examples:**\n",
    ">**Input:** <br>\n",
    ">arr[][] =  [[1, 0, 0], <br>\n",
    ">&emsp;&emsp;&emsp;&emsp;[0, 1, 0],<br>\n",
    ">&emsp;&emsp;&emsp;&emsp;[1, 1, 0]]<br>\n",
    ">**Output:** 1 R<br>\n",
    ">**Explanation:** In the first test case, 0-1-0 is a palindrome <br>\n",
    ">occuring in a row having index 1.\n",
    "\n",
    ">**Input:** <br>\n",
    ">arr[][] = [[1, 0],<br>\n",
    ">&emsp;&emsp;&emsp;&emsp;[1, 0]]<br>\n",
    ">**Output:** 0 C<br>\n",
    ">**Explanation:** 1-1 occurs before 0-0 in the 0th column. And there is no palindrome in the two rows.\n",
    "\n",
    "<br>\n",
    "\n",
    "**Expected Time Complexity:** O(n<sup>2</sup>)<br>\n",
    "**Expected Auxiliary Space:** O(1)\n",
    "\n",
    "**Constraints:**\n",
    "- >1<= arr.size <= 50\n",
    "- >0 <= arr[i][j] <= 1"
   ]
  },
  {
   "cell_type": "code",
   "execution_count": 1,
   "metadata": {},
   "outputs": [],
   "source": [
    "class Solution:\n",
    "    def pattern (self, arr):\n",
    "        # code here\n",
    "        def is_palindrome(arr):\n",
    "            return arr == arr[::-1]\n",
    "\n",
    "\n",
    "        n = len(arr)\n",
    "    \n",
    "        for i in range(n):\n",
    "            if is_palindrome(arr[i]):\n",
    "                return f\"{i} R\"\n",
    "        \n",
    "        for j in range(n):\n",
    "            col = [arr[i][j] for i in range(n)]\n",
    "            if is_palindrome(col):\n",
    "                return f\"{j} C\"\n",
    "        \n",
    "        return \"-1\""
   ]
  }
 ],
 "metadata": {
  "kernelspec": {
   "display_name": "base",
   "language": "python",
   "name": "python3"
  },
  "language_info": {
   "codemirror_mode": {
    "name": "ipython",
    "version": 3
   },
   "file_extension": ".py",
   "mimetype": "text/x-python",
   "name": "python",
   "nbconvert_exporter": "python",
   "pygments_lexer": "ipython3",
   "version": "3.9.16"
  }
 },
 "nbformat": 4,
 "nbformat_minor": 2
}
