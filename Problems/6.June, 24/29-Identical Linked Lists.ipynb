{
 "cells": [
  {
   "cell_type": "markdown",
   "metadata": {},
   "source": [
    "Given the two singly **Linked Lists** respectively. The task is to check whether two linked lists are **identical** or not. <br>\n",
    "Two Linked Lists are identical when they have the same data and with the same arrangement too. If both Linked Lists are identical then return **true** otherwise return **false**. \n",
    "\n",
    "<br>\n",
    "\n",
    "**Examples:**\n",
    ">**Input:**<br>\n",
    ">LinkedList1: 1->2->3->4->5->6<br>\n",
    ">LinkedList2: 99->59->42->20<br>\n",
    ">**Output:** false<br>\n",
    ">**Explanation:**<br>\n",
    ">![identical1](../../images/blobid0_1719550109.png)<br>\n",
    ">As shown in figure linkedlists are not identical.\n",
    "\n",
    ">**Input:**<br>\n",
    ">LinkedList1: 1->2->3->4->5<br>\n",
    ">LinkedList2: 1->2->3->4->5<br>\n",
    ">**Output:** true<br>\n",
    ">**Explanation:** <br>\n",
    ">![identical2](../../images/blobid2_1719550498.png)<br>\n",
    ">As shown in figure both are identical.\n",
    "\n",
    "<br>\n",
    "\n",
    "**Expected Time Complexity:** O(n)<br>\n",
    "**Expected Auxilliary Space:** O(1)\n",
    "\n",
    "**Constraints:**\n",
    "- >1 <= length of lists <= 10<sup>3</sup>"
   ]
  },
  {
   "cell_type": "code",
   "execution_count": 1,
   "metadata": {},
   "outputs": [],
   "source": [
    "'''\n",
    "# Node Class    \n",
    "class node:\n",
    "    def __init__(self, val):\n",
    "        self.data = val\n",
    "        self.next = None\n",
    "        \n",
    "'''\n",
    "\n",
    "# Function to check whether two linked lists are identical or not.\n",
    "def areIdentical(head1, head2):\n",
    "    # Code here\n",
    "    while head1 is not None and head2 is not None:\n",
    "        if head1.data != head2.data:\n",
    "            return False\n",
    "        head1 = head1.next\n",
    "        head2 = head2.next\n",
    "\n",
    "    if head1 is None and head2 is None:\n",
    "        return True\n",
    "    else:\n",
    "        return False"
   ]
  }
 ],
 "metadata": {
  "kernelspec": {
   "display_name": "base",
   "language": "python",
   "name": "python3"
  },
  "language_info": {
   "codemirror_mode": {
    "name": "ipython",
    "version": 3
   },
   "file_extension": ".py",
   "mimetype": "text/x-python",
   "name": "python",
   "nbconvert_exporter": "python",
   "pygments_lexer": "ipython3",
   "version": "3.9.16"
  }
 },
 "nbformat": 4,
 "nbformat_minor": 2
}
