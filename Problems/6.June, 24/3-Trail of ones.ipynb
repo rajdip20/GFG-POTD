{
 "cells": [
  {
   "cell_type": "markdown",
   "metadata": {},
   "source": [
    "Given a number **n**, find the number of binary strings of length **n** that contain consecutive 1's in them. Since the number can be very large, return the answer after modulo with 1e9+7.\n",
    "\n",
    "<br>\n",
    "\n",
    "**Example 1:**\n",
    ">**Input:** n = 2<br>\n",
    ">**Output:** 1<br>\n",
    ">**Explanation:** There are 4 strings of length 2, the strings are 00, 01, 10, and 11. Only the string 11 has consecutive 1's.\n",
    "\n",
    "**Example 2:**\n",
    ">**Input:** n = 3<br>\n",
    ">**Output:** 3<br>\n",
    ">**Explanation:** There are 8 strings of length 3, the strings are 000, 001, 010, 011, 100, 101, 110 and 111.  The strings with consecutive 1's are 011, 110 and 111.\n",
    "\n",
    "**Example 3:**\n",
    ">**Input:** n = 5<br>\n",
    ">**Output:** 19<br>\n",
    ">**Explanation:** There are 19 strings having consecutive 1's.\n",
    "\n",
    "<br>\n",
    "\n",
    "**Your Task:**<br>\n",
    "You don't need to read input or print anything. Your task is to complete the function **numberOfConsecutiveOnes()** which takes an integer n and returns the number of binary strings that contain consecutive 1s in them.\n",
    "\n",
    "**Expected Time Complexity:** O(n)<br>\n",
    "**Expected Auxiliary Space:** O(n)\n",
    "\n",
    "**Constraints:**\n",
    "- >2 <= n <= 10<sup>5</sup>"
   ]
  },
  {
   "cell_type": "code",
   "execution_count": 1,
   "metadata": {},
   "outputs": [],
   "source": [
    "class Solution:\n",
    "    def numberOfConsecutiveOnes(ob, n):\n",
    "        # code here \n",
    "        MOD = 10**9 + 7\n",
    "\n",
    "        if n == 1:\n",
    "            return 0\n",
    "        if n == 2:\n",
    "            return 1\n",
    "\n",
    "        A = [0] * (n + 1)\n",
    "        B = [0] * (n + 1)\n",
    "\n",
    "        A[1] = 2\n",
    "        A[2] = 3\n",
    "        B[1] = 0\n",
    "        B[2] = 1\n",
    "\n",
    "        for i in range(3, n + 1):\n",
    "            A[i] = (A[i-1] + A[i-2]) % MOD\n",
    "\n",
    "        total = pow(2, n, MOD)\n",
    "        B[n] = (total - A[n] + MOD) % MOD\n",
    "\n",
    "        return B[n]"
   ]
  }
 ],
 "metadata": {
  "kernelspec": {
   "display_name": "base",
   "language": "python",
   "name": "python3"
  },
  "language_info": {
   "codemirror_mode": {
    "name": "ipython",
    "version": 3
   },
   "file_extension": ".py",
   "mimetype": "text/x-python",
   "name": "python",
   "nbconvert_exporter": "python",
   "pygments_lexer": "ipython3",
   "version": "3.9.16"
  }
 },
 "nbformat": 4,
 "nbformat_minor": 2
}
