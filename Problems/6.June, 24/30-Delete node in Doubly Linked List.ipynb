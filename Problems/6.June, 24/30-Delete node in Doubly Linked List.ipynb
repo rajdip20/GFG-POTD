{
 "cells": [
  {
   "cell_type": "markdown",
   "metadata": {},
   "source": [
    "Given a doubly **Linked list** and a position. The task is to **delete** a node from a given position (position starts from 1) in a doubly linked list and return the head of the doubly Linked list.\n",
    "\n",
    "<br>\n",
    "\n",
    "**Examples:**\n",
    ">**Input:** LinkedList = 1 <--> 3 <--> 4, x = 3<br>\n",
    ">**Output:** 1 3  <br>\n",
    ">**Explanation:**<br>\n",
    ">![DLL1](../../images/blobid1_1719574036.png)<br>\n",
    ">After deleting the node at position 3 (position starts from 1),the linked list will be now as 1 <--> 3.\n",
    "\n",
    ">**Input:** LinkedList = 1 <--> 5 <--> 2 <--> 9, x = 1<br>\n",
    ">**Output:** 5 2 9<br>\n",
    ">**Explanation:**<br>\n",
    ">![DLL2](../../images/blobid2_1719574060.png)\n",
    "\n",
    "<br>\n",
    "\n",
    "**Expected Time Complexity:** O(n)<br>\n",
    "**Expected Auxilliary Space:** O(1)\n",
    "\n",
    "**Constraints:**\n",
    "- >2 <= size of the linked list(n) <= 10<sup>5</sup>\n",
    "- >1 <= x <= n\n",
    "- >1 <= node.data <= 10<sup>9</sup>"
   ]
  },
  {
   "cell_type": "code",
   "execution_count": 1,
   "metadata": {},
   "outputs": [],
   "source": [
    "class Solution:\n",
    "    def delete_node(self, head, x):\n",
    "        # code here\n",
    "        if head is None:\n",
    "            return None\n",
    "\n",
    "        if x == 1:\n",
    "            new_head = head.next\n",
    "            if new_head:\n",
    "                new_head.prev = None\n",
    "            return new_head\n",
    "        \n",
    "        current = head\n",
    "        for _ in range(x - 1):\n",
    "            current = current.next\n",
    "            if current is None:\n",
    "                return head\n",
    "        \n",
    "        if current.next is None:\n",
    "            current.prev.next = None\n",
    "        else:\n",
    "            current.prev.next = current.next\n",
    "            current.next.prev = current.prev\n",
    "\n",
    "        return head"
   ]
  }
 ],
 "metadata": {
  "kernelspec": {
   "display_name": "base",
   "language": "python",
   "name": "python3"
  },
  "language_info": {
   "codemirror_mode": {
    "name": "ipython",
    "version": 3
   },
   "file_extension": ".py",
   "mimetype": "text/x-python",
   "name": "python",
   "nbconvert_exporter": "python",
   "pygments_lexer": "ipython3",
   "version": "3.9.16"
  }
 },
 "nbformat": 4,
 "nbformat_minor": 2
}
