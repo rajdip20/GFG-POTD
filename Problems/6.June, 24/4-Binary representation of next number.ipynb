{
 "cells": [
  {
   "cell_type": "markdown",
   "metadata": {},
   "source": [
    "Given a binary representation in the form of a string(s) of a number n, the task is to find a binary representation of n+1.\n",
    "\n",
    "**Note:** Output binary string should not contain leading zeros.\n",
    "\n",
    "<br>\n",
    "\n",
    "**Example 1:**\n",
    ">**Input:** s = \"10\"<br>\n",
    ">**Output:** 11<br>\n",
    ">**Explanation:** \"10\" is the binary representation of 2 and binary representation of 3 is \"11\"\n",
    "\n",
    "**Example 2:**\n",
    ">**Input:** s = \"111\"<br>\n",
    ">**Output:** 1000<br>\n",
    ">**Explanation:** \"111\" is the binary representation of 7 and binary representation of 8 is \"1000\"\n",
    "\n",
    "<br>\n",
    "\n",
    "**Your Task:**<br>\n",
    "You don't need to read input or print anything. Complete the function **binaryNextNumber()** which takes s as input parameter and returns the string.\n",
    "\n",
    "**Expected Time Complexity:** O(n)<br>\n",
    "**Expected Auxiliary Space:** O(n) to store resultant string  \n",
    "\n",
    "**Constraints:**\n",
    "- >1 <= n <= 10<sup>5</sup>"
   ]
  },
  {
   "cell_type": "code",
   "execution_count": 1,
   "metadata": {},
   "outputs": [],
   "source": [
    "class Solution:\n",
    "    def binaryNextNumber(self, s):\n",
    "\t\t# code here\n",
    "        n = int(s, 2)\n",
    "        n += 1\n",
    "        result = bin(n)[2:]\n",
    "        \n",
    "        return result"
   ]
  }
 ],
 "metadata": {
  "kernelspec": {
   "display_name": "base",
   "language": "python",
   "name": "python3"
  },
  "language_info": {
   "codemirror_mode": {
    "name": "ipython",
    "version": 3
   },
   "file_extension": ".py",
   "mimetype": "text/x-python",
   "name": "python",
   "nbconvert_exporter": "python",
   "pygments_lexer": "ipython3",
   "version": "3.9.16"
  }
 },
 "nbformat": 4,
 "nbformat_minor": 2
}
