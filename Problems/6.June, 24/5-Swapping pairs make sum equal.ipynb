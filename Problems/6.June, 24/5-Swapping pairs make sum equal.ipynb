{
 "cells": [
  {
   "cell_type": "markdown",
   "metadata": {},
   "source": [
    "Given two arrays of integers **a[]** and **b[]** of size **n** and **m**, the task is to check if a pair of values (one value from each array) exists such that swapping the elements of the pair will make the sum of two arrays equal.\n",
    "\n",
    "<br>\n",
    "\n",
    "**Example 1:**\n",
    ">**Input:** n = 6, m = 4, a[] = {4, 1, 2, 1, 1, 2}, b[] = (3, 6, 3, 3)<br>\n",
    ">**Output:** 1<br>\n",
    ">**Explanation:** Sum of elements in a[] = 11, Sum of elements in b[] = 15, To get same sum from both arrays, we can swap following values: 1 from a[] and 3 from b[]\n",
    "\n",
    "**Example 2:**\n",
    ">**Input:** n = 4, m = 4, a[] = {5, 7, 4, 6}, b[] = {1, 2, 3, 8}<br>\n",
    ">**Output:** 1<br>\n",
    ">**Explanation:** We can swap 6 from array a[] and 2 from array b[]\n",
    "\n",
    "<br>\n",
    "\n",
    "**Your Task:**<br>\n",
    "You don't need to read or print anything. You need to complete the function **findSwapValues()** that takes array **a**, array **b**, integer **n**, and integer **m** as parameters and returns **1** if there exists any such pair otherwise returns **-1**.\n",
    "\n",
    "**Expected Time Complexity:** O(mlogm+nlogn).<br>\n",
    "**Expected Auxiliary Space:** O(1).\n",
    "\n",
    "**Constraints:**\n",
    "- >1 ≤ n, m ≤ 10<sup>6</sup>"
   ]
  },
  {
   "cell_type": "code",
   "execution_count": 1,
   "metadata": {},
   "outputs": [],
   "source": [
    "class Solution:\n",
    "    def findSwapValues(self, a, n, b, m):\n",
    "        # Your code goes here\n",
    "        SumA = sum(a)\n",
    "        SumB = sum(b)\n",
    "\n",
    "        if (SumB - SumA) % 2 != 0:\n",
    "            return -1\n",
    "\n",
    "        diff = (SumB - SumA) // 2\n",
    "        b_set = set(b)\n",
    "\n",
    "        for x in a:\n",
    "            if x + diff in b_set:\n",
    "                return 1\n",
    "\n",
    "        return -1"
   ]
  }
 ],
 "metadata": {
  "kernelspec": {
   "display_name": "base",
   "language": "python",
   "name": "python3"
  },
  "language_info": {
   "codemirror_mode": {
    "name": "ipython",
    "version": 3
   },
   "file_extension": ".py",
   "mimetype": "text/x-python",
   "name": "python",
   "nbconvert_exporter": "python",
   "pygments_lexer": "ipython3",
   "version": "3.9.16"
  }
 },
 "nbformat": 4,
 "nbformat_minor": 2
}
