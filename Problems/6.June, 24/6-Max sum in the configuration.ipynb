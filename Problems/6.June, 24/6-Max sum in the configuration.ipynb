{
 "cells": [
  {
   "cell_type": "markdown",
   "metadata": {},
   "source": [
    "Given an integer array(0-based indexing) **a** of size **n**. Your task is to **return** the **maximum** value of the sum of **i*a[i]** for all **0<= i <=n-1**, where a[i] is the element at index i in the array. The only operation allowed is to rotate(clockwise or counterclockwise) the array any number of times.\n",
    "\n",
    "<br>\n",
    "\n",
    "**Example 1:**\n",
    ">**Input:** n = 4, a[] = {8, 3, 1, 2}<br>\n",
    ">**Output:** 29<br>\n",
    ">**Explanation:** All the configurations possible by rotating the elements are:<br>\n",
    ">3 1 2 8 here sum is 3 * 0+1 * 1+2 * 2+8 * 3 = 29<br>\n",
    ">1 2 8 3 here sum is 1 * 0+2 * 1+8 * 2+3 * 3 = 27<br>\n",
    ">2 8 3 1 here sum is 2 * 0+8 * 1+3 * 2+1 * 3 = 17<br>\n",
    ">8 3 1 2 here sum is 8 * 0+3 * 1+1 * 2+2 * 3 = 11, so the maximum sum will be 29.\n",
    "\n",
    "**Example 2:**\n",
    ">**Input:** n = 3, a[] = {1, 2, 3}<br>\n",
    ">**Output:** 8<br>\n",
    ">**Explanation:** All the configurations possible by rotating the elements are:<br>\n",
    ">1 2 3 here sum is 1 * 0+2 * 1+3 * 2 = 8<br>\n",
    ">3 1 2 here sum is 3 * 0+1 * 1+2 * 2 = 5<br>\n",
    ">2 3 1 here sum is 2 * 0+3 * 1+1 * 2 = 5, so the maximum sum will be 8.\n",
    "\n",
    "<br>\n",
    "\n",
    "**Expected Time Complexity:** O(n).<br>\n",
    "**Expected Auxiliary Space:** O(1).\n",
    "\n",
    "**Constraints:**\n",
    "- >1<=n<=10<sup>5</sup>\n",
    "- >1<=a[]<=10<sup>6</sup>"
   ]
  },
  {
   "cell_type": "code",
   "execution_count": 1,
   "metadata": {},
   "outputs": [],
   "source": [
    "def max_sum(a, n):\n",
    "    # code here\n",
    "    S_0 = sum(i * a[i] for i in range(n))\n",
    "    \n",
    "    total_sum = sum(a)\n",
    "    max_sum = S_0\n",
    "    current_sum = S_0\n",
    "    \n",
    "    for k in range(1, n):\n",
    "        current_sum = current_sum + total_sum - n * a[n - k]\n",
    "        max_sum = max(max_sum, current_sum)\n",
    "    \n",
    "    return max_sum"
   ]
  }
 ],
 "metadata": {
  "kernelspec": {
   "display_name": "base",
   "language": "python",
   "name": "python3"
  },
  "language_info": {
   "codemirror_mode": {
    "name": "ipython",
    "version": 3
   },
   "file_extension": ".py",
   "mimetype": "text/x-python",
   "name": "python",
   "nbconvert_exporter": "python",
   "pygments_lexer": "ipython3",
   "version": "3.9.16"
  }
 },
 "nbformat": 4,
 "nbformat_minor": 2
}
