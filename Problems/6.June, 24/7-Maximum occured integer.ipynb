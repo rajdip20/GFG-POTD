{
 "cells": [
  {
   "cell_type": "markdown",
   "metadata": {},
   "source": [
    "Given **n** integer ranges, the task is to return the **maximum occurring integer** in the given ranges. If more than one such integer exists, return the **smallest** one.<br>\n",
    "The ranges are in two arrays **l[]** and **r[]**. **l[i]** consists of the starting point of the range and **r[i]** consists of the corresponding endpoint of the range & a maxx which is the **maximum** value of r[].\n",
    "\n",
    "&emsp;&emsp;For example, consider the following ranges.<br>\n",
    "&emsp;&emsp;l[] = {2, 1, 3}, r[] = {5, 3, 9)<br>\n",
    "&emsp;&emsp;Ranges represented by the above arrays are.<br>\n",
    "&emsp;&emsp;[2, 5] = {2, 3, 4, 5}<br>\n",
    "&emsp;&emsp;[1, 3] = {1, 2, 3}<br>\n",
    "&emsp;&emsp;[3, 9] = {3, 4, 5, 6, 7, 8, 9}<br>\n",
    "&emsp;&emsp;The maximum occurred integer in these ranges is 3.\n",
    "\n",
    "<br>\n",
    "\n",
    "**Examples:**\n",
    ">**Input:** n = 4, l[] = {1,4,3,1}, r[] = {15,8,5,4}, maxx = 15<br>\n",
    ">**Output:** 4<br>\n",
    ">**Explanation:** The given ranges are [1,15] [4, 8] [3, 5] [1, 4]. The smallest number that is most common or appears most times in the ranges is 4.\n",
    "\n",
    "\n",
    "\n",
    ">**Input:** n = 5, l[] = {1,5,9,13,21}, r[] = {15,8,12,20,30}, maxx = 30<br>\n",
    ">**Output:** 5<br>\n",
    ">**Explanation:** The given ranges are [1, 15] [5, 8] [9, 12] [13, 20] [21, 30]. The smallest number that is most common or appears most times in the ranges is 5.\n",
    "\n",
    "<br>\n",
    "\n",
    "**Expected Time Complexity:** O(n+maxx).<br>\n",
    "**Expected Auxiliary Space:** O(maxx), maxx is maximum element in r[]\n",
    "\n",
    "**Constraints:**\n",
    "- >1 ≤ n ≤ 10<sup>6</sup>\n",
    "- >0 ≤ l[i], r[i] ≤ 10<sup>6</sup>"
   ]
  },
  {
   "cell_type": "code",
   "execution_count": 1,
   "metadata": {},
   "outputs": [],
   "source": [
    "class Solution:\n",
    "    # Complete this function\n",
    "    # Function to find the maximum occurred integer in all ranges.\n",
    "    def maxOccured(self, n, l, r, maxx):\n",
    "        ## Your code here\n",
    "        diff = [0] * (maxx + 2)\n",
    "    \n",
    "        for i in range(n):\n",
    "            diff[l[i]] += 1\n",
    "            diff[r[i] + 1] -= 1\n",
    "        \n",
    "        max_count = 0\n",
    "        max_int = 0\n",
    "        current_count = 0\n",
    "        \n",
    "        for i in range(maxx + 1):\n",
    "            current_count += diff[i]\n",
    "            if current_count > max_count:\n",
    "                max_count = current_count\n",
    "                max_int = i\n",
    "        \n",
    "        return max_int"
   ]
  }
 ],
 "metadata": {
  "kernelspec": {
   "display_name": "base",
   "language": "python",
   "name": "python3"
  },
  "language_info": {
   "codemirror_mode": {
    "name": "ipython",
    "version": 3
   },
   "file_extension": ".py",
   "mimetype": "text/x-python",
   "name": "python",
   "nbconvert_exporter": "python",
   "pygments_lexer": "ipython3",
   "version": "3.9.16"
  }
 },
 "nbformat": 4,
 "nbformat_minor": 2
}
