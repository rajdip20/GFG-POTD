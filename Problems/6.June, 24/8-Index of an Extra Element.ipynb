{
 "cells": [
  {
   "cell_type": "markdown",
   "metadata": {},
   "source": [
    "You have given two **sorted** arrays **arr1[]** & **arr2[]** of **distinct** elements. The first array has one element extra added in between. Return the **index** of the extra element.\n",
    "\n",
    "**Note:** 0-based indexing is followed.\n",
    "\n",
    "<br>\n",
    "\n",
    "**Examples:**\n",
    ">**Input:** n = 7, arr1[] = {2,4,6,8,9,10,12}, arr2[] = {2,4,6,8,10,12}<br>\n",
    ">**Output:** 4<br>\n",
    ">**Explanation:** In the first array, 9 is extra added and it's index is 4.\n",
    "\n",
    ">**Input:** n = 6, arr1[] = {3,5,7,8,11,13}, arr2[] = {3,5,7,11,13}<br>\n",
    ">**Output:** 3<br>\n",
    ">**Explanation:** In the first array, 8 is extra and it's index is 3.\n",
    "\n",
    "<br>\n",
    "\n",
    "**Expected Time Complexity:** O(log n).<br>\n",
    "**Expected Auxiliary Space:** O(1).\n",
    "\n",
    "**Constraints:**\n",
    "- >2<=n<=10<sup>5</sup>\n",
    "- >1<=arr1[i],arr2[i]<=10<sup>6</sup>"
   ]
  },
  {
   "cell_type": "code",
   "execution_count": 1,
   "metadata": {},
   "outputs": [],
   "source": [
    "class Solution:\n",
    "    def findExtra(self, n, a, b):\n",
    "        # add code here\n",
    "        left, right = 0, len(b)\n",
    "\n",
    "        while left < right:\n",
    "            mid = (left + right) // 2\n",
    "            \n",
    "            if a[mid] == b[mid]:\n",
    "                left = mid + 1\n",
    "            else:\n",
    "                right = mid\n",
    "        \n",
    "        return left"
   ]
  }
 ],
 "metadata": {
  "kernelspec": {
   "display_name": "base",
   "language": "python",
   "name": "python3"
  },
  "language_info": {
   "codemirror_mode": {
    "name": "ipython",
    "version": 3
   },
   "file_extension": ".py",
   "mimetype": "text/x-python",
   "name": "python",
   "nbconvert_exporter": "python",
   "pygments_lexer": "ipython3",
   "version": "3.9.16"
  }
 },
 "nbformat": 4,
 "nbformat_minor": 2
}
