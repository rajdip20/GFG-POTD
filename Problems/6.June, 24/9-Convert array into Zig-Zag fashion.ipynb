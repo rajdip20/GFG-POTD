{
 "cells": [
  {
   "cell_type": "markdown",
   "metadata": {},
   "source": [
    "Given an array **arr** of distinct elements of size **n**, the task is to rearrange the elements of the array in a zig-zag fashion so that the converted array should be in the below form: \n",
    "\n",
    "&emsp;&emsp;**arr[0] < arr[1]  > arr[2] < arr[3] > arr[4] < . . . . arr[n-2] < arr[n-1] > arr[n]**.\n",
    "\n",
    "**Note:** Modify the given arr[] only, If your transformation is correct, the output will be 1 else the output will be 0. \n",
    "\n",
    "<br>\n",
    "\n",
    "**Examples**\n",
    ">**Input:** n = 7, arr[] = {4, 3, 7, 8, 6, 2, 1}<br>\n",
    ">**Output:** 3 7 4 8 2 6 1<br>\n",
    ">**Explanation:** 3 < 7 > 4 < 8 > 2 < 6 > 1\n",
    "\n",
    ">**Input:** n = 4, arr[] = {1, 4, 3, 2}<br>\n",
    ">**Output:** 1 4 2 3<br>\n",
    ">**Explanation:** 1 < 4 > 2 < 3\n",
    "\n",
    "<br>\n",
    "\n",
    "**Expected Time Complexity:** O(n)<br>\n",
    "**Expected Auxiliary Space:** O(1)\n",
    "\n",
    "**Constraints:**\n",
    "- >1 <= n <= 10<sup>6</sup>\n",
    "- >0 <= arr<sub>i</sub> <= 10<sup>9</sup>"
   ]
  },
  {
   "cell_type": "code",
   "execution_count": 1,
   "metadata": {},
   "outputs": [],
   "source": [
    "class Solution:\n",
    "    def zigZag(self, n : int, arr : list[int]) -> None:\n",
    "        # code here\n",
    "        for i in range(n - 1):\n",
    "            if i % 2 == 0:\n",
    "                if arr[i] > arr[i + 1]:\n",
    "                    arr[i], arr[i + 1] = arr[i + 1], arr[i]\n",
    "            else:\n",
    "                if arr[i] < arr[i + 1]:\n",
    "                    arr[i], arr[i + 1] = arr[i + 1], arr[i]\n",
    "        \n",
    "        return arr"
   ]
  }
 ],
 "metadata": {
  "kernelspec": {
   "display_name": "base",
   "language": "python",
   "name": "python3"
  },
  "language_info": {
   "codemirror_mode": {
    "name": "ipython",
    "version": 3
   },
   "file_extension": ".py",
   "mimetype": "text/x-python",
   "name": "python",
   "nbconvert_exporter": "python",
   "pygments_lexer": "ipython3",
   "version": "3.9.16"
  }
 },
 "nbformat": 4,
 "nbformat_minor": 2
}
