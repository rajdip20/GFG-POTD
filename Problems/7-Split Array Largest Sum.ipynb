{
 "cells": [
  {
   "cell_type": "markdown",
   "metadata": {},
   "source": [
    "Given an array **arr[]** of **N** elements and a number **K**. split the given array into **K** subarrays such that the **maximum** subarray sum achievable out of **K** subarrays formed is **minimum** possible. Find that possible subarray **sum**.\n",
    "\n",
    "<br>\n",
    "\n",
    "**Example 1:**\n",
    "\n",
    ">**Input:**<br>\n",
    ">N = 4, K = 3<br>\n",
    ">arr[] = {1, 2, 3, 4}<br>\n",
    ">**Output:** 4<br>\n",
    ">**Explanation:**<br>\n",
    ">Optimal Split is {1, 2}, {3}, {4}.<br>\n",
    ">Maximum sum of all subarrays is 4,<br>\n",
    ">which is minimum possible for 3 splits. \n",
    "\n",
    "\n",
    "**Example 2:**\n",
    "\n",
    ">**Input:**<br>\n",
    ">N = 3, K = 2<br>\n",
    ">A[] = {1, 1, 2}<br>\n",
    ">**Output:**<br>\n",
    ">2<br>\n",
    ">**Explanation:**<br>\n",
    ">Splitting the array as {1,1} and {2} is optimal.<br>\n",
    ">This results in a maximum sum subarray of 2.\n",
    "\n",
    "<br>\n",
    "\n",
    "**Your Task:**\n",
    "\n",
    "You do not have to take any input or print anything. The task is to complete the function **splitArray()** which returns the maximum sum subarray after splitting the array into **K** subarrays such that **maximum** sum subarray is **minimum** possible.\n",
    "\n",
    "**Expected Time Complexity:** O(N*log(sum(arr))).<br>\n",
    "**Expected Auxiliary Space:** O(1).\n",
    "\n",
    "**Constraints:**\n",
    "- >1 ≤ N ≤ 10<sup>5</sup>\n",
    "- >1 ≤ K ≤ N\n",
    "- >1 ≤ arr[i] ≤ 10<sup>4</sup>"
   ]
  },
  {
   "cell_type": "code",
   "execution_count": 1,
   "metadata": {},
   "outputs": [],
   "source": [
    "class Solution:\n",
    "    def splitArray(self, arr, N, K):\n",
    "        # code here\n",
    "        def func(mid):\n",
    "            count = 1\n",
    "            current_num = 0\n",
    "            for num in arr:\n",
    "                current_num += num\n",
    "\n",
    "                if current_num > mid:\n",
    "                    count += 1\n",
    "                    current_num = num\n",
    "            return count <= K\n",
    "        \n",
    "        left, right = max(arr), sum(arr)\n",
    "        while left < right:\n",
    "            mid = (left + right) // 2\n",
    "            \n",
    "            if func(mid):\n",
    "                right = mid\n",
    "            else:\n",
    "                left = mid + 1\n",
    "        \n",
    "        return left"
   ]
  }
 ],
 "metadata": {
  "kernelspec": {
   "display_name": "base",
   "language": "python",
   "name": "python3"
  },
  "language_info": {
   "codemirror_mode": {
    "name": "ipython",
    "version": 3
   },
   "file_extension": ".py",
   "mimetype": "text/x-python",
   "name": "python",
   "nbconvert_exporter": "python",
   "pygments_lexer": "ipython3",
   "version": "3.9.16"
  }
 },
 "nbformat": 4,
 "nbformat_minor": 2
}
