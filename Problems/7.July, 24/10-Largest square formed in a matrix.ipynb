{
 "cells": [
  {
   "cell_type": "markdown",
   "metadata": {},
   "source": [
    "Given a binary matrix **mat** of size **n * m**, find out the maximum length of a side of a **square** sub-matrix with all 1s.\n",
    "\n",
    "<br>\n",
    "\n",
    "**Examples:**\n",
    ">**Input:** n = 6, m = 5<br>\n",
    ">mat = [[0, 1, 1, 0, 1], <br>\n",
    ">&emsp;&emsp;&emsp; [1, 1, 0, 1, 0],<br>\n",
    ">&emsp;&emsp;&emsp; [0, 1, 1, 1, 0],<br>\n",
    ">&emsp;&emsp;&emsp; [1, 1, 1, 1, 0],<br>\n",
    ">&emsp;&emsp;&emsp; [1, 1, 1, 1, 1],<br>\n",
    ">&emsp;&emsp;&emsp; [0, 0, 0, 0, 0]]<br>\n",
    ">**Output:** 3<br>\n",
    ">**Explanation:** <br>\n",
    ">![Largest_square](../../images/blobid0_1720438143.png)<br>\n",
    ">The maximum length of a side of the square sub-matrix is 3 where every element is 1.\n",
    "\n",
    ">**Input:** n = 2, m = 2<br>\n",
    ">mat = [[1, 1], <br>\n",
    ">&emsp;&emsp;&emsp; [1, 1]]<br>\n",
    ">**Output:** 2<br>\n",
    ">**Explanation:** The maximum length of a side of the square sub-matrix is 2. The matrix itself is the maximum sized sub-matrix in this case.\n",
    "\n",
    ">**Input:** n = 2, m = 2<br>\n",
    ">mat = [[0, 0], <br>\n",
    ">&emsp;&emsp;&emsp; [0, 0]]<br>\n",
    ">**Output:** 0<br>\n",
    ">**Explanation:** There is no 1 in the matrix.\n",
    "\n",
    "<br>\n",
    "\n",
    "**Expected Time Complexity:** O(n * m)<br>\n",
    "**Expected Auxiliary Space:** O(n * m)\n",
    "\n",
    "**Constraints:**\n",
    "- >1 ≤ n, m ≤ 500\n",
    "- >0 ≤ mat[i][j] ≤ 1 "
   ]
  },
  {
   "cell_type": "code",
   "execution_count": 1,
   "metadata": {},
   "outputs": [],
   "source": [
    "class Solution:\n",
    "    def maxSquare(self, n : int, m : int, mat : list[list[int]]) -> int:\n",
    "        # code here\n",
    "        if not mat or not mat[0]:\n",
    "            return 0\n",
    "        \n",
    "        n = len(mat)\n",
    "        m = len(mat[0])\n",
    "        \n",
    "        dp = [[0] * m for _ in range(n)]\n",
    "        max_side = 0\n",
    "        \n",
    "        for i in range(n):\n",
    "            for j in range(m):\n",
    "                if mat[i][j] == 1:\n",
    "                    if i == 0 or j == 0:\n",
    "                        dp[i][j] = 1\n",
    "                    else:\n",
    "                        dp[i][j] = min(dp[i-1][j], dp[i][j-1], dp[i-1][j-1]) + 1\n",
    "                    max_side = max(max_side, dp[i][j])\n",
    "        \n",
    "        return max_side"
   ]
  }
 ],
 "metadata": {
  "kernelspec": {
   "display_name": "base",
   "language": "python",
   "name": "python3"
  },
  "language_info": {
   "codemirror_mode": {
    "name": "ipython",
    "version": 3
   },
   "file_extension": ".py",
   "mimetype": "text/x-python",
   "name": "python",
   "nbconvert_exporter": "python",
   "pygments_lexer": "ipython3",
   "version": "3.9.16"
  }
 },
 "nbformat": 4,
 "nbformat_minor": 2
}
