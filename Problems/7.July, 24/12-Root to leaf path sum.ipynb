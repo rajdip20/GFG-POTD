{
 "cells": [
  {
   "cell_type": "markdown",
   "metadata": {},
   "source": [
    "Given a binary **tree** and an integer **target**, check whether there is a root-to-leaf path with its sum as **target**.\n",
    "\n",
    "<br>\n",
    "\n",
    "**Examples:**\n",
    ">**Input:** tree = 1, target = 2 <br>\n",
    ">&emsp;&emsp;&emsp;&emsp;&emsp;&ensp; /   \\ <br>\n",
    ">&emsp;&emsp;&emsp;&emsp;&emsp; 2 &ensp; 3 <br>\n",
    ">**Output:** false <br>\n",
    ">**Explanation:** There is no root to leaf path with sum 2.\n",
    "\n",
    ">**Input:** tree = 1,  target = 4 <br>\n",
    ">&emsp;&emsp;&emsp;&emsp;&emsp;&ensp; /   \\ <br>\n",
    ">&emsp;&emsp;&emsp;&emsp;&emsp; 2 &ensp; 3 <br>\n",
    ">**Output:** true <br>\n",
    ">**Explanation:** The sum of path from leaf node 3 to root 1 is 4.\n",
    "\n",
    "<br>\n",
    "\n",
    "**Expected Time Complexity:** O(n) <br>\n",
    "**Expected Auxiliary Space:** O(height of tree)\n",
    "\n",
    "**Constraints:**\n",
    "- >1 ≤ number of nodes ≤ 10<sup>4</sup>\n",
    "- >1 ≤ target ≤ 10<sup>6</sup>"
   ]
  },
  {
   "cell_type": "code",
   "execution_count": 1,
   "metadata": {},
   "outputs": [],
   "source": [
    "'''\n",
    "class Node:\n",
    "    def __init__(self,val):\n",
    "        self.data = val\n",
    "        self.left = None\n",
    "        self.right = None\n",
    "'''\n",
    "\n",
    "\n",
    "class Solution:\n",
    "\n",
    "    def hasPathSum(self, root, target):\n",
    "        '''\n",
    "        :param root: root of given tree.\n",
    "        :param sm: root to leaf sum\n",
    "        :return: true or false\n",
    "        '''\n",
    "        # code here\n",
    "        if not root:\n",
    "            return False\n",
    "        \n",
    "        def dfs(node, current_sum):\n",
    "            if not node:\n",
    "                return False\n",
    "            \n",
    "            current_sum += node.data\n",
    "            \n",
    "            if not node.left and not node.right:\n",
    "                return current_sum == target\n",
    "            \n",
    "            return dfs(node.left, current_sum) or dfs(node.right, current_sum)\n",
    "        \n",
    "        return dfs(root, 0)"
   ]
  }
 ],
 "metadata": {
  "kernelspec": {
   "display_name": "base",
   "language": "python",
   "name": "python3"
  },
  "language_info": {
   "codemirror_mode": {
    "name": "ipython",
    "version": 3
   },
   "file_extension": ".py",
   "mimetype": "text/x-python",
   "name": "python",
   "nbconvert_exporter": "python",
   "pygments_lexer": "ipython3",
   "version": "3.9.16"
  }
 },
 "nbformat": 4,
 "nbformat_minor": 2
}
