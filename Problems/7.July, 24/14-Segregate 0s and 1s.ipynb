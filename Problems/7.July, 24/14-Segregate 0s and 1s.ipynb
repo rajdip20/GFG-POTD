{
 "cells": [
  {
   "cell_type": "markdown",
   "metadata": {},
   "source": [
    "Given an array **arr** consisting of only **0**'s and **1**'s in random order. Modify the array **in-place** to segregate 0s onto the left side and 1s onto the right side of the array.\n",
    "\n",
    "<br>\n",
    "\n",
    "**Examples:**\n",
    ">**Input:** arr[] = [0, 0, 1, 1, 0]<br>\n",
    ">**Output:** [0, 0, 0, 1, 1]<br>\n",
    ">**Explanation:**  After segregation, all the 0's are on the left and 1's are on the right. Modified array will be [0, 0, 0, 1, 1].\n",
    "\n",
    ">**Input:** arr[] = [1, 1, 1, 1]<br>\n",
    ">**Output:** [1, 1, 1, 1]<br>\n",
    ">**Explanation:** There are no 0s in the given array, so the modified array is [1, 1, 1, 1]\n",
    "\n",
    "<br>\n",
    "\n",
    "**Expected Time Complexity:** O(n)<br>\n",
    "**Expected Auxiliary Space:** O(1)\n",
    "\n",
    "**Constraints:**\n",
    "- >1 ≤ arr.size() ≤ 10<sup>6</sup>\n",
    "- >0 ≤ arr[i] ≤ 1"
   ]
  },
  {
   "cell_type": "code",
   "execution_count": 1,
   "metadata": {},
   "outputs": [],
   "source": [
    "class Solution:\n",
    "    def segregate0and1(self, arr):\n",
    "        # code here\n",
    "        left = 0\n",
    "        right = len(arr) - 1\n",
    "        \n",
    "        while left < right:\n",
    "            if arr[left] == 0:\n",
    "                left += 1\n",
    "            elif arr[right] == 1:\n",
    "                right -= 1\n",
    "            else:\n",
    "                arr[left], arr[right] = arr[right], arr[left]\n",
    "                left += 1\n",
    "                right -= 1"
   ]
  }
 ],
 "metadata": {
  "kernelspec": {
   "display_name": "base",
   "language": "python",
   "name": "python3"
  },
  "language_info": {
   "codemirror_mode": {
    "name": "ipython",
    "version": 3
   },
   "file_extension": ".py",
   "mimetype": "text/x-python",
   "name": "python",
   "nbconvert_exporter": "python",
   "pygments_lexer": "ipython3",
   "version": "3.9.16"
  }
 },
 "nbformat": 4,
 "nbformat_minor": 2
}
