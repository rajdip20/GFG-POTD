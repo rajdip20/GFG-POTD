{
 "cells": [
  {
   "cell_type": "markdown",
   "metadata": {},
   "source": [
    "Given two integers **s** and **d**. The task is to find the smallest number such that the sum of its digits is **s** and the number of digits in the number are **d**. Return a string that is the smallest possible number. If it is not possible then return **-1**.\n",
    "\n",
    "<br>\n",
    "\n",
    "**Examples:**\n",
    ">**Input:** s = 9, d = 2<br>\n",
    ">**Output:** 18 <br>\n",
    ">**Explanation:** 18 is the smallest number possible with the sum of digits = 9 and total digits = 2.\n",
    "\n",
    ">**Input:** s = 20, d = 3 <br>\n",
    ">**Output:** 299 <br>\n",
    ">**Explanation:** 299 is the smallest number possible with the sum of digits = 20 and total digits = 3.\n",
    "\n",
    "<br>\n",
    "\n",
    "**Expected Time Complexity:** O(d)<br>\n",
    "**Expected Auxiliary Space:** O(1)\n",
    "\n",
    "**Constraints:**\n",
    "- >1 ≤ s ≤ 100\n",
    "- >1 ≤ d ≤ 6"
   ]
  },
  {
   "cell_type": "code",
   "execution_count": 1,
   "metadata": {},
   "outputs": [],
   "source": [
    "class Solution:\n",
    "    def smallestNumber(self, s, d):\n",
    "        # code here\n",
    "        maxv = 9 * d\n",
    "        \n",
    "        if s > maxv:\n",
    "            return -1\n",
    "        \n",
    "        ans = \"\"\n",
    "        s -= 1\n",
    "        \n",
    "        for i in range(0, d - 1):\n",
    "            if s >= 9:\n",
    "               ans += str(9)\n",
    "               s -= 9\n",
    "            else:\n",
    "                ans += str(s)\n",
    "                s = 0\n",
    "        \n",
    "        ans += str(s + 1)\n",
    "        ans = ans[::-1]\n",
    "        \n",
    "        return ans"
   ]
  }
 ],
 "metadata": {
  "kernelspec": {
   "display_name": "base",
   "language": "python",
   "name": "python3"
  },
  "language_info": {
   "codemirror_mode": {
    "name": "ipython",
    "version": 3
   },
   "file_extension": ".py",
   "mimetype": "text/x-python",
   "name": "python",
   "nbconvert_exporter": "python",
   "pygments_lexer": "ipython3",
   "version": "3.9.16"
  }
 },
 "nbformat": 4,
 "nbformat_minor": 2
}
