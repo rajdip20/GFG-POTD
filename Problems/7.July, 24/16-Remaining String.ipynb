{
 "cells": [
  {
   "cell_type": "markdown",
   "metadata": {},
   "source": [
    "Given a string **s** without spaces, a character **ch** and an integer **count**. Your task is to return the substring that remains after the character **ch** has appeared **count** number of times.<br>\n",
    "**Note:**  Assume upper case and lower case alphabets are different. “”**(Empty string)** should be returned if it is not possible, or the remaining substring is empty.\n",
    "\n",
    "<br>\n",
    "\n",
    "**Examples:**\n",
    ">**Input:** s = \"Thisisdemostring\", ch = 'i', count = 3<br>\n",
    ">**Output:** ng<br>\n",
    ">**Explanation:** The remaining substring of s after the 3rd occurrence of 'i' is \"ng\", hence the output is ng.\n",
    "\n",
    ">**Input:** s = \"Thisisdemostri\", ch = 'i', count = 3<br>\n",
    ">**Output:** \"\"<br>\n",
    ">**Explanation:** The 3rd occurence of 'i' is at the last index. In this case the remaining substring is empty, hence we return empty string.\n",
    "\n",
    ">**Input:** s = \"abcd\", ch = 'x', count = 2<br>\n",
    ">**Output:** \"\"<br>\n",
    ">**Explanation:** The character x is not present in the string, hence we return empty string.\n",
    "\n",
    "<br>\n",
    "\n",
    "**Expected Time Complexity:** O(|s|)<br>\n",
    "**Expected Auxiliary Space:** O(1)\n",
    "\n",
    "**Constraints:**\n",
    "- >1<= s.length()<=10<sup>5</sup>\n",
    "- >1<=count<=s.length()\n",
    "- >s[i] is both upper case and lower case"
   ]
  },
  {
   "cell_type": "code",
   "execution_count": 1,
   "metadata": {},
   "outputs": [],
   "source": [
    "class Solution:\n",
    "    def printString(self, s, ch, count):\n",
    "\t\t# code here\n",
    "        occurrences = 0\n",
    "        \n",
    "        for i in range(len(s)):\n",
    "            if s[i] == ch:\n",
    "                occurrences += 1\n",
    "                if occurrences == count:\n",
    "                    return s[i+1:]\n",
    "        \n",
    "        return \"\""
   ]
  }
 ],
 "metadata": {
  "kernelspec": {
   "display_name": "base",
   "language": "python",
   "name": "python3"
  },
  "language_info": {
   "codemirror_mode": {
    "name": "ipython",
    "version": 3
   },
   "file_extension": ".py",
   "mimetype": "text/x-python",
   "name": "python",
   "nbconvert_exporter": "python",
   "pygments_lexer": "ipython3",
   "version": "3.9.16"
  }
 },
 "nbformat": 4,
 "nbformat_minor": 2
}
