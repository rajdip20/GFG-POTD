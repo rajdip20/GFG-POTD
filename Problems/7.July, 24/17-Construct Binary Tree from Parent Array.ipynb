{
 "cells": [
  {
   "cell_type": "markdown",
   "metadata": {},
   "source": [
    "Given an array **parent** that is used to represent a tree. The array indices (0-based indexing) are the values of the tree nodes and **parent[i]** denotes the parent node of a particular node. The parent of the root node would always be **-1**, as there is no parent for the root. Construct the standard linked representation of Binary Tree from this array representation and **return the root** node of the constructed tree.\n",
    "\n",
    "**Note:** If two elements have the same parent, the one that appears first in the array will be the left child and the other is the right child. You don't need to print anything, the driver code will print the level order traversal of the returned root node to verify the output.\n",
    "\n",
    "<br>\n",
    "\n",
    "**Examples:**\n",
    ">**Input:** parent[] = [-1, 0, 0, 1, 1, 3,5]<br>\n",
    ">**Output:** 0 1 2 3 4 5 6<br>\n",
    ">**Explanation:** the tree generated<br>\n",
    ">will have a structure like <br>\n",
    ">&emsp;&emsp;&emsp;&emsp;&emsp; 0 <br>\n",
    ">&emsp;&emsp;&emsp;&emsp;&nbsp; / &ensp; \\ <br>\n",
    ">&emsp;&emsp;&emsp;&ensp; 1 &emsp;&ensp; 2 <br>\n",
    ">&emsp;&emsp;&emsp; / &ensp; \\ <br>\n",
    ">&emsp;&emsp;&ensp; 3 &emsp; 4 <br>\n",
    ">&emsp;&emsp; / <br>\n",
    ">&emsp;&ensp; 5 <br>\n",
    ">&emsp; / <br>\n",
    ">&nbsp; 6 <br>\n",
    "\n",
    ">**Input:** parent[] = [2, 0, -1]<br>\n",
    ">**Output:** 2 0 1<br>\n",
    ">**Explanation:** the tree generated will<br>\n",
    ">have a sturcture like<br>\n",
    ">&emsp;&emsp;&ensp; 2 <br>\n",
    ">&emsp;&emsp; / <br>\n",
    ">&emsp;&ensp; 0 <br>\n",
    ">&emsp; / <br>\n",
    ">&nbsp; 1 <br>\n",
    "\n",
    "<br>\n",
    "\n",
    "**Expected Time Complexity:** O(n)<br>\n",
    "**Expected Auxiliary Space:** O(n)\n",
    "\n",
    "**Constraints:**\n",
    "- >1 ≤ parent.size() ≤ 10<sup>3</sup>"
   ]
  },
  {
   "cell_type": "code",
   "execution_count": 1,
   "metadata": {},
   "outputs": [],
   "source": [
    "'''\n",
    "# A node structure\n",
    "class Node:\n",
    "    # A utility function to create a new node\n",
    "    def __init__(self, key):\n",
    "        self.key = key\n",
    "        self.left = None\n",
    "        self.right = None\n",
    "'''\n",
    "class Solution:\n",
    "    #Function to construct binary tree from parent array.\n",
    "    def createTree(self, parent):\n",
    "        # your code here\n",
    "        nodes = {i: Node(i) for i in range(len(parent))}\n",
    "\n",
    "        root = None\n",
    "\n",
    "        for i, p in enumerate(parent):\n",
    "            if p == -1:\n",
    "                root = nodes[i]\n",
    "            else:\n",
    "                if nodes[p].left is None:\n",
    "                    nodes[p].left = nodes[i]\n",
    "                else:\n",
    "                    nodes[p].right = nodes[i]\n",
    "\n",
    "        return root"
   ]
  }
 ],
 "metadata": {
  "kernelspec": {
   "display_name": "base",
   "language": "python",
   "name": "python3"
  },
  "language_info": {
   "codemirror_mode": {
    "name": "ipython",
    "version": 3
   },
   "file_extension": ".py",
   "mimetype": "text/x-python",
   "name": "python",
   "nbconvert_exporter": "python",
   "pygments_lexer": "ipython3",
   "version": "3.9.16"
  }
 },
 "nbformat": 4,
 "nbformat_minor": 2
}
