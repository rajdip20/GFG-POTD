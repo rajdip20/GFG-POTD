{
 "cells": [
  {
   "cell_type": "markdown",
   "metadata": {},
   "source": [
    "You are given an array **arr**. Your task is to find the **longest** length of a good sequence. A good sequence {x1, x2, .. xn} is an alternating sequence if its elements satisfy one of the following relations:<br>\n",
    "**1.** &emsp; x1 < x2 > x3 < x4 > x5. . . . . and so on<br>\n",
    "**2.** &emsp; x1 >x2 < x3 > x4 < x5. . . . . and so on\n",
    "\n",
    "<br>\n",
    "\n",
    "**Examples:**\n",
    ">**Input:** arr= [1, 5, 4]<br>\n",
    ">**Output:** 3<br>\n",
    ">**Explanation:** The entire sequenece is a good sequence.\n",
    "\n",
    ">**Input:** arr= [1, 17, 5, 10, 13, 15, 10, 5, 16, 8]<br>\n",
    ">**Output:** 7<br>\n",
    ">**Explanation:** There are several subsequences that achieve this length. <br>\n",
    ">One maximum length good subsequences is [1, 17, 10, 13, 10, 16, 8].\n",
    "\n",
    "<br>\n",
    "\n",
    "**Expected Time Complexity:**O(n)<br>\n",
    "**Expected Space Complexity:** O(1)\n",
    "\n",
    "**Constraints:**\n",
    "- >1 <= nums.size() <= 10<sup>5</sup> \n",
    "- >1 <= nums[i] <= 10<sup>4</sup> "
   ]
  },
  {
   "cell_type": "code",
   "execution_count": 1,
   "metadata": {},
   "outputs": [],
   "source": [
    "class Solution:\n",
    "    # Function to find the maximum length of alternating subsequence\n",
    "    def alternatingMaxLength(self, arr):\n",
    "        # code here\n",
    "        if not arr:\n",
    "            return 0\n",
    "        \n",
    "        n = len(arr)\n",
    "        if n == 1:\n",
    "            return 1\n",
    "        \n",
    "        up = 1\n",
    "        down = 1\n",
    "        \n",
    "        for i in range(1, n):\n",
    "            if arr[i] > arr[i - 1]:\n",
    "                up = down + 1\n",
    "            elif arr[i] < arr[i - 1]:\n",
    "                down = up + 1\n",
    "\n",
    "        return max(up, down)"
   ]
  }
 ],
 "metadata": {
  "kernelspec": {
   "display_name": "base",
   "language": "python",
   "name": "python3"
  },
  "language_info": {
   "codemirror_mode": {
    "name": "ipython",
    "version": 3
   },
   "file_extension": ".py",
   "mimetype": "text/x-python",
   "name": "python",
   "nbconvert_exporter": "python",
   "pygments_lexer": "ipython3",
   "version": "3.9.16"
  }
 },
 "nbformat": 4,
 "nbformat_minor": 2
}
