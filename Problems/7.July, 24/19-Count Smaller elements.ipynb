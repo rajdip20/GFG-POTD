{
 "cells": [
  {
   "cell_type": "markdown",
   "metadata": {},
   "source": [
    "Given an array **arr** containing non-negative integers. Count and return an array **ans** where **ans[i]** denotes the number of smaller elements on right side of **arr[i]**.\n",
    "\n",
    "<br>\n",
    "\n",
    "**Examples:**\n",
    ">**Input:** arr[] = [12, 1, 2, 3, 0, 11, 4]<br>\n",
    ">**Output:** [6, 1, 1, 1, 0, 1, 0]<br>\n",
    ">**Explanation:** There are 6 smaller elements right after 12. There is 1 smaller element right after 1. And so on.\n",
    "\n",
    ">**Input:** arr[] = [1, 2, 3, 4, 5]<br>\n",
    ">**Output:** [0, 0, 0, 0, 0]<br>\n",
    ">**Explanation:** There are 0 smaller elements right after 1. There are 0 smaller elements right after 2. And so on.\n",
    "\n",
    "<br>\n",
    "\n",
    "**Expected Time Complexity:** O(n*logn)<br>\n",
    "**Expected Auxiliary Space:** O(n)\n",
    "\n",
    "**Constraints:**\n",
    "- >1 ≤ arr.size() ≤ 10<sup>6</sup>\n",
    "- >0 ≤ arr[i]  ≤ 10<sup>8</sup>"
   ]
  },
  {
   "cell_type": "code",
   "execution_count": 1,
   "metadata": {},
   "outputs": [],
   "source": [
    "class Solution:\n",
    "    def constructLowerArray(self, arr):\n",
    "\t\t# code here\n",
    "        def merge_sort(enum):\n",
    "            half = len(enum) // 2\n",
    "            if half:\n",
    "                left, right = merge_sort(enum[:half]), merge_sort(enum[half:])\n",
    "                for i in range(len(enum))[::-1]:\n",
    "                    if not right or left and left[-1][1] > right[-1][1]:\n",
    "                        smaller[left[-1][0]] += len(right)\n",
    "                        enum[i] = left.pop()\n",
    "                    else:\n",
    "                        enum[i] = right.pop()\n",
    "            return enum\n",
    "        \n",
    "        smaller = [0] * len(arr)\n",
    "        merge_sort(list(enumerate(arr)))\n",
    "        return smaller"
   ]
  }
 ],
 "metadata": {
  "kernelspec": {
   "display_name": "base",
   "language": "python",
   "name": "python3"
  },
  "language_info": {
   "codemirror_mode": {
    "name": "ipython",
    "version": 3
   },
   "file_extension": ".py",
   "mimetype": "text/x-python",
   "name": "python",
   "nbconvert_exporter": "python",
   "pygments_lexer": "ipython3",
   "version": "3.9.16"
  }
 },
 "nbformat": 4,
 "nbformat_minor": 2
}
