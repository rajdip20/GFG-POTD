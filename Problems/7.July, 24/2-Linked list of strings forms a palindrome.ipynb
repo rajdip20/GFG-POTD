{
 "cells": [
  {
   "cell_type": "markdown",
   "metadata": {},
   "source": [
    "Given a linked list with string data, check whether the combined string formed is palindrome. If the combined string is palindrome then return **true** otherwise return **false**.\n",
    "\n",
    "<br>\n",
    "\n",
    "**Example:**\n",
    ">**Input:**<br>\n",
    ">![list1](../../images/blobid0_1719813534.png)<br>\n",
    ">**Output:** true<br>\n",
    ">**Explanation:** As string \"abcddcba\" is palindrome the function should return true.\n",
    "\n",
    ">**Input:**<br>\n",
    ">![list2](../../images/blobid1_1719813588.png)<br>\n",
    ">**Output:** false<br>\n",
    ">**Explanation:** As string \"abcdba\" is not palindrome the function should return false.\n",
    "\n",
    "<br>\n",
    "\n",
    "**Expected Time Complexity:** O(n)<br>\n",
    "**Expected Auxiliary Space:** O(n)\n",
    "\n",
    "**Constraints:**\n",
    "- >1 <= Node.data.length<= 10<sup>3</sup>\n",
    "- >1<=list.length<=10<sup>3</sup>"
   ]
  },
  {
   "cell_type": "code",
   "execution_count": 1,
   "metadata": {},
   "outputs": [],
   "source": [
    "'''\n",
    "class Node:\n",
    "    def __init__(self,data):\n",
    "        self.data=data\n",
    "        self.next=None\n",
    "'''\n",
    "def compute(head):\n",
    "    # return True/False\n",
    "    combined_string = \"\"\n",
    "    \n",
    "    while head:\n",
    "        combined_string += head.data\n",
    "        head = head.next\n",
    "    \n",
    "    return combined_string == combined_string[::-1]"
   ]
  }
 ],
 "metadata": {
  "kernelspec": {
   "display_name": "base",
   "language": "python",
   "name": "python3"
  },
  "language_info": {
   "codemirror_mode": {
    "name": "ipython",
    "version": 3
   },
   "file_extension": ".py",
   "mimetype": "text/x-python",
   "name": "python",
   "nbconvert_exporter": "python",
   "pygments_lexer": "ipython3",
   "version": "3.9.16"
  }
 },
 "nbformat": 4,
 "nbformat_minor": 2
}
