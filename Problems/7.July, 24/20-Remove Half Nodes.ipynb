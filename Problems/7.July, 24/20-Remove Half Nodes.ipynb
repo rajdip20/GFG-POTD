{
 "cells": [
  {
   "cell_type": "markdown",
   "metadata": {},
   "source": [
    "You are given a binary tree and you need to remove all the **half nodes** (which have only one child). Return the root node of the modified tree after removing all the half-nodes.\n",
    "\n",
    "**Note:** The output will be judged by the **inorder traversal** of the resultant tree, inside the driver code.\n",
    "\n",
    "<br>\n",
    "\n",
    "**Examples:**\n",
    ">**Input:** tree = 5 <br>\n",
    ">&emsp;&emsp;&emsp;&emsp;&emsp;&nbsp; / &ensp; \\ <br>\n",
    ">&emsp;&emsp;&emsp;&emsp;&ensp; 7 &emsp;&nbsp; 8 <br>\n",
    ">&emsp;&emsp;&emsp;&emsp; / <br>\n",
    ">&emsp;&emsp;&emsp;&nbsp; 2 <br>\n",
    ">**Output:** 2 5 8<br>\n",
    ">**Explanation:** In the above tree, the node 7 has only single child. After removing the node the tree becomes  2<-5->8. Hence, the answer is 2 5 8 & it is in inorder traversal.\n",
    "\n",
    ">**Input:**  tree = 2   <br>\n",
    ">&emsp;&emsp;&emsp;&emsp;&emsp;&nbsp; / &ensp; \\   <br>\n",
    ">&emsp;&emsp;&emsp;&emsp;&ensp; 7 &emsp;&nbsp; 5 <br>\n",
    ">**Output:** 7 2 5 <br>\n",
    ">**Explanation:** Here there are no nodes which has only one child. So the tree remains same.\n",
    "\n",
    "<br>\n",
    "\n",
    "**Expected Time Complexity:** O(n)<br>\n",
    "**Expected Auxiliary Space:** O(height of the binary tree)\n",
    "\n",
    "**Constraints:**\n",
    "- >1<=number of nodes<=10<sup>4</sup>"
   ]
  },
  {
   "cell_type": "code",
   "execution_count": 1,
   "metadata": {},
   "outputs": [],
   "source": [
    "class Solution:\n",
    "    def RemoveHalfNodes(self, node):\n",
    "        # code here\n",
    "        if not node:\n",
    "            return None\n",
    "\n",
    "        node.left = self.RemoveHalfNodes(node.left)\n",
    "        node.right = self.RemoveHalfNodes(node.right)\n",
    "\n",
    "        if node.left is None and node.right is not None:\n",
    "            return node.right\n",
    "        if node.right is None and node.left is not None:\n",
    "            return node.left\n",
    "\n",
    "        return node"
   ]
  }
 ],
 "metadata": {
  "kernelspec": {
   "display_name": "base",
   "language": "python",
   "name": "python3"
  },
  "language_info": {
   "codemirror_mode": {
    "name": "ipython",
    "version": 3
   },
   "file_extension": ".py",
   "mimetype": "text/x-python",
   "name": "python",
   "nbconvert_exporter": "python",
   "pygments_lexer": "ipython3",
   "version": "3.9.16"
  }
 },
 "nbformat": 4,
 "nbformat_minor": 2
}
