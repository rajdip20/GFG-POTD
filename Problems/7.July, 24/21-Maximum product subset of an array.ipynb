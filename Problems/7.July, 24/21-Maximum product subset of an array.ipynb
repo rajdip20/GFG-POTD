{
 "cells": [
  {
   "cell_type": "markdown",
   "metadata": {},
   "source": [
    "Given an array **arr**. The task is to find and return the maximum product possible with the **subset** of elements present in the array.\n",
    "\n",
    "Note:\n",
    "1. The maximum product can be a single element also.\n",
    "2. Since the product can be large, return it modulo **10<sup>9</sup> + 7**.\n",
    "\n",
    "<br>\n",
    "\n",
    "**Examples:**\n",
    ">**Input:** arr[] = [-1, 0, -2, 4, 3]<br>\n",
    ">**Output:** 24<br>\n",
    ">**Explanation:** Maximum product will be ( -1 * -2 * 4 * 3 ) = 24\n",
    "\n",
    ">**Input:** arr[] = [-1, 0]<br>\n",
    ">**Output:** 0<br>\n",
    ">**Explanation:** Maximum product will be ( -1 * 0) = 0\n",
    "\n",
    ">**Input:** arr[] = [5]<br>\n",
    ">**Output:** 5<br>\n",
    ">**Explanation:** Maximum product will be 5.\n",
    "\n",
    "<br>\n",
    "\n",
    "**Expected Time Complexity:** O(n)<br>\n",
    "**Expected Auxiliary Space:** O(1)\n",
    "\n",
    "**Constraints:**\n",
    "- >1 <= arr.size() <= 2 * 10<sup>4</sup>\n",
    "- >-10 <= arr[i] <= 10"
   ]
  },
  {
   "cell_type": "code",
   "execution_count": 1,
   "metadata": {},
   "outputs": [],
   "source": [
    "class Solution:\n",
    "    def findMaxProduct(self, arr):\n",
    "        # Write your code here\n",
    "        MOD = 10**9 + 7\n",
    "        n = len(arr)\n",
    "        \n",
    "        if n == 1:\n",
    "            return arr[0]\n",
    "        \n",
    "        max_neg = float('-inf')\n",
    "        count_neg = 0\n",
    "        count_zero = 0\n",
    "        product = 1\n",
    "        has_positive = False\n",
    "        \n",
    "        for num in arr:\n",
    "            if num == 0:\n",
    "                count_zero += 1\n",
    "                continue\n",
    "            \n",
    "            if num < 0:\n",
    "                count_neg += 1\n",
    "                max_neg = max(max_neg, num)\n",
    "            else:\n",
    "                has_positive = True\n",
    "            \n",
    "            product = product * num\n",
    "        \n",
    "        if count_zero == n:\n",
    "            return 0\n",
    "        \n",
    "        if count_neg % 2 != 0:\n",
    "            if count_neg == 1 and count_zero + count_neg == n:\n",
    "                return 0\n",
    "            product //= max_neg\n",
    "        \n",
    "        if product < 0 and has_positive:\n",
    "            product = -product\n",
    "        \n",
    "        return product % MOD if product >= 0 else (product + MOD) % MOD"
   ]
  }
 ],
 "metadata": {
  "kernelspec": {
   "display_name": "base",
   "language": "python",
   "name": "python3"
  },
  "language_info": {
   "codemirror_mode": {
    "name": "ipython",
    "version": 3
   },
   "file_extension": ".py",
   "mimetype": "text/x-python",
   "name": "python",
   "nbconvert_exporter": "python",
   "pygments_lexer": "ipython3",
   "version": "3.9.16"
  }
 },
 "nbformat": 4,
 "nbformat_minor": 2
}
