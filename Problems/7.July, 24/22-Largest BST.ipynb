{
 "cells": [
  {
   "cell_type": "markdown",
   "metadata": {},
   "source": [
    "Given a binary tree. Find the **size** of its largest subtree which is a Binary Search Tree.\n",
    "**Note:** Here Size equals the number of nodes in the subtree.\n",
    "\n",
    "<br>\n",
    "\n",
    "**Examples:**\n",
    ">**Input:**   1<br>\n",
    ">&emsp;&emsp;&nbsp; / &ensp; \\ <br>\n",
    ">&emsp;&ensp; 4 &emsp;&nbsp; 4            \n",
    ">&emsp; / &nbsp; \\ <br>\n",
    ">&nbsp; 6 &emsp; 8 <br>\n",
    ">**Output:** 1 <br>\n",
    ">**Explanation:** There's no sub-tree with size greater than 1 which forms a BST. All the leaf Nodes are the BSTs with size equal to 1.\n",
    "\n",
    ">**Input:**    6 <br>\n",
    ">&emsp;&emsp;&nbsp; / &ensp; \\ <br>\n",
    ">&emsp;&ensp; 6 &emsp;&nbsp; 2    \n",
    ">&emsp;&emsp; \\ &ensp; / &nbsp; \\ <br>\n",
    ">&emsp;&emsp;&nbsp; 2  1 &emsp; 3 <br>\n",
    ">**Output:** 3<br>\n",
    ">**Explanation:** The following sub-tree is a BST of size 3:  2 <br>\n",
    ">&emsp;&emsp;&emsp;&emsp;&emsp;&emsp;&emsp;&emsp;&emsp;&emsp;&emsp;&emsp;&emsp;&emsp;&emsp;&emsp;&emsp;&emsp;&emsp;&emsp;&emsp;&emsp;&emsp;&nbsp; / &ensp; \\ <br>\n",
    ">&emsp;&emsp;&emsp;&emsp;&emsp;&emsp;&emsp;&emsp;&emsp;&emsp;&emsp;&emsp;&emsp;&emsp;&emsp;&emsp;&emsp;&emsp;&emsp;&emsp;&emsp;&emsp;&emsp; 1 &emsp; 3\n",
    "\n",
    "<br>\n",
    "\n",
    "**Expected Time Complexity:** O(n).<br>\n",
    "**Expected Auxiliary Space:** O(Height of the BST).\n",
    "\n",
    "**Constraints:**\n",
    "- >1 ≤ Number of nodes ≤ 10<sup>5</sup>\n",
    "- >1 ≤ Data of a node ≤ 10<sup>6</sup>"
   ]
  },
  {
   "cell_type": "code",
   "execution_count": 1,
   "metadata": {},
   "outputs": [],
   "source": [
    "class Info:\n",
    "    def __init__(self, size, is_bst, min_val, max_val):\n",
    "        self.size = size\n",
    "        self.is_bst = is_bst\n",
    "        self.min_val = min_val\n",
    "        self.max_val = max_val\n",
    "\n",
    "\n",
    "class Solution:\n",
    "    def largestBst(self, root):\n",
    "        # Your code here\n",
    "        def helper(node):\n",
    "            if not node:\n",
    "                return Info(0, True, float('inf'), float('-inf'))\n",
    "            \n",
    "            left = helper(node.left)\n",
    "            right = helper(node.right)\n",
    "            \n",
    "            if left.is_bst and right.is_bst and left.max_val < node.data < right.min_val:\n",
    "                size = left.size + right.size + 1\n",
    "                min_val = min(left.min_val, node.data)\n",
    "                max_val = max(right.max_val, node.data)\n",
    "                largest[0] = max(largest[0], size)\n",
    "                return Info(size, True, min_val, max_val)\n",
    "            else:\n",
    "                return Info(0, False, 0, 0)\n",
    "        \n",
    "        largest = [0]\n",
    "        helper(root)\n",
    "        return largest[0]"
   ]
  }
 ],
 "metadata": {
  "kernelspec": {
   "display_name": "base",
   "language": "python",
   "name": "python3"
  },
  "language_info": {
   "codemirror_mode": {
    "name": "ipython",
    "version": 3
   },
   "file_extension": ".py",
   "mimetype": "text/x-python",
   "name": "python",
   "nbconvert_exporter": "python",
   "pygments_lexer": "ipython3",
   "version": "3.9.16"
  }
 },
 "nbformat": 4,
 "nbformat_minor": 2
}
