{
 "cells": [
  {
   "cell_type": "markdown",
   "metadata": {},
   "source": [
    "Given the root of a binary tree. Check whether it is a BST or not.\n",
    "**Note:** We are considering that BSTs can not contain duplicate Nodes.\n",
    "A **BST** is defined as follows:\n",
    "- The left subtree of a node contains only nodes with keys **less than** the node's key.\n",
    "- The right subtree of a node contains only nodes with keys **greater than** the node's key.\n",
    "- Both the left and right subtrees must also be binary search trees.\n",
    "\n",
    "<br>\n",
    "\n",
    "**Examples:**\n",
    ">**Input:** <br>\n",
    ">&emsp;&emsp; 2 <br>\n",
    ">&emsp;&ensp; / &ensp; \\ <br>\n",
    ">&emsp; 1 &emsp; 3 <br>\n",
    ">&emsp;&emsp;&emsp;&ensp;&nbsp; \\ <br>\n",
    ">&emsp;&emsp;&emsp;&emsp; 5 <br>\n",
    ">**Output:** true  <br>\n",
    ">**Explanation:**  <br>\n",
    ">The left subtree of every node contains smaller keys and right subtree of every node contains greater. Hence, the tree is a BST.\n",
    "\n",
    ">**Input:** <br>\n",
    ">&emsp; 2 <br>\n",
    ">&emsp;&ensp; \\ <br>\n",
    ">&emsp;&emsp; 7 <br>\n",
    ">&emsp;&emsp;&ensp; \\ <br>\n",
    ">&emsp;&emsp;&emsp; 6 <br>\n",
    ">&emsp;&emsp;&emsp;&ensp; \\ <br>\n",
    ">&emsp;&emsp;&emsp;&emsp; 9 <br>\n",
    ">**Output:** false  <br>\n",
    ">**Explanation:**  <br>\n",
    ">Since the node with value 7 has right subtree nodes with keys less than 7, this is not a BST. \n",
    "\n",
    ">**Input:** <br>\n",
    ">&emsp;&emsp; 10 <br>\n",
    ">&emsp;&ensp; / &emsp; \\ <br>\n",
    ">&emsp; 5 &emsp;&nbsp; 20 <br>\n",
    ">&emsp;&emsp;&emsp; / &ensp; \\ <br>\n",
    ">&emsp;&emsp;&ensp; 9 &emsp; 25 <br>\n",
    ">**Output:** false <br>\n",
    ">**Explanation:** The node is present in the right subtree of 10, but it is smaller than 10.\n",
    "\n",
    "<br>\n",
    "\n",
    "**Expected Time Complexity:** O(n) <br>\n",
    "**Expected Auxiliary Space:** O(Height of the tree)<br>\n",
    "where n is the number of nodes in the given tree\n",
    "\n",
    "**Constraints:**\n",
    "- >1 ≤ Number of nodes ≤ 10<sup>5</sup>\n",
    "- >1 ≤ Data of a node ≤ 10<sup>5</sup>"
   ]
  },
  {
   "cell_type": "code",
   "execution_count": 1,
   "metadata": {},
   "outputs": [],
   "source": [
    "class Solution:\n",
    "    # Function to check whether a Binary Tree is BST or not.\n",
    "    def isBST(self, root):\n",
    "        # code here\n",
    "        def isValidBST(node, min_val=float('-inf'), max_val=float('inf')):\n",
    "            if node is None:\n",
    "                return True\n",
    "            \n",
    "            if not (min_val < node.data < max_val):\n",
    "                return False\n",
    "            \n",
    "            return isValidBST(node.left, min_val, node.data) and isValidBST(node.right, node.data, max_val)\n",
    "        \n",
    "        return isValidBST(root)"
   ]
  }
 ],
 "metadata": {
  "kernelspec": {
   "display_name": "base",
   "language": "python",
   "name": "python3"
  },
  "language_info": {
   "codemirror_mode": {
    "name": "ipython",
    "version": 3
   },
   "file_extension": ".py",
   "mimetype": "text/x-python",
   "name": "python",
   "nbconvert_exporter": "python",
   "pygments_lexer": "ipython3",
   "version": "3.9.16"
  }
 },
 "nbformat": 4,
 "nbformat_minor": 2
}
