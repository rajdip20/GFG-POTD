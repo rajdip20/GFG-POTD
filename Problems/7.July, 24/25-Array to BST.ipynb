{
 "cells": [
  {
   "cell_type": "markdown",
   "metadata": {},
   "source": [
    "Given a **sorted** array. Convert it into a **Height Balanced** Binary Search Tree (BST). Return the **root** of the BST.\n",
    "\n",
    "&emsp;&emsp; **Height-balanced** BST means a binary tree in which the depth of the left subtree and the right subtree of every node never differ by more than 1.\n",
    "\n",
    "Note: The driver code will check the BST, if it is a Height-balanced BST, the output will be **true** otherwise the output will be **false**.\n",
    "\n",
    "<br>\n",
    "\n",
    "**Examples:**\n",
    ">**Input:** nums = [1, 2, 3, 4]<br>\n",
    ">**Output:** true<br>\n",
    ">**Explanation:** The preorder traversal of the following BST formed is [2, 1, 3, 4]:<br>\n",
    ">&emsp;&emsp;&emsp;&emsp; 2 <br>\n",
    ">&emsp;&emsp;&emsp;&nbsp; / &ensp; \\ <br>\n",
    ">&emsp;&emsp;&ensp;&nbsp; 1 &emsp;&nbsp; 3 <br>\n",
    ">&emsp;&emsp;&emsp;&emsp;&emsp;&ensp;&nbsp; \\ <br>\n",
    ">&emsp;&emsp;&emsp;&emsp;&emsp;&emsp; 4\n",
    "\n",
    ">**Input:** nums = [1, 2, 3, 4, 5, 6, 7]<br>\n",
    ">**Ouput:** true<br>\n",
    ">**Explanation:** The preorder traversal of the following BST formed is [4, 2, 1, 3, 6, 5, 7]:<br>\n",
    ">&emsp;&emsp;&emsp;&emsp; 4 <br>\n",
    ">&emsp;&emsp;&emsp;&nbsp; / &ensp; \\ <br>\n",
    ">&emsp;&emsp;&ensp;&nbsp; 2 &emsp;&ensp; 6 <br>\n",
    ">&emsp;&emsp;&nbsp; / &nbsp; \\ &ensp; / &nbsp; \\ <br>\n",
    ">&emsp;&ensp; 1 &emsp; 3 &nbsp; 5 &nbsp; 7\n",
    "\n",
    "<br>\n",
    "\n",
    "**Expected Time Complexity:** O(n)<br>\n",
    "**Expected Auxillary Space:** O(n)\n",
    "\n",
    "**Constraints:**\n",
    "- >1 ≤ nums.size() ≤ 10<sup>5</sup>\n",
    "- >1 ≤ nums[i] ≤ 10<sup>5</sup>"
   ]
  },
  {
   "cell_type": "code",
   "execution_count": 1,
   "metadata": {},
   "outputs": [],
   "source": [
    "class Solution:\n",
    "    def sortedArrayToBST(self, nums):\n",
    "        # code here\n",
    "        n = len(nums)\n",
    "        def mergeTree(left, right):\n",
    "            if left > right:\n",
    "                return None\n",
    "            m = (left + right) // 2\n",
    "\n",
    "            root = Node(nums[m])\n",
    "            root.left = mergeTree(left, m-1)\n",
    "            root.right = mergeTree(m+1, right)\n",
    "            \n",
    "            return root\n",
    "        \n",
    "        return mergeTree(0, n-1)"
   ]
  }
 ],
 "metadata": {
  "kernelspec": {
   "display_name": "base",
   "language": "python",
   "name": "python3"
  },
  "language_info": {
   "codemirror_mode": {
    "name": "ipython",
    "version": 3
   },
   "file_extension": ".py",
   "mimetype": "text/x-python",
   "name": "python",
   "nbconvert_exporter": "python",
   "pygments_lexer": "ipython3",
   "version": "3.9.16"
  }
 },
 "nbformat": 4,
 "nbformat_minor": 2
}
