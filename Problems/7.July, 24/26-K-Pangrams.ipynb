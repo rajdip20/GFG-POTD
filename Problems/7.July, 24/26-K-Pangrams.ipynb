{
 "cells": [
  {
   "cell_type": "markdown",
   "metadata": {},
   "source": [
    "Given a string **str** and an integer **k**, return true if the string can be changed into a pangram after **at most k** operations, else return false.\n",
    "\n",
    "A single operation consists of swapping an existing alphabetic character with any other lowercase alphabetic character.\n",
    "\n",
    "**Note** - A pangram is a sentence containing every letter in the english alphabet.\n",
    "\n",
    "<br>\n",
    "\n",
    "**Examples:**\n",
    ">**Input:** str = \"the quick brown fox jumps over the lazy dog\", k = 0<br>\n",
    ">**Output:** true<br>\n",
    ">**Explanation:** the sentence contains all 26 characters and is already a pangram.\n",
    "\n",
    ">**Input:** str = \"aaaaaaaaaaaaaaaaaaaaaaaaaa\", k = 25 <br>\n",
    ">**Output:** true<br>\n",
    ">**Explanation:** The word contains 26 instances of 'a'. Since only 25 operations are allowed. We can keep 1 instance and change all others to make str a pangram.\n",
    "\n",
    ">**Input:** str = \"a b c d e f g h i j k l m\", k = 20<br>\n",
    ">**Output:** false<br>\n",
    ">**Explanation:** Since there are only 13 alphabetic characters in this case, no amount of swapping can produce a panagram here.\n",
    "\n",
    "<br>\n",
    "\n",
    "**Expected Time Complexity:** O(n)<br>\n",
    "**Expected Auxiliary Space:** O(1)  \n",
    "\n",
    "**Constraints:**\n",
    "- >1<= str.size() <= 10<sup>5</sup>\n",
    "- >0<= k <= 50\n",
    "- >str may contain duplicate characters\n",
    "- >str contains only lowercase alphabets or spaces."
   ]
  },
  {
   "cell_type": "code",
   "execution_count": 1,
   "metadata": {},
   "outputs": [],
   "source": [
    "class Solution:\n",
    "    def kPangram(self, string, k):\n",
    "        # code here\n",
    "        no_space = string.replace(\" \", \"\")\n",
    "        character = list(no_space)\n",
    "        unique = set(character)\n",
    "        \n",
    "        if len(character) >= 26:\n",
    "            if 26 - len(unique) <= k:\n",
    "                return True\n",
    "            else:\n",
    "                return False\n",
    "        \n",
    "        return False"
   ]
  }
 ],
 "metadata": {
  "kernelspec": {
   "display_name": "base",
   "language": "python",
   "name": "python3"
  },
  "language_info": {
   "codemirror_mode": {
    "name": "ipython",
    "version": 3
   },
   "file_extension": ".py",
   "mimetype": "text/x-python",
   "name": "python",
   "nbconvert_exporter": "python",
   "pygments_lexer": "ipython3",
   "version": "3.9.16"
  }
 },
 "nbformat": 4,
 "nbformat_minor": 2
}
