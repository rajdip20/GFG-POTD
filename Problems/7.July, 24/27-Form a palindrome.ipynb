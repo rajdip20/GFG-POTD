{
 "cells": [
  {
   "cell_type": "markdown",
   "metadata": {},
   "source": [
    "Given a string, find the minimum number of characters to be inserted to convert it to a palindrome.\n",
    "\n",
    "<br>\n",
    "\n",
    "**Examples:**\n",
    ">**Input:** str = \"abcd\"<br>\n",
    ">**Output:** 3<br>\n",
    ">**Explanation:** Inserted character marked with bold characters in dcbabcd, here we need minimum three characters to make it palindrome.\n",
    "\n",
    ">**Input:** str = \"aa\"<br>\n",
    ">**Output:** 0<br>\n",
    ">**Explanation:** \"aa\" is already a palindrome.\n",
    "\n",
    "<br>\n",
    "\n",
    "**Expected Time Complexity:** O(n<sup>2</sup>)<br>\n",
    "**Expected Auxiliary Space:** O(n<sup>2</sup>)\n",
    "\n",
    "**Constraints:**\n",
    "- >1 ≤ |str| ≤ 500\n",
    "- >str contains only lowercase alphabets."
   ]
  },
  {
   "cell_type": "code",
   "execution_count": 1,
   "metadata": {},
   "outputs": [],
   "source": [
    "class Solution:\n",
    "    def countMin(self, str):\n",
    "        # code here\n",
    "        n = len(str)\n",
    "        dp = [[0] * n for _ in range(n)]\n",
    "\n",
    "        for length in range(1, n + 1):\n",
    "            for i in range(n - length + 1):\n",
    "                j = i + length - 1\n",
    "                if i == j:\n",
    "                    dp[i][j] = 1\n",
    "                elif str[i] == str[j]:\n",
    "                    dp[i][j] = dp[i + 1][j - 1] + 2\n",
    "                else:\n",
    "                    dp[i][j] = max(dp[i + 1][j], dp[i][j - 1])\n",
    "\n",
    "        lps_length = dp[0][n - 1]\n",
    "        \n",
    "        return n - lps_length"
   ]
  }
 ],
 "metadata": {
  "kernelspec": {
   "display_name": "base",
   "language": "python",
   "name": "python3"
  },
  "language_info": {
   "codemirror_mode": {
    "name": "ipython",
    "version": 3
   },
   "file_extension": ".py",
   "mimetype": "text/x-python",
   "name": "python",
   "nbconvert_exporter": "python",
   "pygments_lexer": "ipython3",
   "version": "3.9.16"
  }
 },
 "nbformat": 4,
 "nbformat_minor": 2
}
