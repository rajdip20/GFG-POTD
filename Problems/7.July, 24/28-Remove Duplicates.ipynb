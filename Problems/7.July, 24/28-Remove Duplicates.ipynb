{
 "cells": [
  {
   "cell_type": "markdown",
   "metadata": {},
   "source": [
    "Given a string **str** without spaces, the task is to remove all duplicate characters from it, keeping only the first occurrence.\n",
    "\n",
    "**Note:** The original order of characters must be kept the same. \n",
    "\n",
    "<br>\n",
    "\n",
    "**Examples:**\n",
    ">**Input:** str = \"zvvo\"<br>\n",
    ">**Output:** \"zvo\"<br>\n",
    ">**Explanation:** Only keep the first occurrence\n",
    "\n",
    ">**Input:** str = \"gfg\"<br>\n",
    ">**Output:** \"gf\"<br>\n",
    ">**Explanation:** Only keep the first occurrence\n",
    "\n",
    "<br>\n",
    "\n",
    "**Expected Time Complexity:** O(n)<br>\n",
    "**Expected Auxiliary Space:** O(1)\n",
    "\n",
    "**Constraints:**\n",
    "- >1 <= |str| <= 10<sup>5</sup>\n",
    "- >str contains lowercase English alphabets"
   ]
  },
  {
   "cell_type": "code",
   "execution_count": 1,
   "metadata": {},
   "outputs": [],
   "source": [
    "class Solution:\n",
    "    def removeDups(self, str):\n",
    "\t\t# code here\n",
    "        seen = set()\n",
    "        result = []\n",
    "\n",
    "        for char in str:\n",
    "            if char not in seen:\n",
    "                seen.add(char)\n",
    "                result.append(char)\n",
    "\n",
    "        return ''.join(result)"
   ]
  }
 ],
 "metadata": {
  "kernelspec": {
   "display_name": "base",
   "language": "python",
   "name": "python3"
  },
  "language_info": {
   "codemirror_mode": {
    "name": "ipython",
    "version": 3
   },
   "file_extension": ".py",
   "mimetype": "text/x-python",
   "name": "python",
   "nbconvert_exporter": "python",
   "pygments_lexer": "ipython3",
   "version": "3.9.16"
  }
 },
 "nbformat": 4,
 "nbformat_minor": 2
}
