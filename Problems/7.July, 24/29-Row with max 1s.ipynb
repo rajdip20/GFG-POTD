{
 "cells": [
  {
   "cell_type": "markdown",
   "metadata": {},
   "source": [
    "Given a boolean 2D array, consisting of **only 1's** and **0's**, where each row is sorted. Return the 0-based index of the first row that has the most number of 1s. If no such row exists, return **-1**.\n",
    "\n",
    "<br>\n",
    "\n",
    "**Examples:**\n",
    ">**Input:** arr[][] = [[0, 1, 1, 1],<br>\n",
    ">&emsp;&emsp;&emsp;&emsp;&emsp;&emsp;&emsp; [0, 0, 1, 1],<br>\n",
    ">&emsp;&emsp;&emsp;&emsp;&emsp;&emsp;&emsp; [1, 1, 1, 1],<br>\n",
    ">&emsp;&emsp;&emsp;&emsp;&emsp;&emsp;&emsp; [0, 0, 0, 0]]<br>\n",
    ">**Output:** 2<br>\n",
    ">**Explanation:** Row 2 contains **4** 1's (0-based indexing).\n",
    "\n",
    ">**Input:** arr[][] = [[0, 0], <br>\n",
    ">&emsp;&emsp;&emsp;&emsp;&emsp;&emsp;&emsp; [1, 1]]<br>\n",
    ">**Output:** 1<br>\n",
    ">**Explanation:** Row 1 contains **2** 1's (0-based indexing).\n",
    "\n",
    "<br>\n",
    "\n",
    "**Expected Time Complexity:** O(n+m)<br>\n",
    "**Expected Auxiliary Space:** O(1)\n",
    "\n",
    "**Constraints:**\n",
    "- >1 ≤ number of rows, number of columns ≤ 10<sup>3</sup>\n",
    "- >0 ≤ arr[i][j] ≤ 1 "
   ]
  },
  {
   "cell_type": "code",
   "execution_count": 1,
   "metadata": {},
   "outputs": [],
   "source": [
    "class Solution:\n",
    "    def rowWithMax1s(self, arr):\n",
    "\t\t# code here\n",
    "        n = len(arr)\n",
    "        m = len(arr[0])\n",
    "        \n",
    "        max_row_index = -1\n",
    "        max_ones_count = 0\n",
    "        \n",
    "        row = 0\n",
    "        col = m - 1\n",
    "        \n",
    "        while row < n and col >= 0:\n",
    "            if arr[row][col] == 1:\n",
    "                current_ones_count = m - col\n",
    "                if current_ones_count > max_ones_count:\n",
    "                    max_ones_count = current_ones_count\n",
    "                    max_row_index = row\n",
    "                col -= 1\n",
    "            else:\n",
    "                row += 1\n",
    "        \n",
    "        return max_row_index"
   ]
  }
 ],
 "metadata": {
  "kernelspec": {
   "display_name": "base",
   "language": "python",
   "name": "python3"
  },
  "language_info": {
   "codemirror_mode": {
    "name": "ipython",
    "version": 3
   },
   "file_extension": ".py",
   "mimetype": "text/x-python",
   "name": "python",
   "nbconvert_exporter": "python",
   "pygments_lexer": "ipython3",
   "version": "3.9.16"
  }
 },
 "nbformat": 4,
 "nbformat_minor": 2
}
