{
 "cells": [
  {
   "cell_type": "markdown",
   "metadata": {},
   "source": [
    "Given a sorted linked list, delete all nodes that have duplicate numbers (all occurrences), leaving only numbers that appear once in the original list, and return the head of the modified linked list. \n",
    "\n",
    "<br>\n",
    "\n",
    "**Examples:**\n",
    ">**Input:** Linked List = 23->28->28->35->49->49->53->53<br>\n",
    ">**Output:** 23 35<br>\n",
    ">**Explanation:** <br>\n",
    ">![LL1](../../images/blobid0_1719990710.png)<br>\n",
    ">The duplicate numbers are 28, 49 and 53 which are removed from the list.\n",
    "\n",
    ">**Input:** Linked List = 11->11->11->11->75->75<br>\n",
    ">**Output:** Empty list<br>\n",
    ">**Explanation:** <br>\n",
    ">![LL2](../../images/blobid1_1719990734.png)<br>\n",
    ">All the nodes in the linked list have duplicates. Hence the resultant list would be empty.\n",
    "\n",
    "<br>\n",
    "\n",
    "**Expected Time Complexity:** O(n)<br>\n",
    "**Expected Auxiliary Space:** O(1)\n",
    "\n",
    "**Constraints:**\n",
    "- >1 ≤ size(list) ≤ 10<sup>5</sup>"
   ]
  },
  {
   "cell_type": "code",
   "execution_count": 1,
   "metadata": {},
   "outputs": [],
   "source": [
    "\"\"\"\n",
    "# Linked list Node class\n",
    "\n",
    "    class Node :\n",
    "        def __init__(self, val):\n",
    "            self.data = val\n",
    "            self.next = None\n",
    "\n",
    "\"\"\"\n",
    "\n",
    "class Solution:\n",
    "    def removeAllDuplicates(self, head):\n",
    "        # code here\n",
    "        if not head:\n",
    "            return None\n",
    "        \n",
    "        dummy = Node(0)\n",
    "        dummy.next = head\n",
    "        prev = dummy\n",
    "        current = head\n",
    "        \n",
    "        while current:\n",
    "            if current.next and current.data == current.next.data:\n",
    "                while current.next and current.data == current.next.data:\n",
    "                    current = current.next\n",
    "                prev.next = current.next\n",
    "            else:\n",
    "                prev = prev.next\n",
    "            current = current.next\n",
    "        \n",
    "        return dummy.next"
   ]
  }
 ],
 "metadata": {
  "kernelspec": {
   "display_name": "base",
   "language": "python",
   "name": "python3"
  },
  "language_info": {
   "codemirror_mode": {
    "name": "ipython",
    "version": 3
   },
   "file_extension": ".py",
   "mimetype": "text/x-python",
   "name": "python",
   "nbconvert_exporter": "python",
   "pygments_lexer": "ipython3",
   "version": "3.9.16"
  }
 },
 "nbformat": 4,
 "nbformat_minor": 2
}
