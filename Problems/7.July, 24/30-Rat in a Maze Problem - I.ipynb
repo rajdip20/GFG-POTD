{
 "cells": [
  {
   "cell_type": "markdown",
   "metadata": {},
   "source": [
    "Consider a rat placed at **(0, 0)** in a square matrix **mat** of order **n* n**. It has to reach the destination at **(n - 1, n - 1)**. Find all possible paths that the rat can take to reach from source to destination. The directions in which the rat can move are **'U'(up)**, **'D'(down)**, **'L' (left)**, **'R' (right)**. Value 0 at a cell in the matrix represents that it is blocked and rat cannot move to it while value 1 at a cell in the matrix represents that rat can be travel through it.<br>\n",
    "**Note**: In a path, no cell can be visited more than one time. If the source cell is 0, the rat cannot move to any other cell. In case of no path, return an empty list. The driver will output **\"-1\"** automatically.\n",
    "\n",
    "<br>\n",
    "\n",
    "**Examples:**\n",
    ">**Input:** mat[][] = [[1, 0, 0, 0],<br>\n",
    ">&emsp;&emsp;&emsp;&emsp;&emsp;&emsp;&emsp; [1, 1, 0, 1], <br>\n",
    ">&emsp;&emsp;&emsp;&emsp;&emsp;&emsp;&emsp; [1, 1, 0, 0],<br>\n",
    ">&emsp;&emsp;&emsp;&emsp;&emsp;&emsp;&emsp; [0, 1, 1, 1]] <br>\n",
    ">**Output:** DDRDRR DRDDRR <br>\n",
    ">**Explanation:** The rat can reach the destination at (3, 3) from (0, 0) by two paths - DRDDRR and DDRDRR, when printed in sorted order we get DDRDRR DRDDRR.\n",
    "\n",
    ">**Input:** mat[][] = [[1, 0],<br>\n",
    ">&emsp;&emsp;&emsp;&emsp;&emsp;&emsp;&emsp; [1, 0]] <br>\n",
    ">**Output:** -1 <br>\n",
    ">**Explanation:** No path exists and destination cell is blocked.\n",
    "\n",
    "<br>\n",
    "\n",
    "Expected Time Complexity: O(3<sup>n^2</sup>)<br>\n",
    "Expected Auxiliary Space: O(l * x)\n",
    "Here l = length of the path, x = number of paths.\n",
    "\n",
    "**Constraints:**\n",
    "- >2 ≤ n ≤ 5\n",
    "- >0 ≤ mat[i][j] ≤ 1"
   ]
  },
  {
   "cell_type": "code",
   "execution_count": 1,
   "metadata": {},
   "outputs": [],
   "source": [
    "class Solution:\n",
    "    def findPath(self, m: list[list[int]]) -> list[str]:\n",
    "        # code here\n",
    "        def is_safe(x, y):\n",
    "            return 0 <= x < n and 0 <= y < n and m[x][y] == 1 and (x, y) not in visited\n",
    "\n",
    "        def dfs(x, y, path):\n",
    "            if x == n - 1 and y == n - 1:\n",
    "                paths.append(path)\n",
    "                return\n",
    "\n",
    "            visited.add((x, y))\n",
    "\n",
    "            for move, (dx, dy) in zip(\"DLRU\", [(1, 0), (0, -1), (0, 1), (-1, 0)]):\n",
    "                nx, ny = x + dx, y + dy\n",
    "                if is_safe(nx, ny):\n",
    "                    dfs(nx, ny, path + move)\n",
    "            \n",
    "            visited.remove((x, y))\n",
    "\n",
    "        n = len(m)\n",
    "        if m[0][0] == 0 or m[n-1][n-1] == 0:\n",
    "            return []\n",
    "        \n",
    "        visited = set()\n",
    "        paths = []\n",
    "        dfs(0, 0, \"\")\n",
    "        \n",
    "        return sorted(paths)"
   ]
  }
 ],
 "metadata": {
  "kernelspec": {
   "display_name": "base",
   "language": "python",
   "name": "python3"
  },
  "language_info": {
   "codemirror_mode": {
    "name": "ipython",
    "version": 3
   },
   "file_extension": ".py",
   "mimetype": "text/x-python",
   "name": "python",
   "nbconvert_exporter": "python",
   "pygments_lexer": "ipython3",
   "version": "3.9.16"
  }
 },
 "nbformat": 4,
 "nbformat_minor": 2
}
