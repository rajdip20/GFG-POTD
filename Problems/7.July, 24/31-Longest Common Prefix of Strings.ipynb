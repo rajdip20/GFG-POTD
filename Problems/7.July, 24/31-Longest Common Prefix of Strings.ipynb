{
 "cells": [
  {
   "cell_type": "markdown",
   "metadata": {},
   "source": [
    "Given an array of strings **arr**. Return the **longest common prefix** among all strings present in the array. If there's no prefix common in all the strings, return \"**-1**\".\n",
    "\n",
    "<br>\n",
    "\n",
    "**Examples:**\n",
    ">**Input:** arr[] = [\"geeksforgeeks\", \"geeks\", \"geek\", \"geezer\"]<br>\n",
    ">**Output:** gee<br>\n",
    ">**Explanation:** \"gee\" is the longest common prefix in all the given strings.\n",
    "\n",
    ">**Input:** arr[] = [\"hello\", \"world\"]<br>\n",
    ">**Output:** -1<br>\n",
    ">**Explanation:** There's no common prefix in the given strings.\n",
    "\n",
    "<br>\n",
    "\n",
    "**Expected Time Complexity:** O(n*min(|arri|))<br>\n",
    "**Expected Space Complexity:** O(min(|arri|))\n",
    "\n",
    "**Constraints:**\n",
    "- >1 ≤ |arr| ≤ 10<sup>3</sup>\n",
    "- >1 ≤ |arr[i]| ≤ 10<sup>3</sup>"
   ]
  },
  {
   "cell_type": "code",
   "execution_count": 1,
   "metadata": {},
   "outputs": [],
   "source": [
    "class Solution:\n",
    "    def longestCommonPrefix(self, arr):\n",
    "        # code here\n",
    "        if not arr:\n",
    "            return \"-1\"\n",
    "        \n",
    "        prefix = arr[0]\n",
    "        \n",
    "        for string in arr[1:]:\n",
    "            while string[:len(prefix)] != prefix:\n",
    "                prefix = prefix[:-1]\n",
    "                if not prefix:\n",
    "                    return \"-1\"\n",
    "        \n",
    "        return prefix"
   ]
  }
 ],
 "metadata": {
  "kernelspec": {
   "display_name": "base",
   "language": "python",
   "name": "python3"
  },
  "language_info": {
   "codemirror_mode": {
    "name": "ipython",
    "version": 3
   },
   "file_extension": ".py",
   "mimetype": "text/x-python",
   "name": "python",
   "nbconvert_exporter": "python",
   "pygments_lexer": "ipython3",
   "version": "3.9.16"
  }
 },
 "nbformat": 4,
 "nbformat_minor": 2
}
