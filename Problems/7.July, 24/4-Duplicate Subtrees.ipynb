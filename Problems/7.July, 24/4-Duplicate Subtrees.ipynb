{
 "cells": [
  {
   "cell_type": "markdown",
   "metadata": {},
   "source": [
    "Given a binary tree, your task is to find all duplicate subtrees from the given binary tree.\n",
    "\n",
    "&emsp;&emsp;Duplicate Subtree : Two trees are duplicates if they have the same structure with the same node values.\n",
    "\n",
    "*Note:*  Return the root of each tree in the form of a list array & the driver code will print the tree in pre-order tree traversal in lexicographically increasing order.\n",
    "\n",
    "<br>\n",
    "\n",
    "**Examples:**\n",
    ">**Input:**<br>\n",
    ">![tree1-1](../../images/tree1-1.png)<br>\n",
    ">**Output:** 2 &ensp; 4   <br>\n",
    ">&emsp;&emsp;&emsp;&emsp;&ensp; 4<br>\n",
    ">**Explanation:** The above tree have two duplicate subtrees.i.e <br>\n",
    ">&emsp; 2 <br>\n",
    ">&ensp; / <br>\n",
    ">4  and 4. Therefore, you need to return the above tree root in the form of a list.  <br>\n",
    "\n",
    ">**Input:** &emsp; 5 <br>\n",
    ">&emsp;&emsp;&emsp;&ensp; / &ensp; \\ <br>\n",
    ">&emsp;&emsp;&emsp; 4 &emsp; 6 <br>\n",
    ">&emsp;&emsp;&nbsp; / &ensp; \\ <br>\n",
    ">&emsp;&ensp;&nbsp; 3 &emsp; 4 <br>\n",
    ">&emsp;&emsp;&emsp;&nbsp; / &ensp; \\ <br>\n",
    ">&emsp;&emsp;&emsp; 3 &ensp;&nbsp; 6 <br>\n",
    ">**Output:** <br>\n",
    ">3<br>\n",
    ">6<br>\n",
    ">**Explanation:** In the above tree, there are two duplicate subtrees.i.e\n",
    ">3 and 6. Therefore, you need to return the above subtrees root in the form of a list. Here, 4 3  is not considered because for a subtree to be equal, it should have the same values as well as structure. If we consider the first subtree on the left, it has  <br>\n",
    ">two children, 3 on the left and 4 3 6 on the right. And for the second subtree it has 3 on the left and 6 on the right.<br>\n",
    ">Since the structures are not same for the subtrees hence they are not equal\n",
    "\n",
    "<br>\n",
    "\n",
    "**Expected Time Complexity:** O(n)<br>\n",
    "**Expected Space Complexity:** O(n)\n",
    "\n",
    "**Constraints:**\n",
    "- >1 <= height of binary tree <= 10<sup>3</sup>"
   ]
  },
  {
   "cell_type": "code",
   "execution_count": 1,
   "metadata": {},
   "outputs": [],
   "source": [
    "class Solution:\n",
    "    def printAllDups(self, root):\n",
    "        # code here\n",
    "        ret = {}\n",
    "        seen = set()\n",
    "        \n",
    "        def dfs(current = root):\n",
    "            if not current:\n",
    "                return [-1]\n",
    "            \n",
    "            left = dfs(current.left)\n",
    "            right = dfs(current.right)\n",
    "            tmp = [current.data] + left + right\n",
    "            \n",
    "            if tuple(tmp) in seen:\n",
    "                ret[tuple(tmp)] = current\n",
    "            else:\n",
    "                seen.add(tuple(tmp))\n",
    "            \n",
    "            return tmp\n",
    "        \n",
    "        dfs()\n",
    "        return [ret[x] for x in sorted(ret)]"
   ]
  }
 ],
 "metadata": {
  "kernelspec": {
   "display_name": "base",
   "language": "python",
   "name": "python3"
  },
  "language_info": {
   "codemirror_mode": {
    "name": "ipython",
    "version": 3
   },
   "file_extension": ".py",
   "mimetype": "text/x-python",
   "name": "python",
   "nbconvert_exporter": "python",
   "pygments_lexer": "ipython3",
   "version": "3.9.16"
  }
 },
 "nbformat": 4,
 "nbformat_minor": 2
}
