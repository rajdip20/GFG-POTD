{
 "cells": [
  {
   "cell_type": "markdown",
   "metadata": {},
   "source": [
    "Given a Binary Tree. You need to find and return the vertical width of the tree.\n",
    "\n",
    "<br>\n",
    "\n",
    "**Examples:**\n",
    ">**Input:** <br>\n",
    ">&emsp;&emsp;&emsp;&emsp; 1 <br>\n",
    ">&emsp;&emsp;&emsp;&nbsp; / &ensp; \\ <br>\n",
    ">&emsp;&emsp;&ensp; 2 &emsp;&ensp; 3 <br>\n",
    ">&emsp;&ensp;&nbsp; / &nbsp; \\ &ensp;&nbsp; / &nbsp; \\ <br>\n",
    ">&emsp; 4 &emsp; 5&nbsp; 6 &emsp; 7 <br>\n",
    ">&emsp;&emsp;&emsp;&emsp;&ensp; \\ &emsp; \\ <br>\n",
    ">&emsp;&emsp;&emsp;&emsp;&ensp;&nbsp; 8 &emsp; 9 <br>\n",
    ">**Output:** 6 <br>\n",
    ">**Explanation:** The width of a binary tree is <br>\n",
    ">the number of vertical paths in that tree. <br><br>\n",
    ">![tree2-8](../../images/tree2-8.png) <br><br>\n",
    ">The above tree contains 6 vertical lines.\n",
    "\n",
    ">**Input:** <br>\n",
    ">&emsp;&ensp; 1 <br>\n",
    ">&emsp;&nbsp; /  \\ <br>\n",
    ">&ensp;&nbsp; 2 &nbsp; 3 <br>\n",
    ">**Output:** 3 <br>\n",
    ">**Explanation:** The above tree has 3 vertical lines, hence the answer is 3.\n",
    "\n",
    "<br>\n",
    "\n",
    "**Expected Time Complexity:** O(n). <br>\n",
    "**Expected Auxiliary Space:** O(height of the tree).\n",
    "\n",
    "**Constraints:**\n",
    "- >0 <= number of nodes <= 10<sup>4</sup>"
   ]
  },
  {
   "cell_type": "code",
   "execution_count": 1,
   "metadata": {},
   "outputs": [],
   "source": [
    "# Function to find the vertical width of a Binary Tree.\n",
    "def verticalWidth(root):\n",
    "    # code here\n",
    "    if not root:\n",
    "        return 0\n",
    "\n",
    "    hd_set = set()\n",
    "    queue = [(root, 0)]\n",
    "    \n",
    "    while queue:\n",
    "        node, hd = queue.pop(0)\n",
    "        hd_set.add(hd)\n",
    "        \n",
    "        if node.left:\n",
    "            queue.append((node.left, hd - 1))\n",
    "        \n",
    "        if node.right:\n",
    "            queue.append((node.right, hd + 1))\n",
    "    \n",
    "    return len(hd_set)"
   ]
  }
 ],
 "metadata": {
  "kernelspec": {
   "display_name": "base",
   "language": "python",
   "name": "python3"
  },
  "language_info": {
   "codemirror_mode": {
    "name": "ipython",
    "version": 3
   },
   "file_extension": ".py",
   "mimetype": "text/x-python",
   "name": "python",
   "nbconvert_exporter": "python",
   "pygments_lexer": "ipython3",
   "version": "3.9.16"
  }
 },
 "nbformat": 4,
 "nbformat_minor": 2
}
