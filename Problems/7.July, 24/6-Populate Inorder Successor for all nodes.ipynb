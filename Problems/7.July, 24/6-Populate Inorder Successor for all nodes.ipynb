{
 "cells": [
  {
   "cell_type": "markdown",
   "metadata": {},
   "source": [
    "Given a Binary Tree, complete the function to populate the next pointer for all nodes. The next pointer for every node should point to the Inorder successor of the node.<br>\n",
    "You do not have to return or print anything. Just make changes in the root node given to you.\n",
    "\n",
    "**Note:** The node having no in-order successor will be pointed to -1. You don't have to add -1 explicitly, the driver code will take care of this.\n",
    "\n",
    "<br>\n",
    "\n",
    "**Examples:**\n",
    ">**Input:** <br>\n",
    ">&emsp;&emsp;&emsp;&emsp; 10 <br>\n",
    ">&emsp;&emsp;&emsp;&ensp; / &ensp; \\ <br>\n",
    ">&emsp;&emsp;&emsp; 8 &emsp; 12 <br>\n",
    ">&emsp;&emsp;&ensp; / <br>\n",
    ">&emsp;&emsp; 3 <br>\n",
    ">**Output:** 3->8 &ensp; 8->10 &ensp; 10->12 &ensp; 12->-1 <br>\n",
    ">**Explanation:** The inorder of the above tree is : 3 8 10 12. So the next pointer of node 3 is pointing to 8 , next pointer of 8 is pointing to 10 and so on.And next pointer of 12 is pointing to -1 as there is no inorder successor of 12.\n",
    "\n",
    ">**Input:** <br>\n",
    ">&emsp;&emsp;&emsp; 1 <br>\n",
    ">&emsp;&emsp;&ensp; / <br>\n",
    ">&emsp;&emsp; 2 <br>\n",
    ">&emsp;&ensp; / <br>\n",
    ">&emsp; 3 <br>\n",
    ">**Output:** 3->2 &ensp; 2->1 &ensp; 1->-1 <br>\n",
    ">**Explanation:** The inorder of the above tree is: 3 2 1. So the next pointer of node 3 is pointing to 2 , next pointer of 2 is pointing to 1. And next pointer of 1 is pointing to -1 as there is no inorder successor of 1.\n",
    "\n",
    "<br>\n",
    "\n",
    "**Expected Time Complexity:** O(n) <br>\n",
    "**Expected Auxiliary Space:** O(1)\n",
    "\n",
    "**Constraints:**\n",
    "- >1<= no. of nodes <=10<sup>5</sup>\n",
    "- >1<= data of the node <=10<sup>5</sup>"
   ]
  },
  {
   "cell_type": "code",
   "execution_count": 1,
   "metadata": {},
   "outputs": [],
   "source": [
    "class Node:\n",
    "\n",
    "    def __init__(self, val):\n",
    "        self.right = None\n",
    "        self.data = val\n",
    "        self.left = None\n",
    "        self.next = None\n",
    "\n",
    "\n",
    "class Solution:\n",
    "    def populateNext(self, root):\n",
    "        def inorder(node):\n",
    "            nonlocal prev\n",
    "            if not node:\n",
    "                return\n",
    "            \n",
    "            inorder(node.left)\n",
    "            \n",
    "            if prev:\n",
    "                prev.next = node\n",
    "            prev = node\n",
    "            \n",
    "            inorder(node.right)\n",
    "\n",
    "        prev = None\n",
    "        inorder(root)"
   ]
  }
 ],
 "metadata": {
  "kernelspec": {
   "display_name": "base",
   "language": "python",
   "name": "python3"
  },
  "language_info": {
   "codemirror_mode": {
    "name": "ipython",
    "version": 3
   },
   "file_extension": ".py",
   "mimetype": "text/x-python",
   "name": "python",
   "nbconvert_exporter": "python",
   "pygments_lexer": "ipython3",
   "version": "3.9.16"
  }
 },
 "nbformat": 4,
 "nbformat_minor": 2
}
