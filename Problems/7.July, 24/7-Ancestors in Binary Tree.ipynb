{
 "cells": [
  {
   "cell_type": "markdown",
   "metadata": {},
   "source": [
    "Given a Binary Tree and an integer **target**. Find all the ancestors of the given target.\n",
    "\n",
    "Note:\n",
    "- The ancestor of node **x** is node **y**, which is at the upper level of node **x**, and **x** is directly connected with node **y**. Consider multiple levels of ancestors to solve this problem.\n",
    "- In case there are no ancestors available, return an empty list.\n",
    "\n",
    "<br>\n",
    "\n",
    "**Examples:**\n",
    ">**Input:** <br>\n",
    ">&emsp;&emsp;&emsp;&emsp; 1 <br>\n",
    ">&emsp;&emsp;&emsp;&nbsp; / &emsp; \\ <br>\n",
    ">&emsp;&emsp;&ensp; 2 &emsp;&emsp; 3 <br>\n",
    ">&emsp;&emsp; / &nbsp; \\ &emsp; / &nbsp; \\ <br>\n",
    ">&emsp;&ensp; 4 &ensp;&nbsp; 5 &nbsp; 6 &emsp; 8 <br>\n",
    ">&emsp; / <br>\n",
    ">&ensp; 7 <br>\n",
    ">target = 7 <br>\n",
    ">**Output:** [4 2 1] <br>\n",
    ">**Explanation:** The given target is 7, if we go above the level of node 7, then we find 4, 2 and 1. Hence the ancestors of node 7 are 4 2 and 1\n",
    "\n",
    ">**Input:** <br>\n",
    ">&emsp;&emsp;1 <br>\n",
    ">&emsp;&ensp;/ &ensp; \\ <br>\n",
    ">&ensp; 2 &emsp;&ensp; 3 <br>\n",
    ">target = 1 <br>\n",
    ">**Output:** [ ] <br>\n",
    ">**Explanation:** Since 1 is the root node, there would be no ancestors. Hence we return an empty list.\n",
    "\n",
    "<br>\n",
    "\n",
    "**Expected Time Complexity:** O(n). <br>\n",
    "**Expected Auxiliary Space:** O(height of tree)\n",
    "\n",
    "**Constraints:**\n",
    "- >1 ≤ no. of nodes ≤ 10<sup>3</sup>\n",
    "- >1 ≤ data of node ≤ 10<sup>4</sup>"
   ]
  },
  {
   "cell_type": "code",
   "execution_count": 1,
   "metadata": {},
   "outputs": [],
   "source": [
    "'''\n",
    "# Node Class:\n",
    "class Node:\n",
    "    def __init__(self,val):\n",
    "        self.data = val\n",
    "        self.left = None\n",
    "        self.right = None\n",
    "'''\n",
    "\n",
    "\n",
    "class Solution:\n",
    "    def Ancestors(self, root, target):\n",
    "        '''\n",
    "        :param root: root of the given tree.\n",
    "        :return: None, print the space separated post ancestors of given target., don't print new line\n",
    "        '''\n",
    "        # code here\n",
    "        def dfs(node, target, path):\n",
    "            if not node:\n",
    "                return False\n",
    "            if node.data == target:\n",
    "                return True\n",
    "            if dfs(node.left, target, path) or dfs(node.right, target, path):\n",
    "                path.append(node.data)\n",
    "                return True\n",
    "            return False\n",
    "\n",
    "        path = []\n",
    "        dfs(root, target, path)\n",
    "        return path"
   ]
  }
 ],
 "metadata": {
  "kernelspec": {
   "display_name": "base",
   "language": "python",
   "name": "python3"
  },
  "language_info": {
   "codemirror_mode": {
    "name": "ipython",
    "version": 3
   },
   "file_extension": ".py",
   "mimetype": "text/x-python",
   "name": "python",
   "nbconvert_exporter": "python",
   "pygments_lexer": "ipython3",
   "version": "3.9.16"
  }
 },
 "nbformat": 4,
 "nbformat_minor": 2
}
