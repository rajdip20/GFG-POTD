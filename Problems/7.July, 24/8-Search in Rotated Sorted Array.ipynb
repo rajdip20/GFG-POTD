{
 "cells": [
  {
   "cell_type": "markdown",
   "metadata": {},
   "source": [
    "Given a sorted (in ascending order) and rotated array **arr** of distinct elements which may be rotated at some point and given an element **key**, the task is to find the index of the given element **key** in the array **arr**. The whole array **arr** is given as the range to search.\n",
    "\n",
    "&emsp;&emsp; Rotation shifts elements of the array by a certain number of positions, with elements that fall off one end reappearing at the other end.\n",
    "\n",
    "Note:- 0-based indexing is followed & returns **-1** if the key is not present.\n",
    "\n",
    "<br>\n",
    "\n",
    "**Examples:**\n",
    ">**Input:** arr[] = [5, 6, 7, 8, 9, 10, 1, 2, 3], key = 10<br>\n",
    ">**Output:** 5<br>\n",
    ">**Explanation:** 10 is found at index 5.\n",
    "\n",
    ">**Input:** arr[] = [3, 5, 1, 2], key = 6<br>\n",
    ">**Output:** -1<br>\n",
    ">**Explanation:** There is no element that has value 6.\n",
    "\n",
    "<br>\n",
    "\n",
    "**Expected Time Complexity:** O(log n)<br>\n",
    "**Expected Auxiliary Space:** O(1)\n",
    "\n",
    "**Constraints:**\n",
    "- >1 ≤ arr.size() ≤ 10<sup>6</sup>\n",
    "- >0 ≤ arr[i] ≤ 10<sup>6</sup>\n",
    "- >1 ≤ key ≤ 10<sup>5</sup>"
   ]
  },
  {
   "cell_type": "code",
   "execution_count": 1,
   "metadata": {},
   "outputs": [],
   "source": [
    "class Solution:\n",
    "    def search(self, arr, key):\n",
    "        # Complete this function\n",
    "        low, high = 0, len(arr) - 1\n",
    "    \n",
    "        while low <= high:\n",
    "            mid = (low + high) // 2\n",
    "            if arr[mid] == key:\n",
    "                return mid\n",
    "            \n",
    "            if arr[low] <= arr[mid]:\n",
    "                if arr[low] <= key < arr[mid]:\n",
    "                    high = mid - 1\n",
    "                else:\n",
    "                    low = mid + 1\n",
    "            else:\n",
    "                if arr[mid] < key <= arr[high]:\n",
    "                    low = mid + 1\n",
    "                else:\n",
    "                    high = mid - 1\n",
    "        \n",
    "        return -1"
   ]
  }
 ],
 "metadata": {
  "kernelspec": {
   "display_name": "base",
   "language": "python",
   "name": "python3"
  },
  "language_info": {
   "codemirror_mode": {
    "name": "ipython",
    "version": 3
   },
   "file_extension": ".py",
   "mimetype": "text/x-python",
   "name": "python",
   "nbconvert_exporter": "python",
   "pygments_lexer": "ipython3",
   "version": "3.9.16"
  }
 },
 "nbformat": 4,
 "nbformat_minor": 2
}
