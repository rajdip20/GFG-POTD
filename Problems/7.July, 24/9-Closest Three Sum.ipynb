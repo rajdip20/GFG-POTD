{
 "cells": [
  {
   "cell_type": "markdown",
   "metadata": {},
   "source": [
    "Given an array, **arr** of integers, and another number **target**, find three integers in the array such that their sum is closest to the target. Return the sum of the three integers.\n",
    "\n",
    "Note: If there are multiple solutions, return the **maximum** one.\n",
    "\n",
    "<br>\n",
    "\n",
    "**Examples:**\n",
    ">**Input:** arr[] = [-7, 9, 8, 3, 1, 1], target = 2<br>\n",
    ">**Output:** 2<br>\n",
    ">**Explanation:** There is only one triplet present in the array where elements are -7,8,1 whose sum is 2.\n",
    "\n",
    ">**Input:** arr[] = [5, 2, 7, 5], target = 13<br>\n",
    ">**Output:** 14<br>\n",
    ">**Explanation:** There is one triplet with sum 12 and other with sum 14 in the array. Triplet elements are 5, 2, 5 and 2, 7, 5 respectively. Since abs(13-12) ==abs(13-14) maximum triplet sum will be preferred i.e 14.\n",
    "\n",
    "<br>\n",
    "\n",
    "**Expected Time Complexity:** O(n<sup>2</sup>)<br>\n",
    "**Expected Auxiliary Space:** O(1)\n",
    "\n",
    "**Constraints:**\n",
    "- >3 ≤ arr.size() ≤ 10<sup>3</sup>\n",
    "- >-10<sup>5</sup> ≤ arr[i] ≤ 10<sup>5</sup>\n",
    "- >1 ≤ target ≤ 10<sup>5</sup>"
   ]
  },
  {
   "cell_type": "code",
   "execution_count": 1,
   "metadata": {},
   "outputs": [],
   "source": [
    "class Solution:\n",
    "    def threeSumClosest (self, arr, target):\n",
    "    # Your Code Here\n",
    "        arr.sort()\n",
    "        closest_sum = float('inf')\n",
    "        n = len(arr)\n",
    "        \n",
    "        for i in range(n - 2):\n",
    "            left, right = i + 1, n - 1\n",
    "            \n",
    "            while left < right:\n",
    "                current_sum = arr[i] + arr[left] + arr[right]\n",
    "                \n",
    "                if current_sum == target:\n",
    "                    return current_sum\n",
    "                \n",
    "                if abs(target - current_sum) < abs(target - closest_sum) or \\\n",
    "                (abs(target - current_sum) == abs(target - closest_sum) and current_sum > closest_sum):\n",
    "                    closest_sum = current_sum\n",
    "                \n",
    "                if current_sum < target:\n",
    "                    left += 1\n",
    "                else:\n",
    "                    right -= 1\n",
    "        \n",
    "        return closest_sum"
   ]
  }
 ],
 "metadata": {
  "kernelspec": {
   "display_name": "base",
   "language": "python",
   "name": "python3"
  },
  "language_info": {
   "codemirror_mode": {
    "name": "ipython",
    "version": 3
   },
   "file_extension": ".py",
   "mimetype": "text/x-python",
   "name": "python",
   "nbconvert_exporter": "python",
   "pygments_lexer": "ipython3",
   "version": "3.9.16"
  }
 },
 "nbformat": 4,
 "nbformat_minor": 2
}
