{
 "cells": [
  {
   "cell_type": "markdown",
   "metadata": {},
   "source": [
    "You are given a rectangular matrix, and your task is to return an array while **traversing** the matrix in **spiral** form.\n",
    "\n",
    "<br>\n",
    "\n",
    "**Examples:**\n",
    ">**Input:** matrix[][] = [[1, 2, 3, 4],<br>\n",
    ">                  [5, 6, 7, 8],<br>\n",
    ">                  [9, 10, 11, 12],<br>\n",
    ">                  [13, 14, 15,16]]<br>\n",
    ">**Output:** [1, 2, 3, 4, 8, 12, 16, 15, 14, 13, 9, 5, 6, 7, 11, 10]<br>\n",
    ">**Explanation:**<br>\n",
    ">![spiral_matrix](../../images/spiral-matrix.png)\n",
    "\n",
    ">**Input:** matrix[][] = [[1, 2, 3, 4],<br>\n",
    ">                  [5, 6, 7, 8],<br>\n",
    ">                  [9, 10, 11, 12]]<br>\n",
    ">**Output:** [1, 2, 3, 4, 8, 12, 11, 10, 9, 5, 6, 7]<br>\n",
    ">**Explanation:** Applying same technique as shown above, output for the 2nd testcase will be 1 2 3 4 8 12 11 10 9 5 6 7.\n",
    "\n",
    "<br>\n",
    "\n",
    "**Expected Time Complexity:** O(n<sup>2</sup>)<br>\n",
    "**Expected Auxiliary Space:** O(n<sup>2</sup>)\n",
    "\n",
    "**Constraints:**\n",
    "- >1 <= matrix.size(), matrix[0].size() <= 100\n",
    "- >0 <= matrix[i][j]<= 100"
   ]
  },
  {
   "cell_type": "code",
   "execution_count": 1,
   "metadata": {},
   "outputs": [],
   "source": [
    "class Solution:\n",
    "    # Function to return a list of integers denoting spiral traversal of matrix.\n",
    "    def spirallyTraverse(self, matrix):\n",
    "        # code here\n",
    "        if not matrix:\n",
    "            return []\n",
    "\n",
    "        result = []\n",
    "        top, bottom = 0, len(matrix) - 1\n",
    "        left, right = 0, len(matrix[0]) - 1\n",
    "\n",
    "        while top <= bottom and left <= right:\n",
    "            for i in range(left, right + 1):\n",
    "                result.append(matrix[top][i])\n",
    "            top += 1\n",
    "\n",
    "            for i in range(top, bottom + 1):\n",
    "                result.append(matrix[i][right])\n",
    "            right -= 1\n",
    "\n",
    "            if top <= bottom:\n",
    "                for i in range(right, left - 1, -1):\n",
    "                    result.append(matrix[bottom][i])\n",
    "                bottom -= 1\n",
    "\n",
    "            if left <= right:\n",
    "                for i in range(bottom, top - 1, -1):\n",
    "                    result.append(matrix[i][left])\n",
    "                left += 1\n",
    "\n",
    "        return result"
   ]
  }
 ],
 "metadata": {
  "kernelspec": {
   "display_name": "base",
   "language": "python",
   "name": "python3"
  },
  "language_info": {
   "codemirror_mode": {
    "name": "ipython",
    "version": 3
   },
   "file_extension": ".py",
   "mimetype": "text/x-python",
   "name": "python",
   "nbconvert_exporter": "python",
   "pygments_lexer": "ipython3",
   "version": "3.9.16"
  }
 },
 "nbformat": 4,
 "nbformat_minor": 2
}
