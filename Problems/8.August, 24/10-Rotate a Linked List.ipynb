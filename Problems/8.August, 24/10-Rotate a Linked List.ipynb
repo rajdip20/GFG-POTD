{
 "cells": [
  {
   "cell_type": "markdown",
   "metadata": {},
   "source": [
    "Given the **head** of a singly linked list, the task is to rotate the linked list anti-clockwise by **k** nodes, i.e., **left-shift** the linked list by **k** nodes, where **k** is a given positive integer smaller than or equal to length of the linked list.\n",
    "\n",
    "<br>\n",
    "\n",
    "**Examples:**\n",
    ">**Input:** linkedlist: 2->4->7->8->9 , k = 3<br>\n",
    ">**Output:** 8->9->2->4->7<br>\n",
    ">**Explanation:**<br>\n",
    ">Rotate 1: 4 -> 7 -> 8 -> 9 -> 2<br>\n",
    ">Rotate 2: 7 -> 8 -> 9 -> 2 -> 4<br>\n",
    ">Rotate 3: 8 -> 9 -> 2 -> 4 -> 7<br>\n",
    ">![rotate1](../../images/blobid0_1721799624.png)\n",
    "\n",
    ">**Input:** linkedlist: 1->2->3->4->5->6->7->8 , k = 4<br>\n",
    ">**Output:** 5->6->7->8->1->2->3->4<br>\n",
    ">![rotate2](../../images/blobid1_1721799675.png)\n",
    "\n",
    "<br>\n",
    "\n",
    "**Expected Time Complexity:** O(n)<br>\n",
    "**Expected Auxiliary Space:** O(1)\n",
    "\n",
    "**Constraints:**\n",
    "- >1 <= number of nodes <= 10<sup>3</sup>\n",
    "- >1 <= node -> data <= 10<sup>4</sup>\n",
    "- >1 <= k <= number of nodes "
   ]
  },
  {
   "cell_type": "code",
   "execution_count": 1,
   "metadata": {},
   "outputs": [],
   "source": [
    "'''\n",
    "\n",
    "class Node:\n",
    "    def __init__(self, data):\n",
    "        self.data = data\n",
    "        self.next = None\n",
    "\n",
    "'''\n",
    "\n",
    "\n",
    "class Solution:\n",
    "    # Function to rotate a linked list.\n",
    "    def rotate(self, head, k):\n",
    "        # code here\n",
    "        if not head or not head.next or k == 0:\n",
    "            return head\n",
    "\n",
    "        current = head\n",
    "        length = 1\n",
    "        while current.next:\n",
    "            current = current.next\n",
    "            length += 1\n",
    "\n",
    "        k = k % length\n",
    "        if k == 0:\n",
    "            return head\n",
    "\n",
    "        current.next = head\n",
    "        temp = head\n",
    "        for _ in range(k - 1):\n",
    "            temp = temp.next\n",
    "        \n",
    "        new_head = temp.next\n",
    "        temp.next = None\n",
    "\n",
    "        return new_head"
   ]
  }
 ],
 "metadata": {
  "kernelspec": {
   "display_name": "base",
   "language": "python",
   "name": "python3"
  },
  "language_info": {
   "codemirror_mode": {
    "name": "ipython",
    "version": 3
   },
   "file_extension": ".py",
   "mimetype": "text/x-python",
   "name": "python",
   "nbconvert_exporter": "python",
   "pygments_lexer": "ipython3",
   "version": "3.9.16"
  }
 },
 "nbformat": 4,
 "nbformat_minor": 2
}
