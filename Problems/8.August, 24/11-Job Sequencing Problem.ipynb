{
 "cells": [
  {
   "cell_type": "markdown",
   "metadata": {},
   "source": [
    "Given a set of **n** jobs where each **job<sub>i</sub>** has a deadline and profit associated with it.\n",
    "\n",
    "Each job takes ***1*** unit of time to complete and only one job can be scheduled at a time. We earn the profit associated with a job if and only if the job is completed by its deadline.\n",
    "\n",
    "Find the number of jobs done and the **maximum profit**.\n",
    "\n",
    "**Note:** Jobs will be given in the form (Job<sub>id</sub>, Deadline, Profit) associated with that Job. Deadline of the job is the time on or before which job needs to be completed to earn the profit.\n",
    "\n",
    "<br>\n",
    "\n",
    "**Examples:**\n",
    ">**Input:** Jobs = [[1,4,20],[2,1,1],[3,1,40],[4,1,30]]<br>\n",
    ">**Output:** 2 60<br>\n",
    ">**Explanation:** Job<sub>1</sub> and Job<sub>3</sub> can be done with maximum profit of 60 (20+40).\n",
    "\n",
    ">**Input:** Jobs = [[1,2,100],[2,1,19],[3,2,27],[4,1,25],[5,1,15]]<br>\n",
    ">**Output:** 2 127<br>\n",
    ">**Explanation:** 2 jobs can be done with maximum profit of 127 (100+27).\n",
    "\n",
    "<br>\n",
    "\n",
    "**Expected Time Complexity:** O(nlogn)<br>\n",
    "**Expected Auxilliary Space:** O(n)\n",
    "\n",
    "**Constraints:**\n",
    "- >1 <= n <= 10<sup>5</sup>\n",
    "- >1 <= Deadline,id <= n\n",
    "- >1 <= Profit <= 500"
   ]
  },
  {
   "cell_type": "code",
   "execution_count": 1,
   "metadata": {},
   "outputs": [],
   "source": [
    "'''\n",
    "class Job:\n",
    "    \n",
    "    # Job class which stores profit and deadline.\n",
    "    \n",
    "    def __init__(self,profit=0,deadline=0):\n",
    "        self.profit = profit\n",
    "        self.deadline = deadline\n",
    "        self.id = 0\n",
    "'''        \n",
    "\n",
    "class Solution:\n",
    "    # Function to find the maximum profit and the number of jobs done.\n",
    "    def JobScheduling(self, Jobs, n):\n",
    "        # code here\n",
    "        Jobs.sort(key=lambda x: x.profit, reverse=True)\n",
    "        max_deadline = max(job.deadline for job in Jobs)\n",
    "        time_slot = [None] * (max_deadline + 1)\n",
    "        total_job = 0\n",
    "        total_profit = 0\n",
    "        \n",
    "        for job in Jobs:\n",
    "            job_id  = job.id\n",
    "            job_time = job.deadline\n",
    "            profit = job.profit\n",
    "            \n",
    "            for i in range(job_time, 0, -1):\n",
    "                if time_slot[i] is None:\n",
    "                    time_slot[i] = job_id\n",
    "                    total_job += 1\n",
    "                    total_profit += profit\n",
    "                    break\n",
    "            \n",
    "        return total_job, total_profit"
   ]
  }
 ],
 "metadata": {
  "kernelspec": {
   "display_name": "base",
   "language": "python",
   "name": "python3"
  },
  "language_info": {
   "codemirror_mode": {
    "name": "ipython",
    "version": 3
   },
   "file_extension": ".py",
   "mimetype": "text/x-python",
   "name": "python",
   "nbconvert_exporter": "python",
   "pygments_lexer": "ipython3",
   "version": "3.9.16"
  }
 },
 "nbformat": 4,
 "nbformat_minor": 2
}
