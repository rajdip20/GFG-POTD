{
 "cells": [
  {
   "cell_type": "markdown",
   "metadata": {},
   "source": [
    "Given 2 sorted integer arrays **arr1** and **arr2** of the same size. Find the **sum** of the **middle** elements of two sorted arrays arr1 and arr2.\n",
    "\n",
    "<br>\n",
    "\n",
    "**Examples:**\n",
    ">**Input:** arr1 = [1, 2, 4, 6, 10], arr2 = [4, 5, 6, 9, 12]<br>\n",
    ">**Output:** 11<br>\n",
    ">**Explanation:** The merged array looks like [1, 2, 4, 4, 5, 6, 6, 9, 10, 12]. Sum of middle elements is 11 (5 + 6).\n",
    "\n",
    ">**Input:** arr1 = [1, 12, 15, 26, 38], arr2 = [2, 13, 17, 30, 45]<br>\n",
    ">**Output:** 32<br>\n",
    ">**Explanation:** The merged array looks like [1, 2, 12, 13, 15, 17, 26, 30, 38, 45]. Sum of middle elements is 32 (15 + 17).\n",
    "\n",
    "<br>\n",
    "\n",
    "**Expected Time Complexity:** O(log n)<br>\n",
    "**Expected Auxiliary Space:** O(1)\n",
    "\n",
    "**Constraints:**\n",
    "- >1 <= arr1.size() == arr2.size() <= 10<sup>3</sup>\n",
    "- >1 <= arr1[i] <= 10<sup>6</sup>\n",
    "- >1 <= arr2[i] <= 10<sup>6</sup>"
   ]
  },
  {
   "cell_type": "code",
   "execution_count": 1,
   "metadata": {},
   "outputs": [],
   "source": [
    "class Solution:\n",
    "    def sum_of_middle_elements(self, arr1, arr2):\n",
    "        # code here\n",
    "        n = len(arr1)\n",
    "    \n",
    "        if n == 0:\n",
    "            return 0\n",
    "        \n",
    "        low, high = 0, n\n",
    "        \n",
    "        while low <= high:\n",
    "            partition1 = (low + high) // 2\n",
    "            partition2 = n - partition1\n",
    "            \n",
    "            maxLeft1 = float('-inf') if partition1 == 0 else arr1[partition1 - 1]\n",
    "            \n",
    "            minRight1 = float('inf') if partition1 == n else arr1[partition1]\n",
    "            \n",
    "            maxLeft2 = float('-inf') if partition2 == 0 else arr2[partition2 - 1]\n",
    "            \n",
    "            minRight2 = float('inf') if partition2 == n else arr2[partition2]\n",
    "            \n",
    "            if maxLeft1 <= minRight2 and maxLeft2 <= minRight1:\n",
    "                return max(maxLeft1, maxLeft2) + min(minRight1, minRight2)\n",
    "            \n",
    "            elif maxLeft1 > minRight2:\n",
    "                high = partition1 - 1\n",
    "            else:\n",
    "                low = partition1 + 1\n",
    "        \n",
    "        return 0"
   ]
  }
 ],
 "metadata": {
  "kernelspec": {
   "display_name": "base",
   "language": "python",
   "name": "python3"
  },
  "language_info": {
   "codemirror_mode": {
    "name": "ipython",
    "version": 3
   },
   "file_extension": ".py",
   "mimetype": "text/x-python",
   "name": "python",
   "nbconvert_exporter": "python",
   "pygments_lexer": "ipython3",
   "version": "3.9.16"
  }
 },
 "nbformat": 4,
 "nbformat_minor": 2
}
