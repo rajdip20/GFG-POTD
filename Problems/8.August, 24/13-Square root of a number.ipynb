{
 "cells": [
  {
   "cell_type": "markdown",
   "metadata": {},
   "source": [
    "Given an integer **n**, find the square root of n. If **n** is not a perfect square, then return the floor value.\n",
    "\n",
    "&emsp;&emsp;&emsp; Floor value of any number is the greatest Integer which is less than or equal to that number\n",
    "\n",
    "<br>\n",
    "\n",
    "**Examples:**\n",
    ">**Input:** n = 5<br>\n",
    ">**Output:** 2<br>\n",
    ">**Explanation:** Since, 5 is not a perfect square, floor of square_root of 5 is 2.\n",
    "\n",
    ">**Input:** n = 4<br>\n",
    ">**Output:** 2<br>\n",
    ">**Explanation:** Since, 4 is a perfect square, so its square root is 2.\n",
    "\n",
    "<br>\n",
    "\n",
    "**Expected Time Complexity:** O(logn)<br>\n",
    "**Expected Auxiliary Space:** O(1)\n",
    "\n",
    "**Constraints:**\n",
    "- >1 ≤ n ≤ 10<sup>7</sup>"
   ]
  },
  {
   "cell_type": "code",
   "execution_count": 1,
   "metadata": {},
   "outputs": [],
   "source": [
    "class Solution:\n",
    "    def floorSqrt(self, n): \n",
    "        # Your code here\n",
    "        if n == 0 or n == 1:\n",
    "            return n\n",
    "        \n",
    "        low, high = 1, n\n",
    "        ans = 1\n",
    "        \n",
    "        while low <= high:\n",
    "            mid = (low + high) // 2\n",
    "            \n",
    "            if mid * mid == n:\n",
    "                return mid\n",
    "            \n",
    "            if mid * mid < n:\n",
    "                ans = mid\n",
    "                low = mid + 1\n",
    "            else:\n",
    "                high = mid - 1\n",
    "        \n",
    "        return ans"
   ]
  }
 ],
 "metadata": {
  "kernelspec": {
   "display_name": "base",
   "language": "python",
   "name": "python3"
  },
  "language_info": {
   "codemirror_mode": {
    "name": "ipython",
    "version": 3
   },
   "file_extension": ".py",
   "mimetype": "text/x-python",
   "name": "python",
   "nbconvert_exporter": "python",
   "pygments_lexer": "ipython3",
   "version": "3.9.16"
  }
 },
 "nbformat": 4,
 "nbformat_minor": 2
}
