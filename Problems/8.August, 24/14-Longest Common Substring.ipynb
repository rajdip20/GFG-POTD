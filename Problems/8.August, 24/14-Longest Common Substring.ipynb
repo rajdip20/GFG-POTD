{
 "cells": [
  {
   "cell_type": "markdown",
   "metadata": {},
   "source": [
    "You are given two strings **str1** and **str2**. Your task is to find the length of the **longest common substring** among the given strings.\n",
    "\n",
    "<br>\n",
    "\n",
    "**Examples:**\n",
    ">**Input:** str1 = \"ABCDGH\", str2 = \"ACDGHR\"<br>\n",
    ">**Output:** 4<br>\n",
    ">**Explanation:** The longest common substring is \"CDGH\" which has length 4.\n",
    "\n",
    ">**Input:** str1 = \"ABC\", str2 = \"ACB\"<br>\n",
    ">**Output:** 1<br>\n",
    ">**Explanation:** The longest common substrings are \"A\", \"B\", \"C\" all having length 1.\n",
    "\n",
    "<br>\n",
    "\n",
    "**Expected Time Complexity:** O(n * m).<br>\n",
    "**Expected Auxiliary Space:** O(n * m).\n",
    "\n",
    "**Constraints:**\n",
    "- >1<= str1.size(), str2.size()<=1000\n",
    "- >Both strings may contain upper and lower case alphabets."
   ]
  },
  {
   "cell_type": "code",
   "execution_count": 1,
   "metadata": {},
   "outputs": [],
   "source": [
    "class Solution:\n",
    "    def longestCommonSubstr(self, str1, str2):\n",
    "        # code here\n",
    "        n = len(str1)\n",
    "        m = len(str2)\n",
    "        \n",
    "        dp = [[0] * (m + 1) for _ in range(n + 1)]\n",
    "        max_length = 0\n",
    "        \n",
    "        for i in range(1, n + 1):\n",
    "            for j in range(1, m + 1):\n",
    "                if str1[i - 1] == str2[j - 1]:\n",
    "                    dp[i][j] = dp[i - 1][j - 1] + 1\n",
    "                    max_length = max(max_length, dp[i][j])\n",
    "                else:\n",
    "                    dp[i][j] = 0\n",
    "        \n",
    "        return max_length"
   ]
  }
 ],
 "metadata": {
  "kernelspec": {
   "display_name": "base",
   "language": "python",
   "name": "python3"
  },
  "language_info": {
   "codemirror_mode": {
    "name": "ipython",
    "version": 3
   },
   "file_extension": ".py",
   "mimetype": "text/x-python",
   "name": "python",
   "nbconvert_exporter": "python",
   "pygments_lexer": "ipython3",
   "version": "3.9.16"
  }
 },
 "nbformat": 4,
 "nbformat_minor": 2
}
