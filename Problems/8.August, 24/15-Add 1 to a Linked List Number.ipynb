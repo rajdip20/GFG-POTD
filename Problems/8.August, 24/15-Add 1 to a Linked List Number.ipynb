{
 "cells": [
  {
   "cell_type": "markdown",
   "metadata": {},
   "source": [
    "You are given a linked list where each element in the list is a node and have an integer data. You need to add **1** to the number formed by concatinating all the list node numbers together and return the head of the modified linked list. \n",
    "\n",
    "**Note:** The head represents the first element of the given array.\n",
    "\n",
    "<br>\n",
    "\n",
    "**Examples:**\n",
    ">**Input:** LinkedList: 4->5->6<br>\n",
    ">**Output:** 457<br>\n",
    ">![pic1](../../images/blobid0_1722278845.png)<br>\n",
    ">**Explanation:** 4->5->6 represents 456 and when 1 is added it becomes 457. \n",
    "\n",
    ">**Input:** LinkedList: 1->2->3<br>\n",
    ">**Output:** 124<br>\n",
    ">![pic2](../../images/blobid1_1722278908.png)<br>\n",
    ">**Explanation:**  1->2->3 represents 123 and when 1 is added it becomes 124. \n",
    "\n",
    "<br>\n",
    "\n",
    "**Expected Time Complexity:** O(n)<br>\n",
    "**Expected Auxiliary Space:** O(1)\n",
    "\n",
    "**Constraints:**\n",
    "- >1 <= len(list) <= 10<sup>5</sup>\n",
    "- >0 <= list[i] <= 9"
   ]
  },
  {
   "cell_type": "code",
   "execution_count": 1,
   "metadata": {},
   "outputs": [],
   "source": [
    "'''\n",
    "class Node:\n",
    "    def __init__(self, data):   # data -> value stored in node\n",
    "        self.data = data\n",
    "        self.next = None\n",
    "'''\n",
    "\n",
    "class Solution:\n",
    "    def addOne(self, head):\n",
    "        # Returns new head of linked List.\n",
    "        def reverse_list(head):\n",
    "            prev = None\n",
    "            current = head\n",
    "            while current:\n",
    "                next_node = current.next\n",
    "                current.next = prev\n",
    "                prev = current\n",
    "                current = next_node\n",
    "            return prev\n",
    "\n",
    "        head = reverse_list(head)\n",
    "        carry = 1\n",
    "        current = head\n",
    "        \n",
    "        while current:\n",
    "            current.data += carry\n",
    "            carry = current.data // 10\n",
    "            current.data = current.data % 10\n",
    "            \n",
    "            if carry == 0:\n",
    "                break\n",
    "            \n",
    "            if not current.next and carry:\n",
    "                current.next = Node(carry)\n",
    "                carry = 0\n",
    "            \n",
    "            current = current.next\n",
    "        \n",
    "        head = reverse_list(head)\n",
    "        \n",
    "        return head"
   ]
  }
 ],
 "metadata": {
  "kernelspec": {
   "display_name": "base",
   "language": "python",
   "name": "python3"
  },
  "language_info": {
   "codemirror_mode": {
    "name": "ipython",
    "version": 3
   },
   "file_extension": ".py",
   "mimetype": "text/x-python",
   "name": "python",
   "nbconvert_exporter": "python",
   "pygments_lexer": "ipython3",
   "version": "3.9.16"
  }
 },
 "nbformat": 4,
 "nbformat_minor": 2
}
