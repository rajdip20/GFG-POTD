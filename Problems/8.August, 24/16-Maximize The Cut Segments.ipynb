{
 "cells": [
  {
   "cell_type": "markdown",
   "metadata": {},
   "source": [
    "Given an integer **n** denoting the Length of a line segment. You need to cut the line segment in such a way that the cut length of a line segment each time is either **x**, **y** or **z**. Here x, y, and z are integers.<br>\n",
    "After performing all the cut operations, your total number of cut segments must be maximum. Return the maximum number of cut segments possible.\n",
    "\n",
    "**Note**: if no segment can be cut then return 0.\n",
    "\n",
    "<br>\n",
    "\n",
    "**Examples:**\n",
    ">**Input:** n = 4, x = 2, y = 1, z = 1<br>\n",
    ">**Output:** 4<br>\n",
    ">**Explanation:** Total length is 4, and the cut<br>\n",
    ">lengths are 2, 1 and 1.  We can make<br>\n",
    ">maximum 4 segments each of length 1.\n",
    "\n",
    ">**Input:** n = 5, x = 5, y = 3, z = 2<br>\n",
    ">**Output:** 2<br>\n",
    ">**Explanation:** Here total length is 5, and<br>\n",
    ">the cut lengths are 5, 3 and 2. We can<br>\n",
    ">make two segments of lengths 3 and 2.\n",
    "\n",
    "<br>\n",
    "\n",
    "**Expected Time Complexity:** O(n)<br>\n",
    "**Expected Auxiliary Space:** O(n)\n",
    "\n",
    "**Constraints:**\n",
    "- >1 <= n, x, y, z <= 10<sup>4</sup>"
   ]
  },
  {
   "cell_type": "code",
   "execution_count": 1,
   "metadata": {},
   "outputs": [],
   "source": [
    "class Solution:\n",
    "    \n",
    "    # Function to find the maximum number of cuts.\n",
    "    def maximizeTheCuts(self, n, x, y, z):\n",
    "        # code here\n",
    "        dp = [-1] * (n + 1)\n",
    "        dp[0] = 0\n",
    "        \n",
    "        for i in range(1, n + 1):\n",
    "            if i >= x and dp[i - x] != -1:\n",
    "                dp[i] = max(dp[i], dp[i - x] + 1)\n",
    "            if i >= y and dp[i - y] != -1:\n",
    "                dp[i] = max(dp[i], dp[i - y] + 1)\n",
    "            if i >= z and dp[i - z] != -1:\n",
    "                dp[i] = max(dp[i], dp[i - z] + 1)\n",
    "        \n",
    "        return max(dp[n], 0)"
   ]
  }
 ],
 "metadata": {
  "kernelspec": {
   "display_name": "base",
   "language": "python",
   "name": "python3"
  },
  "language_info": {
   "codemirror_mode": {
    "name": "ipython",
    "version": 3
   },
   "file_extension": ".py",
   "mimetype": "text/x-python",
   "name": "python",
   "nbconvert_exporter": "python",
   "pygments_lexer": "ipython3",
   "version": "3.9.16"
  }
 },
 "nbformat": 4,
 "nbformat_minor": 2
}
