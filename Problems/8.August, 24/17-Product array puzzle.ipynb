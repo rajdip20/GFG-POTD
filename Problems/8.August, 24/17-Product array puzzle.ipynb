{
 "cells": [
  {
   "cell_type": "markdown",
   "metadata": {},
   "source": [
    "Given an array **nums[]**, construct a Product Array nums[] such that **nums[i]** is equal to the product of all the elements of **nums** except nums[i].\n",
    "\n",
    "<br>\n",
    "\n",
    "**Examples:**\n",
    ">**Input:** nums[] = [10, 3, 5, 6, 2]<br>\n",
    ">**Output:** [180, 600, 360, 300, 900]<br>\n",
    ">**Explanation:** For i=0, P[i] = 3 * 5 * 6 * 2 = 180.<br>\n",
    ">For i=1, P[i] = 10 * 5 * 6 * 2 = 600.<br>\n",
    ">For i=2, P[i] = 10 * 3 * 6 * 2 = 360.<br>\n",
    ">For i=3, P[i] = 10 * 3 * 5 * 2 = 300.<br>\n",
    ">For i=4, P[i] = 10 * 3 * 5 * 6 = 900.\n",
    "\n",
    ">**Input:** nums[] = [12,0]<br>\n",
    ">**Output:** [0, 12]\n",
    "\n",
    "<br>\n",
    "\n",
    "**Expected Time Complexity:** O(n)<br>\n",
    "**Expected Auxiliary Space:** O(n)\n",
    "\n",
    "**Constraints:**\n",
    "- >1 <= nums.size() <= 1000\n",
    "- >0 <= nums[i] <= 200\n",
    "- >nums[i] may contain duplicates."
   ]
  },
  {
   "cell_type": "code",
   "execution_count": 1,
   "metadata": {},
   "outputs": [],
   "source": [
    "class Solution:\n",
    "    def productExceptSelf(self, nums):\n",
    "        # code here\n",
    "        n = len(nums)\n",
    "        result = [1] * n\n",
    "        \n",
    "        left_prod = 1\n",
    "        for i in range(n):\n",
    "            result[i] = left_prod\n",
    "            left_prod *= nums[i]\n",
    "        \n",
    "        right_prod = 1\n",
    "        for i in range(n - 1, -1, -1):\n",
    "            result[i] *= right_prod\n",
    "            right_prod *= nums[i]\n",
    "        \n",
    "        return result"
   ]
  }
 ],
 "metadata": {
  "kernelspec": {
   "display_name": "base",
   "language": "python",
   "name": "python3"
  },
  "language_info": {
   "codemirror_mode": {
    "name": "ipython",
    "version": 3
   },
   "file_extension": ".py",
   "mimetype": "text/x-python",
   "name": "python",
   "nbconvert_exporter": "python",
   "pygments_lexer": "ipython3",
   "version": "3.9.16"
  }
 },
 "nbformat": 4,
 "nbformat_minor": 2
}
