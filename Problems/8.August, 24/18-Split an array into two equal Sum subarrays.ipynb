{
 "cells": [
  {
   "cell_type": "markdown",
   "metadata": {},
   "source": [
    "Given an array of integers **arr**, return **true** if it is possible to split it in two subarrays (without reordering the elements), such that the sum of the two subarrays are equal. If it is not possible then return **false**.\n",
    "\n",
    "<br>\n",
    "\n",
    "**Examples:**\n",
    ">**Input:** arr = [1, 2, 3, 4, 5, 5]<br>\n",
    ">**Output:** true<br>\n",
    ">**Explanation:** In the above example, we can divide the array into two subarrays with eqaul sum. The two subarrays are: [1, 2, 3, 4] and [5, 5]. The sum of both the subarrays are 10. Hence, the answer is true.\n",
    "\n",
    ">**Input:** arr = [4, 3, 2, 1]<br>\n",
    ">**Output:** false<br>\n",
    ">**Explanation:** In the above example, we cannot divide the array into two subarrays with eqaul sum. Hence, the answer is false.\n",
    "\n",
    "<br>\n",
    "\n",
    "**Expected Time Complexity:** O(n)<br>\n",
    "**Expected Space Complexity:** O(1)\n",
    "\n",
    "**Constraints:**\n",
    "- >1<=arr.size()<=10<sup>5</sup>\n",
    "- >1<=arr[i]<=10<sup>6</sup>"
   ]
  },
  {
   "cell_type": "code",
   "execution_count": 1,
   "metadata": {},
   "outputs": [],
   "source": [
    "class Solution:\n",
    "    def canSplit(self, arr):\n",
    "        # code here\n",
    "        total_sum = sum(arr)\n",
    "    \n",
    "        if total_sum % 2 != 0:\n",
    "            return False\n",
    "        \n",
    "        half_sum = total_sum // 2\n",
    "        current_sum = 0\n",
    "        \n",
    "        for num in arr:\n",
    "            current_sum += num\n",
    "            if current_sum == half_sum:\n",
    "                return True\n",
    "        \n",
    "        return False"
   ]
  }
 ],
 "metadata": {
  "kernelspec": {
   "display_name": "base",
   "language": "python",
   "name": "python3"
  },
  "language_info": {
   "codemirror_mode": {
    "name": "ipython",
    "version": 3
   },
   "file_extension": ".py",
   "mimetype": "text/x-python",
   "name": "python",
   "nbconvert_exporter": "python",
   "pygments_lexer": "ipython3",
   "version": "3.9.16"
  }
 },
 "nbformat": 4,
 "nbformat_minor": 2
}
