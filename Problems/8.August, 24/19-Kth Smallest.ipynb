{
 "cells": [
  {
   "cell_type": "markdown",
   "metadata": {},
   "source": [
    "Given an array **arr[]** and an integer **k** where k is smaller than the size of the array, the task is to find the **k<sup>th</sup> smallest** element in the given array. It is given that all array elements are distinct.\n",
    "\n",
    "**Follow up:** Don't solve it using the inbuilt sort function.\n",
    "\n",
    "<br>\n",
    "\n",
    "**Examples:**\n",
    ">**Input:** arr[] = [7, 10, 4, 3, 20, 15], k = 3<br>\n",
    ">**Output:**  7<br>\n",
    ">**Explanation:** 3rd smallest element in the given array is 7.\n",
    "\n",
    ">**Input:** arr[] = [7, 10, 4, 20, 15], k = 4 <br>\n",
    ">**Output:**  15<br>\n",
    ">**Explanation:** 4th smallest element in the given array is 15.\n",
    "\n",
    "<br>\n",
    "\n",
    "**Expected Time Complexity:** O(n+(max_element))<br>\n",
    "**Expected Auxiliary Space:** O(max_element)\n",
    "\n",
    "**Constraints:**\n",
    "- >1 <= arr.size <= 10<sup>6</sup>\n",
    "- >1<= arr[i] <= 10<sup>6</sup>\n",
    "- >1 <= k <= n"
   ]
  },
  {
   "cell_type": "code",
   "execution_count": 1,
   "metadata": {},
   "outputs": [],
   "source": [
    "class Solution:\n",
    "    def kthSmallest(self, arr, k):\n",
    "        def partition(arr, low, high):\n",
    "            pivot = arr[high]\n",
    "            i = low - 1\n",
    "            \n",
    "            for j in range(low, high):\n",
    "                if arr[j] < pivot:\n",
    "                    i += 1\n",
    "                    arr[i], arr[j] = arr[j], arr[i]\n",
    "            \n",
    "            arr[i + 1], arr[high] = arr[high], arr[i + 1]\n",
    "            return i + 1\n",
    "\n",
    "        def quickselect(arr, low, high, k):\n",
    "            if low <= high:\n",
    "                pi = partition(arr, low, high)\n",
    "                \n",
    "                if pi == k:\n",
    "                    return arr[pi]\n",
    "                elif pi > k:\n",
    "                    return quickselect(arr, low, pi - 1, k)\n",
    "                else:\n",
    "                    return quickselect(arr, pi + 1, high, k)\n",
    "            return None\n",
    "        \n",
    "        \n",
    "        return quickselect(arr, 0, len(arr) - 1, k - 1)"
   ]
  }
 ],
 "metadata": {
  "kernelspec": {
   "display_name": "base",
   "language": "python",
   "name": "python3"
  },
  "language_info": {
   "codemirror_mode": {
    "name": "ipython",
    "version": 3
   },
   "file_extension": ".py",
   "mimetype": "text/x-python",
   "name": "python",
   "nbconvert_exporter": "python",
   "pygments_lexer": "ipython3",
   "version": "3.9.16"
  }
 },
 "nbformat": 4,
 "nbformat_minor": 2
}
