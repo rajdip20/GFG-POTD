{
 "cells": [
  {
   "cell_type": "markdown",
   "metadata": {},
   "source": [
    "Given two strings **str1** and **str2**. Return the minimum number of operations required to convert **str1** to **str2**.<br>\n",
    "The possible operations are permitted:\n",
    "1. Insert a character at any position of the string.\n",
    "2. Remove any character from the string.\n",
    "3. Replace any character from the string with any other character.\n",
    "\n",
    "<br>\n",
    "\n",
    "**Examples:**\n",
    ">**Input:** str1 = \"geek\", srt2 = \"gesek\"<br>\n",
    ">**Output:** 1<br>\n",
    ">**Explanation:** One operation is required, inserting 's' between two 'e'.\n",
    "\n",
    ">**Input:** str1 = \"gfg\", str2 = \"gfg\"<br>\n",
    ">**Output:** 0<br>\n",
    ">**Explanation:** Both strings are same.\n",
    "\n",
    "<br>\n",
    "\n",
    "**Expected Time Complexity:** O(|str1| * |str2|)<br>\n",
    "**Expected Space Complexity:** O(|str1| * |str2|)\n",
    "\n",
    "**Constraints:**\n",
    "- >1 ≤ str1.length(), str2.length() ≤ 100\n",
    "- >Both the strings are in lowercase."
   ]
  },
  {
   "cell_type": "code",
   "execution_count": 1,
   "metadata": {},
   "outputs": [],
   "source": [
    "class Solution:\n",
    "    def editDistance(self, str1, str2):\n",
    "\t\t# Code here\n",
    "        m, n = len(str1), len(str2)\n",
    "        dp = [[0] * (n + 1) for _ in range(m + 1)]\n",
    "        \n",
    "        for i in range(m + 1):\n",
    "            for j in range(n + 1):\n",
    "                if i == 0:\n",
    "                    dp[i][j] = j\n",
    "                elif j == 0:\n",
    "                    dp[i][j] = i\n",
    "                elif str1[i - 1] == str2[j - 1]:\n",
    "                    dp[i][j] = dp[i - 1][j - 1]\n",
    "                else:\n",
    "                    dp[i][j] = 1 + min(dp[i - 1][j], dp[i][j - 1], dp[i - 1][j - 1])\n",
    "        \n",
    "        return dp[m][n]"
   ]
  }
 ],
 "metadata": {
  "kernelspec": {
   "display_name": "base",
   "language": "python",
   "name": "python3"
  },
  "language_info": {
   "codemirror_mode": {
    "name": "ipython",
    "version": 3
   },
   "file_extension": ".py",
   "mimetype": "text/x-python",
   "name": "python",
   "nbconvert_exporter": "python",
   "pygments_lexer": "ipython3",
   "version": "3.9.16"
  }
 },
 "nbformat": 4,
 "nbformat_minor": 2
}
