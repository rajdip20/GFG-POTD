{
 "cells": [
  {
   "cell_type": "markdown",
   "metadata": {},
   "source": [
    "You are given an **Undirected Graph** having **unit weight** of the edges, find the shortest path from **src** to all the vertex and if it is **unreachable** to reach any vertex, then return **-1** for that vertex.\n",
    "\n",
    "<br>\n",
    "\n",
    "**Examples:**\n",
    ">**Input:**<br>\n",
    ">n = 9, m = 10<br>\n",
    ">edges=[[0,1],[0,3],[3,4],[4,5],[5,6],[1,2],[2,6],[6,7],[7,8],[6,8]] <br>\n",
    ">src=0<br>\n",
    ">**Output:**<br>\n",
    ">0 1 2 1 2 3 3 4 4<br>\n",
    ">![pic1](../../images/blobid1_1712813311.png)\n",
    "\n",
    ">**Input:**<br>\n",
    ">n = 4, m = 2<br>\n",
    ">edges=[[1,3],[3,0]] <br>\n",
    ">src=3<br>\n",
    ">**Output:**<br>\n",
    ">1 1 -1 0<br>\n",
    ">![pic2](../../images/blobid3_1712814761.png)\n",
    "\n",
    "<br>\n",
    "\n",
    "**Expected Time Complexity:** O(N + E), where N is the number of nodes and E is the edges<br>\n",
    "**Expected Space Complexity:** O(N)\n",
    "\n",
    "**Constraint:**\n",
    "- >1 <= n,m <= 10<sup>4</sup>\n",
    "- >0 <= edges[i][j] <= n-1"
   ]
  },
  {
   "cell_type": "code",
   "execution_count": 1,
   "metadata": {},
   "outputs": [],
   "source": [
    "class Solution:\n",
    "    def shortestPath(self, edges, n, m, src):\n",
    "        # code here\n",
    "        from collections import defaultdict, deque\n",
    "\n",
    "        graph = defaultdict(list)\n",
    "        for u, v in edges:\n",
    "            graph[u].append(v)\n",
    "            graph[v].append(u)\n",
    "        \n",
    "        dist = [-1] * n\n",
    "        dist[src] = 0\n",
    "        \n",
    "        queue = deque([src])\n",
    "        \n",
    "        while queue:\n",
    "            node = queue.popleft()\n",
    "            \n",
    "            for neighbor in graph[node]:\n",
    "                if dist[neighbor] == -1:\n",
    "                    dist[neighbor] = dist[node] + 1\n",
    "                    queue.append(neighbor)\n",
    "        \n",
    "        return dist"
   ]
  }
 ],
 "metadata": {
  "kernelspec": {
   "display_name": "base",
   "language": "python",
   "name": "python3"
  },
  "language_info": {
   "codemirror_mode": {
    "name": "ipython",
    "version": 3
   },
   "file_extension": ".py",
   "mimetype": "text/x-python",
   "name": "python",
   "nbconvert_exporter": "python",
   "pygments_lexer": "ipython3",
   "version": "3.9.16"
  }
 },
 "nbformat": 4,
 "nbformat_minor": 2
}
