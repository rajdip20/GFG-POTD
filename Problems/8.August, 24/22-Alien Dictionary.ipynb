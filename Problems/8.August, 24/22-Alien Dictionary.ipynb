{
 "cells": [
  {
   "cell_type": "markdown",
   "metadata": {},
   "source": [
    "Given a sorted dictionary of an alien language having N words and k starting alphabets of standard dictionary. Find the order of characters in the alien language.<br>\n",
    "**Note:** Many orders may be possible for a particular test case, thus you may return any valid order and output will be 1 if the order of string returned by the function is correct else 0 denoting incorrect string returned.\n",
    "\n",
    "<br>\n",
    "\n",
    "**Examples:**\n",
    ">**Input:**  n = 5, k = 4, dict = {\"baa\",\"abcd\",\"abca\",\"cab\",\"cad\"}<br>\n",
    ">**Output:** 1<br>\n",
    ">**Explanation:** Here order of characters is 'b', 'd', 'a', 'c' Note that words are sorted and in the given language \"baa\" comes before \"abcd\", therefore 'b' is before 'a' in output.<br>\n",
    ">Similarly we can find other orders.\n",
    "\n",
    ">**Input:** n = 3, k = 3, dict = {\"caa\",\"aaa\",\"aab\"}<br>\n",
    ">**Output:** 1<br>\n",
    ">**Explanation:** Here order of characters is 'c', 'a', 'b' Note that words are sorted and in the given language \"caa\" comes before \"aaa\", therefore 'c' is before 'a' in output.<br>\n",
    ">Similarly we can find other orders.\n",
    "\n",
    "<br>\n",
    "\n",
    "**Expected Time Complexity:** O(n * |s| + k)<br>\n",
    "**Expected Auxillary Space:** O(k)\n",
    "\n",
    "**Constraints:**\n",
    "- >1 ≤ n≤ 10<sup>4</sup>\n",
    "- >1 ≤ k ≤ 26\n",
    "- >1 ≤ Length of words ≤ 50"
   ]
  },
  {
   "cell_type": "code",
   "execution_count": 1,
   "metadata": {},
   "outputs": [],
   "source": [
    "class Solution:\n",
    "    def findOrder(self, dict: list[str], n: int, k: int) -> str:\n",
    "        # Your implementation here\n",
    "        from collections import defaultdict, deque\n",
    "\n",
    "        graph = defaultdict(list)\n",
    "        in_degree = [0] * k\n",
    "        \n",
    "        for i in range(n - 1):\n",
    "            word1 = dict[i]\n",
    "            word2 = dict[i + 1]\n",
    "            min_length = min(len(word1), len(word2))\n",
    "            \n",
    "            for j in range(min_length):\n",
    "                if word1[j] != word2[j]:\n",
    "                    u = ord(word1[j]) - ord('a')\n",
    "                    v = ord(word2[j]) - ord('a')\n",
    "                    graph[u].append(v)\n",
    "                    in_degree[v] += 1\n",
    "                    break\n",
    "        \n",
    "        queue = deque()\n",
    "        for i in range(k):\n",
    "            if in_degree[i] == 0:\n",
    "                queue.append(i)\n",
    "        \n",
    "        topo_order = []\n",
    "        \n",
    "        while queue:\n",
    "            node = queue.popleft()\n",
    "            topo_order.append(chr(node + ord('a')))\n",
    "            \n",
    "            for neighbor in graph[node]:\n",
    "                in_degree[neighbor] -= 1\n",
    "                if in_degree[neighbor] == 0:\n",
    "                    queue.append(neighbor)\n",
    "        \n",
    "        if len(topo_order) == k:\n",
    "            return \"\".join(topo_order)\n",
    "        else:\n",
    "            return \"\""
   ]
  }
 ],
 "metadata": {
  "kernelspec": {
   "display_name": "base",
   "language": "python",
   "name": "python3"
  },
  "language_info": {
   "codemirror_mode": {
    "name": "ipython",
    "version": 3
   },
   "file_extension": ".py",
   "mimetype": "text/x-python",
   "name": "python",
   "nbconvert_exporter": "python",
   "pygments_lexer": "ipython3",
   "version": "3.9.16"
  }
 },
 "nbformat": 4,
 "nbformat_minor": 2
}
