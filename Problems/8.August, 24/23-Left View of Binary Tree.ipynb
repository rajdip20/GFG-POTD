{
 "cells": [
  {
   "cell_type": "markdown",
   "metadata": {},
   "source": [
    "Given a Binary Tree, return Left view of it. Left view of a Binary Tree is set of nodes visible when tree is visited from Left side. The task is to complete the function **leftView()**, which accepts root of the tree as argument. If no left view is possible, return an empty tree.<br>\n",
    "\n",
    "Left view of following tree is 1 2 4 8.<br>\n",
    "\n",
    "&emsp;&emsp;&emsp;&emsp; 1 <br>\n",
    "&emsp;&emsp;&emsp;&nbsp; / &emsp; \\ <br>\n",
    "&emsp;&emsp;&ensp;&nbsp; 2 &emsp;&ensp;&nbsp; 3 <br>\n",
    "&emsp;&emsp;&nbsp; / &ensp; \\ &ensp; / &ensp; \\ <br>\n",
    "&emsp;&ensp;&nbsp; 4 &emsp; 5   6 &emsp; 7 <br>\n",
    "&emsp;&emsp;&nbsp; \\ <br>\n",
    "&emsp;&emsp;&ensp; 8 <br>\n",
    "\n",
    "<br>\n",
    "\n",
    "**Examples:**\n",
    ">**Input:**<br>\n",
    ">&emsp; 1 <br>\n",
    ">&ensp; / &ensp; \\ <br>\n",
    ">&nbsp; 3 &emsp; 2<br>\n",
    ">**Output:** 1 3\n",
    "\n",
    ">**Input:**<br>\n",
    ">![leftview](../../images/leftview.jpg)<br>\n",
    ">**Output:** 10 20 40\n",
    "\n",
    "<br>\n",
    "\n",
    "**Expected Time Complexity:** O(N).<br>\n",
    "**Expected Auxiliary Space:** O(N).\n",
    "\n",
    "**Constraints:**\n",
    "- >0 <= Number of nodes <= 10<sup>5</sup>\n",
    "- >0 <= Data of a node <= 10<sup>5</sup>"
   ]
  },
  {
   "cell_type": "code",
   "execution_count": 1,
   "metadata": {},
   "outputs": [],
   "source": [
    "'''\n",
    "# Node Class:\n",
    "class Node:\n",
    "    def _init_(self,val):\n",
    "        self.data = val\n",
    "        self.left = None\n",
    "        self.right = None\n",
    "'''\n",
    "\n",
    "# Function to return a list containing elements of left view of the binary tree.\n",
    "def LeftView(root):  \n",
    "    # code here\n",
    "    def findView(node, res, level):\n",
    "        if not node:\n",
    "            return \n",
    "        \n",
    "        if len(res) == level:\n",
    "            res.append(node.data)\n",
    "        \n",
    "        if node.left:\n",
    "            findView(node.left, res, level+1)\n",
    "        \n",
    "        if node.right:\n",
    "            findView(node.right, res, level+1)\n",
    "        \n",
    "    res = []\n",
    "    findView(root, res, 0)\n",
    "    return res"
   ]
  }
 ],
 "metadata": {
  "kernelspec": {
   "display_name": "base",
   "language": "python",
   "name": "python3"
  },
  "language_info": {
   "codemirror_mode": {
    "name": "ipython",
    "version": 3
   },
   "file_extension": ".py",
   "mimetype": "text/x-python",
   "name": "python",
   "nbconvert_exporter": "python",
   "pygments_lexer": "ipython3",
   "version": "3.9.16"
  }
 },
 "nbformat": 4,
 "nbformat_minor": 2
}
