{
 "cells": [
  {
   "cell_type": "markdown",
   "metadata": {},
   "source": [
    "You are given weights and values of items, and put these items in a knapsack of capacity **W** to get the maximum total value in the knapsack. Note that we have only **one quantity of each item**.<br>\n",
    "In other words, given two integer arrays **val** and **wt** which represent values and weights associated with items respectively. Also given an integer W which represents knapsack capacity, find out the **maximum sum values** subset of **val[]** such that the sum of the weights of the corresponding subset is smaller than or equal to **W**. You cannot break an item, **either pick the complete item or don't pick it (0-1 property)**.\n",
    "\n",
    "<br>\n",
    "\n",
    "**Examples:**\n",
    ">**Input:** W = 4, val[] = {1,2,3}, wt[] = {4,5,1}<br>\n",
    ">**Output:** 3<br>\n",
    ">**Explanation:** Choose the last item that weighs 1 unit and holds a value of 3. \n",
    "\n",
    ">**Input:** W = 3, val[] = {1,2,3}, wt[] = {4,5,6}<br>\n",
    ">**Output:** 0<br>\n",
    ">**Explanation:** Every item has a weight exceeding the knapsack's capacity (3).\n",
    "\n",
    "<br>\n",
    "\n",
    "**Expected Time Complexity:** O(N * W).<br>\n",
    "**Expected Auxiliary Space:** O(N * W)\n",
    "\n",
    "**Constraints:**\n",
    "- >2 ≤ N ≤ 1000\n",
    "- >1 ≤ W ≤ 1000\n",
    "- >1 ≤ wt[i] ≤ 1000\n",
    "- >1 ≤ val[i] ≤ 1000"
   ]
  },
  {
   "cell_type": "code",
   "execution_count": 1,
   "metadata": {},
   "outputs": [],
   "source": [
    "class Solution:\n",
    "    # Function to return max value that can be put in knapsack of capacity W.\n",
    "    def knapSack(self, W, wt, val): \n",
    "        # code here\n",
    "        N = len(val)\n",
    "        dp = [[0 for _ in range(W + 1)] for _ in range(N + 1)]\n",
    "\n",
    "        for i in range(1, N + 1):\n",
    "            for j in range(1, W + 1):\n",
    "                if wt[i - 1] <= j:\n",
    "                    dp[i][j] = max(dp[i - 1][j], dp[i - 1][j - wt[i - 1]] + val[i - 1])\n",
    "                else:\n",
    "                    dp[i][j] = dp[i - 1][j]\n",
    "\n",
    "        return dp[N][W]"
   ]
  }
 ],
 "metadata": {
  "kernelspec": {
   "display_name": "base",
   "language": "python",
   "name": "python3"
  },
  "language_info": {
   "codemirror_mode": {
    "name": "ipython",
    "version": 3
   },
   "file_extension": ".py",
   "mimetype": "text/x-python",
   "name": "python",
   "nbconvert_exporter": "python",
   "pygments_lexer": "ipython3",
   "version": "3.9.16"
  }
 },
 "nbformat": 4,
 "nbformat_minor": 2
}
