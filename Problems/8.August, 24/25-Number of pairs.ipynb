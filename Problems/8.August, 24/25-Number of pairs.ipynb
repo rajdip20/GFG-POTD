{
 "cells": [
  {
   "cell_type": "markdown",
   "metadata": {},
   "source": [
    "Given two positive integer arrays **arr** and **brr**, find the number of pairs such that **x<sup>y</sup> > y<sup>x</sup> (raised to power of)** where **x** is an element from **arr** and **y** is an element from **brr**.\n",
    "\n",
    "<br>\n",
    "\n",
    "**Examples:**\n",
    ">**Input:** arr[] = [2, 1, 6], brr[] = [1, 5]<br>\n",
    ">**Output:** 3<br>\n",
    ">**Explanation:** The pairs which follow x<sup>y</sup> > y<sup>x</sup> are: 2<sup>1</sup> > 1<sup>2</sup>,  2<sup>5</sup> > 5<sup>2</sup> and 6<sup>1</sup> > 1<sup>6</sup> .\n",
    "\n",
    ">**Input:** arr[] = [2 3 4 5], brr[] = [1 2 3]<br>\n",
    ">**Output:** 5<br>\n",
    ">**Explanation:** The pairs which follow x<sup>y</sup> > y<sup>x</sup> are: 2<sup>1</sup> > 1<sup>2</sup> , 3<sup>1</sup> > 1<sup>3</sup> , 3<sup>2</sup> > 2<sup>3</sup> , 4<sup>1</sup> > 1<sup>4</sup> , 5<sup>1</sup> > 1<sup>5</sup> .\n",
    "\n",
    "<br>\n",
    "\n",
    "**Expected Time Complexity:** O((N + M)log(N)).<br>\n",
    "**Expected Auxiliary Space:** O(1).\n",
    "\n",
    "**Constraints:**\n",
    "- >1 ≤ arr.size(), brr.size() ≤ 10<sup>5</sup>\n",
    "- >1 ≤ brr[i], arr[i] ≤ 10<sup>3</sup>"
   ]
  },
  {
   "cell_type": "code",
   "execution_count": 1,
   "metadata": {},
   "outputs": [],
   "source": [
    "class Solution:\n",
    "    # Function to count number of pairs such that x^y is greater than y^x.     \n",
    "    def countPairs(self, arr, brr):\n",
    "        # code here\n",
    "        m = len(arr)\n",
    "        n = len(brr)\n",
    "        \n",
    "        x = [i ** (1 / i) for i in arr]\n",
    "        y = [i ** (1 / i) for i in brr]\n",
    "        \n",
    "        x.sort()\n",
    "        y.sort()\n",
    "        \n",
    "        total_pair, j = 0, 0\n",
    "        \n",
    "        for i in range(m):\n",
    "            while j < n and x[i] > y[j]:\n",
    "                j += 1\n",
    "            total_pair += j\n",
    "        \n",
    "        return total_pair"
   ]
  }
 ],
 "metadata": {
  "kernelspec": {
   "display_name": "base",
   "language": "python",
   "name": "python3"
  },
  "language_info": {
   "codemirror_mode": {
    "name": "ipython",
    "version": 3
   },
   "file_extension": ".py",
   "mimetype": "text/x-python",
   "name": "python",
   "nbconvert_exporter": "python",
   "pygments_lexer": "ipython3",
   "version": "3.9.16"
  }
 },
 "nbformat": 4,
 "nbformat_minor": 2
}
