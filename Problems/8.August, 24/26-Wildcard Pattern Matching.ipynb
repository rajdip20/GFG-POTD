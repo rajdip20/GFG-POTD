{
 "cells": [
  {
   "cell_type": "markdown",
   "metadata": {},
   "source": [
    "Given two strings **pattern** and **str** which may be of different size, You have to return **1** if the wildcard pattern i.e. **pattern**, matches with **str** else return **0**. All characters of the string **str** and **pattern** always belong to the Alphanumeric characters.\n",
    "\n",
    "The wildcard pattern can include the characters **\\?** and **\\***<br>\n",
    "**‘?’** – matches any single character.<br>\n",
    "**‘*’** – Matches any sequence of characters (including the empty sequence).\n",
    "\n",
    "**Note:** The matching should cover the entire str (not partial str).\n",
    "\n",
    "<br>\n",
    "\n",
    "**Examples:**\n",
    ">**Input:** pattern = \"ba\\*a?\", str = \"baaabab\"<br>\n",
    ">**Output:** 1<br>\n",
    ">**Explanation:** replace '\\*' with \"aab\" and '?' with 'b'.\n",
    "\n",
    ">**Input:** pattern = \"a\\*ab\", str = \"baaabab\"<br>\n",
    ">**Output:** 0<br>\n",
    ">**Explanation:** Because in string pattern character 'a' at first position, pattern and str can't be matched. \n",
    "\n",
    "<br>\n",
    "\n",
    "**Expected Time Complexity:** O(n * m)<br>\n",
    "**Expected Auxiliary Space:** O(n * m)\n",
    "\n",
    "**Constraints:**\n",
    "- >1 <= length of(str, pattern) <= 200"
   ]
  },
  {
   "cell_type": "code",
   "execution_count": 1,
   "metadata": {},
   "outputs": [],
   "source": [
    "class Solution:\n",
    "    def wildCard(self, pattern, string):\n",
    "        # Code here\n",
    "        n, m = len(pattern), len(string)\n",
    "        dp = [[False] * (m + 1) for _ in range(n + 1)]\n",
    "        dp[0][0] = True\n",
    "        \n",
    "        for i in range(1, n + 1):\n",
    "            if pattern[i - 1] == '*':\n",
    "                dp[i][0] = dp[i - 1][0]\n",
    "        \n",
    "        for i in range(1, n + 1):\n",
    "            for j in range(1, m + 1):\n",
    "                if pattern[i - 1] == '?' or pattern[i - 1] == string[j - 1]:\n",
    "                    dp[i][j] = dp[i - 1][j - 1]\n",
    "                elif pattern[i - 1] == '*':\n",
    "                    dp[i][j] = dp[i - 1][j] or dp[i][j - 1]\n",
    "        \n",
    "        return 1 if dp[n][m] else 0"
   ]
  }
 ],
 "metadata": {
  "kernelspec": {
   "display_name": "base",
   "language": "python",
   "name": "python3"
  },
  "language_info": {
   "codemirror_mode": {
    "name": "ipython",
    "version": 3
   },
   "file_extension": ".py",
   "mimetype": "text/x-python",
   "name": "python",
   "nbconvert_exporter": "python",
   "pygments_lexer": "ipython3",
   "version": "3.9.16"
  }
 },
 "nbformat": 4,
 "nbformat_minor": 2
}
