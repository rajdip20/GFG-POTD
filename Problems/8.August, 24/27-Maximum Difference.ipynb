{
 "cells": [
  {
   "cell_type": "markdown",
   "metadata": {},
   "source": [
    "Given an integer array **arr** of integers, the task is to find the maximum absolute difference between the nearest **left smaller** element and the nearest **right smaller** element of every element in array arr. If for any component of the arr, the nearest smaller element doesn't exist then consider it as 0.\n",
    "\n",
    "<br>\n",
    "\n",
    "**Examples:**\n",
    ">**Input:** arr = [2, 1, 8]<br>\n",
    ">**Output:** 1<br>\n",
    ">**Explanation:** left smaller array ls = [0, 0, 1], right smaller array rs = [1, 0, 0]. Maximum Diff of abs(ls[i] - rs[i]) = 1\n",
    "\n",
    ">**Input:** arr = [2, 4, 8, 7, 7, 9, 3]<br>\n",
    ">**Output:** 4<br>\n",
    ">**Explanation:** left smaller array ls = [0, 2, 4, 4, 4, 7, 2], right smaller rs = [0, 3, 7, 3, 3, 3, 0]. Maximum Diff of abs(ls[i] - rs[i]) = abs(7 - 3) = 4\n",
    "\n",
    "<br>\n",
    "\n",
    "**Expected Time Complexity:** O(n)<br>\n",
    "**Expected Space Complexity:** O(n)\n",
    "\n",
    "**Constraints:**\n",
    "- >1 <= arr.size() <= 10<sup>6</sup>\n",
    "- >1<= arr[i] <=10<sup>9</sup>"
   ]
  },
  {
   "cell_type": "code",
   "execution_count": 1,
   "metadata": {},
   "outputs": [],
   "source": [
    "class Solution:\n",
    "    def findMaxDiff(self, arr):\n",
    "        # code here\n",
    "        n = len(arr)\n",
    "    \n",
    "        left_smaller = [0] * n\n",
    "        right_smaller = [0] * n\n",
    "        stack = []\n",
    "        \n",
    "        for i in range(n):\n",
    "            while stack and arr[stack[-1]] >= arr[i]:\n",
    "                stack.pop()\n",
    "            \n",
    "            if stack:\n",
    "                left_smaller[i] = arr[stack[-1]]\n",
    "            else:\n",
    "                left_smaller[i] = 0\n",
    "            \n",
    "            stack.append(i)\n",
    "        \n",
    "        stack.clear()\n",
    "        \n",
    "        for i in range(n-1, -1, -1):\n",
    "            while stack and arr[stack[-1]] >= arr[i]:\n",
    "                stack.pop()\n",
    "            \n",
    "            if stack:\n",
    "                right_smaller[i] = arr[stack[-1]]\n",
    "            else:\n",
    "                right_smaller[i] = 0\n",
    "            \n",
    "            stack.append(i)\n",
    "        \n",
    "        max_diff = 0\n",
    "        for i in range(n):\n",
    "            max_diff = max(max_diff, abs(left_smaller[i] - right_smaller[i]))\n",
    "        \n",
    "        return max_diff"
   ]
  }
 ],
 "metadata": {
  "kernelspec": {
   "display_name": "base",
   "language": "python",
   "name": "python3"
  },
  "language_info": {
   "codemirror_mode": {
    "name": "ipython",
    "version": 3
   },
   "file_extension": ".py",
   "mimetype": "text/x-python",
   "name": "python",
   "nbconvert_exporter": "python",
   "pygments_lexer": "ipython3",
   "version": "3.9.16"
  }
 },
 "nbformat": 4,
 "nbformat_minor": 2
}
