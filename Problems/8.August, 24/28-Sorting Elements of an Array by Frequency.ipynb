{
 "cells": [
  {
   "cell_type": "markdown",
   "metadata": {},
   "source": [
    "Given an array of integers **arr**, sort the array according to the **frequency** of elements, i.e. elements that have higher frequency comes first. If the frequencies of two elements are the same, then the **smaller number comes first**.\n",
    "\n",
    "<br>\n",
    "\n",
    "**Examples:**\n",
    ">**Input:** arr[] = [5, 5, 4, 6, 4]<br>\n",
    ">**Output:** [4, 4, 5, 5, 6]<br>\n",
    ">**Explanation:** The highest frequency here is 2. Both 5 and 4 have that frequency. Now since the frequencies are the same the smaller element comes first. So 4 4 comes first then comes 5 5. Finally comes 6. The output is **4 4 5 5 6**.\n",
    "\n",
    ">**Input:** arr[] = [9, 9, 9, 2, 5]<br>\n",
    ">**Output:** [9, 9, 9, 2, 5]<br>\n",
    ">**Explanation:** The highest frequency here is 3. Element 9 has the highest frequency So 9 9 9 comes first. Now both 2 and 5 have the same frequency. So we print smaller elements first. The output is **9 9 9 2 5**.\n",
    "\n",
    "<br>\n",
    "\n",
    "**Expected Time Complexity:** O(n * logn)<br>\n",
    "**Expected Space Complexity:** O(n)\n",
    "\n",
    "**Constraints:**\n",
    "- >1 ≤ arr.size() ≤ 10<sup>5</sup>\n",
    "- >1 ≤ arr[i]≤ 10<sup>5</sup>"
   ]
  },
  {
   "cell_type": "code",
   "execution_count": 1,
   "metadata": {},
   "outputs": [],
   "source": [
    "class Solution:\n",
    "    # Function to sort the array according to frequency of elements.\n",
    "    def sortByFreq(self, arr):\n",
    "        # code here\n",
    "        from collections import Counter\n",
    "\n",
    "        freq_map = Counter(arr)\n",
    "        sorted_arr = sorted(arr, key=lambda x: (-freq_map[x], x))\n",
    "        \n",
    "        return sorted_arr"
   ]
  }
 ],
 "metadata": {
  "kernelspec": {
   "display_name": "base",
   "language": "python",
   "name": "python3"
  },
  "language_info": {
   "codemirror_mode": {
    "name": "ipython",
    "version": 3
   },
   "file_extension": ".py",
   "mimetype": "text/x-python",
   "name": "python",
   "nbconvert_exporter": "python",
   "pygments_lexer": "ipython3",
   "version": "3.9.16"
  }
 },
 "nbformat": 4,
 "nbformat_minor": 2
}
