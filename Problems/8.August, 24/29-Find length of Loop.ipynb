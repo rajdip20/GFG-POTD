{
 "cells": [
  {
   "cell_type": "markdown",
   "metadata": {},
   "source": [
    "Given the head of a linked list, determine whether the list contains a loop. If a loop is present, **return the number of nodes** in the loop, otherwise **return 0**.\n",
    "\n",
    "![linkedlist](../../images/linkedlist.png)\n",
    "\n",
    "**Note:** 'c' is the position of the node which is the next pointer of the last node of the linkedlist. If c is 0, then there is no loop.\n",
    "\n",
    "<br>\n",
    "\n",
    "**Examples:**\n",
    ">**Input:** LinkedList: 25->14->19->33->10->21->39->90->58->45, c = 4<br>\n",
    ">**Output:** 7<br>\n",
    ">**Explanation:** The loop is from 33 to 45. So length of loop is 33->10->21->39-> 90->58->45 = **7**. <br>\n",
    ">The number 33 is connected to the last node of the linkedlist to form the loop because according to the input the 4th node from the beginning(1 based indexing) <br>\n",
    ">will be connected to the last node for the loop.<br>\n",
    ">![pic1](../../images/blobid0_1722797558.png)\n",
    "\n",
    ">**Input:** LinkedList: 5->4, c = 0<br>\n",
    ">**Output:** 0<br>\n",
    ">**Explanation:** There is no loop.<br>\n",
    ">![pic2](../../images/blobid3_1722798030.png)\n",
    "\n",
    "<br>\n",
    "\n",
    "**Expected Time Complexity:** O(n)<br>\n",
    "**Expected Auxiliary Space:** O(1)\n",
    "\n",
    "**Constraints:**\n",
    "- >1 <= no. of nodes <= 10<sup>6</sup>\n",
    "- >0 <= node.data <=10<sup>6</sup>\n",
    "- >0 <= c<= n-1"
   ]
  },
  {
   "cell_type": "code",
   "execution_count": 1,
   "metadata": {},
   "outputs": [],
   "source": [
    "'''\n",
    "Structure of node\n",
    "\n",
    "# Node Class\n",
    "class Node:\n",
    "    def __init__(self, data):   # data -> value stored in node\n",
    "        self.data = data\n",
    "        self.next = None\n",
    "\n",
    "'''\n",
    "class Solution:\n",
    "    # Function to find the length of a loop in the linked list.\n",
    "    def countNodesInLoop(self, head):\n",
    "        # Your code here\n",
    "        def calculateLoopLength(slow):\n",
    "            current = slow\n",
    "            length = 1\n",
    "            while current.next != slow:\n",
    "                current = current.next\n",
    "                length += 1\n",
    "            return length\n",
    "    \n",
    "\n",
    "        if not head:\n",
    "            return 0\n",
    "        \n",
    "        slow = fast = head\n",
    "        while fast and fast.next:\n",
    "            slow = slow.next\n",
    "            fast = fast.next.next\n",
    "            if slow == fast:\n",
    "                return calculateLoopLength(slow)\n",
    "        \n",
    "        return 0"
   ]
  }
 ],
 "metadata": {
  "kernelspec": {
   "display_name": "base",
   "language": "python",
   "name": "python3"
  },
  "language_info": {
   "codemirror_mode": {
    "name": "ipython",
    "version": 3
   },
   "file_extension": ".py",
   "mimetype": "text/x-python",
   "name": "python",
   "nbconvert_exporter": "python",
   "pygments_lexer": "ipython3",
   "version": "3.9.16"
  }
 },
 "nbformat": 4,
 "nbformat_minor": 2
}
