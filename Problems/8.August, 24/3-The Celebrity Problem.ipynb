{
 "cells": [
  {
   "cell_type": "markdown",
   "metadata": {},
   "source": [
    "A celebrity is a person who is known to all but **does not know** anyone at a party. A party is being organized by some people.  A square matrix **mat** is used to represent people at the party such that if an element of row i and column j is set to 1 it means ith person knows jth person. You need to return the index of the celebrity in the party, if the celebrity does not exist, return **-1**.\n",
    "\n",
    "**Note:** Follow 0-based indexing.\n",
    "\n",
    "<br>\n",
    "\n",
    "**Examples:**\n",
    ">**Input:** mat[][] = [[0 1 0],<br>\n",
    ">&emsp;&emsp;&emsp;&emsp;&emsp;&emsp;&emsp; [0 0 0], <br>\n",
    ">&emsp;&emsp;&emsp;&emsp;&emsp;&emsp;&emsp; [0 1 0]]<br>\n",
    ">**Output:** 1<br>\n",
    ">**Explanation:** 0th and 2nd person both know 1. Therefore, 1 is the celebrity. \n",
    "\n",
    ">**Input:** mat[][] = [[0 1],<br>\n",
    ">&emsp;&emsp;&emsp;&emsp;&emsp;&emsp;&emsp; [1 0]]<br>\n",
    ">**Output:** -1<br>\n",
    ">**Explanation:** The two people at the party both know each other. None of them is a celebrity.\n",
    "\n",
    "<br>\n",
    "\n",
    "**Expected Time Complexity:** O(n<sup>2</sup>)<br>\n",
    "**Expected Auxiliary Space:** O(1)\n",
    "\n",
    "**Constraints:**\n",
    "- >1 <= mat.size()<= 3000\n",
    "- >0 <= mat[i][j]<= 1"
   ]
  },
  {
   "cell_type": "code",
   "execution_count": 1,
   "metadata": {},
   "outputs": [],
   "source": [
    "class Solution:\n",
    "    def celebrity(self, mat):\n",
    "        # code here\n",
    "        n = len(mat)\n",
    "        left = 0\n",
    "        right = n - 1\n",
    "\n",
    "        while left < right:\n",
    "            if mat[left][right] == 1:\n",
    "                left += 1\n",
    "            else:\n",
    "                right -= 1\n",
    "\n",
    "        candidate = left\n",
    "\n",
    "        for i in range(n):\n",
    "            if i != candidate:\n",
    "                if mat[candidate][i] == 1 or mat[i][candidate] == 0:\n",
    "                    return -1\n",
    "\n",
    "        return candidate"
   ]
  }
 ],
 "metadata": {
  "kernelspec": {
   "display_name": "base",
   "language": "python",
   "name": "python3"
  },
  "language_info": {
   "codemirror_mode": {
    "name": "ipython",
    "version": 3
   },
   "file_extension": ".py",
   "mimetype": "text/x-python",
   "name": "python",
   "nbconvert_exporter": "python",
   "pygments_lexer": "ipython3",
   "version": "3.9.16"
  }
 },
 "nbformat": 4,
 "nbformat_minor": 2
}
