{
 "cells": [
  {
   "cell_type": "markdown",
   "metadata": {},
   "source": [
    "The n-queens puzzle is the problem of placing **n** queens on a **(n×n)** chessboard such that no two queens can attack each other.<br>\n",
    "Given an integer **n**, find all distinct solutions to the **n-queens puzzle**. Each solution contains distinct board configurations of the n-queens placement, where the solutions are a permutation of [1,2,3..n] in increasing order, here the number in the *ith* place denotes that the *ith*-column queen is placed in the row with that number. For eg below figure represents a chessboard **[3 1 4 2]**.\n",
    "\n",
    "![ratinmaze](../../images/ratinmaze_filled11-1.png)\n",
    "\n",
    "<br>\n",
    "\n",
    "**Examples:**\n",
    ">**Input:** 1<br>\n",
    ">**Output:** [1]<br>\n",
    ">**Explaination:** Only one queen can be placed in the single cell available.\n",
    "\n",
    ">**Input:** 4<br>\n",
    ">**Output:** [[2 4 1 3 ],[3 1 4 2 ]]<br>\n",
    ">**Explaination:** These are the 2 possible solutions.\n",
    "\n",
    "<br>\n",
    "\n",
    "**Expected Time Complexity:** O(n!)<br>\n",
    "**Expected Auxiliary Space:** O(n2) \n",
    "\n",
    "**Constraints:**\n",
    "- >1 ≤ n ≤ 10"
   ]
  },
  {
   "cell_type": "code",
   "execution_count": 1,
   "metadata": {},
   "outputs": [],
   "source": [
    "class Solution:\n",
    "    def nQueen(self, n):\n",
    "        # code here\n",
    "        def backtrack(col, positions, columns, diag1, diag2):\n",
    "            if col == n:\n",
    "                solutions.append(positions[:])\n",
    "                return\n",
    "            \n",
    "            for row in range(1, n + 1):\n",
    "                if columns[row] == diag1[col + row] == diag2[col - row + n - 1] == False:\n",
    "                    positions[col] = row\n",
    "                    columns[row] = diag1[col + row] = diag2[col - row + n - 1] = True\n",
    "                    \n",
    "                    backtrack(col + 1, positions, columns, diag1, diag2)\n",
    "                    \n",
    "                    columns[row] = diag1[col + row] = diag2[col - row + n - 1] = False\n",
    "\n",
    "        solutions = []\n",
    "        positions = [0] * n\n",
    "        \n",
    "        columns = [False] * (n + 1)\n",
    "        diag1 = [False] * (2 * n)\n",
    "        diag2 = [False] * (2 * n)\n",
    "        \n",
    "        backtrack(0, positions, columns, diag1, diag2)\n",
    "        \n",
    "        return solutions"
   ]
  }
 ],
 "metadata": {
  "kernelspec": {
   "display_name": "base",
   "language": "python",
   "name": "python3"
  },
  "language_info": {
   "codemirror_mode": {
    "name": "ipython",
    "version": 3
   },
   "file_extension": ".py",
   "mimetype": "text/x-python",
   "name": "python",
   "nbconvert_exporter": "python",
   "pygments_lexer": "ipython3",
   "version": "3.9.16"
  }
 },
 "nbformat": 4,
 "nbformat_minor": 2
}
