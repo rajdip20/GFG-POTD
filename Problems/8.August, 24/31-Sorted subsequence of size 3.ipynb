{
 "cells": [
  {
   "cell_type": "markdown",
   "metadata": {},
   "source": [
    "You are given an array arr, you need to find any three elements in it such that **arr[i] < arr[j] < arr[k]** and **i < j < k**.\n",
    "\n",
    "**Note**:\n",
    "1. The output will be 1 if the subsequence returned by the function is present in the array arr\n",
    "2. If the subsequence is not present in the array then return an empty array, the driver code will print 0.\n",
    "3. If the subsequence returned by the function is not in the format as mentioned then the output will be -1.\n",
    "\n",
    "<br>\n",
    "\n",
    "**Examples:**\n",
    ">**Input:** arr = [1, 2, 1, 1, 3]<br>\n",
    ">**Output:** 1<br>\n",
    ">**Explanation:** A subsequence 1 2 3 exist.\n",
    "\n",
    ">**Input:** arr = [1, 1, 3]<br>\n",
    ">**Output:** 0<br>\n",
    ">**Explanation:** No such Subsequence exist, so empty array is returned (the driver code automatically prints 0 in this case).\n",
    "\n",
    "<br>\n",
    "\n",
    "**Expected Time Complexity:** O(n)<br>\n",
    "**Expected Auxiliary Space:** O(n)\n",
    "\n",
    "**Constraints:**\n",
    "- >1 <= arr.size() <= 10<sup>5</sup>\n",
    "- >1 <= arr[i] <= 10<sup>6</sup>"
   ]
  },
  {
   "cell_type": "code",
   "execution_count": 1,
   "metadata": {},
   "outputs": [],
   "source": [
    "class Solution:\n",
    "    def find3Numbers(self, arr):\n",
    "        # Code Here\n",
    "        n = len(arr)\n",
    "        left, right = [0] * n, [0] * n\n",
    "        m = float('inf')\n",
    "        \n",
    "        for i in range(n):\n",
    "            m = min(m, arr[i])\n",
    "            left[i] = m\n",
    "        \n",
    "        m = float('-inf')\n",
    "        for i in range(n-1, -1, -1):\n",
    "            m = max(m, arr[i])\n",
    "            right[i] = m\n",
    "            \n",
    "        for i in range(n):\n",
    "            if arr[i] > left[i] and arr[i] < right[i]:\n",
    "                return [left[i], arr[i], right[i]]\n",
    "        \n",
    "        return []"
   ]
  }
 ],
 "metadata": {
  "kernelspec": {
   "display_name": "base",
   "language": "python",
   "name": "python3"
  },
  "language_info": {
   "codemirror_mode": {
    "name": "ipython",
    "version": 3
   },
   "file_extension": ".py",
   "mimetype": "text/x-python",
   "name": "python",
   "nbconvert_exporter": "python",
   "pygments_lexer": "ipython3",
   "version": "3.9.16"
  }
 },
 "nbformat": 4,
 "nbformat_minor": 2
}
