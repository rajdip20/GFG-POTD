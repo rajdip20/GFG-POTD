{
 "cells": [
  {
   "cell_type": "markdown",
   "metadata": {},
   "source": [
    "You are given timings of **n** meetings in the form of **(start[i], end[i])** where start[i] is the start time of meeting **i** and end[i] is the finish time of meeting i. Return the **maximum** number of meetings that can be accommodated in a single meeting room, when only one meeting can be held in the meeting room at a particular time. \n",
    "\n",
    "**Note:** The start time of one chosen meeting can't be equal to the end time of the other chosen meeting.\n",
    "\n",
    "<br>\n",
    "\n",
    "**Examples:**\n",
    ">**Input:** n = 6, start[] = [1, 3, 0, 5, 8, 5], end[] =  [2, 4, 6, 7, 9, 9]<br>\n",
    ">**Output:** 4<br>\n",
    ">**Explanation:** Maximum four meetings can be held with given start and end timings. The meetings are - (1, 2), (3, 4), (5,7) and (8,9)\n",
    "\n",
    ">**Input:** n = 3, start[] = [10, 12, 20], end[] = [20, 25, 30]<br>\n",
    ">**Output:** 1<br>\n",
    ">**Explanation:** Only one meetings can be held with given start and end timings.\n",
    "\n",
    "<br>\n",
    "\n",
    "**Expected Time Complexity:** O(n*logn)<br>\n",
    "**Expected Auxilliary Space:** O(n)\n",
    "\n",
    "**Constraints:**\n",
    "- >1 ≤ n ≤ 10<sup>5</sup>\n",
    "- >0 ≤ start[i] < end[i] ≤ 10<sup>6</sup>"
   ]
  },
  {
   "cell_type": "code",
   "execution_count": 1,
   "metadata": {},
   "outputs": [],
   "source": [
    "class Solution:\n",
    "    # Function to find the maximum number of meetings that can\n",
    "    # be performed in a meeting room.\n",
    "    def maximumMeetings(self, n, start, end):\n",
    "        # code here\n",
    "        meetings = list(zip(start, end))\n",
    "        meetings.sort(key=lambda x: x[1])\n",
    "        last_end_time = -1\n",
    "        count = 0\n",
    "        \n",
    "        for s, e in meetings:\n",
    "            if s > last_end_time:\n",
    "                count += 1\n",
    "                last_end_time = e\n",
    "                \n",
    "        return count"
   ]
  }
 ],
 "metadata": {
  "kernelspec": {
   "display_name": "base",
   "language": "python",
   "name": "python3"
  },
  "language_info": {
   "codemirror_mode": {
    "name": "ipython",
    "version": 3
   },
   "file_extension": ".py",
   "mimetype": "text/x-python",
   "name": "python",
   "nbconvert_exporter": "python",
   "pygments_lexer": "ipython3",
   "version": "3.9.16"
  }
 },
 "nbformat": 4,
 "nbformat_minor": 2
}
