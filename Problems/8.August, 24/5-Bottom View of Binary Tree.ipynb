{
 "cells": [
  {
   "cell_type": "markdown",
   "metadata": {},
   "source": [
    "Given a binary **tree**, return an array where elements represent the bottom view of the binary tree from left to right.\n",
    "\n",
    "Note: If there are **multiple** bottom-most nodes for a horizontal distance from the root, then the **latter** one in the level traversal is considered. For example, in the below diagram, 3 and 4 are both the bottommost nodes at a horizontal distance of 0, here **4** will be considered.\n",
    "\n",
    "&emsp;&emsp;&emsp;&emsp;&emsp; 20 <br>\n",
    "&emsp;&emsp;&emsp;&emsp;&ensp; / &ensp; \\ <br>\n",
    "&emsp;&emsp;&emsp;&ensp; 8 &emsp;&ensp; 22 <br>\n",
    "&emsp;&emsp;&ensp;&nbsp; / &ensp; \\ &ensp; / &ensp; \\ <br>\n",
    "&emsp;&emsp; 5 &emsp; 3&ensp;4 &emsp; 25 <br>\n",
    "&emsp;&emsp;&emsp;&ensp; / &ensp; \\ <br>\n",
    "&emsp;&emsp;&emsp; 10 &nbsp; 14 <br>\n",
    "\n",
    "For the above tree, the output should be 5 10 **4** 14 25.\n",
    "\n",
    "<br>\n",
    "\n",
    "**Examples:**\n",
    ">**Input:** <br>\n",
    ">&emsp;&emsp; 1 <br>\n",
    ">&emsp;&nbsp; / &ensp; \\ <br>\n",
    ">&ensp; 3 &emsp;&ensp; 2 <br>\n",
    ">**Output:** 3 1 2 <br>\n",
    ">**Explanation:** First case represents a tree with 3 nodes and 2 edges where root is 1, left child of 1 is 3 and right child of 1 is 2. <br>\n",
    ">![BT-1](../../images/BT-1.jpg) <br>\n",
    ">Thus bottom view of the binary tree will be 3 1 2.\n",
    "\n",
    ">**Input:** <br>\n",
    ">&emsp;&emsp;&emsp; 10 <br>\n",
    ">&emsp;&emsp;&ensp; / &emsp; \\ <br>\n",
    ">&emsp;&ensp; 20 &emsp; 30 <br>\n",
    ">&emsp; / &ensp; \\ <br>\n",
    ">&nbsp; 40 &nbsp; 60 <br>\n",
    ">**Output:** 40 20 60 30\n",
    "\n",
    "<br>\n",
    "\n",
    "**Expected Time Complexity:** O(n) <br>\n",
    "**Expected Auxiliary Space:** O(n)\n",
    "\n",
    "**Constraints:**\n",
    "- >1 <= Number of nodes <= 10<sup>5</sup>\n",
    "- >1 <= Data of a node <= 10<sup>5</sup>"
   ]
  },
  {
   "cell_type": "code",
   "execution_count": 1,
   "metadata": {},
   "outputs": [],
   "source": [
    "class Solution:\n",
    "    def bottomView(self, root):\n",
    "        # code here\n",
    "        from collections import deque\n",
    "        \n",
    "        if not root:\n",
    "            return []\n",
    "\n",
    "        hd_node_map = {}\n",
    "        queue = deque([(root, 0)])\n",
    "\n",
    "        while queue:\n",
    "            node, hd = queue.popleft()\n",
    "            hd_node_map[hd] = node.data\n",
    "            \n",
    "            if node.left:\n",
    "                queue.append((node.left, hd - 1))\n",
    "            \n",
    "            if node.right:\n",
    "                queue.append((node.right, hd + 1))\n",
    "\n",
    "        bottom_view_result = [hd_node_map[hd] for hd in sorted(hd_node_map.keys())]\n",
    "\n",
    "        return bottom_view_result"
   ]
  }
 ],
 "metadata": {
  "kernelspec": {
   "display_name": "base",
   "language": "python",
   "name": "python3"
  },
  "language_info": {
   "codemirror_mode": {
    "name": "ipython",
    "version": 3
   },
   "file_extension": ".py",
   "mimetype": "text/x-python",
   "name": "python",
   "nbconvert_exporter": "python",
   "pygments_lexer": "ipython3",
   "version": "3.9.16"
  }
 },
 "nbformat": 4,
 "nbformat_minor": 2
}
