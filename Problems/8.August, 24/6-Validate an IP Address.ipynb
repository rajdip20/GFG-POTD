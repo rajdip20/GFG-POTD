{
 "cells": [
  {
   "cell_type": "markdown",
   "metadata": {},
   "source": [
    "You are given a string **str** in the form of an IPv4 Address. Your task is to validate an IPv4 Address, if it is valid return **true** otherwise return **false**.\n",
    "\n",
    "&emsp;&emsp;&emsp; [**IPv4 addresses**](http://en.wikipedia.org/wiki/IP_address) are canonically represented in dot-decimal notation, which consists of four decimal numbers, each ranging from 0 to 255, separated by dots, e.g., 172.16.254.1\n",
    "\n",
    "&emsp;&emsp;&emsp; A **valid IPv4 Address** is of the form x1.x2.x3.x4 where **0 <= (x1, x2, x3, x4) <= 255**. Thus, we can write the generalized form of an IPv4 address as (0-255).(0-255).(0-255).(0-255)\n",
    "\n",
    "Note: Here we are considering numbers only from 0 to 255 and any additional **leading zeroes** will be considered invalid.\n",
    "\n",
    "<br>\n",
    "\n",
    "**Examples:**\n",
    ">**Input:** str = 222.111.111.111<br>\n",
    ">**Output:** true<br>\n",
    ">**Explanation:** Here, the IPv4 address is as per the criteria mentioned and also all four decimal numbers lies in the mentioned range.\n",
    "\n",
    ">**Input:** str = 5555..555<br>\n",
    ">**Output:** false<br>\n",
    ">**Explanation:** 5555..555 is not a valid. IPv4 address, as the middle two portions are missing.\n",
    "\n",
    "<br>\n",
    "\n",
    "**Expected Time Complexity:** O(n)<br>\n",
    "**Expected Auxiliary Space:** O(1)\n",
    "\n",
    "**Constraints:**\n",
    "- >1<=str.length()<=15"
   ]
  },
  {
   "cell_type": "code",
   "execution_count": 1,
   "metadata": {},
   "outputs": [],
   "source": [
    "class Solution:\n",
    "    def isValid(self, ip):\n",
    "        # code here\n",
    "        parts = ip.split('.')\n",
    "    \n",
    "        if len(parts) != 4:\n",
    "            return False\n",
    "        \n",
    "        for part in parts:\n",
    "            if not part.isdigit():\n",
    "                return False\n",
    "            \n",
    "            num = int(part)\n",
    "            \n",
    "            if not (0 <= num <= 255):\n",
    "                return False\n",
    "            \n",
    "            if part != str(num):\n",
    "                return False\n",
    "        \n",
    "        return True"
   ]
  }
 ],
 "metadata": {
  "kernelspec": {
   "display_name": "base",
   "language": "python",
   "name": "python3"
  },
  "language_info": {
   "codemirror_mode": {
    "name": "ipython",
    "version": 3
   },
   "file_extension": ".py",
   "mimetype": "text/x-python",
   "name": "python",
   "nbconvert_exporter": "python",
   "pygments_lexer": "ipython3",
   "version": "3.9.16"
  }
 },
 "nbformat": 4,
 "nbformat_minor": 2
}
