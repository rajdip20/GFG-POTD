{
 "cells": [
  {
   "cell_type": "markdown",
   "metadata": {},
   "source": [
    "Given two sorted arrays **arr1** and **arr2** and an element **k**. The task is to find the element that would be at the k<sup>th</sup> position of the combined sorted array.\n",
    "\n",
    "<br>\n",
    "\n",
    "**Examples:**\n",
    ">**Input:** k = 5, arr1[] = [2, 3, 6, 7, 9], arr2[] = [1, 4, 8, 10]<br>\n",
    ">**Output:** 6<br>\n",
    ">**Explanation:** The final combined sorted array would be - 1, 2, 3, 4, 6, 7, 8, 9, 10. The 5th element of this array is 6.\n",
    "\n",
    ">**Input:** k = 7, arr1[] = [100, 112, 256, 349, 770], arr2[] = [72, 86, 113, 119, 265, 445, 892]<br>\n",
    ">**Output:** 256<br>\n",
    ">**Explanation:** Combined sorted array is - 72, 86, 100, 112, 113, 119, 256, 265, 349, 445, 770, 892. 7th element of this array is 256.\n",
    "\n",
    "<br>\n",
    "\n",
    "**Expected Time Complexity:** O(log(n) + log(m))<br>\n",
    "**Expected Auxiliary Space:** O(log (n))\n",
    "\n",
    "**Constraints:**\n",
    "- >1 <= k<= arr1.size()+arr2.size()\n",
    "- >1 <= arr1.size(), arr2.size() <= 10<sup>6</sup>\n",
    "- >0 <= arr1[i], arr2[i] < 10<sup>8</sup>"
   ]
  },
  {
   "cell_type": "code",
   "execution_count": 1,
   "metadata": {},
   "outputs": [],
   "source": [
    "class Solution:\n",
    "    def kthElement(self, k, arr1, arr2):\n",
    "        arr1 = sorted(arr1 + arr2)\n",
    "        \n",
    "        return arr1[k-1]"
   ]
  }
 ],
 "metadata": {
  "kernelspec": {
   "display_name": "base",
   "language": "python",
   "name": "python3"
  },
  "language_info": {
   "codemirror_mode": {
    "name": "ipython",
    "version": 3
   },
   "file_extension": ".py",
   "mimetype": "text/x-python",
   "name": "python",
   "nbconvert_exporter": "python",
   "pygments_lexer": "ipython3",
   "version": "3.9.16"
  }
 },
 "nbformat": 4,
 "nbformat_minor": 2
}
