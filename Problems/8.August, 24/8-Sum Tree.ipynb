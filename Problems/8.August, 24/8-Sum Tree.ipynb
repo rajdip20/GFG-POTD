{
 "cells": [
  {
   "cell_type": "markdown",
   "metadata": {},
   "source": [
    "Given a Binary Tree. Check for the **Sum Tree** for every node except the leaf node. Return true if it is a Sum Tree otherwise, return false.\n",
    "\n",
    "&emsp;&emsp;&emsp; A **SumTree** is a Binary Tree where the value of a node is equal to the sum of the nodes present in its **left** subtree and **right** subtree. An empty tree is also a Sum Tree as the sum of an empty tree can be considered to be **0**. A leaf node is also considered a Sum Tree.\n",
    "\n",
    "<br>\n",
    "\n",
    "**Examples:**\n",
    ">**Input:** <br>\n",
    ">&emsp;&emsp; 3 <br>\n",
    ">&emsp;&ensp; / &ensp; \\ <br>\n",
    ">&emsp; 1 &emsp; 2 <br>\n",
    ">**Output:** true <br>\n",
    ">**Explanation:** The sum of left subtree and right subtree is 1 + 2 = 3, which is the value of the root node. Therefore,the given binary tree is a sum tree.\n",
    "\n",
    ">**Input:** <br>\n",
    ">&emsp;&emsp;&emsp;&emsp; 10 <br>\n",
    ">&emsp;&emsp;&emsp;&ensp; / &emsp; \\ <br>\n",
    ">&emsp;&emsp;&emsp; 20 &emsp; 30 <br>\n",
    ">&emsp;&emsp;&ensp; / &emsp; \\ <br>\n",
    ">&emsp;&emsp; 10 &emsp; 10 <br>\n",
    ">**Output:** false <br>\n",
    ">**Explanation:** The given tree is not a sum tree. For the root node, sum of elements in left subtree is 40 and sum of elements in right subtree is 30. Root element = 10 which is not equal to 30+40.\n",
    "\n",
    "<br>\n",
    "\n",
    "**Expected Time Complexity:** O(n) <br>\n",
    "**Expected Auxiliary Space:** O(Height of the Tree)\n",
    "\n",
    "**Constraints:**\n",
    "- >2 ≤ number of nodes ≤ 10<sup>5</sup>\n",
    "- >1 ≤ node value ≤ 10<sup>5</sup>"
   ]
  },
  {
   "cell_type": "code",
   "execution_count": 1,
   "metadata": {},
   "outputs": [],
   "source": [
    "'''\n",
    "class Node:\n",
    "    def __init__(self, data):\n",
    "        self.data = data\n",
    "        self.left = None\n",
    "        self.right = None\n",
    "'''\n",
    "\n",
    "class Solution:\n",
    "    def is_sum_tree(self, node):\n",
    "        # code here\n",
    "        def sum_tree_and_check(node):\n",
    "            if node is None:\n",
    "                return True, 0\n",
    "            \n",
    "            if node.left is None and node.right is None:\n",
    "                return True, node.data\n",
    "            \n",
    "            left_is_sum_tree, left_sum = sum_tree_and_check(node.left)\n",
    "            right_is_sum_tree, right_sum = sum_tree_and_check(node.right)\n",
    "            \n",
    "            is_sum_tree_current = left_is_sum_tree and right_is_sum_tree and (node.data == left_sum + right_sum)\n",
    "            \n",
    "            return is_sum_tree_current, node.data + left_sum + right_sum\n",
    "        \n",
    "        is_sum_tree_result, _ = sum_tree_and_check(node)\n",
    "        return is_sum_tree_result"
   ]
  }
 ],
 "metadata": {
  "kernelspec": {
   "display_name": "base",
   "language": "python",
   "name": "python3"
  },
  "language_info": {
   "codemirror_mode": {
    "name": "ipython",
    "version": 3
   },
   "file_extension": ".py",
   "mimetype": "text/x-python",
   "name": "python",
   "nbconvert_exporter": "python",
   "pygments_lexer": "ipython3",
   "version": "3.9.16"
  }
 },
 "nbformat": 4,
 "nbformat_minor": 2
}
