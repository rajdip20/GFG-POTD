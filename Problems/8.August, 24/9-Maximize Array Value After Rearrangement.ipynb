{
 "cells": [
  {
   "cell_type": "markdown",
   "metadata": {},
   "source": [
    "Given an array **arr** of **n** integers. Your task is to write a program to find the maximum value of **∑arr[i] * i**, where i = 0, 1, 2,., n-1. You are allowed to rearrange the elements of the array.\n",
    "\n",
    "**Note**: Since the output could be large, print the answer modulo **10<sup>9</sup>+7**.\n",
    "\n",
    "<br>\n",
    "\n",
    "**Examples:**\n",
    ">**Input:** arr[] = [5, 3, 2, 4, 1]<br>\n",
    ">**Output:** 40<br>\n",
    ">**Explanation:** If we arrange the array as 1 2 3 4 5 then we can see that the minimum index will multiply with minimum number and maximum index will multiply with maximum number. So, 1 * 0 + 2 * 1 + 3 * 2 + 4 * 3 + 5 * 4 = 0+2+6+12+20 = 40 mod(10<sup>9</sup>+7) = 40\n",
    "\n",
    ">**Input:** arr[] = [1, 2, 3]<br>\n",
    ">**Output:** 8\n",
    "\n",
    "<br>\n",
    "\n",
    "**Expected Time Complexity:** O(nlog(n))<br>\n",
    "**Expected Auxiliary Space:** O(1)\n",
    "\n",
    "**Constraints:**\n",
    "- >1 ≤ arr.size ≤ 10<sup>5</sup>\n",
    "- >1 ≤ arri ≤ 10<sup>5</sup>"
   ]
  },
  {
   "cell_type": "code",
   "execution_count": 1,
   "metadata": {},
   "outputs": [],
   "source": [
    "class Solution:\n",
    "    def Maximize(self, arr): \n",
    "        # Complete the function\n",
    "        MOD = 10**9 + 7\n",
    "\n",
    "        arr.sort()\n",
    "        result = 0\n",
    "        for i in range(len(arr)):\n",
    "            result += arr[i] * i\n",
    "            result %= MOD\n",
    "        \n",
    "        return result"
   ]
  }
 ],
 "metadata": {
  "kernelspec": {
   "display_name": "base",
   "language": "python",
   "name": "python3"
  },
  "language_info": {
   "codemirror_mode": {
    "name": "ipython",
    "version": 3
   },
   "file_extension": ".py",
   "mimetype": "text/x-python",
   "name": "python",
   "nbconvert_exporter": "python",
   "pygments_lexer": "ipython3",
   "version": "3.9.16"
  }
 },
 "nbformat": 4,
 "nbformat_minor": 2
}
