{
 "cells": [
  {
   "cell_type": "markdown",
   "metadata": {},
   "source": [
    "Given two strings, one is a text string, **txt** and other is a pattern string, **pat**. The task is to print the indexes of **all the occurences** of pattern string in the text string. Use one-based indexing while returing the indices. <br>\n",
    "**Note:** Return an empty list incase of no occurences of pattern. Driver will print -1 in this case.\n",
    "\n",
    "<br>\n",
    "\n",
    "**Example 1:**\n",
    "\n",
    ">**Input:**<br>\n",
    ">txt = \"geeksforgeeks\"<br>\n",
    ">pat = \"geek\"<br>\n",
    ">**Output:** <br>\n",
    ">1 9<br>\n",
    ">**Explanation:** <br>\n",
    ">The string \"geek\" occurs twice in txt, one starts are index 1 and the other at index 9. \n",
    "\n",
    "\n",
    "**Example 2:**\n",
    "\n",
    ">**Input:** <br>\n",
    ">txt = \"abesdu\"<br>\n",
    ">pat = \"edu\"<br>\n",
    ">**Output:** <br>\n",
    ">-1<br>\n",
    ">**Explanation:**<br>\n",
    ">There's not substring \"edu\" present in txt.\n",
    "\n",
    "<br>\n",
    "\n",
    "**Your Task:**\n",
    "\n",
    "You don't need to read input or print anything. Your task is to complete the function **search()** which takes the string **txt** and the string **pat** as inputs and returns an array denoting the start indices (1-based) of substring pat in the string txt. \n",
    "\n",
    "**Expected Time Complexity:** O(|txt|).<br>\n",
    "**Expected Auxiliary Space:** O(|txt|).\n",
    "\n",
    "**Constraints:**\n",
    "- >1 ≤ |txt| ≤ 10<sup>5</sup>\n",
    "- >1 ≤ |pat| < |S|<br>\n",
    "- Both the strings consists of lowercase English alphabets."
   ]
  },
  {
   "cell_type": "code",
   "execution_count": 1,
   "metadata": {},
   "outputs": [],
   "source": [
    "class Solution:\n",
    "    def search(self, pat, txt):\n",
    "        # code here\n",
    "        lst = []\n",
    "        i = 0\n",
    "\n",
    "        while i < len(txt):\n",
    "            i = txt.find(pat, i)\n",
    "            if i == -1:\n",
    "                break\n",
    "            lst.append(i + 1)\n",
    "            i += 1\n",
    "\n",
    "        return lst"
   ]
  }
 ],
 "metadata": {
  "kernelspec": {
   "display_name": "base",
   "language": "python",
   "name": "python3"
  },
  "language_info": {
   "codemirror_mode": {
    "name": "ipython",
    "version": 3
   },
   "file_extension": ".py",
   "mimetype": "text/x-python",
   "name": "python",
   "nbconvert_exporter": "python",
   "pygments_lexer": "ipython3",
   "version": "3.9.16"
  }
 },
 "nbformat": 4,
 "nbformat_minor": 2
}
