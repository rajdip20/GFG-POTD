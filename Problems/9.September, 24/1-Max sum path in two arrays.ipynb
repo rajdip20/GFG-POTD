{
 "cells": [
  {
   "cell_type": "markdown",
   "metadata": {},
   "source": [
    "Given two **sorted** arrays of **distinct** integers **arr1** and **arr2**. Each array may have some elements in common with the other array. Find the **maximum sum of a path** from the beginning of any array to the end of any array. You can switch from one array to another array only at the common elements.\n",
    "\n",
    "**Note:** When we switch from one array to other,  we need to consider the common element only once in the result.\n",
    "\n",
    "<br>\n",
    "\n",
    "**Examples:**\n",
    ">**Input:** arr1 = [2, 3, 7, 10, 12] , arr2 = [1, 5, 7, 8]<br>\n",
    ">**Output:** 35<br>\n",
    ">**Explanation:** The path will be 1+5+7+10+12 = 35, where 1 and 5 come from arr2 and then 7 is common so we switch to arr1 and add 10 and 12.\n",
    "\n",
    ">**Input:** arr1 = [1, 2, 3] , arr2[] = [3, 4, 5]<br>\n",
    ">**Output:** 15<br>\n",
    ">**Explanation:** The path will be 1+2+3+4+5=15.\n",
    "\n",
    "<br>\n",
    "\n",
    "**Expected Time Complexity:** O(m + n)<br>\n",
    "**Expected Auxiliary Space:** O(1)\n",
    "\n",
    "\n",
    "**Constraints:**\n",
    "- >1 <= arr1.size(), arr2.size() <= 10<sup>4</sup>\n",
    "- >1 <= arr1[i], arr2[i] <= 10<sup>5</sup>"
   ]
  },
  {
   "cell_type": "code",
   "execution_count": 1,
   "metadata": {},
   "outputs": [],
   "source": [
    "class Solution:\n",
    "    def maxPathSum(self, arr1, arr2):\n",
    "        # Code here\n",
    "        m, n = len(arr1), len(arr2)\n",
    "        i, j = 0, 0\n",
    "        sum1, sum2, result = 0, 0, 0\n",
    "\n",
    "        while i < m and j < n:\n",
    "            if arr1[i] < arr2[j]:\n",
    "                sum1 += arr1[i]\n",
    "                i += 1\n",
    "            elif arr1[i] > arr2[j]:\n",
    "                sum2 += arr2[j]\n",
    "                j += 1\n",
    "            else:\n",
    "                result += max(sum1, sum2) + arr1[i]\n",
    "                i += 1\n",
    "                j += 1\n",
    "                sum1, sum2 = 0, 0\n",
    "\n",
    "        while i < m:\n",
    "            sum1 += arr1[i]\n",
    "            i += 1\n",
    "\n",
    "        while j < n:\n",
    "            sum2 += arr2[j]\n",
    "            j += 1\n",
    "\n",
    "        result += max(sum1, sum2)\n",
    "\n",
    "        return result"
   ]
  }
 ],
 "metadata": {
  "kernelspec": {
   "display_name": "base",
   "language": "python",
   "name": "python3"
  },
  "language_info": {
   "codemirror_mode": {
    "name": "ipython",
    "version": 3
   },
   "file_extension": ".py",
   "mimetype": "text/x-python",
   "name": "python",
   "nbconvert_exporter": "python",
   "pygments_lexer": "ipython3",
   "version": "3.9.16"
  }
 },
 "nbformat": 4,
 "nbformat_minor": 2
}
