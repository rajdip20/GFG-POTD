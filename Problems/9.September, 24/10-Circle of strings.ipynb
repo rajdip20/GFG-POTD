{
 "cells": [
  {
   "cell_type": "markdown",
   "metadata": {},
   "source": [
    "Given an array **arr** of lowercase strings, determine if the strings can be chained together to form a circle.<br>\n",
    "A string **X** can be chained together with another string **Y** if the last character of **X** is the same as the first character of **Y**. If every string of the array can be chained with exactly two strings of the array(one with the first character and the second with the last character of the string), it will form a circle.\n",
    "\n",
    "**For example**, for the array arr[] = {\"for\", \"geek\", \"rig\", \"kaf\"} the answer will be Yes as the given strings can be chained as \"for\", \"rig\", \"geek\" and \"kaf\"\n",
    "\n",
    "<br>\n",
    "\n",
    "**Examples:**\n",
    ">**Input:** arr[] = [\"abc\", \"bcd\", \"cdf\"]<br>\n",
    ">**Output:** 0<br>\n",
    ">**Explaination:** These strings can't form a circle because no string has 'd'at the starting index.\n",
    "\n",
    ">**Input:** arr[] = [\"ab\" , \"bc\", \"cd\", \"da\"]<br>\n",
    ">**Output:** 1<br>\n",
    ">**Explaination:** These strings can form a circle of strings.\n",
    "\n",
    "<br>\n",
    "\n",
    "**Expected Time Complexity:** O(n)<br>\n",
    "**Expected Auxiliary Space:** O(n)\n",
    "\n",
    "**Constraints:** \n",
    "- >1 ≤ length of strings ≤ 20"
   ]
  },
  {
   "cell_type": "code",
   "execution_count": 1,
   "metadata": {},
   "outputs": [],
   "source": [
    "class Solution:\n",
    "    def isCircle(self, arr):\n",
    "        # code here\n",
    "        from collections import defaultdict\n",
    "\n",
    "        \n",
    "        def dfs(node, adj, visited):\n",
    "            visited.add(node)\n",
    "            for neighbor in adj[node]:\n",
    "                if neighbor not in visited:\n",
    "                    dfs(neighbor, adj, visited)\n",
    "        \n",
    "        adj = defaultdict(list)\n",
    "        in_degree = defaultdict(int)\n",
    "        out_degree = defaultdict(int)\n",
    "        \n",
    "        for word in arr:\n",
    "            start = word[0]\n",
    "            end = word[-1]\n",
    "            adj[start].append(end)\n",
    "            out_degree[start] += 1\n",
    "            in_degree[end] += 1\n",
    "        \n",
    "        for node in set(in_degree.keys()).union(set(out_degree.keys())):\n",
    "            if in_degree[node] != out_degree[node]:\n",
    "                return 0\n",
    "        \n",
    "        visited = set()\n",
    "        start_node = arr[0][0]\n",
    "        dfs(start_node, adj, visited)\n",
    "        \n",
    "        for node in set(in_degree.keys()).union(set(out_degree.keys())):\n",
    "            if node not in visited:\n",
    "                return 0\n",
    "        \n",
    "        return 1"
   ]
  }
 ],
 "metadata": {
  "kernelspec": {
   "display_name": "base",
   "language": "python",
   "name": "python3"
  },
  "language_info": {
   "codemirror_mode": {
    "name": "ipython",
    "version": 3
   },
   "file_extension": ".py",
   "mimetype": "text/x-python",
   "name": "python",
   "nbconvert_exporter": "python",
   "pygments_lexer": "ipython3",
   "version": "3.9.16"
  }
 },
 "nbformat": 4,
 "nbformat_minor": 2
}
