{
 "cells": [
  {
   "cell_type": "markdown",
   "metadata": {},
   "source": [
    "Given an array **arr** containing the lengths of the different ropes, we need to connect these ropes to form one rope. The cost to connect two ropes is equal to sum of their lengths. The task is to connect the ropes with minimum cost.  \n",
    "\n",
    "<br>\n",
    "\n",
    "**Examples:**\n",
    ">**Input:** arr[] = [4, 3, 2, 6]<br>\n",
    ">**Output:** 29<br>\n",
    ">**Explanation:** We can connect the ropes in following ways.<br>\n",
    ">1) First connect ropes of lengths 2 and 3. Which makes the array [4, 5, 6]. Cost of this operation 2 + 3 = 5. <br>\n",
    ">2) Now connect ropes of lengths 4 and 5. Which makes the array [9, 6]. Cost of this operation 4 + 5 = 9.<br>\n",
    ">3) Finally connect the two ropes and all ropes have connected. Cost of this operation 9 + 6 =15<br>\n",
    ">\n",
    ">Total cost for connecting all ropes is 5 + 9 + 15 = 29. This is the optimized cost for connecting ropes. <br>\n",
    ">Other ways of connecting ropes would always have same or more cost. For example, if we connect 4 and 6 first (we get three rope of 3, 2 and 10), then connect 10 and 3 (we gettwo rope of 13 and 2). Finally we connect 13 and 2. Total cost in this way is 10 + 13 + 15 = 38.\n",
    "\n",
    ">**Input:** arr[] = [4, 2, 7, 6, 9]<br>\n",
    ">**Output:** 62 <br>\n",
    ">**Explanation:** First, connect ropes 4 and 2, which makes the array [6, 7, 6, 9]. Cost of this operation 4 + 2 = 6. <br>\n",
    ">Next, add ropes 6 and 6, which results in [12, 7, 9]. Cost of this operation 6 + 6 = 12.<br>\n",
    ">Then, add 7 and 9, which makes the array [12,16]. Cost of this operation 7 + 9 = 16. And<br>\n",
    ">finally, add these two which gives [28]. Hence, the total cost is 6 + 12 + 16 + 28 = 62.\n",
    "\n",
    "<br>\n",
    "\n",
    "**Expected Time Complexity:** O(n logn)<br>\n",
    "**Expected Auxilliary Space:** O(n)\n",
    "\n",
    "**Constraints:**\n",
    "- >1 ≤ arr.size() ≤ 20<sup>5</sup>\n",
    "- >1 ≤ arr[i] ≤ 10<sup>6</sup>"
   ]
  },
  {
   "cell_type": "code",
   "execution_count": 1,
   "metadata": {},
   "outputs": [],
   "source": [
    "class Solution:\n",
    "    #Function to return the minimum cost of connecting the ropes.\n",
    "   def minCost(self, arr: list[int]) -> int:\n",
    "        # code here\n",
    "        import heapq\n",
    "        \n",
    "        total_cost = 0\n",
    "        heapq.heapify(arr)\n",
    "        \n",
    "        while len(arr) > 1:\n",
    "            first_rope = heapq.heappop(arr)\n",
    "            second_rope = heapq.heappop(arr)\n",
    "            \n",
    "            merged_rope = first_rope + second_rope            \n",
    "            total_cost += merged_rope\n",
    "\n",
    "            heapq.heappush(arr, merged_rope)\n",
    "        \n",
    "        return total_cost"
   ]
  }
 ],
 "metadata": {
  "kernelspec": {
   "display_name": "base",
   "language": "python",
   "name": "python3"
  },
  "language_info": {
   "codemirror_mode": {
    "name": "ipython",
    "version": 3
   },
   "file_extension": ".py",
   "mimetype": "text/x-python",
   "name": "python",
   "nbconvert_exporter": "python",
   "pygments_lexer": "ipython3",
   "version": "3.9.16"
  }
 },
 "nbformat": 4,
 "nbformat_minor": 2
}
