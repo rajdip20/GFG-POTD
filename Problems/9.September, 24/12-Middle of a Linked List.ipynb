{
 "cells": [
  {
   "cell_type": "markdown",
   "metadata": {},
   "source": [
    "Given the head of a linked list, the task is to find the **middle**. For example, the middle of **1-> 2->3->4->5** is **3**. If there are two middle nodes (even count), return the **second middle**. For example, middle of **1->2->3->4->5->6** is **4**.\n",
    "\n",
    "<br>\n",
    "\n",
    "**Examples:**\n",
    ">**Input:** Linked list: 1->2->3->4->5<br>\n",
    ">**Output:** 3<br>\n",
    ">![image1](../../images/blobid0_1721970743.png)<br>\n",
    ">**Explanation:** The given linked list is 1->2->3->4->5 and its middle is 3.\n",
    "\n",
    ">**Input:** Linked list: 2->4->6->7->5->1<br>\n",
    ">**Output:** 7 <br>\n",
    ">![image2](../../images/blobid1_1721970760.png)<br>\n",
    ">**Explanation:** The given linked list is 2->4->6->7->5->1 and its middle is 7.\n",
    "\n",
    "<br>\n",
    "\n",
    "**Expected Time Complexity:** O(n)<br>\n",
    "**Expected Auxiliary Space:** O(1)\n",
    "\n",
    "**Constraints:**\n",
    "- >1 <= no. of nodes <= 10<sup>5</sup>"
   ]
  },
  {
   "cell_type": "code",
   "execution_count": 1,
   "metadata": {},
   "outputs": [],
   "source": [
    "'''\n",
    "class node:\n",
    "    def __init__(data):\n",
    "        self.data = data\n",
    "        self.next = None\n",
    "'''\n",
    "class Solution:\n",
    "    #  Should return data of middle node. If linked list is empty, then  -1\n",
    "    def findMid(self, head):\n",
    "        # Code here\n",
    "        # return the value stored in the middle node\n",
    "        slow = head\n",
    "        fast = head\n",
    "        \n",
    "        while fast is not None and fast.next is not None:\n",
    "            slow = slow.next\n",
    "            fast = fast.next.next\n",
    "        \n",
    "        return slow.data"
   ]
  }
 ],
 "metadata": {
  "kernelspec": {
   "display_name": "base",
   "language": "python",
   "name": "python3"
  },
  "language_info": {
   "codemirror_mode": {
    "name": "ipython",
    "version": 3
   },
   "file_extension": ".py",
   "mimetype": "text/x-python",
   "name": "python",
   "nbconvert_exporter": "python",
   "pygments_lexer": "ipython3",
   "version": "3.9.16"
  }
 },
 "nbformat": 4,
 "nbformat_minor": 2
}
