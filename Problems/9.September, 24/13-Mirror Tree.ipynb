{
 "cells": [
  {
   "cell_type": "markdown",
   "metadata": {},
   "source": [
    "Given a Binary Tree, convert it into its mirror.<br>\n",
    "![MirrorTree1](../../images/mirrortrees.jpg)\n",
    "\n",
    "<br>\n",
    "\n",
    "**Examples:**\n",
    ">**Input:** <br>\n",
    ">&emsp;&emsp; 1 <br>\n",
    ">&emsp;&ensp; / &ensp; \\ <br>\n",
    ">&emsp; 2 &emsp; 3 <br>\n",
    ">**Output:** 3 1 2 <br>\n",
    ">**Explanation:** The tree is <br>\n",
    ">&emsp;&emsp; 1 &emsp;&emsp; (mirror) &emsp;&emsp; 1 <br>\n",
    ">&emsp;&ensp; / &ensp; \\ &emsp;&emsp;&nbsp; => &emsp;&emsp;&nbsp; / &ensp; \\ <br>\n",
    ">&emsp; 2 &emsp; 3 &emsp;&emsp;&emsp;&emsp;&emsp;&ensp;&nbsp; 3 &emsp; 2 <br>\n",
    ">The inorder of mirror is 3 1 2 <br>\n",
    "\n",
    ">**Input:** <br>\n",
    ">&emsp;&emsp;&emsp; 10 <br>\n",
    ">&emsp;&emsp;&ensp; / &ensp; \\ <br>\n",
    ">&emsp;&ensp; 20 &emsp; 30 <br>\n",
    ">&emsp; / &ensp; \\ <br>\n",
    ">&nbsp;40 &emsp; 60 <br>\n",
    ">**Output:** 30 10 60 20 40 <br>\n",
    ">**Explanation:** The tree is <br>\n",
    ">&emsp;&emsp;&emsp; 10 &emsp;&emsp;&emsp;&emsp;&emsp;&emsp;&emsp;&emsp;&emsp;&emsp; 10 <br>\n",
    ">&emsp;&emsp;&ensp; / &ensp; \\ &emsp;&emsp;&emsp; (mirror) &emsp;&emsp;&ensp; / &ensp; \\ <br>\n",
    ">&emsp;&ensp; 20 &emsp; 30 &emsp;&emsp;&emsp;&nbsp;  => &emsp;&emsp;&ensp; 30 &emsp; 20 <br>\n",
    ">&emsp; / &ensp; \\ &emsp;&emsp;&emsp;&emsp;&emsp;&emsp;&emsp;&emsp;&emsp;&emsp;&emsp;&emsp;&nbsp; / &ensp; \\ <br>\n",
    ">&nbsp; 40 &emsp; 60 &emsp;&emsp;&emsp;&emsp;&emsp;&emsp;&emsp;&emsp;&emsp;&emsp; 60 &emsp; 40 <br>\n",
    ">The inroder traversal of mirror is: 30 10 60 20 40.\n",
    "\n",
    "<br>\n",
    "\n",
    "**Expected Time Complexity:** O(n) <br>\n",
    "**Expected Auxiliary Space:** O(height of the tree)\n",
    "\n",
    "**Constraints:**\n",
    "- >1 ≤ Number of nodes ≤ 10<sup>5</sup>\n",
    "- >1 ≤ Data of a node ≤ 10<sup>5</sup>"
   ]
  },
  {
   "cell_type": "code",
   "execution_count": 1,
   "metadata": {},
   "outputs": [],
   "source": [
    "'''\n",
    "class Node:\n",
    "    def _init_(self, val):\n",
    "        self.right = None\n",
    "        self.data = val\n",
    "        self.left = None\n",
    "'''\n",
    "# your task is to complete this function\n",
    "\n",
    "class Solution:\n",
    "    # Function to convert a binary tree into its mirror tree.\n",
    "    def mirror(self, root):\n",
    "        # Code here\n",
    "        if root is None:\n",
    "            return None\n",
    "        \n",
    "        root.left, root.right = root.right, root.left\n",
    "        \n",
    "        self.mirror(root.left)\n",
    "        self.mirror(root.right)\n",
    "        \n",
    "        return root"
   ]
  }
 ],
 "metadata": {
  "kernelspec": {
   "display_name": "base",
   "language": "python",
   "name": "python3"
  },
  "language_info": {
   "codemirror_mode": {
    "name": "ipython",
    "version": 3
   },
   "file_extension": ".py",
   "mimetype": "text/x-python",
   "name": "python",
   "nbconvert_exporter": "python",
   "pygments_lexer": "ipython3",
   "version": "3.9.16"
  }
 },
 "nbformat": 4,
 "nbformat_minor": 2
}
