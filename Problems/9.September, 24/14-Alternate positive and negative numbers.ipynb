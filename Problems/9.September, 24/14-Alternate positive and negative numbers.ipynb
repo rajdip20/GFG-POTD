{
 "cells": [
  {
   "cell_type": "markdown",
   "metadata": {},
   "source": [
    "Given an unsorted array **arr** containing both **positive** and **negative** numbers. Your task is to create an array of alternate positive and negative numbers without changing the relative order of positive and negative numbers.<br>\n",
    "**Note:** Array should start with a positive number and 0 (zero) should be considered a positive element.\n",
    "\n",
    "<br>\n",
    "\n",
    "**Examples:**\n",
    ">**Input:** arr[] = [9, 4, -2, -1, 5, 0, -5, -3, 2]<br>\n",
    ">**Output:** 9 -2 4 -1 5 -5 0 -3 2<br>\n",
    ">**Explanation:** Positive elements: [9,4,5,0,2]<br>\n",
    ">Negative elements: [-2,-1,-5,-3]<br>\n",
    ">As we need to maintain the relative order of postive elements and negative elements we will pick each element from the positive and negative and will store them. If any of the positive and negative numbersare completed. we will continue with the remaining signed elements.<br>\n",
    ">The output is 9,-2,4,-1,5,-5,0,-3,2.\n",
    "\n",
    ">**Input:** arr[] = [-5, -2, 5, 2, 4, 7, 1, 8, 0, -8]<br>\n",
    ">**Output:** 5 -5 2 -2 4 -8 7 1 8 0<br>\n",
    ">**Explanation:** Positive elements: [5,2,4,7,1,8,0]<br>\n",
    ">Negative elements: [-5,-2,-8]<br>\n",
    ">The output is 5, -5, 2, -2, 4, -8, 7, 1, 8, 0.\n",
    "\n",
    "<br>\n",
    "\n",
    "**Expected Time Complexity:** O(n)<br>\n",
    "**Expected Auxiliary Space:** O(n)\n",
    "\n",
    "**Constraints:**\n",
    "- >1 ≤ arr.size() ≤ 10<sup>7</sup>\n",
    "- >-10<sup>6</sup> ≤ arr[i] ≤ 10<sup>7</sup>"
   ]
  },
  {
   "cell_type": "code",
   "execution_count": 1,
   "metadata": {},
   "outputs": [],
   "source": [
    "class Solution:\n",
    "    def rearrange(self, arr):\n",
    "        # code here\n",
    "        positives, negatives = [x for x in arr if x >= 0], [x for x in arr if x < 0]\n",
    "        result = []\n",
    "        \n",
    "        i, j = 0, 0\n",
    "        arr.clear()\n",
    "        \n",
    "        while i < len(positives) or j < len(negatives):\n",
    "            if i < len(positives):\n",
    "                arr.append(positives[i])\n",
    "                i += 1\n",
    "            \n",
    "            if j < len(negatives):\n",
    "                arr.append(negatives[j])\n",
    "                j += 1\n",
    "        \n",
    "        return result"
   ]
  }
 ],
 "metadata": {
  "kernelspec": {
   "display_name": "base",
   "language": "python",
   "name": "python3"
  },
  "language_info": {
   "codemirror_mode": {
    "name": "ipython",
    "version": 3
   },
   "file_extension": ".py",
   "mimetype": "text/x-python",
   "name": "python",
   "nbconvert_exporter": "python",
   "pygments_lexer": "ipython3",
   "version": "3.9.16"
  }
 },
 "nbformat": 4,
 "nbformat_minor": 2
}
