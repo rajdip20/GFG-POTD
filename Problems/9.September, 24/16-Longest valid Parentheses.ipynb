{
 "cells": [
  {
   "cell_type": "markdown",
   "metadata": {},
   "source": [
    "Given a string **str** consisting of opening and closing parenthesis **'('** and **')'**. Find length of the longest valid parenthesis substring.\n",
    "\n",
    "A parenthesis string is valid if:\n",
    "- For every opening parenthesis, there is a closing parenthesis.\n",
    "- Opening parenthesis must be closed in the correct order.\n",
    "\n",
    "<br>\n",
    "\n",
    "**Examples:**\n",
    ">**Input:** str = ((()<br>\n",
    ">**Output:** 2<br>\n",
    ">**Explaination:** The longest valid parenthesis substring is \"()\".\n",
    "\n",
    ">**Input:** str = )()())<br>\n",
    ">**Output:** 4<br>\n",
    ">**Explaination:** The longest valid parenthesis substring is \"()()\".\n",
    "\n",
    "<br>\n",
    "\n",
    "**Expected Time Complexity:** O(|str|)<br>\n",
    "**Expected Auxiliary Space:** O(|str|)\n",
    "\n",
    "**Constraints:**\n",
    "- >1 ≤ |str| ≤ 10<sup>5</sup>"
   ]
  },
  {
   "cell_type": "code",
   "execution_count": 1,
   "metadata": {},
   "outputs": [],
   "source": [
    "class Solution:\n",
    "    def maxLength(self, str):\n",
    "        # code here\n",
    "        left, right, max_len = 0, 0, 0\n",
    "        \n",
    "        for char in str:\n",
    "            if char == '(':\n",
    "                left += 1\n",
    "            else:\n",
    "                right += 1\n",
    "            if left == right:\n",
    "                max_len = max(max_len, 2 * right)\n",
    "            elif right > left:\n",
    "                left = right = 0\n",
    "        \n",
    "        left = right = 0\n",
    "        for char in reversed(str):\n",
    "            if char == '(':\n",
    "                left += 1\n",
    "            else:\n",
    "                right += 1\n",
    "            if left == right:\n",
    "                max_len = max(max_len, 2 * left)\n",
    "            elif left > right:\n",
    "                left = right = 0\n",
    "        \n",
    "        return max_len"
   ]
  }
 ],
 "metadata": {
  "kernelspec": {
   "display_name": "base",
   "language": "python",
   "name": "python3"
  },
  "language_info": {
   "codemirror_mode": {
    "name": "ipython",
    "version": 3
   },
   "file_extension": ".py",
   "mimetype": "text/x-python",
   "name": "python",
   "nbconvert_exporter": "python",
   "pygments_lexer": "ipython3",
   "version": "3.9.16"
  }
 },
 "nbformat": 4,
 "nbformat_minor": 2
}
