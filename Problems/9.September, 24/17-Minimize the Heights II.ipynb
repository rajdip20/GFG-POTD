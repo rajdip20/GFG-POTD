{
 "cells": [
  {
   "cell_type": "markdown",
   "metadata": {},
   "source": [
    "Given an array **arr[]** denoting heights of **N** towers and a positive integer **K**.\n",
    "\n",
    "For **each** tower, you must perform **exactly one** of the following operations **exactly once**.\n",
    "- **Increase** the height of the tower by **K**\n",
    "- **Decrease** the height of the tower by **K**\n",
    "\n",
    "Find out the **minimum** possible difference between the height of the shortest and tallest towers after you have modified each tower.\n",
    "\n",
    "You can find a slight modification of the problem [here](https://practice.geeksforgeeks.org/problems/minimize-the-heights-i/1/).<br>\n",
    "**Note:** It is **compulsory** to increase or decrease the height by K for each tower. **After** the operation, the resultant array should **not** contain any **negative integers**.\n",
    "\n",
    "<br>\n",
    "\n",
    "**Examples:**\n",
    ">**Input:** k = 2, arr[] = {1, 5, 8, 10}<br>\n",
    ">**Output:** 5<br>\n",
    ">**Explanation:** The array can be modified as {1+k, 5-k, 8-k, 10-k} = {3, 3, 6, 8}.The difference between the largest and the smallest is 8-3 = 5.\n",
    "\n",
    ">**Input:** k = 3, arr[] = {3, 9, 12, 16, 20}<br>\n",
    ">**Output:** 11<br>\n",
    ">**Explanation:** The array can be modified as {3+k, 9+k, 12-k, 16-k, 20-k} -> {6, 12, 9, 13, 17}.The difference between the largest and the smallest is 17-6 = 11.\n",
    "\n",
    "<br>\n",
    "\n",
    "**Expected Time Complexity:** O(n * logn)<br>\n",
    "**Expected Auxiliary Space:** O(n)\n",
    "\n",
    "**Constraints:**\n",
    "- >1 ≤ k ≤ 10<sup>7</sup>\n",
    "- >1 ≤ n ≤ 10<sup>5</sup>\n",
    "- >1 ≤ arr[i] ≤ 10<sup>7</sup>"
   ]
  },
  {
   "cell_type": "code",
   "execution_count": 1,
   "metadata": {},
   "outputs": [],
   "source": [
    "class Solution:\n",
    "    def getMinDiff(self, arr, k):\n",
    "        # code here\n",
    "        n = len(arr)\n",
    "        \n",
    "        if n == 1:\n",
    "            return 0\n",
    "        \n",
    "        arr.sort()\n",
    "        a, s, l = arr[-1] - arr[0], arr[0] + k, arr[-1] - k\n",
    "        \n",
    "        for i in range(n - 1):\n",
    "            m = min(s, arr[i+1] - k)\n",
    "            M = max(l, arr[i] + k)\n",
    "            \n",
    "            if m >= 0:\n",
    "                a = min(a, M - m)\n",
    "        \n",
    "        return a"
   ]
  }
 ],
 "metadata": {
  "kernelspec": {
   "display_name": "base",
   "language": "python",
   "name": "python3"
  },
  "language_info": {
   "codemirror_mode": {
    "name": "ipython",
    "version": 3
   },
   "file_extension": ".py",
   "mimetype": "text/x-python",
   "name": "python",
   "nbconvert_exporter": "python",
   "pygments_lexer": "ipython3",
   "version": "3.9.16"
  }
 },
 "nbformat": 4,
 "nbformat_minor": 2
}
