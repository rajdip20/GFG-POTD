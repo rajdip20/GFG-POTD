{
 "cells": [
  {
   "cell_type": "markdown",
   "metadata": {},
   "source": [
    "Given an expression string **x**. Examine whether the pairs and the orders of {,},(,),[,] are correct in exp.<br>\n",
    "For example, the function should return 'true' for exp = [()]{}{[()()]()} and 'false' for exp = [(]).\n",
    "\n",
    "**Note:** The **driver code** prints \"balanced\" if function return true, otherwise it prints \"not balanced\".\n",
    "\n",
    "<br>\n",
    "\n",
    "**Examples:**\n",
    ">**Input:** {([])}<br>\n",
    ">**Output:** true<br>\n",
    ">**Explanation:** { ( [ ] ) }. Same colored brackets can form balanced pairs, with 0 number of unbalanced bracket.\n",
    "\n",
    ">**Input:** ()<br>\n",
    ">**Output:** true<br>\n",
    ">**Explanation:** (). Same bracket can form balanced pairs,and here only 1 type of bracket is present and in balanced way.\n",
    "\n",
    ">**Input:** ([]<br>\n",
    ">**Output:** false<br>\n",
    ">**Explanation:** ([]. Here square bracket is balanced but the small bracket is not balanced and Hence , the output will be unbalanced.\n",
    "\n",
    "<br>\n",
    "\n",
    "**Expected Time Complexity:** O(|x|)<br>\n",
    "**Expected Auixilliary Space:** O(|x|)\n",
    "\n",
    "**Constraints:**\n",
    "- >1 ≤ |x| ≤ 10<sup>5</sup>"
   ]
  },
  {
   "cell_type": "code",
   "execution_count": 1,
   "metadata": {},
   "outputs": [],
   "source": [
    "class Solution:\n",
    "    # Function to check if brackets are balanced or not.\n",
    "    def ispar(self, x):\n",
    "        # code here\n",
    "        stack = []\n",
    "        bracket_map = {')': '(', '}': '{', ']': '['}\n",
    "        \n",
    "        for char in x:\n",
    "            if char in '({[':\n",
    "                stack.append(char)\n",
    "            elif char in ')}]':\n",
    "                if not stack or stack[-1] != bracket_map[char]:\n",
    "                    return False\n",
    "                stack.pop()\n",
    "        \n",
    "        return not stack"
   ]
  }
 ],
 "metadata": {
  "kernelspec": {
   "display_name": "base",
   "language": "python",
   "name": "python3"
  },
  "language_info": {
   "codemirror_mode": {
    "name": "ipython",
    "version": 3
   },
   "file_extension": ".py",
   "mimetype": "text/x-python",
   "name": "python",
   "nbconvert_exporter": "python",
   "pygments_lexer": "ipython3",
   "version": "3.9.16"
  }
 },
 "nbformat": 4,
 "nbformat_minor": 2
}
