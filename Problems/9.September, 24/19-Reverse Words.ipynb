{
 "cells": [
  {
   "cell_type": "markdown",
   "metadata": {},
   "source": [
    "Given a String str, reverse the string without reversing its individual words. Words are separated by dots.\n",
    "\n",
    "**Note:** The last character has not been '.'. \n",
    "\n",
    "<br>\n",
    "\n",
    "**Examples:**\n",
    ">**Input:** str = i.like.this.program.very.much<br>\n",
    ">**Output:** much.very.program.this.like.i<br>\n",
    ">**Explanation:** After reversing the whole string(not individual words), the input string becomes much.very.program.this.like.i\n",
    "\n",
    ">**Input:** str = pqr.mno<br>\n",
    ">**Output:** mno.pqr<br>\n",
    ">**Explanation:** After reversing the whole string , the input string becomes mno.pqr\n",
    "\n",
    "<br>\n",
    "\n",
    "**Expected Time Complexity:** O(|str|)<br>\n",
    "**Expected Auxiliary Space:** O(|str|)\n",
    "\n",
    "**Constraints:**\n",
    "- >1 <= |str| <= 10<sup>5</sup>"
   ]
  },
  {
   "cell_type": "code",
   "execution_count": 1,
   "metadata": {},
   "outputs": [],
   "source": [
    "class Solution:\n",
    "    # Function to reverse words in a given string.\n",
    "    def reverseWords(self, str):\n",
    "        # code here\n",
    "        words = str.split('.')\n",
    "    \n",
    "        reversed_words = words[::-1]\n",
    "        \n",
    "        result = '.'.join(reversed_words)\n",
    "        \n",
    "        return result"
   ]
  }
 ],
 "metadata": {
  "kernelspec": {
   "display_name": "base",
   "language": "python",
   "name": "python3"
  },
  "language_info": {
   "codemirror_mode": {
    "name": "ipython",
    "version": 3
   },
   "file_extension": ".py",
   "mimetype": "text/x-python",
   "name": "python",
   "nbconvert_exporter": "python",
   "pygments_lexer": "ipython3",
   "version": "3.9.16"
  }
 },
 "nbformat": 4,
 "nbformat_minor": 2
}
