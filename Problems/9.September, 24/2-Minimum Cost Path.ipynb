{
 "cells": [
  {
   "cell_type": "markdown",
   "metadata": {},
   "source": [
    "Given a square **grid** of size **N**, each cell of which contains an integer cost that represents a cost to traverse through that cell, we need to find a **path** from the **top left** cell to the **bottom right** cell by which the total cost incurred is **minimum**.<br>\n",
    "From the cell (i,j) we can go (i,j-1), (i, j+1), (i-1, j), (i+1, j).\n",
    "\n",
    "<br>\n",
    "\n",
    "**Examples:**\n",
    ">**Input:** grid = {{9,4,9,9},{6,7,6,4},{8,3,3,7},{7,4,9,10}}<br>\n",
    ">**Output:** 43<br>\n",
    ">**Explanation:** The grid is-<br>\n",
    ">9 4 9 9<br>\n",
    ">6 7 6 4<br>\n",
    ">8 3 3 7<br>\n",
    ">7 4 9 10<br>\n",
    ">The minimum cost is-<br>\n",
    ">9 + 4 + 7 + 3 + 3 + 7 + 10 = 43.\n",
    "\n",
    ">**Input:** grid = {{4,4},{3,7}}<br>\n",
    ">**Output:** 14<br>\n",
    ">**Explanation:** The grid is-<br>\n",
    ">4 4<br>\n",
    ">3 7<br>\n",
    ">The minimum cost is- 4 + 3 + 7 = 14.\n",
    "\n",
    "<br>\n",
    "\n",
    "**Expected Time Complexity:** O(n<sup>2</sup> * log(n))<br>\n",
    "**Expected Auxiliary Space:** O(n<sup>2</sup>) \n",
    "\n",
    "**Constraints:**\n",
    "- >1 ≤ n ≤ 500\n",
    "- >1 ≤ cost of cells ≤ 500"
   ]
  },
  {
   "cell_type": "code",
   "execution_count": 1,
   "metadata": {},
   "outputs": [],
   "source": [
    "class Solution:\n",
    "    # Function to return the minimum cost to react at bottom\n",
    "\t# right cell from top left cell.\n",
    "    def minimumCostPath(self, grid):\n",
    "\t\t# Code here\n",
    "        import heapq\n",
    "        n = len(grid)\n",
    "    \n",
    "        directions = [(-1, 0), (1, 0), (0, -1), (0, 1)]\n",
    "        dist = [[float('inf')] * n for _ in range(n)]\n",
    "        pq = []\n",
    "        \n",
    "        dist[0][0] = grid[0][0]\n",
    "        heapq.heappush(pq, (grid[0][0], 0, 0))\n",
    "        \n",
    "        while pq:\n",
    "            cost, x, y = heapq.heappop(pq)\n",
    "            \n",
    "            if x == n - 1 and y == n - 1:\n",
    "                return cost\n",
    "            \n",
    "            for dx, dy in directions:\n",
    "                nx, ny = x + dx, y + dy\n",
    "                \n",
    "                if 0 <= nx < n and 0 <= ny < n:\n",
    "                    new_cost = cost + grid[nx][ny]\n",
    "                    \n",
    "                    if new_cost < dist[nx][ny]:\n",
    "                        dist[nx][ny] = new_cost\n",
    "                        heapq.heappush(pq, (new_cost, nx, ny))\n",
    "        \n",
    "        return dist[n-1][n-1]"
   ]
  }
 ],
 "metadata": {
  "kernelspec": {
   "display_name": "base",
   "language": "python",
   "name": "python3"
  },
  "language_info": {
   "codemirror_mode": {
    "name": "ipython",
    "version": 3
   },
   "file_extension": ".py",
   "mimetype": "text/x-python",
   "name": "python",
   "nbconvert_exporter": "python",
   "pygments_lexer": "ipython3",
   "version": "3.9.16"
  }
 },
 "nbformat": 4,
 "nbformat_minor": 2
}
