{
 "cells": [
  {
   "cell_type": "markdown",
   "metadata": {},
   "source": [
    "Given an array **height** representing the heights of buildings. You have to count the buildings that will see the sunrise (Assume the sun rises on the side of the array starting point).<br>\n",
    "*Note:* The height of the building should be strictly greater than the height of the buildings left in order to see the sun.<br><br>\n",
    "![Building](../../images/Building.png)\n",
    "\n",
    "<br>\n",
    "\n",
    "**Examples:**\n",
    ">**Input:** height = [7, 4, 8, 2, 9]<br>\n",
    ">**Output:** 3<br>\n",
    ">**Explanation:** As 7 is the first element, it can see the sunrise. 4 can't see the sunrise as 7 is hiding it. 8 can see. 2 can't see the sunrise. 9 also can see the sunrise.\n",
    "\n",
    ">**Input:** height = [2, 3, 4, 5]<br>\n",
    ">**Output:** 4<br>\n",
    ">**Explanation:** As 2 is the first element, it can see the sunrise.  3 can see the sunrise as 2 is not hiding it. Same for 4 and 5, they also can see the sunrise.\n",
    "\n",
    "<br>\n",
    "\n",
    "**Expected Time Complexity:** O(n)<br>\n",
    "**Expected Auxiliary Space:** O(1)\n",
    "\n",
    "**Constraints:**\n",
    "- >1 ≤ height.size() ≤ 10<sup>6</sup>\n",
    "- >1 ≤ heighti ≤ 10<sup>8</sup>"
   ]
  },
  {
   "cell_type": "code",
   "execution_count": 1,
   "metadata": {},
   "outputs": [],
   "source": [
    "class Solution:\n",
    "    # Returns count buildings that can see sunlight\n",
    "    def countBuildings(self, height):\n",
    "        # code here\n",
    "        count = 0\n",
    "        max_height = float('-inf')\n",
    "\n",
    "        for h in height:\n",
    "            if h > max_height:\n",
    "                count += 1\n",
    "                max_height = h\n",
    "                \n",
    "        return count"
   ]
  }
 ],
 "metadata": {
  "kernelspec": {
   "display_name": "base",
   "language": "python",
   "name": "python3"
  },
  "language_info": {
   "codemirror_mode": {
    "name": "ipython",
    "version": 3
   },
   "file_extension": ".py",
   "mimetype": "text/x-python",
   "name": "python",
   "nbconvert_exporter": "python",
   "pygments_lexer": "ipython3",
   "version": "3.9.16"
  }
 },
 "nbformat": 4,
 "nbformat_minor": 2
}
