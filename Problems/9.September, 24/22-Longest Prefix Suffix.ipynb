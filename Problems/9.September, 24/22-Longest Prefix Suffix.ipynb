{
 "cells": [
  {
   "cell_type": "markdown",
   "metadata": {},
   "source": [
    "Given a string of characters, find the length of the longest proper prefix which is also a proper suffix.\n",
    "\n",
    "**NOTE:** Prefix and suffix can be overlapping but they should not be equal to the entire string.\n",
    "\n",
    "<br>\n",
    "\n",
    "**Examples:**\n",
    ">**Input:** str = \"abab\"<br>\n",
    ">**Output:** 2<br>\n",
    ">**Explanation:** \"ab\" is the longest proper prefix and suffix. \n",
    "\n",
    ">**Input:** str = \"aaaa\"<br>\n",
    ">**Output:** 3<br>\n",
    ">**Explanation:** \"aaa\" is the longest proper prefix and suffix. \n",
    "\n",
    "<br>\n",
    "\n",
    "**Expected Time Complexity:** O(|str|)<br>\n",
    "**Expected Auxiliary Space:** O(|str|)\n",
    "\n",
    "**Constraints:**\n",
    "- >1 ≤ |str| ≤ 10<sup>6</sup>\n",
    "- >str contains lower case English alphabets"
   ]
  },
  {
   "cell_type": "code",
   "execution_count": 1,
   "metadata": {},
   "outputs": [],
   "source": [
    "class Solution:\n",
    "    def lps(self, str):\n",
    "        # code here\n",
    "        n = len(str)\n",
    "        pi = [0] * n\n",
    "        \n",
    "        j = 0\n",
    "        for i in range(1, n):\n",
    "            while (j > 0 and str[i] != str[j]):\n",
    "                j = pi[j - 1]\n",
    "            \n",
    "            if str[i] == str[j]:\n",
    "                j += 1\n",
    "            \n",
    "            pi[i] = j\n",
    "        \n",
    "        return pi[-1]"
   ]
  }
 ],
 "metadata": {
  "kernelspec": {
   "display_name": "base",
   "language": "python",
   "name": "python3"
  },
  "language_info": {
   "codemirror_mode": {
    "name": "ipython",
    "version": 3
   },
   "file_extension": ".py",
   "mimetype": "text/x-python",
   "name": "python",
   "nbconvert_exporter": "python",
   "pygments_lexer": "ipython3",
   "version": "3.9.16"
  }
 },
 "nbformat": 4,
 "nbformat_minor": 2
}
