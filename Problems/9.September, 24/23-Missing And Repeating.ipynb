{
 "cells": [
  {
   "cell_type": "markdown",
   "metadata": {},
   "source": [
    "Given an unsorted array ***arr*** of of positive integers. One number **'A'** from set {1, 2,....,n} is missing and one number **'B'** occurs twice in array. Find numbers **A** and **B**.\n",
    "\n",
    "<br>\n",
    "\n",
    "**Examples:**\n",
    ">**Input:** arr[] = [2, 2]<br>\n",
    ">**Output:** 2 1<br>\n",
    ">**Explanation:** Repeating number is 2 and smallest positive missing number is 1.\n",
    "\n",
    ">**Input:** arr[] = [1, 3, 3] <br>\n",
    ">**Output:** 3 2<br>\n",
    ">**Explanation:** Repeating number is 3 and smallest positive missing number is 2.\n",
    "\n",
    "<br>\n",
    "\n",
    "**Expected Time Complexity:** O(n)<br>\n",
    "**Expected Auxiliary Space:** O(1)\n",
    "\n",
    "**Constraints:**\n",
    "- >2 ≤ n ≤ 10<sup>5</sup>\n",
    "- >1 ≤ arr[i] ≤ n"
   ]
  },
  {
   "cell_type": "code",
   "execution_count": 1,
   "metadata": {},
   "outputs": [],
   "source": [
    "class Solution:\n",
    "    def findTwoElement(self, arr): \n",
    "        # code here\n",
    "        n = len(arr)\n",
    "\n",
    "        for i in range(n):\n",
    "            while arr[i] != arr[arr[i] - 1]:\n",
    "                arr[arr[i] - 1], arr[i] = arr[i], arr[arr[i] - 1]\n",
    "        \n",
    "        for i in range(n):\n",
    "            if arr[i] != i + 1:\n",
    "                return arr[i], i + 1"
   ]
  }
 ],
 "metadata": {
  "kernelspec": {
   "display_name": "base",
   "language": "python",
   "name": "python3"
  },
  "language_info": {
   "codemirror_mode": {
    "name": "ipython",
    "version": 3
   },
   "file_extension": ".py",
   "mimetype": "text/x-python",
   "name": "python",
   "nbconvert_exporter": "python",
   "pygments_lexer": "ipython3",
   "version": "3.9.16"
  }
 },
 "nbformat": 4,
 "nbformat_minor": 2
}
