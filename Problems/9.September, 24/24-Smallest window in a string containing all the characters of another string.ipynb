{
 "cells": [
  {
   "cell_type": "markdown",
   "metadata": {},
   "source": [
    "Given two strings **s** and **p**. Find the smallest window in the string **s** consisting of all the characters **(including duplicates)** of the string **p**.  Return **\"-1\"** in case there is no such window present. In case there are multiple such windows of same length, return the one with the **least starting index**.\n",
    "**Note:** All characters are in Lowercase alphabets. \n",
    "\n",
    "<br>\n",
    "\n",
    "**Examples:**\n",
    ">**Input:** s = \"timetopractice\", p = \"toc\"<br>\n",
    ">**Output:** toprac<br>\n",
    ">**Explanation:** \"toprac\" is the smallest<br>\n",
    ">substring in which \"toc\" can be found.\n",
    "\n",
    ">**Input:** s = \"zoomlazapzo\", p = \"oza\"<br>\n",
    ">**Output:** apzo<br>\n",
    ">**Explanation:** \"apzo\" is the smallest <br>\n",
    ">substring in which \"oza\" can be found.\n",
    "\n",
    "<br>\n",
    "\n",
    "**Expected Time Complexity:** O(|s|)<br>\n",
    "**Expected Auxiliary Space:** O(n), n = len(p)\n",
    "\n",
    "**Constraints:** \n",
    "- >1 ≤ |s|, |p| ≤ 10<sup>5</sup>"
   ]
  },
  {
   "cell_type": "code",
   "execution_count": 1,
   "metadata": {},
   "outputs": [],
   "source": [
    "class Solution:\n",
    "    # Function to find the smallest window in the string s consisting\n",
    "    # of all the characters of string p.\n",
    "    def smallestWindow(self, s, p):\n",
    "        # code here\n",
    "        from collections import Counter\n",
    "\n",
    "        if len(p) > len(s):\n",
    "            return \"-1\"\n",
    "        \n",
    "        p_count = Counter(p)\n",
    "        \n",
    "        start = 0\n",
    "        min_len = float('inf')\n",
    "        min_start = 0\n",
    "        count = 0\n",
    "        \n",
    "        window_count = Counter()\n",
    "        \n",
    "        for end in range(len(s)):\n",
    "            window_count[s[end]] += 1\n",
    "            \n",
    "            if window_count[s[end]] <= p_count[s[end]]:\n",
    "                count += 1\n",
    "            \n",
    "            while count == len(p):\n",
    "                if end - start + 1 < min_len:\n",
    "                    min_len = end - start + 1\n",
    "                    min_start = start\n",
    "                \n",
    "                window_count[s[start]] -= 1\n",
    "                if window_count[s[start]] < p_count[s[start]]:\n",
    "                    count -= 1\n",
    "                \n",
    "                start += 1\n",
    "        \n",
    "        if min_len == float('inf'):\n",
    "            return \"-1\"\n",
    "        return s[min_start:min_start + min_len]"
   ]
  }
 ],
 "metadata": {
  "kernelspec": {
   "display_name": "base",
   "language": "python",
   "name": "python3"
  },
  "language_info": {
   "codemirror_mode": {
    "name": "ipython",
    "version": 3
   },
   "file_extension": ".py",
   "mimetype": "text/x-python",
   "name": "python",
   "nbconvert_exporter": "python",
   "pygments_lexer": "ipython3",
   "version": "3.9.16"
  }
 },
 "nbformat": 4,
 "nbformat_minor": 2
}
