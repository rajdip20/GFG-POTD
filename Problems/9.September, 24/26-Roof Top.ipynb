{
 "cells": [
  {
   "cell_type": "markdown",
   "metadata": {},
   "source": [
    "You are given the heights of consecutive buildings. You can move from the roof of a building to the roof of the next adjacent building. You need to find the maximum number of consecutive steps you can put forward such that you gain an increase in altitude with each step.\n",
    "\n",
    "<br>\n",
    "\n",
    "**Examples:**\n",
    ">**Input:** arr[] = [1, 2, 2, 3, 2]<br>\n",
    ">**Output:** 1<br>\n",
    ">**Explanation:** 1, 2, or 2, 3 are the only consecutive buildings with increasing heights thus maximum number of consecutive steps with an increase in gain in altitude would be 1 in both cases.\n",
    "\n",
    ">**Input:** arr[] = [1, 2, 3, 4]<br>\n",
    ">**Output:** 3<br>\n",
    ">**Explanation:** 1 to 2 to 3 to 4 is the jump of length 3 to have a maximum number of buildings with increasing heights, so maximum steps with increasing altitude becomes 3.\n",
    "\n",
    "<br>\n",
    "\n",
    "**Expected Time Complexity:** O(n)<br>\n",
    "**Expected Auxiliary Space:** O(1)\n",
    "\n",
    "**Constraints:**\n",
    "- >1 <= arr.size() <= 10<sup>6</sup>\n",
    "- >1 <= arr[i] <= 10<sup>5</sup>"
   ]
  },
  {
   "cell_type": "code",
   "execution_count": 1,
   "metadata": {},
   "outputs": [],
   "source": [
    "class Solution:\n",
    "    # Function to find maximum number of consecutive steps \n",
    "    # to gain an increase in altitude with each step.\n",
    "    def maxStep(self, arr):\n",
    "        # Your code here\n",
    "        max_steps = 0\n",
    "        current_steps = 0\n",
    "        \n",
    "        for i in range(1, len(arr)):\n",
    "            if arr[i] > arr[i - 1]:\n",
    "                current_steps += 1\n",
    "            else:\n",
    "                current_steps = 0\n",
    "            \n",
    "            max_steps = max(max_steps, current_steps)\n",
    "        \n",
    "        return max_steps"
   ]
  }
 ],
 "metadata": {
  "kernelspec": {
   "display_name": "base",
   "language": "python",
   "name": "python3"
  },
  "language_info": {
   "codemirror_mode": {
    "name": "ipython",
    "version": 3
   },
   "file_extension": ".py",
   "mimetype": "text/x-python",
   "name": "python",
   "nbconvert_exporter": "python",
   "pygments_lexer": "ipython3",
   "version": "3.9.16"
  }
 },
 "nbformat": 4,
 "nbformat_minor": 2
}
