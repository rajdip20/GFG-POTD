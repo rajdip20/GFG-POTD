{
 "cells": [
  {
   "cell_type": "markdown",
   "metadata": {},
   "source": [
    "Given an array arr[] and an integer k. Find the maximum for each and every contiguous subarray of size k.\n",
    "\n",
    "<br>\n",
    "\n",
    "**Examples:**\n",
    ">**Input:** k = 3, arr[] = [1, 2, 3, 1, 4, 5, 2, 3, 6]<br>\n",
    ">**Output:** [3, 3, 4, 5, 5, 5, 6] <br>\n",
    ">**Explanation:** <br>\n",
    ">1st contiguous subarray = [1 2 3] max = 3<br>\n",
    ">2nd contiguous subarray = [2 3 1] max = 3<br>\n",
    ">3rd contiguous subarray = [3 1 4] max = 4<br>\n",
    ">4th contiguous subarray = [1 4 5] max = 5<br>\n",
    ">5th contiguous subarray = [4 5 2] max = 5<br>\n",
    ">6th contiguous subarray = [5 2 3] max = 5<br>\n",
    ">7th contiguous subarray = [2 3 6] max = 6\n",
    "\n",
    ">**Input:** k = 4, arr[] = [8, 5, 10, 7, 9, 4, 15, 12, 90, 13]<br>\n",
    ">**Output:** [10, 10, 10, 15, 15, 90, 90]<br>\n",
    ">**Explanation:** <br>\n",
    ">1st contiguous subarray = [8 5 10 7], max = 10<br>\n",
    ">2nd contiguous subarray = [5 10 7 9], max = 10<br>\n",
    ">3rd contiguous subarray = [10 7 9 4], max = 10<br>\n",
    ">4th contiguous subarray = [7 9 4 15], max = 15<br>\n",
    ">5th contiguous subarray = [9 4 15 12], max = 15<br>\n",
    ">6th contiguous subarray = [4 15 12 90], max = 90<br>\n",
    ">7th contiguous subarray = {15 12 90 13}, max = 90\n",
    "\n",
    "<br>\n",
    "\n",
    "**Expected Time Complexity:** O(n)<br>\n",
    "**Expected Auxiliary Space:** O(k)\n",
    "\n",
    "**Constraints:**\n",
    "- >1 ≤ sizeof(arr) ≤ 10<sup>6</sup>\n",
    "- >1 ≤ k ≤ sizeof(arr)\n",
    "- >0 ≤ arr[i] ≤ 10<sup>9</sup>"
   ]
  },
  {
   "cell_type": "code",
   "execution_count": 1,
   "metadata": {},
   "outputs": [],
   "source": [
    "class Solution:\n",
    "    # Function to find maximum of each subarray of size k.\n",
    "    def max_of_subarrays(self, k, arr):  \n",
    "        # code here\n",
    "        from collections import deque\n",
    "\n",
    "        n = len(arr)\n",
    "        if n == 0:\n",
    "            return []\n",
    "        \n",
    "        dq = deque()\n",
    "        result = []\n",
    "        \n",
    "        for i in range(n):\n",
    "            if dq and dq[0] == i - k:\n",
    "                dq.popleft()\n",
    "            \n",
    "            while dq and arr[dq[-1]] < arr[i]:\n",
    "                dq.pop()\n",
    "            \n",
    "            dq.append(i)\n",
    "            \n",
    "            if i >= k - 1:\n",
    "                result.append(arr[dq[0]])\n",
    "        \n",
    "        return result"
   ]
  }
 ],
 "metadata": {
  "kernelspec": {
   "display_name": "base",
   "language": "python",
   "name": "python3"
  },
  "language_info": {
   "codemirror_mode": {
    "name": "ipython",
    "version": 3
   },
   "file_extension": ".py",
   "mimetype": "text/x-python",
   "name": "python",
   "nbconvert_exporter": "python",
   "pygments_lexer": "ipython3",
   "version": "3.9.16"
  }
 },
 "nbformat": 4,
 "nbformat_minor": 2
}
