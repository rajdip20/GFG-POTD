{
 "cells": [
  {
   "cell_type": "markdown",
   "metadata": {},
   "source": [
    "There is an array **arr** of heights of stone and Geek is standing at the first stone and can jump to one of the following: Stone i+1, i+2, ... i+k stone, where k is the maximum number of steps that can be jumped and cost will be |hi-hj| is incurred, where j is the stone to land on. Find the minimum possible total cost incurred before the Geek reaches the last stone.\n",
    "\n",
    "<br>\n",
    "\n",
    "**Example:**\n",
    ">**Input:** k = 3, arr[]= [10, 30, 40, 50, 20]<br>\n",
    ">**Output:** 30<br>\n",
    ">**Explanation:** Geek will follow the path 1->2->5, the total cost would be | 10-30| + |30-20| = 30, which is minimum\n",
    "\n",
    ">**Input:** k = 1, arr[]= [10, 20, 10]<br>\n",
    ">**Output:** 20<br>\n",
    ">**Explanation:** Geek will follow the path 1->2->3, the total cost would be |10 - 20| + |20 - 10| = 20.\n",
    "\n",
    "<br>\n",
    "\n",
    "**Expected Time Complexity:** O(n * k)<br>\n",
    "**Expected Auxilary Space:** O(n)\n",
    "\n",
    "**Constraint:**\n",
    "- >1 <= arr.size() <= 10<sup>4</sup>\n",
    "- >1 <= k <= 100\n",
    "- >1 <= arr[i] <= 10<sup>4</sup>"
   ]
  },
  {
   "cell_type": "code",
   "execution_count": 1,
   "metadata": {},
   "outputs": [],
   "source": [
    "class Solution:\n",
    "    def minimizeCost(self, k, arr):\n",
    "        # code here\n",
    "        n = len(arr)\n",
    "        dp = [float('inf')] * n\n",
    "        dp[0] = 0\n",
    "\n",
    "        for i in range(1, n):\n",
    "            for j in range(1, k + 1):\n",
    "                if i - j >= 0:\n",
    "                    dp[i] = min(dp[i], dp[i - j] + abs(arr[i] - arr[i - j]))\n",
    "        \n",
    "        return dp[-1]"
   ]
  }
 ],
 "metadata": {
  "kernelspec": {
   "display_name": "base",
   "language": "python",
   "name": "python3"
  },
  "language_info": {
   "codemirror_mode": {
    "name": "ipython",
    "version": 3
   },
   "file_extension": ".py",
   "mimetype": "text/x-python",
   "name": "python",
   "nbconvert_exporter": "python",
   "pygments_lexer": "ipython3",
   "version": "3.9.16"
  }
 },
 "nbformat": 4,
 "nbformat_minor": 2
}
