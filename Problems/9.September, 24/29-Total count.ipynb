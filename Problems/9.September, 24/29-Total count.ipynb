{
 "cells": [
  {
   "cell_type": "markdown",
   "metadata": {},
   "source": [
    "You are given an array **arr[]** of positive integers and a threshold value **k**. For each element in the array, divide it into the **minimum** number of small integers such that each divided integer is less than or equal to **k**. Compute the total number of these integer across all elements of the array.\n",
    "\n",
    "<br>\n",
    "\n",
    "**Examples:**\n",
    ">**Input:** k = 3, arr[] = [5, 8, 10, 13]<br>\n",
    ">**Output:** 14<br>\n",
    ">**Explanation:** Each number can be expressed as sum of different numbers less than or equal to k as 5 (3 + 2), 8 (3 + 3 + 2), 10 (3 + 3 + 3 + 1), 13 (3 + 3 + 3 + 3 + 1). So, the sum of count of each element is (2+3+4+5)=14.\n",
    "\n",
    ">**Input:** k = 4, arr[] = [10, 2, 3, 4, 7]<br>\n",
    ">**Output:** 8<br>\n",
    ">**Explanation:** Each number can be expressed as sum of different numbers less than or equal to k as 10 (4 + 4 + 2), 2 (2), 3 (3), 4 (4) and 7 (4 + 3).So, the sum of count of each element is (3 + 1 + 1 + 1 + 2) = 8.\n",
    "\n",
    "<br>\n",
    "\n",
    "**Expected Time Complexity:** O(n)<br>\n",
    "**Expected Auxiliary Space:** O(1)\n",
    "\n",
    "**Constraints:**\n",
    "- >1 ≤ arr.size() ≤ 10<sup>5</sup>\n",
    "- >0 ≤ arr[i] ≤ 10<sup>5</sup>\n",
    "- >1 ≤ k ≤ 10<sup>5</sup>"
   ]
  },
  {
   "cell_type": "code",
   "execution_count": 1,
   "metadata": {},
   "outputs": [],
   "source": [
    "class Solution:\n",
    "    def totalCount(self, k, arr):\n",
    "        # code here\n",
    "        total_pieces = 0\n",
    "        \n",
    "        for num in arr:\n",
    "            total_pieces += (num + k - 1) // k\n",
    "        \n",
    "        return total_pieces"
   ]
  }
 ],
 "metadata": {
  "kernelspec": {
   "display_name": "base",
   "language": "python",
   "name": "python3"
  },
  "language_info": {
   "codemirror_mode": {
    "name": "ipython",
    "version": 3
   },
   "file_extension": ".py",
   "mimetype": "text/x-python",
   "name": "python",
   "nbconvert_exporter": "python",
   "pygments_lexer": "ipython3",
   "version": "3.9.16"
  }
 },
 "nbformat": 4,
 "nbformat_minor": 2
}
