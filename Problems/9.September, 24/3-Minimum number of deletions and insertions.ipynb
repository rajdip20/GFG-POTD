{
 "cells": [
  {
   "cell_type": "markdown",
   "metadata": {},
   "source": [
    "Given two strings **str1** and **str2**. The task is to **remove or insert** the **minimum number** of characters from/in **str1** so as to transform it into **str2**. It could be possible that the same character needs to be removed/deleted from one point of **str1** and inserted to some another point.\n",
    "\n",
    "<br>\n",
    "\n",
    "**Examples:**\n",
    ">**Input:** str1 = \"heap\", str2 = \"pea\"<br>\n",
    ">**Output:** 3<br>\n",
    ">**Explanation:** 2 deletions and 1 insertion.<br>\n",
    ">**p** and **h** deleted from **heap**. Then, **p** is inserted at the beginning.<br>\n",
    ">One thing to note, though **p** was required yet it was removed/deleted first from its position and then it is inserted to some other position. Thus, **p** contributes one to the **deletion_count** and one to the **insertion_count**.\n",
    "\n",
    ">**Input:** str1 = \"geeksforgeeks\", str2 = \"geeks\"<br>\n",
    ">**Output:** 8<br>\n",
    ">**Explanation:** 8 deletions, i.e. remove all characters of the string \"forgeeks\".\n",
    "\n",
    "<br>\n",
    "\n",
    "**Expected Time Complexity:** O(|str1| * |str2|)<br>\n",
    "**Expected Space Complexity:** O(|str1| * |str2|)\n",
    "\n",
    "**Constraints:**\n",
    "- >1 ≤ |str1|, |str2| ≤ 1000\n",
    "- >All the characters are lowercase English alphabets"
   ]
  },
  {
   "cell_type": "code",
   "execution_count": 1,
   "metadata": {},
   "outputs": [],
   "source": [
    "class Solution:\n",
    "\tdef minOperations(self, s1, s2):\n",
    "\t\t# code here\n",
    "\t\tdp = [[0 for _ in range(len(s2))] for _ in range(len(s1))]\n",
    "\t\tfor i in range(len(s1)):\n",
    "\t\t\tfor j in range(len(s2)):\n",
    "\t\t\t\tdp[i][j] = max(dp[i][j - 1] if j - 1 >= 0 else 0, dp[i-1][j] if i - 1 >= 0 else 0)\n",
    "\t\t\t\tif s1[i] == s2[j]:\n",
    "\t\t\t\t\tdp[i][j] = (dp[i - 1][j - 1] if i - 1 >= 0 and j - 1 >= 0 else 0) + 1\n",
    "\t\treturn len(s1) + len(s2) - 2 * dp[-1][-1]"
   ]
  }
 ],
 "metadata": {
  "kernelspec": {
   "display_name": "base",
   "language": "python",
   "name": "python3"
  },
  "language_info": {
   "codemirror_mode": {
    "name": "ipython",
    "version": 3
   },
   "file_extension": ".py",
   "mimetype": "text/x-python",
   "name": "python",
   "nbconvert_exporter": "python",
   "pygments_lexer": "ipython3",
   "version": "3.9.16"
  }
 },
 "nbformat": 4,
 "nbformat_minor": 2
}
