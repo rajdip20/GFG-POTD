{
 "cells": [
  {
   "cell_type": "markdown",
   "metadata": {},
   "source": [
    "Given an array **arr** of size **n−1** that contains distinct integers in the range of 1 to n (inclusive), find the missing element. The array is a permutation of size n with one element missing. Return the missing element.\n",
    "\n",
    "<br>\n",
    "\n",
    "**Examples:**\n",
    ">**Input:** n = 5, arr[] = [1,2,3,5]<br>\n",
    ">**Output:** 4<br>\n",
    ">**Explanation:** All the numbers from 1 to 5 are present except 4.\n",
    "\n",
    ">**Input:** n = 2, arr[] = [1]<br>\n",
    ">**Output:** 2<br>\n",
    ">**Explanation:** All the numbers from 1 to 2 are present except 2.\n",
    "\n",
    "<br>\n",
    "\n",
    "**Expected Time Complexity:** O(n)<br>\n",
    "**Expected Auxiliary Space:** O(1)\n",
    "\n",
    "**Constraints:**\n",
    "- >1 ≤ n ≤ 10<sup>5</sup>\n",
    "- >1 ≤ arr[i] ≤ n"
   ]
  },
  {
   "cell_type": "code",
   "execution_count": 1,
   "metadata": {},
   "outputs": [],
   "source": [
    "class Solution:\n",
    "    # Note that the size of the array is n-1\n",
    "    def missingNumber(self, n, arr):\n",
    "        # code here\n",
    "        total_sum = n * (n + 1) // 2\n",
    "        arr_sum = sum(arr)\n",
    "        missing_element = total_sum - arr_sum\n",
    "        \n",
    "        return missing_element"
   ]
  }
 ],
 "metadata": {
  "kernelspec": {
   "display_name": "base",
   "language": "python",
   "name": "python3"
  },
  "language_info": {
   "codemirror_mode": {
    "name": "ipython",
    "version": 3
   },
   "file_extension": ".py",
   "mimetype": "text/x-python",
   "name": "python",
   "nbconvert_exporter": "python",
   "pygments_lexer": "ipython3",
   "version": "3.9.16"
  }
 },
 "nbformat": 4,
 "nbformat_minor": 2
}
