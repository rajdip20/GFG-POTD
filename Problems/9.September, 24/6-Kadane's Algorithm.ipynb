{
 "cells": [
  {
   "cell_type": "markdown",
   "metadata": {},
   "source": [
    "Given an integer array **arr[]**. Find the contiguous sub-array(containing at least one number) that has the maximum sum and return its sum.\n",
    "\n",
    "<br>\n",
    "\n",
    "**Examples:**\n",
    ">**Input:** arr[] = [1, 2, 3, -2, 5]<br>\n",
    ">**Output:** 9<br>\n",
    ">**Explanation:** Max subarray sum is 9 of elements (1, 2, 3, -2, 5) which is a contiguous subarray.\n",
    "\n",
    ">**Input:** arr[] = [-1, -2, -3, -4]<br>\n",
    ">**Output:** -1<br>\n",
    ">**Explanation:** Max subarray sum is -1 of element (-1)\n",
    "\n",
    ">**Input:** arr[] = [5, 4, 7]<br>\n",
    ">**Output:** 16<br>\n",
    ">**Explanation:** Max subarray sum is 16 of element (5, 4, 7)\n",
    "\n",
    "<br>\n",
    "\n",
    "**Expected Time Complexity:** O(n)<br>\n",
    "**Expected Auxiliary Space:** O(1)\n",
    "\n",
    "**Constraints:**\n",
    "- >1 ≤ arr.size() ≤ 10<sup>5</sup>\n",
    "- >-10<sup>7</sup> ≤ arr[i] ≤ 10<sup>7</sup>"
   ]
  },
  {
   "cell_type": "code",
   "execution_count": 1,
   "metadata": {},
   "outputs": [],
   "source": [
    "class Solution:\n",
    "    ## Complete this function\n",
    "    # Function to find the sum of contiguous subarray with maximum sum.\n",
    "    def maxSubArraySum(self, arr):\n",
    "        ## Your code here\n",
    "        current_sum = max_sum = arr[0]\n",
    "        \n",
    "        for num in arr[1:]:\n",
    "            current_sum = max(num, current_sum + num)   \n",
    "            max_sum = max(max_sum, current_sum)\n",
    "        \n",
    "        return max_sum"
   ]
  }
 ],
 "metadata": {
  "kernelspec": {
   "display_name": "base",
   "language": "python",
   "name": "python3"
  },
  "language_info": {
   "codemirror_mode": {
    "name": "ipython",
    "version": 3
   },
   "file_extension": ".py",
   "mimetype": "text/x-python",
   "name": "python",
   "nbconvert_exporter": "python",
   "pygments_lexer": "ipython3",
   "version": "3.9.16"
  }
 },
 "nbformat": 4,
 "nbformat_minor": 2
}
