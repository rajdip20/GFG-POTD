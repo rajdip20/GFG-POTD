{
 "cells": [
  {
   "cell_type": "markdown",
   "metadata": {},
   "source": [
    "Given a positive integer n. You have to find **n<sup>th</sup>** natural number after removing all the numbers containing the digit **9**.\n",
    "\n",
    "<br>\n",
    "\n",
    "**Examples:**\n",
    ">**Input:** n = 8<br>\n",
    ">**Output:** 8<br>\n",
    ">**Explanation:** After removing natural numbers which contains digit 9, first 8 numbers are 1,2,3,4,5,6,7,8 and 8<sup>th</sup> number is 8.\n",
    "\n",
    ">**Input:** n = 9<br>\n",
    ">**Output:** 10<br>\n",
    ">**Explanation:** After removing natural numbers which contains digit 9, first 9 numbers are 1,2,3,4,5,6,7,8,10 and 9<sup>th</sup> number is 10.\n",
    "\n",
    "<br>\n",
    "\n",
    "**Expected Time Complexity:** O(logn)<br>\n",
    "**Expected Auxiliary Space:** O(1)\n",
    "\n",
    "\n",
    "**Constraints:**\n",
    "- >1 ≤ n ≤ 10<sup>9</sup>"
   ]
  },
  {
   "cell_type": "code",
   "execution_count": 1,
   "metadata": {},
   "outputs": [],
   "source": [
    "class Solution:\n",
    "    def findNth(self, n):\n",
    "        # code here\n",
    "        result = 0\n",
    "        place = 1\n",
    "        \n",
    "        while n > 0:\n",
    "            result += (n % 9) * place\n",
    "            n //= 9\n",
    "            place *= 10\n",
    "        \n",
    "        return result"
   ]
  }
 ],
 "metadata": {
  "kernelspec": {
   "display_name": "base",
   "language": "python",
   "name": "python3"
  },
  "language_info": {
   "codemirror_mode": {
    "name": "ipython",
    "version": 3
   },
   "file_extension": ".py",
   "mimetype": "text/x-python",
   "name": "python",
   "nbconvert_exporter": "python",
   "pygments_lexer": "ipython3",
   "version": "3.9.16"
  }
 },
 "nbformat": 4,
 "nbformat_minor": 2
}
