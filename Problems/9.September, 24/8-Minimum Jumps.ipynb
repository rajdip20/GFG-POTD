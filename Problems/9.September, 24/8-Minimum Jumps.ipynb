{
 "cells": [
  {
   "cell_type": "markdown",
   "metadata": {},
   "source": [
    "Given an array **arr[]** of non-negative integers. Each array element represents the **maximum** length of the jumps that can be made forward from that element. This means if **arr[i] = x**, then we can jump any distance **y** such that **y ≤ x**.<br>\n",
    "Find the minimum number of jumps to reach the end of the array starting from the first element. If an element is **0**, then you cannot move through that element.<br>\n",
    "**Note:** Return -1 if you can't reach the end of the array.\n",
    "\n",
    "<br>\n",
    "\n",
    "**Examples:** \n",
    ">**Input:** arr[] = {1, 3, 5, 8, 9, 2, 6, 7, 6, 8, 9}<br>\n",
    ">**Output:** 3 <br>\n",
    ">**Explanation:** First jump from 1st element to 2nd element with value 3. From here we jump to 5th element with value 9, and from here we will jump to the last. \n",
    "\n",
    ">**Input:** arr = {1, 4, 3, 2, 6, 7}<br>\n",
    ">**Output:** 2 <br>\n",
    ">**Explanation:** First we jump from the 1st to 2nd element and then jump to the last element.\n",
    "\n",
    ">**Input:** arr = {0, 10, 20}<br>\n",
    ">**Output:** -1<br>\n",
    ">**Explanation:** We cannot go anywhere from the 1st element.\n",
    "\n",
    "<br>\n",
    "\n",
    "**Expected Time Complexity:** O(n)<br>\n",
    "**Expected Space Complexity:** O(1)\n",
    "\n",
    "**Constraints:**\n",
    "- >0 ≤ arr[i] ≤ 10<sup>5</sup>\n",
    "- >2 ≤ arr.size() ≤ 10<sup>6</sup>"
   ]
  },
  {
   "cell_type": "code",
   "execution_count": 1,
   "metadata": {},
   "outputs": [],
   "source": [
    "class Solution:\n",
    "    def minJumps(self, arr):\n",
    "        # code here\n",
    "        n = len(arr)\n",
    "        \n",
    "        if n == 1:\n",
    "            return 0\n",
    "        if arr[0] == 0:\n",
    "            return -1\n",
    "        \n",
    "        farthest = 0\n",
    "        end = 0\n",
    "        jumps = 0\n",
    "        \n",
    "        for i in range(n - 1):\n",
    "            farthest = max(farthest, i + arr[i])\n",
    "            \n",
    "            if i == end:\n",
    "                jumps += 1\n",
    "                end = farthest\n",
    "                \n",
    "                if end >= n - 1:\n",
    "                    return jumps\n",
    "        \n",
    "        return -1"
   ]
  }
 ],
 "metadata": {
  "kernelspec": {
   "display_name": "base",
   "language": "python",
   "name": "python3"
  },
  "language_info": {
   "codemirror_mode": {
    "name": "ipython",
    "version": 3
   },
   "file_extension": ".py",
   "mimetype": "text/x-python",
   "name": "python",
   "nbconvert_exporter": "python",
   "pygments_lexer": "ipython3",
   "version": "3.9.16"
  }
 },
 "nbformat": 4,
 "nbformat_minor": 2
}
