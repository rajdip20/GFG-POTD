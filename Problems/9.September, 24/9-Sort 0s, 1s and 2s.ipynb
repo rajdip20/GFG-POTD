{
 "cells": [
  {
   "cell_type": "markdown",
   "metadata": {},
   "source": [
    "Given an array **arr** containing only **0s, 1s, and 2s**. Sort the array in ascending order.\n",
    "\n",
    "<br>\n",
    "\n",
    "**Examples:**\n",
    ">**Input:** arr[]= [0, 2, 1, 2, 0]<br>\n",
    ">**Output:** 0 0 1 2 2<br>\n",
    ">**Explanation:** 0s 1s and 2s are segregated into ascending order.\n",
    "\n",
    ">**Input:** arr[] = [0, 1, 0]<br>\n",
    ">**Output:** 0 0 1<br>\n",
    ">**Explanation:** 0s 1s and 2s are segregated into ascending order.\n",
    "\n",
    "<br>\n",
    "\n",
    "**Expected Time Complexity:** O(n)<br>\n",
    "**Expected Auxiliary Space:** O(1)\n",
    "\n",
    "**Constraints:**\n",
    "- >1 <= arr.size() <= 10<sup>6</sup>\n",
    "- >0 <= arr[i] <= 2"
   ]
  },
  {
   "cell_type": "code",
   "execution_count": 1,
   "metadata": {},
   "outputs": [],
   "source": [
    "class Solution:\n",
    "    # Function to sort an array of 0s, 1s, and 2s\n",
    "    def sort012(self, arr):\n",
    "        # code here\n",
    "        low = 0\n",
    "        mid = 0\n",
    "        high = len(arr) - 1\n",
    "        \n",
    "        while mid <= high:\n",
    "            if arr[mid] == 0:\n",
    "                arr[low], arr[mid] = arr[mid], arr[low]\n",
    "                low += 1\n",
    "                mid += 1\n",
    "            elif arr[mid] == 1:\n",
    "                mid += 1\n",
    "            else:\n",
    "                arr[high], arr[mid] = arr[mid], arr[high]\n",
    "                high -= 1"
   ]
  }
 ],
 "metadata": {
  "kernelspec": {
   "display_name": "base",
   "language": "python",
   "name": "python3"
  },
  "language_info": {
   "codemirror_mode": {
    "name": "ipython",
    "version": 3
   },
   "file_extension": ".py",
   "mimetype": "text/x-python",
   "name": "python",
   "nbconvert_exporter": "python",
   "pygments_lexer": "ipython3",
   "version": "3.9.16"
  }
 },
 "nbformat": 4,
 "nbformat_minor": 2
}
